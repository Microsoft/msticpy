{
 "cells": [
  {
   "cell_type": "markdown",
   "metadata": {},
   "source": [
    "# Title: msticpy - nbwidgets\n",
    "## Description:\n",
    "This contains a few aggregated widgets using IPyWidgets that help speed things up during an investigation.\n",
    "\n"
   ]
  },
  {
   "cell_type": "markdown",
   "metadata": {},
   "source": [
    "<a id='contents'></a>\n",
    "## Table of Contents\n",
    "- [Setting query start/end times](#QueryTime)\n",
    "- [Simple time range](#Lookback)\n",
    "- [Selecting and Displaying Alerts](#AlertSelector)\n",
    "- [Selecting from list or dict](#SelectString)\n",
    "- [Getting a value from environment](#GetEnvironmentKey)\n"
   ]
  },
  {
   "cell_type": "code",
   "execution_count": 1,
   "metadata": {
    "ExecuteTime": {
     "end_time": "2019-12-19T22:12:36.439490Z",
     "start_time": "2019-12-19T22:12:34.694845Z"
    },
    "scrolled": true
   },
   "outputs": [],
   "source": [
    "# Imports\n",
    "import sys\n",
    "MIN_REQ_PYTHON = (3,6)\n",
    "if sys.version_info < MIN_REQ_PYTHON:\n",
    "    print('Check the Kernel->Change Kernel menu and ensure that Python 3.6')\n",
    "    print('or later is selected as the active kernel.')\n",
    "    sys.exit(\"Python %s.%s or later is required.\\n\" % MIN_REQ_PYTHON)\n",
    "\n",
    "from IPython.display import display, Markdown\n",
    "import pandas as pd\n",
    "# Import nbtools package\n",
    "from msticpy.nbtools import *\n"
   ]
  },
  {
   "cell_type": "markdown",
   "metadata": {},
   "source": [
    "<a id='QueryTime'></a>[Contents](#contents)\n",
    "## QueryTime\n",
    "\n",
    "This widget is used to specify time boundaries - designed to be used with the built-in msticpy queries and custom queries.\n",
    "The `start` and `end` times are exposed as datetime properties.\n",
    "\n",
    "```\n",
    "QueryTime.\n",
    "\n",
    "Composite widget to capture date and time origin\n",
    "and set start and end times for queries.\n",
    "\n",
    "Parameters\n",
    "----------\n",
    "QueryParamProvider : QueryParamProvider\n",
    "    Abstract base class\n",
    "\n",
    "Parameters\n",
    "----------\n",
    "origin_time : datetime, optional\n",
    "    The origin time (the default is `datetime.utcnow()`)\n",
    "label : str, optional\n",
    "    The description to display\n",
    "    (the default is 'Select time ({units}) to look back')\n",
    "before : int, optional\n",
    "    The default number of `units` before the `origin_time`\n",
    "    (the default is 60)\n",
    "after : int, optional\n",
    "    The default number of `units` after the `origin_time`\n",
    "    (the default is 10)\n",
    "max_before : int, optional\n",
    "    The largest value for `before` (the default is 600)\n",
    "max_after : int, optional\n",
    "    The largest value for `after` (the default is 100)\n",
    "units : str, optional\n",
    "    Time unit (the default is 'min')\n",
    "    Permissable values are 'day', 'hour', 'minute', 'second'\n",
    "    These can all be abbreviated down to initial characters\n",
    "    ('d', 'm', etc.)\n",
    "auto_display : bool, optional\n",
    "    Whether to display on instantiation (the default is False)\n",
    "```"
   ]
  },
  {
   "cell_type": "code",
   "execution_count": 2,
   "metadata": {
    "ExecuteTime": {
     "end_time": "2019-12-19T22:12:42.494790Z",
     "start_time": "2019-12-19T22:12:42.453819Z"
    },
    "tags": []
   },
   "outputs": [
    {
     "data": {
      "application/vnd.jupyter.widget-view+json": {
       "model_id": "7ab5a0c39d564c5ba29206ca62f9cae5",
       "version_major": 2,
       "version_minor": 0
      },
      "text/plain": [
       "HTML(value='<h4>Set query time boundaries</h4>')"
      ]
     },
     "metadata": {},
     "output_type": "display_data"
    },
    {
     "data": {
      "application/vnd.jupyter.widget-view+json": {
       "model_id": "03ead320ba2848c29ec11f8c125dc5ff",
       "version_major": 2,
       "version_minor": 0
      },
      "text/plain": [
       "HBox(children=(DatePicker(value=datetime.date(2020, 8, 11), description='Origin Date'), Text(value='18:26:32.8…"
      ]
     },
     "metadata": {},
     "output_type": "display_data"
    },
    {
     "data": {
      "application/vnd.jupyter.widget-view+json": {
       "model_id": "1bde4e869e8848a9b2ed8378bd194928",
       "version_major": 2,
       "version_minor": 0
      },
      "text/plain": [
       "VBox(children=(IntRangeSlider(value=(-5, 1), description='Time Range (day):', layout=Layout(width='80%'), max=…"
      ]
     },
     "metadata": {},
     "output_type": "display_data"
    }
   ],
   "source": [
    "q_times = nbwidgets.QueryTime(units='day', max_before=20, before=5, max_after=1)\n",
    "q_times.display()"
   ]
  },
  {
   "cell_type": "code",
   "execution_count": 3,
   "metadata": {
    "ExecuteTime": {
     "end_time": "2019-09-02T23:37:00.573557Z",
     "start_time": "2019-09-02T23:37:00.569561Z"
    }
   },
   "outputs": [
    {
     "name": "stdout",
     "output_type": "stream",
     "text": [
      "2020-08-06 18:26:32.817254 .... 2020-08-12 18:26:32.817254\n"
     ]
    }
   ],
   "source": [
    "print(q_times.start, '....', q_times.end)"
   ]
  },
  {
   "cell_type": "markdown",
   "metadata": {},
   "source": [
    "Keep multiple query boundaries aligged by having QueryTime instances reference the time of the same alert or event, or have them chained from one another by referencing the origin_time of an earlier QueryTimes object"
   ]
  },
  {
   "cell_type": "code",
   "execution_count": 4,
   "metadata": {
    "ExecuteTime": {
     "end_time": "2019-12-19T22:29:50.924729Z",
     "start_time": "2019-12-19T22:29:50.845790Z"
    },
    "scrolled": true
   },
   "outputs": [
    {
     "data": {
      "application/vnd.jupyter.widget-view+json": {
       "model_id": "73c834e20f14415d8816971ddaf56351",
       "version_major": 2,
       "version_minor": 0
      },
      "text/plain": [
       "HTML(value='<h4>Set query time boundaries</h4>')"
      ]
     },
     "metadata": {},
     "output_type": "display_data"
    },
    {
     "data": {
      "application/vnd.jupyter.widget-view+json": {
       "model_id": "269b45fdbd984138a14d34c320d2bf79",
       "version_major": 2,
       "version_minor": 0
      },
      "text/plain": [
       "HBox(children=(DatePicker(value=datetime.date(2020, 7, 27), description='Origin Date'), Text(value='18:26:32.9…"
      ]
     },
     "metadata": {},
     "output_type": "display_data"
    },
    {
     "data": {
      "application/vnd.jupyter.widget-view+json": {
       "model_id": "a01bc6f6c069433fb617d726e9aa085b",
       "version_major": 2,
       "version_minor": 0
      },
      "text/plain": [
       "VBox(children=(IntRangeSlider(value=(-1, 6), description='Time Range (hour):', layout=Layout(width='80%'), max…"
      ]
     },
     "metadata": {},
     "output_type": "display_data"
    },
    {
     "data": {
      "application/vnd.jupyter.widget-view+json": {
       "model_id": "2eaf07f9a66347be90506a38e9a6d169",
       "version_major": 2,
       "version_minor": 0
      },
      "text/plain": [
       "HTML(value='<h4>Set query time boundaries</h4>')"
      ]
     },
     "metadata": {},
     "output_type": "display_data"
    },
    {
     "data": {
      "application/vnd.jupyter.widget-view+json": {
       "model_id": "f5cdef53f52f43a88b483a404057e685",
       "version_major": 2,
       "version_minor": 0
      },
      "text/plain": [
       "HBox(children=(DatePicker(value=datetime.date(2020, 7, 27), description='Origin Date'), Text(value='18:26:32.9…"
      ]
     },
     "metadata": {},
     "output_type": "display_data"
    },
    {
     "data": {
      "application/vnd.jupyter.widget-view+json": {
       "model_id": "aab75cd19aac4acca30d8720c57948e2",
       "version_major": 2,
       "version_minor": 0
      },
      "text/plain": [
       "VBox(children=(IntRangeSlider(value=(-4, 6), description='Time Range (hour):', layout=Layout(width='80%'), max…"
      ]
     },
     "metadata": {},
     "output_type": "display_data"
    }
   ],
   "source": [
    "from datetime import datetime, timedelta\n",
    "class MyAlert:\n",
    "    pass\n",
    "alert = MyAlert()\n",
    "alert.TimeGenerated = datetime.utcnow() - timedelta(15)\n",
    "alert.TimeGenerated\n",
    "\n",
    "q_times1 = nbwidgets.QueryTime(units='hour', max_before=20, before=1, max_after=1, \n",
    "                             origin_time=alert.TimeGenerated, auto_display=True)\n",
    "\n",
    "q_times2 = nbwidgets.QueryTime(units='hour', max_before=20, before=4, max_after=2, \n",
    "                             origin_time=alert.TimeGenerated, auto_display=True)"
   ]
  },
  {
   "cell_type": "code",
   "execution_count": 5,
   "metadata": {
    "ExecuteTime": {
     "end_time": "2019-12-19T22:29:53.682587Z",
     "start_time": "2019-12-19T22:29:53.608644Z"
    },
    "scrolled": true
   },
   "outputs": [
    {
     "data": {
      "application/vnd.jupyter.widget-view+json": {
       "model_id": "bf9b8a4b4d5b4182900f00f75bb26d6c",
       "version_major": 2,
       "version_minor": 0
      },
      "text/plain": [
       "HTML(value='<h4>Set query time boundaries</h4>')"
      ]
     },
     "metadata": {},
     "output_type": "display_data"
    },
    {
     "data": {
      "application/vnd.jupyter.widget-view+json": {
       "model_id": "bcc002fe904f4f1f8033dc7e9034fade",
       "version_major": 2,
       "version_minor": 0
      },
      "text/plain": [
       "HBox(children=(DatePicker(value=datetime.date(2020, 8, 11), description='Origin Date'), Text(value='18:26:33.0…"
      ]
     },
     "metadata": {},
     "output_type": "display_data"
    },
    {
     "data": {
      "application/vnd.jupyter.widget-view+json": {
       "model_id": "8f28c61000354c26a6521bba4f89caaa",
       "version_major": 2,
       "version_minor": 0
      },
      "text/plain": [
       "VBox(children=(IntRangeSlider(value=(-1, 6), description='Time Range (hour):', layout=Layout(width='80%'), max…"
      ]
     },
     "metadata": {},
     "output_type": "display_data"
    },
    {
     "data": {
      "application/vnd.jupyter.widget-view+json": {
       "model_id": "fa42d2283eea41589bca63a1626c7949",
       "version_major": 2,
       "version_minor": 0
      },
      "text/plain": [
       "HTML(value='<h4>Set query time boundaries</h4>')"
      ]
     },
     "metadata": {},
     "output_type": "display_data"
    },
    {
     "data": {
      "application/vnd.jupyter.widget-view+json": {
       "model_id": "1c2f3102820a48628eb4d18d2956488c",
       "version_major": 2,
       "version_minor": 0
      },
      "text/plain": [
       "HBox(children=(DatePicker(value=datetime.date(2020, 7, 27), description='Origin Date'), Text(value='18:26:32.9…"
      ]
     },
     "metadata": {},
     "output_type": "display_data"
    },
    {
     "data": {
      "application/vnd.jupyter.widget-view+json": {
       "model_id": "8b6c9ce98b3d4d16ac0f4a17d418ecdb",
       "version_major": 2,
       "version_minor": 0
      },
      "text/plain": [
       "VBox(children=(IntRangeSlider(value=(-4, 6), description='Time Range (hour):', layout=Layout(width='80%'), max…"
      ]
     },
     "metadata": {},
     "output_type": "display_data"
    }
   ],
   "source": [
    "alert.TimeGenerated = datetime.utcnow()\n",
    "q_times1 = nbwidgets.QueryTime(units='hour', max_before=20, before=1, max_after=1, \n",
    "                             origin_time=alert.TimeGenerated, auto_display=True)\n",
    "\n",
    "q_times2 = nbwidgets.QueryTime(units='hour', max_before=20, before=4, max_after=2, \n",
    "                             origin_time=q_times2.origin_time, auto_display=True)"
   ]
  },
  {
   "cell_type": "code",
   "execution_count": 6,
   "metadata": {
    "ExecuteTime": {
     "end_time": "2019-09-02T23:37:04.725203Z",
     "start_time": "2019-09-02T23:37:04.721208Z"
    },
    "scrolled": true
   },
   "outputs": [
    {
     "name": "stdout",
     "output_type": "stream",
     "text": [
      "\n",
      "SecurityAlert \n",
      "| where TimeGenerated >= datetime(2020-08-11 17:26:33.035251)\n",
      "| where TimeGenerated <= datetime(2020-08-12 00:26:33.035251)\n"
     ]
    }
   ],
   "source": [
    "# Use the values in a query\n",
    "my_kql = f'''\n",
    "SecurityAlert \n",
    "| where TimeGenerated >= datetime({q_times1.start})\n",
    "| where TimeGenerated <= datetime({q_times1.end})'''\n",
    "print(my_kql)"
   ]
  },
  {
   "cell_type": "markdown",
   "metadata": {},
   "source": [
    "<a id='Lookback'></a>[Contents](#contents)\n",
    "## Lookback\n",
    "Simpler version with single slider value\n",
    "\n",
    "Docstring:\n",
    "`nbtools.Lookback?`"
   ]
  },
  {
   "cell_type": "code",
   "execution_count": 7,
   "metadata": {
    "ExecuteTime": {
     "end_time": "2019-12-19T22:29:59.905261Z",
     "start_time": "2019-12-19T22:29:59.893270Z"
    },
    "scrolled": true
   },
   "outputs": [
    {
     "data": {
      "application/vnd.jupyter.widget-view+json": {
       "model_id": "ab3c2e4a642042d7b27fecf1955dbb55",
       "version_major": 2,
       "version_minor": 0
      },
      "text/plain": [
       "IntSlider(value=6, description='Select time (hour) to look back', layout=Layout(height='50px', width='60%'), m…"
      ]
     },
     "metadata": {},
     "output_type": "display_data"
    }
   ],
   "source": [
    "alert.TimeGenerated = datetime.utcnow() - timedelta(5)\n",
    "lb = nbwidgets.Lookback(origin_time=alert.TimeGenerated, auto_display=True, max_value=48)"
   ]
  },
  {
   "cell_type": "code",
   "execution_count": 8,
   "metadata": {
    "ExecuteTime": {
     "end_time": "2019-09-02T23:37:09.268885Z",
     "start_time": "2019-09-02T23:37:09.265888Z"
    },
    "tags": []
   },
   "outputs": [
    {
     "name": "stdout",
     "output_type": "stream",
     "text": [
      "2020-08-06 12:26:33.192258 .... 2020-08-06 18:26:33.192258\n"
     ]
    }
   ],
   "source": [
    "print(lb.start, '....', lb.end)"
   ]
  },
  {
   "cell_type": "markdown",
   "metadata": {},
   "source": [
    "<a id='AlertSelector'></a>[Contents](#contents)\n",
    "## Alert Browser\n",
    "\n",
    "```\n",
    "SelectAlert.\n",
    "\n",
    "View list of alerts and select one for investigation.\n",
    "Optionally provide and action to call with the selected alert as a parameter\n",
    "(typically used to display the alert.)\n",
    "\n",
    "Attributes:\n",
    "    selected_alert: the selected alert\n",
    "    alert_id: the ID of the selected alert\n",
    "    alerts: the current alert list (DataFrame)\n",
    "Init docstring:\n",
    "Create a new instance of AlertSelector.\n",
    "\n",
    "Parameters\n",
    "----------\n",
    "alerts : pd.DataFrame\n",
    "    DataFrame of alerts.\n",
    "action : Callable[..., None], optional\n",
    "    Optional function to execute for each selected alert.\n",
    "    (the default is None)\n",
    "columns : list, optional\n",
    "    Override the default column names to use from `alerts`\n",
    "    (the default is ['StartTimeUtc', 'AlertName',\n",
    "    'CompromisedEntity', 'SystemAlertId'])\n",
    "auto_display : bool, optional\n",
    "    Whether to display on instantiation (the default is False)\n",
    "```"
   ]
  },
  {
   "cell_type": "markdown",
   "metadata": {},
   "source": [
    "### Simple alert selector\n",
    "Selected alert is available as `select_alert_widget.selected_alert` property"
   ]
  },
  {
   "cell_type": "code",
   "execution_count": 9,
   "metadata": {
    "ExecuteTime": {
     "end_time": "2019-12-19T22:33:01.169572Z",
     "start_time": "2019-12-19T22:33:01.108619Z"
    }
   },
   "outputs": [
    {
     "data": {
      "text/markdown": [
       "### Simple alert selector"
      ],
      "text/plain": [
       "<IPython.core.display.Markdown object>"
      ]
     },
     "metadata": {},
     "output_type": "display_data"
    },
    {
     "data": {
      "text/markdown": [
       "Selected alert is available as `select_alert_widget.selected_alert`"
      ],
      "text/plain": [
       "<IPython.core.display.Markdown object>"
      ]
     },
     "metadata": {},
     "output_type": "display_data"
    },
    {
     "data": {
      "application/vnd.jupyter.widget-view+json": {
       "model_id": "7a2e863ef7294da186b934a20bc80047",
       "version_major": 2,
       "version_minor": 0
      },
      "text/plain": [
       "VBox(children=(Text(value='', description='Filter alerts by title:', style=DescriptionStyle(description_width=…"
      ]
     },
     "metadata": {},
     "output_type": "display_data"
    },
    {
     "data": {
      "text/html": [
       "<hr>"
      ],
      "text/plain": [
       "<IPython.core.display.HTML object>"
      ]
     },
     "metadata": {},
     "output_type": "display_data"
    }
   ],
   "source": [
    "# Load test data\n",
    "alerts = pd.read_csv('data/alertlist.csv')\n",
    "\n",
    "display(Markdown('### Simple alert selector'))\n",
    "display(Markdown('Selected alert is available as `select_alert_widget.selected_alert`'))\n",
    "alert_select = nbwidgets.SelectAlert(alerts=alerts)\n",
    "alert_select.display()"
   ]
  },
  {
   "cell_type": "markdown",
   "metadata": {},
   "source": [
    "### Alert selector with action=SecurityAlert'\n",
    "You can pass a function that returns one or more displayable objects.\n",
    "You can also pass a class (in this case we're passing `SecurityAlert`) that produces an IPython displayable object.\n",
    "\n",
    "The `action` class/function is passed the raw alert row as a parameter, as it is selected from the list"
   ]
  },
  {
   "cell_type": "code",
   "execution_count": 10,
   "metadata": {
    "ExecuteTime": {
     "end_time": "2019-12-19T22:33:22.044868Z",
     "start_time": "2019-12-19T22:33:21.987913Z"
    }
   },
   "outputs": [
    {
     "data": {
      "application/vnd.jupyter.widget-view+json": {
       "model_id": "aa15905569164e7ca6215afebaab61b4",
       "version_major": 2,
       "version_minor": 0
      },
      "text/plain": [
       "VBox(children=(Text(value='', description='Filter alerts by title:', style=DescriptionStyle(description_width=…"
      ]
     },
     "metadata": {},
     "output_type": "display_data"
    },
    {
     "data": {
      "text/html": [
       "<hr>"
      ],
      "text/plain": [
       "<IPython.core.display.HTML object>"
      ]
     },
     "metadata": {},
     "output_type": "display_data"
    },
    {
     "data": {
      "text/html": [
       "\n",
       "            <h3>Alert: 'DC local group addition - Demo'</h3>\n",
       "            <b>Alert_time:</b> 2019-01-11 06:31:40,\n",
       "            <b>Compr_entity:</b> nan,\n",
       "            <b>Alert_id:</b> 047f47d6-79b7-4502-824b-97abc4905a73\n",
       "            <table border=\"1\" class=\"dataframe\">\n",
       "  <thead>\n",
       "    <tr style=\"text-align: right;\">\n",
       "      <th></th>\n",
       "      <th>0</th>\n",
       "    </tr>\n",
       "  </thead>\n",
       "  <tbody>\n",
       "    <tr>\n",
       "      <th>Unnamed: 0</th>\n",
       "      <td>0</td>\n",
       "    </tr>\n",
       "    <tr>\n",
       "      <th>TenantId</th>\n",
       "      <td>802d39e1-9d70-404d-832c-2de5e2478eda</td>\n",
       "    </tr>\n",
       "    <tr>\n",
       "      <th>StartTimeUtc</th>\n",
       "      <td>2019-01-11 06:31:40</td>\n",
       "    </tr>\n",
       "    <tr>\n",
       "      <th>EndTimeUtc</th>\n",
       "      <td>2019-01-12 06:31:40</td>\n",
       "    </tr>\n",
       "    <tr>\n",
       "      <th>ProviderAlertId</th>\n",
       "      <td>e0c9484b-ad5f-4161-b73b-388676c05818</td>\n",
       "    </tr>\n",
       "    <tr>\n",
       "      <th>SystemAlertId</th>\n",
       "      <td>047f47d6-79b7-4502-824b-97abc4905a73</td>\n",
       "    </tr>\n",
       "    <tr>\n",
       "      <th>ProviderName</th>\n",
       "      <td>CustomAlertRule</td>\n",
       "    </tr>\n",
       "    <tr>\n",
       "      <th>VendorName</th>\n",
       "      <td>Alert Rule</td>\n",
       "    </tr>\n",
       "    <tr>\n",
       "      <th>AlertType</th>\n",
       "      <td>DC local group addition - Demo</td>\n",
       "    </tr>\n",
       "    <tr>\n",
       "      <th>AlertName</th>\n",
       "      <td>DC local group addition - Demo</td>\n",
       "    </tr>\n",
       "    <tr>\n",
       "      <th>AlertDisplayName</th>\n",
       "      <td>DC local group addition - Demo</td>\n",
       "    </tr>\n",
       "    <tr>\n",
       "      <th>Description</th>\n",
       "      <td>Domain controllers local group addition</td>\n",
       "    </tr>\n",
       "    <tr>\n",
       "      <th>Severity</th>\n",
       "      <td>Low</td>\n",
       "    </tr>\n",
       "    <tr>\n",
       "      <th>IsIncident</th>\n",
       "      <td>False</td>\n",
       "    </tr>\n",
       "    <tr>\n",
       "      <th>ExtendedProperties</th>\n",
       "      <td>{'Alert Mode': 'Aggregated', 'Search Query': '{\"detailBladeInputs\":{\"id\":\"/subscriptions/3c1bb38c-82e3-4f8d-a115-a7110ba70d05/resourcegroups/contoso77/providers/microsoft.operationalinsights/workspaces/contoso77\",\"parameters\":{\"q\":\"SecurityEvent\\n| where EventID == 4625\\n| extend IPCustomEntity = \\\"75.10.91.22\\\"\\n| extend HostCustomEntity = Computer\\n| extend AccountCustomEntity = Account\",\"timeInterval\":{\"intervalDuration\":86400,\"intervalEnd\":\"2019-01-12T06%3A31%3A40.000Z\"}}},\"detailBlade\":\"SearchBlade\",\"displayValue\":\"SecurityEvent\\n| where EventID == 4625\\n| extend IPCustomEntity = \\\"75.10.91.22\\\"\\n| extend HostCustomEntity = Computer\\n| extend AccountCustomEntity = Account\",\"extension\":\"Microsoft_OperationsManagementSuite_Workspace\",\"kind\":\"OpenBlade\"}', 'Search Query Results Overall Count': '23034', 'Threshold Operator': 'Greater Than', 'Threshold Value': '10000', 'Query Interval in Minutes': '1440', 'Suppression in Minutes': '800', 'Total Account Entities': '1563', 'Total IP Entities': '1', 'Total Host Entities': '1'}</td>\n",
       "    </tr>\n",
       "    <tr>\n",
       "      <th>Entities</th>\n",
       "      <td>[{'$id': '3', 'Address': '75.10.91.22', 'Type': 'ip', 'Count': 23034}, {'$id': '4', 'HostName': 'DHCPContoso77', 'Type': 'host', 'Count': 23034}, {'$id': '5', 'Name': 'ADMINISTRATOR', 'NTDomain': '', 'Host': {'$ref': '4'}, 'IsDomainJoined': False, 'Type': 'account', 'Count': 5909}, {'$id': '6', 'Name': 'ADMIN', 'NTDomain': '', 'Host': {'$ref': '4'}, 'IsDomainJoined': False, 'Type': 'account', 'Count': 878}, {'$id': '7', 'Name': 'USER', 'NTDomain': '', 'Host': {'$ref': '4'}, 'IsDomainJoined': False, 'Type': 'account', 'Count': 486}]</td>\n",
       "    </tr>\n",
       "    <tr>\n",
       "      <th>ConfidenceLevel</th>\n",
       "      <td>Unknown</td>\n",
       "    </tr>\n",
       "    <tr>\n",
       "      <th>ConfidenceScore</th>\n",
       "      <td>NaN</td>\n",
       "    </tr>\n",
       "    <tr>\n",
       "      <th>ExtendedLinks</th>\n",
       "      <td>NaN</td>\n",
       "    </tr>\n",
       "    <tr>\n",
       "      <th>WorkspaceSubscriptionId</th>\n",
       "      <td>3c1bb38c-82e3-4f8d-a115-a7110ba70d05</td>\n",
       "    </tr>\n",
       "    <tr>\n",
       "      <th>WorkspaceResourceGroup</th>\n",
       "      <td>contoso77</td>\n",
       "    </tr>\n",
       "    <tr>\n",
       "      <th>TimeGenerated</th>\n",
       "      <td>2019-01-12 06:41:44</td>\n",
       "    </tr>\n",
       "    <tr>\n",
       "      <th>ResourceId</th>\n",
       "      <td>NaN</td>\n",
       "    </tr>\n",
       "    <tr>\n",
       "      <th>SourceComputerId</th>\n",
       "      <td>NaN</td>\n",
       "    </tr>\n",
       "    <tr>\n",
       "      <th>CompromisedEntity</th>\n",
       "      <td>NaN</td>\n",
       "    </tr>\n",
       "  </tbody>\n",
       "</table><br/><h3>ExtendedProperties:</h3><table border=\"1\" class=\"dataframe\">\n",
       "  <thead>\n",
       "    <tr style=\"text-align: right;\">\n",
       "      <th></th>\n",
       "      <th>0</th>\n",
       "    </tr>\n",
       "  </thead>\n",
       "  <tbody>\n",
       "    <tr>\n",
       "      <th>Alert Mode</th>\n",
       "      <td>Aggregated</td>\n",
       "    </tr>\n",
       "    <tr>\n",
       "      <th>Search Query</th>\n",
       "      <td>{\"detailBladeInputs\":{\"id\":\"/subscriptions/3c1bb38c-82e3-4f8d-a115-a7110ba70d05/resourcegroups/contoso77/providers/microsoft.operationalinsights/workspaces/contoso77\",\"parameters\":{\"q\":\"SecurityEvent\\n| where EventID == 4625\\n| extend IPCustomEntity = \\\"75.10.91.22\\\"\\n| extend HostCustomEntity = Computer\\n| extend AccountCustomEntity = Account\",\"timeInterval\":{\"intervalDuration\":86400,\"intervalEnd\":\"2019-01-12T06%3A31%3A40.000Z\"}}},\"detailBlade\":\"SearchBlade\",\"displayValue\":\"SecurityEvent\\n| where EventID == 4625\\n| extend IPCustomEntity = \\\"75.10.91.22\\\"\\n| extend HostCustomEntity = Computer\\n| extend AccountCustomEntity = Account\",\"extension\":\"Microsoft_OperationsManagementSuite_Workspace\",\"kind\":\"OpenBlade\"}</td>\n",
       "    </tr>\n",
       "    <tr>\n",
       "      <th>Search Query Results Overall Count</th>\n",
       "      <td>23034</td>\n",
       "    </tr>\n",
       "    <tr>\n",
       "      <th>Threshold Operator</th>\n",
       "      <td>Greater Than</td>\n",
       "    </tr>\n",
       "    <tr>\n",
       "      <th>Threshold Value</th>\n",
       "      <td>10000</td>\n",
       "    </tr>\n",
       "    <tr>\n",
       "      <th>Query Interval in Minutes</th>\n",
       "      <td>1440</td>\n",
       "    </tr>\n",
       "    <tr>\n",
       "      <th>Suppression in Minutes</th>\n",
       "      <td>800</td>\n",
       "    </tr>\n",
       "    <tr>\n",
       "      <th>Total Account Entities</th>\n",
       "      <td>1563</td>\n",
       "    </tr>\n",
       "    <tr>\n",
       "      <th>Total IP Entities</th>\n",
       "      <td>1</td>\n",
       "    </tr>\n",
       "    <tr>\n",
       "      <th>Total Host Entities</th>\n",
       "      <td>1</td>\n",
       "    </tr>\n",
       "  </tbody>\n",
       "</table><h3>Entity counts: </h3>ip: 1, host: 1, account: 3"
      ],
      "text/plain": [
       "SecurityAlert(Unnamed: 0=0, TenantId=802d39e1-9d70-404d-832c-2de5e2478eda, StartTimeUtc=2019-0...)"
      ]
     },
     "metadata": {},
     "output_type": "display_data"
    }
   ],
   "source": [
    "alert_select = nbwidgets.SelectAlert(alerts=alerts, action=SecurityAlert)\n",
    "alert_select.display()"
   ]
  },
  {
   "cell_type": "code",
   "execution_count": 11,
   "metadata": {
    "ExecuteTime": {
     "end_time": "2019-12-19T22:39:52.652753Z",
     "start_time": "2019-12-19T22:39:52.584806Z"
    },
    "scrolled": true
   },
   "outputs": [
    {
     "data": {
      "text/markdown": [
       "### Or a more detailed display with extracted entities"
      ],
      "text/plain": [
       "<IPython.core.display.Markdown object>"
      ]
     },
     "metadata": {},
     "output_type": "display_data"
    },
    {
     "data": {
      "application/vnd.jupyter.widget-view+json": {
       "model_id": "9ddbf734d1ca412ebef489f05641219d",
       "version_major": 2,
       "version_minor": 0
      },
      "text/plain": [
       "VBox(children=(Text(value='', description='Filter alerts by title:', style=DescriptionStyle(description_width=…"
      ]
     },
     "metadata": {},
     "output_type": "display_data"
    },
    {
     "data": {
      "text/html": [
       "<hr>"
      ],
      "text/plain": [
       "<IPython.core.display.HTML object>"
      ]
     },
     "metadata": {},
     "output_type": "display_data"
    },
    {
     "data": {
      "text/html": [
       "\n",
       "            <h3>Alert: 'Suspicious Account Creation Detected'</h3>\n",
       "            <b>Alert_time:</b> 2019-01-15 09:15:03,\n",
       "            <b>Compr_entity:</b> MSTICALERTSWIN1,\n",
       "            <b>Alert_id:</b> 2518547570966661760_526e34b6-6578-4fc0-9db6-e126b4d673f0\n",
       "            <table border=\"1\" class=\"dataframe\">\n",
       "  <thead>\n",
       "    <tr style=\"text-align: right;\">\n",
       "      <th></th>\n",
       "      <th>45</th>\n",
       "    </tr>\n",
       "  </thead>\n",
       "  <tbody>\n",
       "    <tr>\n",
       "      <th>Unnamed: 0</th>\n",
       "      <td>45</td>\n",
       "    </tr>\n",
       "    <tr>\n",
       "      <th>TenantId</th>\n",
       "      <td>802d39e1-9d70-404d-832c-2de5e2478eda</td>\n",
       "    </tr>\n",
       "    <tr>\n",
       "      <th>StartTimeUtc</th>\n",
       "      <td>2019-01-15 09:15:03</td>\n",
       "    </tr>\n",
       "    <tr>\n",
       "      <th>EndTimeUtc</th>\n",
       "      <td>2019-01-15 09:15:03</td>\n",
       "    </tr>\n",
       "    <tr>\n",
       "      <th>ProviderAlertId</th>\n",
       "      <td>526e34b6-6578-4fc0-9db6-e126b4d673f0</td>\n",
       "    </tr>\n",
       "    <tr>\n",
       "      <th>SystemAlertId</th>\n",
       "      <td>2518547570966661760_526e34b6-6578-4fc0-9db6-e126b4d673f0</td>\n",
       "    </tr>\n",
       "    <tr>\n",
       "      <th>ProviderName</th>\n",
       "      <td>Detection</td>\n",
       "    </tr>\n",
       "    <tr>\n",
       "      <th>VendorName</th>\n",
       "      <td>Microsoft</td>\n",
       "    </tr>\n",
       "    <tr>\n",
       "      <th>AlertType</th>\n",
       "      <td>Suspicious Account Creation Detected</td>\n",
       "    </tr>\n",
       "    <tr>\n",
       "      <th>AlertName</th>\n",
       "      <td>Suspicious Account Creation Detected</td>\n",
       "    </tr>\n",
       "    <tr>\n",
       "      <th>AlertDisplayName</th>\n",
       "      <td>Suspicious Account Creation Detected</td>\n",
       "    </tr>\n",
       "    <tr>\n",
       "      <th>Description</th>\n",
       "      <td>Analysis of host data on MSTICALERTSWIN1 detected creation or use of a local account adm1nistrator : this account name closely resembles a standard Windows account or group name 'administrator'. This is potentially a rogue account created by an attacker, so named in order to avoid being noticed by a human administrator.</td>\n",
       "    </tr>\n",
       "    <tr>\n",
       "      <th>Severity</th>\n",
       "      <td>Medium</td>\n",
       "    </tr>\n",
       "    <tr>\n",
       "      <th>IsIncident</th>\n",
       "      <td>False</td>\n",
       "    </tr>\n",
       "    <tr>\n",
       "      <th>ExtendedProperties</th>\n",
       "      <td>{'Compromised Host': 'MSTICALERTSWIN1', 'User Name': 'adm1nistrator', 'Account Session Id': '0x0', 'Suspicious Process': 'c:\\windows\\system32\\net.exe', 'Suspicious Command Line': 'net  user adm1nistrator bob_testing /add', 'Parent Process': 'c:\\windows\\system32\\cmd.exe', 'Suspicious Process Id': '0x141c', 'Suspicious Account Name': 'adm1nistrator', 'Similar To Account Name': 'administrator', 'resourceType': 'Virtual Machine', 'ServiceId': '14fa08c7-c48e-4c18-950c-8148024b4398', 'ReportingSystem': 'Azure', 'OccuringDatacenter': 'eastus'}</td>\n",
       "    </tr>\n",
       "    <tr>\n",
       "      <th>Entities</th>\n",
       "      <td>[{'$id': '4', 'DnsDomain': '', 'NTDomain': '', 'HostName': 'MSTICALERTSWIN1', 'NetBiosName': 'MSTICALERTSWIN1', 'OSFamily': 'Windows', 'OSVersion': 'Windows', 'IsDomainJoined': False, 'Type': 'host'}, {'$id': '5', 'Name': 'adm1nistrator', 'Host': {'$ref': '4'}, 'Type': 'account', 'LogonId': '0x0'}, {'$id': '6', 'Directory': 'c:\\windows\\system32', 'Name': 'cmd.exe', 'Type': 'file'}, {'$id': '7', 'ProcessId': '0x165c', 'CommandLine': '', 'ImageFile': {'$ref': '6'}, 'Host': {'$ref': '4'}, 'Type': 'process'}, {'$id': '8', 'Name': 'MSTICAdmin', 'NTDomain': 'MSTICAlertsWin1', 'Sid': 'S-1-5-21-996632719-2361334927-4038480536-500', 'IsDomainJoined': False, 'Type': 'account', 'LogonId': '0x13bded7'}, {'$id': '9', 'Directory': 'c:\\windows\\system32', 'Name': 'net.exe', 'Type': 'file'}, {'$id': '10', 'ProcessId': '0x141c', 'CommandLine': 'net  user adm1nistrator bob_testing /add', 'ElevationToken': 'Default', 'CreationTimeUtc': '2019-01-15T09:15:03.3338239Z', 'ImageFile': {'$ref': '9'}, 'Account': {'$ref': '8'}, 'ParentProcess': {'$ref': '7'}, 'Host': {'$ref': '4'}, 'Type': 'process'}, {'$id': '11', 'SessionId': '0x0', 'StartTimeUtc': '2019-01-15T09:15:03.3338239Z', 'EndTimeUtc': '2019-01-15T09:15:03.3338239Z', 'Type': 'host-logon-session', 'Host': {'$ref': '4'}, 'Account': {'$ref': '5'}}]</td>\n",
       "    </tr>\n",
       "    <tr>\n",
       "      <th>ConfidenceLevel</th>\n",
       "      <td>Unknown</td>\n",
       "    </tr>\n",
       "    <tr>\n",
       "      <th>ConfidenceScore</th>\n",
       "      <td>NaN</td>\n",
       "    </tr>\n",
       "    <tr>\n",
       "      <th>ExtendedLinks</th>\n",
       "      <td>NaN</td>\n",
       "    </tr>\n",
       "    <tr>\n",
       "      <th>WorkspaceSubscriptionId</th>\n",
       "      <td>3c1bb38c-82e3-4f8d-a115-a7110ba70d05</td>\n",
       "    </tr>\n",
       "    <tr>\n",
       "      <th>WorkspaceResourceGroup</th>\n",
       "      <td>contoso77</td>\n",
       "    </tr>\n",
       "    <tr>\n",
       "      <th>TimeGenerated</th>\n",
       "      <td>2019-01-15 09:15:08</td>\n",
       "    </tr>\n",
       "    <tr>\n",
       "      <th>ResourceId</th>\n",
       "      <td>/subscriptions/40dcc8bf-0478-4f3b-b275-ed0a94f2c013/resourceGroups/ASIHuntOMSWorkspaceRG/providers/Microsoft.Compute/virtualMachines/MSTICAlertsWin1</td>\n",
       "    </tr>\n",
       "    <tr>\n",
       "      <th>SourceComputerId</th>\n",
       "      <td>46fe7078-61bb-4bed-9430-7ac01d91c273</td>\n",
       "    </tr>\n",
       "    <tr>\n",
       "      <th>CompromisedEntity</th>\n",
       "      <td>MSTICALERTSWIN1</td>\n",
       "    </tr>\n",
       "  </tbody>\n",
       "</table><br/><h3>ExtendedProperties:</h3><table border=\"1\" class=\"dataframe\">\n",
       "  <thead>\n",
       "    <tr style=\"text-align: right;\">\n",
       "      <th></th>\n",
       "      <th>0</th>\n",
       "    </tr>\n",
       "  </thead>\n",
       "  <tbody>\n",
       "    <tr>\n",
       "      <th>Compromised Host</th>\n",
       "      <td>MSTICALERTSWIN1</td>\n",
       "    </tr>\n",
       "    <tr>\n",
       "      <th>User Name</th>\n",
       "      <td>adm1nistrator</td>\n",
       "    </tr>\n",
       "    <tr>\n",
       "      <th>Account Session Id</th>\n",
       "      <td>0x0</td>\n",
       "    </tr>\n",
       "    <tr>\n",
       "      <th>Suspicious Process</th>\n",
       "      <td>c:\\windows\\system32\\net.exe</td>\n",
       "    </tr>\n",
       "    <tr>\n",
       "      <th>Suspicious Command Line</th>\n",
       "      <td>net  user adm1nistrator bob_testing /add</td>\n",
       "    </tr>\n",
       "    <tr>\n",
       "      <th>Parent Process</th>\n",
       "      <td>c:\\windows\\system32\\cmd.exe</td>\n",
       "    </tr>\n",
       "    <tr>\n",
       "      <th>Suspicious Process Id</th>\n",
       "      <td>0x141c</td>\n",
       "    </tr>\n",
       "    <tr>\n",
       "      <th>Suspicious Account Name</th>\n",
       "      <td>adm1nistrator</td>\n",
       "    </tr>\n",
       "    <tr>\n",
       "      <th>Similar To Account Name</th>\n",
       "      <td>administrator</td>\n",
       "    </tr>\n",
       "    <tr>\n",
       "      <th>resourceType</th>\n",
       "      <td>Virtual Machine</td>\n",
       "    </tr>\n",
       "    <tr>\n",
       "      <th>ServiceId</th>\n",
       "      <td>14fa08c7-c48e-4c18-950c-8148024b4398</td>\n",
       "    </tr>\n",
       "    <tr>\n",
       "      <th>ReportingSystem</th>\n",
       "      <td>Azure</td>\n",
       "    </tr>\n",
       "    <tr>\n",
       "      <th>OccuringDatacenter</th>\n",
       "      <td>eastus</td>\n",
       "    </tr>\n",
       "  </tbody>\n",
       "</table><br/><h3>Entities:</h3><br/>{ &#x27;AdditionalData&#x27;: {},,   &#x27;DnsDomain&#x27;: &#x27;&#x27;,,   &#x27;HostName&#x27;: &#x27;MSTICALERTSWIN1&#x27;,,   &#x27;IsDomainJoined&#x27;: False,,   &#x27;NTDomain&#x27;: &#x27;&#x27;,,   &#x27;NetBiosName&#x27;: &#x27;MSTICALERTSWIN1&#x27;,,   &#x27;OSFamily&#x27;: &#x27;Windows&#x27;,,   &#x27;Type&#x27;: &#x27;host&#x27;}<br/>{ &#x27;AdditionalData&#x27;: {},,   &#x27;Host&#x27;: { &#x27;AdditionalData&#x27;: {},,             &#x27;DnsDomain&#x27;: &#x27;&#x27;,,             &#x27;HostName&#x27;: &#x27;MSTICALERTSWIN1&#x27;,,             &#x27;IsDomainJoined&#x27;: False,,             &#x27;NTDomain&#x27;: &#x27;&#x27;,,             &#x27;NetBiosName&#x27;: &#x27;MSTICALERTSWIN1&#x27;,,             &#x27;OSFamily&#x27;: &#x27;Windows&#x27;,,             &#x27;Type&#x27;: &#x27;host&#x27;},,   &#x27;LogonId&#x27;: &#x27;0x0&#x27;,,   &#x27;Name&#x27;: &#x27;adm1nistrator&#x27;,,   &#x27;Type&#x27;: &#x27;account&#x27;}<br/>{ &#x27;AdditionalData&#x27;: {},,   &#x27;Directory&#x27;: &#x27;c:\\\\windows\\\\system32&#x27;,,   &#x27;FullPath&#x27;: &#x27;c:\\\\windows\\\\system32\\\\cmd.exe&#x27;,,   &#x27;Name&#x27;: &#x27;cmd.exe&#x27;,,   &#x27;Type&#x27;: &#x27;file&#x27;}<br/>{ &#x27;AdditionalData&#x27;: {},,   &#x27;CommandLine&#x27;: &#x27;&#x27;,,   &#x27;Host&#x27;: { &#x27;AdditionalData&#x27;: {},,             &#x27;DnsDomain&#x27;: &#x27;&#x27;,,             &#x27;HostName&#x27;: &#x27;MSTICALERTSWIN1&#x27;,,             &#x27;IsDomainJoined&#x27;: False,,             &#x27;NTDomain&#x27;: &#x27;&#x27;,,             &#x27;NetBiosName&#x27;: &#x27;MSTICALERTSWIN1&#x27;,,             &#x27;OSFamily&#x27;: &#x27;Windows&#x27;,,             &#x27;Type&#x27;: &#x27;host&#x27;},,   &#x27;ImageFile&#x27;: { &#x27;AdditionalData&#x27;: {},,                  &#x27;Directory&#x27;: &#x27;c:\\\\windows\\\\system32&#x27;,,                  &#x27;FullPath&#x27;: &#x27;c:\\\\windows\\\\system32\\\\cmd.exe&#x27;,,                  &#x27;Name&#x27;: &#x27;cmd.exe&#x27;,,                  &#x27;Type&#x27;: &#x27;file&#x27;},,   &#x27;ProcessId&#x27;: &#x27;0x165c&#x27;,,   &#x27;Type&#x27;: &#x27;process&#x27;}<br/>{ &#x27;AdditionalData&#x27;: {},,   &#x27;IsDomainJoined&#x27;: False,,   &#x27;LogonId&#x27;: &#x27;0x13bded7&#x27;,,   &#x27;NTDomain&#x27;: &#x27;MSTICAlertsWin1&#x27;,,   &#x27;Name&#x27;: &#x27;MSTICAdmin&#x27;,,   &#x27;Sid&#x27;: &#x27;S-1-5-21-996632719-2361334927-4038480536-500&#x27;,,   &#x27;Type&#x27;: &#x27;account&#x27;}<br/>{ &#x27;AdditionalData&#x27;: {},,   &#x27;Directory&#x27;: &#x27;c:\\\\windows\\\\system32&#x27;,,   &#x27;FullPath&#x27;: &#x27;c:\\\\windows\\\\system32\\\\net.exe&#x27;,,   &#x27;Name&#x27;: &#x27;net.exe&#x27;,,   &#x27;Type&#x27;: &#x27;file&#x27;}<br/>{ &#x27;Account&#x27;: { &#x27;AdditionalData&#x27;: {},,                &#x27;IsDomainJoined&#x27;: False,,                &#x27;LogonId&#x27;: &#x27;0x13bded7&#x27;,,                &#x27;NTDomain&#x27;: &#x27;MSTICAlertsWin1&#x27;,,                &#x27;Name&#x27;: &#x27;MSTICAdmin&#x27;,,                &#x27;Sid&#x27;: &#x27;S-1-5-21-996632719-2361334927-4038480536-500&#x27;,,                &#x27;Type&#x27;: &#x27;account&#x27;},,   &#x27;AdditionalData&#x27;: {},,   &#x27;CommandLine&#x27;: &#x27;net  user adm1nistrator bob_testing /add&#x27;,,   &#x27;CreationTimeUtc&#x27;: &#x27;2019-01-15T09:15:03.3338239Z&#x27;,,   &#x27;ElevationToken&#x27;: &#x27;Default&#x27;,,   &#x27;Host&#x27;: { &#x27;AdditionalData&#x27;: {},,             &#x27;DnsDomain&#x27;: &#x27;&#x27;,,             &#x27;HostName&#x27;: &#x27;MSTICALERTSWIN1&#x27;,,             &#x27;IsDomainJoined&#x27;: False,,             &#x27;NTDomain&#x27;: &#x27;&#x27;,,             &#x27;NetBiosName&#x27;: &#x27;MSTICALERTSWIN1&#x27;,,             &#x27;OSFamily&#x27;: &#x27;Windows&#x27;,,             &#x27;Type&#x27;: &#x27;host&#x27;},,   &#x27;ImageFile&#x27;: { &#x27;AdditionalData&#x27;: {},,                  &#x27;Directory&#x27;: &#x27;c:\\\\windows\\\\system32&#x27;,,                  &#x27;FullPath&#x27;: &#x27;c:\\\\windows\\\\system32\\\\net.exe&#x27;,,                  &#x27;Name&#x27;: &#x27;net.exe&#x27;,,                  &#x27;Type&#x27;: &#x27;file&#x27;},,   &#x27;ParentProcess&#x27;: { &#x27;AdditionalData&#x27;: {},,                      &#x27;CommandLine&#x27;: &#x27;&#x27;,,                      &#x27;Host&#x27;: { &#x27;AdditionalData&#x27;: {},,                                &#x27;DnsDomain&#x27;: &#x27;&#x27;,,                                &#x27;HostName&#x27;: &#x27;MSTICALERTSWIN1&#x27;,,                                &#x27;IsDomainJoined&#x27;: False,,                                &#x27;NTDomain&#x27;: &#x27;&#x27;,,                                &#x27;NetBiosName&#x27;: &#x27;MSTICALERTSWIN1&#x27;,,                                &#x27;OSFamily&#x27;: &#x27;Windows&#x27;,,                                &#x27;Type&#x27;: &#x27;host&#x27;},,                      &#x27;ImageFile&#x27;: { &#x27;AdditionalData&#x27;: {},,                                     &#x27;Directory&#x27;: &#x27;c:\\\\windows\\\\system32&#x27;,,                                     &#x27;FullPath&#x27;: &#x27;c:\\\\windows\\\\system32\\\\cmd.exe&#x27;,,                                     &#x27;Name&#x27;: &#x27;cmd.exe&#x27;,,                                     &#x27;Type&#x27;: &#x27;file&#x27;},,                      &#x27;ProcessId&#x27;: &#x27;0x165c&#x27;,,                      &#x27;Type&#x27;: &#x27;process&#x27;},,   &#x27;ProcessId&#x27;: &#x27;0x141c&#x27;,,   &#x27;Type&#x27;: &#x27;process&#x27;}<br/>{ &#x27;Account&#x27;: { &#x27;AdditionalData&#x27;: {},,                &#x27;Host&#x27;: { &#x27;AdditionalData&#x27;: {},,                          &#x27;DnsDomain&#x27;: &#x27;&#x27;,,                          &#x27;HostName&#x27;: &#x27;MSTICALERTSWIN1&#x27;,,                          &#x27;IsDomainJoined&#x27;: False,,                          &#x27;NTDomain&#x27;: &#x27;&#x27;,,                          &#x27;NetBiosName&#x27;: &#x27;MSTICALERTSWIN1&#x27;,,                          &#x27;OSFamily&#x27;: &#x27;Windows&#x27;,,                          &#x27;Type&#x27;: &#x27;host&#x27;},,                &#x27;LogonId&#x27;: &#x27;0x0&#x27;,,                &#x27;Name&#x27;: &#x27;adm1nistrator&#x27;,,                &#x27;Type&#x27;: &#x27;account&#x27;},,   &#x27;AdditionalData&#x27;: {},,   &#x27;EndTimeUtc&#x27;: &#x27;2019-01-15T09:15:03.3338239Z&#x27;,,   &#x27;Host&#x27;: { &#x27;AdditionalData&#x27;: {},,             &#x27;DnsDomain&#x27;: &#x27;&#x27;,,             &#x27;HostName&#x27;: &#x27;MSTICALERTSWIN1&#x27;,,             &#x27;IsDomainJoined&#x27;: False,,             &#x27;NTDomain&#x27;: &#x27;&#x27;,,             &#x27;NetBiosName&#x27;: &#x27;MSTICALERTSWIN1&#x27;,,             &#x27;OSFamily&#x27;: &#x27;Windows&#x27;,,             &#x27;Type&#x27;: &#x27;host&#x27;},,   &#x27;SessionId&#x27;: &#x27;0x0&#x27;,,   &#x27;StartTimeUtc&#x27;: &#x27;2019-01-15T09:15:03.3338239Z&#x27;,,   &#x27;Type&#x27;: &#x27;host-logon-session&#x27;}"
      ],
      "text/plain": [
       "<IPython.core.display.HTML object>"
      ]
     },
     "metadata": {},
     "output_type": "display_data"
    }
   ],
   "source": [
    "from IPython.display import HTML\n",
    "security_alert = None\n",
    "\n",
    "# create a function to get the displayable object\n",
    "def alert_with_entities(alert):\n",
    "    return HTML(SecurityAlert(alert).to_html(show_entities=True))\n",
    "                \n",
    "alert_select = nbwidgets.SelectAlert(alerts=alerts.query('CompromisedEntity == \"MSTICALERTSWIN1\"'), \n",
    "                                     action=alert_with_entities)\n",
    "display(Markdown('### Or a more detailed display with extracted entities'))\n",
    "alert_select"
   ]
  },
  {
   "cell_type": "markdown",
   "metadata": {},
   "source": [
    "<a id='SelectItem'></a>[Contents](#contents)\n",
    "## SelectItem\n",
    "\n",
    "Similar to AlertSelector but simpler and allows you to use any list or dictionary of items.\n",
    "\n",
    "```\n",
    "Selection list from list or dict.\n",
    "\n",
    "Attributes:\n",
    "    value : The selected value.\n",
    "Init docstring:\n",
    "Select an item from a list or dict.\n",
    "\n",
    "Parameters\n",
    "----------\n",
    "description : str, optional\n",
    "    The widget label to display (the default is None)\n",
    "item_list : List[str], optional\n",
    "    A `list` of items to select from (the default is None)\n",
    "item_dict : Mapping[str, str], optional\n",
    "    A `dict` of items to select from. When using `item_dict`\n",
    "    the keys are displayed as the selectable items and value\n",
    "    corresponding to the selected key is set as the `value`\n",
    "    property.\n",
    "    (the default is None)\n",
    "action : Callable[..., None], optional\n",
    "    function to call when item selected (passed a single\n",
    "    parameter - the value of the currently selected item)\n",
    "    (the default is None)\n",
    "auto_display : bool, optional\n",
    "    Whether to display on instantiation (the default is False)\n",
    "height : str, optional\n",
    "    Selection list height (the default is '100px')\n",
    "width : str, optional\n",
    "    Selection list width (the default is '50%')\n",
    "```"
   ]
  },
  {
   "cell_type": "code",
   "execution_count": 12,
   "metadata": {
    "ExecuteTime": {
     "end_time": "2019-12-19T22:40:00.225872Z",
     "start_time": "2019-12-19T22:40:00.198893Z"
    }
   },
   "outputs": [
    {
     "data": {
      "application/vnd.jupyter.widget-view+json": {
       "model_id": "42efd6ef98344480baf0d79151aa1bf0",
       "version_major": 2,
       "version_minor": 0
      },
      "text/plain": [
       "VBox(children=(Text(value='', description='Filter:', style=DescriptionStyle(description_width='initial')), Sel…"
      ]
     },
     "metadata": {},
     "output_type": "display_data"
    },
    {
     "data": {
      "text/html": [
       "<hr>"
      ],
      "text/plain": [
       "<IPython.core.display.HTML object>"
      ]
     },
     "metadata": {},
     "output_type": "display_data"
    },
    {
     "data": {
      "text/html": [
       "<h3>host</h3>{&nbsp;'AdditionalData':&nbsp;{},<br>&nbsp;&nbsp;'DnsDomain':&nbsp;'',<br>&nbsp;&nbsp;'HostName':&nbsp;'MSTICALERTSWIN1',<br>&nbsp;&nbsp;'IsDomainJoined':&nbsp;False,<br>&nbsp;&nbsp;'NTDomain':&nbsp;'',<br>&nbsp;&nbsp;'NetBiosName':&nbsp;'MSTICALERTSWIN1',<br>&nbsp;&nbsp;'OSFamily':&nbsp;'Windows',<br>&nbsp;&nbsp;'Type':&nbsp;'host'}"
      ],
      "text/plain": [
       "Host(Type=host, HostName=MSTICALERTSWIN1, NetBiosName=MSTICALERTSWIN1, OSFamily=Windo...)"
      ]
     },
     "metadata": {},
     "output_type": "display_data"
    }
   ],
   "source": [
    "# extract the entities from the previously selected alert\n",
    "security_alert = SecurityAlert(alert_select.selected_alert)\n",
    "if security_alert is None:\n",
    "    security_alert = SecurityAlert(alerts.iloc[1])\n",
    "ent_dict = {ent['Type']:ent for ent in security_alert.entities}\n",
    "\n",
    "# from IPython.display import HTML\n",
    "\n",
    "# # create a display function for the entities\n",
    "# def entity_to_html(entity):\n",
    "#     e_text = str(entity)\n",
    "#     e_type = entity.Type\n",
    "#     e_text = e_text.replace(\"\\n\", \"<br>\").replace(\" \", \"&nbsp;\")\n",
    "#     return HTML(f\"<h3>{e_type}</h3>{e_text}\")\n",
    "    \n",
    "nbwidgets.SelectItem(item_dict=ent_dict,\n",
    "                       description='Select an item',\n",
    "                       action=lambda x: x,\n",
    "                       auto_display=True);\n"
   ]
  },
  {
   "cell_type": "markdown",
   "metadata": {},
   "source": [
    "<a id='GetEnvironmentKey'></a>[Contents](#contents)\n",
    "## GetEnvironmentKey\n",
    "Get editable value of environment variable. Common use would be retrieving an API key from your environment or allowing you to paste in a value if the environment key isn't set.\n",
    "\n",
    "Note setting the variable only persists in the python kernel process running at the time. So you can retrieve it later in the notebook but not in other processes."
   ]
  },
  {
   "cell_type": "code",
   "execution_count": 13,
   "metadata": {
    "ExecuteTime": {
     "end_time": "2019-12-19T22:43:18.702480Z",
     "start_time": "2019-12-19T22:43:18.680497Z"
    },
    "scrolled": true
   },
   "outputs": [
    {
     "data": {
      "application/vnd.jupyter.widget-view+json": {
       "model_id": "5dae38bc986c424b801e2755316e6537",
       "version_major": 2,
       "version_minor": 0
      },
      "text/plain": [
       "HBox(children=(Text(value='C:\\\\Users\\\\Ian', description='Enter the value: ', layout=Layout(width='50%'), style…"
      ]
     },
     "metadata": {},
     "output_type": "display_data"
    }
   ],
   "source": [
    "nbwidgets.GetEnvironmentKey(env_var='userprofile', auto_display=True);"
   ]
  },
  {
   "cell_type": "markdown",
   "metadata": {},
   "source": [
    "<a id='SelectSubset'></a>[Contents](#contents)\n",
    "## SelectSubset\n",
    "Allows you to select one or multiple items from a list to populate an output set.\n",
    "\n",
    "```\n",
    "Class to select a subset from an input list.\n",
    "\n",
    "    Attributes\n",
    "    ----------\n",
    "    selected_values : List[Any]\n",
    "        The selected item values.\n",
    "    selected_items : List[Any]\n",
    "        The selected items label and value\n",
    "        \n",
    "Init docstring:\n",
    "Create instance of SelectSubset widget.\n",
    "\n",
    "Parameters\n",
    "----------\n",
    "source_items : Union[Dict[str, str], List[Any]]\n",
    "    List of source items - either a dictionary(label, value),\n",
    "    a simple list or\n",
    "    a list of (label, value) tuples.\n",
    "default_selected : Union[Dict[str, str], List[Any]]\n",
    "    Populate the selected list with values - either\n",
    "    a dictionary(label, value),\n",
    "    a simple list or\n",
    "    a list of (label, value) tuples.\n",
    "```"
   ]
  },
  {
   "cell_type": "code",
   "execution_count": 14,
   "metadata": {
    "ExecuteTime": {
     "end_time": "2019-12-19T22:52:10.297759Z",
     "start_time": "2019-12-19T22:52:10.252790Z"
    }
   },
   "outputs": [
    {
     "data": {
      "application/vnd.jupyter.widget-view+json": {
       "model_id": "b5ca42dc174646d19dd649cda0e878ff",
       "version_major": 2,
       "version_minor": 0
      },
      "text/plain": [
       "VBox(children=(Text(value='', description='Filter:', style=DescriptionStyle(description_width='initial')), HBo…"
      ]
     },
     "metadata": {},
     "output_type": "display_data"
    }
   ],
   "source": [
    "# Simple list\n",
    "items = list(alerts[\"AlertName\"].values)\n",
    "sel_sub = nbwidgets.SelectSubset(source_items=items)"
   ]
  },
  {
   "cell_type": "code",
   "execution_count": 15,
   "metadata": {
    "ExecuteTime": {
     "end_time": "2019-12-19T22:52:37.922930Z",
     "start_time": "2019-12-19T22:52:37.880962Z"
    },
    "scrolled": true
   },
   "outputs": [
    {
     "data": {
      "application/vnd.jupyter.widget-view+json": {
       "model_id": "c7701a3273c24c4cb20c998041faec1b",
       "version_major": 2,
       "version_minor": 0
      },
      "text/plain": [
       "VBox(children=(Text(value='', description='Filter:', style=DescriptionStyle(description_width='initial')), HBo…"
      ]
     },
     "metadata": {},
     "output_type": "display_data"
    }
   ],
   "source": [
    "# Label/Value pair items with a a subset of pre-selected items\n",
    "items = {v: k for k, v in alerts[\"AlertName\"].to_dict().items()}\n",
    "pre_selected = {v: k for k, v in alerts[\"AlertName\"].to_dict().items() if \"commandline\" in v}\n",
    "sel_sub = nbwidgets.SelectSubset(source_items=items, default_selected=pre_selected)\n"
   ]
  },
  {
   "cell_type": "code",
   "execution_count": 16,
   "metadata": {
    "ExecuteTime": {
     "end_time": "2019-09-02T23:54:08.581230Z",
     "start_time": "2019-09-02T23:54:08.577235Z"
    },
    "scrolled": true,
    "tags": []
   },
   "outputs": [
    {
     "name": "stdout",
     "output_type": "stream",
     "text": [
      "Values: [79, 109, 83] \n",
      "\n",
      "Items: [('Detected suspicious commandline arguments', 79), ('Detected suspicious commandline used to start all executables in a directory', 109), ('Detected suspicious credentials in commandline', 83)]\n"
     ]
    }
   ],
   "source": [
    "print(\"Values:\", sel_sub.selected_values, \"\\n\")\n",
    "print(\"Items:\", sel_sub.selected_items)"
   ]
  },
  {
   "cell_type": "markdown",
   "metadata": {},
   "source": [
    "## Progress Indicator"
   ]
  },
  {
   "cell_type": "code",
   "execution_count": 17,
   "metadata": {
    "ExecuteTime": {
     "end_time": "2019-12-19T23:04:17.717178Z",
     "start_time": "2019-12-19T23:04:14.399755Z"
    },
    "tags": []
   },
   "outputs": [
    {
     "data": {
      "application/vnd.jupyter.widget-view+json": {
       "model_id": "e60e7bbf02444e3b985d62adcb433a45",
       "version_major": 2,
       "version_minor": 0
      },
      "text/plain": [
       "HBox(children=(IntProgress(value=0, bar_style='info', description='Progress:'), Label(value='0%')))"
      ]
     },
     "metadata": {},
     "output_type": "display_data"
    },
    {
     "data": {
      "application/vnd.jupyter.widget-view+json": {
       "model_id": "2322e80ccea945e08c8521e7df88fa21",
       "version_major": 2,
       "version_minor": 0
      },
      "text/plain": [
       "HBox(children=(IntProgress(value=0, bar_style='info', description='Progress:'), Label(value='0%')))"
      ]
     },
     "metadata": {},
     "output_type": "display_data"
    },
    {
     "name": "stdout",
     "output_type": "stream",
     "text": [
      "Volume goes to eleven!\n"
     ]
    }
   ],
   "source": [
    "from time import sleep\n",
    "progress = nbwidgets.Progress(completed_len=2000)\n",
    "for i in range(0, 2100, 100):\n",
    "    progress.update_progress(new_total=i)\n",
    "    sleep(0.1)\n",
    "    \n",
    "inc_progress = nbwidgets.Progress(completed_len=10)\n",
    "for i in range(0, 11):\n",
    "    inc_progress.update_progress(delta=1)\n",
    "    sleep(0.1)\n",
    "print(\"Volume goes to eleven!\")"
   ]
  },
  {
   "cell_type": "markdown",
   "metadata": {},
   "source": [
    "## Logon Display\n",
    "Display logon details for a Windows or Linux logon"
   ]
  },
  {
   "cell_type": "code",
   "execution_count": 18,
   "metadata": {},
   "outputs": [
    {
     "data": {
      "application/vnd.jupyter.widget-view+json": {
       "model_id": "88db5171026e438f965dbab70c56b21b",
       "version_major": 2,
       "version_minor": 0
      },
      "text/plain": [
       "VBox(children=(Text(value='', description='Filter:', style=DescriptionStyle(description_width='initial')), Sel…"
      ]
     },
     "metadata": {},
     "output_type": "display_data"
    },
    {
     "data": {
      "text/html": [
       "<hr>"
      ],
      "text/plain": [
       "<IPython.core.display.HTML object>"
      ]
     },
     "metadata": {},
     "output_type": "display_data"
    },
    {
     "data": {
      "text/html": [
       "\n",
       "        <style>\n",
       "            .table_logon {border-collapse: collapse; width: 50%;}\n",
       "            .cell_logon {border: 1px solid #ddd !important;\n",
       "                text-align: left !important; padding: 15px !important;}\n",
       "        </style>\n",
       "        <table class='table_logon'><tr class='cell_logon'><td class='cell_logon'><b>Account: </b>MSTICAdmin<br><b>Account Domain: </b>MSTICAlertsWin1<br><b>Logon Time: </b>2019-01-15 05:15:02.980<br><b>Logon type: </b>4(Batch)<br><b>User Id/SID: </b>S-1-5-21-996632719-2361334927-4038480536-500<br>&nbsp;&nbsp;SID S-1-5-21-996632719-2361334927-4038480536-500 is administrator<br>&nbsp;&nbsp;SID S-1-5-21-996632719-2361334927-4038480536-500 is local machine or domain account<br><br><b>Subject (source) account: </b>WORKGROUP/MSTICAlertsWin1$<br><b>Logon process: </b>Advapi  <br><b>Authentication: </b>Negotiate<br><b>Source IpAddress: </b>-<br><b>Source Host: </b>MSTICAlertsWin1<br><b>Logon status: </b>nan<br></td></tr></table>"
      ],
      "text/plain": [
       "<IPython.core.display.HTML object>"
      ]
     },
     "metadata": {},
     "output_type": "display_data"
    }
   ],
   "source": [
    "win_logons = pd.read_csv(\"data/host_logons.csv\")\n",
    "user_dict = win_logons.apply(lambda x: f\"{x.TargetDomainName}/{x.TargetUserName}   ({x.TimeGenerated})\", axis=1).to_dict()\n",
    "user_dict = {v: k for k, v in user_dict.items()}\n",
    "\n",
    "from msticpy.nbtools.nbdisplay import format_logon\n",
    "# create a display function for the entities\n",
    "def disp_logon(index):\n",
    "    print\n",
    "    logons = win_logons[win_logons.index == index]\n",
    "    return format_logon(logons)\n",
    "    \n",
    "acct_select = nbwidgets.SelectItem(item_dict=user_dict,\n",
    "                       description='Select an item',\n",
    "                       action=disp_logon,\n",
    "                       auto_display=True);"
   ]
  },
  {
   "cell_type": "markdown",
   "metadata": {},
   "source": [
    "#### Display a list of logons"
   ]
  },
  {
   "cell_type": "code",
   "execution_count": 19,
   "metadata": {},
   "outputs": [
    {
     "data": {
      "text/html": [
       "\n",
       "        <style>\n",
       "            .table_logon {border-collapse: collapse; width: 50%;}\n",
       "            .cell_logon {border: 1px solid #ddd !important;\n",
       "                text-align: left !important; padding: 15px !important;}\n",
       "        </style>\n",
       "        <table class='table_logon'><tr class='cell_logon'><td class='cell_logon'><b>Account: </b>MSTICAdmin<br><b>Account Domain: </b>MSTICAlertsWin1<br><b>Logon Time: </b>2019-01-15 05:15:02.980<br><b>Logon type: </b>4(Batch)<br><b>User Id/SID: </b>S-1-5-21-996632719-2361334927-4038480536-500<br>&nbsp;&nbsp;SID S-1-5-21-996632719-2361334927-4038480536-500 is administrator<br>&nbsp;&nbsp;SID S-1-5-21-996632719-2361334927-4038480536-500 is local machine or domain account<br><br><b>Subject (source) account: </b>WORKGROUP/MSTICAlertsWin1$<br><b>Logon process: </b>Advapi  <br><b>Authentication: </b>Negotiate<br><b>Source IpAddress: </b>-<br><b>Source Host: </b>MSTICAlertsWin1<br><b>Logon status: </b>nan<br></td></tr><tr class='cell_logon'><td class='cell_logon'><b>Account: </b>SYSTEM<br><b>Account Domain: </b>NT AUTHORITY<br><b>Logon Time: </b>2019-01-15 05:15:04.503<br><b>Logon type: </b>5(Service)<br><b>User Id/SID: </b>S-1-5-18<br>&nbsp;&nbsp;SID S-1-5-18 is LOCAL_SYSTEM<br><br><b>Subject (source) account: </b>WORKGROUP/MSTICAlertsWin1$<br><b>Logon process: </b>Advapi  <br><b>Authentication: </b>Negotiate<br><b>Source IpAddress: </b>-<br><b>Source Host: </b>-<br><b>Logon status: </b>nan<br></td></tr><tr class='cell_logon'><td class='cell_logon'><b>Account: </b>adm1nistrator<br><b>Account Domain: </b>MSTICAlertsWin1<br><b>Logon Time: </b>2019-01-15 05:15:06.363<br><b>Logon type: </b>3(Network)<br><b>User Id/SID: </b>S-1-5-21-996632719-2361334927-4038480536-1066<br>&nbsp;&nbsp;SID S-1-5-21-996632719-2361334927-4038480536-1066 is local machine or domain account<br><br><b>Subject (source) account: </b>-/-<br><b>Logon process: </b>NtLmSsp <br><b>Authentication: </b>NTLM<br><b>Source IpAddress: </b>fe80::38dc:e4a9:61bd:b458<br><b>Source Host: </b>MSTICAlertsWin1<br><b>Logon status: </b>nan<br></td></tr><tr class='cell_logon'><td class='cell_logon'><b>Account: </b>SYSTEM<br><b>Account Domain: </b>NT AUTHORITY<br><b>Logon Time: </b>2019-01-15 05:15:10.813<br><b>Logon type: </b>5(Service)<br><b>User Id/SID: </b>S-1-5-18<br>&nbsp;&nbsp;SID S-1-5-18 is LOCAL_SYSTEM<br><br><b>Subject (source) account: </b>WORKGROUP/MSTICAlertsWin1$<br><b>Logon process: </b>Advapi  <br><b>Authentication: </b>Negotiate<br><b>Source IpAddress: </b>-<br><b>Source Host: </b>-<br><b>Logon status: </b>nan<br></td></tr><tr class='cell_logon'><td class='cell_logon'><b>Account: </b>SYSTEM<br><b>Account Domain: </b>NT AUTHORITY<br><b>Logon Time: </b>2019-01-15 05:15:14.453<br><b>Logon type: </b>5(Service)<br><b>User Id/SID: </b>S-1-5-18<br>&nbsp;&nbsp;SID S-1-5-18 is LOCAL_SYSTEM<br><br><b>Subject (source) account: </b>WORKGROUP/MSTICAlertsWin1$<br><b>Logon process: </b>Advapi  <br><b>Authentication: </b>Negotiate<br><b>Source IpAddress: </b>-<br><b>Source Host: </b>-<br><b>Logon status: </b>nan<br></td></tr></table>"
      ],
      "text/plain": [
       "<IPython.core.display.HTML object>"
      ]
     },
     "metadata": {},
     "output_type": "display_data"
    }
   ],
   "source": [
    "# display a list of logons\n",
    "display(format_logon(win_logons.head(5)))"
   ]
  },
  {
   "cell_type": "markdown",
   "metadata": {},
   "source": [
    "## Registered Widgets\n",
    "\n",
    "Some of the widgets (QueryTimes, GetText) can register themselves and retain\n",
    "the setting and values previously entered. This can be useful when stepping through\n",
    "a notebook since it is a common mistake to enter text in a text box and then\n",
    "execute the same cell again by mistake. This, of course, usually results in the \n",
    "widget being reset to its default state and erasing the values you just entered.\n",
    "\n",
    "If you use a registered widget and then create a new copy of the widget with identical\n",
    "parameters it will look in the registry for a previous copy of itself and auto-populate\n",
    "it's values with the previous-entered ones.\n",
    "\n",
    "Registered widgets can also read their default values from notebook variables - this\n",
    "is mainly useful with notebooks that are programmatically supplied with \n",
    "parameters and executed with something like Papermill.\n",
    "\n",
    "Several of the additional parameters available in RegisteredWidgets init are\n",
    "for internal use by widgets but three are usable by users:\n",
    "```\n",
    "        Parameters\n",
    "        ----------\n",
    "        nb_params : Optional[Dict[str, str]], optional\n",
    "            A dictionary of attribute names and global variables. If the variable\n",
    "            exists in the global namespace it will be used to populate the\n",
    "            corresponding widget attribute. This is only done if the widget\n",
    "            attribute currently has no value (i.e. restoring a value from\n",
    "            the registry takes priority over this),\n",
    "            by default None\n",
    "        ns : Dict[str, Any], optional\n",
    "            Namespace to look for global variables, by default None\n",
    "        register : bool\n",
    "            Do not register the widget or retrieve values from previously-\n",
    "            registered instance.\n",
    "```"
   ]
  },
  {
   "cell_type": "code",
   "execution_count": 20,
   "metadata": {},
   "outputs": [
    {
     "name": "stdout",
     "output_type": "stream",
     "text": [
      "\n",
      "        Initialize a registered widget.\n",
      "\n",
      "        Parameters\n",
      "        ----------\n",
      "        id_vals : Optional[List[Any]], optional\n",
      "            The list of parameter names to use to identify this widget instance,\n",
      "            by default None\n",
      "        val_attrs : Optional[List[str]], optional\n",
      "            The names of the attributes to persist in the registry\n",
      "            and recall, by default [\"value\"]\n",
      "        nb_params : Optional[Dict[str, str]], optional\n",
      "            A dictionary of attribute names and global variables. If the variable\n",
      "            exists in the global namespace it will be used to populate the\n",
      "            corresponding widget attribute. This is only done if the widget\n",
      "            attribute currently has no value (i.e. restoring a value from\n",
      "            the registry takes priority over this),\n",
      "            by default None\n",
      "        ns : Dict[str, Any], optional\n",
      "            Namespace to look for global variables, by default None\n",
      "        register : bool\n",
      "            Do not register the widget or retrieve values from previously-\n",
      "            registered instance.\n",
      "\n",
      "        \n"
     ]
    }
   ],
   "source": [
    "print(nbwidgets.RegisteredWidget.__init__.__doc__)"
   ]
  },
  {
   "cell_type": "code",
   "execution_count": 21,
   "metadata": {},
   "outputs": [
    {
     "data": {
      "application/vnd.jupyter.widget-view+json": {
       "model_id": "3e45661bd0dc4ce4af282fb7d101e634",
       "version_major": 2,
       "version_minor": 0
      },
      "text/plain": [
       "Text(value='Ian', description='Enter your name', layout=Layout(width='50%'), style=DescriptionStyle(descriptio…"
      ]
     },
     "metadata": {},
     "output_type": "display_data"
    }
   ],
   "source": [
    "mem_text = nbwidgets.GetText(prompt=\"Enter your name\")\n",
    "\n",
    "# we insert a value here to mimic typing something in the text box\n",
    "mem_text._value = \"Ian\"\n",
    "mem_text"
   ]
  },
  {
   "cell_type": "markdown",
   "metadata": {},
   "source": [
    "When we re-execute the cell or use the same widget with identical arguments\n",
    "the value is populated from the registry cache"
   ]
  },
  {
   "cell_type": "code",
   "execution_count": 22,
   "metadata": {},
   "outputs": [
    {
     "data": {
      "application/vnd.jupyter.widget-view+json": {
       "model_id": "7c92e4b30dd84d3a99320275d4b4d6e1",
       "version_major": 2,
       "version_minor": 0
      },
      "text/plain": [
       "Text(value='Ian', description='Enter your name', layout=Layout(width='50%'), style=DescriptionStyle(descriptio…"
      ]
     },
     "metadata": {},
     "output_type": "display_data"
    }
   ],
   "source": [
    "mem_text = nbwidgets.GetText(prompt=\"Enter your name\")\n",
    "mem_text"
   ]
  },
  {
   "cell_type": "markdown",
   "metadata": {},
   "source": [
    "#### QueryTime also supports registration"
   ]
  },
  {
   "cell_type": "code",
   "execution_count": 42,
   "metadata": {},
   "outputs": [
    {
     "data": {
      "application/vnd.jupyter.widget-view+json": {
       "model_id": "21400462907f4d1384c040a4876c11bb",
       "version_major": 2,
       "version_minor": 0
      },
      "text/plain": [
       "HTML(value='<h4>Set query time boundaries</h4>')"
      ]
     },
     "metadata": {},
     "output_type": "display_data"
    },
    {
     "data": {
      "application/vnd.jupyter.widget-view+json": {
       "model_id": "879cecf5c0654a72b888f2923d4d6496",
       "version_major": 2,
       "version_minor": 0
      },
      "text/plain": [
       "HBox(children=(DatePicker(value=datetime.date(2020, 8, 11), description='Origin Date'), Text(value='20:27:56.8…"
      ]
     },
     "metadata": {},
     "output_type": "display_data"
    },
    {
     "data": {
      "application/vnd.jupyter.widget-view+json": {
       "model_id": "a69df955cf8847d3b6b1253be14cd7bb",
       "version_major": 2,
       "version_minor": 0
      },
      "text/plain": [
       "VBox(children=(IntRangeSlider(value=(-1, 1), description='Time Range (day):', layout=Layout(width='80%'), max=…"
      ]
     },
     "metadata": {},
     "output_type": "display_data"
    }
   ],
   "source": [
    "from datetime import datetime, timedelta\n",
    "q_times = nbwidgets.QueryTime(auto_display=True, max_before=12, max_after=2, units=\"day\")"
   ]
  },
  {
   "cell_type": "code",
   "execution_count": 43,
   "metadata": {},
   "outputs": [],
   "source": [
    "# mimic setting values in the control (these don't update the display)\n",
    "q_times.origin_time = datetime.utcnow() - timedelta(5)\n",
    "q_times.before = 3\n",
    "q_times.after = 5"
   ]
  },
  {
   "cell_type": "markdown",
   "metadata": {},
   "source": [
    "Note the origin, before and after have all been copied from the previous instance"
   ]
  },
  {
   "cell_type": "code",
   "execution_count": 44,
   "metadata": {},
   "outputs": [
    {
     "data": {
      "application/vnd.jupyter.widget-view+json": {
       "model_id": "7942bbeedd104a9e9f1dd3663e32db43",
       "version_major": 2,
       "version_minor": 0
      },
      "text/plain": [
       "HTML(value='<h4>Set query time boundaries</h4>')"
      ]
     },
     "metadata": {},
     "output_type": "display_data"
    },
    {
     "data": {
      "application/vnd.jupyter.widget-view+json": {
       "model_id": "5c039b068a754b279e776a3911696f08",
       "version_major": 2,
       "version_minor": 0
      },
      "text/plain": [
       "HBox(children=(DatePicker(value=datetime.date(2020, 8, 6), description='Origin Date'), Text(value='20:28:17.04…"
      ]
     },
     "metadata": {},
     "output_type": "display_data"
    },
    {
     "data": {
      "application/vnd.jupyter.widget-view+json": {
       "model_id": "11bffbb6ad634f9cbe94b1c660a3aac8",
       "version_major": 2,
       "version_minor": 0
      },
      "text/plain": [
       "VBox(children=(IntRangeSlider(value=(-3, 2), description='Time Range (day):', layout=Layout(width='80%'), max=…"
      ]
     },
     "metadata": {},
     "output_type": "display_data"
    }
   ],
   "source": [
    "q_times = nbwidgets.QueryTime(auto_display=True, max_before=12, max_after=2, units=\"day\")"
   ]
  },
  {
   "cell_type": "markdown",
   "metadata": {},
   "source": [
    "### To skip registration add the parameter `register=False`"
   ]
  },
  {
   "cell_type": "code",
   "execution_count": 46,
   "metadata": {},
   "outputs": [
    {
     "data": {
      "application/vnd.jupyter.widget-view+json": {
       "model_id": "f59c94d42d5f4dd9ab0601dba0881894",
       "version_major": 2,
       "version_minor": 0
      },
      "text/plain": [
       "HTML(value='<h4>Set query time boundaries</h4>')"
      ]
     },
     "metadata": {},
     "output_type": "display_data"
    },
    {
     "data": {
      "application/vnd.jupyter.widget-view+json": {
       "model_id": "ec248ebed88148dc921ae1decfa422e1",
       "version_major": 2,
       "version_minor": 0
      },
      "text/plain": [
       "HBox(children=(DatePicker(value=datetime.date(2020, 8, 11), description='Origin Date'), Text(value='20:36:02.0…"
      ]
     },
     "metadata": {},
     "output_type": "display_data"
    },
    {
     "data": {
      "application/vnd.jupyter.widget-view+json": {
       "model_id": "8a2d28a19e694664b0ac3e4b75a0fba5",
       "version_major": 2,
       "version_minor": 0
      },
      "text/plain": [
       "VBox(children=(IntRangeSlider(value=(-1, 1), description='Time Range (day):', layout=Layout(width='80%'), max=…"
      ]
     },
     "metadata": {},
     "output_type": "display_data"
    }
   ],
   "source": [
    "q_times = nbwidgets.QueryTime(auto_display=True, max_before=12, max_after=2, units=\"day\", register=False)"
   ]
  },
  {
   "cell_type": "markdown",
   "metadata": {},
   "source": [
    "### Using notebook parameters to populate RegisteredWidgets"
   ]
  },
  {
   "cell_type": "code",
   "execution_count": 26,
   "metadata": {},
   "outputs": [
    {
     "data": {
      "application/vnd.jupyter.widget-view+json": {
       "model_id": "22e80c04811a4c369239b398dcac9971",
       "version_major": 2,
       "version_minor": 0
      },
      "text/plain": [
       "Text(value='The other Ian', description='enter your real name', layout=Layout(width='50%'), style=DescriptionS…"
      ]
     },
     "metadata": {},
     "output_type": "display_data"
    }
   ],
   "source": [
    "# This might be defined in a parameter cell at the beginning of the noteboook\n",
    "my_name = \"The other Ian\"\n",
    "\n",
    "my_text = nbwidgets.GetText(prompt=\"enter your real name\", nb_params={\"_value\": \"my_name\"}, ns=globals())\n",
    "my_text"
   ]
  },
  {
   "cell_type": "markdown",
   "metadata": {},
   "source": [
    "## Multi-Option buttons with async wait\n",
    "This widget is pretty simple on the surface but has some useful features\n",
    "for waiting for user input.\n"
   ]
  },
  {
   "cell_type": "code",
   "execution_count": 27,
   "metadata": {},
   "outputs": [
    {
     "data": {
      "application/vnd.jupyter.widget-view+json": {
       "model_id": "15f5923f981945d1b43c2424dd4d99c7",
       "version_major": 2,
       "version_minor": 0
      },
      "text/plain": [
       "VBox(children=(Label(value='Do you really want to do this?'), HBox(children=(Button(description='Confirm', sty…"
      ]
     },
     "metadata": {},
     "output_type": "display_data"
    }
   ],
   "source": [
    "opt = nbwidgets.OptionButtons(\n",
    "    description=\"Do you really want to do this?\",\n",
    "    buttons=[\"Confirm\", \"Skip\", \"Cancel\"]\n",
    ")\n",
    "\n",
    "# Displaying the widget works as expected\n",
    "# and sets `widget.value` to the last chosen button value.\n",
    "opt"
   ]
  },
  {
   "cell_type": "markdown",
   "metadata": {},
   "source": [
    "### Using OptionButtons to wait until an option is chosen (or timeout expires)\n",
    "Option buttons uses an asynchronous event loop to track both the button\n",
    "state and the timeout simultaneously.\n",
    "\n",
    "Because this requires the use of asynchronous code you must do the following\n",
    "- call *widget*`.display_async()` method rather than just `display()` or using the auto-display functionality of Jupyter\n",
    "- prefix this call with `await` - this tells IPython/Jupyter that you are executing asynchronous code and that it needs\n",
    "  to wait until this call has completed before continuing with cell execution. "
   ]
  },
  {
   "cell_type": "code",
   "execution_count": 34,
   "metadata": {},
   "outputs": [
    {
     "data": {
      "application/vnd.jupyter.widget-view+json": {
       "model_id": "eb87635c0ce247928040b0b3cfc16a47",
       "version_major": 2,
       "version_minor": 0
      },
      "text/plain": [
       "VBox(children=(Label(value='Continue?'), HBox(children=(Button(description='Yes', style=ButtonStyle()), Button…"
      ]
     },
     "metadata": {},
     "output_type": "display_data"
    }
   ],
   "source": [
    "# Using display_async will run the widget with a visible\n",
    "# timer. As soon as one option is chosen, that remains as the value\n",
    "# of the value of the widget.value property.\n",
    "opt = nbwidgets.OptionButtons(description=\"Continue?\", timeout=10)\n",
    "await opt.display_async()\n"
   ]
  },
  {
   "cell_type": "markdown",
   "metadata": {},
   "source": [
    "> **Note**\n",
    "> Awaiting the OptionButtons control does not pause the notebook execution.\n",
    "> This is a capability that we are still working on."
   ]
  }
 ],
 "metadata": {
  "hide_input": false,
  "kernelspec": {
   "display_name": "Python 3.6.7 64-bit",
   "language": "python",
   "name": "python36764bit5248c27440094c529a61105b4d9945f7"
  },
  "language_info": {
   "codemirror_mode": {
    "name": "ipython",
    "version": 3
   },
   "file_extension": ".py",
   "mimetype": "text/x-python",
   "name": "python",
   "nbconvert_exporter": "python",
   "pygments_lexer": "ipython3",
   "version": "3.6.10"
  },
  "latex_envs": {
   "LaTeX_envs_menu_present": true,
   "autoclose": false,
   "autocomplete": true,
   "bibliofile": "biblio.bib",
   "cite_by": "apalike",
   "current_citInitial": 1,
   "eqLabelWithNumbers": true,
   "eqNumInitial": 1,
   "hotkeys": {
    "equation": "Ctrl-E",
    "itemize": "Ctrl-I"
   },
   "labels_anchors": false,
   "latex_user_defs": false,
   "report_style_numbering": false,
   "user_envs_cfg": false
  },
  "toc": {
   "base_numbering": 1,
   "nav_menu": {},
   "number_sections": false,
   "sideBar": true,
   "skip_h1_title": false,
   "title_cell": "Table of Contents",
   "title_sidebar": "Contents",
   "toc_cell": false,
   "toc_position": {},
   "toc_section_display": true,
   "toc_window_display": false
  },
  "varInspector": {
   "cols": {
    "lenName": 16,
    "lenType": 16,
    "lenVar": 40
   },
   "kernels_config": {
    "python": {
     "delete_cmd_postfix": "",
     "delete_cmd_prefix": "del ",
     "library": "var_list.py",
     "varRefreshCmd": "print(var_dic_list())"
    },
    "r": {
     "delete_cmd_postfix": ") ",
     "delete_cmd_prefix": "rm(",
     "library": "var_list.r",
     "varRefreshCmd": "cat(var_dic_list()) "
    }
   },
   "types_to_exclude": [
    "module",
    "function",
    "builtin_function_or_method",
    "instance",
    "_Feature"
   ],
   "window_display": false
  },
  "widgets": {
   "application/vnd.jupyter.widget-state+json": {
    "state": {
     "00552bf186524b0d8bf2a98181402d45": {
      "model_module": "@jupyter-widgets/base",
      "model_module_version": "1.2.0",
      "model_name": "LayoutModel",
      "state": {
       "width": "50%"
      }
     },
     "0088b901f19f40d1a2a02d0684401a3a": {
      "model_module": "@jupyter-widgets/controls",
      "model_module_version": "1.5.0",
      "model_name": "VBoxModel",
      "state": {
       "children": [
        "IPY_MODEL_7bfa0081eb224b67aec196dd0191ca7b",
        "IPY_MODEL_b72a7c844c634ee19bbb8e19f515e6bd",
        "IPY_MODEL_b367cd7d7ca44b4480b52fcbe39fc301",
        "IPY_MODEL_8e32e29f76c040d39e6954d2a3d9dea2"
       ],
       "layout": "IPY_MODEL_d80bed38af234582910af5bd6f369956"
      }
     },
     "00896a8c654c45c1994768764b1d4436": {
      "model_module": "@jupyter-widgets/controls",
      "model_module_version": "1.5.0",
      "model_name": "DescriptionStyleModel",
      "state": {
       "description_width": "initial"
      }
     },
     "009e93bfcb0a44d7aa7e8f73f24b3cde": {
      "model_module": "@jupyter-widgets/controls",
      "model_module_version": "1.5.0",
      "model_name": "DescriptionStyleModel",
      "state": {
       "description_width": ""
      }
     },
     "00afffff5a0e4e68b04f350934ac5197": {
      "model_module": "@jupyter-widgets/controls",
      "model_module_version": "1.5.0",
      "model_name": "SliderStyleModel",
      "state": {
       "description_width": "initial"
      }
     },
     "00f2d1d6f0944037858dfb241833d802": {
      "model_module": "@jupyter-widgets/controls",
      "model_module_version": "1.5.0",
      "model_name": "DescriptionStyleModel",
      "state": {
       "description_width": ""
      }
     },
     "01075ee1a95b40fcbe93ed8fb084cbba": {
      "model_module": "@jupyter-widgets/base",
      "model_module_version": "1.2.0",
      "model_name": "LayoutModel",
      "state": {}
     },
     "014ea772e01c4317bbafaae049915bea": {
      "model_module": "@jupyter-widgets/controls",
      "model_module_version": "1.5.0",
      "model_name": "IntRangeSliderModel",
      "state": {
       "_model_name": "IntRangeSliderModel",
       "_view_name": "IntRangeSliderView",
       "description": "Time Range (day):",
       "layout": "IPY_MODEL_f36b7c10ebd1422883cbeef94e799a60",
       "max": 2,
       "min": -10,
       "style": "IPY_MODEL_b590c641e6c84348a0f439e9185d33b8",
       "value": [
        -3,
        2
       ]
      }
     },
     "019a5be1905843799e364334a10b28cb": {
      "model_module": "@jupyter-widgets/base",
      "model_module_version": "1.2.0",
      "model_name": "LayoutModel",
      "state": {
       "width": "50%"
      }
     },
     "01b847d38cd742209618a1895220533d": {
      "model_module": "@jupyter-widgets/controls",
      "model_module_version": "1.5.0",
      "model_name": "DescriptionStyleModel",
      "state": {
       "description_width": ""
      }
     },
     "032d9b822f26427fa6facb1247e05968": {
      "model_module": "@jupyter-widgets/base",
      "model_module_version": "1.2.0",
      "model_name": "LayoutModel",
      "state": {}
     },
     "039731814b7f449b8d25206372d56c77": {
      "model_module": "@jupyter-widgets/controls",
      "model_module_version": "1.5.0",
      "model_name": "DescriptionStyleModel",
      "state": {
       "description_width": ""
      }
     },
     "03da8ee15f174f689cd112100255a5bf": {
      "model_module": "@jupyter-widgets/controls",
      "model_module_version": "1.5.0",
      "model_name": "DescriptionStyleModel",
      "state": {
       "description_width": "initial"
      }
     },
     "03e170d1eaec4498b487e79d0dd0c6b1": {
      "model_module": "@jupyter-widgets/base",
      "model_module_version": "1.2.0",
      "model_name": "LayoutModel",
      "state": {}
     },
     "03ead320ba2848c29ec11f8c125dc5ff": {
      "model_module": "@jupyter-widgets/controls",
      "model_module_version": "1.5.0",
      "model_name": "HBoxModel",
      "state": {
       "children": [
        "IPY_MODEL_98f4e3d5134949a79a21c30d5b5347fb",
        "IPY_MODEL_82dd22dc73e844f4ac50ed6159cac250"
       ],
       "layout": "IPY_MODEL_edb890c9960d409ca864b9b82c5e0bc6"
      }
     },
     "0446fe77dba94d31a8a514bb786fa0bc": {
      "model_module": "@jupyter-widgets/controls",
      "model_module_version": "1.5.0",
      "model_name": "SliderStyleModel",
      "state": {
       "description_width": "initial"
      }
     },
     "05c2af809747490ebb925714ea4d6003": {
      "model_module": "@jupyter-widgets/controls",
      "model_module_version": "1.5.0",
      "model_name": "DescriptionStyleModel",
      "state": {
       "description_width": ""
      }
     },
     "0665742408a44733b5fa735280b93789": {
      "model_module": "@jupyter-widgets/controls",
      "model_module_version": "1.5.0",
      "model_name": "ButtonStyleModel",
      "state": {}
     },
     "06824c587579402d90ee399cce4761ba": {
      "model_module": "@jupyter-widgets/base",
      "model_module_version": "1.2.0",
      "model_name": "LayoutModel",
      "state": {
       "width": "50%"
      }
     },
     "069eabd8b6e34fe382f6d63bf4731075": {
      "model_module": "@jupyter-widgets/controls",
      "model_module_version": "1.5.0",
      "model_name": "TextModel",
      "state": {
       "description": "Query start time (UTC):",
       "layout": "IPY_MODEL_019a5be1905843799e364334a10b28cb",
       "style": "IPY_MODEL_2f42ceb57a084be8b9b8f1fd006502cc",
       "value": "2020-08-10 20:36:02.023084"
      }
     },
     "06ce512a16aa4da7b1bc16190756bd56": {
      "model_module": "@jupyter-widgets/controls",
      "model_module_version": "1.5.0",
      "model_name": "ButtonModel",
      "state": {
       "description": "Cancel",
       "layout": "IPY_MODEL_3a3f62ecce72464b85007e67f3cade3f",
       "style": "IPY_MODEL_12979d07775d44a1af4919f4c72568df"
      }
     },
     "08ceda0b6fd24056a26e8338ae8295af": {
      "model_module": "@jupyter-widgets/controls",
      "model_module_version": "1.5.0",
      "model_name": "DescriptionStyleModel",
      "state": {
       "description_width": ""
      }
     },
     "0913743875ce459eb0d92bc43431a1b2": {
      "model_module": "@jupyter-widgets/base",
      "model_module_version": "1.2.0",
      "model_name": "LayoutModel",
      "state": {
       "height": "50px",
       "width": "60%"
      }
     },
     "0a1dc68c93744676bbfa09f14d4dea7e": {
      "model_module": "@jupyter-widgets/base",
      "model_module_version": "1.2.0",
      "model_name": "LayoutModel",
      "state": {
       "width": "50%"
      }
     },
     "0ac57acb57764886906fe325eb3c87cb": {
      "model_module": "@jupyter-widgets/base",
      "model_module_version": "1.2.0",
      "model_name": "LayoutModel",
      "state": {}
     },
     "0b027da2316c40af9c4e44cb3861538b": {
      "model_module": "@jupyter-widgets/base",
      "model_module_version": "1.2.0",
      "model_name": "LayoutModel",
      "state": {}
     },
     "0b8f59d0ae234c12be9abcf06bf9ecaa": {
      "model_module": "@jupyter-widgets/base",
      "model_module_version": "1.2.0",
      "model_name": "LayoutModel",
      "state": {}
     },
     "0b924b9d03e74819bb166e139e64ed86": {
      "model_module": "@jupyter-widgets/controls",
      "model_module_version": "1.5.0",
      "model_name": "ButtonModel",
      "state": {
       "description": "⇽ Remove",
       "layout": "IPY_MODEL_e152cfcfa7fc4ac39b29db1f0dc76c99",
       "style": "IPY_MODEL_cf0ef01ec4024644b36fe9bd0a5621b9"
      }
     },
     "0ba1a79a9c694d6bbc0d88b61fa32d09": {
      "model_module": "@jupyter-widgets/controls",
      "model_module_version": "1.5.0",
      "model_name": "DescriptionStyleModel",
      "state": {
       "description_width": "initial"
      }
     },
     "0c34dc79f2734240ad04bab1d9ba0ead": {
      "model_module": "@jupyter-widgets/base",
      "model_module_version": "1.2.0",
      "model_name": "LayoutModel",
      "state": {}
     },
     "0d2024e167c743b5916b3497bee82fed": {
      "model_module": "@jupyter-widgets/controls",
      "model_module_version": "1.5.0",
      "model_name": "DescriptionStyleModel",
      "state": {
       "description_width": "initial"
      }
     },
     "0e2cc10880674ae195d4b6daa70f98b5": {
      "model_module": "@jupyter-widgets/base",
      "model_module_version": "1.2.0",
      "model_name": "LayoutModel",
      "state": {
       "width": "50%"
      }
     },
     "0e6480f132b440a4b9845bca0b00645a": {
      "model_module": "@jupyter-widgets/base",
      "model_module_version": "1.2.0",
      "model_name": "LayoutModel",
      "state": {
       "width": "80%"
      }
     },
     "0eb314a751de4392944f1be1571cd1f6": {
      "model_module": "@jupyter-widgets/controls",
      "model_module_version": "1.5.0",
      "model_name": "DescriptionStyleModel",
      "state": {
       "description_width": ""
      }
     },
     "0ed319dfac4d45dab606aa7eba842a54": {
      "model_module": "@jupyter-widgets/base",
      "model_module_version": "1.2.0",
      "model_name": "LayoutModel",
      "state": {}
     },
     "103874e40103407fba887810c2e93097": {
      "model_module": "@jupyter-widgets/base",
      "model_module_version": "1.2.0",
      "model_name": "LayoutModel",
      "state": {}
     },
     "10dcceceef1b41e9ba77cbe6e917771e": {
      "model_module": "@jupyter-widgets/controls",
      "model_module_version": "1.5.0",
      "model_name": "DescriptionStyleModel",
      "state": {
       "description_width": ""
      }
     },
     "113dbeb39c1c4bfd9a125ddee1e483a1": {
      "model_module": "@jupyter-widgets/base",
      "model_module_version": "1.2.0",
      "model_name": "LayoutModel",
      "state": {}
     },
     "11bffbb6ad634f9cbe94b1c660a3aac8": {
      "model_module": "@jupyter-widgets/controls",
      "model_module_version": "1.5.0",
      "model_name": "VBoxModel",
      "state": {
       "children": [
        "IPY_MODEL_5aa2ad0aee7a4357ad16bc9b9a2bf247",
        "IPY_MODEL_1f7fbd58db064519902261a9acfa0e72",
        "IPY_MODEL_f73a0aa38b784fa2924d4a3e88495a74"
       ],
       "layout": "IPY_MODEL_9e6a1e66be3f4e0eb5aa1d7d857ce77e"
      }
     },
     "120ec4d04f5e44ec87658fa4700f2dde": {
      "model_module": "@jupyter-widgets/base",
      "model_module_version": "1.2.0",
      "model_name": "LayoutModel",
      "state": {}
     },
     "122611a433444717927210bccd515c3f": {
      "model_module": "@jupyter-widgets/controls",
      "model_module_version": "1.5.0",
      "model_name": "DescriptionStyleModel",
      "state": {
       "description_width": ""
      }
     },
     "124478cf7cd449f484f40850a1fe0882": {
      "model_module": "@jupyter-widgets/base",
      "model_module_version": "1.2.0",
      "model_name": "LayoutModel",
      "state": {}
     },
     "125e82d7e12d40e9b0682a0ba36c92bc": {
      "model_module": "@jupyter-widgets/base",
      "model_module_version": "1.2.0",
      "model_name": "LayoutModel",
      "state": {}
     },
     "12979d07775d44a1af4919f4c72568df": {
      "model_module": "@jupyter-widgets/controls",
      "model_module_version": "1.5.0",
      "model_name": "ButtonStyleModel",
      "state": {}
     },
     "12cad41994e94fdc9e010d10d635e219": {
      "model_module": "@jupyter-widgets/base",
      "model_module_version": "1.2.0",
      "model_name": "LayoutModel",
      "state": {}
     },
     "1302d65a392a4ceb823b6b27c107177c": {
      "model_module": "@jupyter-widgets/controls",
      "model_module_version": "1.5.0",
      "model_name": "TextModel",
      "state": {
       "description": "Filter alerts by title:",
       "layout": "IPY_MODEL_a2625f5fa094423bb14120d53de49d68",
       "style": "IPY_MODEL_1929b574cd7c40a398c2fa7fcc92b4d5"
      }
     },
     "131fd956e155440ea0bebfc457aa07a3": {
      "model_module": "@jupyter-widgets/base",
      "model_module_version": "1.2.0",
      "model_name": "LayoutModel",
      "state": {
       "width": "50%"
      }
     },
     "1353900086dd43288d392cbe570a70da": {
      "model_module": "@jupyter-widgets/base",
      "model_module_version": "1.2.0",
      "model_name": "LayoutModel",
      "state": {
       "width": "80%"
      }
     },
     "14069b9199c0478bb631a6897dc6efce": {
      "model_module": "@jupyter-widgets/base",
      "model_module_version": "1.2.0",
      "model_name": "LayoutModel",
      "state": {}
     },
     "151f8bd9f12f422ab2fddcbfb63fd7a9": {
      "model_module": "@jupyter-widgets/controls",
      "model_module_version": "1.5.0",
      "model_name": "SliderStyleModel",
      "state": {
       "description_width": "initial"
      }
     },
     "15d327c9f4a64858ad0add081eb9cd14": {
      "model_module": "@jupyter-widgets/base",
      "model_module_version": "1.2.0",
      "model_name": "LayoutModel",
      "state": {
       "width": "50%"
      }
     },
     "15f5923f981945d1b43c2424dd4d99c7": {
      "model_module": "@jupyter-widgets/controls",
      "model_module_version": "1.5.0",
      "model_name": "VBoxModel",
      "state": {
       "children": [
        "IPY_MODEL_efa8fa7d6fa44a2e835ada7bcb1663b2",
        "IPY_MODEL_fa7cc933aa26444d86ea84f8d014ab27"
       ],
       "layout": "IPY_MODEL_9e6c9a343bb349e5a2704c8d8f3020ac"
      }
     },
     "16434ebd9fa44dea80764070f7c140de": {
      "model_module": "@jupyter-widgets/base",
      "model_module_version": "1.2.0",
      "model_name": "LayoutModel",
      "state": {}
     },
     "16d5c30885284063a2b84ec3d373924e": {
      "model_module": "@jupyter-widgets/base",
      "model_module_version": "1.2.0",
      "model_name": "LayoutModel",
      "state": {}
     },
     "175423b8bd32463d94bf9fba7231f5b3": {
      "model_module": "@jupyter-widgets/controls",
      "model_module_version": "1.5.0",
      "model_name": "VBoxModel",
      "state": {
       "children": [
        "IPY_MODEL_db9a8f4094f44ea9b1bae494262ef0e1",
        "IPY_MODEL_5de4b90ada29498290c603e21e6771d5",
        "IPY_MODEL_40fc60a5210d446eb69129c9c4d16c6d"
       ],
       "layout": "IPY_MODEL_0ac57acb57764886906fe325eb3c87cb"
      }
     },
     "1929b574cd7c40a398c2fa7fcc92b4d5": {
      "model_module": "@jupyter-widgets/controls",
      "model_module_version": "1.5.0",
      "model_name": "DescriptionStyleModel",
      "state": {
       "description_width": "initial"
      }
     },
     "1980f0edac404546b8088cececea9e68": {
      "model_module": "@jupyter-widgets/controls",
      "model_module_version": "1.5.0",
      "model_name": "TextModel",
      "state": {
       "description": "Filter:",
       "layout": "IPY_MODEL_d1193217e8444151839f9f62c4e1b381",
       "style": "IPY_MODEL_da34a823119445ab936b3658df046652"
      }
     },
     "19ad893ecdcc4af19caf2e4d09b60f41": {
      "model_module": "@jupyter-widgets/base",
      "model_module_version": "1.2.0",
      "model_name": "LayoutModel",
      "state": {}
     },
     "19e63a653b89491fa8958c49e588f155": {
      "model_module": "@jupyter-widgets/controls",
      "model_module_version": "1.5.0",
      "model_name": "SelectMultipleModel",
      "state": {
       "_options_labels": [
        "An event log was cleared",
        "Anomalous account creation detected",
        "Azure Security Center test alert (not a threat)",
        "DC local group addition - Demo",
        "DC with MS AM engine failure - Demo",
        "Deep Security Agent detected a malware",
        "Detected Petya ransomware indicators",
        "Detected actions indicative of disabling and deleting IIS log files.",
        "Detected anomalous mix of upper and lower case characters in command-line",
        "Detected change to a registry key that can be abused to bypass UAC",
        "Detected decoding of an executable using built-in certutil.exe tool",
        "Detected encoded executable in command line data",
        "Detected obfuscated command line.",
        "Detected possible execution of keygen executable",
        "Detected possible execution of malware dropper",
        "Detected possible local reconnaissance activity",
        "Detected potentially suspicious use of Telegram tool",
        "Detected suspicious Set-ExecutionPolicy and WinRM changes",
        "Detected suspicious commandline arguments",
        "Detected suspicious commandline used to start all executables in a directory",
        "Detected suspicious credentials in commandline",
        "Detected suspicious document credentials",
        "Detected suspicious execution of VBScript.Encode command",
        "Detected suspicious execution via rundll32.exe",
        "Detected suspicious file cleanup commands",
        "Detected suspicious file creation",
        "Detected suspicious named pipe communications",
        "Detected suspicious new firewall rule",
        "Detected suspicious use of Cacls to lower the security state of the system.",
        "Detected suspicious use of FTP -s Switch",
        "Detected suspicious use of Pcalua.exe to launch executable code",
        "Detected the disabling of critical services",
        "Digital currency mining related behavior detected",
        "Executable found running from a suspicious location",
        "Failed RDP Brute Force Attack",
        "Global domain trust creation - Demo",
        "High risk software detected",
        "Maliciuos IP communication",
        "Modified system binary discovered in dump file 5bd767e4-2d08-4714-b744-aaed04b57107__391365252.hdmp",
        "Multiple Domain Accounts Queried",
        "Network communication with a malicious machine detected",
        "Palo Alto admin logged on via SSH - Demo",
        "Possible compromised machine detected",
        "Possible credential dumping detected",
        "Possible outgoing spam activity detected",
        "Potential SQL Injection",
        "Potential attempt to bypass AppLocker detected",
        "Random process name detected",
        "Ransomware indicators detected",
        "Rare SVCHOST service group executed",
        "SQL injection blocked",
        "Sticky keys attack detected",
        "Successful RDP brute force attack",
        "Suspected Kerberos Golden Ticket attack parameters observed",
        "Suspicious Account Added",
        "Suspicious Account Creation Detected",
        "Suspicious Powershell Activity Detected",
        "Suspicious SVCHOST process executed",
        "Suspicious Volume Shadow Copy Activity",
        "Suspicious WindowPosition registry value detected",
        "Suspicious double extension file executed",
        "Suspicious download using Certutil detected",
        "Suspicious powershell cmdlets executed",
        "Suspicious process executed",
        "Suspicious system process executed",
        "Suspiciously named process detected"
       ],
       "description": "Source: ",
       "index": [],
       "layout": "IPY_MODEL_87dbcfb87177479fa9252aa7c77ed0ad",
       "rows": 5,
       "style": "IPY_MODEL_52ee00c0b0eb452095277c17772a4297"
      }
     },
     "1af79aa043fb4300a83ca7cc09ef1fe8": {
      "model_module": "@jupyter-widgets/controls",
      "model_module_version": "1.5.0",
      "model_name": "SliderStyleModel",
      "state": {
       "description_width": "initial"
      }
     },
     "1b338ad81fe543daa3727ef1a89a9c36": {
      "model_module": "@jupyter-widgets/controls",
      "model_module_version": "1.5.0",
      "model_name": "DescriptionStyleModel",
      "state": {
       "description_width": ""
      }
     },
     "1b3811beaa294f04be84748a3437291d": {
      "model_module": "@jupyter-widgets/controls",
      "model_module_version": "1.5.0",
      "model_name": "CheckboxModel",
      "state": {
       "description": "Save as environment var",
       "disabled": false,
       "layout": "IPY_MODEL_6919f5b4600a4223874760be48bcd55a",
       "style": "IPY_MODEL_a5ae559ea0634f33b0efa5256320a4fa",
       "value": true
      }
     },
     "1bde4e869e8848a9b2ed8378bd194928": {
      "model_module": "@jupyter-widgets/controls",
      "model_module_version": "1.5.0",
      "model_name": "VBoxModel",
      "state": {
       "children": [
        "IPY_MODEL_dcdda98adf5045389f556d0424754dbb",
        "IPY_MODEL_85b0deb570e4498592afde93681815f8",
        "IPY_MODEL_9c4a5653b71640e9a69f9eaba9013c2b"
       ],
       "layout": "IPY_MODEL_5a12dea483814db183f57ca1a87ab656"
      }
     },
     "1c2f3102820a48628eb4d18d2956488c": {
      "model_module": "@jupyter-widgets/controls",
      "model_module_version": "1.5.0",
      "model_name": "HBoxModel",
      "state": {
       "children": [
        "IPY_MODEL_710dbd33744743eda4391703efdeab76",
        "IPY_MODEL_b107e4b860184d7d92c27f28de1abf90"
       ],
       "layout": "IPY_MODEL_19ad893ecdcc4af19caf2e4d09b60f41"
      }
     },
     "1d1ff3c37ddc428f87e256e4bc328892": {
      "model_module": "@jupyter-widgets/base",
      "model_module_version": "1.2.0",
      "model_name": "LayoutModel",
      "state": {
       "width": "80%"
      }
     },
     "1d5ac4dcc260475fbff2b7004fbf4dd6": {
      "model_module": "@jupyter-widgets/controls",
      "model_module_version": "1.5.0",
      "model_name": "ButtonStyleModel",
      "state": {}
     },
     "1d697d37d1124c80ac7aae3b522a5523": {
      "model_module": "@jupyter-widgets/controls",
      "model_module_version": "1.5.0",
      "model_name": "IntRangeSliderModel",
      "state": {
       "_model_name": "IntRangeSliderModel",
       "_view_name": "IntRangeSliderView",
       "description": "Time Range (day):",
       "layout": "IPY_MODEL_24a51b1262c1447badec79d8a6144d4e",
       "max": 2,
       "min": -10,
       "style": "IPY_MODEL_95da5f15612d4a3596d9c1b80ddaddb8",
       "value": [
        -3,
        2
       ]
      }
     },
     "1e62fe342b46453cbefff081125e1512": {
      "model_module": "@jupyter-widgets/base",
      "model_module_version": "1.2.0",
      "model_name": "LayoutModel",
      "state": {}
     },
     "1f0bf58168504efba00e027aeea344f2": {
      "model_module": "@jupyter-widgets/controls",
      "model_module_version": "1.5.0",
      "model_name": "DescriptionStyleModel",
      "state": {
       "description_width": "initial"
      }
     },
     "1f21e57ba0e94df2aa7acef0b7209e1e": {
      "model_module": "@jupyter-widgets/controls",
      "model_module_version": "1.5.0",
      "model_name": "ButtonModel",
      "state": {
       "description": "Cancel",
       "layout": "IPY_MODEL_3ceb4a6cc284487dbe2d91173b587672",
       "style": "IPY_MODEL_65c4c29fa12a4fd884b45df87ffa870f"
      }
     },
     "1f4548aca9b445389f800319c7a24791": {
      "model_module": "@jupyter-widgets/controls",
      "model_module_version": "1.5.0",
      "model_name": "TextModel",
      "state": {
       "description": "Filter:",
       "layout": "IPY_MODEL_682b20da1c6344f4821461ae61223ab1",
       "style": "IPY_MODEL_03da8ee15f174f689cd112100255a5bf"
      }
     },
     "1f5819049e75421b9dd6f6d7c488ec63": {
      "model_module": "@jupyter-widgets/base",
      "model_module_version": "1.2.0",
      "model_name": "LayoutModel",
      "state": {
       "height": "300px",
       "width": "95%"
      }
     },
     "1f7fbd58db064519902261a9acfa0e72": {
      "model_module": "@jupyter-widgets/controls",
      "model_module_version": "1.5.0",
      "model_name": "TextModel",
      "state": {
       "description": "Query start time (UTC):",
       "layout": "IPY_MODEL_4264dc76491f4f35a093a1df026db0d7",
       "style": "IPY_MODEL_6008c4e3314545249b3655b37e814018",
       "value": "2020-08-10 20:27:56.859104"
      }
     },
     "1fbeb30c0dd54d0aa35689052ef65c5b": {
      "model_module": "@jupyter-widgets/controls",
      "model_module_version": "1.5.0",
      "model_name": "DescriptionStyleModel",
      "state": {
       "description_width": ""
      }
     },
     "209df0463cbb4503afeecc8b6372baff": {
      "model_module": "@jupyter-widgets/controls",
      "model_module_version": "1.5.0",
      "model_name": "ButtonModel",
      "state": {
       "description": "Confirm",
       "layout": "IPY_MODEL_64cd0f9ce7994978984f4ec90222c4f6",
       "style": "IPY_MODEL_f764a8e8f9a444bb9f5adb2fd67c277e"
      }
     },
     "21400462907f4d1384c040a4876c11bb": {
      "model_module": "@jupyter-widgets/controls",
      "model_module_version": "1.5.0",
      "model_name": "HTMLModel",
      "state": {
       "layout": "IPY_MODEL_f3426fcdabf74437b287d568d5e6b6df",
       "style": "IPY_MODEL_75ea49224b794b8f86073abef95520f9",
       "value": "<h4>Set query time boundaries</h4>"
      }
     },
     "227237c0d20840ef80ad2d1c22804020": {
      "model_module": "@jupyter-widgets/controls",
      "model_module_version": "1.5.0",
      "model_name": "HTMLModel",
      "state": {
       "layout": "IPY_MODEL_d90a1f4f6b154d539d6d506a65cc75f0",
       "style": "IPY_MODEL_e2834cb0492243d0a93b193fb6b7364d",
       "value": "<h4>Set query time boundaries</h4>"
      }
     },
     "22e80c04811a4c369239b398dcac9971": {
      "model_module": "@jupyter-widgets/controls",
      "model_module_version": "1.5.0",
      "model_name": "TextModel",
      "state": {
       "description": "enter your real name",
       "layout": "IPY_MODEL_c5598a3f9a6b4650bf00755c4e1670c6",
       "style": "IPY_MODEL_0d2024e167c743b5916b3497bee82fed",
       "value": "The other Ian"
      }
     },
     "2322e80ccea945e08c8521e7df88fa21": {
      "model_module": "@jupyter-widgets/controls",
      "model_module_version": "1.5.0",
      "model_name": "HBoxModel",
      "state": {
       "children": [
        "IPY_MODEL_804c3368dba84c4fa0b18e80efb7f62a",
        "IPY_MODEL_5d1d8a28fc6d40779ad7a841986a0276"
       ],
       "layout": "IPY_MODEL_6e5dcd8095af425581fe4fde2061a5c3"
      }
     },
     "2356d24971a643fab9293ea49049ecf7": {
      "model_module": "@jupyter-widgets/controls",
      "model_module_version": "1.5.0",
      "model_name": "IntRangeSliderModel",
      "state": {
       "_model_name": "IntRangeSliderModel",
       "_view_name": "IntRangeSliderView",
       "description": "Time Range (minute):",
       "layout": "IPY_MODEL_9f8636dae5ad4aaab44a4ea2da7379f5",
       "max": 120,
       "min": -120,
       "style": "IPY_MODEL_00afffff5a0e4e68b04f350934ac5197",
       "value": [
        -60,
        60
       ]
      }
     },
     "23b46329c27f45eb871946f4463e534a": {
      "model_module": "@jupyter-widgets/controls",
      "model_module_version": "1.5.0",
      "model_name": "DescriptionStyleModel",
      "state": {
       "description_width": ""
      }
     },
     "24526eac83af4317b6d9a809cb961934": {
      "model_module": "@jupyter-widgets/base",
      "model_module_version": "1.2.0",
      "model_name": "LayoutModel",
      "state": {}
     },
     "2468278b3cdb47fba9aa8e40bb9c6101": {
      "model_module": "@jupyter-widgets/controls",
      "model_module_version": "1.5.0",
      "model_name": "ButtonModel",
      "state": {
       "description": "Yes",
       "layout": "IPY_MODEL_931d47fac88c45f08280320595a904e0",
       "style": "IPY_MODEL_dfaf8317a7e242fb964497a04392ecb8"
      }
     },
     "248055a70a3647f894c3a35bcf6f517c": {
      "model_module": "@jupyter-widgets/controls",
      "model_module_version": "1.5.0",
      "model_name": "DescriptionStyleModel",
      "state": {
       "description_width": ""
      }
     },
     "24a51b1262c1447badec79d8a6144d4e": {
      "model_module": "@jupyter-widgets/base",
      "model_module_version": "1.2.0",
      "model_name": "LayoutModel",
      "state": {
       "width": "80%"
      }
     },
     "24fc5e41d65944c8ac171425defe5235": {
      "model_module": "@jupyter-widgets/base",
      "model_module_version": "1.2.0",
      "model_name": "LayoutModel",
      "state": {
       "width": "80%"
      }
     },
     "256bff39741a469e828ff1be62f3ae4b": {
      "model_module": "@jupyter-widgets/controls",
      "model_module_version": "1.5.0",
      "model_name": "SelectMultipleModel",
      "state": {
       "_options_labels": [
        "Detected suspicious commandline arguments",
        "Detected suspicious commandline used to start all executables in a directory",
        "Detected suspicious credentials in commandline"
       ],
       "description": "Selected: ",
       "index": [],
       "layout": "IPY_MODEL_87dbcfb87177479fa9252aa7c77ed0ad",
       "rows": 5,
       "style": "IPY_MODEL_c19d6f79f4e048aca1f2131845855b8c"
      }
     },
     "25a6fe17861b47618462f8a406611bbe": {
      "model_module": "@jupyter-widgets/base",
      "model_module_version": "1.2.0",
      "model_name": "LayoutModel",
      "state": {
       "width": "50%"
      }
     },
     "260934c2107a4aa08a7039080212b084": {
      "model_module": "@jupyter-widgets/controls",
      "model_module_version": "1.5.0",
      "model_name": "DescriptionStyleModel",
      "state": {
       "description_width": "initial"
      }
     },
     "269b45fdbd984138a14d34c320d2bf79": {
      "model_module": "@jupyter-widgets/controls",
      "model_module_version": "1.5.0",
      "model_name": "HBoxModel",
      "state": {
       "children": [
        "IPY_MODEL_c6c4880d1668447fb8c9880fdbb2916f",
        "IPY_MODEL_6f316ff011974913af8e6617b35639d8"
       ],
       "layout": "IPY_MODEL_ac54c2415110444eaf577eefd09fc111"
      }
     },
     "26c4a21cf64c47809ca6a965f62c5f00": {
      "model_module": "@jupyter-widgets/controls",
      "model_module_version": "1.5.0",
      "model_name": "TextModel",
      "state": {
       "description": "Time (24hr)",
       "layout": "IPY_MODEL_b82a95041f5141fcbde9061c4881bd91",
       "style": "IPY_MODEL_e96eed0e0a6a45fbbf66e850a38cb21e",
       "value": "18:26:37.614251"
      }
     },
     "26d6dd68b5ac43aaba42eb42912c71f1": {
      "model_module": "@jupyter-widgets/controls",
      "model_module_version": "1.5.0",
      "model_name": "ButtonStyleModel",
      "state": {}
     },
     "2748ba1d8a5444fbb6891f4083149639": {
      "model_module": "@jupyter-widgets/controls",
      "model_module_version": "1.5.0",
      "model_name": "HTMLModel",
      "state": {
       "layout": "IPY_MODEL_6af2fecdbfb84c72b4fd5aa6449a7783",
       "style": "IPY_MODEL_5b0147b1ac3b4a0194919eabcf0ef943",
       "value": "<h4>Set query time boundaries</h4>"
      }
     },
     "27818162d607433f85c3d292eb4bd5dd": {
      "model_module": "@jupyter-widgets/controls",
      "model_module_version": "1.5.0",
      "model_name": "DescriptionStyleModel",
      "state": {
       "description_width": "initial"
      }
     },
     "2967a90da9a34649b59d190761ef794b": {
      "model_module": "@jupyter-widgets/controls",
      "model_module_version": "1.5.0",
      "model_name": "SliderStyleModel",
      "state": {
       "description_width": "initial"
      }
     },
     "2a0902badfab4d25b1d441ff9b3eb6bc": {
      "model_module": "@jupyter-widgets/base",
      "model_module_version": "1.2.0",
      "model_name": "LayoutModel",
      "state": {
       "width": "50%"
      }
     },
     "2a164f0f704440828f86666ddb0f450d": {
      "model_module": "@jupyter-widgets/controls",
      "model_module_version": "1.5.0",
      "model_name": "TextModel",
      "state": {
       "description": "Query end time (UTC) :  ",
       "layout": "IPY_MODEL_eb1e5649c8574161a964875b44ffff7a",
       "style": "IPY_MODEL_eee45c19890745139baabe850910580a",
       "value": "2020-08-11 19:26:37.548250"
      }
     },
     "2b9435fe3e984fac9c2384a5caedb72c": {
      "model_module": "@jupyter-widgets/base",
      "model_module_version": "1.2.0",
      "model_name": "LayoutModel",
      "state": {}
     },
     "2ba9a1e15b8e45e1bf7976159995d23f": {
      "model_module": "@jupyter-widgets/base",
      "model_module_version": "1.2.0",
      "model_name": "LayoutModel",
      "state": {}
     },
     "2c39e72179e7481f821f2a6b8b52500b": {
      "model_module": "@jupyter-widgets/controls",
      "model_module_version": "1.5.0",
      "model_name": "SliderStyleModel",
      "state": {
       "description_width": "initial"
      }
     },
     "2dd3f3d206d949a1af0066ba41a4528a": {
      "model_module": "@jupyter-widgets/base",
      "model_module_version": "1.2.0",
      "model_name": "LayoutModel",
      "state": {}
     },
     "2ea1bc876db34c9e84520ffce1eb9088": {
      "model_module": "@jupyter-widgets/controls",
      "model_module_version": "1.5.0",
      "model_name": "SliderStyleModel",
      "state": {
       "description_width": "initial"
      }
     },
     "2eaf07f9a66347be90506a38e9a6d169": {
      "model_module": "@jupyter-widgets/controls",
      "model_module_version": "1.5.0",
      "model_name": "HTMLModel",
      "state": {
       "layout": "IPY_MODEL_84afc6148e0e4d2087089d503f973894",
       "style": "IPY_MODEL_df3a9d9d062f4086a749328a0ad56336",
       "value": "<h4>Set query time boundaries</h4>"
      }
     },
     "2f13627fd3d14c2d842a25aa4f1b60db": {
      "model_module": "@jupyter-widgets/controls",
      "model_module_version": "1.5.0",
      "model_name": "DescriptionStyleModel",
      "state": {
       "description_width": "initial"
      }
     },
     "2f4110f170eb4dfe9a2d15bc04f09449": {
      "model_module": "@jupyter-widgets/base",
      "model_module_version": "1.2.0",
      "model_name": "LayoutModel",
      "state": {
       "width": "50%"
      }
     },
     "2f42ceb57a084be8b9b8f1fd006502cc": {
      "model_module": "@jupyter-widgets/controls",
      "model_module_version": "1.5.0",
      "model_name": "DescriptionStyleModel",
      "state": {
       "description_width": "initial"
      }
     },
     "2f520ba8017645628f9d7e56456b65c9": {
      "model_module": "@jupyter-widgets/controls",
      "model_module_version": "1.5.0",
      "model_name": "SliderStyleModel",
      "state": {
       "description_width": "initial"
      }
     },
     "2f99a64e35a14d039e1c9865fde4530f": {
      "model_module": "@jupyter-widgets/controls",
      "model_module_version": "1.5.0",
      "model_name": "LabelModel",
      "state": {
       "layout": "IPY_MODEL_4a3d2b697c704995b26bbb0c53667921",
       "style": "IPY_MODEL_700fab611a1043dfa8467a759cfc9922",
       "value": "Timed out. Defaulted to 'yes'"
      }
     },
     "31f304f658f04416a5f9a0514eaf664a": {
      "model_module": "@jupyter-widgets/base",
      "model_module_version": "1.2.0",
      "model_name": "LayoutModel",
      "state": {}
     },
     "3220165240c9409d82eb409296f9e645": {
      "model_module": "@jupyter-widgets/controls",
      "model_module_version": "1.5.0",
      "model_name": "DescriptionStyleModel",
      "state": {
       "description_width": ""
      }
     },
     "322926b770c34d1ea14686c1d30ca127": {
      "model_module": "@jupyter-widgets/base",
      "model_module_version": "1.2.0",
      "model_name": "LayoutModel",
      "state": {}
     },
     "32baaaa9d9664c1d8b5ee1b3b43b1011": {
      "model_module": "@jupyter-widgets/controls",
      "model_module_version": "1.5.0",
      "model_name": "SelectModel",
      "state": {
       "_options_labels": [
        "2018-12-30 00:02:00 - Network communication with a malicious machine detected - (nan)  - [id:a511e1bb-69e1-41a2-8054-c6fcb6aa2362]",
        "2019-01-01 00:02:00 - Possible compromised machine detected - (nan)  - [id:62ded865-938b-4bb3-afef-605d692607f1]",
        "2019-01-01 00:02:00 - An event log was cleared - (nan)  - [id:48facfa1-fe35-45ff-8c91-7a710cd462b9]",
        "2019-01-03 00:02:00 - Suspicious process executed - (nan)  - [id:a32adc3f-43f7-4e5d-b833-98baa71c2f51]",
        "2019-01-03 00:02:00 - Suspicious double extension file executed - (nan)  - [id:112dc225-bc2d-4328-97fd-a99e0b000b1f]",
        "2019-01-05 01:02:00 - SQL injection blocked - (nan)  - [id:0c68e539-f060-401f-b967-6b64b8f49198]",
        "2019-01-05 02:02:00 - Failed RDP Brute Force Attack - (nan)  - [id:8832e816-d634-4214-bb48-7a6678fdf0b7]",
        "2019-01-06 02:02:00 - Successful RDP brute force attack - (nan)  - [id:3b2b5ecc-ec29-4703-9450-29b29b937fd8]",
        "2019-01-06 03:02:00 - Suspicious SVCHOST process executed - (nan)  - [id:614ae18e-cd79-4d4c-97dc-24431be12b5b]",
        "2019-01-06 04:02:00 - Multiple Domain Accounts Queried - (vm1)  - [id:7b27ffab-7204-4856-a013-908de6c1804e]",
        "2019-01-06 05:02:00 - Network communication with a malicious machine detected - (nan)  - [id:98a6dea6-1b64-41d0-938e-0dec24b234ec]",
        "2019-01-07 05:02:00 - Modified system binary discovered in dump file 5bd767e4-2d08-4714-b744-aaed04b57107__391365252.hdmp - (nan)  - [id:775505ce-0ef9-4945-b697-303f7666d1b6]",
        "2019-01-08 05:02:00 - Possible outgoing spam activity detected - (vm1lin)  - [id:28f9b83a-33e6-44da-a002-0f48bff46a67]",
        "2019-01-09 05:02:00 - Deep Security Agent detected a malware - (nan)  - [id:5fc4f6a0-0687-4b93-998e-a230af39c10b]",
        "2019-01-09 05:38:06 - Global domain trust creation - Demo - (nan)  - [id:9740fe80-b642-4a38-8e86-05fa4d35508b]",
        "2019-01-09 06:25:57 - Maliciuos IP communication - (nan)  - [id:04e14d6f-6d4f-46d4-a5f6-2a26bcd34ce8]",
        "2019-01-09 06:31:40 - DC local group addition - Demo - (nan)  - [id:ace7fb98-ef96-46df-ba7b-9a15a141d368]",
        "2019-01-09 06:31:42 - Palo Alto admin logged on via SSH - Demo - (nan)  - [id:40a5916b-9697-423a-a5e4-95cca7c735e7]",
        "2019-01-09 06:33:55 - DC with MS AM engine failure - Demo - (nan)  - [id:78cc7e02-6116-459d-9cdc-a6dcc40ba937]",
        "2019-01-10 05:02:00 - Potential SQL Injection - (nan)  - [id:5365ee7a-f730-42d2-bcdf-b2e898ab98d7]",
        "2019-01-10 05:38:06 - Global domain trust creation - Demo - (nan)  - [id:401f2680-cc05-4e6f-a1f6-69cff2055cd9]",
        "2019-01-10 06:25:57 - Maliciuos IP communication - (nan)  - [id:b5786d68-7f5e-4be1-92e6-e255010d1d8c]",
        "2019-01-10 06:31:40 - DC local group addition - Demo - (nan)  - [id:01659bf1-1228-4e46-b73b-e7d173d365eb]",
        "2019-01-10 06:31:42 - Palo Alto admin logged on via SSH - Demo - (nan)  - [id:0ce6ad61-302a-4142-8eaa-4da9dfad9ca9]",
        "2019-01-10 06:33:55 - DC with MS AM engine failure - Demo - (nan)  - [id:df9f92cb-6fd2-469b-9b72-28f128df1adf]",
        "2019-01-10 19:18:10 - Suspicious Account Added - (nan)  - [id:b3f02c05-e844-4161-81d6-d736548d91ae]",
        "2019-01-11 05:38:06 - Global domain trust creation - Demo - (nan)  - [id:6b56aa8c-da76-4caf-b09d-8706292a8b89]",
        "2019-01-11 06:25:57 - Maliciuos IP communication - (nan)  - [id:4586bd9e-5c1e-4229-9a01-ecd84ad51448]",
        "2019-01-11 06:31:40 - DC local group addition - Demo - (nan)  - [id:047f47d6-79b7-4502-824b-97abc4905a73]",
        "2019-01-11 06:31:42 - Palo Alto admin logged on via SSH - Demo - (nan)  - [id:2d06cb42-bdff-426d-8091-ccc151bcbc94]",
        "2019-01-11 06:33:55 - DC with MS AM engine failure - Demo - (nan)  - [id:412ca580-63c8-4fd2-87e4-87b1ba4260b3]",
        "2019-01-11 19:18:10 - Suspicious Account Added - (nan)  - [id:42a8b425-1c41-4355-8343-18ad563c43b6]",
        "2019-01-12 05:38:06 - Global domain trust creation - Demo - (nan)  - [id:bc44b302-78c7-4be8-bf70-d39d6935fd74]",
        "2019-01-12 06:25:57 - Maliciuos IP communication - (nan)  - [id:c76f17e2-e739-4e7e-bf17-4dd163fc831f]",
        "2019-01-12 06:31:40 - DC local group addition - Demo - (nan)  - [id:07be11df-3dbf-49a5-8b5a-dcea75d89993]",
        "2019-01-12 06:31:42 - Palo Alto admin logged on via SSH - Demo - (nan)  - [id:09ec519f-96b0-4332-be30-b0379c8cbd04]",
        "2019-01-12 06:33:55 - DC with MS AM engine failure - Demo - (nan)  - [id:6a7aaa2e-a575-4e8b-87ed-0d964bf1005e]",
        "2019-01-12 19:18:10 - Suspicious Account Added - (nan)  - [id:d4638075-fed2-4031-8e52-d37c220b0fe4]",
        "2019-01-13 05:38:06 - Global domain trust creation - Demo - (nan)  - [id:5d733fc8-ff32-436d-a595-beaf8943bd63]",
        "2019-01-13 06:25:57 - Maliciuos IP communication - (nan)  - [id:54a8f6d8-f69b-4872-96f8-ef274d5fc8d4]",
        "2019-01-13 06:31:40 - DC local group addition - Demo - (nan)  - [id:47445dca-b87d-45f5-9073-b713e3c69a56]",
        "2019-01-13 06:31:42 - Palo Alto admin logged on via SSH - Demo - (nan)  - [id:45176796-d3f9-40ce-a8f2-aba9bb3c8063]",
        "2019-01-13 06:33:55 - DC with MS AM engine failure - Demo - (nan)  - [id:985be534-6f40-4b0c-a951-8f3915eacd61]",
        "2019-01-13 19:18:10 - Suspicious Account Added - (nan)  - [id:790217fc-9597-4159-b469-bb383c747435]",
        "2019-01-14 05:38:06 - Global domain trust creation - Demo - (nan)  - [id:fbaf48de-152a-4aa6-8a69-902b219bf972]",
        "2019-01-14 06:25:57 - Maliciuos IP communication - (nan)  - [id:1828afac-b4c2-41d9-acbd-7d23b7219557]",
        "2019-01-14 06:31:40 - DC local group addition - Demo - (nan)  - [id:b34d24c9-2223-4887-af93-7598abf28763]",
        "2019-01-14 06:31:42 - Palo Alto admin logged on via SSH - Demo - (nan)  - [id:9442245d-eaf6-47c5-b715-1c16b2c54fc4]",
        "2019-01-14 06:33:55 - DC with MS AM engine failure - Demo - (nan)  - [id:edc4065d-886f-4aff-b17d-f1397ce4baec]",
        "2019-01-14 21:18:10 - Suspicious Account Added - (nan)  - [id:1cca38a9-e0c5-4165-a78d-491ca2641c1c]",
        "2019-01-15 05:15:03 - Suspicious Account Creation Detected - (MSTICALERTSWIN1)  - [id:2518547714966107270_3c380601-b5ad-4fff-9cdb-24528a3a19fd]",
        "2019-01-15 05:15:03 - Anomalous account creation detected - (nan)  - [id:2518547714966107270_90beedae-1285-43d6-8f33-16bc542af39b]",
        "2019-01-15 05:15:10 - Potential attempt to bypass AppLocker detected - (MSTICALERTSWIN1)  - [id:2518547714892475358_9e449abd-e67b-4ec8-a191-e688d7d63e26]",
        "2019-01-15 05:15:11 - Detected decoding of an executable using built-in certutil.exe tool - (MSTICALERTSWIN1)  - [id:2518547714882331861_5c56421d-d894-4437-9b9a-a3b5c6b7e1df]",
        "2019-01-15 05:15:11 - Detected suspicious credentials in commandline - (MSTICALERTSWIN1)  - [id:2518547714880519889_9d6d471a-c94f-4706-b0ff-b2f0301495aa]",
        "2019-01-15 05:15:11 - Digital currency mining related behavior detected - (MSTICALERTSWIN1)  - [id:2518547714887413669_4fa0022e-f431-4ba1-ae5f-ee23247e0853]",
        "2019-01-15 05:15:11 - Suspiciously named process detected - (MSTICALERTSWIN1)  - [id:2518547714887413669_1c680842-2a1d-40c0-a6e4-32e5dd144647]",
        "2019-01-15 05:15:11 - Detected encoded executable in command line data - (MSTICALERTSWIN1)  - [id:2518547714885867955_290559aa-a3d0-425b-8ed2-e98ccc9f0aa0]",
        "2019-01-15 05:15:12 - Detected suspicious commandline arguments - (MSTICALERTSWIN1)  - [id:2518547714879317674_226cc394-fccf-483d-888a-beafad2ed4a4]",
        "2019-01-15 05:15:12 - Detected suspicious document credentials - (MSTICALERTSWIN1)  - [id:2518547714879970078_b080127b-d5c1-425e-a7ca-e4bbd873009d]",
        "2019-01-15 05:15:12 - Detected obfuscated command line. - (MSTICALERTSWIN1)  - [id:2518547714871530079_77211491-86de-4295-82bc-38e332fe1112]",
        "2019-01-15 05:15:12 - Suspicious powershell cmdlets executed - (MSTICALERTSWIN1)  - [id:2518547714874872692_3eb0eb4b-0536-430c-8ab6-cd48524c14b1]",
        "2019-01-15 05:15:12 - Suspicious Powershell Activity Detected - (MSTICALERTSWIN1)  - [id:2518547714874872692_30d988ff-b8d9-45df-8217-e56b0d4d591c]",
        "2019-01-15 05:15:12 - Suspicious Powershell Activity Detected - (MSTICALERTSWIN1)  - [id:2518547714873290756_df1b9eb2-05c4-4f7c-8540-cbb18ec5c608]",
        "2019-01-15 05:15:12 - Suspicious Powershell Activity Detected - (MSTICALERTSWIN1)  - [id:2518547714876077067_953def48-a24b-42a9-bd02-7221be90f84a]",
        "2019-01-15 05:15:13 - Suspicious Powershell Activity Detected - (MSTICALERTSWIN1)  - [id:2518547714867787710_76336679-bddf-460f-90fb-35a1386de7a6]",
        "2019-01-15 05:15:14 - Executable found running from a suspicious location - (MSTICALERTSWIN1)  - [id:2518547714857061520_f4324711-aeae-4912-a634-331b7e7456b6]",
        "2019-01-15 05:15:14 - Suspicious system process executed - (nan)  - [id:2518547714857061520_28f9a2e6-1925-455e-ad97-7af7f92f521d]",
        "2019-01-15 05:15:14 - Suspicious WindowPosition registry value detected - (MSTICALERTSWIN1)  - [id:2518547714858429362_9bfd0e4b-ec93-46bb-8eea-f72e8f1262f1]",
        "2019-01-15 05:15:14 - Suspicious process executed - (MSTICALERTSWIN1)  - [id:2518547714854375707_e2a60bd1-d7c8-466d-a176-4333d4e0d1d5]",
        "2019-01-15 05:15:14 - Detected suspicious named pipe communications - (MSTICALERTSWIN1)  - [id:2518547714859677078_9b4e4942-d564-4755-862c-7171d52921e3]",
        "2019-01-15 05:15:14 - Executable found running from a suspicious location - (MSTICALERTSWIN1)  - [id:2518547714853062206_f9ddd8b3-5fa8-4f2f-b811-bdca90091195]",
        "2019-01-15 05:15:15 - Detected change to a registry key that can be abused to bypass UAC - (MSTICALERTSWIN1)  - [id:2518547714844291280_8f71e695-ba9b-4c97-9770-63cdeb34b7b4]",
        "2019-01-15 05:15:15 - Detected anomalous mix of upper and lower case characters in command-line - (MSTICALERTSWIN1)  - [id:2518547714844457503_55cd3e12-3a91-4b06-9be6-833df3365142]",
        "2019-01-15 05:15:15 - Detected suspicious use of FTP -s Switch - (MSTICALERTSWIN1)  - [id:2518547714843218505_265472ff-3820-4dad-8da7-00e39e1a99fd]",
        "2019-01-15 05:15:15 - Sticky keys attack detected - (MSTICALERTSWIN1)  - [id:2518547714843796759_b3737297-038c-4514-a957-d591384b4256]",
        "2019-01-15 05:15:15 - Suspicious process executed - (MSTICALERTSWIN1)  - [id:2518547714842732992_ad5981a5-fdcc-406a-8742-e50bd7f84917]",
        "2019-01-15 05:15:16 - Detected suspicious new firewall rule - (MSTICALERTSWIN1)  - [id:2518547714839319574_33edaa83-fe35-47de-9486-fc9792c5b65b]",
        "2019-01-15 05:15:16 - Detected suspicious execution via rundll32.exe - (MSTICALERTSWIN1)  - [id:2518547714834806864_4bb2ecc3-f4aa-40cd-a3d7-802fc9086e89]",
        "2019-01-15 05:15:16 - Detected suspicious execution via rundll32.exe - (MSTICALERTSWIN1)  - [id:2518547714835690929_8e73946b-ebea-4625-aa60-d97b82dcfb07]",
        "2019-01-15 05:15:16 - Detected possible local reconnaissance activity - (MSTICALERTSWIN1)  - [id:2518547714837217151_f0d023fb-376f-46ab-9976-a5825d826bea]",
        "2019-01-15 05:15:16 - Detected suspicious Set-ExecutionPolicy and WinRM changes - (MSTICALERTSWIN1)  - [id:2518547714832788202_b56b9e61-fefb-47a3-a34f-7c1b44f8268a]",
        "2019-01-15 05:15:16 - Detected suspicious commandline used to start all executables in a directory - (MSTICALERTSWIN1)  - [id:2518547714833232927_0e8db234-9727-41f3-a6e0-0773519603d2]",
        "2019-01-15 05:15:16 - Detected potentially suspicious use of Telegram tool - (MSTICALERTSWIN1)  - [id:2518547714833859291_4fa26308-1daf-49ee-8880-b194f950d8b0]",
        "2019-01-15 05:15:16 - Suspected Kerberos Golden Ticket attack parameters observed - (MSTICALERTSWIN1)  - [id:2518547714838326136_e776fca2-4c01-43eb-ab97-b9845af3529c]",
        "2019-01-15 05:15:16 - Detected actions indicative of disabling and deleting IIS log files. - (MSTICALERTSWIN1)  - [id:2518547714831067013_8df27789-fb10-4035-ac48-cd0883b2e6b0]",
        "2019-01-15 05:15:17 - Azure Security Center test alert (not a threat) - (MSTICALERTSWIN1)  - [id:2518547714824290520_b2d9be9f-58e2-4174-8658-419670393253]",
        "2019-01-15 05:15:17 - Suspicious SVCHOST process executed - (nan)  - [id:2518547714825902697_fcbb6bb7-4c7c-488e-903c-f625e98db7c4]",
        "2019-01-15 05:15:17 - Random process name detected - (MSTICALERTSWIN1)  - [id:2518547714829244584_9984a237-2dd7-4932-bb8d-23ca535a6254]",
        "2019-01-15 05:15:17 - Rare SVCHOST service group executed - (nan)  - [id:2518547714825070946_58694b54-2bee-4160-9595-30903b466f6e]",
        "2019-01-15 05:15:17 - Suspicious double extension file executed - (nan)  - [id:2518547714828736209_2b2ff728-1a2a-46e8-a49a-6991e074a740]",
        "2019-01-15 05:15:17 - Suspicious Volume Shadow Copy Activity - (nan)  - [id:2518547714828638992_6c6836bb-23cd-4b31-b78e-08360c5a4f83]",
        "2019-01-15 05:15:18 - Detected suspicious execution of VBScript.Encode command - (MSTICALERTSWIN1)  - [id:2518547714811804858_5b42a152-64c2-4f16-8cc3-887b8b0161fc]",
        "2019-01-15 05:15:18 - Detected suspicious file cleanup commands - (MSTICALERTSWIN1)  - [id:2518547714814450855_c0822e2b-785b-41a8-8136-21b7430a0078]",
        "2019-01-15 05:15:18 - Detected Petya ransomware indicators - (MSTICALERTSWIN1)  - [id:2518547714812938298_fa4939d4-a20c-440a-839c-89c0c43e1ccc]",
        "2019-01-15 05:15:18 - Detected suspicious file creation - (MSTICALERTSWIN1)  - [id:2518547714816637303_3252483f-2fdb-411a-93f5-e268d5e56abf]",
        "2019-01-15 05:15:18 - Detected suspicious use of Pcalua.exe to launch executable code - (MSTICALERTSWIN1)  - [id:2518547714811337754_ad1fd62a-9565-41e4-b94a-6264942033f6]",
        "2019-01-15 05:15:18 - Detected possible execution of keygen executable - (MSTICALERTSWIN1)  - [id:2518547714814533914_38d53571-e98a-4bb6-a17f-0361a561019e]",
        "2019-01-15 05:15:18 - Detected suspicious use of Cacls to lower the security state of the system. - (MSTICALERTSWIN1)  - [id:2518547714815952205_1ba5718e-529b-441b-8036-ad06ee862e76]",
        "2019-01-15 05:15:18 - Detected the disabling of critical services - (MSTICALERTSWIN1)  - [id:2518547714813299511_a5df127a-f7e8-44ff-b404-6d5b37d06488]",
        "2019-01-15 05:15:18 - Ransomware indicators detected - (MSTICALERTSWIN1)  - [id:2518547714812286467_d5e026fa-6687-495e-878d-c4c93477cc78]",
        "2019-01-15 05:15:18 - Detected possible execution of malware dropper - (MSTICALERTSWIN1)  - [id:2518547714815009424_9a34d332-2fb6-4f3f-beb0-d9817dc9b7cd]",
        "2019-01-15 05:15:18 - High risk software detected - (MSTICALERTSWIN1)  - [id:2518547714813699414_d12ed618-567b-4b8f-8241-82ad4c1cb28e]",
        "2019-01-15 05:15:19 - Possible credential dumping detected - (MSTICALERTSWIN1)  - [id:2518547714809416002_76bf04a5-71fa-487a-9742-d54941a7a194]",
        "2019-01-15 05:15:19 - Suspicious download using Certutil detected - (MSTICALERTSWIN1)  - [id:2518547714805546049_03e7bf17-8f77-42ca-8ac1-af8258f4d1ca]",
        "2019-01-15 09:15:03 - Suspicious Account Creation Detected - (MSTICALERTSWIN1)  - [id:2518547570966661760_526e34b6-6578-4fc0-9db6-e126b4d673f0]",
        "2019-01-15 09:15:07 - Potential attempt to bypass AppLocker detected - (MSTICALERTSWIN1)  - [id:2518547570924760670_9868ed7d-397e-4aa4-8dbd-5a1c5f736c1e]",
        "2019-01-15 09:15:10 - Suspiciously named process detected - (MSTICALERTSWIN1)  - [id:2518547570895430544_4ea6c432-6d20-4986-9679-ecf58ac4854d]",
        "2019-01-15 09:15:10 - Digital currency mining related behavior detected - (MSTICALERTSWIN1)  - [id:2518547570895430544_72351be4-ae78-4cc6-9f6a-1ff87c31baeb]",
        "2019-01-15 09:15:11 - Detected obfuscated command line. - (MSTICALERTSWIN1)  - [id:2518547570880067443_c1a9004f-7f64-4144-8ce0-8f76f9041703]",
        "2019-01-15 09:15:11 - Suspicious Powershell Activity Detected - (MSTICALERTSWIN1)  - [id:2518547570883109415_c762b0f7-a0f5-4dda-ab48-54b5ae6eade4]",
        "2019-01-15 09:15:11 - Suspicious Powershell Activity Detected - (MSTICALERTSWIN1)  - [id:2518547570884378777_92a2f884-5827-4fb6-acf8-b0087b76aa73]",
        "2019-01-15 09:15:11 - Suspicious Powershell Activity Detected - (MSTICALERTSWIN1)  - [id:2518547570881721037_4ca5c629-673c-4372-9bd3-ab7bf6d6e6f0]",
        "2019-01-15 09:15:12 - Suspicious Powershell Activity Detected - (MSTICALERTSWIN1)  - [id:2518547570876432155_ce7c7361-8ac9-47be-b8fb-7a87c87ee178]",
        "2019-01-15 09:15:13 - Suspicious system process executed - (nan)  - [id:2518547570865502616_9d5e263f-55d2-441f-acf4-bf569b4cd976]",
        "2019-01-15 09:15:13 - Executable found running from a suspicious location - (MSTICALERTSWIN1)  - [id:2518547570865502616_c6f3dea2-fe36-4e65-b161-1b1cd1104eb3]",
        "2019-01-15 09:15:13 - Suspicious WindowPosition registry value detected - (MSTICALERTSWIN1)  - [id:2518547570866947129_1b074412-133c-4ac9-8e3f-24103159b03e]",
        "2019-01-15 09:15:13 - Executable found running from a suspicious location - (MSTICALERTSWIN1)  - [id:2518547570860979996_bddac8c5-cba5-4da2-a6dd-c0a39fc2b256]",
        "2019-01-15 09:15:13 - Suspicious process executed - (MSTICALERTSWIN1)  - [id:2518547570862568702_029c9c95-c1fe-4419-bc3b-a6d832c87e65]",
        "2019-01-15 09:15:14 - Suspicious process executed - (MSTICALERTSWIN1)  - [id:2518547570851316041_43f7d8f3-fea5-4fca-a884-713c2d65203c]",
        "2019-01-15 09:15:14 - Detected anomalous mix of upper and lower case characters in command-line - (MSTICALERTSWIN1)  - [id:2518547570852901341_3ca6ca5a-8bf2-417f-b8c9-3cea37c84f4b]",
        "2019-01-15 09:15:16 - Suspicious double extension file executed - (nan)  - [id:2518547570836535349_c45bcb62-9d89-44e8-bea9-7a9e35205576]",
        "2019-01-15 09:15:16 - Rare SVCHOST service group executed - (nan)  - [id:2518547570834399134_26ccc2ad-8ce0-4f60-8215-18f99377b547]",
        "2019-01-15 09:15:16 - Suspicious Volume Shadow Copy Activity - (nan)  - [id:2518547570836431794_b9d79b27-d725-4a87-b7ec-6fc9ec591e8c]",
        "2019-01-15 09:15:16 - Azure Security Center test alert (not a threat) - (MSTICALERTSWIN1)  - [id:2518547570833725387_2df8ae94-03fe-4b9f-a3a9-f3c6dab95c05]",
        "2019-01-15 09:15:16 - Suspicious SVCHOST process executed - (nan)  - [id:2518547570835168086_117b7a02-d1d0-4cf2-bc04-0b19a796b4d3]",
        "2019-01-15 09:15:17 - Ransomware indicators detected - (MSTICALERTSWIN1)  - [id:2518547570821365949_48327b74-c904-402d-a1d8-2b3a882924e7]",
        "2019-01-15 09:15:17 - Detected Petya ransomware indicators - (MSTICALERTSWIN1)  - [id:2518547570821871899_e647375c-9979-47b5-9f78-f414a1aad26d]",
        "2019-01-15 11:45:00 - Suspicious Account Creation Detected - (MSTICALERTSWIN1)  - [id:2518547480991748435_836318d1-0fa0-4cfe-a3d0-2b1fdbaf2216]",
        "2019-01-15 11:45:01 - Suspiciously named process detected - (MSTICALERTSWIN1)  - [id:2518547480988516756_54bb943e-7fe9-4146-a43e-4064c8e0049f]",
        "2019-01-15 11:45:01 - Digital currency mining related behavior detected - (MSTICALERTSWIN1)  - [id:2518547480988516756_668ed54c-9e73-4d4f-a9c2-b88fd1b13db0]",
        "2019-01-15 11:45:01 - Potential attempt to bypass AppLocker detected - (MSTICALERTSWIN1)  - [id:2518547480989617678_f3490cf7-a303-4001-b7d6-8acf7e83f191]",
        "2019-01-15 11:45:01 - Suspicious Powershell Activity Detected - (MSTICALERTSWIN1)  - [id:2518547480982973701_24a6d6f3-acf1-41bd-a11f-01a1369bac02]",
        "2019-01-15 11:45:01 - Suspicious Powershell Activity Detected - (MSTICALERTSWIN1)  - [id:2518547480984263491_d46877bd-e04d-401a-99bd-eec2a6b25663]",
        "2019-01-15 11:45:01 - Detected obfuscated command line. - (MSTICALERTSWIN1)  - [id:2518547480982511513_adfabbe0-fce0-44f3-be4b-17283bd03bed]",
        "2019-01-15 11:45:01 - Suspicious Powershell Activity Detected - (MSTICALERTSWIN1)  - [id:2518547480980813134_5cb7ab95-6017-4031-afb2-e11518b0f5cc]",
        "2019-01-15 11:45:01 - Suspicious Powershell Activity Detected - (MSTICALERTSWIN1)  - [id:2518547480983467170_9da8e3df-9c3b-4e20-8bd0-ace00aff9def]",
        "2019-01-15 11:45:02 - Executable found running from a suspicious location - (MSTICALERTSWIN1)  - [id:2518547480975043692_7e663699-5412-496f-ac91-e21a7b6f0be5]",
        "2019-01-15 11:45:02 - Executable found running from a suspicious location - (MSTICALERTSWIN1)  - [id:2518547480977057409_ed9d92ac-0ab8-4a2e-a1dd-f70ee30a9af1]",
        "2019-01-15 11:45:02 - Suspicious WindowPosition registry value detected - (MSTICALERTSWIN1)  - [id:2518547480977469312_e9ff6947-fd12-42d2-bb63-2d814f04482a]",
        "2019-01-15 11:45:02 - Suspicious process executed - (MSTICALERTSWIN1)  - [id:2518547480976076338_2a106d12-acd8-4dd7-9e1c-3c20b4eaa320]",
        "2019-01-15 11:45:02 - Suspicious system process executed - (nan)  - [id:2518547480977057409_492fbb97-a1fc-4880-95d2-e55ab2f142b6]",
        "2019-01-15 11:45:02 - Detected anomalous mix of upper and lower case characters in command-line - (MSTICALERTSWIN1)  - [id:2518547480970182118_c0558adc-b4a9-4289-b9ad-7e7260f1cde0]",
        "2019-01-15 11:45:03 - Suspicious process executed - (MSTICALERTSWIN1)  - [id:2518547480968677354_88eb8a87-a876-46aa-b8ed-be7298929ea8]",
        "2019-01-15 11:45:04 - Random process name detected - (MSTICALERTSWIN1)  - [id:2518547480956885358_b66e93d7-b38b-4785-baa5-093edc18e649]",
        "2019-01-15 11:45:04 - Suspicious Volume Shadow Copy Activity - (nan)  - [id:2518547480955968326_fa350f8b-2c81-478c-a383-debe0ab0c892]",
        "2019-01-15 11:45:04 - Suspicious double extension file executed - (nan)  - [id:2518547480956378190_2b59c1d5-a815-4562-a8d4-36d9777e6546]",
        "2019-01-15 11:45:05 - Rare SVCHOST service group executed - (nan)  - [id:2518547480946682289_f83c0705-d2ff-4355-a25d-ae858ee39b2d]",
        "2019-01-15 11:45:05 - Suspicious SVCHOST process executed - (nan)  - [id:2518547480947565906_5c82cd9c-60f8-4056-bd39-8ccb2cdb7678]",
        "2019-01-15 11:45:05 - Azure Security Center test alert (not a threat) - (MSTICALERTSWIN1)  - [id:2518547480945920380_00d33245-c643-4155-8c05-6abc4ee3b3cd]",
        "2019-01-15 11:45:06 - Ransomware indicators detected - (MSTICALERTSWIN1)  - [id:2518547480937987105_ec1678a1-0fe8-44c5-91b5-621c40d2bb8c]",
        "2019-01-15 11:45:06 - Detected Petya ransomware indicators - (MSTICALERTSWIN1)  - [id:2518547480938543829_91a4f9a7-70ad-433b-a568-34314e3f467f]",
        "2019-01-15 13:15:10 - Suspiciously named process detected - (MSTICALERTSWIN1)  - [id:2518547426892072407_171b74b2-a431-4b55-8d69-128e5fb95329]",
        "2019-01-15 13:15:13 - Suspicious WindowPosition registry value detected - (MSTICALERTSWIN1)  - [id:2518547426863814510_75495c57-4fd6-4e27-b94c-c6f81f78bcb5]",
        "2019-01-15 13:15:13 - Suspicious system process executed - (nan)  - [id:2518547426862437699_184c075e-64ee-4901-bc37-6eb999e81a11]",
        "2019-01-15 13:15:14 - Suspicious process executed - (MSTICALERTSWIN1)  - [id:2518547426859453218_89d1850f-dccd-4d45-b194-650819d358d9]",
        "2019-01-15 13:15:14 - Executable found running from a suspicious location - (MSTICALERTSWIN1)  - [id:2518547426858055460_51b74398-40e2-4b1b-9d92-89c0004738c9]",
        "2019-01-15 13:15:15 - Suspicious process executed - (MSTICALERTSWIN1)  - [id:2518547426847947731_caa12d6c-4928-4787-90d4-cb27ff94373c]",
        "2019-01-15 13:15:16 - Suspicious SVCHOST process executed - (nan)  - [id:2518547426831794607_a513ab17-2b6a-4b1a-a925-a0b3c21ec38c]",
        "2019-01-15 13:15:16 - Rare SVCHOST service group executed - (nan)  - [id:2518547426830640211_88f9ae7a-e6b5-4b54-b967-08f3fc503d91]",
        "2019-01-15 13:15:16 - Suspicious Volume Shadow Copy Activity - (nan)  - [id:2518547426833434810_b6e594ea-16d3-480e-81a7-2f8fe3af64ba]",
        "2019-01-15 13:15:16 - Suspicious double extension file executed - (nan)  - [id:2518547426833838523_7b30c978-28d5-4a28-a4c2-0985f08ab1c6]",
        "2019-01-15 13:15:17 - Azure Security Center test alert (not a threat) - (MSTICALERTSWIN1)  - [id:2518547426829675756_846ec406-bb3e-451b-bf6f-9e1e17a69bd6]",
        "2019-01-15 13:15:18 - Ransomware indicators detected - (MSTICALERTSWIN1)  - [id:2518547426817428483_636ab38f-2528-4356-8602-d0910f8ac600]",
        "2019-01-15 13:15:18 - Detected Petya ransomware indicators - (MSTICALERTSWIN1)  - [id:2518547426817928329_a4aa878d-93b5-4cd1-931f-30f85b9e6db2]",
        "2019-01-15 17:15:03 - Suspicious Account Creation Detected - (MSTICALERTSWIN1)  - [id:2518547282966696689_3db7e1e7-2edc-4dd9-8c1d-d908f5b8a904]",
        "2019-01-15 17:15:10 - Potential attempt to bypass AppLocker detected - (MSTICALERTSWIN1)  - [id:2518547282896095305_82730ffa-b9ce-43f4-bf3c-a97113107cc5]",
        "2019-01-15 17:15:10 - Suspiciously named process detected - (MSTICALERTSWIN1)  - [id:2518547282892925953_0073e6d8-6c2e-42e4-8966-d1f5a3dd3517]",
        "2019-01-15 17:15:10 - Digital currency mining related behavior detected - (MSTICALERTSWIN1)  - [id:2518547282892925953_35c8d588-ddf7-46b5-a0bf-f47023f9343c]",
        "2019-01-15 17:15:11 - Suspicious Powershell Activity Detected - (MSTICALERTSWIN1)  - [id:2518547282880013417_d65aa787-e867-43b1-9182-025a1a38173a]",
        "2019-01-15 17:15:11 - Suspicious Powershell Activity Detected - (MSTICALERTSWIN1)  - [id:2518547282881581273_ed5bcf39-ffd3-468a-82e3-28e108d4f06f]",
        "2019-01-15 17:15:11 - Suspicious Powershell Activity Detected - (MSTICALERTSWIN1)  - [id:2518547282883193041_31ae6eeb-bd1d-4018-8df9-eeedd60bf1ab]",
        "2019-01-15 17:15:12 - Suspicious Powershell Activity Detected - (MSTICALERTSWIN1)  - [id:2518547282874783943_bd1a0865-a507-4e2b-b8df-613238a950df]",
        "2019-01-15 17:15:12 - Detected obfuscated command line. - (MSTICALERTSWIN1)  - [id:2518547282878855119_d89d1ab7-e5b7-426c-a98f-eab95deea3ad]",
        "2019-01-15 17:15:13 - Suspicious system process executed - (nan)  - [id:2518547282863799328_7e169933-4275-4b94-b37f-490417bcfc98]",
        "2019-01-15 17:15:13 - Suspicious WindowPosition registry value detected - (MSTICALERTSWIN1)  - [id:2518547282865194453_9895a5cc-6f49-45f5-a0eb-f05c1f11f264]",
        "2019-01-15 17:15:13 - Executable found running from a suspicious location - (MSTICALERTSWIN1)  - [id:2518547282863799328_84ea8dcd-9436-4b4d-82b2-36114028bd61]",
        "2019-01-15 17:15:14 - Suspicious process executed - (MSTICALERTSWIN1)  - [id:2518547282859754476_0c3ae402-a9ea-4d5c-9c09-4274b7847c2c]",
        "2019-01-15 17:15:14 - Detected anomalous mix of upper and lower case characters in command-line - (MSTICALERTSWIN1)  - [id:2518547282850984831_7f983018-fd59-4e9e-ba70-295f6beb0e9c]",
        "2019-01-15 17:15:14 - Executable found running from a suspicious location - (MSTICALERTSWIN1)  - [id:2518547282858353938_58851b10-8f5c-48f1-aade-b1529f4e2c7f]",
        "2019-01-15 17:15:15 - Suspicious process executed - (MSTICALERTSWIN1)  - [id:2518547282845656644_c7318da8-368f-47f8-bff5-e15600a3fb80]",
        "2019-01-15 17:15:17 - Suspicious double extension file executed - (nan)  - [id:2518547282825853773_e6c85135-2b91-4537-b9a0-dae7eabb8e9d]",
        "2019-01-15 17:15:17 - Suspicious Volume Shadow Copy Activity - (nan)  - [id:2518547282825448815_6a71b543-4832-4658-8467-825aeafbe031]",
        "2019-01-15 17:15:18 - Rare SVCHOST service group executed - (nan)  - [id:2518547282813841329_a7e8e8c1-4561-48ea-bf75-a22c7bfc2257]",
        "2019-01-15 17:15:18 - Azure Security Center test alert (not a threat) - (MSTICALERTSWIN1)  - [id:2518547282812706885_12ae1e22-347e-454c-ae0d-ebb48cdf189b]",
        "2019-01-15 17:15:18 - Suspicious SVCHOST process executed - (nan)  - [id:2518547282814913644_34cc156e-9179-44c4-bd60-89dd1812e9e7]",
        "2019-01-15 17:15:19 - Detected Petya ransomware indicators - (MSTICALERTSWIN1)  - [id:2518547282803821916_c76cdb6c-cea0-4b2b-9ab6-1442a5857ed8]",
        "2019-01-15 17:15:19 - Ransomware indicators detected - (MSTICALERTSWIN1)  - [id:2518547282802847718_4a524cc8-7613-4c42-93a9-8c1e466a4476]",
        "2019-01-15 21:18:10 - Suspicious Account Added - (nan)  - [id:cbdce694-666c-4844-a29c-e7f4b66e27d1]"
       ],
       "description": "Select alert :",
       "index": 0,
       "layout": "IPY_MODEL_52acf326f8a44c85af83bd268c15c9f7",
       "style": "IPY_MODEL_d5c82c93d36042d29f0c0a2087f2d7ec"
      }
     },
     "332f67f32b234346bcc26a18d15730cd": {
      "model_module": "@jupyter-widgets/base",
      "model_module_version": "1.2.0",
      "model_name": "LayoutModel",
      "state": {}
     },
     "337520544c3f49da8e07ef8f05583d33": {
      "model_module": "@jupyter-widgets/controls",
      "model_module_version": "1.5.0",
      "model_name": "DescriptionStyleModel",
      "state": {
       "description_width": "initial"
      }
     },
     "34273c0394d24c54abd6c72dfd7d92f2": {
      "model_module": "@jupyter-widgets/controls",
      "model_module_version": "1.5.0",
      "model_name": "TextModel",
      "state": {
       "description": "Time (24hr)",
       "layout": "IPY_MODEL_14069b9199c0478bb631a6897dc6efce",
       "style": "IPY_MODEL_039731814b7f449b8d25206372d56c77",
       "value": "18:26:32.907250"
      }
     },
     "348f727bae45401eb681274779aa940c": {
      "model_module": "@jupyter-widgets/controls",
      "model_module_version": "1.5.0",
      "model_name": "DescriptionStyleModel",
      "state": {
       "description_width": "initial"
      }
     },
     "3491dfe8e41242c68168fbcd688e3d43": {
      "model_module": "@jupyter-widgets/base",
      "model_module_version": "1.2.0",
      "model_name": "LayoutModel",
      "state": {}
     },
     "34b1e7d6587348748fecce3aa25894f6": {
      "model_module": "@jupyter-widgets/controls",
      "model_module_version": "1.5.0",
      "model_name": "SliderStyleModel",
      "state": {
       "description_width": "initial"
      }
     },
     "3547eeb111474010919b1aafaa4f49ce": {
      "model_module": "@jupyter-widgets/controls",
      "model_module_version": "1.5.0",
      "model_name": "ButtonStyleModel",
      "state": {}
     },
     "3548015fa66f4a82a4361977214f0907": {
      "model_module": "@jupyter-widgets/controls",
      "model_module_version": "1.5.0",
      "model_name": "ButtonModel",
      "state": {
       "description": "Cancel",
       "layout": "IPY_MODEL_5a7990ecdb4442bda292342393139ee4",
       "style": "IPY_MODEL_82f8feb2ba3543d69fd5034653dcaa50"
      }
     },
     "35953066b6064c1bbc600d83e41d19da": {
      "model_module": "@jupyter-widgets/controls",
      "model_module_version": "1.5.0",
      "model_name": "ButtonStyleModel",
      "state": {}
     },
     "35bc21f0b5064d2094ec58fdb739ed52": {
      "model_module": "@jupyter-widgets/controls",
      "model_module_version": "1.5.0",
      "model_name": "DescriptionStyleModel",
      "state": {
       "description_width": ""
      }
     },
     "3669b0f8663540658bb2ba7ebaace4c3": {
      "model_module": "@jupyter-widgets/controls",
      "model_module_version": "1.5.0",
      "model_name": "LabelModel",
      "state": {
       "layout": "IPY_MODEL_b91a75d4c0474d76976e1fe9ad5bd503",
       "style": "IPY_MODEL_01b847d38cd742209618a1895220533d",
       "value": "Continue?"
      }
     },
     "375ffc33c46346ab8f2a79c266dc3e1e": {
      "model_module": "@jupyter-widgets/base",
      "model_module_version": "1.2.0",
      "model_name": "LayoutModel",
      "state": {}
     },
     "37e810bcb4964b149f0c3474f11f17a1": {
      "model_module": "@jupyter-widgets/controls",
      "model_module_version": "1.5.0",
      "model_name": "DescriptionStyleModel",
      "state": {
       "description_width": "initial"
      }
     },
     "37f40f9db08b4efe994530e5459b2b87": {
      "model_module": "@jupyter-widgets/controls",
      "model_module_version": "1.5.0",
      "model_name": "HBoxModel",
      "state": {
       "children": [
        "IPY_MODEL_ece76ade147f4546bc0136a390444ed2",
        "IPY_MODEL_6cf5c565214441e7bf5d67a9ab436d24"
       ],
       "layout": "IPY_MODEL_de99fcadf8484786b8ca27d3a0b7d066"
      }
     },
     "38ae79af1a3742d7a2aa9d380b5e23f0": {
      "model_module": "@jupyter-widgets/controls",
      "model_module_version": "1.5.0",
      "model_name": "TextModel",
      "state": {
       "description": "Query end time (UTC) :  ",
       "layout": "IPY_MODEL_c2815aab1c564af7bcfd02815b9a2e2a",
       "style": "IPY_MODEL_70dd4d2832e447f6ad2c2292344f5a8f",
       "value": "2020-08-12 20:27:56.859104"
      }
     },
     "38cfd5bc1a5d4e7babfef1f762b27ee9": {
      "model_module": "@jupyter-widgets/controls",
      "model_module_version": "1.5.0",
      "model_name": "DatePickerModel",
      "state": {
       "description": "Origin Date",
       "disabled": false,
       "layout": "IPY_MODEL_bbdc19406a3f45eda47e52b8227f89ce",
       "style": "IPY_MODEL_e0accafc4b154e3d8290053a8cece81f",
       "value": {
        "date": 11,
        "month": 7,
        "year": 2020
       }
      }
     },
     "39f4681ae92d4650b416d7a6dc0e4156": {
      "model_module": "@jupyter-widgets/base",
      "model_module_version": "1.2.0",
      "model_name": "LayoutModel",
      "state": {
       "left": "10px"
      }
     },
     "3a013f5203dc4a32b64289c0c7268bb7": {
      "model_module": "@jupyter-widgets/controls",
      "model_module_version": "1.5.0",
      "model_name": "ButtonStyleModel",
      "state": {}
     },
     "3a3f62ecce72464b85007e67f3cade3f": {
      "model_module": "@jupyter-widgets/base",
      "model_module_version": "1.2.0",
      "model_name": "LayoutModel",
      "state": {}
     },
     "3beec8b06b8e4bc3aec8e3b73d998f98": {
      "model_module": "@jupyter-widgets/controls",
      "model_module_version": "1.5.0",
      "model_name": "SelectMultipleModel",
      "state": {
       "description": "Selected: ",
       "index": [],
       "layout": "IPY_MODEL_c4d0f964f9a24b46b5f667310961dd8a",
       "rows": 5,
       "style": "IPY_MODEL_958bf253f07e4dbab1502db4a62d63a0"
      }
     },
     "3c7ce5c54ec74268bff08573fa9ebf82": {
      "model_module": "@jupyter-widgets/base",
      "model_module_version": "1.2.0",
      "model_name": "LayoutModel",
      "state": {}
     },
     "3ceb4a6cc284487dbe2d91173b587672": {
      "model_module": "@jupyter-widgets/base",
      "model_module_version": "1.2.0",
      "model_name": "LayoutModel",
      "state": {}
     },
     "3d5ae3b2c2504b64b5cf41871605559b": {
      "model_module": "@jupyter-widgets/controls",
      "model_module_version": "1.5.0",
      "model_name": "DescriptionStyleModel",
      "state": {
       "description_width": "initial"
      }
     },
     "3d6cb211b5c2404b8bd192284dab0ac5": {
      "model_module": "@jupyter-widgets/controls",
      "model_module_version": "1.5.0",
      "model_name": "DescriptionStyleModel",
      "state": {
       "description_width": ""
      }
     },
     "3db1b478408a42c7969ee4112e9da65c": {
      "model_module": "@jupyter-widgets/controls",
      "model_module_version": "1.5.0",
      "model_name": "DatePickerModel",
      "state": {
       "description": "Origin Date",
       "disabled": false,
       "layout": "IPY_MODEL_7a41eb8706274fae8f019e35e14156f3",
       "style": "IPY_MODEL_1fbeb30c0dd54d0aa35689052ef65c5b",
       "value": {
        "date": 11,
        "month": 7,
        "year": 2020
       }
      }
     },
     "3dc32315b058481c8b68c26ef84ec570": {
      "model_module": "@jupyter-widgets/base",
      "model_module_version": "1.2.0",
      "model_name": "LayoutModel",
      "state": {
       "width": "80%"
      }
     },
     "3e45661bd0dc4ce4af282fb7d101e634": {
      "model_module": "@jupyter-widgets/controls",
      "model_module_version": "1.5.0",
      "model_name": "TextModel",
      "state": {
       "description": "Enter your name",
       "layout": "IPY_MODEL_25a6fe17861b47618462f8a406611bbe",
       "style": "IPY_MODEL_9046d24f03ff4f7d82060c556080ee94",
       "value": "Ian"
      }
     },
     "3e9ae944dc7b43c5979ae5f6301e36ca": {
      "model_module": "@jupyter-widgets/base",
      "model_module_version": "1.2.0",
      "model_name": "LayoutModel",
      "state": {}
     },
     "3ef3aaa28d2f4fbfbccf5f2ad4eb7f08": {
      "model_module": "@jupyter-widgets/base",
      "model_module_version": "1.2.0",
      "model_name": "LayoutModel",
      "state": {
       "width": "80%"
      }
     },
     "3f2619473b8d4ecc9cddd9afdfc4de28": {
      "model_module": "@jupyter-widgets/controls",
      "model_module_version": "1.5.0",
      "model_name": "DatePickerModel",
      "state": {
       "description": "Origin Date",
       "disabled": false,
       "layout": "IPY_MODEL_24526eac83af4317b6d9a809cb961934",
       "style": "IPY_MODEL_d6b2994fd2f44035a2afc0eb176af1f7",
       "value": {
        "date": 6,
        "month": 7,
        "year": 2020
       }
      }
     },
     "3f980ef35b9f4617bb5534586406abf4": {
      "model_module": "@jupyter-widgets/controls",
      "model_module_version": "1.5.0",
      "model_name": "SliderStyleModel",
      "state": {
       "description_width": "initial"
      }
     },
     "40956b9f0fca4879ad338359f6d2bf62": {
      "model_module": "@jupyter-widgets/controls",
      "model_module_version": "1.5.0",
      "model_name": "HBoxModel",
      "state": {
       "children": [
        "IPY_MODEL_c37d4322a0fb41f2b3f64c6ac16fadd9",
        "IPY_MODEL_fb5e67bcd6784714bf21e1cd4ebdbee7"
       ],
       "layout": "IPY_MODEL_e2a2d05bd342429eb37671a81b3b8512"
      }
     },
     "40fc60a5210d446eb69129c9c4d16c6d": {
      "model_module": "@jupyter-widgets/controls",
      "model_module_version": "1.5.0",
      "model_name": "TextModel",
      "state": {
       "description": "Query end time (UTC) :  ",
       "layout": "IPY_MODEL_06824c587579402d90ee399cce4761ba",
       "style": "IPY_MODEL_7e72cb23deda45efb1f7c45e46413977",
       "value": "2020-08-12 20:25:11.230101"
      }
     },
     "4139f2bf7f874d539f01493c71f9d01d": {
      "model_module": "@jupyter-widgets/base",
      "model_module_version": "1.2.0",
      "model_name": "LayoutModel",
      "state": {}
     },
     "414108025cf14dc49e72e3e04f9fd762": {
      "model_module": "@jupyter-widgets/controls",
      "model_module_version": "1.5.0",
      "model_name": "DescriptionStyleModel",
      "state": {
       "description_width": ""
      }
     },
     "41fa1838f629465d86a5c8c9c6edfb1b": {
      "model_module": "@jupyter-widgets/controls",
      "model_module_version": "1.5.0",
      "model_name": "DescriptionStyleModel",
      "state": {
       "description_width": "initial"
      }
     },
     "4264dc76491f4f35a093a1df026db0d7": {
      "model_module": "@jupyter-widgets/base",
      "model_module_version": "1.2.0",
      "model_name": "LayoutModel",
      "state": {
       "width": "50%"
      }
     },
     "427ec1dc6caa4503a3dcd43d9932145c": {
      "model_module": "@jupyter-widgets/controls",
      "model_module_version": "1.5.0",
      "model_name": "DescriptionStyleModel",
      "state": {
       "description_width": "initial"
      }
     },
     "42efd6ef98344480baf0d79151aa1bf0": {
      "model_module": "@jupyter-widgets/controls",
      "model_module_version": "1.5.0",
      "model_name": "VBoxModel",
      "state": {
       "children": [
        "IPY_MODEL_1f4548aca9b445389f800319c7a24791",
        "IPY_MODEL_cfd38ff6e9574747b92155f9d968ffd9"
       ],
       "layout": "IPY_MODEL_83604a44192f478091480f400d46901b"
      }
     },
     "431b4345c592417c8470a5f78e0eaeb5": {
      "model_module": "@jupyter-widgets/controls",
      "model_module_version": "1.5.0",
      "model_name": "DescriptionStyleModel",
      "state": {
       "description_width": "initial"
      }
     },
     "43b80552973845fb90ab0bda345a5c51": {
      "model_module": "@jupyter-widgets/controls",
      "model_module_version": "1.5.0",
      "model_name": "DescriptionStyleModel",
      "state": {
       "description_width": "initial"
      }
     },
     "441b6da28aac4680a2aa26b7b1c063e2": {
      "model_module": "@jupyter-widgets/controls",
      "model_module_version": "1.5.0",
      "model_name": "DescriptionStyleModel",
      "state": {
       "description_width": "initial"
      }
     },
     "4442b922e08b4452af485b0e9fd3e6be": {
      "model_module": "@jupyter-widgets/controls",
      "model_module_version": "1.5.0",
      "model_name": "LabelModel",
      "state": {
       "layout": "IPY_MODEL_39f4681ae92d4650b416d7a6dc0e4156",
       "style": "IPY_MODEL_3d6cb211b5c2404b8bd192284dab0ac5"
      }
     },
     "44c577e507ca4f38a0f3204cc29fa43d": {
      "model_module": "@jupyter-widgets/controls",
      "model_module_version": "1.5.0",
      "model_name": "TextModel",
      "state": {
       "description": "Time (24hr)",
       "layout": "IPY_MODEL_78e4338a534e44b8b67b09ee05d01ce5",
       "style": "IPY_MODEL_e4296bd18fdb43959bd834133b0faec9",
       "value": "20:26:03.431101"
      }
     },
     "460585bfb2b2422ba5dbc07dce53ea99": {
      "model_module": "@jupyter-widgets/base",
      "model_module_version": "1.2.0",
      "model_name": "LayoutModel",
      "state": {}
     },
     "46522deb4d5e482ba84b0f1ec0766e86": {
      "model_module": "@jupyter-widgets/controls",
      "model_module_version": "1.5.0",
      "model_name": "HBoxModel",
      "state": {
       "children": [
        "IPY_MODEL_e4fa209f932f4eed845335b80aa47d5a",
        "IPY_MODEL_c40395828b2e4130803f18a225e2b9ed",
        "IPY_MODEL_a1931c8e84914fc6af2160677d877265",
        "IPY_MODEL_981051d83d1f455a9fe814ef06e299ac"
       ],
       "layout": "IPY_MODEL_f3d1424460a940c0ae0a0831352fd0d5"
      }
     },
     "4668e097ce5f4d9ba2d03bf47cb49189": {
      "model_module": "@jupyter-widgets/controls",
      "model_module_version": "1.5.0",
      "model_name": "ButtonModel",
      "state": {
       "description": "Set",
       "layout": "IPY_MODEL_c84d9a363f8b4c3c9f52ba99c10914b2",
       "style": "IPY_MODEL_1d5ac4dcc260475fbff2b7004fbf4dd6"
      }
     },
     "48171602459840a387c85a00cb1a4cdc": {
      "model_module": "@jupyter-widgets/controls",
      "model_module_version": "1.5.0",
      "model_name": "ButtonStyleModel",
      "state": {}
     },
     "486af1d19a374f9baf88ceb625b43382": {
      "model_module": "@jupyter-widgets/base",
      "model_module_version": "1.2.0",
      "model_name": "LayoutModel",
      "state": {}
     },
     "493238e2936741109bed8611aaa1eab9": {
      "model_module": "@jupyter-widgets/controls",
      "model_module_version": "1.5.0",
      "model_name": "DescriptionStyleModel",
      "state": {
       "description_width": ""
      }
     },
     "49f53b76e1e24e5aa5494c4dd0c320f5": {
      "model_module": "@jupyter-widgets/base",
      "model_module_version": "1.2.0",
      "model_name": "LayoutModel",
      "state": {
       "width": "50%"
      }
     },
     "4a3d2b697c704995b26bbb0c53667921": {
      "model_module": "@jupyter-widgets/base",
      "model_module_version": "1.2.0",
      "model_name": "LayoutModel",
      "state": {
       "left": "10px"
      }
     },
     "4abb89363ea240f5bbdc14685283e5c8": {
      "model_module": "@jupyter-widgets/controls",
      "model_module_version": "1.5.0",
      "model_name": "TextModel",
      "state": {
       "description": "Query start time (UTC):",
       "layout": "IPY_MODEL_0a1dc68c93744676bbfa09f14d4dea7e",
       "style": "IPY_MODEL_27818162d607433f85c3d292eb4bd5dd",
       "value": "2020-08-10 20:25:11.230101"
      }
     },
     "4aefecb3823d43eaaff9269e4ab0c74a": {
      "model_module": "@jupyter-widgets/base",
      "model_module_version": "1.2.0",
      "model_name": "LayoutModel",
      "state": {}
     },
     "4bdca669d6c946f3bcf35df27c26cfd6": {
      "model_module": "@jupyter-widgets/controls",
      "model_module_version": "1.5.0",
      "model_name": "DescriptionStyleModel",
      "state": {
       "description_width": "initial"
      }
     },
     "4ce99552beb94fee90c203d9c830de70": {
      "model_module": "@jupyter-widgets/controls",
      "model_module_version": "1.5.0",
      "model_name": "ButtonStyleModel",
      "state": {}
     },
     "4d3518f7d9a6472abe0f90046b014667": {
      "model_module": "@jupyter-widgets/controls",
      "model_module_version": "1.5.0",
      "model_name": "TextModel",
      "state": {
       "description": "Query start time (UTC):",
       "layout": "IPY_MODEL_8d78d27162cb46bdb4992c7fe38fc37e",
       "style": "IPY_MODEL_260934c2107a4aa08a7039080212b084",
       "value": "2020-08-11 17:26:33.035251"
      }
     },
     "4e4c472e497c4b9096230af2de6fe86d": {
      "model_module": "@jupyter-widgets/controls",
      "model_module_version": "1.5.0",
      "model_name": "IntRangeSliderModel",
      "state": {
       "_model_name": "IntRangeSliderModel",
       "_view_name": "IntRangeSliderView",
       "description": "Time Range (hour):",
       "layout": "IPY_MODEL_1353900086dd43288d392cbe570a70da",
       "max": 12,
       "min": -20,
       "style": "IPY_MODEL_b551f985ba4d483a82209a0573e3cb0e",
       "value": [
        -4,
        6
       ]
      }
     },
     "4ed8abd73bbd42658258e927c3c763d0": {
      "model_module": "@jupyter-widgets/controls",
      "model_module_version": "1.5.0",
      "model_name": "TextModel",
      "state": {
       "description": "Query start time (UTC):",
       "layout": "IPY_MODEL_9619e2f73c8b40d9b1190eb65549b3b8",
       "style": "IPY_MODEL_e19ff1c60a7e4e9088af565e6e2fdaf1",
       "value": "2020-08-10 20:25:11.230101"
      }
     },
     "4f317ec7d328457bac36bc4a48170a34": {
      "model_module": "@jupyter-widgets/base",
      "model_module_version": "1.2.0",
      "model_name": "LayoutModel",
      "state": {}
     },
     "4f7b5c19f9d147c8ac82506b4b4afef2": {
      "model_module": "@jupyter-widgets/base",
      "model_module_version": "1.2.0",
      "model_name": "LayoutModel",
      "state": {}
     },
     "4fcdc2422da8409ead23389ed411d040": {
      "model_module": "@jupyter-widgets/controls",
      "model_module_version": "1.5.0",
      "model_name": "DescriptionStyleModel",
      "state": {
       "description_width": "initial"
      }
     },
     "50612f8cc0534ad1b3fcad9c967d9bd9": {
      "model_module": "@jupyter-widgets/base",
      "model_module_version": "1.2.0",
      "model_name": "LayoutModel",
      "state": {}
     },
     "50d95da32ffe4c9d936e66b2a5bb1de1": {
      "model_module": "@jupyter-widgets/controls",
      "model_module_version": "1.5.0",
      "model_name": "DescriptionStyleModel",
      "state": {
       "description_width": ""
      }
     },
     "51c00d475f2f42cab21b7a450104f8ca": {
      "model_module": "@jupyter-widgets/controls",
      "model_module_version": "1.5.0",
      "model_name": "ButtonModel",
      "state": {
       "description": "⇽ Remove All",
       "layout": "IPY_MODEL_a7bf543c875041bdb63f8fc3a7ac61cb",
       "style": "IPY_MODEL_8cc5f48fd9c642e3a7037c98ca1fce1b"
      }
     },
     "51c28a0e7ead4973ac82bf89104bb39a": {
      "model_module": "@jupyter-widgets/controls",
      "model_module_version": "1.5.0",
      "model_name": "ButtonModel",
      "state": {
       "description": "Add ⇾",
       "layout": "IPY_MODEL_0c34dc79f2734240ad04bab1d9ba0ead",
       "style": "IPY_MODEL_4ce99552beb94fee90c203d9c830de70"
      }
     },
     "525835fef8684398a249a0659ebf6a1e": {
      "model_module": "@jupyter-widgets/controls",
      "model_module_version": "1.5.0",
      "model_name": "DatePickerModel",
      "state": {
       "description": "Origin Date",
       "disabled": false,
       "layout": "IPY_MODEL_e0d98eaf8c344d589e021d5d445bec40",
       "style": "IPY_MODEL_f060d8e8c37d4d14bd5f40a4f1d0b08b",
       "value": {
        "date": 6,
        "month": 7,
        "year": 2020
       }
      }
     },
     "52acf326f8a44c85af83bd268c15c9f7": {
      "model_module": "@jupyter-widgets/base",
      "model_module_version": "1.2.0",
      "model_name": "LayoutModel",
      "state": {
       "height": "300px",
       "width": "95%"
      }
     },
     "52ae7d05037f4db5b7271e1725d9d5b5": {
      "model_module": "@jupyter-widgets/controls",
      "model_module_version": "1.5.0",
      "model_name": "LabelModel",
      "state": {
       "layout": "IPY_MODEL_61eb4bbc5af849e0a2fe51aa7299acb7",
       "style": "IPY_MODEL_566bee6914f749b8bfe416d139d6720a",
       "value": "Continue?"
      }
     },
     "52df63ba0a2b43dc9b8be893320940e5": {
      "model_module": "@jupyter-widgets/controls",
      "model_module_version": "1.5.0",
      "model_name": "VBoxModel",
      "state": {
       "children": [
        "IPY_MODEL_d14f2fd2c7e545a5bd0e6d599bc1429b",
        "IPY_MODEL_e2219d0de2914eea96e014bf21872713",
        "IPY_MODEL_639f34f49cfc4ba08e0ce478612dfc23"
       ],
       "layout": "IPY_MODEL_125e82d7e12d40e9b0682a0ba36c92bc"
      }
     },
     "52ee00c0b0eb452095277c17772a4297": {
      "model_module": "@jupyter-widgets/controls",
      "model_module_version": "1.5.0",
      "model_name": "DescriptionStyleModel",
      "state": {
       "description_width": ""
      }
     },
     "5343f7d5fd7041a0b060e94dacc1a45f": {
      "model_module": "@jupyter-widgets/controls",
      "model_module_version": "1.5.0",
      "model_name": "IntRangeSliderModel",
      "state": {
       "_model_name": "IntRangeSliderModel",
       "_view_name": "IntRangeSliderView",
       "description": "Time Range (day):",
       "layout": "IPY_MODEL_1d1ff3c37ddc428f87e256e4bc328892",
       "max": 2,
       "min": -12,
       "style": "IPY_MODEL_2c39e72179e7481f821f2a6b8b52500b",
       "value": [
        -1,
        1
       ]
      }
     },
     "535c3ac68e074681a6bfa29acf9ef1c4": {
      "model_module": "@jupyter-widgets/controls",
      "model_module_version": "1.5.0",
      "model_name": "DatePickerModel",
      "state": {
       "description": "Origin Date",
       "disabled": false,
       "layout": "IPY_MODEL_58ad028e6d0a40829d7c488de76e1b8b",
       "style": "IPY_MODEL_d6514a5e8cbc4848a4c75efbb7e8cf4f",
       "value": {
        "date": 11,
        "month": 7,
        "year": 2020
       }
      }
     },
     "53a1a767ab31430c97a40d700ad6a0c1": {
      "model_module": "@jupyter-widgets/base",
      "model_module_version": "1.2.0",
      "model_name": "LayoutModel",
      "state": {}
     },
     "53e4f12369ed417aa76ebc2baf7d7899": {
      "model_module": "@jupyter-widgets/controls",
      "model_module_version": "1.5.0",
      "model_name": "TextModel",
      "state": {
       "description": "Query start time (UTC):",
       "layout": "IPY_MODEL_dc544f8b7693447badc2380074336857",
       "style": "IPY_MODEL_4fcdc2422da8409ead23389ed411d040",
       "value": "2020-07-27 14:26:32.907250"
      }
     },
     "54092f06b5714f94826b5db4a948fb8d": {
      "model_module": "@jupyter-widgets/base",
      "model_module_version": "1.2.0",
      "model_name": "LayoutModel",
      "state": {}
     },
     "54cb8b9a1395429190fe30cda43ecdfa": {
      "model_module": "@jupyter-widgets/controls",
      "model_module_version": "1.5.0",
      "model_name": "TextModel",
      "state": {
       "description": "Query end time (UTC) :  ",
       "layout": "IPY_MODEL_d73b035699344b69892122d9f983f567",
       "style": "IPY_MODEL_9f7db39483464fe3889186ee6796d2bc",
       "value": "2020-08-11 19:26:37.548250"
      }
     },
     "5550eefae1bc4fb4ae8dfce98e7eae76": {
      "model_module": "@jupyter-widgets/controls",
      "model_module_version": "1.5.0",
      "model_name": "DescriptionStyleModel",
      "state": {
       "description_width": "initial"
      }
     },
     "566bee6914f749b8bfe416d139d6720a": {
      "model_module": "@jupyter-widgets/controls",
      "model_module_version": "1.5.0",
      "model_name": "DescriptionStyleModel",
      "state": {
       "description_width": ""
      }
     },
     "56ae226914724c9fa68fadc59a519547": {
      "model_module": "@jupyter-widgets/base",
      "model_module_version": "1.2.0",
      "model_name": "LayoutModel",
      "state": {
       "width": "80%"
      }
     },
     "56fae0d75fe64ee9bcd5f8403668e9e6": {
      "model_module": "@jupyter-widgets/controls",
      "model_module_version": "1.5.0",
      "model_name": "ButtonStyleModel",
      "state": {}
     },
     "5741ca1e06114560a700fcb17f012420": {
      "model_module": "@jupyter-widgets/base",
      "model_module_version": "1.2.0",
      "model_name": "LayoutModel",
      "state": {
       "width": "50%"
      }
     },
     "583f86f9711c4d2eb8c05fbe177157d0": {
      "model_module": "@jupyter-widgets/controls",
      "model_module_version": "1.5.0",
      "model_name": "TextModel",
      "state": {
       "description": "Query start time (UTC):",
       "layout": "IPY_MODEL_5741ca1e06114560a700fcb17f012420",
       "style": "IPY_MODEL_0ba1a79a9c694d6bbc0d88b61fa32d09",
       "value": "2020-07-27 14:26:32.907250"
      }
     },
     "5888e271d7d043ba95a04097b2247d6a": {
      "model_module": "@jupyter-widgets/base",
      "model_module_version": "1.2.0",
      "model_name": "LayoutModel",
      "state": {}
     },
     "58ad028e6d0a40829d7c488de76e1b8b": {
      "model_module": "@jupyter-widgets/base",
      "model_module_version": "1.2.0",
      "model_name": "LayoutModel",
      "state": {}
     },
     "594065e567994d59bc8e393de2bd2907": {
      "model_module": "@jupyter-widgets/controls",
      "model_module_version": "1.5.0",
      "model_name": "ButtonModel",
      "state": {
       "description": "No",
       "layout": "IPY_MODEL_5cfb2649617d4e15aa2d20c36ab66ea6",
       "style": "IPY_MODEL_26d6dd68b5ac43aaba42eb42912c71f1"
      }
     },
     "59cc1aa378ec42baace959155b2bd26d": {
      "model_module": "@jupyter-widgets/base",
      "model_module_version": "1.2.0",
      "model_name": "LayoutModel",
      "state": {}
     },
     "5a12dea483814db183f57ca1a87ab656": {
      "model_module": "@jupyter-widgets/base",
      "model_module_version": "1.2.0",
      "model_name": "LayoutModel",
      "state": {}
     },
     "5a7990ecdb4442bda292342393139ee4": {
      "model_module": "@jupyter-widgets/base",
      "model_module_version": "1.2.0",
      "model_name": "LayoutModel",
      "state": {}
     },
     "5aa2ad0aee7a4357ad16bc9b9a2bf247": {
      "model_module": "@jupyter-widgets/controls",
      "model_module_version": "1.5.0",
      "model_name": "IntRangeSliderModel",
      "state": {
       "_model_name": "IntRangeSliderModel",
       "_view_name": "IntRangeSliderView",
       "description": "Time Range (day):",
       "layout": "IPY_MODEL_56ae226914724c9fa68fadc59a519547",
       "max": 2,
       "min": -12,
       "style": "IPY_MODEL_3f980ef35b9f4617bb5534586406abf4",
       "value": [
        -3,
        2
       ]
      }
     },
     "5b0147b1ac3b4a0194919eabcf0ef943": {
      "model_module": "@jupyter-widgets/controls",
      "model_module_version": "1.5.0",
      "model_name": "DescriptionStyleModel",
      "state": {
       "description_width": ""
      }
     },
     "5b662c7980404c1c9c9b722d89235c57": {
      "model_module": "@jupyter-widgets/controls",
      "model_module_version": "1.5.0",
      "model_name": "DescriptionStyleModel",
      "state": {
       "description_width": "initial"
      }
     },
     "5bdaa7fe0fdb4afd83ed1a95a969642b": {
      "model_module": "@jupyter-widgets/base",
      "model_module_version": "1.2.0",
      "model_name": "LayoutModel",
      "state": {}
     },
     "5c039b068a754b279e776a3911696f08": {
      "model_module": "@jupyter-widgets/controls",
      "model_module_version": "1.5.0",
      "model_name": "HBoxModel",
      "state": {
       "children": [
        "IPY_MODEL_cb548d6f54ca438c9c2e5352a78c8e31",
        "IPY_MODEL_9b8100f2c1dd4b2792fd028791908de0"
       ],
       "layout": "IPY_MODEL_f427a548ba2c450d9a7d965d24aca40b"
      }
     },
     "5cf709dc94b948f2957c0971846c0aa3": {
      "model_module": "@jupyter-widgets/base",
      "model_module_version": "1.2.0",
      "model_name": "LayoutModel",
      "state": {}
     },
     "5cfb2649617d4e15aa2d20c36ab66ea6": {
      "model_module": "@jupyter-widgets/base",
      "model_module_version": "1.2.0",
      "model_name": "LayoutModel",
      "state": {}
     },
     "5d1d8a28fc6d40779ad7a841986a0276": {
      "model_module": "@jupyter-widgets/controls",
      "model_module_version": "1.5.0",
      "model_name": "LabelModel",
      "state": {
       "layout": "IPY_MODEL_aa36c2741e4240c09119cc45770e5045",
       "style": "IPY_MODEL_7c505392cc284c619b7ce730a1c3782e",
       "value": "110%"
      }
     },
     "5da30e84f2e449ca924cf1e005d86ecf": {
      "model_module": "@jupyter-widgets/controls",
      "model_module_version": "1.5.0",
      "model_name": "DescriptionStyleModel",
      "state": {
       "description_width": "initial"
      }
     },
     "5dae38bc986c424b801e2755316e6537": {
      "model_module": "@jupyter-widgets/controls",
      "model_module_version": "1.5.0",
      "model_name": "HBoxModel",
      "state": {
       "children": [
        "IPY_MODEL_dd43d6173dc441c4a4cf7c6fd166a002",
        "IPY_MODEL_4668e097ce5f4d9ba2d03bf47cb49189",
        "IPY_MODEL_1b3811beaa294f04be84748a3437291d"
       ],
       "layout": "IPY_MODEL_50612f8cc0534ad1b3fcad9c967d9bd9"
      }
     },
     "5de4b90ada29498290c603e21e6771d5": {
      "model_module": "@jupyter-widgets/controls",
      "model_module_version": "1.5.0",
      "model_name": "TextModel",
      "state": {
       "description": "Query start time (UTC):",
       "layout": "IPY_MODEL_90209ce71e89478dbdebc49c8dfc5d57",
       "style": "IPY_MODEL_5e60f6d9eda941fe86e3a01370930a92",
       "value": "2020-08-10 20:25:11.230101"
      }
     },
     "5e60f6d9eda941fe86e3a01370930a92": {
      "model_module": "@jupyter-widgets/controls",
      "model_module_version": "1.5.0",
      "model_name": "DescriptionStyleModel",
      "state": {
       "description_width": "initial"
      }
     },
     "5e8aec5a558c40b886282ff2e1991824": {
      "model_module": "@jupyter-widgets/controls",
      "model_module_version": "1.5.0",
      "model_name": "HTMLModel",
      "state": {
       "layout": "IPY_MODEL_6b02b7eb1efd44eea8835d3faf669883",
       "style": "IPY_MODEL_ac0f382dc430496698fe2c87f30b87fd",
       "value": "<h4>Set query time boundaries</h4>"
      }
     },
     "5efa39d72bff495985f742b97f7cf236": {
      "model_module": "@jupyter-widgets/base",
      "model_module_version": "1.2.0",
      "model_name": "LayoutModel",
      "state": {
       "width": "80%"
      }
     },
     "5fa355067812430e89be7c46395bba61": {
      "model_module": "@jupyter-widgets/base",
      "model_module_version": "1.2.0",
      "model_name": "LayoutModel",
      "state": {}
     },
     "6008c4e3314545249b3655b37e814018": {
      "model_module": "@jupyter-widgets/controls",
      "model_module_version": "1.5.0",
      "model_name": "DescriptionStyleModel",
      "state": {
       "description_width": "initial"
      }
     },
     "603cf01bce364557800fd3a6344acf12": {
      "model_module": "@jupyter-widgets/controls",
      "model_module_version": "1.5.0",
      "model_name": "LabelModel",
      "state": {
       "layout": "IPY_MODEL_991ef96502824873812731d648645771",
       "style": "IPY_MODEL_e388756629e54f10a77a6a5f4d49d2d8",
       "value": "Timed out. Defaulted to 'yes'"
      }
     },
     "60efcbce99cc420db073107e20d1b903": {
      "model_module": "@jupyter-widgets/controls",
      "model_module_version": "1.5.0",
      "model_name": "LabelModel",
      "state": {
       "layout": "IPY_MODEL_53a1a767ab31430c97a40d700ad6a0c1",
       "style": "IPY_MODEL_0eb314a751de4392944f1be1571cd1f6",
       "value": "Continue?"
      }
     },
     "610a605f2c53474db125b8de1f47d3eb": {
      "model_module": "@jupyter-widgets/controls",
      "model_module_version": "1.5.0",
      "model_name": "ButtonStyleModel",
      "state": {}
     },
     "61921a56193e47159ad66520a47af62f": {
      "model_module": "@jupyter-widgets/controls",
      "model_module_version": "1.5.0",
      "model_name": "DescriptionStyleModel",
      "state": {
       "description_width": ""
      }
     },
     "61bd1a5f557b4276b2052514b2801255": {
      "model_module": "@jupyter-widgets/controls",
      "model_module_version": "1.5.0",
      "model_name": "DescriptionStyleModel",
      "state": {
       "description_width": ""
      }
     },
     "61eb4bbc5af849e0a2fe51aa7299acb7": {
      "model_module": "@jupyter-widgets/base",
      "model_module_version": "1.2.0",
      "model_name": "LayoutModel",
      "state": {}
     },
     "6212d538944945b6a2b60ebf07bbf890": {
      "model_module": "@jupyter-widgets/base",
      "model_module_version": "1.2.0",
      "model_name": "LayoutModel",
      "state": {}
     },
     "639f34f49cfc4ba08e0ce478612dfc23": {
      "model_module": "@jupyter-widgets/controls",
      "model_module_version": "1.5.0",
      "model_name": "TextModel",
      "state": {
       "description": "Query end time (UTC) :  ",
       "layout": "IPY_MODEL_de02974c58f043db8a1c9ad13732b22a",
       "style": "IPY_MODEL_c61ca3c4c627443985dff4822122b799",
       "value": "2020-08-12 20:25:11.230101"
      }
     },
     "63d63c3f2a624698ac002226f91c07d6": {
      "model_module": "@jupyter-widgets/controls",
      "model_module_version": "1.5.0",
      "model_name": "DescriptionStyleModel",
      "state": {
       "description_width": "initial"
      }
     },
     "64036faa981d413790a1d6ec4d29aa2c": {
      "model_module": "@jupyter-widgets/base",
      "model_module_version": "1.2.0",
      "model_name": "LayoutModel",
      "state": {}
     },
     "64322e041adf4bac87a36ca6ccfa2c70": {
      "model_module": "@jupyter-widgets/base",
      "model_module_version": "1.2.0",
      "model_name": "LayoutModel",
      "state": {}
     },
     "64cd0f9ce7994978984f4ec90222c4f6": {
      "model_module": "@jupyter-widgets/base",
      "model_module_version": "1.2.0",
      "model_name": "LayoutModel",
      "state": {}
     },
     "659075fa628b485990296dfbfaa0f8a5": {
      "model_module": "@jupyter-widgets/controls",
      "model_module_version": "1.5.0",
      "model_name": "DescriptionStyleModel",
      "state": {
       "description_width": ""
      }
     },
     "65c4c29fa12a4fd884b45df87ffa870f": {
      "model_module": "@jupyter-widgets/controls",
      "model_module_version": "1.5.0",
      "model_name": "ButtonStyleModel",
      "state": {}
     },
     "668ab50ed26f4561bbedf1844bcb7b40": {
      "model_module": "@jupyter-widgets/controls",
      "model_module_version": "1.5.0",
      "model_name": "DescriptionStyleModel",
      "state": {
       "description_width": "initial"
      }
     },
     "67e2944cd94349abb3708bdcdafa1e01": {
      "model_module": "@jupyter-widgets/base",
      "model_module_version": "1.2.0",
      "model_name": "LayoutModel",
      "state": {
       "width": "80%"
      }
     },
     "682b20da1c6344f4821461ae61223ab1": {
      "model_module": "@jupyter-widgets/base",
      "model_module_version": "1.2.0",
      "model_name": "LayoutModel",
      "state": {}
     },
     "68985c03e89c40a9b58bf0678657e8c5": {
      "model_module": "@jupyter-widgets/controls",
      "model_module_version": "1.5.0",
      "model_name": "DescriptionStyleModel",
      "state": {
       "description_width": "initial"
      }
     },
     "690226575ac642c1bf59a5353d444497": {
      "model_module": "@jupyter-widgets/controls",
      "model_module_version": "1.5.0",
      "model_name": "IntRangeSliderModel",
      "state": {
       "_model_name": "IntRangeSliderModel",
       "_view_name": "IntRangeSliderView",
       "description": "Time Range (minute):",
       "layout": "IPY_MODEL_82767e550db2445c853f76baae7032dc",
       "max": 120,
       "min": -120,
       "style": "IPY_MODEL_2967a90da9a34649b59d190761ef794b",
       "value": [
        -60,
        60
       ]
      }
     },
     "690232652fe34446a2766e008d976525": {
      "model_module": "@jupyter-widgets/controls",
      "model_module_version": "1.5.0",
      "model_name": "ButtonStyleModel",
      "state": {}
     },
     "6919f5b4600a4223874760be48bcd55a": {
      "model_module": "@jupyter-widgets/base",
      "model_module_version": "1.2.0",
      "model_name": "LayoutModel",
      "state": {}
     },
     "695a17f545a445ba80d680d760ab2a83": {
      "model_module": "@jupyter-widgets/controls",
      "model_module_version": "1.5.0",
      "model_name": "TextModel",
      "state": {
       "description": "Query end time (UTC) :  ",
       "layout": "IPY_MODEL_131fd956e155440ea0bebfc457aa07a3",
       "style": "IPY_MODEL_e1c2a3ed81aa492e860cb35aae4dd66a",
       "value": "2020-08-12 20:25:11.230101"
      }
     },
     "6a5d5339413c4352887e15b49eae3348": {
      "model_module": "@jupyter-widgets/controls",
      "model_module_version": "1.5.0",
      "model_name": "HBoxModel",
      "state": {
       "children": [
        "IPY_MODEL_2468278b3cdb47fba9aa8e40bb9c6101",
        "IPY_MODEL_adcb4c3300834356b44f2a368cc2617e",
        "IPY_MODEL_1f21e57ba0e94df2aa7acef0b7209e1e",
        "IPY_MODEL_b1e04f21e66a4fdb8c839cc9f731dcab"
       ],
       "layout": "IPY_MODEL_f017e2d1ea4c4d578927848a76a06869"
      }
     },
     "6aa89651b515473080598132f863d5b2": {
      "model_module": "@jupyter-widgets/controls",
      "model_module_version": "1.5.0",
      "model_name": "HTMLModel",
      "state": {
       "layout": "IPY_MODEL_032d9b822f26427fa6facb1247e05968",
       "style": "IPY_MODEL_248055a70a3647f894c3a35bcf6f517c",
       "value": "<h4>Set query time boundaries</h4>"
      }
     },
     "6af2fecdbfb84c72b4fd5aa6449a7783": {
      "model_module": "@jupyter-widgets/base",
      "model_module_version": "1.2.0",
      "model_name": "LayoutModel",
      "state": {}
     },
     "6b02b7eb1efd44eea8835d3faf669883": {
      "model_module": "@jupyter-widgets/base",
      "model_module_version": "1.2.0",
      "model_name": "LayoutModel",
      "state": {}
     },
     "6ce74061505047eb9029c31285431da7": {
      "model_module": "@jupyter-widgets/base",
      "model_module_version": "1.2.0",
      "model_name": "LayoutModel",
      "state": {}
     },
     "6cf5c565214441e7bf5d67a9ab436d24": {
      "model_module": "@jupyter-widgets/controls",
      "model_module_version": "1.5.0",
      "model_name": "TextModel",
      "state": {
       "description": "Time (24hr)",
       "layout": "IPY_MODEL_72f7be34ddb241c89b999fb8c6e180e0",
       "style": "IPY_MODEL_90470b9ea3654c14876ce28bd8a5bb78",
       "value": "20:25:11.230101"
      }
     },
     "6e5dcd8095af425581fe4fde2061a5c3": {
      "model_module": "@jupyter-widgets/base",
      "model_module_version": "1.2.0",
      "model_name": "LayoutModel",
      "state": {}
     },
     "6eeb4f386c3445d79f5a92708b23760e": {
      "model_module": "@jupyter-widgets/controls",
      "model_module_version": "1.5.0",
      "model_name": "DescriptionStyleModel",
      "state": {
       "description_width": ""
      }
     },
     "6efe0b95687e48c1bd095115d70ddcc2": {
      "model_module": "@jupyter-widgets/controls",
      "model_module_version": "1.5.0",
      "model_name": "DescriptionStyleModel",
      "state": {
       "description_width": ""
      }
     },
     "6f316ff011974913af8e6617b35639d8": {
      "model_module": "@jupyter-widgets/controls",
      "model_module_version": "1.5.0",
      "model_name": "TextModel",
      "state": {
       "description": "Time (24hr)",
       "layout": "IPY_MODEL_0b027da2316c40af9c4e44cb3861538b",
       "style": "IPY_MODEL_71b1533322c7448e9d2279a2257c2239",
       "value": "18:26:32.907250"
      }
     },
     "6f406df9557d4bd2bf3102d8c5879edd": {
      "model_module": "@jupyter-widgets/controls",
      "model_module_version": "1.5.0",
      "model_name": "TextModel",
      "state": {
       "description": "Query start time (UTC):",
       "layout": "IPY_MODEL_49f53b76e1e24e5aa5494c4dd0c320f5",
       "style": "IPY_MODEL_441b6da28aac4680a2aa26b7b1c063e2",
       "value": "2020-08-11 17:26:37.548250"
      }
     },
     "6f4b6bff292049879d85e97a75c391fc": {
      "model_module": "@jupyter-widgets/controls",
      "model_module_version": "1.5.0",
      "model_name": "ButtonStyleModel",
      "state": {}
     },
     "6f684980e8dc43ee916e4493baeca91f": {
      "model_module": "@jupyter-widgets/controls",
      "model_module_version": "1.5.0",
      "model_name": "TextModel",
      "state": {
       "description": "Query start time (UTC):",
       "layout": "IPY_MODEL_00552bf186524b0d8bf2a98181402d45",
       "style": "IPY_MODEL_37e810bcb4964b149f0c3474f11f17a1",
       "value": "2020-08-10 20:25:11.230101"
      }
     },
     "700fab611a1043dfa8467a759cfc9922": {
      "model_module": "@jupyter-widgets/controls",
      "model_module_version": "1.5.0",
      "model_name": "DescriptionStyleModel",
      "state": {
       "description_width": ""
      }
     },
     "703255cf09ee45278a739fd726b2a83e": {
      "model_module": "@jupyter-widgets/controls",
      "model_module_version": "1.5.0",
      "model_name": "LabelModel",
      "state": {
       "layout": "IPY_MODEL_d1fd7d6793b740de8d5cf9c70db0eb3e",
       "style": "IPY_MODEL_50d95da32ffe4c9d936e66b2a5bb1de1",
       "value": "Continue?"
      }
     },
     "703717864bd74634a4cf87522a6988a8": {
      "model_module": "@jupyter-widgets/base",
      "model_module_version": "1.2.0",
      "model_name": "LayoutModel",
      "state": {}
     },
     "70dd4d2832e447f6ad2c2292344f5a8f": {
      "model_module": "@jupyter-widgets/controls",
      "model_module_version": "1.5.0",
      "model_name": "DescriptionStyleModel",
      "state": {
       "description_width": "initial"
      }
     },
     "710dbd33744743eda4391703efdeab76": {
      "model_module": "@jupyter-widgets/controls",
      "model_module_version": "1.5.0",
      "model_name": "DatePickerModel",
      "state": {
       "description": "Origin Date",
       "disabled": false,
       "layout": "IPY_MODEL_2dd3f3d206d949a1af0066ba41a4528a",
       "style": "IPY_MODEL_7f40552f99724469a3709d21b0dbdb04",
       "value": {
        "date": 27,
        "month": 6,
        "year": 2020
       }
      }
     },
     "71892d7da16841d48ace0af89a4c88c8": {
      "model_module": "@jupyter-widgets/controls",
      "model_module_version": "1.5.0",
      "model_name": "DescriptionStyleModel",
      "state": {
       "description_width": "initial"
      }
     },
     "71b1533322c7448e9d2279a2257c2239": {
      "model_module": "@jupyter-widgets/controls",
      "model_module_version": "1.5.0",
      "model_name": "DescriptionStyleModel",
      "state": {
       "description_width": ""
      }
     },
     "72f7be34ddb241c89b999fb8c6e180e0": {
      "model_module": "@jupyter-widgets/base",
      "model_module_version": "1.2.0",
      "model_name": "LayoutModel",
      "state": {}
     },
     "73c834e20f14415d8816971ddaf56351": {
      "model_module": "@jupyter-widgets/controls",
      "model_module_version": "1.5.0",
      "model_name": "HTMLModel",
      "state": {
       "layout": "IPY_MODEL_ffc63926dcdc44099a606fc7e7a3089c",
       "style": "IPY_MODEL_122611a433444717927210bccd515c3f",
       "value": "<h4>Set query time boundaries</h4>"
      }
     },
     "73cd48911d1c4e90be313c3a399112f1": {
      "model_module": "@jupyter-widgets/base",
      "model_module_version": "1.2.0",
      "model_name": "LayoutModel",
      "state": {}
     },
     "7441ec7c3db0484785eea8cd21064c15": {
      "model_module": "@jupyter-widgets/base",
      "model_module_version": "1.2.0",
      "model_name": "LayoutModel",
      "state": {
       "width": "50%"
      }
     },
     "7547d9772a2943f5960f989ca9802b37": {
      "model_module": "@jupyter-widgets/controls",
      "model_module_version": "1.5.0",
      "model_name": "IntRangeSliderModel",
      "state": {
       "_model_name": "IntRangeSliderModel",
       "_view_name": "IntRangeSliderView",
       "description": "Time Range (minute):",
       "layout": "IPY_MODEL_5efa39d72bff495985f742b97f7cf236",
       "max": 120,
       "min": -120,
       "style": "IPY_MODEL_151f8bd9f12f422ab2fddcbfb63fd7a9",
       "value": [
        -60,
        60
       ]
      }
     },
     "75ea49224b794b8f86073abef95520f9": {
      "model_module": "@jupyter-widgets/controls",
      "model_module_version": "1.5.0",
      "model_name": "DescriptionStyleModel",
      "state": {
       "description_width": ""
      }
     },
     "7654b425573947859b347fc5f3926730": {
      "model_module": "@jupyter-widgets/base",
      "model_module_version": "1.2.0",
      "model_name": "LayoutModel",
      "state": {}
     },
     "7699880db97e4cd6a36443b11f46e6d7": {
      "model_module": "@jupyter-widgets/controls",
      "model_module_version": "1.5.0",
      "model_name": "ProgressStyleModel",
      "state": {
       "description_width": ""
      }
     },
     "76b383e454ad4238b7a12ba11df4c946": {
      "model_module": "@jupyter-widgets/base",
      "model_module_version": "1.2.0",
      "model_name": "LayoutModel",
      "state": {}
     },
     "76ffcb96d77c4b88a8d693e0ada04ea3": {
      "model_module": "@jupyter-widgets/controls",
      "model_module_version": "1.5.0",
      "model_name": "TextModel",
      "state": {
       "description": "Query end time (UTC) :  ",
       "layout": "IPY_MODEL_ac03c138b6e042cfb8542c8f8a42de36",
       "style": "IPY_MODEL_63d63c3f2a624698ac002226f91c07d6",
       "value": "2020-07-28 00:26:32.907250"
      }
     },
     "7705a82b9d9d45cf8c5b81db0af4b512": {
      "model_module": "@jupyter-widgets/controls",
      "model_module_version": "1.5.0",
      "model_name": "DatePickerModel",
      "state": {
       "description": "Origin Date",
       "disabled": false,
       "layout": "IPY_MODEL_64322e041adf4bac87a36ca6ccfa2c70",
       "style": "IPY_MODEL_e090073f388040d2a2b0b6c066267382",
       "value": {
        "date": 6,
        "month": 7,
        "year": 2020
       }
      }
     },
     "774620f455104ea0a61ee86082282607": {
      "model_module": "@jupyter-widgets/base",
      "model_module_version": "1.2.0",
      "model_name": "LayoutModel",
      "state": {}
     },
     "779a47f4be794a4eaac4298707433594": {
      "model_module": "@jupyter-widgets/base",
      "model_module_version": "1.2.0",
      "model_name": "LayoutModel",
      "state": {}
     },
     "7869e47c99184d929733150f5eb66efb": {
      "model_module": "@jupyter-widgets/controls",
      "model_module_version": "1.5.0",
      "model_name": "TextModel",
      "state": {
       "description": "Query start time (UTC):",
       "layout": "IPY_MODEL_9c29151ab5034cb48d64afb98f46ee45",
       "style": "IPY_MODEL_431b4345c592417c8470a5f78e0eaeb5",
       "value": "2020-07-27 17:26:32.907250"
      }
     },
     "78e4338a534e44b8b67b09ee05d01ce5": {
      "model_module": "@jupyter-widgets/base",
      "model_module_version": "1.2.0",
      "model_name": "LayoutModel",
      "state": {}
     },
     "7942bbeedd104a9e9f1dd3663e32db43": {
      "model_module": "@jupyter-widgets/controls",
      "model_module_version": "1.5.0",
      "model_name": "HTMLModel",
      "state": {
       "layout": "IPY_MODEL_3c7ce5c54ec74268bff08573fa9ebf82",
       "style": "IPY_MODEL_9d6182de0cff43c3a5156b30b87e08d4",
       "value": "<h4>Set query time boundaries</h4>"
      }
     },
     "799ced76f92d4d459514900939f0b4ca": {
      "model_module": "@jupyter-widgets/base",
      "model_module_version": "1.2.0",
      "model_name": "LayoutModel",
      "state": {
       "height": "300px",
       "width": "95%"
      }
     },
     "7a2e863ef7294da186b934a20bc80047": {
      "model_module": "@jupyter-widgets/controls",
      "model_module_version": "1.5.0",
      "model_name": "VBoxModel",
      "state": {
       "children": [
        "IPY_MODEL_f741cd5b4c73442eb7e8bceb2cccd3ea",
        "IPY_MODEL_dc16196971324b38903e944a62c98e36"
       ],
       "layout": "IPY_MODEL_460585bfb2b2422ba5dbc07dce53ea99"
      }
     },
     "7a41eb8706274fae8f019e35e14156f3": {
      "model_module": "@jupyter-widgets/base",
      "model_module_version": "1.2.0",
      "model_name": "LayoutModel",
      "state": {}
     },
     "7a661759c3904acab1eaad70ae2c0fd1": {
      "model_module": "@jupyter-widgets/controls",
      "model_module_version": "1.5.0",
      "model_name": "TextModel",
      "state": {
       "description": "Query end time (UTC) :  ",
       "layout": "IPY_MODEL_cbbcd1eb6ff746619dd2777b0724b7e2",
       "style": "IPY_MODEL_e454c5f20f4c4edea69ab6500b888884",
       "value": "2020-08-12 20:25:11.230101"
      }
     },
     "7ab5a0c39d564c5ba29206ca62f9cae5": {
      "model_module": "@jupyter-widgets/controls",
      "model_module_version": "1.5.0",
      "model_name": "HTMLModel",
      "state": {
       "layout": "IPY_MODEL_4f7b5c19f9d147c8ac82506b4b4afef2",
       "style": "IPY_MODEL_10dcceceef1b41e9ba77cbe6e917771e",
       "value": "<h4>Set query time boundaries</h4>"
      }
     },
     "7bfa0081eb224b67aec196dd0191ca7b": {
      "model_module": "@jupyter-widgets/controls",
      "model_module_version": "1.5.0",
      "model_name": "ButtonModel",
      "state": {
       "description": "Add All ⇾",
       "layout": "IPY_MODEL_7fa552ea8b134d1ab1ac582d19c1a666",
       "style": "IPY_MODEL_0665742408a44733b5fa735280b93789"
      }
     },
     "7c505392cc284c619b7ce730a1c3782e": {
      "model_module": "@jupyter-widgets/controls",
      "model_module_version": "1.5.0",
      "model_name": "DescriptionStyleModel",
      "state": {
       "description_width": ""
      }
     },
     "7c92e4b30dd84d3a99320275d4b4d6e1": {
      "model_module": "@jupyter-widgets/controls",
      "model_module_version": "1.5.0",
      "model_name": "TextModel",
      "state": {
       "description": "Enter your name",
       "layout": "IPY_MODEL_15d327c9f4a64858ad0add081eb9cd14",
       "style": "IPY_MODEL_1f0bf58168504efba00e027aeea344f2",
       "value": "Ian"
      }
     },
     "7cb22fcd36e644198d743be11d88bff0": {
      "model_module": "@jupyter-widgets/base",
      "model_module_version": "1.2.0",
      "model_name": "LayoutModel",
      "state": {}
     },
     "7d9e2ea822234a1eb34056a94d31f84d": {
      "model_module": "@jupyter-widgets/base",
      "model_module_version": "1.2.0",
      "model_name": "LayoutModel",
      "state": {}
     },
     "7dd67330ce9c42f397bc9fcea3ff1dc2": {
      "model_module": "@jupyter-widgets/base",
      "model_module_version": "1.2.0",
      "model_name": "LayoutModel",
      "state": {}
     },
     "7e22859714a04049a37f326dfdd5a2f8": {
      "model_module": "@jupyter-widgets/controls",
      "model_module_version": "1.5.0",
      "model_name": "TextModel",
      "state": {
       "description": "Query end time (UTC) :  ",
       "layout": "IPY_MODEL_ccc2fa96edc749a09535f776a1174ab3",
       "style": "IPY_MODEL_71892d7da16841d48ace0af89a4c88c8",
       "value": "2020-08-12 20:36:02.023084"
      }
     },
     "7e465bd1dbe843efadfef45e3db22338": {
      "model_module": "@jupyter-widgets/controls",
      "model_module_version": "1.5.0",
      "model_name": "IntRangeSliderModel",
      "state": {
       "_model_name": "IntRangeSliderModel",
       "_view_name": "IntRangeSliderView",
       "description": "Time Range (day):",
       "layout": "IPY_MODEL_67e2944cd94349abb3708bdcdafa1e01",
       "max": 2,
       "min": -10,
       "style": "IPY_MODEL_de93813d1a204bf388c62e80587a131c",
       "value": [
        -1,
        1
       ]
      }
     },
     "7e72cb23deda45efb1f7c45e46413977": {
      "model_module": "@jupyter-widgets/controls",
      "model_module_version": "1.5.0",
      "model_name": "DescriptionStyleModel",
      "state": {
       "description_width": "initial"
      }
     },
     "7ef643dccc7a48fc9a558902b1893673": {
      "model_module": "@jupyter-widgets/controls",
      "model_module_version": "1.5.0",
      "model_name": "DescriptionStyleModel",
      "state": {
       "description_width": ""
      }
     },
     "7f40552f99724469a3709d21b0dbdb04": {
      "model_module": "@jupyter-widgets/controls",
      "model_module_version": "1.5.0",
      "model_name": "DescriptionStyleModel",
      "state": {
       "description_width": ""
      }
     },
     "7fa552ea8b134d1ab1ac582d19c1a666": {
      "model_module": "@jupyter-widgets/base",
      "model_module_version": "1.2.0",
      "model_name": "LayoutModel",
      "state": {}
     },
     "8028d459a3f545c2a321adc2f2fccfa4": {
      "model_module": "@jupyter-widgets/controls",
      "model_module_version": "1.5.0",
      "model_name": "HBoxModel",
      "state": {
       "children": [
        "IPY_MODEL_fc0eb91272934d5e8c34f1bc6cd5e7d6",
        "IPY_MODEL_d3278be676074805b2427c37afa9bda8",
        "IPY_MODEL_3beec8b06b8e4bc3aec8e3b73d998f98"
       ],
       "layout": "IPY_MODEL_124478cf7cd449f484f40850a1fe0882"
      }
     },
     "802c51a40b644088b78da1b39842b126": {
      "model_module": "@jupyter-widgets/controls",
      "model_module_version": "1.5.0",
      "model_name": "HBoxModel",
      "state": {
       "children": [
        "IPY_MODEL_b13f24e6865f45fead455428bcf2aa37",
        "IPY_MODEL_8718ed34d76c4d88a6198240b845a437",
        "IPY_MODEL_06ce512a16aa4da7b1bc16190756bd56",
        "IPY_MODEL_2f99a64e35a14d039e1c9865fde4530f"
       ],
       "layout": "IPY_MODEL_4139f2bf7f874d539f01493c71f9d01d"
      }
     },
     "803c8b7338e34aafb8d6d49c987b79bb": {
      "model_module": "@jupyter-widgets/controls",
      "model_module_version": "1.5.0",
      "model_name": "DescriptionStyleModel",
      "state": {
       "description_width": ""
      }
     },
     "804c3368dba84c4fa0b18e80efb7f62a": {
      "model_module": "@jupyter-widgets/controls",
      "model_module_version": "1.5.0",
      "model_name": "IntProgressModel",
      "state": {
       "bar_style": "info",
       "description": "Progress:",
       "layout": "IPY_MODEL_ab19beb8319548d88e4d0ccba4d0bac2",
       "style": "IPY_MODEL_834aa5a59a7043b19bdda254ee84fc25",
       "value": 100
      }
     },
     "8116d0b009db43efb3c594000d21d5c5": {
      "model_module": "@jupyter-widgets/base",
      "model_module_version": "1.2.0",
      "model_name": "LayoutModel",
      "state": {}
     },
     "81644c2039784afb891fc1bf6cba7ba6": {
      "model_module": "@jupyter-widgets/controls",
      "model_module_version": "1.5.0",
      "model_name": "IntRangeSliderModel",
      "state": {
       "_model_name": "IntRangeSliderModel",
       "_view_name": "IntRangeSliderView",
       "description": "Time Range (hour):",
       "layout": "IPY_MODEL_d19859ccee7c47adbb893f0e5166f5cc",
       "max": 12,
       "min": -20,
       "style": "IPY_MODEL_2ea1bc876db34c9e84520ffce1eb9088",
       "value": [
        -1,
        6
       ]
      }
     },
     "821b7a75645a4fb88f5c2b34ad4e33a1": {
      "model_module": "@jupyter-widgets/base",
      "model_module_version": "1.2.0",
      "model_name": "LayoutModel",
      "state": {
       "width": "50%"
      }
     },
     "82767e550db2445c853f76baae7032dc": {
      "model_module": "@jupyter-widgets/base",
      "model_module_version": "1.2.0",
      "model_name": "LayoutModel",
      "state": {
       "width": "80%"
      }
     },
     "82aaa41edc9643b38275d1ffbee6e288": {
      "model_module": "@jupyter-widgets/base",
      "model_module_version": "1.2.0",
      "model_name": "LayoutModel",
      "state": {}
     },
     "82dd22dc73e844f4ac50ed6159cac250": {
      "model_module": "@jupyter-widgets/controls",
      "model_module_version": "1.5.0",
      "model_name": "TextModel",
      "state": {
       "description": "Time (24hr)",
       "layout": "IPY_MODEL_2b9435fe3e984fac9c2384a5caedb72c",
       "style": "IPY_MODEL_b02047fb3da2494bbb23da2fe13f82e1",
       "value": "18:26:32.817254"
      }
     },
     "82f8feb2ba3543d69fd5034653dcaa50": {
      "model_module": "@jupyter-widgets/controls",
      "model_module_version": "1.5.0",
      "model_name": "ButtonStyleModel",
      "state": {}
     },
     "834aa5a59a7043b19bdda254ee84fc25": {
      "model_module": "@jupyter-widgets/controls",
      "model_module_version": "1.5.0",
      "model_name": "ProgressStyleModel",
      "state": {
       "description_width": ""
      }
     },
     "83604a44192f478091480f400d46901b": {
      "model_module": "@jupyter-widgets/base",
      "model_module_version": "1.2.0",
      "model_name": "LayoutModel",
      "state": {}
     },
     "8362eb442bf6425d82f27df69d8b49ac": {
      "model_module": "@jupyter-widgets/controls",
      "model_module_version": "1.5.0",
      "model_name": "DescriptionStyleModel",
      "state": {
       "description_width": ""
      }
     },
     "840e2af8ae1743228c2898b1138d39b9": {
      "model_module": "@jupyter-widgets/base",
      "model_module_version": "1.2.0",
      "model_name": "LayoutModel",
      "state": {
       "width": "50%"
      }
     },
     "848dc0b4409f4ce2acc18e8c764b3074": {
      "model_module": "@jupyter-widgets/controls",
      "model_module_version": "1.5.0",
      "model_name": "DescriptionStyleModel",
      "state": {
       "description_width": "initial"
      }
     },
     "84afc6148e0e4d2087089d503f973894": {
      "model_module": "@jupyter-widgets/base",
      "model_module_version": "1.2.0",
      "model_name": "LayoutModel",
      "state": {}
     },
     "84ed8685d4fd4ef9b87d47c39139aaf3": {
      "model_module": "@jupyter-widgets/base",
      "model_module_version": "1.2.0",
      "model_name": "LayoutModel",
      "state": {
       "left": "10px"
      }
     },
     "852865afc4bf4b27a574b086dcb6ed24": {
      "model_module": "@jupyter-widgets/controls",
      "model_module_version": "1.5.0",
      "model_name": "HBoxModel",
      "state": {
       "children": [
        "IPY_MODEL_19e63a653b89491fa8958c49e588f155",
        "IPY_MODEL_0088b901f19f40d1a2a02d0684401a3a",
        "IPY_MODEL_256bff39741a469e828ff1be62f3ae4b"
       ],
       "layout": "IPY_MODEL_03e170d1eaec4498b487e79d0dd0c6b1"
      }
     },
     "853b9fbdec1d495c9ff4d1158a9c3661": {
      "model_module": "@jupyter-widgets/base",
      "model_module_version": "1.2.0",
      "model_name": "LayoutModel",
      "state": {}
     },
     "85b0deb570e4498592afde93681815f8": {
      "model_module": "@jupyter-widgets/controls",
      "model_module_version": "1.5.0",
      "model_name": "TextModel",
      "state": {
       "description": "Query start time (UTC):",
       "layout": "IPY_MODEL_a4ebe6332b104bdfbeba0387f27b5659",
       "style": "IPY_MODEL_86942bf867404362a43b0aa88ebbb938",
       "value": "2020-08-06 18:26:32.817254"
      }
     },
     "86076c51d9354b88b64c19afea51d900": {
      "model_module": "@jupyter-widgets/base",
      "model_module_version": "1.2.0",
      "model_name": "LayoutModel",
      "state": {
       "width": "50%"
      }
     },
     "864c74dd849f4bee8693eb229d6a0793": {
      "model_module": "@jupyter-widgets/base",
      "model_module_version": "1.2.0",
      "model_name": "LayoutModel",
      "state": {
       "width": "50%"
      }
     },
     "86942bf867404362a43b0aa88ebbb938": {
      "model_module": "@jupyter-widgets/controls",
      "model_module_version": "1.5.0",
      "model_name": "DescriptionStyleModel",
      "state": {
       "description_width": "initial"
      }
     },
     "86bedd1dc40645ca84011f5e0bc6e38e": {
      "model_module": "@jupyter-widgets/base",
      "model_module_version": "1.2.0",
      "model_name": "LayoutModel",
      "state": {}
     },
     "8718ed34d76c4d88a6198240b845a437": {
      "model_module": "@jupyter-widgets/controls",
      "model_module_version": "1.5.0",
      "model_name": "ButtonModel",
      "state": {
       "description": "No",
       "layout": "IPY_MODEL_3491dfe8e41242c68168fbcd688e3d43",
       "style": "IPY_MODEL_f00fb46b273e4d998af6bde57826975b"
      }
     },
     "879cecf5c0654a72b888f2923d4d6496": {
      "model_module": "@jupyter-widgets/controls",
      "model_module_version": "1.5.0",
      "model_name": "HBoxModel",
      "state": {
       "children": [
        "IPY_MODEL_535c3ac68e074681a6bfa29acf9ef1c4",
        "IPY_MODEL_b485e7c03ab646a1b533d72d2086a624"
       ],
       "layout": "IPY_MODEL_4f317ec7d328457bac36bc4a48170a34"
      }
     },
     "87dbcfb87177479fa9252aa7c77ed0ad": {
      "model_module": "@jupyter-widgets/base",
      "model_module_version": "1.2.0",
      "model_name": "LayoutModel",
      "state": {
       "height": "200px",
       "width": "40%"
      }
     },
     "880b694c2d30409ab4b3a6d1e2468146": {
      "model_module": "@jupyter-widgets/base",
      "model_module_version": "1.2.0",
      "model_name": "LayoutModel",
      "state": {}
     },
     "88db5171026e438f965dbab70c56b21b": {
      "model_module": "@jupyter-widgets/controls",
      "model_module_version": "1.5.0",
      "model_name": "VBoxModel",
      "state": {
       "children": [
        "IPY_MODEL_1980f0edac404546b8088cececea9e68",
        "IPY_MODEL_a1d60b7fc4d544389f85ea293bc92b94"
       ],
       "layout": "IPY_MODEL_cc8cb3017fb74de195c352be351115ae"
      }
     },
     "8a2d28a19e694664b0ac3e4b75a0fba5": {
      "model_module": "@jupyter-widgets/controls",
      "model_module_version": "1.5.0",
      "model_name": "VBoxModel",
      "state": {
       "children": [
        "IPY_MODEL_5343f7d5fd7041a0b060e94dacc1a45f",
        "IPY_MODEL_069eabd8b6e34fe382f6d63bf4731075",
        "IPY_MODEL_7e22859714a04049a37f326dfdd5a2f8"
       ],
       "layout": "IPY_MODEL_0b8f59d0ae234c12be9abcf06bf9ecaa"
      }
     },
     "8a472602bde34f0fa513cb1fa8fcaf01": {
      "model_module": "@jupyter-widgets/base",
      "model_module_version": "1.2.0",
      "model_name": "LayoutModel",
      "state": {}
     },
     "8b6c9ce98b3d4d16ac0f4a17d418ecdb": {
      "model_module": "@jupyter-widgets/controls",
      "model_module_version": "1.5.0",
      "model_name": "VBoxModel",
      "state": {
       "children": [
        "IPY_MODEL_d7ef84113cc84572839762160b36038d",
        "IPY_MODEL_583f86f9711c4d2eb8c05fbe177157d0",
        "IPY_MODEL_76ffcb96d77c4b88a8d693e0ada04ea3"
       ],
       "layout": "IPY_MODEL_b157fc7853d34efe805dc063a7333c46"
      }
     },
     "8b8fa456c9c2468bab6935a4a6d67e8e": {
      "model_module": "@jupyter-widgets/controls",
      "model_module_version": "1.5.0",
      "model_name": "DescriptionStyleModel",
      "state": {
       "description_width": "initial"
      }
     },
     "8ba4e26db5b94ef695a22310e793881d": {
      "model_module": "@jupyter-widgets/controls",
      "model_module_version": "1.5.0",
      "model_name": "DescriptionStyleModel",
      "state": {
       "description_width": "initial"
      }
     },
     "8cc5f48fd9c642e3a7037c98ca1fce1b": {
      "model_module": "@jupyter-widgets/controls",
      "model_module_version": "1.5.0",
      "model_name": "ButtonStyleModel",
      "state": {}
     },
     "8d2e1aa108d94fd4b4f237a9077908ef": {
      "model_module": "@jupyter-widgets/base",
      "model_module_version": "1.2.0",
      "model_name": "LayoutModel",
      "state": {}
     },
     "8d78d27162cb46bdb4992c7fe38fc37e": {
      "model_module": "@jupyter-widgets/base",
      "model_module_version": "1.2.0",
      "model_name": "LayoutModel",
      "state": {
       "width": "50%"
      }
     },
     "8dc685e7bcc0493a87ec30fdcb900470": {
      "model_module": "@jupyter-widgets/controls",
      "model_module_version": "1.5.0",
      "model_name": "DescriptionStyleModel",
      "state": {
       "description_width": ""
      }
     },
     "8df21d9f55bf41f0a1f70751320eb213": {
      "model_module": "@jupyter-widgets/base",
      "model_module_version": "1.2.0",
      "model_name": "LayoutModel",
      "state": {}
     },
     "8e08232eb4b54f6ca1e7be2e640b6f8f": {
      "model_module": "@jupyter-widgets/controls",
      "model_module_version": "1.5.0",
      "model_name": "ButtonStyleModel",
      "state": {}
     },
     "8e32e29f76c040d39e6954d2a3d9dea2": {
      "model_module": "@jupyter-widgets/controls",
      "model_module_version": "1.5.0",
      "model_name": "ButtonModel",
      "state": {
       "description": "⇽ Remove All",
       "layout": "IPY_MODEL_332f67f32b234346bcc26a18d15730cd",
       "style": "IPY_MODEL_35953066b6064c1bbc600d83e41d19da"
      }
     },
     "8e92c41db35b4f9d89413ba27439643f": {
      "model_module": "@jupyter-widgets/base",
      "model_module_version": "1.2.0",
      "model_name": "LayoutModel",
      "state": {
       "width": "80%"
      }
     },
     "8f28c61000354c26a6521bba4f89caaa": {
      "model_module": "@jupyter-widgets/controls",
      "model_module_version": "1.5.0",
      "model_name": "VBoxModel",
      "state": {
       "children": [
        "IPY_MODEL_81644c2039784afb891fc1bf6cba7ba6",
        "IPY_MODEL_4d3518f7d9a6472abe0f90046b014667",
        "IPY_MODEL_ab7620cabd9d4c21a042e2e698255039"
       ],
       "layout": "IPY_MODEL_b8366968da464f7a966c6b83c8293cd7"
      }
     },
     "8f31905752fa4a0991e4414247b26aa1": {
      "model_module": "@jupyter-widgets/base",
      "model_module_version": "1.2.0",
      "model_name": "LayoutModel",
      "state": {}
     },
     "8f53c662238b4b4daeff42bd54dd9cea": {
      "model_module": "@jupyter-widgets/controls",
      "model_module_version": "1.5.0",
      "model_name": "TextModel",
      "state": {
       "description": "Query start time (UTC):",
       "layout": "IPY_MODEL_9f0e59444ae44efba54dede677be468c",
       "style": "IPY_MODEL_2f13627fd3d14c2d842a25aa4f1b60db",
       "value": "2020-08-11 17:26:37.706252"
      }
     },
     "8f5cf150e5374c6c8bf94a4928cd1377": {
      "model_module": "@jupyter-widgets/controls",
      "model_module_version": "1.5.0",
      "model_name": "TextModel",
      "state": {
       "description": "Query start time (UTC):",
       "layout": "IPY_MODEL_2f4110f170eb4dfe9a2d15bc04f09449",
       "style": "IPY_MODEL_f482903502fa40568678769624e98297",
       "value": "2020-08-10 20:27:56.859104"
      }
     },
     "8fb9cbbb367847babff2fa3630357718": {
      "model_module": "@jupyter-widgets/base",
      "model_module_version": "1.2.0",
      "model_name": "LayoutModel",
      "state": {
       "width": "50%"
      }
     },
     "90209ce71e89478dbdebc49c8dfc5d57": {
      "model_module": "@jupyter-widgets/base",
      "model_module_version": "1.2.0",
      "model_name": "LayoutModel",
      "state": {
       "width": "50%"
      }
     },
     "9046d24f03ff4f7d82060c556080ee94": {
      "model_module": "@jupyter-widgets/controls",
      "model_module_version": "1.5.0",
      "model_name": "DescriptionStyleModel",
      "state": {
       "description_width": "initial"
      }
     },
     "90470b9ea3654c14876ce28bd8a5bb78": {
      "model_module": "@jupyter-widgets/controls",
      "model_module_version": "1.5.0",
      "model_name": "DescriptionStyleModel",
      "state": {
       "description_width": ""
      }
     },
     "921199a053b8428ea582d0799f0db4e3": {
      "model_module": "@jupyter-widgets/controls",
      "model_module_version": "1.5.0",
      "model_name": "ButtonModel",
      "state": {
       "description": "Add All ⇾",
       "layout": "IPY_MODEL_9651f56e6d86475badc82ff2e2619eaa",
       "style": "IPY_MODEL_690232652fe34446a2766e008d976525"
      }
     },
     "9252a8583c4e4b45ad28008a9a56a44a": {
      "model_module": "@jupyter-widgets/base",
      "model_module_version": "1.2.0",
      "model_name": "LayoutModel",
      "state": {}
     },
     "92cf38559ddd4610ad1b5446131a674f": {
      "model_module": "@jupyter-widgets/controls",
      "model_module_version": "1.5.0",
      "model_name": "DescriptionStyleModel",
      "state": {
       "description_width": ""
      }
     },
     "931d47fac88c45f08280320595a904e0": {
      "model_module": "@jupyter-widgets/base",
      "model_module_version": "1.2.0",
      "model_name": "LayoutModel",
      "state": {}
     },
     "94254dfbc8fc47fda9bc0a140b3afd61": {
      "model_module": "@jupyter-widgets/base",
      "model_module_version": "1.2.0",
      "model_name": "LayoutModel",
      "state": {}
     },
     "9456cfeb8ac74cab9ddfdf9db43e9bd2": {
      "model_module": "@jupyter-widgets/controls",
      "model_module_version": "1.5.0",
      "model_name": "HBoxModel",
      "state": {
       "children": [
        "IPY_MODEL_c691ebc960c54292997911631a4f9448",
        "IPY_MODEL_44c577e507ca4f38a0f3204cc29fa43d"
       ],
       "layout": "IPY_MODEL_ac2ddbbff3174cbeb5b292284689bf96"
      }
     },
     "958bf253f07e4dbab1502db4a62d63a0": {
      "model_module": "@jupyter-widgets/controls",
      "model_module_version": "1.5.0",
      "model_name": "DescriptionStyleModel",
      "state": {
       "description_width": ""
      }
     },
     "95da5f15612d4a3596d9c1b80ddaddb8": {
      "model_module": "@jupyter-widgets/controls",
      "model_module_version": "1.5.0",
      "model_name": "SliderStyleModel",
      "state": {
       "description_width": "initial"
      }
     },
     "95e2fbd856bd418181fdfe9415045ac0": {
      "model_module": "@jupyter-widgets/controls",
      "model_module_version": "1.5.0",
      "model_name": "ButtonStyleModel",
      "state": {}
     },
     "9619e2f73c8b40d9b1190eb65549b3b8": {
      "model_module": "@jupyter-widgets/base",
      "model_module_version": "1.2.0",
      "model_name": "LayoutModel",
      "state": {
       "width": "50%"
      }
     },
     "962b04522a2e47ce8dc6347577fe883c": {
      "model_module": "@jupyter-widgets/controls",
      "model_module_version": "1.5.0",
      "model_name": "HTMLModel",
      "state": {
       "layout": "IPY_MODEL_bd0fc7e38fb94c50a60325848671a9fd",
       "style": "IPY_MODEL_e760b9525b1a4735ab8fc660dc28841b",
       "value": "<h4>Set query time boundaries</h4>"
      }
     },
     "9651f56e6d86475badc82ff2e2619eaa": {
      "model_module": "@jupyter-widgets/base",
      "model_module_version": "1.2.0",
      "model_name": "LayoutModel",
      "state": {}
     },
     "981051d83d1f455a9fe814ef06e299ac": {
      "model_module": "@jupyter-widgets/controls",
      "model_module_version": "1.5.0",
      "model_name": "LabelModel",
      "state": {
       "layout": "IPY_MODEL_b5788abf8be04326823f714937d8fef2",
       "style": "IPY_MODEL_00f2d1d6f0944037858dfb241833d802",
       "value": "Timed out. Defaulted to 'yes'"
      }
     },
     "9837ce81fd7c4bbea275a2a4e6ade62f": {
      "model_module": "@jupyter-widgets/base",
      "model_module_version": "1.2.0",
      "model_name": "LayoutModel",
      "state": {}
     },
     "9874a0e22dee43ca8646705b7a400ff6": {
      "model_module": "@jupyter-widgets/controls",
      "model_module_version": "1.5.0",
      "model_name": "TextModel",
      "state": {
       "description": "Query start time (UTC):",
       "layout": "IPY_MODEL_864c74dd849f4bee8693eb229d6a0793",
       "style": "IPY_MODEL_68985c03e89c40a9b58bf0678657e8c5",
       "value": "2020-08-11 17:26:37.548250"
      }
     },
     "98f4e3d5134949a79a21c30d5b5347fb": {
      "model_module": "@jupyter-widgets/controls",
      "model_module_version": "1.5.0",
      "model_name": "DatePickerModel",
      "state": {
       "description": "Origin Date",
       "disabled": false,
       "layout": "IPY_MODEL_64036faa981d413790a1d6ec4d29aa2c",
       "style": "IPY_MODEL_1b338ad81fe543daa3727ef1a89a9c36",
       "value": {
        "date": 11,
        "month": 7,
        "year": 2020
       }
      }
     },
     "991ef96502824873812731d648645771": {
      "model_module": "@jupyter-widgets/base",
      "model_module_version": "1.2.0",
      "model_name": "LayoutModel",
      "state": {
       "left": "10px"
      }
     },
     "995dfe55510748a597175b462a7e5763": {
      "model_module": "@jupyter-widgets/base",
      "model_module_version": "1.2.0",
      "model_name": "LayoutModel",
      "state": {}
     },
     "9b62f51581054253aeb1b78515572159": {
      "model_module": "@jupyter-widgets/base",
      "model_module_version": "1.2.0",
      "model_name": "LayoutModel",
      "state": {}
     },
     "9b6e38c3ba494500bae0a8823ec8546b": {
      "model_module": "@jupyter-widgets/controls",
      "model_module_version": "1.5.0",
      "model_name": "DescriptionStyleModel",
      "state": {
       "description_width": "initial"
      }
     },
     "9b8100f2c1dd4b2792fd028791908de0": {
      "model_module": "@jupyter-widgets/controls",
      "model_module_version": "1.5.0",
      "model_name": "TextModel",
      "state": {
       "description": "Time (24hr)",
       "layout": "IPY_MODEL_8df21d9f55bf41f0a1f70751320eb213",
       "style": "IPY_MODEL_bc2582589e52480c9f52fdfbfd044081",
       "value": "20:28:17.049102"
      }
     },
     "9c0ad2ea3ec84e3094c8848107e75df2": {
      "model_module": "@jupyter-widgets/controls",
      "model_module_version": "1.5.0",
      "model_name": "TextModel",
      "state": {
       "description": "Query end time (UTC) :  ",
       "layout": "IPY_MODEL_8fb9cbbb367847babff2fa3630357718",
       "style": "IPY_MODEL_3d5ae3b2c2504b64b5cf41871605559b",
       "value": "2020-08-11 19:26:37.706252"
      }
     },
     "9c29151ab5034cb48d64afb98f46ee45": {
      "model_module": "@jupyter-widgets/base",
      "model_module_version": "1.2.0",
      "model_name": "LayoutModel",
      "state": {
       "width": "50%"
      }
     },
     "9c4a5653b71640e9a69f9eaba9013c2b": {
      "model_module": "@jupyter-widgets/controls",
      "model_module_version": "1.5.0",
      "model_name": "TextModel",
      "state": {
       "description": "Query end time (UTC) :  ",
       "layout": "IPY_MODEL_2a0902badfab4d25b1d441ff9b3eb6bc",
       "style": "IPY_MODEL_8b8fa456c9c2468bab6935a4a6d67e8e",
       "value": "2020-08-12 18:26:32.817254"
      }
     },
     "9d6182de0cff43c3a5156b30b87e08d4": {
      "model_module": "@jupyter-widgets/controls",
      "model_module_version": "1.5.0",
      "model_name": "DescriptionStyleModel",
      "state": {
       "description_width": ""
      }
     },
     "9ddbf734d1ca412ebef489f05641219d": {
      "model_module": "@jupyter-widgets/controls",
      "model_module_version": "1.5.0",
      "model_name": "VBoxModel",
      "state": {
       "children": [
        "IPY_MODEL_e4e45038d99a43d89297533368317988",
        "IPY_MODEL_c9330c97c899468f8185d6ca0543130e"
       ],
       "layout": "IPY_MODEL_8116d0b009db43efb3c594000d21d5c5"
      }
     },
     "9e6a1e66be3f4e0eb5aa1d7d857ce77e": {
      "model_module": "@jupyter-widgets/base",
      "model_module_version": "1.2.0",
      "model_name": "LayoutModel",
      "state": {}
     },
     "9e6c9a343bb349e5a2704c8d8f3020ac": {
      "model_module": "@jupyter-widgets/base",
      "model_module_version": "1.2.0",
      "model_name": "LayoutModel",
      "state": {}
     },
     "9f0e59444ae44efba54dede677be468c": {
      "model_module": "@jupyter-widgets/base",
      "model_module_version": "1.2.0",
      "model_name": "LayoutModel",
      "state": {
       "width": "50%"
      }
     },
     "9f161ce21d0a49f6900e0575f5b91613": {
      "model_module": "@jupyter-widgets/base",
      "model_module_version": "1.2.0",
      "model_name": "LayoutModel",
      "state": {}
     },
     "9f3885d04bc142e4bb829c24e61a68d7": {
      "model_module": "@jupyter-widgets/controls",
      "model_module_version": "1.5.0",
      "model_name": "HBoxModel",
      "state": {
       "children": [
        "IPY_MODEL_38cfd5bc1a5d4e7babfef1f762b27ee9",
        "IPY_MODEL_b32392bd5a66455c83dcedab6eabce7d"
       ],
       "layout": "IPY_MODEL_0ed319dfac4d45dab606aa7eba842a54"
      }
     },
     "9f51f7146f4f4a3caf71bc0ff4f88919": {
      "model_module": "@jupyter-widgets/controls",
      "model_module_version": "1.5.0",
      "model_name": "HBoxModel",
      "state": {
       "children": [
        "IPY_MODEL_525835fef8684398a249a0659ebf6a1e",
        "IPY_MODEL_acff18c22acd4d3c9a5c91a30124158d"
       ],
       "layout": "IPY_MODEL_bfb097a58b194f67afa531106b6089b9"
      }
     },
     "9f7db39483464fe3889186ee6796d2bc": {
      "model_module": "@jupyter-widgets/controls",
      "model_module_version": "1.5.0",
      "model_name": "DescriptionStyleModel",
      "state": {
       "description_width": "initial"
      }
     },
     "9f8636dae5ad4aaab44a4ea2da7379f5": {
      "model_module": "@jupyter-widgets/base",
      "model_module_version": "1.2.0",
      "model_name": "LayoutModel",
      "state": {
       "width": "80%"
      }
     },
     "a01bc6f6c069433fb617d726e9aa085b": {
      "model_module": "@jupyter-widgets/controls",
      "model_module_version": "1.5.0",
      "model_name": "VBoxModel",
      "state": {
       "children": [
        "IPY_MODEL_aed61f21ba4448f1bc9a52ee7c27680f",
        "IPY_MODEL_7869e47c99184d929733150f5eb66efb",
        "IPY_MODEL_ffaf6aac27194899b68eeb1e115d590e"
       ],
       "layout": "IPY_MODEL_8f31905752fa4a0991e4414247b26aa1"
      }
     },
     "a1931c8e84914fc6af2160677d877265": {
      "model_module": "@jupyter-widgets/controls",
      "model_module_version": "1.5.0",
      "model_name": "ButtonModel",
      "state": {
       "description": "Cancel",
       "layout": "IPY_MODEL_f22b2cee819a465aabb9dfa6ae5d9347",
       "style": "IPY_MODEL_56fae0d75fe64ee9bcd5f8403668e9e6"
      }
     },
     "a1d60b7fc4d544389f85ea293bc92b94": {
      "model_module": "@jupyter-widgets/controls",
      "model_module_version": "1.5.0",
      "model_name": "SelectModel",
      "state": {
       "_options_labels": [
        "MSTICAlertsWin1/MSTICAdmin   (2019-01-15 05:15:02.980)",
        "NT AUTHORITY/SYSTEM   (2019-01-15 05:15:04.503)",
        "MSTICAlertsWin1/adm1nistrator   (2019-01-15 05:15:06.363)",
        "NT AUTHORITY/SYSTEM   (2019-01-15 05:15:10.813)",
        "NT AUTHORITY/SYSTEM   (2019-01-15 05:15:14.453)",
        "MSTICAlertsWin1/MSTICAdmin   (2019-01-15 04:28:33.090)",
        "NT AUTHORITY/SYSTEM   (2019-01-15 03:21:49.617)",
        "NT AUTHORITY/SYSTEM   (2019-01-15 03:21:51.957)",
        "NT AUTHORITY/SYSTEM   (2019-01-15 02:45:49.393)",
        "NT AUTHORITY/SYSTEM   (2019-01-15 02:45:51.727)",
        "NT AUTHORITY/SYSTEM   (2019-01-15 01:42:28.340)",
        "NT AUTHORITY/SYSTEM   (2019-01-15 01:45:23.610)",
        "NT AUTHORITY/SYSTEM   (2019-01-15 03:09:49.353)",
        "NT AUTHORITY/SYSTEM   (2019-01-15 03:09:51.707)"
       ],
       "description": "Select an item",
       "index": 0,
       "layout": "IPY_MODEL_c69d7268d5ef49eb84c5bc6c18303273",
       "style": "IPY_MODEL_5550eefae1bc4fb4ae8dfce98e7eae76"
      }
     },
     "a1f9f463ff1c4d0fbf3fa9e0f60af271": {
      "model_module": "@jupyter-widgets/controls",
      "model_module_version": "1.5.0",
      "model_name": "SliderStyleModel",
      "state": {
       "description_width": "initial"
      }
     },
     "a223d186827e4f4eba3d9d90b5010c66": {
      "model_module": "@jupyter-widgets/controls",
      "model_module_version": "1.5.0",
      "model_name": "HBoxModel",
      "state": {
       "children": [
        "IPY_MODEL_3f2619473b8d4ecc9cddd9afdfc4de28",
        "IPY_MODEL_26c4a21cf64c47809ca6a965f62c5f00"
       ],
       "layout": "IPY_MODEL_ac937678c617461bbcd8b9eecb58c747"
      }
     },
     "a224f740abb042c2976f4f6ee0bf5676": {
      "model_module": "@jupyter-widgets/base",
      "model_module_version": "1.2.0",
      "model_name": "LayoutModel",
      "state": {
       "width": "50%"
      }
     },
     "a23a6a54dcc14ae39f237cfaaec7f712": {
      "model_module": "@jupyter-widgets/controls",
      "model_module_version": "1.5.0",
      "model_name": "DescriptionStyleModel",
      "state": {
       "description_width": ""
      }
     },
     "a2625f5fa094423bb14120d53de49d68": {
      "model_module": "@jupyter-widgets/base",
      "model_module_version": "1.2.0",
      "model_name": "LayoutModel",
      "state": {}
     },
     "a26a01acc84e4ca39518d7a7dc508642": {
      "model_module": "@jupyter-widgets/controls",
      "model_module_version": "1.5.0",
      "model_name": "SliderStyleModel",
      "state": {
       "description_width": "initial"
      }
     },
     "a4c65e657dd649808e4d6a5d9d6f4ec5": {
      "model_module": "@jupyter-widgets/controls",
      "model_module_version": "1.5.0",
      "model_name": "DescriptionStyleModel",
      "state": {
       "description_width": "initial"
      }
     },
     "a4ebe6332b104bdfbeba0387f27b5659": {
      "model_module": "@jupyter-widgets/base",
      "model_module_version": "1.2.0",
      "model_name": "LayoutModel",
      "state": {
       "width": "50%"
      }
     },
     "a53a425d63b34ea2b2ce983f90af8df1": {
      "model_module": "@jupyter-widgets/controls",
      "model_module_version": "1.5.0",
      "model_name": "IntRangeSliderModel",
      "state": {
       "_model_name": "IntRangeSliderModel",
       "_view_name": "IntRangeSliderView",
       "description": "Time Range (day):",
       "layout": "IPY_MODEL_3ef3aaa28d2f4fbfbccf5f2ad4eb7f08",
       "max": 2,
       "min": -12,
       "style": "IPY_MODEL_1af79aa043fb4300a83ca7cc09ef1fe8",
       "value": [
        -1,
        1
       ]
      }
     },
     "a5ae559ea0634f33b0efa5256320a4fa": {
      "model_module": "@jupyter-widgets/controls",
      "model_module_version": "1.5.0",
      "model_name": "DescriptionStyleModel",
      "state": {
       "description_width": ""
      }
     },
     "a5dced6b6c22407aaaeac367f5b6c570": {
      "model_module": "@jupyter-widgets/controls",
      "model_module_version": "1.5.0",
      "model_name": "SliderStyleModel",
      "state": {
       "description_width": "initial"
      }
     },
     "a69df955cf8847d3b6b1253be14cd7bb": {
      "model_module": "@jupyter-widgets/controls",
      "model_module_version": "1.5.0",
      "model_name": "VBoxModel",
      "state": {
       "children": [
        "IPY_MODEL_a53a425d63b34ea2b2ce983f90af8df1",
        "IPY_MODEL_8f5cf150e5374c6c8bf94a4928cd1377",
        "IPY_MODEL_38ae79af1a3742d7a2aa9d380b5e23f0"
       ],
       "layout": "IPY_MODEL_16d5c30885284063a2b84ec3d373924e"
      }
     },
     "a6bf7441620b40e98d42f81f32852501": {
      "model_module": "@jupyter-widgets/controls",
      "model_module_version": "1.5.0",
      "model_name": "TextModel",
      "state": {
       "description": "Filter:",
       "layout": "IPY_MODEL_1e62fe342b46453cbefff081125e1512",
       "style": "IPY_MODEL_c4d876b8d4154d1ab2ea6a2f135e7f0f"
      }
     },
     "a6ebae6a0b524cfc97ba374193059eef": {
      "model_module": "@jupyter-widgets/controls",
      "model_module_version": "1.5.0",
      "model_name": "DescriptionStyleModel",
      "state": {
       "description_width": ""
      }
     },
     "a74fe58294794bddb88afbcbbedbe39a": {
      "model_module": "@jupyter-widgets/controls",
      "model_module_version": "1.5.0",
      "model_name": "DescriptionStyleModel",
      "state": {
       "description_width": ""
      }
     },
     "a7b50fce17304688ba223976a3436346": {
      "model_module": "@jupyter-widgets/controls",
      "model_module_version": "1.5.0",
      "model_name": "TextModel",
      "state": {
       "description": "Time (24hr)",
       "layout": "IPY_MODEL_486af1d19a374f9baf88ceb625b43382",
       "style": "IPY_MODEL_92cf38559ddd4610ad1b5446131a674f",
       "value": "18:26:37.706252"
      }
     },
     "a7bf543c875041bdb63f8fc3a7ac61cb": {
      "model_module": "@jupyter-widgets/base",
      "model_module_version": "1.2.0",
      "model_name": "LayoutModel",
      "state": {}
     },
     "a8fb1cc8646d4597b8282825428856cc": {
      "model_module": "@jupyter-widgets/controls",
      "model_module_version": "1.5.0",
      "model_name": "VBoxModel",
      "state": {
       "children": [
        "IPY_MODEL_60efcbce99cc420db073107e20d1b903",
        "IPY_MODEL_46522deb4d5e482ba84b0f1ec0766e86"
       ],
       "layout": "IPY_MODEL_120ec4d04f5e44ec87658fa4700f2dde"
      }
     },
     "a9f4bddc008c4e719dee1308579623ff": {
      "model_module": "@jupyter-widgets/controls",
      "model_module_version": "1.5.0",
      "model_name": "DescriptionStyleModel",
      "state": {
       "description_width": ""
      }
     },
     "aa15905569164e7ca6215afebaab61b4": {
      "model_module": "@jupyter-widgets/controls",
      "model_module_version": "1.5.0",
      "model_name": "VBoxModel",
      "state": {
       "children": [
        "IPY_MODEL_1302d65a392a4ceb823b6b27c107177c",
        "IPY_MODEL_32baaaa9d9664c1d8b5ee1b3b43b1011"
       ],
       "layout": "IPY_MODEL_eaf315dc672d4cbf84f568229a2f805b"
      }
     },
     "aa36c2741e4240c09119cc45770e5045": {
      "model_module": "@jupyter-widgets/base",
      "model_module_version": "1.2.0",
      "model_name": "LayoutModel",
      "state": {}
     },
     "aab75cd19aac4acca30d8720c57948e2": {
      "model_module": "@jupyter-widgets/controls",
      "model_module_version": "1.5.0",
      "model_name": "VBoxModel",
      "state": {
       "children": [
        "IPY_MODEL_4e4c472e497c4b9096230af2de6fe86d",
        "IPY_MODEL_53e4f12369ed417aa76ebc2baf7d7899",
        "IPY_MODEL_f11516d12c884a5182d5f2c1d2b3e880"
       ],
       "layout": "IPY_MODEL_ec65613389984ecc9a8e9f4e86feaaa3"
      }
     },
     "ab19beb8319548d88e4d0ccba4d0bac2": {
      "model_module": "@jupyter-widgets/base",
      "model_module_version": "1.2.0",
      "model_name": "LayoutModel",
      "state": {}
     },
     "ab3c2e4a642042d7b27fecf1955dbb55": {
      "model_module": "@jupyter-widgets/controls",
      "model_module_version": "1.5.0",
      "model_name": "IntSliderModel",
      "state": {
       "description": "Select time (hour) to look back",
       "layout": "IPY_MODEL_0913743875ce459eb0d92bc43431a1b2",
       "max": 48,
       "min": 1,
       "style": "IPY_MODEL_a26a01acc84e4ca39518d7a7dc508642",
       "value": 6
      }
     },
     "ab7620cabd9d4c21a042e2e698255039": {
      "model_module": "@jupyter-widgets/controls",
      "model_module_version": "1.5.0",
      "model_name": "TextModel",
      "state": {
       "description": "Query end time (UTC) :  ",
       "layout": "IPY_MODEL_0e2cc10880674ae195d4b6daa70f98b5",
       "style": "IPY_MODEL_668ab50ed26f4561bbedf1844bcb7b40",
       "value": "2020-08-12 00:26:33.035251"
      }
     },
     "ac03c138b6e042cfb8542c8f8a42de36": {
      "model_module": "@jupyter-widgets/base",
      "model_module_version": "1.2.0",
      "model_name": "LayoutModel",
      "state": {
       "width": "50%"
      }
     },
     "ac0f382dc430496698fe2c87f30b87fd": {
      "model_module": "@jupyter-widgets/controls",
      "model_module_version": "1.5.0",
      "model_name": "DescriptionStyleModel",
      "state": {
       "description_width": ""
      }
     },
     "ac2ddbbff3174cbeb5b292284689bf96": {
      "model_module": "@jupyter-widgets/base",
      "model_module_version": "1.2.0",
      "model_name": "LayoutModel",
      "state": {}
     },
     "ac44eb3b58f94485b840bb7f90db6cc3": {
      "model_module": "@jupyter-widgets/controls",
      "model_module_version": "1.5.0",
      "model_name": "HBoxModel",
      "state": {
       "children": [
        "IPY_MODEL_3db1b478408a42c7969ee4112e9da65c",
        "IPY_MODEL_ec20abb91e3e44a0803706c74efd2d7c"
       ],
       "layout": "IPY_MODEL_ad41ed75b813443b8f4f8d9383800942"
      }
     },
     "ac54c2415110444eaf577eefd09fc111": {
      "model_module": "@jupyter-widgets/base",
      "model_module_version": "1.2.0",
      "model_name": "LayoutModel",
      "state": {}
     },
     "ac937678c617461bbcd8b9eecb58c747": {
      "model_module": "@jupyter-widgets/base",
      "model_module_version": "1.2.0",
      "model_name": "LayoutModel",
      "state": {}
     },
     "acff18c22acd4d3c9a5c91a30124158d": {
      "model_module": "@jupyter-widgets/controls",
      "model_module_version": "1.5.0",
      "model_name": "TextModel",
      "state": {
       "description": "Time (24hr)",
       "layout": "IPY_MODEL_774620f455104ea0a61ee86082282607",
       "style": "IPY_MODEL_f776b67cf5724132bdfe4227073a0bb2",
       "value": "20:26:03.431101"
      }
     },
     "ad41ed75b813443b8f4f8d9383800942": {
      "model_module": "@jupyter-widgets/base",
      "model_module_version": "1.2.0",
      "model_name": "LayoutModel",
      "state": {}
     },
     "adcb4c3300834356b44f2a368cc2617e": {
      "model_module": "@jupyter-widgets/controls",
      "model_module_version": "1.5.0",
      "model_name": "ButtonModel",
      "state": {
       "description": "No",
       "layout": "IPY_MODEL_d067e56c455540e896e25838bfe69da5",
       "style": "IPY_MODEL_6f4b6bff292049879d85e97a75c391fc"
      }
     },
     "aed61f21ba4448f1bc9a52ee7c27680f": {
      "model_module": "@jupyter-widgets/controls",
      "model_module_version": "1.5.0",
      "model_name": "IntRangeSliderModel",
      "state": {
       "_model_name": "IntRangeSliderModel",
       "_view_name": "IntRangeSliderView",
       "description": "Time Range (hour):",
       "layout": "IPY_MODEL_8e92c41db35b4f9d89413ba27439643f",
       "max": 12,
       "min": -20,
       "style": "IPY_MODEL_da79c7d7fbde4cb18a7ef2138e75687b",
       "value": [
        -1,
        6
       ]
      }
     },
     "b02047fb3da2494bbb23da2fe13f82e1": {
      "model_module": "@jupyter-widgets/controls",
      "model_module_version": "1.5.0",
      "model_name": "DescriptionStyleModel",
      "state": {
       "description_width": ""
      }
     },
     "b107e4b860184d7d92c27f28de1abf90": {
      "model_module": "@jupyter-widgets/controls",
      "model_module_version": "1.5.0",
      "model_name": "TextModel",
      "state": {
       "description": "Time (24hr)",
       "layout": "IPY_MODEL_9837ce81fd7c4bbea275a2a4e6ade62f",
       "style": "IPY_MODEL_a6ebae6a0b524cfc97ba374193059eef",
       "value": "18:26:32.907250"
      }
     },
     "b10d32c7cce444119b69499d93fcae75": {
      "model_module": "@jupyter-widgets/base",
      "model_module_version": "1.2.0",
      "model_name": "LayoutModel",
      "state": {
       "width": "50%"
      }
     },
     "b13f24e6865f45fead455428bcf2aa37": {
      "model_module": "@jupyter-widgets/controls",
      "model_module_version": "1.5.0",
      "model_name": "ButtonModel",
      "state": {
       "description": "Yes",
       "layout": "IPY_MODEL_31f304f658f04416a5f9a0514eaf664a",
       "style": "IPY_MODEL_3547eeb111474010919b1aafaa4f49ce"
      }
     },
     "b157fc7853d34efe805dc063a7333c46": {
      "model_module": "@jupyter-widgets/base",
      "model_module_version": "1.2.0",
      "model_name": "LayoutModel",
      "state": {}
     },
     "b1e04f21e66a4fdb8c839cc9f731dcab": {
      "model_module": "@jupyter-widgets/controls",
      "model_module_version": "1.5.0",
      "model_name": "LabelModel",
      "state": {
       "layout": "IPY_MODEL_84ed8685d4fd4ef9b87d47c39139aaf3",
       "style": "IPY_MODEL_6efe0b95687e48c1bd095115d70ddcc2",
       "value": "Timed out. Defaulted to 'yes'"
      }
     },
     "b21213213bd5470da29582a0038d3d3a": {
      "model_module": "@jupyter-widgets/controls",
      "model_module_version": "1.5.0",
      "model_name": "TextModel",
      "state": {
       "description": "Query end time (UTC) :  ",
       "layout": "IPY_MODEL_a224f740abb042c2976f4f6ee0bf5676",
       "style": "IPY_MODEL_e0875190b7124ea08c01634c4ee3f91e",
       "value": "2020-08-11 21:35:56.719083"
      }
     },
     "b21ce97cc57a4b6e99ca5fe0a7abfc9d": {
      "model_module": "@jupyter-widgets/base",
      "model_module_version": "1.2.0",
      "model_name": "LayoutModel",
      "state": {
       "width": "80%"
      }
     },
     "b27bb6f3a1e54310b468ac4e973eaf5b": {
      "model_module": "@jupyter-widgets/base",
      "model_module_version": "1.2.0",
      "model_name": "LayoutModel",
      "state": {}
     },
     "b32392bd5a66455c83dcedab6eabce7d": {
      "model_module": "@jupyter-widgets/controls",
      "model_module_version": "1.5.0",
      "model_name": "TextModel",
      "state": {
       "description": "Time (24hr)",
       "layout": "IPY_MODEL_322926b770c34d1ea14686c1d30ca127",
       "style": "IPY_MODEL_009e93bfcb0a44d7aa7e8f73f24b3cde",
       "value": "20:25:11.230101"
      }
     },
     "b367cd7d7ca44b4480b52fcbe39fc301": {
      "model_module": "@jupyter-widgets/controls",
      "model_module_version": "1.5.0",
      "model_name": "ButtonModel",
      "state": {
       "description": "⇽ Remove",
       "layout": "IPY_MODEL_7cb22fcd36e644198d743be11d88bff0",
       "style": "IPY_MODEL_fe79fb357da048f2bc61a69e50ca7b03"
      }
     },
     "b485e7c03ab646a1b533d72d2086a624": {
      "model_module": "@jupyter-widgets/controls",
      "model_module_version": "1.5.0",
      "model_name": "TextModel",
      "state": {
       "description": "Time (24hr)",
       "layout": "IPY_MODEL_5888e271d7d043ba95a04097b2247d6a",
       "style": "IPY_MODEL_35bc21f0b5064d2094ec58fdb739ed52",
       "value": "20:27:56.859104"
      }
     },
     "b551f985ba4d483a82209a0573e3cb0e": {
      "model_module": "@jupyter-widgets/controls",
      "model_module_version": "1.5.0",
      "model_name": "SliderStyleModel",
      "state": {
       "description_width": "initial"
      }
     },
     "b5788abf8be04326823f714937d8fef2": {
      "model_module": "@jupyter-widgets/base",
      "model_module_version": "1.2.0",
      "model_name": "LayoutModel",
      "state": {
       "left": "10px"
      }
     },
     "b590c641e6c84348a0f439e9185d33b8": {
      "model_module": "@jupyter-widgets/controls",
      "model_module_version": "1.5.0",
      "model_name": "SliderStyleModel",
      "state": {
       "description_width": "initial"
      }
     },
     "b5ca42dc174646d19dd649cda0e878ff": {
      "model_module": "@jupyter-widgets/controls",
      "model_module_version": "1.5.0",
      "model_name": "VBoxModel",
      "state": {
       "children": [
        "IPY_MODEL_a6bf7441620b40e98d42f81f32852501",
        "IPY_MODEL_8028d459a3f545c2a321adc2f2fccfa4"
       ],
       "layout": "IPY_MODEL_995dfe55510748a597175b462a7e5763"
      }
     },
     "b6088ea9615f413bbcc221ff0e72f38a": {
      "model_module": "@jupyter-widgets/base",
      "model_module_version": "1.2.0",
      "model_name": "LayoutModel",
      "state": {}
     },
     "b72a7c844c634ee19bbb8e19f515e6bd": {
      "model_module": "@jupyter-widgets/controls",
      "model_module_version": "1.5.0",
      "model_name": "ButtonModel",
      "state": {
       "description": "Add ⇾",
       "layout": "IPY_MODEL_b97da0c9dae54e2685adfda1de0c0697",
       "style": "IPY_MODEL_cef721eefd0340669650d4206db8eaa8"
      }
     },
     "b72c12ad3c0a4d73aadc9a0c825dc2a9": {
      "model_module": "@jupyter-widgets/controls",
      "model_module_version": "1.5.0",
      "model_name": "VBoxModel",
      "state": {
       "children": [
        "IPY_MODEL_1d697d37d1124c80ac7aae3b522a5523",
        "IPY_MODEL_4ed8abd73bbd42658258e927c3c763d0",
        "IPY_MODEL_f0c1e6964f3a480aaee203598208cdd4"
       ],
       "layout": "IPY_MODEL_7654b425573947859b347fc5f3926730"
      }
     },
     "b76757a6abe64410adeec35d6e35a6b2": {
      "model_module": "@jupyter-widgets/base",
      "model_module_version": "1.2.0",
      "model_name": "LayoutModel",
      "state": {}
     },
     "b7a3c88483b747cf8c0294c259d8a269": {
      "model_module": "@jupyter-widgets/controls",
      "model_module_version": "1.5.0",
      "model_name": "HTMLModel",
      "state": {
       "layout": "IPY_MODEL_9252a8583c4e4b45ad28008a9a56a44a",
       "style": "IPY_MODEL_7ef643dccc7a48fc9a558902b1893673",
       "value": "<h4>Set query time boundaries</h4>"
      }
     },
     "b7b35e1e432f4e9cb0591b1d45b97e01": {
      "model_module": "@jupyter-widgets/base",
      "model_module_version": "1.2.0",
      "model_name": "LayoutModel",
      "state": {}
     },
     "b82a95041f5141fcbde9061c4881bd91": {
      "model_module": "@jupyter-widgets/base",
      "model_module_version": "1.2.0",
      "model_name": "LayoutModel",
      "state": {}
     },
     "b8366968da464f7a966c6b83c8293cd7": {
      "model_module": "@jupyter-widgets/base",
      "model_module_version": "1.2.0",
      "model_name": "LayoutModel",
      "state": {}
     },
     "b91a75d4c0474d76976e1fe9ad5bd503": {
      "model_module": "@jupyter-widgets/base",
      "model_module_version": "1.2.0",
      "model_name": "LayoutModel",
      "state": {}
     },
     "b97da0c9dae54e2685adfda1de0c0697": {
      "model_module": "@jupyter-widgets/base",
      "model_module_version": "1.2.0",
      "model_name": "LayoutModel",
      "state": {}
     },
     "ba88b010480b4108ab16550a96de9525": {
      "model_module": "@jupyter-widgets/base",
      "model_module_version": "1.2.0",
      "model_name": "LayoutModel",
      "state": {
       "width": "80%"
      }
     },
     "bbdc19406a3f45eda47e52b8227f89ce": {
      "model_module": "@jupyter-widgets/base",
      "model_module_version": "1.2.0",
      "model_name": "LayoutModel",
      "state": {}
     },
     "bc2582589e52480c9f52fdfbfd044081": {
      "model_module": "@jupyter-widgets/controls",
      "model_module_version": "1.5.0",
      "model_name": "DescriptionStyleModel",
      "state": {
       "description_width": ""
      }
     },
     "bcc002fe904f4f1f8033dc7e9034fade": {
      "model_module": "@jupyter-widgets/controls",
      "model_module_version": "1.5.0",
      "model_name": "HBoxModel",
      "state": {
       "children": [
        "IPY_MODEL_e9c7a1924d3f412c930c660eb9e4370d",
        "IPY_MODEL_e54be716582a467d8118a2904e342651"
       ],
       "layout": "IPY_MODEL_bfa00620fdff4c2b9a615f801c5de77c"
      }
     },
     "bd0fc7e38fb94c50a60325848671a9fd": {
      "model_module": "@jupyter-widgets/base",
      "model_module_version": "1.2.0",
      "model_name": "LayoutModel",
      "state": {}
     },
     "bd55a315fe5b447795a7bce6bbcbbf07": {
      "model_module": "@jupyter-widgets/controls",
      "model_module_version": "1.5.0",
      "model_name": "DescriptionStyleModel",
      "state": {
       "description_width": ""
      }
     },
     "bf59e68f8c414adbbe6e1e944ecabaf6": {
      "model_module": "@jupyter-widgets/controls",
      "model_module_version": "1.5.0",
      "model_name": "DescriptionStyleModel",
      "state": {
       "description_width": ""
      }
     },
     "bf9b8a4b4d5b4182900f00f75bb26d6c": {
      "model_module": "@jupyter-widgets/controls",
      "model_module_version": "1.5.0",
      "model_name": "HTMLModel",
      "state": {
       "layout": "IPY_MODEL_94254dfbc8fc47fda9bc0a140b3afd61",
       "style": "IPY_MODEL_3220165240c9409d82eb409296f9e645",
       "value": "<h4>Set query time boundaries</h4>"
      }
     },
     "bfa00620fdff4c2b9a615f801c5de77c": {
      "model_module": "@jupyter-widgets/base",
      "model_module_version": "1.2.0",
      "model_name": "LayoutModel",
      "state": {}
     },
     "bfb097a58b194f67afa531106b6089b9": {
      "model_module": "@jupyter-widgets/base",
      "model_module_version": "1.2.0",
      "model_name": "LayoutModel",
      "state": {}
     },
     "bfe859cc1c914644ad217ad8b1f82266": {
      "model_module": "@jupyter-widgets/base",
      "model_module_version": "1.2.0",
      "model_name": "LayoutModel",
      "state": {}
     },
     "c17b4315ab8547edb05b893d324a1829": {
      "model_module": "@jupyter-widgets/base",
      "model_module_version": "1.2.0",
      "model_name": "LayoutModel",
      "state": {}
     },
     "c19d6f79f4e048aca1f2131845855b8c": {
      "model_module": "@jupyter-widgets/controls",
      "model_module_version": "1.5.0",
      "model_name": "DescriptionStyleModel",
      "state": {
       "description_width": ""
      }
     },
     "c1cb0b17394240c3838a23bae476d0ef": {
      "model_module": "@jupyter-widgets/controls",
      "model_module_version": "1.5.0",
      "model_name": "HBoxModel",
      "state": {
       "children": [
        "IPY_MODEL_7705a82b9d9d45cf8c5b81db0af4b512",
        "IPY_MODEL_cd514e14a6e9484da9c2ec11311a95a6"
       ],
       "layout": "IPY_MODEL_54092f06b5714f94826b5db4a948fb8d"
      }
     },
     "c2815aab1c564af7bcfd02815b9a2e2a": {
      "model_module": "@jupyter-widgets/base",
      "model_module_version": "1.2.0",
      "model_name": "LayoutModel",
      "state": {
       "width": "50%"
      }
     },
     "c37d4322a0fb41f2b3f64c6ac16fadd9": {
      "model_module": "@jupyter-widgets/controls",
      "model_module_version": "1.5.0",
      "model_name": "DatePickerModel",
      "state": {
       "description": "Origin Date",
       "disabled": false,
       "layout": "IPY_MODEL_d051f3fe4fd84675b3ca2a6e8a566307",
       "style": "IPY_MODEL_8362eb442bf6425d82f27df69d8b49ac",
       "value": {
        "date": 11,
        "month": 7,
        "year": 2020
       }
      }
     },
     "c40395828b2e4130803f18a225e2b9ed": {
      "model_module": "@jupyter-widgets/controls",
      "model_module_version": "1.5.0",
      "model_name": "ButtonModel",
      "state": {
       "description": "No",
       "layout": "IPY_MODEL_deb1dfc47a594b8395124a46917966cd",
       "style": "IPY_MODEL_3a013f5203dc4a32b64289c0c7268bb7"
      }
     },
     "c47e002bc1c74e73be32ca95d50c8726": {
      "model_module": "@jupyter-widgets/controls",
      "model_module_version": "1.5.0",
      "model_name": "LabelModel",
      "state": {
       "layout": "IPY_MODEL_9f161ce21d0a49f6900e0575f5b91613",
       "style": "IPY_MODEL_a74fe58294794bddb88afbcbbedbe39a",
       "value": "100%"
      }
     },
     "c4d0f964f9a24b46b5f667310961dd8a": {
      "model_module": "@jupyter-widgets/base",
      "model_module_version": "1.2.0",
      "model_name": "LayoutModel",
      "state": {
       "height": "200px",
       "width": "40%"
      }
     },
     "c4d876b8d4154d1ab2ea6a2f135e7f0f": {
      "model_module": "@jupyter-widgets/controls",
      "model_module_version": "1.5.0",
      "model_name": "DescriptionStyleModel",
      "state": {
       "description_width": "initial"
      }
     },
     "c5598a3f9a6b4650bf00755c4e1670c6": {
      "model_module": "@jupyter-widgets/base",
      "model_module_version": "1.2.0",
      "model_name": "LayoutModel",
      "state": {
       "width": "50%"
      }
     },
     "c61ca3c4c627443985dff4822122b799": {
      "model_module": "@jupyter-widgets/controls",
      "model_module_version": "1.5.0",
      "model_name": "DescriptionStyleModel",
      "state": {
       "description_width": "initial"
      }
     },
     "c691ebc960c54292997911631a4f9448": {
      "model_module": "@jupyter-widgets/controls",
      "model_module_version": "1.5.0",
      "model_name": "DatePickerModel",
      "state": {
       "description": "Origin Date",
       "disabled": false,
       "layout": "IPY_MODEL_3e9ae944dc7b43c5979ae5f6301e36ca",
       "style": "IPY_MODEL_803c8b7338e34aafb8d6d49c987b79bb",
       "value": {
        "date": 6,
        "month": 7,
        "year": 2020
       }
      }
     },
     "c69d7268d5ef49eb84c5bc6c18303273": {
      "model_module": "@jupyter-widgets/base",
      "model_module_version": "1.2.0",
      "model_name": "LayoutModel",
      "state": {
       "height": "100px",
       "width": "50%"
      }
     },
     "c6c4880d1668447fb8c9880fdbb2916f": {
      "model_module": "@jupyter-widgets/controls",
      "model_module_version": "1.5.0",
      "model_name": "DatePickerModel",
      "state": {
       "description": "Origin Date",
       "disabled": false,
       "layout": "IPY_MODEL_73cd48911d1c4e90be313c3a399112f1",
       "style": "IPY_MODEL_61921a56193e47159ad66520a47af62f",
       "value": {
        "date": 27,
        "month": 6,
        "year": 2020
       }
      }
     },
     "c7701a3273c24c4cb20c998041faec1b": {
      "model_module": "@jupyter-widgets/controls",
      "model_module_version": "1.5.0",
      "model_name": "VBoxModel",
      "state": {
       "children": [
        "IPY_MODEL_f4e61d32f7ba410494243b4018e7cee6",
        "IPY_MODEL_852865afc4bf4b27a574b086dcb6ed24"
       ],
       "layout": "IPY_MODEL_5fa355067812430e89be7c46395bba61"
      }
     },
     "c7c244576cdb485f869fb2a01ed8780f": {
      "model_module": "@jupyter-widgets/controls",
      "model_module_version": "1.5.0",
      "model_name": "DatePickerModel",
      "state": {
       "description": "Origin Date",
       "disabled": false,
       "layout": "IPY_MODEL_4aefecb3823d43eaaff9269e4ab0c74a",
       "style": "IPY_MODEL_61bd1a5f557b4276b2052514b2801255",
       "value": {
        "date": 11,
        "month": 7,
        "year": 2020
       }
      }
     },
     "c81e7eaa922d454ea3c1cf3c1d794e55": {
      "model_module": "@jupyter-widgets/base",
      "model_module_version": "1.2.0",
      "model_name": "LayoutModel",
      "state": {}
     },
     "c84d9a363f8b4c3c9f52ba99c10914b2": {
      "model_module": "@jupyter-widgets/base",
      "model_module_version": "1.2.0",
      "model_name": "LayoutModel",
      "state": {
       "width": "10%"
      }
     },
     "c8a45bba4984413b8c5e00f5bdd4a613": {
      "model_module": "@jupyter-widgets/base",
      "model_module_version": "1.2.0",
      "model_name": "LayoutModel",
      "state": {
       "width": "50%"
      }
     },
     "c9330c97c899468f8185d6ca0543130e": {
      "model_module": "@jupyter-widgets/controls",
      "model_module_version": "1.5.0",
      "model_name": "SelectModel",
      "state": {
       "_options_labels": [
        "2019-01-15 05:15:03 - Suspicious Account Creation Detected - (MSTICALERTSWIN1)  - [id:2518547714966107270_3c380601-b5ad-4fff-9cdb-24528a3a19fd]",
        "2019-01-15 05:15:10 - Potential attempt to bypass AppLocker detected - (MSTICALERTSWIN1)  - [id:2518547714892475358_9e449abd-e67b-4ec8-a191-e688d7d63e26]",
        "2019-01-15 05:15:11 - Detected suspicious credentials in commandline - (MSTICALERTSWIN1)  - [id:2518547714880519889_9d6d471a-c94f-4706-b0ff-b2f0301495aa]",
        "2019-01-15 05:15:11 - Detected encoded executable in command line data - (MSTICALERTSWIN1)  - [id:2518547714885867955_290559aa-a3d0-425b-8ed2-e98ccc9f0aa0]",
        "2019-01-15 05:15:11 - Digital currency mining related behavior detected - (MSTICALERTSWIN1)  - [id:2518547714887413669_4fa0022e-f431-4ba1-ae5f-ee23247e0853]",
        "2019-01-15 05:15:11 - Suspiciously named process detected - (MSTICALERTSWIN1)  - [id:2518547714887413669_1c680842-2a1d-40c0-a6e4-32e5dd144647]",
        "2019-01-15 05:15:11 - Detected decoding of an executable using built-in certutil.exe tool - (MSTICALERTSWIN1)  - [id:2518547714882331861_5c56421d-d894-4437-9b9a-a3b5c6b7e1df]",
        "2019-01-15 05:15:12 - Detected suspicious commandline arguments - (MSTICALERTSWIN1)  - [id:2518547714879317674_226cc394-fccf-483d-888a-beafad2ed4a4]",
        "2019-01-15 05:15:12 - Detected suspicious document credentials - (MSTICALERTSWIN1)  - [id:2518547714879970078_b080127b-d5c1-425e-a7ca-e4bbd873009d]",
        "2019-01-15 05:15:12 - Suspicious Powershell Activity Detected - (MSTICALERTSWIN1)  - [id:2518547714874872692_30d988ff-b8d9-45df-8217-e56b0d4d591c]",
        "2019-01-15 05:15:12 - Suspicious powershell cmdlets executed - (MSTICALERTSWIN1)  - [id:2518547714874872692_3eb0eb4b-0536-430c-8ab6-cd48524c14b1]",
        "2019-01-15 05:15:12 - Suspicious Powershell Activity Detected - (MSTICALERTSWIN1)  - [id:2518547714876077067_953def48-a24b-42a9-bd02-7221be90f84a]",
        "2019-01-15 05:15:12 - Suspicious Powershell Activity Detected - (MSTICALERTSWIN1)  - [id:2518547714873290756_df1b9eb2-05c4-4f7c-8540-cbb18ec5c608]",
        "2019-01-15 05:15:12 - Detected obfuscated command line. - (MSTICALERTSWIN1)  - [id:2518547714871530079_77211491-86de-4295-82bc-38e332fe1112]",
        "2019-01-15 05:15:13 - Suspicious Powershell Activity Detected - (MSTICALERTSWIN1)  - [id:2518547714867787710_76336679-bddf-460f-90fb-35a1386de7a6]",
        "2019-01-15 05:15:14 - Executable found running from a suspicious location - (MSTICALERTSWIN1)  - [id:2518547714853062206_f9ddd8b3-5fa8-4f2f-b811-bdca90091195]",
        "2019-01-15 05:15:14 - Detected suspicious named pipe communications - (MSTICALERTSWIN1)  - [id:2518547714859677078_9b4e4942-d564-4755-862c-7171d52921e3]",
        "2019-01-15 05:15:14 - Suspicious process executed - (MSTICALERTSWIN1)  - [id:2518547714854375707_e2a60bd1-d7c8-466d-a176-4333d4e0d1d5]",
        "2019-01-15 05:15:14 - Suspicious WindowPosition registry value detected - (MSTICALERTSWIN1)  - [id:2518547714858429362_9bfd0e4b-ec93-46bb-8eea-f72e8f1262f1]",
        "2019-01-15 05:15:14 - Executable found running from a suspicious location - (MSTICALERTSWIN1)  - [id:2518547714857061520_f4324711-aeae-4912-a634-331b7e7456b6]",
        "2019-01-15 05:15:15 - Suspicious process executed - (MSTICALERTSWIN1)  - [id:2518547714842732992_ad5981a5-fdcc-406a-8742-e50bd7f84917]",
        "2019-01-15 05:15:15 - Detected anomalous mix of upper and lower case characters in command-line - (MSTICALERTSWIN1)  - [id:2518547714844457503_55cd3e12-3a91-4b06-9be6-833df3365142]",
        "2019-01-15 05:15:15 - Detected change to a registry key that can be abused to bypass UAC - (MSTICALERTSWIN1)  - [id:2518547714844291280_8f71e695-ba9b-4c97-9770-63cdeb34b7b4]",
        "2019-01-15 05:15:15 - Sticky keys attack detected - (MSTICALERTSWIN1)  - [id:2518547714843796759_b3737297-038c-4514-a957-d591384b4256]",
        "2019-01-15 05:15:15 - Detected suspicious use of FTP -s Switch - (MSTICALERTSWIN1)  - [id:2518547714843218505_265472ff-3820-4dad-8da7-00e39e1a99fd]",
        "2019-01-15 05:15:16 - Suspected Kerberos Golden Ticket attack parameters observed - (MSTICALERTSWIN1)  - [id:2518547714838326136_e776fca2-4c01-43eb-ab97-b9845af3529c]",
        "2019-01-15 05:15:16 - Detected suspicious new firewall rule - (MSTICALERTSWIN1)  - [id:2518547714839319574_33edaa83-fe35-47de-9486-fc9792c5b65b]",
        "2019-01-15 05:15:16 - Detected suspicious execution via rundll32.exe - (MSTICALERTSWIN1)  - [id:2518547714834806864_4bb2ecc3-f4aa-40cd-a3d7-802fc9086e89]",
        "2019-01-15 05:15:16 - Detected suspicious execution via rundll32.exe - (MSTICALERTSWIN1)  - [id:2518547714835690929_8e73946b-ebea-4625-aa60-d97b82dcfb07]",
        "2019-01-15 05:15:16 - Detected possible local reconnaissance activity - (MSTICALERTSWIN1)  - [id:2518547714837217151_f0d023fb-376f-46ab-9976-a5825d826bea]",
        "2019-01-15 05:15:16 - Detected suspicious Set-ExecutionPolicy and WinRM changes - (MSTICALERTSWIN1)  - [id:2518547714832788202_b56b9e61-fefb-47a3-a34f-7c1b44f8268a]",
        "2019-01-15 05:15:16 - Detected suspicious commandline used to start all executables in a directory - (MSTICALERTSWIN1)  - [id:2518547714833232927_0e8db234-9727-41f3-a6e0-0773519603d2]",
        "2019-01-15 05:15:16 - Detected potentially suspicious use of Telegram tool - (MSTICALERTSWIN1)  - [id:2518547714833859291_4fa26308-1daf-49ee-8880-b194f950d8b0]",
        "2019-01-15 05:15:16 - Detected actions indicative of disabling and deleting IIS log files. - (MSTICALERTSWIN1)  - [id:2518547714831067013_8df27789-fb10-4035-ac48-cd0883b2e6b0]",
        "2019-01-15 05:15:17 - Random process name detected - (MSTICALERTSWIN1)  - [id:2518547714829244584_9984a237-2dd7-4932-bb8d-23ca535a6254]",
        "2019-01-15 05:15:17 - Azure Security Center test alert (not a threat) - (MSTICALERTSWIN1)  - [id:2518547714824290520_b2d9be9f-58e2-4174-8658-419670393253]",
        "2019-01-15 05:15:18 - Detected suspicious file creation - (MSTICALERTSWIN1)  - [id:2518547714816637303_3252483f-2fdb-411a-93f5-e268d5e56abf]",
        "2019-01-15 05:15:18 - High risk software detected - (MSTICALERTSWIN1)  - [id:2518547714813699414_d12ed618-567b-4b8f-8241-82ad4c1cb28e]",
        "2019-01-15 05:15:18 - Detected possible execution of malware dropper - (MSTICALERTSWIN1)  - [id:2518547714815009424_9a34d332-2fb6-4f3f-beb0-d9817dc9b7cd]",
        "2019-01-15 05:15:18 - Ransomware indicators detected - (MSTICALERTSWIN1)  - [id:2518547714812286467_d5e026fa-6687-495e-878d-c4c93477cc78]",
        "2019-01-15 05:15:18 - Detected possible execution of keygen executable - (MSTICALERTSWIN1)  - [id:2518547714814533914_38d53571-e98a-4bb6-a17f-0361a561019e]",
        "2019-01-15 05:15:18 - Detected suspicious use of Pcalua.exe to launch executable code - (MSTICALERTSWIN1)  - [id:2518547714811337754_ad1fd62a-9565-41e4-b94a-6264942033f6]",
        "2019-01-15 05:15:18 - Detected the disabling of critical services - (MSTICALERTSWIN1)  - [id:2518547714813299511_a5df127a-f7e8-44ff-b404-6d5b37d06488]",
        "2019-01-15 05:15:18 - Detected suspicious file cleanup commands - (MSTICALERTSWIN1)  - [id:2518547714814450855_c0822e2b-785b-41a8-8136-21b7430a0078]",
        "2019-01-15 05:15:18 - Detected Petya ransomware indicators - (MSTICALERTSWIN1)  - [id:2518547714812938298_fa4939d4-a20c-440a-839c-89c0c43e1ccc]",
        "2019-01-15 05:15:18 - Detected suspicious execution of VBScript.Encode command - (MSTICALERTSWIN1)  - [id:2518547714811804858_5b42a152-64c2-4f16-8cc3-887b8b0161fc]",
        "2019-01-15 05:15:18 - Detected suspicious use of Cacls to lower the security state of the system. - (MSTICALERTSWIN1)  - [id:2518547714815952205_1ba5718e-529b-441b-8036-ad06ee862e76]",
        "2019-01-15 05:15:19 - Possible credential dumping detected - (MSTICALERTSWIN1)  - [id:2518547714809416002_76bf04a5-71fa-487a-9742-d54941a7a194]",
        "2019-01-15 05:15:19 - Suspicious download using Certutil detected - (MSTICALERTSWIN1)  - [id:2518547714805546049_03e7bf17-8f77-42ca-8ac1-af8258f4d1ca]",
        "2019-01-15 09:15:03 - Suspicious Account Creation Detected - (MSTICALERTSWIN1)  - [id:2518547570966661760_526e34b6-6578-4fc0-9db6-e126b4d673f0]",
        "2019-01-15 09:15:07 - Potential attempt to bypass AppLocker detected - (MSTICALERTSWIN1)  - [id:2518547570924760670_9868ed7d-397e-4aa4-8dbd-5a1c5f736c1e]",
        "2019-01-15 09:15:10 - Suspiciously named process detected - (MSTICALERTSWIN1)  - [id:2518547570895430544_4ea6c432-6d20-4986-9679-ecf58ac4854d]",
        "2019-01-15 09:15:10 - Digital currency mining related behavior detected - (MSTICALERTSWIN1)  - [id:2518547570895430544_72351be4-ae78-4cc6-9f6a-1ff87c31baeb]",
        "2019-01-15 09:15:11 - Suspicious Powershell Activity Detected - (MSTICALERTSWIN1)  - [id:2518547570884378777_92a2f884-5827-4fb6-acf8-b0087b76aa73]",
        "2019-01-15 09:15:11 - Suspicious Powershell Activity Detected - (MSTICALERTSWIN1)  - [id:2518547570881721037_4ca5c629-673c-4372-9bd3-ab7bf6d6e6f0]",
        "2019-01-15 09:15:11 - Suspicious Powershell Activity Detected - (MSTICALERTSWIN1)  - [id:2518547570883109415_c762b0f7-a0f5-4dda-ab48-54b5ae6eade4]",
        "2019-01-15 09:15:11 - Detected obfuscated command line. - (MSTICALERTSWIN1)  - [id:2518547570880067443_c1a9004f-7f64-4144-8ce0-8f76f9041703]",
        "2019-01-15 09:15:12 - Suspicious Powershell Activity Detected - (MSTICALERTSWIN1)  - [id:2518547570876432155_ce7c7361-8ac9-47be-b8fb-7a87c87ee178]",
        "2019-01-15 09:15:13 - Suspicious WindowPosition registry value detected - (MSTICALERTSWIN1)  - [id:2518547570866947129_1b074412-133c-4ac9-8e3f-24103159b03e]",
        "2019-01-15 09:15:13 - Executable found running from a suspicious location - (MSTICALERTSWIN1)  - [id:2518547570865502616_c6f3dea2-fe36-4e65-b161-1b1cd1104eb3]",
        "2019-01-15 09:15:13 - Executable found running from a suspicious location - (MSTICALERTSWIN1)  - [id:2518547570860979996_bddac8c5-cba5-4da2-a6dd-c0a39fc2b256]",
        "2019-01-15 09:15:13 - Suspicious process executed - (MSTICALERTSWIN1)  - [id:2518547570862568702_029c9c95-c1fe-4419-bc3b-a6d832c87e65]",
        "2019-01-15 09:15:14 - Detected anomalous mix of upper and lower case characters in command-line - (MSTICALERTSWIN1)  - [id:2518547570852901341_3ca6ca5a-8bf2-417f-b8c9-3cea37c84f4b]",
        "2019-01-15 09:15:14 - Suspicious process executed - (MSTICALERTSWIN1)  - [id:2518547570851316041_43f7d8f3-fea5-4fca-a884-713c2d65203c]",
        "2019-01-15 09:15:16 - Azure Security Center test alert (not a threat) - (MSTICALERTSWIN1)  - [id:2518547570833725387_2df8ae94-03fe-4b9f-a3a9-f3c6dab95c05]",
        "2019-01-15 09:15:17 - Ransomware indicators detected - (MSTICALERTSWIN1)  - [id:2518547570821365949_48327b74-c904-402d-a1d8-2b3a882924e7]",
        "2019-01-15 09:15:17 - Detected Petya ransomware indicators - (MSTICALERTSWIN1)  - [id:2518547570821871899_e647375c-9979-47b5-9f78-f414a1aad26d]",
        "2019-01-15 11:45:00 - Suspicious Account Creation Detected - (MSTICALERTSWIN1)  - [id:2518547480991748435_836318d1-0fa0-4cfe-a3d0-2b1fdbaf2216]",
        "2019-01-15 11:45:01 - Detected obfuscated command line. - (MSTICALERTSWIN1)  - [id:2518547480982511513_adfabbe0-fce0-44f3-be4b-17283bd03bed]",
        "2019-01-15 11:45:01 - Suspiciously named process detected - (MSTICALERTSWIN1)  - [id:2518547480988516756_54bb943e-7fe9-4146-a43e-4064c8e0049f]",
        "2019-01-15 11:45:01 - Digital currency mining related behavior detected - (MSTICALERTSWIN1)  - [id:2518547480988516756_668ed54c-9e73-4d4f-a9c2-b88fd1b13db0]",
        "2019-01-15 11:45:01 - Potential attempt to bypass AppLocker detected - (MSTICALERTSWIN1)  - [id:2518547480989617678_f3490cf7-a303-4001-b7d6-8acf7e83f191]",
        "2019-01-15 11:45:01 - Suspicious Powershell Activity Detected - (MSTICALERTSWIN1)  - [id:2518547480982973701_24a6d6f3-acf1-41bd-a11f-01a1369bac02]",
        "2019-01-15 11:45:01 - Suspicious Powershell Activity Detected - (MSTICALERTSWIN1)  - [id:2518547480984263491_d46877bd-e04d-401a-99bd-eec2a6b25663]",
        "2019-01-15 11:45:01 - Suspicious Powershell Activity Detected - (MSTICALERTSWIN1)  - [id:2518547480983467170_9da8e3df-9c3b-4e20-8bd0-ace00aff9def]",
        "2019-01-15 11:45:01 - Suspicious Powershell Activity Detected - (MSTICALERTSWIN1)  - [id:2518547480980813134_5cb7ab95-6017-4031-afb2-e11518b0f5cc]",
        "2019-01-15 11:45:02 - Executable found running from a suspicious location - (MSTICALERTSWIN1)  - [id:2518547480975043692_7e663699-5412-496f-ac91-e21a7b6f0be5]",
        "2019-01-15 11:45:02 - Suspicious WindowPosition registry value detected - (MSTICALERTSWIN1)  - [id:2518547480977469312_e9ff6947-fd12-42d2-bb63-2d814f04482a]",
        "2019-01-15 11:45:02 - Executable found running from a suspicious location - (MSTICALERTSWIN1)  - [id:2518547480977057409_ed9d92ac-0ab8-4a2e-a1dd-f70ee30a9af1]",
        "2019-01-15 11:45:02 - Detected anomalous mix of upper and lower case characters in command-line - (MSTICALERTSWIN1)  - [id:2518547480970182118_c0558adc-b4a9-4289-b9ad-7e7260f1cde0]",
        "2019-01-15 11:45:02 - Suspicious process executed - (MSTICALERTSWIN1)  - [id:2518547480976076338_2a106d12-acd8-4dd7-9e1c-3c20b4eaa320]",
        "2019-01-15 11:45:03 - Suspicious process executed - (MSTICALERTSWIN1)  - [id:2518547480968677354_88eb8a87-a876-46aa-b8ed-be7298929ea8]",
        "2019-01-15 11:45:04 - Random process name detected - (MSTICALERTSWIN1)  - [id:2518547480956885358_b66e93d7-b38b-4785-baa5-093edc18e649]",
        "2019-01-15 11:45:05 - Azure Security Center test alert (not a threat) - (MSTICALERTSWIN1)  - [id:2518547480945920380_00d33245-c643-4155-8c05-6abc4ee3b3cd]",
        "2019-01-15 11:45:06 - Ransomware indicators detected - (MSTICALERTSWIN1)  - [id:2518547480937987105_ec1678a1-0fe8-44c5-91b5-621c40d2bb8c]",
        "2019-01-15 11:45:06 - Detected Petya ransomware indicators - (MSTICALERTSWIN1)  - [id:2518547480938543829_91a4f9a7-70ad-433b-a568-34314e3f467f]",
        "2019-01-15 13:15:10 - Suspiciously named process detected - (MSTICALERTSWIN1)  - [id:2518547426892072407_171b74b2-a431-4b55-8d69-128e5fb95329]",
        "2019-01-15 13:15:13 - Suspicious WindowPosition registry value detected - (MSTICALERTSWIN1)  - [id:2518547426863814510_75495c57-4fd6-4e27-b94c-c6f81f78bcb5]",
        "2019-01-15 13:15:14 - Suspicious process executed - (MSTICALERTSWIN1)  - [id:2518547426859453218_89d1850f-dccd-4d45-b194-650819d358d9]",
        "2019-01-15 13:15:14 - Executable found running from a suspicious location - (MSTICALERTSWIN1)  - [id:2518547426858055460_51b74398-40e2-4b1b-9d92-89c0004738c9]",
        "2019-01-15 13:15:15 - Suspicious process executed - (MSTICALERTSWIN1)  - [id:2518547426847947731_caa12d6c-4928-4787-90d4-cb27ff94373c]",
        "2019-01-15 13:15:17 - Azure Security Center test alert (not a threat) - (MSTICALERTSWIN1)  - [id:2518547426829675756_846ec406-bb3e-451b-bf6f-9e1e17a69bd6]",
        "2019-01-15 13:15:18 - Ransomware indicators detected - (MSTICALERTSWIN1)  - [id:2518547426817428483_636ab38f-2528-4356-8602-d0910f8ac600]",
        "2019-01-15 13:15:18 - Detected Petya ransomware indicators - (MSTICALERTSWIN1)  - [id:2518547426817928329_a4aa878d-93b5-4cd1-931f-30f85b9e6db2]",
        "2019-01-15 17:15:03 - Suspicious Account Creation Detected - (MSTICALERTSWIN1)  - [id:2518547282966696689_3db7e1e7-2edc-4dd9-8c1d-d908f5b8a904]",
        "2019-01-15 17:15:10 - Suspiciously named process detected - (MSTICALERTSWIN1)  - [id:2518547282892925953_0073e6d8-6c2e-42e4-8966-d1f5a3dd3517]",
        "2019-01-15 17:15:10 - Digital currency mining related behavior detected - (MSTICALERTSWIN1)  - [id:2518547282892925953_35c8d588-ddf7-46b5-a0bf-f47023f9343c]",
        "2019-01-15 17:15:10 - Potential attempt to bypass AppLocker detected - (MSTICALERTSWIN1)  - [id:2518547282896095305_82730ffa-b9ce-43f4-bf3c-a97113107cc5]",
        "2019-01-15 17:15:11 - Suspicious Powershell Activity Detected - (MSTICALERTSWIN1)  - [id:2518547282883193041_31ae6eeb-bd1d-4018-8df9-eeedd60bf1ab]",
        "2019-01-15 17:15:11 - Suspicious Powershell Activity Detected - (MSTICALERTSWIN1)  - [id:2518547282880013417_d65aa787-e867-43b1-9182-025a1a38173a]",
        "2019-01-15 17:15:11 - Suspicious Powershell Activity Detected - (MSTICALERTSWIN1)  - [id:2518547282881581273_ed5bcf39-ffd3-468a-82e3-28e108d4f06f]",
        "2019-01-15 17:15:12 - Suspicious Powershell Activity Detected - (MSTICALERTSWIN1)  - [id:2518547282874783943_bd1a0865-a507-4e2b-b8df-613238a950df]",
        "2019-01-15 17:15:12 - Detected obfuscated command line. - (MSTICALERTSWIN1)  - [id:2518547282878855119_d89d1ab7-e5b7-426c-a98f-eab95deea3ad]",
        "2019-01-15 17:15:13 - Suspicious WindowPosition registry value detected - (MSTICALERTSWIN1)  - [id:2518547282865194453_9895a5cc-6f49-45f5-a0eb-f05c1f11f264]",
        "2019-01-15 17:15:13 - Executable found running from a suspicious location - (MSTICALERTSWIN1)  - [id:2518547282863799328_84ea8dcd-9436-4b4d-82b2-36114028bd61]",
        "2019-01-15 17:15:14 - Suspicious process executed - (MSTICALERTSWIN1)  - [id:2518547282859754476_0c3ae402-a9ea-4d5c-9c09-4274b7847c2c]",
        "2019-01-15 17:15:14 - Executable found running from a suspicious location - (MSTICALERTSWIN1)  - [id:2518547282858353938_58851b10-8f5c-48f1-aade-b1529f4e2c7f]",
        "2019-01-15 17:15:14 - Detected anomalous mix of upper and lower case characters in command-line - (MSTICALERTSWIN1)  - [id:2518547282850984831_7f983018-fd59-4e9e-ba70-295f6beb0e9c]",
        "2019-01-15 17:15:15 - Suspicious process executed - (MSTICALERTSWIN1)  - [id:2518547282845656644_c7318da8-368f-47f8-bff5-e15600a3fb80]",
        "2019-01-15 17:15:18 - Azure Security Center test alert (not a threat) - (MSTICALERTSWIN1)  - [id:2518547282812706885_12ae1e22-347e-454c-ae0d-ebb48cdf189b]",
        "2019-01-15 17:15:19 - Detected Petya ransomware indicators - (MSTICALERTSWIN1)  - [id:2518547282803821916_c76cdb6c-cea0-4b2b-9ab6-1442a5857ed8]",
        "2019-01-15 17:15:19 - Ransomware indicators detected - (MSTICALERTSWIN1)  - [id:2518547282802847718_4a524cc8-7613-4c42-93a9-8c1e466a4476]"
       ],
       "description": "Select alert :",
       "index": 0,
       "layout": "IPY_MODEL_1f5819049e75421b9dd6f6d7c488ec63",
       "style": "IPY_MODEL_848dc0b4409f4ce2acc18e8c764b3074"
      }
     },
     "ca9f32348f5e4f18b4604e42f798642c": {
      "model_module": "@jupyter-widgets/controls",
      "model_module_version": "1.5.0",
      "model_name": "VBoxModel",
      "state": {
       "children": [
        "IPY_MODEL_7e465bd1dbe843efadfef45e3db22338",
        "IPY_MODEL_6f684980e8dc43ee916e4493baeca91f",
        "IPY_MODEL_7a661759c3904acab1eaad70ae2c0fd1"
       ],
       "layout": "IPY_MODEL_6212d538944945b6a2b60ebf07bbf890"
      }
     },
     "cae02ece0bfe424c8377c0b3edfd3e6e": {
      "model_module": "@jupyter-widgets/controls",
      "model_module_version": "1.5.0",
      "model_name": "DatePickerModel",
      "state": {
       "description": "Origin Date",
       "disabled": false,
       "layout": "IPY_MODEL_880b694c2d30409ab4b3a6d1e2468146",
       "style": "IPY_MODEL_a23a6a54dcc14ae39f237cfaaec7f712",
       "value": {
        "date": 27,
        "month": 6,
        "year": 2020
       }
      }
     },
     "cb4cc474302143819963956f9992e73d": {
      "model_module": "@jupyter-widgets/controls",
      "model_module_version": "1.5.0",
      "model_name": "VBoxModel",
      "state": {
       "children": [
        "IPY_MODEL_014ea772e01c4317bbafaae049915bea",
        "IPY_MODEL_4abb89363ea240f5bbdc14685283e5c8",
        "IPY_MODEL_695a17f545a445ba80d680d760ab2a83"
       ],
       "layout": "IPY_MODEL_76b383e454ad4238b7a12ba11df4c946"
      }
     },
     "cb548d6f54ca438c9c2e5352a78c8e31": {
      "model_module": "@jupyter-widgets/controls",
      "model_module_version": "1.5.0",
      "model_name": "DatePickerModel",
      "state": {
       "description": "Origin Date",
       "disabled": false,
       "layout": "IPY_MODEL_375ffc33c46346ab8f2a79c266dc3e1e",
       "style": "IPY_MODEL_414108025cf14dc49e72e3e04f9fd762",
       "value": {
        "date": 6,
        "month": 7,
        "year": 2020
       }
      }
     },
     "cbbcd1eb6ff746619dd2777b0724b7e2": {
      "model_module": "@jupyter-widgets/base",
      "model_module_version": "1.2.0",
      "model_name": "LayoutModel",
      "state": {
       "width": "50%"
      }
     },
     "cc31016b48f34a62bb943a3f5647d7d3": {
      "model_module": "@jupyter-widgets/controls",
      "model_module_version": "1.5.0",
      "model_name": "VBoxModel",
      "state": {
       "children": [
        "IPY_MODEL_e278093849904ee598c78152214ffe15",
        "IPY_MODEL_9874a0e22dee43ca8646705b7a400ff6",
        "IPY_MODEL_54cb8b9a1395429190fe30cda43ecdfa"
       ],
       "layout": "IPY_MODEL_86bedd1dc40645ca84011f5e0bc6e38e"
      }
     },
     "cc8cb3017fb74de195c352be351115ae": {
      "model_module": "@jupyter-widgets/base",
      "model_module_version": "1.2.0",
      "model_name": "LayoutModel",
      "state": {}
     },
     "ccc2fa96edc749a09535f776a1174ab3": {
      "model_module": "@jupyter-widgets/base",
      "model_module_version": "1.2.0",
      "model_name": "LayoutModel",
      "state": {
       "width": "50%"
      }
     },
     "cd514e14a6e9484da9c2ec11311a95a6": {
      "model_module": "@jupyter-widgets/controls",
      "model_module_version": "1.5.0",
      "model_name": "TextModel",
      "state": {
       "description": "Time (24hr)",
       "layout": "IPY_MODEL_779a47f4be794a4eaac4298707433594",
       "style": "IPY_MODEL_08ceda0b6fd24056a26e8338ae8295af",
       "value": "20:25:21.077102"
      }
     },
     "ceeea47fc84244fd95da31d1dd2cf177": {
      "model_module": "@jupyter-widgets/controls",
      "model_module_version": "1.5.0",
      "model_name": "DescriptionStyleModel",
      "state": {
       "description_width": ""
      }
     },
     "cef721eefd0340669650d4206db8eaa8": {
      "model_module": "@jupyter-widgets/controls",
      "model_module_version": "1.5.0",
      "model_name": "ButtonStyleModel",
      "state": {}
     },
     "cf0ef01ec4024644b36fe9bd0a5621b9": {
      "model_module": "@jupyter-widgets/controls",
      "model_module_version": "1.5.0",
      "model_name": "ButtonStyleModel",
      "state": {}
     },
     "cfd38ff6e9574747b92155f9d968ffd9": {
      "model_module": "@jupyter-widgets/controls",
      "model_module_version": "1.5.0",
      "model_name": "SelectModel",
      "state": {
       "_options_labels": [
        "host",
        "account",
        "file",
        "process",
        "host-logon-session"
       ],
       "description": "Select an item",
       "index": 0,
       "layout": "IPY_MODEL_e722113e7f924391a35922272c5e9203",
       "style": "IPY_MODEL_337520544c3f49da8e07ef8f05583d33"
      }
     },
     "d051f3fe4fd84675b3ca2a6e8a566307": {
      "model_module": "@jupyter-widgets/base",
      "model_module_version": "1.2.0",
      "model_name": "LayoutModel",
      "state": {}
     },
     "d067e56c455540e896e25838bfe69da5": {
      "model_module": "@jupyter-widgets/base",
      "model_module_version": "1.2.0",
      "model_name": "LayoutModel",
      "state": {}
     },
     "d1193217e8444151839f9f62c4e1b381": {
      "model_module": "@jupyter-widgets/base",
      "model_module_version": "1.2.0",
      "model_name": "LayoutModel",
      "state": {}
     },
     "d14f2fd2c7e545a5bd0e6d599bc1429b": {
      "model_module": "@jupyter-widgets/controls",
      "model_module_version": "1.5.0",
      "model_name": "IntRangeSliderModel",
      "state": {
       "_model_name": "IntRangeSliderModel",
       "_view_name": "IntRangeSliderView",
       "description": "Time Range (day):",
       "layout": "IPY_MODEL_0e6480f132b440a4b9845bca0b00645a",
       "max": 2,
       "min": -10,
       "style": "IPY_MODEL_0446fe77dba94d31a8a514bb786fa0bc",
       "value": [
        -3,
        2
       ]
      }
     },
     "d19859ccee7c47adbb893f0e5166f5cc": {
      "model_module": "@jupyter-widgets/base",
      "model_module_version": "1.2.0",
      "model_name": "LayoutModel",
      "state": {
       "width": "80%"
      }
     },
     "d1fd7d6793b740de8d5cf9c70db0eb3e": {
      "model_module": "@jupyter-widgets/base",
      "model_module_version": "1.2.0",
      "model_name": "LayoutModel",
      "state": {}
     },
     "d2340d7c3d5c4523b75a4866fcc1bd6b": {
      "model_module": "@jupyter-widgets/controls",
      "model_module_version": "1.5.0",
      "model_name": "ButtonModel",
      "state": {
       "description": "Cancel",
       "layout": "IPY_MODEL_7dd67330ce9c42f397bc9fcea3ff1dc2",
       "style": "IPY_MODEL_95e2fbd856bd418181fdfe9415045ac0"
      }
     },
     "d271bda639f540b09c94fdbdff7e1d4b": {
      "model_module": "@jupyter-widgets/base",
      "model_module_version": "1.2.0",
      "model_name": "LayoutModel",
      "state": {}
     },
     "d2850c0a13c64dd38f0443a0c347c9d7": {
      "model_module": "@jupyter-widgets/controls",
      "model_module_version": "1.5.0",
      "model_name": "ButtonModel",
      "state": {
       "description": "Yes",
       "layout": "IPY_MODEL_12cad41994e94fdc9e010d10d635e219",
       "style": "IPY_MODEL_48171602459840a387c85a00cb1a4cdc"
      }
     },
     "d302be507ba74f3fb29d60e66c885616": {
      "model_module": "@jupyter-widgets/controls",
      "model_module_version": "1.5.0",
      "model_name": "HBoxModel",
      "state": {
       "children": [
        "IPY_MODEL_d2850c0a13c64dd38f0443a0c347c9d7",
        "IPY_MODEL_594065e567994d59bc8e393de2bd2907",
        "IPY_MODEL_d2340d7c3d5c4523b75a4866fcc1bd6b",
        "IPY_MODEL_603cf01bce364557800fd3a6344acf12"
       ],
       "layout": "IPY_MODEL_d271bda639f540b09c94fdbdff7e1d4b"
      }
     },
     "d3278be676074805b2427c37afa9bda8": {
      "model_module": "@jupyter-widgets/controls",
      "model_module_version": "1.5.0",
      "model_name": "VBoxModel",
      "state": {
       "children": [
        "IPY_MODEL_921199a053b8428ea582d0799f0db4e3",
        "IPY_MODEL_51c28a0e7ead4973ac82bf89104bb39a",
        "IPY_MODEL_0b924b9d03e74819bb166e139e64ed86",
        "IPY_MODEL_51c00d475f2f42cab21b7a450104f8ca"
       ],
       "layout": "IPY_MODEL_703717864bd74634a4cf87522a6988a8"
      }
     },
     "d3815788c4df46b1a3a277674d057049": {
      "model_module": "@jupyter-widgets/controls",
      "model_module_version": "1.5.0",
      "model_name": "DescriptionStyleModel",
      "state": {
       "description_width": ""
      }
     },
     "d5c82c93d36042d29f0c0a2087f2d7ec": {
      "model_module": "@jupyter-widgets/controls",
      "model_module_version": "1.5.0",
      "model_name": "DescriptionStyleModel",
      "state": {
       "description_width": "initial"
      }
     },
     "d6514a5e8cbc4848a4c75efbb7e8cf4f": {
      "model_module": "@jupyter-widgets/controls",
      "model_module_version": "1.5.0",
      "model_name": "DescriptionStyleModel",
      "state": {
       "description_width": ""
      }
     },
     "d6b2994fd2f44035a2afc0eb176af1f7": {
      "model_module": "@jupyter-widgets/controls",
      "model_module_version": "1.5.0",
      "model_name": "DescriptionStyleModel",
      "state": {
       "description_width": ""
      }
     },
     "d73297cad69546a4ac454a07caca8479": {
      "model_module": "@jupyter-widgets/controls",
      "model_module_version": "1.5.0",
      "model_name": "VBoxModel",
      "state": {
       "children": [
        "IPY_MODEL_703255cf09ee45278a739fd726b2a83e",
        "IPY_MODEL_802c51a40b644088b78da1b39842b126"
       ],
       "layout": "IPY_MODEL_82aaa41edc9643b38275d1ffbee6e288"
      }
     },
     "d73b035699344b69892122d9f983f567": {
      "model_module": "@jupyter-widgets/base",
      "model_module_version": "1.2.0",
      "model_name": "LayoutModel",
      "state": {
       "width": "50%"
      }
     },
     "d7ef84113cc84572839762160b36038d": {
      "model_module": "@jupyter-widgets/controls",
      "model_module_version": "1.5.0",
      "model_name": "IntRangeSliderModel",
      "state": {
       "_model_name": "IntRangeSliderModel",
       "_view_name": "IntRangeSliderView",
       "description": "Time Range (hour):",
       "layout": "IPY_MODEL_b21ce97cc57a4b6e99ca5fe0a7abfc9d",
       "max": 12,
       "min": -20,
       "style": "IPY_MODEL_a1f9f463ff1c4d0fbf3fa9e0f60af271",
       "value": [
        -4,
        6
       ]
      }
     },
     "d80bed38af234582910af5bd6f369956": {
      "model_module": "@jupyter-widgets/base",
      "model_module_version": "1.2.0",
      "model_name": "LayoutModel",
      "state": {}
     },
     "d90a1f4f6b154d539d6d506a65cc75f0": {
      "model_module": "@jupyter-widgets/base",
      "model_module_version": "1.2.0",
      "model_name": "LayoutModel",
      "state": {}
     },
     "d9569dcf463b464495009b2b8f1015ca": {
      "model_module": "@jupyter-widgets/controls",
      "model_module_version": "1.5.0",
      "model_name": "HBoxModel",
      "state": {
       "children": [
        "IPY_MODEL_c7c244576cdb485f869fb2a01ed8780f",
        "IPY_MODEL_a7b50fce17304688ba223976a3436346"
       ],
       "layout": "IPY_MODEL_9b62f51581054253aeb1b78515572159"
      }
     },
     "d9804d3647ab4a74b0008e40dbd91d46": {
      "model_module": "@jupyter-widgets/controls",
      "model_module_version": "1.5.0",
      "model_name": "VBoxModel",
      "state": {
       "children": [
        "IPY_MODEL_690226575ac642c1bf59a5353d444497",
        "IPY_MODEL_6f406df9557d4bd2bf3102d8c5879edd",
        "IPY_MODEL_2a164f0f704440828f86666ddb0f450d"
       ],
       "layout": "IPY_MODEL_ec68ccf6cd50446588702a6f6a2f867e"
      }
     },
     "da34a823119445ab936b3658df046652": {
      "model_module": "@jupyter-widgets/controls",
      "model_module_version": "1.5.0",
      "model_name": "DescriptionStyleModel",
      "state": {
       "description_width": "initial"
      }
     },
     "da79c7d7fbde4cb18a7ef2138e75687b": {
      "model_module": "@jupyter-widgets/controls",
      "model_module_version": "1.5.0",
      "model_name": "SliderStyleModel",
      "state": {
       "description_width": "initial"
      }
     },
     "da8a633ef2e24201a6a61b96a575da8c": {
      "model_module": "@jupyter-widgets/controls",
      "model_module_version": "1.5.0",
      "model_name": "IntProgressModel",
      "state": {
       "bar_style": "info",
       "description": "Progress:",
       "layout": "IPY_MODEL_103874e40103407fba887810c2e93097",
       "style": "IPY_MODEL_7699880db97e4cd6a36443b11f46e6d7",
       "value": 100
      }
     },
     "db9a8f4094f44ea9b1bae494262ef0e1": {
      "model_module": "@jupyter-widgets/controls",
      "model_module_version": "1.5.0",
      "model_name": "IntRangeSliderModel",
      "state": {
       "_model_name": "IntRangeSliderModel",
       "_view_name": "IntRangeSliderView",
       "description": "Time Range (day):",
       "layout": "IPY_MODEL_24fc5e41d65944c8ac171425defe5235",
       "max": 2,
       "min": -10,
       "style": "IPY_MODEL_2f520ba8017645628f9d7e56456b65c9",
       "value": [
        -1,
        1
       ]
      }
     },
     "dc16196971324b38903e944a62c98e36": {
      "model_module": "@jupyter-widgets/controls",
      "model_module_version": "1.5.0",
      "model_name": "SelectModel",
      "state": {
       "_options_labels": [
        "2018-12-30 00:02:00 - Network communication with a malicious machine detected - (nan)  - [id:a511e1bb-69e1-41a2-8054-c6fcb6aa2362]",
        "2019-01-01 00:02:00 - Possible compromised machine detected - (nan)  - [id:62ded865-938b-4bb3-afef-605d692607f1]",
        "2019-01-01 00:02:00 - An event log was cleared - (nan)  - [id:48facfa1-fe35-45ff-8c91-7a710cd462b9]",
        "2019-01-03 00:02:00 - Suspicious process executed - (nan)  - [id:a32adc3f-43f7-4e5d-b833-98baa71c2f51]",
        "2019-01-03 00:02:00 - Suspicious double extension file executed - (nan)  - [id:112dc225-bc2d-4328-97fd-a99e0b000b1f]",
        "2019-01-05 01:02:00 - SQL injection blocked - (nan)  - [id:0c68e539-f060-401f-b967-6b64b8f49198]",
        "2019-01-05 02:02:00 - Failed RDP Brute Force Attack - (nan)  - [id:8832e816-d634-4214-bb48-7a6678fdf0b7]",
        "2019-01-06 02:02:00 - Successful RDP brute force attack - (nan)  - [id:3b2b5ecc-ec29-4703-9450-29b29b937fd8]",
        "2019-01-06 03:02:00 - Suspicious SVCHOST process executed - (nan)  - [id:614ae18e-cd79-4d4c-97dc-24431be12b5b]",
        "2019-01-06 04:02:00 - Multiple Domain Accounts Queried - (vm1)  - [id:7b27ffab-7204-4856-a013-908de6c1804e]",
        "2019-01-06 05:02:00 - Network communication with a malicious machine detected - (nan)  - [id:98a6dea6-1b64-41d0-938e-0dec24b234ec]",
        "2019-01-07 05:02:00 - Modified system binary discovered in dump file 5bd767e4-2d08-4714-b744-aaed04b57107__391365252.hdmp - (nan)  - [id:775505ce-0ef9-4945-b697-303f7666d1b6]",
        "2019-01-08 05:02:00 - Possible outgoing spam activity detected - (vm1lin)  - [id:28f9b83a-33e6-44da-a002-0f48bff46a67]",
        "2019-01-09 05:02:00 - Deep Security Agent detected a malware - (nan)  - [id:5fc4f6a0-0687-4b93-998e-a230af39c10b]",
        "2019-01-09 05:38:06 - Global domain trust creation - Demo - (nan)  - [id:9740fe80-b642-4a38-8e86-05fa4d35508b]",
        "2019-01-09 06:25:57 - Maliciuos IP communication - (nan)  - [id:04e14d6f-6d4f-46d4-a5f6-2a26bcd34ce8]",
        "2019-01-09 06:31:40 - DC local group addition - Demo - (nan)  - [id:ace7fb98-ef96-46df-ba7b-9a15a141d368]",
        "2019-01-09 06:31:42 - Palo Alto admin logged on via SSH - Demo - (nan)  - [id:40a5916b-9697-423a-a5e4-95cca7c735e7]",
        "2019-01-09 06:33:55 - DC with MS AM engine failure - Demo - (nan)  - [id:78cc7e02-6116-459d-9cdc-a6dcc40ba937]",
        "2019-01-10 05:02:00 - Potential SQL Injection - (nan)  - [id:5365ee7a-f730-42d2-bcdf-b2e898ab98d7]",
        "2019-01-10 05:38:06 - Global domain trust creation - Demo - (nan)  - [id:401f2680-cc05-4e6f-a1f6-69cff2055cd9]",
        "2019-01-10 06:25:57 - Maliciuos IP communication - (nan)  - [id:b5786d68-7f5e-4be1-92e6-e255010d1d8c]",
        "2019-01-10 06:31:40 - DC local group addition - Demo - (nan)  - [id:01659bf1-1228-4e46-b73b-e7d173d365eb]",
        "2019-01-10 06:31:42 - Palo Alto admin logged on via SSH - Demo - (nan)  - [id:0ce6ad61-302a-4142-8eaa-4da9dfad9ca9]",
        "2019-01-10 06:33:55 - DC with MS AM engine failure - Demo - (nan)  - [id:df9f92cb-6fd2-469b-9b72-28f128df1adf]",
        "2019-01-10 19:18:10 - Suspicious Account Added - (nan)  - [id:b3f02c05-e844-4161-81d6-d736548d91ae]",
        "2019-01-11 05:38:06 - Global domain trust creation - Demo - (nan)  - [id:6b56aa8c-da76-4caf-b09d-8706292a8b89]",
        "2019-01-11 06:25:57 - Maliciuos IP communication - (nan)  - [id:4586bd9e-5c1e-4229-9a01-ecd84ad51448]",
        "2019-01-11 06:31:40 - DC local group addition - Demo - (nan)  - [id:047f47d6-79b7-4502-824b-97abc4905a73]",
        "2019-01-11 06:31:42 - Palo Alto admin logged on via SSH - Demo - (nan)  - [id:2d06cb42-bdff-426d-8091-ccc151bcbc94]",
        "2019-01-11 06:33:55 - DC with MS AM engine failure - Demo - (nan)  - [id:412ca580-63c8-4fd2-87e4-87b1ba4260b3]",
        "2019-01-11 19:18:10 - Suspicious Account Added - (nan)  - [id:42a8b425-1c41-4355-8343-18ad563c43b6]",
        "2019-01-12 05:38:06 - Global domain trust creation - Demo - (nan)  - [id:bc44b302-78c7-4be8-bf70-d39d6935fd74]",
        "2019-01-12 06:25:57 - Maliciuos IP communication - (nan)  - [id:c76f17e2-e739-4e7e-bf17-4dd163fc831f]",
        "2019-01-12 06:31:40 - DC local group addition - Demo - (nan)  - [id:07be11df-3dbf-49a5-8b5a-dcea75d89993]",
        "2019-01-12 06:31:42 - Palo Alto admin logged on via SSH - Demo - (nan)  - [id:09ec519f-96b0-4332-be30-b0379c8cbd04]",
        "2019-01-12 06:33:55 - DC with MS AM engine failure - Demo - (nan)  - [id:6a7aaa2e-a575-4e8b-87ed-0d964bf1005e]",
        "2019-01-12 19:18:10 - Suspicious Account Added - (nan)  - [id:d4638075-fed2-4031-8e52-d37c220b0fe4]",
        "2019-01-13 05:38:06 - Global domain trust creation - Demo - (nan)  - [id:5d733fc8-ff32-436d-a595-beaf8943bd63]",
        "2019-01-13 06:25:57 - Maliciuos IP communication - (nan)  - [id:54a8f6d8-f69b-4872-96f8-ef274d5fc8d4]",
        "2019-01-13 06:31:40 - DC local group addition - Demo - (nan)  - [id:47445dca-b87d-45f5-9073-b713e3c69a56]",
        "2019-01-13 06:31:42 - Palo Alto admin logged on via SSH - Demo - (nan)  - [id:45176796-d3f9-40ce-a8f2-aba9bb3c8063]",
        "2019-01-13 06:33:55 - DC with MS AM engine failure - Demo - (nan)  - [id:985be534-6f40-4b0c-a951-8f3915eacd61]",
        "2019-01-13 19:18:10 - Suspicious Account Added - (nan)  - [id:790217fc-9597-4159-b469-bb383c747435]",
        "2019-01-14 05:38:06 - Global domain trust creation - Demo - (nan)  - [id:fbaf48de-152a-4aa6-8a69-902b219bf972]",
        "2019-01-14 06:25:57 - Maliciuos IP communication - (nan)  - [id:1828afac-b4c2-41d9-acbd-7d23b7219557]",
        "2019-01-14 06:31:40 - DC local group addition - Demo - (nan)  - [id:b34d24c9-2223-4887-af93-7598abf28763]",
        "2019-01-14 06:31:42 - Palo Alto admin logged on via SSH - Demo - (nan)  - [id:9442245d-eaf6-47c5-b715-1c16b2c54fc4]",
        "2019-01-14 06:33:55 - DC with MS AM engine failure - Demo - (nan)  - [id:edc4065d-886f-4aff-b17d-f1397ce4baec]",
        "2019-01-14 21:18:10 - Suspicious Account Added - (nan)  - [id:1cca38a9-e0c5-4165-a78d-491ca2641c1c]",
        "2019-01-15 05:15:03 - Suspicious Account Creation Detected - (MSTICALERTSWIN1)  - [id:2518547714966107270_3c380601-b5ad-4fff-9cdb-24528a3a19fd]",
        "2019-01-15 05:15:03 - Anomalous account creation detected - (nan)  - [id:2518547714966107270_90beedae-1285-43d6-8f33-16bc542af39b]",
        "2019-01-15 05:15:10 - Potential attempt to bypass AppLocker detected - (MSTICALERTSWIN1)  - [id:2518547714892475358_9e449abd-e67b-4ec8-a191-e688d7d63e26]",
        "2019-01-15 05:15:11 - Detected decoding of an executable using built-in certutil.exe tool - (MSTICALERTSWIN1)  - [id:2518547714882331861_5c56421d-d894-4437-9b9a-a3b5c6b7e1df]",
        "2019-01-15 05:15:11 - Detected suspicious credentials in commandline - (MSTICALERTSWIN1)  - [id:2518547714880519889_9d6d471a-c94f-4706-b0ff-b2f0301495aa]",
        "2019-01-15 05:15:11 - Digital currency mining related behavior detected - (MSTICALERTSWIN1)  - [id:2518547714887413669_4fa0022e-f431-4ba1-ae5f-ee23247e0853]",
        "2019-01-15 05:15:11 - Suspiciously named process detected - (MSTICALERTSWIN1)  - [id:2518547714887413669_1c680842-2a1d-40c0-a6e4-32e5dd144647]",
        "2019-01-15 05:15:11 - Detected encoded executable in command line data - (MSTICALERTSWIN1)  - [id:2518547714885867955_290559aa-a3d0-425b-8ed2-e98ccc9f0aa0]",
        "2019-01-15 05:15:12 - Detected suspicious commandline arguments - (MSTICALERTSWIN1)  - [id:2518547714879317674_226cc394-fccf-483d-888a-beafad2ed4a4]",
        "2019-01-15 05:15:12 - Detected suspicious document credentials - (MSTICALERTSWIN1)  - [id:2518547714879970078_b080127b-d5c1-425e-a7ca-e4bbd873009d]",
        "2019-01-15 05:15:12 - Detected obfuscated command line. - (MSTICALERTSWIN1)  - [id:2518547714871530079_77211491-86de-4295-82bc-38e332fe1112]",
        "2019-01-15 05:15:12 - Suspicious powershell cmdlets executed - (MSTICALERTSWIN1)  - [id:2518547714874872692_3eb0eb4b-0536-430c-8ab6-cd48524c14b1]",
        "2019-01-15 05:15:12 - Suspicious Powershell Activity Detected - (MSTICALERTSWIN1)  - [id:2518547714874872692_30d988ff-b8d9-45df-8217-e56b0d4d591c]",
        "2019-01-15 05:15:12 - Suspicious Powershell Activity Detected - (MSTICALERTSWIN1)  - [id:2518547714873290756_df1b9eb2-05c4-4f7c-8540-cbb18ec5c608]",
        "2019-01-15 05:15:12 - Suspicious Powershell Activity Detected - (MSTICALERTSWIN1)  - [id:2518547714876077067_953def48-a24b-42a9-bd02-7221be90f84a]",
        "2019-01-15 05:15:13 - Suspicious Powershell Activity Detected - (MSTICALERTSWIN1)  - [id:2518547714867787710_76336679-bddf-460f-90fb-35a1386de7a6]",
        "2019-01-15 05:15:14 - Executable found running from a suspicious location - (MSTICALERTSWIN1)  - [id:2518547714857061520_f4324711-aeae-4912-a634-331b7e7456b6]",
        "2019-01-15 05:15:14 - Suspicious system process executed - (nan)  - [id:2518547714857061520_28f9a2e6-1925-455e-ad97-7af7f92f521d]",
        "2019-01-15 05:15:14 - Suspicious WindowPosition registry value detected - (MSTICALERTSWIN1)  - [id:2518547714858429362_9bfd0e4b-ec93-46bb-8eea-f72e8f1262f1]",
        "2019-01-15 05:15:14 - Suspicious process executed - (MSTICALERTSWIN1)  - [id:2518547714854375707_e2a60bd1-d7c8-466d-a176-4333d4e0d1d5]",
        "2019-01-15 05:15:14 - Detected suspicious named pipe communications - (MSTICALERTSWIN1)  - [id:2518547714859677078_9b4e4942-d564-4755-862c-7171d52921e3]",
        "2019-01-15 05:15:14 - Executable found running from a suspicious location - (MSTICALERTSWIN1)  - [id:2518547714853062206_f9ddd8b3-5fa8-4f2f-b811-bdca90091195]",
        "2019-01-15 05:15:15 - Detected change to a registry key that can be abused to bypass UAC - (MSTICALERTSWIN1)  - [id:2518547714844291280_8f71e695-ba9b-4c97-9770-63cdeb34b7b4]",
        "2019-01-15 05:15:15 - Detected anomalous mix of upper and lower case characters in command-line - (MSTICALERTSWIN1)  - [id:2518547714844457503_55cd3e12-3a91-4b06-9be6-833df3365142]",
        "2019-01-15 05:15:15 - Detected suspicious use of FTP -s Switch - (MSTICALERTSWIN1)  - [id:2518547714843218505_265472ff-3820-4dad-8da7-00e39e1a99fd]",
        "2019-01-15 05:15:15 - Sticky keys attack detected - (MSTICALERTSWIN1)  - [id:2518547714843796759_b3737297-038c-4514-a957-d591384b4256]",
        "2019-01-15 05:15:15 - Suspicious process executed - (MSTICALERTSWIN1)  - [id:2518547714842732992_ad5981a5-fdcc-406a-8742-e50bd7f84917]",
        "2019-01-15 05:15:16 - Detected suspicious new firewall rule - (MSTICALERTSWIN1)  - [id:2518547714839319574_33edaa83-fe35-47de-9486-fc9792c5b65b]",
        "2019-01-15 05:15:16 - Detected suspicious execution via rundll32.exe - (MSTICALERTSWIN1)  - [id:2518547714834806864_4bb2ecc3-f4aa-40cd-a3d7-802fc9086e89]",
        "2019-01-15 05:15:16 - Detected suspicious execution via rundll32.exe - (MSTICALERTSWIN1)  - [id:2518547714835690929_8e73946b-ebea-4625-aa60-d97b82dcfb07]",
        "2019-01-15 05:15:16 - Detected possible local reconnaissance activity - (MSTICALERTSWIN1)  - [id:2518547714837217151_f0d023fb-376f-46ab-9976-a5825d826bea]",
        "2019-01-15 05:15:16 - Detected suspicious Set-ExecutionPolicy and WinRM changes - (MSTICALERTSWIN1)  - [id:2518547714832788202_b56b9e61-fefb-47a3-a34f-7c1b44f8268a]",
        "2019-01-15 05:15:16 - Detected suspicious commandline used to start all executables in a directory - (MSTICALERTSWIN1)  - [id:2518547714833232927_0e8db234-9727-41f3-a6e0-0773519603d2]",
        "2019-01-15 05:15:16 - Detected potentially suspicious use of Telegram tool - (MSTICALERTSWIN1)  - [id:2518547714833859291_4fa26308-1daf-49ee-8880-b194f950d8b0]",
        "2019-01-15 05:15:16 - Suspected Kerberos Golden Ticket attack parameters observed - (MSTICALERTSWIN1)  - [id:2518547714838326136_e776fca2-4c01-43eb-ab97-b9845af3529c]",
        "2019-01-15 05:15:16 - Detected actions indicative of disabling and deleting IIS log files. - (MSTICALERTSWIN1)  - [id:2518547714831067013_8df27789-fb10-4035-ac48-cd0883b2e6b0]",
        "2019-01-15 05:15:17 - Azure Security Center test alert (not a threat) - (MSTICALERTSWIN1)  - [id:2518547714824290520_b2d9be9f-58e2-4174-8658-419670393253]",
        "2019-01-15 05:15:17 - Suspicious SVCHOST process executed - (nan)  - [id:2518547714825902697_fcbb6bb7-4c7c-488e-903c-f625e98db7c4]",
        "2019-01-15 05:15:17 - Random process name detected - (MSTICALERTSWIN1)  - [id:2518547714829244584_9984a237-2dd7-4932-bb8d-23ca535a6254]",
        "2019-01-15 05:15:17 - Rare SVCHOST service group executed - (nan)  - [id:2518547714825070946_58694b54-2bee-4160-9595-30903b466f6e]",
        "2019-01-15 05:15:17 - Suspicious double extension file executed - (nan)  - [id:2518547714828736209_2b2ff728-1a2a-46e8-a49a-6991e074a740]",
        "2019-01-15 05:15:17 - Suspicious Volume Shadow Copy Activity - (nan)  - [id:2518547714828638992_6c6836bb-23cd-4b31-b78e-08360c5a4f83]",
        "2019-01-15 05:15:18 - Detected suspicious execution of VBScript.Encode command - (MSTICALERTSWIN1)  - [id:2518547714811804858_5b42a152-64c2-4f16-8cc3-887b8b0161fc]",
        "2019-01-15 05:15:18 - Detected suspicious file cleanup commands - (MSTICALERTSWIN1)  - [id:2518547714814450855_c0822e2b-785b-41a8-8136-21b7430a0078]",
        "2019-01-15 05:15:18 - Detected Petya ransomware indicators - (MSTICALERTSWIN1)  - [id:2518547714812938298_fa4939d4-a20c-440a-839c-89c0c43e1ccc]",
        "2019-01-15 05:15:18 - Detected suspicious file creation - (MSTICALERTSWIN1)  - [id:2518547714816637303_3252483f-2fdb-411a-93f5-e268d5e56abf]",
        "2019-01-15 05:15:18 - Detected suspicious use of Pcalua.exe to launch executable code - (MSTICALERTSWIN1)  - [id:2518547714811337754_ad1fd62a-9565-41e4-b94a-6264942033f6]",
        "2019-01-15 05:15:18 - Detected possible execution of keygen executable - (MSTICALERTSWIN1)  - [id:2518547714814533914_38d53571-e98a-4bb6-a17f-0361a561019e]",
        "2019-01-15 05:15:18 - Detected suspicious use of Cacls to lower the security state of the system. - (MSTICALERTSWIN1)  - [id:2518547714815952205_1ba5718e-529b-441b-8036-ad06ee862e76]",
        "2019-01-15 05:15:18 - Detected the disabling of critical services - (MSTICALERTSWIN1)  - [id:2518547714813299511_a5df127a-f7e8-44ff-b404-6d5b37d06488]",
        "2019-01-15 05:15:18 - Ransomware indicators detected - (MSTICALERTSWIN1)  - [id:2518547714812286467_d5e026fa-6687-495e-878d-c4c93477cc78]",
        "2019-01-15 05:15:18 - Detected possible execution of malware dropper - (MSTICALERTSWIN1)  - [id:2518547714815009424_9a34d332-2fb6-4f3f-beb0-d9817dc9b7cd]",
        "2019-01-15 05:15:18 - High risk software detected - (MSTICALERTSWIN1)  - [id:2518547714813699414_d12ed618-567b-4b8f-8241-82ad4c1cb28e]",
        "2019-01-15 05:15:19 - Possible credential dumping detected - (MSTICALERTSWIN1)  - [id:2518547714809416002_76bf04a5-71fa-487a-9742-d54941a7a194]",
        "2019-01-15 05:15:19 - Suspicious download using Certutil detected - (MSTICALERTSWIN1)  - [id:2518547714805546049_03e7bf17-8f77-42ca-8ac1-af8258f4d1ca]",
        "2019-01-15 09:15:03 - Suspicious Account Creation Detected - (MSTICALERTSWIN1)  - [id:2518547570966661760_526e34b6-6578-4fc0-9db6-e126b4d673f0]",
        "2019-01-15 09:15:07 - Potential attempt to bypass AppLocker detected - (MSTICALERTSWIN1)  - [id:2518547570924760670_9868ed7d-397e-4aa4-8dbd-5a1c5f736c1e]",
        "2019-01-15 09:15:10 - Suspiciously named process detected - (MSTICALERTSWIN1)  - [id:2518547570895430544_4ea6c432-6d20-4986-9679-ecf58ac4854d]",
        "2019-01-15 09:15:10 - Digital currency mining related behavior detected - (MSTICALERTSWIN1)  - [id:2518547570895430544_72351be4-ae78-4cc6-9f6a-1ff87c31baeb]",
        "2019-01-15 09:15:11 - Detected obfuscated command line. - (MSTICALERTSWIN1)  - [id:2518547570880067443_c1a9004f-7f64-4144-8ce0-8f76f9041703]",
        "2019-01-15 09:15:11 - Suspicious Powershell Activity Detected - (MSTICALERTSWIN1)  - [id:2518547570883109415_c762b0f7-a0f5-4dda-ab48-54b5ae6eade4]",
        "2019-01-15 09:15:11 - Suspicious Powershell Activity Detected - (MSTICALERTSWIN1)  - [id:2518547570884378777_92a2f884-5827-4fb6-acf8-b0087b76aa73]",
        "2019-01-15 09:15:11 - Suspicious Powershell Activity Detected - (MSTICALERTSWIN1)  - [id:2518547570881721037_4ca5c629-673c-4372-9bd3-ab7bf6d6e6f0]",
        "2019-01-15 09:15:12 - Suspicious Powershell Activity Detected - (MSTICALERTSWIN1)  - [id:2518547570876432155_ce7c7361-8ac9-47be-b8fb-7a87c87ee178]",
        "2019-01-15 09:15:13 - Suspicious system process executed - (nan)  - [id:2518547570865502616_9d5e263f-55d2-441f-acf4-bf569b4cd976]",
        "2019-01-15 09:15:13 - Executable found running from a suspicious location - (MSTICALERTSWIN1)  - [id:2518547570865502616_c6f3dea2-fe36-4e65-b161-1b1cd1104eb3]",
        "2019-01-15 09:15:13 - Suspicious WindowPosition registry value detected - (MSTICALERTSWIN1)  - [id:2518547570866947129_1b074412-133c-4ac9-8e3f-24103159b03e]",
        "2019-01-15 09:15:13 - Executable found running from a suspicious location - (MSTICALERTSWIN1)  - [id:2518547570860979996_bddac8c5-cba5-4da2-a6dd-c0a39fc2b256]",
        "2019-01-15 09:15:13 - Suspicious process executed - (MSTICALERTSWIN1)  - [id:2518547570862568702_029c9c95-c1fe-4419-bc3b-a6d832c87e65]",
        "2019-01-15 09:15:14 - Suspicious process executed - (MSTICALERTSWIN1)  - [id:2518547570851316041_43f7d8f3-fea5-4fca-a884-713c2d65203c]",
        "2019-01-15 09:15:14 - Detected anomalous mix of upper and lower case characters in command-line - (MSTICALERTSWIN1)  - [id:2518547570852901341_3ca6ca5a-8bf2-417f-b8c9-3cea37c84f4b]",
        "2019-01-15 09:15:16 - Suspicious double extension file executed - (nan)  - [id:2518547570836535349_c45bcb62-9d89-44e8-bea9-7a9e35205576]",
        "2019-01-15 09:15:16 - Rare SVCHOST service group executed - (nan)  - [id:2518547570834399134_26ccc2ad-8ce0-4f60-8215-18f99377b547]",
        "2019-01-15 09:15:16 - Suspicious Volume Shadow Copy Activity - (nan)  - [id:2518547570836431794_b9d79b27-d725-4a87-b7ec-6fc9ec591e8c]",
        "2019-01-15 09:15:16 - Azure Security Center test alert (not a threat) - (MSTICALERTSWIN1)  - [id:2518547570833725387_2df8ae94-03fe-4b9f-a3a9-f3c6dab95c05]",
        "2019-01-15 09:15:16 - Suspicious SVCHOST process executed - (nan)  - [id:2518547570835168086_117b7a02-d1d0-4cf2-bc04-0b19a796b4d3]",
        "2019-01-15 09:15:17 - Ransomware indicators detected - (MSTICALERTSWIN1)  - [id:2518547570821365949_48327b74-c904-402d-a1d8-2b3a882924e7]",
        "2019-01-15 09:15:17 - Detected Petya ransomware indicators - (MSTICALERTSWIN1)  - [id:2518547570821871899_e647375c-9979-47b5-9f78-f414a1aad26d]",
        "2019-01-15 11:45:00 - Suspicious Account Creation Detected - (MSTICALERTSWIN1)  - [id:2518547480991748435_836318d1-0fa0-4cfe-a3d0-2b1fdbaf2216]",
        "2019-01-15 11:45:01 - Suspiciously named process detected - (MSTICALERTSWIN1)  - [id:2518547480988516756_54bb943e-7fe9-4146-a43e-4064c8e0049f]",
        "2019-01-15 11:45:01 - Digital currency mining related behavior detected - (MSTICALERTSWIN1)  - [id:2518547480988516756_668ed54c-9e73-4d4f-a9c2-b88fd1b13db0]",
        "2019-01-15 11:45:01 - Potential attempt to bypass AppLocker detected - (MSTICALERTSWIN1)  - [id:2518547480989617678_f3490cf7-a303-4001-b7d6-8acf7e83f191]",
        "2019-01-15 11:45:01 - Suspicious Powershell Activity Detected - (MSTICALERTSWIN1)  - [id:2518547480982973701_24a6d6f3-acf1-41bd-a11f-01a1369bac02]",
        "2019-01-15 11:45:01 - Suspicious Powershell Activity Detected - (MSTICALERTSWIN1)  - [id:2518547480984263491_d46877bd-e04d-401a-99bd-eec2a6b25663]",
        "2019-01-15 11:45:01 - Detected obfuscated command line. - (MSTICALERTSWIN1)  - [id:2518547480982511513_adfabbe0-fce0-44f3-be4b-17283bd03bed]",
        "2019-01-15 11:45:01 - Suspicious Powershell Activity Detected - (MSTICALERTSWIN1)  - [id:2518547480980813134_5cb7ab95-6017-4031-afb2-e11518b0f5cc]",
        "2019-01-15 11:45:01 - Suspicious Powershell Activity Detected - (MSTICALERTSWIN1)  - [id:2518547480983467170_9da8e3df-9c3b-4e20-8bd0-ace00aff9def]",
        "2019-01-15 11:45:02 - Executable found running from a suspicious location - (MSTICALERTSWIN1)  - [id:2518547480975043692_7e663699-5412-496f-ac91-e21a7b6f0be5]",
        "2019-01-15 11:45:02 - Executable found running from a suspicious location - (MSTICALERTSWIN1)  - [id:2518547480977057409_ed9d92ac-0ab8-4a2e-a1dd-f70ee30a9af1]",
        "2019-01-15 11:45:02 - Suspicious WindowPosition registry value detected - (MSTICALERTSWIN1)  - [id:2518547480977469312_e9ff6947-fd12-42d2-bb63-2d814f04482a]",
        "2019-01-15 11:45:02 - Suspicious process executed - (MSTICALERTSWIN1)  - [id:2518547480976076338_2a106d12-acd8-4dd7-9e1c-3c20b4eaa320]",
        "2019-01-15 11:45:02 - Suspicious system process executed - (nan)  - [id:2518547480977057409_492fbb97-a1fc-4880-95d2-e55ab2f142b6]",
        "2019-01-15 11:45:02 - Detected anomalous mix of upper and lower case characters in command-line - (MSTICALERTSWIN1)  - [id:2518547480970182118_c0558adc-b4a9-4289-b9ad-7e7260f1cde0]",
        "2019-01-15 11:45:03 - Suspicious process executed - (MSTICALERTSWIN1)  - [id:2518547480968677354_88eb8a87-a876-46aa-b8ed-be7298929ea8]",
        "2019-01-15 11:45:04 - Random process name detected - (MSTICALERTSWIN1)  - [id:2518547480956885358_b66e93d7-b38b-4785-baa5-093edc18e649]",
        "2019-01-15 11:45:04 - Suspicious Volume Shadow Copy Activity - (nan)  - [id:2518547480955968326_fa350f8b-2c81-478c-a383-debe0ab0c892]",
        "2019-01-15 11:45:04 - Suspicious double extension file executed - (nan)  - [id:2518547480956378190_2b59c1d5-a815-4562-a8d4-36d9777e6546]",
        "2019-01-15 11:45:05 - Rare SVCHOST service group executed - (nan)  - [id:2518547480946682289_f83c0705-d2ff-4355-a25d-ae858ee39b2d]",
        "2019-01-15 11:45:05 - Suspicious SVCHOST process executed - (nan)  - [id:2518547480947565906_5c82cd9c-60f8-4056-bd39-8ccb2cdb7678]",
        "2019-01-15 11:45:05 - Azure Security Center test alert (not a threat) - (MSTICALERTSWIN1)  - [id:2518547480945920380_00d33245-c643-4155-8c05-6abc4ee3b3cd]",
        "2019-01-15 11:45:06 - Ransomware indicators detected - (MSTICALERTSWIN1)  - [id:2518547480937987105_ec1678a1-0fe8-44c5-91b5-621c40d2bb8c]",
        "2019-01-15 11:45:06 - Detected Petya ransomware indicators - (MSTICALERTSWIN1)  - [id:2518547480938543829_91a4f9a7-70ad-433b-a568-34314e3f467f]",
        "2019-01-15 13:15:10 - Suspiciously named process detected - (MSTICALERTSWIN1)  - [id:2518547426892072407_171b74b2-a431-4b55-8d69-128e5fb95329]",
        "2019-01-15 13:15:13 - Suspicious WindowPosition registry value detected - (MSTICALERTSWIN1)  - [id:2518547426863814510_75495c57-4fd6-4e27-b94c-c6f81f78bcb5]",
        "2019-01-15 13:15:13 - Suspicious system process executed - (nan)  - [id:2518547426862437699_184c075e-64ee-4901-bc37-6eb999e81a11]",
        "2019-01-15 13:15:14 - Suspicious process executed - (MSTICALERTSWIN1)  - [id:2518547426859453218_89d1850f-dccd-4d45-b194-650819d358d9]",
        "2019-01-15 13:15:14 - Executable found running from a suspicious location - (MSTICALERTSWIN1)  - [id:2518547426858055460_51b74398-40e2-4b1b-9d92-89c0004738c9]",
        "2019-01-15 13:15:15 - Suspicious process executed - (MSTICALERTSWIN1)  - [id:2518547426847947731_caa12d6c-4928-4787-90d4-cb27ff94373c]",
        "2019-01-15 13:15:16 - Suspicious SVCHOST process executed - (nan)  - [id:2518547426831794607_a513ab17-2b6a-4b1a-a925-a0b3c21ec38c]",
        "2019-01-15 13:15:16 - Rare SVCHOST service group executed - (nan)  - [id:2518547426830640211_88f9ae7a-e6b5-4b54-b967-08f3fc503d91]",
        "2019-01-15 13:15:16 - Suspicious Volume Shadow Copy Activity - (nan)  - [id:2518547426833434810_b6e594ea-16d3-480e-81a7-2f8fe3af64ba]",
        "2019-01-15 13:15:16 - Suspicious double extension file executed - (nan)  - [id:2518547426833838523_7b30c978-28d5-4a28-a4c2-0985f08ab1c6]",
        "2019-01-15 13:15:17 - Azure Security Center test alert (not a threat) - (MSTICALERTSWIN1)  - [id:2518547426829675756_846ec406-bb3e-451b-bf6f-9e1e17a69bd6]",
        "2019-01-15 13:15:18 - Ransomware indicators detected - (MSTICALERTSWIN1)  - [id:2518547426817428483_636ab38f-2528-4356-8602-d0910f8ac600]",
        "2019-01-15 13:15:18 - Detected Petya ransomware indicators - (MSTICALERTSWIN1)  - [id:2518547426817928329_a4aa878d-93b5-4cd1-931f-30f85b9e6db2]",
        "2019-01-15 17:15:03 - Suspicious Account Creation Detected - (MSTICALERTSWIN1)  - [id:2518547282966696689_3db7e1e7-2edc-4dd9-8c1d-d908f5b8a904]",
        "2019-01-15 17:15:10 - Potential attempt to bypass AppLocker detected - (MSTICALERTSWIN1)  - [id:2518547282896095305_82730ffa-b9ce-43f4-bf3c-a97113107cc5]",
        "2019-01-15 17:15:10 - Suspiciously named process detected - (MSTICALERTSWIN1)  - [id:2518547282892925953_0073e6d8-6c2e-42e4-8966-d1f5a3dd3517]",
        "2019-01-15 17:15:10 - Digital currency mining related behavior detected - (MSTICALERTSWIN1)  - [id:2518547282892925953_35c8d588-ddf7-46b5-a0bf-f47023f9343c]",
        "2019-01-15 17:15:11 - Suspicious Powershell Activity Detected - (MSTICALERTSWIN1)  - [id:2518547282880013417_d65aa787-e867-43b1-9182-025a1a38173a]",
        "2019-01-15 17:15:11 - Suspicious Powershell Activity Detected - (MSTICALERTSWIN1)  - [id:2518547282881581273_ed5bcf39-ffd3-468a-82e3-28e108d4f06f]",
        "2019-01-15 17:15:11 - Suspicious Powershell Activity Detected - (MSTICALERTSWIN1)  - [id:2518547282883193041_31ae6eeb-bd1d-4018-8df9-eeedd60bf1ab]",
        "2019-01-15 17:15:12 - Suspicious Powershell Activity Detected - (MSTICALERTSWIN1)  - [id:2518547282874783943_bd1a0865-a507-4e2b-b8df-613238a950df]",
        "2019-01-15 17:15:12 - Detected obfuscated command line. - (MSTICALERTSWIN1)  - [id:2518547282878855119_d89d1ab7-e5b7-426c-a98f-eab95deea3ad]",
        "2019-01-15 17:15:13 - Suspicious system process executed - (nan)  - [id:2518547282863799328_7e169933-4275-4b94-b37f-490417bcfc98]",
        "2019-01-15 17:15:13 - Suspicious WindowPosition registry value detected - (MSTICALERTSWIN1)  - [id:2518547282865194453_9895a5cc-6f49-45f5-a0eb-f05c1f11f264]",
        "2019-01-15 17:15:13 - Executable found running from a suspicious location - (MSTICALERTSWIN1)  - [id:2518547282863799328_84ea8dcd-9436-4b4d-82b2-36114028bd61]",
        "2019-01-15 17:15:14 - Suspicious process executed - (MSTICALERTSWIN1)  - [id:2518547282859754476_0c3ae402-a9ea-4d5c-9c09-4274b7847c2c]",
        "2019-01-15 17:15:14 - Detected anomalous mix of upper and lower case characters in command-line - (MSTICALERTSWIN1)  - [id:2518547282850984831_7f983018-fd59-4e9e-ba70-295f6beb0e9c]",
        "2019-01-15 17:15:14 - Executable found running from a suspicious location - (MSTICALERTSWIN1)  - [id:2518547282858353938_58851b10-8f5c-48f1-aade-b1529f4e2c7f]",
        "2019-01-15 17:15:15 - Suspicious process executed - (MSTICALERTSWIN1)  - [id:2518547282845656644_c7318da8-368f-47f8-bff5-e15600a3fb80]",
        "2019-01-15 17:15:17 - Suspicious double extension file executed - (nan)  - [id:2518547282825853773_e6c85135-2b91-4537-b9a0-dae7eabb8e9d]",
        "2019-01-15 17:15:17 - Suspicious Volume Shadow Copy Activity - (nan)  - [id:2518547282825448815_6a71b543-4832-4658-8467-825aeafbe031]",
        "2019-01-15 17:15:18 - Rare SVCHOST service group executed - (nan)  - [id:2518547282813841329_a7e8e8c1-4561-48ea-bf75-a22c7bfc2257]",
        "2019-01-15 17:15:18 - Azure Security Center test alert (not a threat) - (MSTICALERTSWIN1)  - [id:2518547282812706885_12ae1e22-347e-454c-ae0d-ebb48cdf189b]",
        "2019-01-15 17:15:18 - Suspicious SVCHOST process executed - (nan)  - [id:2518547282814913644_34cc156e-9179-44c4-bd60-89dd1812e9e7]",
        "2019-01-15 17:15:19 - Detected Petya ransomware indicators - (MSTICALERTSWIN1)  - [id:2518547282803821916_c76cdb6c-cea0-4b2b-9ab6-1442a5857ed8]",
        "2019-01-15 17:15:19 - Ransomware indicators detected - (MSTICALERTSWIN1)  - [id:2518547282802847718_4a524cc8-7613-4c42-93a9-8c1e466a4476]",
        "2019-01-15 21:18:10 - Suspicious Account Added - (nan)  - [id:cbdce694-666c-4844-a29c-e7f4b66e27d1]"
       ],
       "description": "Select alert :",
       "index": 0,
       "layout": "IPY_MODEL_799ced76f92d4d459514900939f0b4ca",
       "style": "IPY_MODEL_43b80552973845fb90ab0bda345a5c51"
      }
     },
     "dc544f8b7693447badc2380074336857": {
      "model_module": "@jupyter-widgets/base",
      "model_module_version": "1.2.0",
      "model_name": "LayoutModel",
      "state": {
       "width": "50%"
      }
     },
     "dcdda98adf5045389f556d0424754dbb": {
      "model_module": "@jupyter-widgets/controls",
      "model_module_version": "1.5.0",
      "model_name": "IntRangeSliderModel",
      "state": {
       "_model_name": "IntRangeSliderModel",
       "_view_name": "IntRangeSliderView",
       "description": "Time Range (day):",
       "layout": "IPY_MODEL_ba88b010480b4108ab16550a96de9525",
       "max": 2,
       "min": -20,
       "style": "IPY_MODEL_a5dced6b6c22407aaaeac367f5b6c570",
       "value": [
        -5,
        1
       ]
      }
     },
     "dce58e4ef8a54de4a0b6126fcf1338e2": {
      "model_module": "@jupyter-widgets/base",
      "model_module_version": "1.2.0",
      "model_name": "LayoutModel",
      "state": {}
     },
     "dd43d6173dc441c4a4cf7c6fd166a002": {
      "model_module": "@jupyter-widgets/controls",
      "model_module_version": "1.5.0",
      "model_name": "TextModel",
      "state": {
       "description": "Enter the value: ",
       "layout": "IPY_MODEL_821b7a75645a4fb88f5c2b34ad4e33a1",
       "style": "IPY_MODEL_00896a8c654c45c1994768764b1d4436",
       "value": "C:\\Users\\Ian"
      }
     },
     "dd66dacdf12e4fb48cd990a386d5b31a": {
      "model_module": "@jupyter-widgets/controls",
      "model_module_version": "1.5.0",
      "model_name": "VBoxModel",
      "state": {
       "children": [
        "IPY_MODEL_3669b0f8663540658bb2ba7ebaace4c3",
        "IPY_MODEL_6a5d5339413c4352887e15b49eae3348"
       ],
       "layout": "IPY_MODEL_2ba9a1e15b8e45e1bf7976159995d23f"
      }
     },
     "de02974c58f043db8a1c9ad13732b22a": {
      "model_module": "@jupyter-widgets/base",
      "model_module_version": "1.2.0",
      "model_name": "LayoutModel",
      "state": {
       "width": "50%"
      }
     },
     "de93813d1a204bf388c62e80587a131c": {
      "model_module": "@jupyter-widgets/controls",
      "model_module_version": "1.5.0",
      "model_name": "SliderStyleModel",
      "state": {
       "description_width": "initial"
      }
     },
     "de99fcadf8484786b8ca27d3a0b7d066": {
      "model_module": "@jupyter-widgets/base",
      "model_module_version": "1.2.0",
      "model_name": "LayoutModel",
      "state": {}
     },
     "deb1dfc47a594b8395124a46917966cd": {
      "model_module": "@jupyter-widgets/base",
      "model_module_version": "1.2.0",
      "model_name": "LayoutModel",
      "state": {}
     },
     "df1e3de54c794b7a93391cb24c2ec8b6": {
      "model_module": "@jupyter-widgets/base",
      "model_module_version": "1.2.0",
      "model_name": "LayoutModel",
      "state": {}
     },
     "df3a9d9d062f4086a749328a0ad56336": {
      "model_module": "@jupyter-widgets/controls",
      "model_module_version": "1.5.0",
      "model_name": "DescriptionStyleModel",
      "state": {
       "description_width": ""
      }
     },
     "df3f6c8db218423c94544cba4d5e427e": {
      "model_module": "@jupyter-widgets/base",
      "model_module_version": "1.2.0",
      "model_name": "LayoutModel",
      "state": {}
     },
     "dfaf8317a7e242fb964497a04392ecb8": {
      "model_module": "@jupyter-widgets/controls",
      "model_module_version": "1.5.0",
      "model_name": "ButtonStyleModel",
      "state": {}
     },
     "e0875190b7124ea08c01634c4ee3f91e": {
      "model_module": "@jupyter-widgets/controls",
      "model_module_version": "1.5.0",
      "model_name": "DescriptionStyleModel",
      "state": {
       "description_width": "initial"
      }
     },
     "e090073f388040d2a2b0b6c066267382": {
      "model_module": "@jupyter-widgets/controls",
      "model_module_version": "1.5.0",
      "model_name": "DescriptionStyleModel",
      "state": {
       "description_width": ""
      }
     },
     "e0accafc4b154e3d8290053a8cece81f": {
      "model_module": "@jupyter-widgets/controls",
      "model_module_version": "1.5.0",
      "model_name": "DescriptionStyleModel",
      "state": {
       "description_width": ""
      }
     },
     "e0d98eaf8c344d589e021d5d445bec40": {
      "model_module": "@jupyter-widgets/base",
      "model_module_version": "1.2.0",
      "model_name": "LayoutModel",
      "state": {}
     },
     "e152cfcfa7fc4ac39b29db1f0dc76c99": {
      "model_module": "@jupyter-widgets/base",
      "model_module_version": "1.2.0",
      "model_name": "LayoutModel",
      "state": {}
     },
     "e16aa5a1f1e948f0b9522ee34e4a61ac": {
      "model_module": "@jupyter-widgets/base",
      "model_module_version": "1.2.0",
      "model_name": "LayoutModel",
      "state": {}
     },
     "e19ff1c60a7e4e9088af565e6e2fdaf1": {
      "model_module": "@jupyter-widgets/controls",
      "model_module_version": "1.5.0",
      "model_name": "DescriptionStyleModel",
      "state": {
       "description_width": "initial"
      }
     },
     "e1c2a3ed81aa492e860cb35aae4dd66a": {
      "model_module": "@jupyter-widgets/controls",
      "model_module_version": "1.5.0",
      "model_name": "DescriptionStyleModel",
      "state": {
       "description_width": "initial"
      }
     },
     "e2219d0de2914eea96e014bf21872713": {
      "model_module": "@jupyter-widgets/controls",
      "model_module_version": "1.5.0",
      "model_name": "TextModel",
      "state": {
       "description": "Query start time (UTC):",
       "layout": "IPY_MODEL_c8a45bba4984413b8c5e00f5bdd4a613",
       "style": "IPY_MODEL_8ba4e26db5b94ef695a22310e793881d",
       "value": "2020-08-10 20:25:11.230101"
      }
     },
     "e234a9fc0c0d43a892a1197e7bdfb34e": {
      "model_module": "@jupyter-widgets/base",
      "model_module_version": "1.2.0",
      "model_name": "LayoutModel",
      "state": {}
     },
     "e278093849904ee598c78152214ffe15": {
      "model_module": "@jupyter-widgets/controls",
      "model_module_version": "1.5.0",
      "model_name": "IntRangeSliderModel",
      "state": {
       "_model_name": "IntRangeSliderModel",
       "_view_name": "IntRangeSliderView",
       "description": "Time Range (minute):",
       "layout": "IPY_MODEL_3dc32315b058481c8b68c26ef84ec570",
       "max": 120,
       "min": -120,
       "style": "IPY_MODEL_34b1e7d6587348748fecce3aa25894f6",
       "value": [
        -3,
        5
       ]
      }
     },
     "e2834cb0492243d0a93b193fb6b7364d": {
      "model_module": "@jupyter-widgets/controls",
      "model_module_version": "1.5.0",
      "model_name": "DescriptionStyleModel",
      "state": {
       "description_width": ""
      }
     },
     "e2a2d05bd342429eb37671a81b3b8512": {
      "model_module": "@jupyter-widgets/base",
      "model_module_version": "1.2.0",
      "model_name": "LayoutModel",
      "state": {}
     },
     "e34358fddc1e4207a67de24b32fd9f18": {
      "model_module": "@jupyter-widgets/controls",
      "model_module_version": "1.5.0",
      "model_name": "DescriptionStyleModel",
      "state": {
       "description_width": ""
      }
     },
     "e36f95c35ecf46c1b754121d872c501a": {
      "model_module": "@jupyter-widgets/controls",
      "model_module_version": "1.5.0",
      "model_name": "HTMLModel",
      "state": {
       "layout": "IPY_MODEL_6ce74061505047eb9029c31285431da7",
       "style": "IPY_MODEL_fe43c9be7e6545e3ae9ab39acc074958",
       "value": "<h4>Set query time boundaries</h4>"
      }
     },
     "e388756629e54f10a77a6a5f4d49d2d8": {
      "model_module": "@jupyter-widgets/controls",
      "model_module_version": "1.5.0",
      "model_name": "DescriptionStyleModel",
      "state": {
       "description_width": ""
      }
     },
     "e4296bd18fdb43959bd834133b0faec9": {
      "model_module": "@jupyter-widgets/controls",
      "model_module_version": "1.5.0",
      "model_name": "DescriptionStyleModel",
      "state": {
       "description_width": ""
      }
     },
     "e4488c66e65c446e98a3b41c4fe6718c": {
      "model_module": "@jupyter-widgets/base",
      "model_module_version": "1.2.0",
      "model_name": "LayoutModel",
      "state": {}
     },
     "e454c5f20f4c4edea69ab6500b888884": {
      "model_module": "@jupyter-widgets/controls",
      "model_module_version": "1.5.0",
      "model_name": "DescriptionStyleModel",
      "state": {
       "description_width": "initial"
      }
     },
     "e4e45038d99a43d89297533368317988": {
      "model_module": "@jupyter-widgets/controls",
      "model_module_version": "1.5.0",
      "model_name": "TextModel",
      "state": {
       "description": "Filter alerts by title:",
       "layout": "IPY_MODEL_113dbeb39c1c4bfd9a125ddee1e483a1",
       "style": "IPY_MODEL_a4c65e657dd649808e4d6a5d9d6f4ec5"
      }
     },
     "e4fa209f932f4eed845335b80aa47d5a": {
      "model_module": "@jupyter-widgets/controls",
      "model_module_version": "1.5.0",
      "model_name": "ButtonModel",
      "state": {
       "description": "Yes",
       "layout": "IPY_MODEL_b6088ea9615f413bbcc221ff0e72f38a",
       "style": "IPY_MODEL_610a605f2c53474db125b8de1f47d3eb"
      }
     },
     "e54be716582a467d8118a2904e342651": {
      "model_module": "@jupyter-widgets/controls",
      "model_module_version": "1.5.0",
      "model_name": "TextModel",
      "state": {
       "description": "Time (24hr)",
       "layout": "IPY_MODEL_c17b4315ab8547edb05b893d324a1829",
       "style": "IPY_MODEL_23b46329c27f45eb871946f4463e534a",
       "value": "18:26:33.035251"
      }
     },
     "e56325aad0d34553a83c0c1e76ff90db": {
      "model_module": "@jupyter-widgets/controls",
      "model_module_version": "1.5.0",
      "model_name": "DatePickerModel",
      "state": {
       "description": "Origin Date",
       "disabled": false,
       "layout": "IPY_MODEL_b76757a6abe64410adeec35d6e35a6b2",
       "style": "IPY_MODEL_6eeb4f386c3445d79f5a92708b23760e",
       "value": {
        "date": 11,
        "month": 7,
        "year": 2020
       }
      }
     },
     "e58dbc0de3aa4fa9be66f0d765dd47f8": {
      "model_module": "@jupyter-widgets/controls",
      "model_module_version": "1.5.0",
      "model_name": "VBoxModel",
      "state": {
       "children": [
        "IPY_MODEL_2356d24971a643fab9293ea49049ecf7",
        "IPY_MODEL_8f53c662238b4b4daeff42bd54dd9cea",
        "IPY_MODEL_9c0ad2ea3ec84e3094c8848107e75df2"
       ],
       "layout": "IPY_MODEL_8d2e1aa108d94fd4b4f237a9077908ef"
      }
     },
     "e60e7bbf02444e3b985d62adcb433a45": {
      "model_module": "@jupyter-widgets/controls",
      "model_module_version": "1.5.0",
      "model_name": "HBoxModel",
      "state": {
       "children": [
        "IPY_MODEL_da8a633ef2e24201a6a61b96a575da8c",
        "IPY_MODEL_c47e002bc1c74e73be32ca95d50c8726"
       ],
       "layout": "IPY_MODEL_e4488c66e65c446e98a3b41c4fe6718c"
      }
     },
     "e722113e7f924391a35922272c5e9203": {
      "model_module": "@jupyter-widgets/base",
      "model_module_version": "1.2.0",
      "model_name": "LayoutModel",
      "state": {
       "height": "100px",
       "width": "50%"
      }
     },
     "e760b9525b1a4735ab8fc660dc28841b": {
      "model_module": "@jupyter-widgets/controls",
      "model_module_version": "1.5.0",
      "model_name": "DescriptionStyleModel",
      "state": {
       "description_width": ""
      }
     },
     "e96eed0e0a6a45fbbf66e850a38cb21e": {
      "model_module": "@jupyter-widgets/controls",
      "model_module_version": "1.5.0",
      "model_name": "DescriptionStyleModel",
      "state": {
       "description_width": ""
      }
     },
     "e98d8e2a7faa4bb98b8d1592524bb5c5": {
      "model_module": "@jupyter-widgets/controls",
      "model_module_version": "1.5.0",
      "model_name": "DescriptionStyleModel",
      "state": {
       "description_width": ""
      }
     },
     "e9c7a1924d3f412c930c660eb9e4370d": {
      "model_module": "@jupyter-widgets/controls",
      "model_module_version": "1.5.0",
      "model_name": "DatePickerModel",
      "state": {
       "description": "Origin Date",
       "disabled": false,
       "layout": "IPY_MODEL_bfe859cc1c914644ad217ad8b1f82266",
       "style": "IPY_MODEL_e34358fddc1e4207a67de24b32fd9f18",
       "value": {
        "date": 11,
        "month": 7,
        "year": 2020
       }
      }
     },
     "eaf315dc672d4cbf84f568229a2f805b": {
      "model_module": "@jupyter-widgets/base",
      "model_module_version": "1.2.0",
      "model_name": "LayoutModel",
      "state": {}
     },
     "eb1e5649c8574161a964875b44ffff7a": {
      "model_module": "@jupyter-widgets/base",
      "model_module_version": "1.2.0",
      "model_name": "LayoutModel",
      "state": {
       "width": "50%"
      }
     },
     "eb87635c0ce247928040b0b3cfc16a47": {
      "model_module": "@jupyter-widgets/controls",
      "model_module_version": "1.5.0",
      "model_name": "VBoxModel",
      "state": {
       "children": [
        "IPY_MODEL_52ae7d05037f4db5b7271e1725d9d5b5",
        "IPY_MODEL_d302be507ba74f3fb29d60e66c885616"
       ],
       "layout": "IPY_MODEL_c81e7eaa922d454ea3c1cf3c1d794e55"
      }
     },
     "ebe5426cba7d400bb167044197cea33b": {
      "model_module": "@jupyter-widgets/controls",
      "model_module_version": "1.5.0",
      "model_name": "HTMLModel",
      "state": {
       "layout": "IPY_MODEL_df1e3de54c794b7a93391cb24c2ec8b6",
       "style": "IPY_MODEL_ceeea47fc84244fd95da31d1dd2cf177",
       "value": "<h4>Set query time boundaries</h4>"
      }
     },
     "ec20abb91e3e44a0803706c74efd2d7c": {
      "model_module": "@jupyter-widgets/controls",
      "model_module_version": "1.5.0",
      "model_name": "TextModel",
      "state": {
       "description": "Time (24hr)",
       "layout": "IPY_MODEL_e16aa5a1f1e948f0b9522ee34e4a61ac",
       "style": "IPY_MODEL_e98d8e2a7faa4bb98b8d1592524bb5c5",
       "value": "20:35:56.719083"
      }
     },
     "ec248ebed88148dc921ae1decfa422e1": {
      "model_module": "@jupyter-widgets/controls",
      "model_module_version": "1.5.0",
      "model_name": "HBoxModel",
      "state": {
       "children": [
        "IPY_MODEL_e56325aad0d34553a83c0c1e76ff90db",
        "IPY_MODEL_f83e051717cf44f18ad555e103f3bf47"
       ],
       "layout": "IPY_MODEL_f45f8cd18bc24c9b95b7a565066b586e"
      }
     },
     "ec65613389984ecc9a8e9f4e86feaaa3": {
      "model_module": "@jupyter-widgets/base",
      "model_module_version": "1.2.0",
      "model_name": "LayoutModel",
      "state": {}
     },
     "ec68ccf6cd50446588702a6f6a2f867e": {
      "model_module": "@jupyter-widgets/base",
      "model_module_version": "1.2.0",
      "model_name": "LayoutModel",
      "state": {}
     },
     "ece76ade147f4546bc0136a390444ed2": {
      "model_module": "@jupyter-widgets/controls",
      "model_module_version": "1.5.0",
      "model_name": "DatePickerModel",
      "state": {
       "description": "Origin Date",
       "disabled": false,
       "layout": "IPY_MODEL_5cf709dc94b948f2957c0971846c0aa3",
       "style": "IPY_MODEL_bf59e68f8c414adbbe6e1e944ecabaf6",
       "value": {
        "date": 11,
        "month": 7,
        "year": 2020
       }
      }
     },
     "edb890c9960d409ca864b9b82c5e0bc6": {
      "model_module": "@jupyter-widgets/base",
      "model_module_version": "1.2.0",
      "model_name": "LayoutModel",
      "state": {}
     },
     "eee45c19890745139baabe850910580a": {
      "model_module": "@jupyter-widgets/controls",
      "model_module_version": "1.5.0",
      "model_name": "DescriptionStyleModel",
      "state": {
       "description_width": "initial"
      }
     },
     "efa8fa7d6fa44a2e835ada7bcb1663b2": {
      "model_module": "@jupyter-widgets/controls",
      "model_module_version": "1.5.0",
      "model_name": "LabelModel",
      "state": {
       "layout": "IPY_MODEL_01075ee1a95b40fcbe93ed8fb084cbba",
       "style": "IPY_MODEL_a9f4bddc008c4e719dee1308579623ff",
       "value": "Do you really want to do this?"
      }
     },
     "f00fb46b273e4d998af6bde57826975b": {
      "model_module": "@jupyter-widgets/controls",
      "model_module_version": "1.5.0",
      "model_name": "ButtonStyleModel",
      "state": {}
     },
     "f017e2d1ea4c4d578927848a76a06869": {
      "model_module": "@jupyter-widgets/base",
      "model_module_version": "1.2.0",
      "model_name": "LayoutModel",
      "state": {}
     },
     "f05fb710826b4114909d57d0d2f59f23": {
      "model_module": "@jupyter-widgets/base",
      "model_module_version": "1.2.0",
      "model_name": "LayoutModel",
      "state": {
       "width": "50%"
      }
     },
     "f060d8e8c37d4d14bd5f40a4f1d0b08b": {
      "model_module": "@jupyter-widgets/controls",
      "model_module_version": "1.5.0",
      "model_name": "DescriptionStyleModel",
      "state": {
       "description_width": ""
      }
     },
     "f0c1e6964f3a480aaee203598208cdd4": {
      "model_module": "@jupyter-widgets/controls",
      "model_module_version": "1.5.0",
      "model_name": "TextModel",
      "state": {
       "description": "Query end time (UTC) :  ",
       "layout": "IPY_MODEL_7441ec7c3db0484785eea8cd21064c15",
       "style": "IPY_MODEL_348f727bae45401eb681274779aa940c",
       "value": "2020-08-12 20:25:11.230101"
      }
     },
     "f11516d12c884a5182d5f2c1d2b3e880": {
      "model_module": "@jupyter-widgets/controls",
      "model_module_version": "1.5.0",
      "model_name": "TextModel",
      "state": {
       "description": "Query end time (UTC) :  ",
       "layout": "IPY_MODEL_b10d32c7cce444119b69499d93fcae75",
       "style": "IPY_MODEL_9b6e38c3ba494500bae0a8823ec8546b",
       "value": "2020-07-28 00:26:32.907250"
      }
     },
     "f22b2cee819a465aabb9dfa6ae5d9347": {
      "model_module": "@jupyter-widgets/base",
      "model_module_version": "1.2.0",
      "model_name": "LayoutModel",
      "state": {}
     },
     "f3426fcdabf74437b287d568d5e6b6df": {
      "model_module": "@jupyter-widgets/base",
      "model_module_version": "1.2.0",
      "model_name": "LayoutModel",
      "state": {}
     },
     "f36b7c10ebd1422883cbeef94e799a60": {
      "model_module": "@jupyter-widgets/base",
      "model_module_version": "1.2.0",
      "model_name": "LayoutModel",
      "state": {
       "width": "80%"
      }
     },
     "f3d1424460a940c0ae0a0831352fd0d5": {
      "model_module": "@jupyter-widgets/base",
      "model_module_version": "1.2.0",
      "model_name": "LayoutModel",
      "state": {}
     },
     "f427a548ba2c450d9a7d965d24aca40b": {
      "model_module": "@jupyter-widgets/base",
      "model_module_version": "1.2.0",
      "model_name": "LayoutModel",
      "state": {}
     },
     "f45f8cd18bc24c9b95b7a565066b586e": {
      "model_module": "@jupyter-widgets/base",
      "model_module_version": "1.2.0",
      "model_name": "LayoutModel",
      "state": {}
     },
     "f482903502fa40568678769624e98297": {
      "model_module": "@jupyter-widgets/controls",
      "model_module_version": "1.5.0",
      "model_name": "DescriptionStyleModel",
      "state": {
       "description_width": "initial"
      }
     },
     "f4e61d32f7ba410494243b4018e7cee6": {
      "model_module": "@jupyter-widgets/controls",
      "model_module_version": "1.5.0",
      "model_name": "TextModel",
      "state": {
       "description": "Filter:",
       "layout": "IPY_MODEL_16434ebd9fa44dea80764070f7c140de",
       "style": "IPY_MODEL_427ec1dc6caa4503a3dcd43d9932145c"
      }
     },
     "f59c94d42d5f4dd9ab0601dba0881894": {
      "model_module": "@jupyter-widgets/controls",
      "model_module_version": "1.5.0",
      "model_name": "HTMLModel",
      "state": {
       "layout": "IPY_MODEL_dce58e4ef8a54de4a0b6126fcf1338e2",
       "style": "IPY_MODEL_bd55a315fe5b447795a7bce6bbcbbf07",
       "value": "<h4>Set query time boundaries</h4>"
      }
     },
     "f5cdef53f52f43a88b483a404057e685": {
      "model_module": "@jupyter-widgets/controls",
      "model_module_version": "1.5.0",
      "model_name": "HBoxModel",
      "state": {
       "children": [
        "IPY_MODEL_cae02ece0bfe424c8377c0b3edfd3e6e",
        "IPY_MODEL_34273c0394d24c54abd6c72dfd7d92f2"
       ],
       "layout": "IPY_MODEL_8a472602bde34f0fa513cb1fa8fcaf01"
      }
     },
     "f73a0aa38b784fa2924d4a3e88495a74": {
      "model_module": "@jupyter-widgets/controls",
      "model_module_version": "1.5.0",
      "model_name": "TextModel",
      "state": {
       "description": "Query end time (UTC) :  ",
       "layout": "IPY_MODEL_840e2af8ae1743228c2898b1138d39b9",
       "style": "IPY_MODEL_41fa1838f629465d86a5c8c9c6edfb1b",
       "value": "2020-08-12 20:27:56.859104"
      }
     },
     "f741cd5b4c73442eb7e8bceb2cccd3ea": {
      "model_module": "@jupyter-widgets/controls",
      "model_module_version": "1.5.0",
      "model_name": "TextModel",
      "state": {
       "description": "Filter alerts by title:",
       "layout": "IPY_MODEL_b27bb6f3a1e54310b468ac4e973eaf5b",
       "style": "IPY_MODEL_4bdca669d6c946f3bcf35df27c26cfd6"
      }
     },
     "f764a8e8f9a444bb9f5adb2fd67c277e": {
      "model_module": "@jupyter-widgets/controls",
      "model_module_version": "1.5.0",
      "model_name": "ButtonStyleModel",
      "state": {}
     },
     "f776b67cf5724132bdfe4227073a0bb2": {
      "model_module": "@jupyter-widgets/controls",
      "model_module_version": "1.5.0",
      "model_name": "DescriptionStyleModel",
      "state": {
       "description_width": ""
      }
     },
     "f83e051717cf44f18ad555e103f3bf47": {
      "model_module": "@jupyter-widgets/controls",
      "model_module_version": "1.5.0",
      "model_name": "TextModel",
      "state": {
       "description": "Time (24hr)",
       "layout": "IPY_MODEL_7d9e2ea822234a1eb34056a94d31f84d",
       "style": "IPY_MODEL_d3815788c4df46b1a3a277674d057049",
       "value": "20:36:02.023084"
      }
     },
     "fa42d2283eea41589bca63a1626c7949": {
      "model_module": "@jupyter-widgets/controls",
      "model_module_version": "1.5.0",
      "model_name": "HTMLModel",
      "state": {
       "layout": "IPY_MODEL_df3f6c8db218423c94544cba4d5e427e",
       "style": "IPY_MODEL_659075fa628b485990296dfbfaa0f8a5",
       "value": "<h4>Set query time boundaries</h4>"
      }
     },
     "fa7cc933aa26444d86ea84f8d014ab27": {
      "model_module": "@jupyter-widgets/controls",
      "model_module_version": "1.5.0",
      "model_name": "HBoxModel",
      "state": {
       "children": [
        "IPY_MODEL_209df0463cbb4503afeecc8b6372baff",
        "IPY_MODEL_fab9039aeb7841b986ddb88b4647fc57",
        "IPY_MODEL_3548015fa66f4a82a4361977214f0907",
        "IPY_MODEL_4442b922e08b4452af485b0e9fd3e6be"
       ],
       "layout": "IPY_MODEL_853b9fbdec1d495c9ff4d1158a9c3661"
      }
     },
     "fa9edb616272456293837054ee71d871": {
      "model_module": "@jupyter-widgets/controls",
      "model_module_version": "1.5.0",
      "model_name": "HTMLModel",
      "state": {
       "layout": "IPY_MODEL_b7b35e1e432f4e9cb0591b1d45b97e01",
       "style": "IPY_MODEL_8dc685e7bcc0493a87ec30fdcb900470",
       "value": "<h4>Set query time boundaries</h4>"
      }
     },
     "fab9039aeb7841b986ddb88b4647fc57": {
      "model_module": "@jupyter-widgets/controls",
      "model_module_version": "1.5.0",
      "model_name": "ButtonModel",
      "state": {
       "description": "Skip",
       "layout": "IPY_MODEL_59cc1aa378ec42baace959155b2bd26d",
       "style": "IPY_MODEL_8e08232eb4b54f6ca1e7be2e640b6f8f"
      }
     },
     "fb5e67bcd6784714bf21e1cd4ebdbee7": {
      "model_module": "@jupyter-widgets/controls",
      "model_module_version": "1.5.0",
      "model_name": "TextModel",
      "state": {
       "description": "Time (24hr)",
       "layout": "IPY_MODEL_5bdaa7fe0fdb4afd83ed1a95a969642b",
       "style": "IPY_MODEL_493238e2936741109bed8611aaa1eab9",
       "value": "18:26:37.548250"
      }
     },
     "fc0eb91272934d5e8c34f1bc6cd5e7d6": {
      "model_module": "@jupyter-widgets/controls",
      "model_module_version": "1.5.0",
      "model_name": "SelectMultipleModel",
      "state": {
       "_options_labels": [
        "An event log was cleared",
        "Anomalous account creation detected",
        "Azure Security Center test alert (not a threat)",
        "DC local group addition - Demo",
        "DC with MS AM engine failure - Demo",
        "Deep Security Agent detected a malware",
        "Detected Petya ransomware indicators",
        "Detected actions indicative of disabling and deleting IIS log files.",
        "Detected anomalous mix of upper and lower case characters in command-line",
        "Detected change to a registry key that can be abused to bypass UAC",
        "Detected decoding of an executable using built-in certutil.exe tool",
        "Detected encoded executable in command line data",
        "Detected obfuscated command line.",
        "Detected possible execution of keygen executable",
        "Detected possible execution of malware dropper",
        "Detected possible local reconnaissance activity",
        "Detected potentially suspicious use of Telegram tool",
        "Detected suspicious Set-ExecutionPolicy and WinRM changes",
        "Detected suspicious commandline arguments",
        "Detected suspicious commandline used to start all executables in a directory",
        "Detected suspicious credentials in commandline",
        "Detected suspicious document credentials",
        "Detected suspicious execution of VBScript.Encode command",
        "Detected suspicious execution via rundll32.exe",
        "Detected suspicious file cleanup commands",
        "Detected suspicious file creation",
        "Detected suspicious named pipe communications",
        "Detected suspicious new firewall rule",
        "Detected suspicious use of Cacls to lower the security state of the system.",
        "Detected suspicious use of FTP -s Switch",
        "Detected suspicious use of Pcalua.exe to launch executable code",
        "Detected the disabling of critical services",
        "Digital currency mining related behavior detected",
        "Executable found running from a suspicious location",
        "Failed RDP Brute Force Attack",
        "Global domain trust creation - Demo",
        "High risk software detected",
        "Maliciuos IP communication",
        "Modified system binary discovered in dump file 5bd767e4-2d08-4714-b744-aaed04b57107__391365252.hdmp",
        "Multiple Domain Accounts Queried",
        "Network communication with a malicious machine detected",
        "Palo Alto admin logged on via SSH - Demo",
        "Possible compromised machine detected",
        "Possible credential dumping detected",
        "Possible outgoing spam activity detected",
        "Potential SQL Injection",
        "Potential attempt to bypass AppLocker detected",
        "Random process name detected",
        "Ransomware indicators detected",
        "Rare SVCHOST service group executed",
        "SQL injection blocked",
        "Sticky keys attack detected",
        "Successful RDP brute force attack",
        "Suspected Kerberos Golden Ticket attack parameters observed",
        "Suspicious Account Added",
        "Suspicious Account Creation Detected",
        "Suspicious Powershell Activity Detected",
        "Suspicious SVCHOST process executed",
        "Suspicious Volume Shadow Copy Activity",
        "Suspicious WindowPosition registry value detected",
        "Suspicious double extension file executed",
        "Suspicious download using Certutil detected",
        "Suspicious powershell cmdlets executed",
        "Suspicious process executed",
        "Suspicious system process executed",
        "Suspiciously named process detected"
       ],
       "description": "Source: ",
       "index": [],
       "layout": "IPY_MODEL_c4d0f964f9a24b46b5f667310961dd8a",
       "rows": 5,
       "style": "IPY_MODEL_05c2af809747490ebb925714ea4d6003"
      }
     },
     "fe43c9be7e6545e3ae9ab39acc074958": {
      "model_module": "@jupyter-widgets/controls",
      "model_module_version": "1.5.0",
      "model_name": "DescriptionStyleModel",
      "state": {
       "description_width": ""
      }
     },
     "fe568e9b20c146079c330aff7e181569": {
      "model_module": "@jupyter-widgets/controls",
      "model_module_version": "1.5.0",
      "model_name": "VBoxModel",
      "state": {
       "children": [
        "IPY_MODEL_7547d9772a2943f5960f989ca9802b37",
        "IPY_MODEL_ff53852584cc4c24aa85e2db9d3af3ae",
        "IPY_MODEL_b21213213bd5470da29582a0038d3d3a"
       ],
       "layout": "IPY_MODEL_e234a9fc0c0d43a892a1197e7bdfb34e"
      }
     },
     "fe79fb357da048f2bc61a69e50ca7b03": {
      "model_module": "@jupyter-widgets/controls",
      "model_module_version": "1.5.0",
      "model_name": "ButtonStyleModel",
      "state": {}
     },
     "ff53852584cc4c24aa85e2db9d3af3ae": {
      "model_module": "@jupyter-widgets/controls",
      "model_module_version": "1.5.0",
      "model_name": "TextModel",
      "state": {
       "description": "Query start time (UTC):",
       "layout": "IPY_MODEL_86076c51d9354b88b64c19afea51d900",
       "style": "IPY_MODEL_5da30e84f2e449ca924cf1e005d86ecf",
       "value": "2020-08-11 19:35:56.719083"
      }
     },
     "ffaf6aac27194899b68eeb1e115d590e": {
      "model_module": "@jupyter-widgets/controls",
      "model_module_version": "1.5.0",
      "model_name": "TextModel",
      "state": {
       "description": "Query end time (UTC) :  ",
       "layout": "IPY_MODEL_f05fb710826b4114909d57d0d2f59f23",
       "style": "IPY_MODEL_5b662c7980404c1c9c9b722d89235c57",
       "value": "2020-07-28 00:26:32.907250"
      }
     },
     "ffc63926dcdc44099a606fc7e7a3089c": {
      "model_module": "@jupyter-widgets/base",
      "model_module_version": "1.2.0",
      "model_name": "LayoutModel",
      "state": {}
     }
    },
    "version_major": 2,
    "version_minor": 0
   }
  }
 },
 "nbformat": 4,
 "nbformat_minor": 4
}
