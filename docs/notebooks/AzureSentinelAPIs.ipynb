{
 "cells": [
  {
   "cell_type": "markdown",
   "metadata": {
    "toc": true
   },
   "source": [
    "<h1>Table of Contents<span class=\"tocSkip\"></span></h1>\n",
    "<div class=\"toc\"><ul class=\"toc-item\"><li><span><a href=\"#Azure-Sentinel-API-Calls\" data-toc-modified-id=\"Azure-Sentinel-API-Calls-1\">Azure Sentinel API Calls</a></span><ul class=\"toc-item\"><li><ul class=\"toc-item\"><li><span><a href=\"#Description\" data-toc-modified-id=\"Description-1.0.1\">Description</a></span></li><li><span><a href=\"#Installation-and-imports\" data-toc-modified-id=\"Installation-and-imports-1.0.2\">Installation and imports</a></span></li><li><span><a href=\"#Authentication\" data-toc-modified-id=\"Authentication-1.0.3\">Authentication</a></span></li></ul></li></ul></li></ul></div>"
   ]
  },
  {
   "cell_type": "markdown",
   "metadata": {},
   "source": [
    "# Azure Sentinel API Calls\n",
    "\n",
    "MSTICpy versions > 0.8.5\n",
    "\n",
    "### Description\n",
    "\n",
    "This Notebook provides an example of using the Azure Sentinel API features of MSTICpy in order retrieve specific data from Azure Sentinel\n",
    "\n",
    "### Installation and imports"
   ]
  },
  {
   "cell_type": "code",
   "execution_count": null,
   "metadata": {},
   "outputs": [],
   "source": [
    "!pip install msticpy --upgrade"
   ]
  },
  {
   "cell_type": "code",
   "execution_count": 1,
   "metadata": {
    "ExecuteTime": {
     "end_time": "2020-10-28T00:46:14.769939Z",
     "start_time": "2020-10-28T00:46:12.006888Z"
    }
   },
   "outputs": [],
   "source": [
    "from msticpy.data.azure_sentinel import AzureSentinel\n",
    "import msticpy.nbtools.nbwidgets as widgets\n",
    "from msticpy.data import data_obfus as mask"
   ]
  },
  {
   "cell_type": "markdown",
   "metadata": {},
   "source": [
    "### Authentication\n",
    "The first step to be able to use the features is to call the AzureSentinel class and connect to it. Authentication uses the standardized Azure authentication options of using environment variables, Azure CLI credentials, Managed Identities, and interactive logons."
   ]
  },
  {
   "cell_type": "code",
   "execution_count": 2,
   "metadata": {
    "ExecuteTime": {
     "end_time": "2020-10-28T00:46:21.283503Z",
     "start_time": "2020-10-28T00:46:16.357954Z"
    }
   },
   "outputs": [
    {
     "name": "stdout",
     "output_type": "stream",
     "text": [
      "Attempting to sign-in with environment variable credentials...\n"
     ]
    }
   ],
   "source": [
    "azs = AzureSentinel()\n",
    "azs.connect()"
   ]
  },
  {
   "cell_type": "markdown",
   "metadata": {},
   "source": [
    "Once connected we need to select an Azure Sentinel workspace to get details from. The easies way to do this is with the get_subscriptions() and get_sentinel_workspaces() functions to select the subscription and workspace you with to connect to. If you already know which workspace you wish to connect to you can skip straight to the other functions and enter these details."
   ]
  },
  {
   "cell_type": "code",
   "execution_count": 24,
   "metadata": {
    "ExecuteTime": {
     "end_time": "2020-10-28T01:39:48.623598Z",
     "start_time": "2020-10-28T01:39:48.258598Z"
    }
   },
   "outputs": [
    {
     "name": "stdout",
     "output_type": "stream",
     "text": [
      "Select a subscription:\n"
     ]
    },
    {
     "data": {
      "application/vnd.jupyter.widget-view+json": {
       "model_id": "30ee273b2120409989fd4e3712ce080d",
       "version_major": 2,
       "version_minor": 0
      },
      "text/plain": [
       "VBox(children=(Text(value='', description='Filter:', style=DescriptionStyle(description_width='initial')), Sel…"
      ]
     },
     "metadata": {},
     "output_type": "display_data"
    },
    {
     "data": {
      "text/html": [
       "<hr>"
      ],
      "text/plain": [
       "<IPython.core.display.HTML object>"
      ]
     },
     "metadata": {},
     "output_type": "display_data"
    }
   ],
   "source": [
    "# Query for our subscriptions\n",
    "subs = azs.get_subscriptions()\n",
    "\n",
    "# Display subscriptions (masked names) in a pick list\n",
    "print(\"Select a subscription:\")\n",
    "sub = widgets.SelectItem(\n",
    "    item_list=sorted(subs),\n",
    "    auto_display=True\n",
    ")"
   ]
  },
  {
   "cell_type": "code",
   "execution_count": 32,
   "metadata": {
    "ExecuteTime": {
     "end_time": "2020-10-28T01:44:53.170848Z",
     "start_time": "2020-10-28T01:44:47.548676Z"
    }
   },
   "outputs": [
    {
     "name": "stdout",
     "output_type": "stream",
     "text": [
      "Finding Azure Sentinel Workspaces...\n",
      "Select an Azure Sentinel Workspace:\n"
     ]
    },
    {
     "data": {
      "application/vnd.jupyter.widget-view+json": {
       "model_id": "530fb13039894b38a9cadb09e6492247",
       "version_major": 2,
       "version_minor": 0
      },
      "text/plain": [
       "VBox(children=(Text(value='', description='Filter:', style=DescriptionStyle(description_width='initial')), Sel…"
      ]
     },
     "metadata": {},
     "output_type": "display_data"
    },
    {
     "data": {
      "text/html": [
       "<hr>"
      ],
      "text/plain": [
       "<IPython.core.display.HTML object>"
      ]
     },
     "metadata": {},
     "output_type": "display_data"
    }
   ],
   "source": [
    "# Get the subscription ID\n",
    "sub_id = subs[subs['Display Name'] == subs_name[sub.value]]['Subscription ID'].iloc[0]\n",
    "\n",
    "# Query for workspaces in that subscription\n",
    "workspaces = azs.get_sentinel_workspaces(sub_id)\n",
    "\n",
    "# Diaplay workspaces in a list\n",
    "print(\"Select an Azure Sentinel Workspace:\")\n",
    "ws = widgets.SelectItem(\n",
    "    item_dict=dict(sorted(workspaces.items())),\n",
    "    auto_display=True\n",
    ")"
   ]
  },
  {
   "cell_type": "markdown",
   "metadata": {},
   "source": [
    "Now that we have selected our workspace we can call various functions to get details about content in the workspace. These are typically returned as DataFrames. Below we get a list of hunting queries configured in our workspace."
   ]
  },
  {
   "cell_type": "code",
   "execution_count": 34,
   "metadata": {
    "ExecuteTime": {
     "end_time": "2020-10-28T01:45:10.962506Z",
     "start_time": "2020-10-28T01:45:09.792474Z"
    }
   },
   "outputs": [
    {
     "data": {
      "text/html": [
       "<div>\n",
       "<style scoped>\n",
       "    .dataframe tbody tr th:only-of-type {\n",
       "        vertical-align: middle;\n",
       "    }\n",
       "\n",
       "    .dataframe tbody tr th {\n",
       "        vertical-align: top;\n",
       "    }\n",
       "\n",
       "    .dataframe thead th {\n",
       "        text-align: right;\n",
       "    }\n",
       "</style>\n",
       "<table border=\"1\" class=\"dataframe\">\n",
       "  <thead>\n",
       "    <tr style=\"text-align: right;\">\n",
       "      <th></th>\n",
       "      <th>type</th>\n",
       "      <th>Category</th>\n",
       "      <th>DisplayName</th>\n",
       "      <th>Query</th>\n",
       "      <th>Tags</th>\n",
       "      <th>Version</th>\n",
       "      <th>FunctionAlias</th>\n",
       "      <th>FunctionParameters</th>\n",
       "    </tr>\n",
       "  </thead>\n",
       "  <tbody>\n",
       "    <tr>\n",
       "      <th>0</th>\n",
       "      <td>Microsoft.OperationalInsights/savedSearches</td>\n",
       "      <td>Hunting Queries</td>\n",
       "      <td>Anomalous AAD Account Creation</td>\n",
       "      <td>\\nBehaviorAnalytics\\n| where ActionType == \"Ad...</td>\n",
       "      <td>[{'Name': 'description', 'Value': ''}, {'Name'...</td>\n",
       "      <td>2</td>\n",
       "      <td>NaN</td>\n",
       "      <td>NaN</td>\n",
       "    </tr>\n",
       "    <tr>\n",
       "      <th>19</th>\n",
       "      <td>Microsoft.OperationalInsights/savedSearches</td>\n",
       "      <td>Hunting Queries</td>\n",
       "      <td>Preview - TI map File entity to VMConnection E...</td>\n",
       "      <td>\\nlet dt_lookBack = 1h;\\nlet ioc_lookBack = 14...</td>\n",
       "      <td>[{'Name': 'description', 'Value': ''}, {'Name'...</td>\n",
       "      <td>2</td>\n",
       "      <td>NaN</td>\n",
       "      <td>NaN</td>\n",
       "    </tr>\n",
       "    <tr>\n",
       "      <th>28</th>\n",
       "      <td>Microsoft.OperationalInsights/savedSearches</td>\n",
       "      <td>Hunting Queries</td>\n",
       "      <td>Set Hunting Query</td>\n",
       "      <td>Heartbeat | take 1</td>\n",
       "      <td>[{'Name': 'description', 'Value': 'Test Huntin...</td>\n",
       "      <td>2</td>\n",
       "      <td>NaN</td>\n",
       "      <td>NaN</td>\n",
       "    </tr>\n",
       "    <tr>\n",
       "      <th>29</th>\n",
       "      <td>Microsoft.OperationalInsights/savedSearches</td>\n",
       "      <td>Hunting Queries</td>\n",
       "      <td>Uncommon processes/files - bottom 5%</td>\n",
       "      <td>let ProcessCreationEvents=() {\\n        let pr...</td>\n",
       "      <td>[{'Name': 'description', 'Value': ''}, {'Name'...</td>\n",
       "      <td>2</td>\n",
       "      <td>NaN</td>\n",
       "      <td>NaN</td>\n",
       "    </tr>\n",
       "    <tr>\n",
       "      <th>30</th>\n",
       "      <td>Microsoft.OperationalInsights/savedSearches</td>\n",
       "      <td>Hunting Queries</td>\n",
       "      <td>Test123</td>\n",
       "      <td>SecurityAlert\\r\\n\\t| extend CompromisedHost = ...</td>\n",
       "      <td>[{'Name': 'description', 'Value': ''}, {'Name'...</td>\n",
       "      <td>2</td>\n",
       "      <td>NaN</td>\n",
       "      <td>NaN</td>\n",
       "    </tr>\n",
       "  </tbody>\n",
       "</table>\n",
       "</div>"
      ],
      "text/plain": [
       "                                           type         Category  \\\n",
       "0   Microsoft.OperationalInsights/savedSearches  Hunting Queries   \n",
       "19  Microsoft.OperationalInsights/savedSearches  Hunting Queries   \n",
       "28  Microsoft.OperationalInsights/savedSearches  Hunting Queries   \n",
       "29  Microsoft.OperationalInsights/savedSearches  Hunting Queries   \n",
       "30  Microsoft.OperationalInsights/savedSearches  Hunting Queries   \n",
       "\n",
       "                                          DisplayName  \\\n",
       "0                      Anomalous AAD Account Creation   \n",
       "19  Preview - TI map File entity to VMConnection E...   \n",
       "28                                  Set Hunting Query   \n",
       "29               Uncommon processes/files - bottom 5%   \n",
       "30                                            Test123   \n",
       "\n",
       "                                                Query  \\\n",
       "0   \\nBehaviorAnalytics\\n| where ActionType == \"Ad...   \n",
       "19  \\nlet dt_lookBack = 1h;\\nlet ioc_lookBack = 14...   \n",
       "28                                 Heartbeat | take 1   \n",
       "29  let ProcessCreationEvents=() {\\n        let pr...   \n",
       "30  SecurityAlert\\r\\n\\t| extend CompromisedHost = ...   \n",
       "\n",
       "                                                 Tags  Version FunctionAlias  \\\n",
       "0   [{'Name': 'description', 'Value': ''}, {'Name'...        2           NaN   \n",
       "19  [{'Name': 'description', 'Value': ''}, {'Name'...        2           NaN   \n",
       "28  [{'Name': 'description', 'Value': 'Test Huntin...        2           NaN   \n",
       "29  [{'Name': 'description', 'Value': ''}, {'Name'...        2           NaN   \n",
       "30  [{'Name': 'description', 'Value': ''}, {'Name'...        2           NaN   \n",
       "\n",
       "   FunctionParameters  \n",
       "0                 NaN  \n",
       "19                NaN  \n",
       "28                NaN  \n",
       "29                NaN  \n",
       "30                NaN  "
      ]
     },
     "execution_count": 34,
     "metadata": {},
     "output_type": "execute_result"
    }
   ],
   "source": [
    "queries = azs.get_hunting_queries(ws.value)\n",
    "queries.head().drop(columns=[\"id\", \"etag\", \"name\"])"
   ]
  },
  {
   "cell_type": "markdown",
   "metadata": {},
   "source": [
    "Hunting queries return the raw queries associated with them, this allows us to pass the query directly to a QueryProvider in order to get the results of the hunting query within the notebook."
   ]
  },
  {
   "cell_type": "code",
   "execution_count": 14,
   "metadata": {
    "ExecuteTime": {
     "end_time": "2020-10-28T00:52:19.961283Z",
     "start_time": "2020-10-28T00:52:16.730666Z"
    }
   },
   "outputs": [
    {
     "data": {
      "application/javascript": [
       "try {IPython.notebook.kernel.reconnect();} catch(err) {;}"
      ],
      "text/plain": [
       "<IPython.core.display.Javascript object>"
      ]
     },
     "metadata": {},
     "output_type": "display_data"
    },
    {
     "data": {
      "text/html": [
       "<div>\n",
       "<style scoped>\n",
       "    .dataframe tbody tr th:only-of-type {\n",
       "        vertical-align: middle;\n",
       "    }\n",
       "\n",
       "    .dataframe tbody tr th {\n",
       "        vertical-align: top;\n",
       "    }\n",
       "\n",
       "    .dataframe thead th {\n",
       "        text-align: right;\n",
       "    }\n",
       "</style>\n",
       "<table border=\"1\" class=\"dataframe\">\n",
       "  <thead>\n",
       "    <tr style=\"text-align: right;\">\n",
       "      <th></th>\n",
       "      <th>TenantId</th>\n",
       "      <th>SourceSystem</th>\n",
       "      <th>TimeGenerated</th>\n",
       "      <th>MG</th>\n",
       "      <th>ManagementGroupName</th>\n",
       "      <th>SourceComputerId</th>\n",
       "      <th>ComputerIP</th>\n",
       "      <th>Computer</th>\n",
       "      <th>Category</th>\n",
       "      <th>OSType</th>\n",
       "      <th>...</th>\n",
       "      <th>ResourceGroup</th>\n",
       "      <th>ResourceProvider</th>\n",
       "      <th>Resource</th>\n",
       "      <th>ResourceId</th>\n",
       "      <th>ResourceType</th>\n",
       "      <th>ComputerEnvironment</th>\n",
       "      <th>Solutions</th>\n",
       "      <th>VMUUID</th>\n",
       "      <th>Type</th>\n",
       "      <th>_ResourceId</th>\n",
       "    </tr>\n",
       "  </thead>\n",
       "  <tbody>\n",
       "    <tr>\n",
       "      <th>0</th>\n",
       "      <td>52b1ab41-869e-4138-9e40-2a4457f09bf0</td>\n",
       "      <td>OpsManager</td>\n",
       "      <td>2020-04-21 20:08:31.640000+00:00</td>\n",
       "      <td>00000000-0000-0000-0000-000000000001</td>\n",
       "      <td>AOI-52b1ab41-869e-4138-9e40-2a4457f09bf0</td>\n",
       "      <td>263a788b-6526-4cdc-8ed9-d79402fe4aa0</td>\n",
       "      <td>40.76.43.124</td>\n",
       "      <td>MSTICAlertsWin1</td>\n",
       "      <td>Direct Agent</td>\n",
       "      <td>Windows</td>\n",
       "      <td>...</td>\n",
       "      <td>ASIHUNTOMSWORKSPACERG</td>\n",
       "      <td>Microsoft.Compute</td>\n",
       "      <td>MSTICAlertsWin1</td>\n",
       "      <td>/subscriptions/40dcc8bf-0478-4f3b-b275-ed0a94f...</td>\n",
       "      <td>virtualMachines</td>\n",
       "      <td>Azure</td>\n",
       "      <td>\"security\", \"changeTracking\", \"networkMonitori...</td>\n",
       "      <td>3b8d40a2-33fa-4230-9dc1-794aabdd225c</td>\n",
       "      <td>Heartbeat</td>\n",
       "      <td>/subscriptions/40dcc8bf-0478-4f3b-b275-ed0a94f...</td>\n",
       "    </tr>\n",
       "  </tbody>\n",
       "</table>\n",
       "<p>1 rows × 30 columns</p>\n",
       "</div>"
      ],
      "text/plain": [
       "                               TenantId SourceSystem  \\\n",
       "0  52b1ab41-869e-4138-9e40-2a4457f09bf0   OpsManager   \n",
       "\n",
       "                     TimeGenerated                                    MG  \\\n",
       "0 2020-04-21 20:08:31.640000+00:00  00000000-0000-0000-0000-000000000001   \n",
       "\n",
       "                        ManagementGroupName  \\\n",
       "0  AOI-52b1ab41-869e-4138-9e40-2a4457f09bf0   \n",
       "\n",
       "                       SourceComputerId    ComputerIP         Computer  \\\n",
       "0  263a788b-6526-4cdc-8ed9-d79402fe4aa0  40.76.43.124  MSTICAlertsWin1   \n",
       "\n",
       "       Category   OSType  ...          ResourceGroup   ResourceProvider  \\\n",
       "0  Direct Agent  Windows  ...  ASIHUNTOMSWORKSPACERG  Microsoft.Compute   \n",
       "\n",
       "          Resource                                         ResourceId  \\\n",
       "0  MSTICAlertsWin1  /subscriptions/40dcc8bf-0478-4f3b-b275-ed0a94f...   \n",
       "\n",
       "      ResourceType  ComputerEnvironment  \\\n",
       "0  virtualMachines                Azure   \n",
       "\n",
       "                                           Solutions  \\\n",
       "0  \"security\", \"changeTracking\", \"networkMonitori...   \n",
       "\n",
       "                                 VMUUID       Type  \\\n",
       "0  3b8d40a2-33fa-4230-9dc1-794aabdd225c  Heartbeat   \n",
       "\n",
       "                                         _ResourceId  \n",
       "0  /subscriptions/40dcc8bf-0478-4f3b-b275-ed0a94f...  \n",
       "\n",
       "[1 rows x 30 columns]"
      ]
     },
     "execution_count": 14,
     "metadata": {},
     "output_type": "execute_result"
    }
   ],
   "source": [
    "from msticpy.data.data_providers import QueryProvider\n",
    "from msticpy.common.wsconfig import WorkspaceConfig\n",
    "qry_prov = QueryProvider('LogAnalytics')\n",
    "wkspace = WorkspaceConfig()\n",
    "qry_prov.connect(wkspace.code_connect_str)\n",
    "qry_prov.exec_query(queries['Query'].iloc[2])"
   ]
  },
  {
   "cell_type": "markdown",
   "metadata": {},
   "source": [
    "We can also get a list of configured alert rules:"
   ]
  },
  {
   "cell_type": "code",
   "execution_count": 11,
   "metadata": {
    "ExecuteTime": {
     "end_time": "2020-10-28T00:50:07.155005Z",
     "start_time": "2020-10-28T00:50:06.191005Z"
    }
   },
   "outputs": [
    {
     "data": {
      "text/html": [
       "<div>\n",
       "<style scoped>\n",
       "    .dataframe tbody tr th:only-of-type {\n",
       "        vertical-align: middle;\n",
       "    }\n",
       "\n",
       "    .dataframe tbody tr th {\n",
       "        vertical-align: top;\n",
       "    }\n",
       "\n",
       "    .dataframe thead th {\n",
       "        text-align: right;\n",
       "    }\n",
       "</style>\n",
       "<table border=\"1\" class=\"dataframe\">\n",
       "  <thead>\n",
       "    <tr style=\"text-align: right;\">\n",
       "      <th></th>\n",
       "      <th>type</th>\n",
       "      <th>kind</th>\n",
       "      <th>severity</th>\n",
       "      <th>query</th>\n",
       "      <th>queryFrequency</th>\n",
       "      <th>queryPeriod</th>\n",
       "      <th>triggerOperator</th>\n",
       "      <th>triggerThreshold</th>\n",
       "      <th>suppressionDuration</th>\n",
       "      <th>suppressionEnabled</th>\n",
       "      <th>...</th>\n",
       "      <th>incidentConfiguration.groupingConfiguration.enabled</th>\n",
       "      <th>incidentConfiguration.groupingConfiguration.reopenClosedIncident</th>\n",
       "      <th>incidentConfiguration.groupingConfiguration.lookbackDuration</th>\n",
       "      <th>incidentConfiguration.groupingConfiguration.entitiesMatchingMethod</th>\n",
       "      <th>incidentConfiguration.groupingConfiguration.groupByEntities</th>\n",
       "      <th>eventGroupingSettings.aggregationKind</th>\n",
       "      <th>productFilter</th>\n",
       "      <th>severitiesFilter</th>\n",
       "      <th>displayNamesFilter</th>\n",
       "      <th>displayNamesExcludeFilter</th>\n",
       "    </tr>\n",
       "  </thead>\n",
       "  <tbody>\n",
       "    <tr>\n",
       "      <th>0</th>\n",
       "      <td>Microsoft.SecurityInsights/alertRules</td>\n",
       "      <td>Scheduled</td>\n",
       "      <td>Medium</td>\n",
       "      <td>OfficeActivity| take 1</td>\n",
       "      <td>PT5H</td>\n",
       "      <td>PT5H</td>\n",
       "      <td>GreaterThan</td>\n",
       "      <td>5.0</td>\n",
       "      <td>PT5H</td>\n",
       "      <td>False</td>\n",
       "      <td>...</td>\n",
       "      <td>False</td>\n",
       "      <td>False</td>\n",
       "      <td>PT5H</td>\n",
       "      <td>All</td>\n",
       "      <td>[]</td>\n",
       "      <td>SingleAlert</td>\n",
       "      <td>NaN</td>\n",
       "      <td>NaN</td>\n",
       "      <td>NaN</td>\n",
       "      <td>NaN</td>\n",
       "    </tr>\n",
       "    <tr>\n",
       "      <th>1</th>\n",
       "      <td>Microsoft.SecurityInsights/alertRules</td>\n",
       "      <td>Scheduled</td>\n",
       "      <td>Informational</td>\n",
       "      <td>let EventNameList = dynamic([\"AttachUserPolic...</td>\n",
       "      <td>PT5H</td>\n",
       "      <td>P10D</td>\n",
       "      <td>GreaterThan</td>\n",
       "      <td>0.0</td>\n",
       "      <td>PT5H</td>\n",
       "      <td>False</td>\n",
       "      <td>...</td>\n",
       "      <td>False</td>\n",
       "      <td>False</td>\n",
       "      <td>PT5M</td>\n",
       "      <td>All</td>\n",
       "      <td>[]</td>\n",
       "      <td>NaN</td>\n",
       "      <td>NaN</td>\n",
       "      <td>NaN</td>\n",
       "      <td>NaN</td>\n",
       "      <td>NaN</td>\n",
       "    </tr>\n",
       "    <tr>\n",
       "      <th>2</th>\n",
       "      <td>Microsoft.SecurityInsights/alertRules</td>\n",
       "      <td>MLBehaviorAnalytics</td>\n",
       "      <td>Medium</td>\n",
       "      <td>NaN</td>\n",
       "      <td>NaN</td>\n",
       "      <td>NaN</td>\n",
       "      <td>NaN</td>\n",
       "      <td>NaN</td>\n",
       "      <td>NaN</td>\n",
       "      <td>NaN</td>\n",
       "      <td>...</td>\n",
       "      <td>NaN</td>\n",
       "      <td>NaN</td>\n",
       "      <td>NaN</td>\n",
       "      <td>NaN</td>\n",
       "      <td>NaN</td>\n",
       "      <td>NaN</td>\n",
       "      <td>NaN</td>\n",
       "      <td>NaN</td>\n",
       "      <td>NaN</td>\n",
       "      <td>NaN</td>\n",
       "    </tr>\n",
       "    <tr>\n",
       "      <th>3</th>\n",
       "      <td>Microsoft.SecurityInsights/alertRules</td>\n",
       "      <td>Scheduled</td>\n",
       "      <td>Medium</td>\n",
       "      <td>let starttime = 14d;\\r\\nlet endtime = 1d;\\r\\nl...</td>\n",
       "      <td>PT5H</td>\n",
       "      <td>P7D</td>\n",
       "      <td>GreaterThan</td>\n",
       "      <td>0.0</td>\n",
       "      <td>PT5H</td>\n",
       "      <td>False</td>\n",
       "      <td>...</td>\n",
       "      <td>False</td>\n",
       "      <td>False</td>\n",
       "      <td>PT5M</td>\n",
       "      <td>All</td>\n",
       "      <td>[]</td>\n",
       "      <td>NaN</td>\n",
       "      <td>NaN</td>\n",
       "      <td>NaN</td>\n",
       "      <td>NaN</td>\n",
       "      <td>NaN</td>\n",
       "    </tr>\n",
       "    <tr>\n",
       "      <th>4</th>\n",
       "      <td>Microsoft.SecurityInsights/alertRules</td>\n",
       "      <td>Scheduled</td>\n",
       "      <td>Low</td>\n",
       "      <td>let starttime = 14d;\\r\\nlet midtime = 8d;\\r\\nl...</td>\n",
       "      <td>PT5H</td>\n",
       "      <td>P7D</td>\n",
       "      <td>GreaterThan</td>\n",
       "      <td>0.0</td>\n",
       "      <td>PT5H</td>\n",
       "      <td>False</td>\n",
       "      <td>...</td>\n",
       "      <td>False</td>\n",
       "      <td>False</td>\n",
       "      <td>PT5M</td>\n",
       "      <td>All</td>\n",
       "      <td>[]</td>\n",
       "      <td>NaN</td>\n",
       "      <td>NaN</td>\n",
       "      <td>NaN</td>\n",
       "      <td>NaN</td>\n",
       "      <td>NaN</td>\n",
       "    </tr>\n",
       "  </tbody>\n",
       "</table>\n",
       "<p>5 rows × 27 columns</p>\n",
       "</div>"
      ],
      "text/plain": [
       "                                    type                 kind       severity  \\\n",
       "0  Microsoft.SecurityInsights/alertRules            Scheduled         Medium   \n",
       "1  Microsoft.SecurityInsights/alertRules            Scheduled  Informational   \n",
       "2  Microsoft.SecurityInsights/alertRules  MLBehaviorAnalytics         Medium   \n",
       "3  Microsoft.SecurityInsights/alertRules            Scheduled         Medium   \n",
       "4  Microsoft.SecurityInsights/alertRules            Scheduled            Low   \n",
       "\n",
       "                                               query queryFrequency  \\\n",
       "0                             OfficeActivity| take 1           PT5H   \n",
       "1   let EventNameList = dynamic([\"AttachUserPolic...           PT5H   \n",
       "2                                                NaN            NaN   \n",
       "3  let starttime = 14d;\\r\\nlet endtime = 1d;\\r\\nl...           PT5H   \n",
       "4  let starttime = 14d;\\r\\nlet midtime = 8d;\\r\\nl...           PT5H   \n",
       "\n",
       "  queryPeriod triggerOperator  triggerThreshold suppressionDuration  \\\n",
       "0        PT5H     GreaterThan               5.0                PT5H   \n",
       "1        P10D     GreaterThan               0.0                PT5H   \n",
       "2         NaN             NaN               NaN                 NaN   \n",
       "3         P7D     GreaterThan               0.0                PT5H   \n",
       "4         P7D     GreaterThan               0.0                PT5H   \n",
       "\n",
       "  suppressionEnabled  ... incidentConfiguration.groupingConfiguration.enabled  \\\n",
       "0              False  ...                                              False    \n",
       "1              False  ...                                              False    \n",
       "2                NaN  ...                                                NaN    \n",
       "3              False  ...                                              False    \n",
       "4              False  ...                                              False    \n",
       "\n",
       "   incidentConfiguration.groupingConfiguration.reopenClosedIncident  \\\n",
       "0                                              False                  \n",
       "1                                              False                  \n",
       "2                                                NaN                  \n",
       "3                                              False                  \n",
       "4                                              False                  \n",
       "\n",
       "  incidentConfiguration.groupingConfiguration.lookbackDuration  \\\n",
       "0                                               PT5H             \n",
       "1                                               PT5M             \n",
       "2                                                NaN             \n",
       "3                                               PT5M             \n",
       "4                                               PT5M             \n",
       "\n",
       "  incidentConfiguration.groupingConfiguration.entitiesMatchingMethod  \\\n",
       "0                                                All                   \n",
       "1                                                All                   \n",
       "2                                                NaN                   \n",
       "3                                                All                   \n",
       "4                                                All                   \n",
       "\n",
       "  incidentConfiguration.groupingConfiguration.groupByEntities  \\\n",
       "0                                                 []            \n",
       "1                                                 []            \n",
       "2                                                NaN            \n",
       "3                                                 []            \n",
       "4                                                 []            \n",
       "\n",
       "  eventGroupingSettings.aggregationKind productFilter severitiesFilter  \\\n",
       "0                           SingleAlert           NaN              NaN   \n",
       "1                                   NaN           NaN              NaN   \n",
       "2                                   NaN           NaN              NaN   \n",
       "3                                   NaN           NaN              NaN   \n",
       "4                                   NaN           NaN              NaN   \n",
       "\n",
       "  displayNamesFilter displayNamesExcludeFilter  \n",
       "0                NaN                       NaN  \n",
       "1                NaN                       NaN  \n",
       "2                NaN                       NaN  \n",
       "3                NaN                       NaN  \n",
       "4                NaN                       NaN  \n",
       "\n",
       "[5 rows x 27 columns]"
      ]
     },
     "execution_count": 11,
     "metadata": {},
     "output_type": "execute_result"
    }
   ],
   "source": [
    "alert_rules = azs.get_alert_rules(ws.value)\n",
    "alert_rules.head().drop(columns=[\"id\", \"etag\", \"name\"])"
   ]
  },
  {
   "cell_type": "markdown",
   "metadata": {},
   "source": [
    "We can also get a list of saved bookmarks. To see the events these bookmarks relate to you can pass the query value to a QueryProvider."
   ]
  },
  {
   "cell_type": "code",
   "execution_count": 12,
   "metadata": {
    "ExecuteTime": {
     "end_time": "2020-10-28T00:50:17.332381Z",
     "start_time": "2020-10-28T00:50:14.780804Z"
    }
   },
   "outputs": [
    {
     "data": {
      "text/html": [
       "<div>\n",
       "<style scoped>\n",
       "    .dataframe tbody tr th:only-of-type {\n",
       "        vertical-align: middle;\n",
       "    }\n",
       "\n",
       "    .dataframe tbody tr th {\n",
       "        vertical-align: top;\n",
       "    }\n",
       "\n",
       "    .dataframe thead th {\n",
       "        text-align: right;\n",
       "    }\n",
       "</style>\n",
       "<table border=\"1\" class=\"dataframe\">\n",
       "  <thead>\n",
       "    <tr style=\"text-align: right;\">\n",
       "      <th></th>\n",
       "      <th>type</th>\n",
       "      <th>displayName</th>\n",
       "      <th>created</th>\n",
       "      <th>updated</th>\n",
       "      <th>eventTime</th>\n",
       "      <th>labels</th>\n",
       "      <th>query</th>\n",
       "      <th>queryResult</th>\n",
       "      <th>queryStartTime</th>\n",
       "      <th>queryEndTime</th>\n",
       "      <th>...</th>\n",
       "      <th>createdBy.email</th>\n",
       "      <th>createdBy.name</th>\n",
       "      <th>updatedBy.objectId</th>\n",
       "      <th>updatedBy.email</th>\n",
       "      <th>updatedBy.name</th>\n",
       "      <th>incidentInfo.incidentId</th>\n",
       "      <th>incidentInfo.title</th>\n",
       "      <th>incidentInfo.relationName</th>\n",
       "      <th>incidentInfo.severity</th>\n",
       "      <th>notes</th>\n",
       "    </tr>\n",
       "  </thead>\n",
       "  <tbody>\n",
       "    <tr>\n",
       "      <th>0</th>\n",
       "      <td>Microsoft.SecurityInsights/Bookmarks</td>\n",
       "      <td>SecurityAlert - ef11936a7a66 (3)</td>\n",
       "      <td>2020-04-27T16:55:02.8309802+00:00</td>\n",
       "      <td>2020-04-27T16:55:02.8309802+00:00</td>\n",
       "      <td>2020-04-27T16:55:02.8309802+00:00</td>\n",
       "      <td>[]</td>\n",
       "      <td>SecurityAlert\\n| take 10\\n</td>\n",
       "      <td>{\"TenantId\":\"52b1ab41-869e-4138-9e40-2a4457f09...</td>\n",
       "      <td>2020-04-26T16:54:49.439+00:00</td>\n",
       "      <td>2020-04-27T16:54:49.439+00:00</td>\n",
       "      <td>...</td>\n",
       "      <td>pagoudjo@microsoft.com</td>\n",
       "      <td>100320004CA0C08B</td>\n",
       "      <td>ddf6375d-b314-4369-b56d-8d787b321b0e</td>\n",
       "      <td>pagoudjo@microsoft.com</td>\n",
       "      <td>100320004CA0C08B</td>\n",
       "      <td>9f63476e-3605-4377-a415-7626fdda46f3</td>\n",
       "      <td>SecurityAlert - ef11936a7a66 (3)</td>\n",
       "      <td>4c0a9344-c06d-49d9-b831-bc18bf2cc77a</td>\n",
       "      <td>Medium</td>\n",
       "      <td>NaN</td>\n",
       "    </tr>\n",
       "    <tr>\n",
       "      <th>1</th>\n",
       "      <td>Microsoft.SecurityInsights/Bookmarks</td>\n",
       "      <td>SecurityAlert - eb067cbefcd3 (2)</td>\n",
       "      <td>2020-04-26T04:40:45.4130364+00:00</td>\n",
       "      <td>2020-04-26T04:40:45.4130364+00:00</td>\n",
       "      <td>2020-04-26T04:40:45.4130364+00:00</td>\n",
       "      <td>[]</td>\n",
       "      <td>SecurityAlert\\n| take 10\\n</td>\n",
       "      <td>{\"TenantId\":\"52b1ab41-869e-4138-9e40-2a4457f09...</td>\n",
       "      <td>2020-04-25T04:40:38.626+00:00</td>\n",
       "      <td>2020-04-26T04:40:38.626+00:00</td>\n",
       "      <td>...</td>\n",
       "      <td>pagoudjo@microsoft.com</td>\n",
       "      <td>100320004CA0C08B</td>\n",
       "      <td>ddf6375d-b314-4369-b56d-8d787b321b0e</td>\n",
       "      <td>pagoudjo@microsoft.com</td>\n",
       "      <td>100320004CA0C08B</td>\n",
       "      <td>None</td>\n",
       "      <td>None</td>\n",
       "      <td>None</td>\n",
       "      <td>None</td>\n",
       "      <td>NaN</td>\n",
       "    </tr>\n",
       "    <tr>\n",
       "      <th>2</th>\n",
       "      <td>Microsoft.SecurityInsights/Bookmarks</td>\n",
       "      <td>SecurityEvent - Test (1)</td>\n",
       "      <td>2020-04-17T17:58:55.0675533+00:00</td>\n",
       "      <td>2020-04-17T17:58:55.0675533+00:00</td>\n",
       "      <td>2020-04-17T17:58:55.0675533+00:00</td>\n",
       "      <td>[testing]</td>\n",
       "      <td>SecurityEvent\\n| take 10\\n</td>\n",
       "      <td>{\"TimeGenerated\":\"2020-04-17T07:55:51.003Z\",\"A...</td>\n",
       "      <td>2020-04-16T17:57:54.712+00:00</td>\n",
       "      <td>2020-04-17T17:57:54.712+00:00</td>\n",
       "      <td>...</td>\n",
       "      <td>pagoudjo@microsoft.com</td>\n",
       "      <td>100320004CA0C08B</td>\n",
       "      <td>ddf6375d-b314-4369-b56d-8d787b321b0e</td>\n",
       "      <td>pagoudjo@microsoft.com</td>\n",
       "      <td>100320004CA0C08B</td>\n",
       "      <td>383ff7bb-23b8-4616-af93-bcd04efe89cf</td>\n",
       "      <td>SecurityEvent - Investigate issue</td>\n",
       "      <td>abc6d40d-0b0e-4ada-b829-bafbb540eb39</td>\n",
       "      <td>Medium</td>\n",
       "      <td>dfdfd</td>\n",
       "    </tr>\n",
       "    <tr>\n",
       "      <th>3</th>\n",
       "      <td>Microsoft.SecurityInsights/Bookmarks</td>\n",
       "      <td>SecurityAlert - eb067cbefcd3 (1)</td>\n",
       "      <td>2020-04-26T04:40:43.6423939+00:00</td>\n",
       "      <td>2020-04-26T04:40:43.6423939+00:00</td>\n",
       "      <td>2020-04-26T04:40:43.6423939+00:00</td>\n",
       "      <td>[]</td>\n",
       "      <td>SecurityAlert\\n| take 10\\n</td>\n",
       "      <td>{\"TenantId\":\"52b1ab41-869e-4138-9e40-2a4457f09...</td>\n",
       "      <td>2020-04-25T04:40:38.626+00:00</td>\n",
       "      <td>2020-04-26T04:40:38.626+00:00</td>\n",
       "      <td>...</td>\n",
       "      <td>pagoudjo@microsoft.com</td>\n",
       "      <td>100320004CA0C08B</td>\n",
       "      <td>ddf6375d-b314-4369-b56d-8d787b321b0e</td>\n",
       "      <td>pagoudjo@microsoft.com</td>\n",
       "      <td>100320004CA0C08B</td>\n",
       "      <td>None</td>\n",
       "      <td>None</td>\n",
       "      <td>None</td>\n",
       "      <td>None</td>\n",
       "      <td>NaN</td>\n",
       "    </tr>\n",
       "    <tr>\n",
       "      <th>4</th>\n",
       "      <td>Microsoft.SecurityInsights/Bookmarks</td>\n",
       "      <td>SecurityAlert - eb067cbefcd3</td>\n",
       "      <td>2020-04-26T04:40:42.2198094+00:00</td>\n",
       "      <td>2020-04-26T04:40:42.2198094+00:00</td>\n",
       "      <td>2020-04-26T04:40:42.2198094+00:00</td>\n",
       "      <td>[]</td>\n",
       "      <td>SecurityAlert\\n| take 10\\n</td>\n",
       "      <td>{\"TenantId\":\"52b1ab41-869e-4138-9e40-2a4457f09...</td>\n",
       "      <td>2020-04-25T04:40:38.626+00:00</td>\n",
       "      <td>2020-04-26T04:40:38.626+00:00</td>\n",
       "      <td>...</td>\n",
       "      <td>pagoudjo@microsoft.com</td>\n",
       "      <td>100320004CA0C08B</td>\n",
       "      <td>ddf6375d-b314-4369-b56d-8d787b321b0e</td>\n",
       "      <td>pagoudjo@microsoft.com</td>\n",
       "      <td>100320004CA0C08B</td>\n",
       "      <td>None</td>\n",
       "      <td>None</td>\n",
       "      <td>None</td>\n",
       "      <td>None</td>\n",
       "      <td>NaN</td>\n",
       "    </tr>\n",
       "  </tbody>\n",
       "</table>\n",
       "<p>5 rows × 21 columns</p>\n",
       "</div>"
      ],
      "text/plain": [
       "                                   type                       displayName  \\\n",
       "0  Microsoft.SecurityInsights/Bookmarks  SecurityAlert - ef11936a7a66 (3)   \n",
       "1  Microsoft.SecurityInsights/Bookmarks  SecurityAlert - eb067cbefcd3 (2)   \n",
       "2  Microsoft.SecurityInsights/Bookmarks          SecurityEvent - Test (1)   \n",
       "3  Microsoft.SecurityInsights/Bookmarks  SecurityAlert - eb067cbefcd3 (1)   \n",
       "4  Microsoft.SecurityInsights/Bookmarks      SecurityAlert - eb067cbefcd3   \n",
       "\n",
       "                             created                            updated  \\\n",
       "0  2020-04-27T16:55:02.8309802+00:00  2020-04-27T16:55:02.8309802+00:00   \n",
       "1  2020-04-26T04:40:45.4130364+00:00  2020-04-26T04:40:45.4130364+00:00   \n",
       "2  2020-04-17T17:58:55.0675533+00:00  2020-04-17T17:58:55.0675533+00:00   \n",
       "3  2020-04-26T04:40:43.6423939+00:00  2020-04-26T04:40:43.6423939+00:00   \n",
       "4  2020-04-26T04:40:42.2198094+00:00  2020-04-26T04:40:42.2198094+00:00   \n",
       "\n",
       "                           eventTime     labels                       query  \\\n",
       "0  2020-04-27T16:55:02.8309802+00:00         []  SecurityAlert\\n| take 10\\n   \n",
       "1  2020-04-26T04:40:45.4130364+00:00         []  SecurityAlert\\n| take 10\\n   \n",
       "2  2020-04-17T17:58:55.0675533+00:00  [testing]  SecurityEvent\\n| take 10\\n   \n",
       "3  2020-04-26T04:40:43.6423939+00:00         []  SecurityAlert\\n| take 10\\n   \n",
       "4  2020-04-26T04:40:42.2198094+00:00         []  SecurityAlert\\n| take 10\\n   \n",
       "\n",
       "                                         queryResult  \\\n",
       "0  {\"TenantId\":\"52b1ab41-869e-4138-9e40-2a4457f09...   \n",
       "1  {\"TenantId\":\"52b1ab41-869e-4138-9e40-2a4457f09...   \n",
       "2  {\"TimeGenerated\":\"2020-04-17T07:55:51.003Z\",\"A...   \n",
       "3  {\"TenantId\":\"52b1ab41-869e-4138-9e40-2a4457f09...   \n",
       "4  {\"TenantId\":\"52b1ab41-869e-4138-9e40-2a4457f09...   \n",
       "\n",
       "                  queryStartTime                   queryEndTime  ...  \\\n",
       "0  2020-04-26T16:54:49.439+00:00  2020-04-27T16:54:49.439+00:00  ...   \n",
       "1  2020-04-25T04:40:38.626+00:00  2020-04-26T04:40:38.626+00:00  ...   \n",
       "2  2020-04-16T17:57:54.712+00:00  2020-04-17T17:57:54.712+00:00  ...   \n",
       "3  2020-04-25T04:40:38.626+00:00  2020-04-26T04:40:38.626+00:00  ...   \n",
       "4  2020-04-25T04:40:38.626+00:00  2020-04-26T04:40:38.626+00:00  ...   \n",
       "\n",
       "          createdBy.email    createdBy.name  \\\n",
       "0  pagoudjo@microsoft.com  100320004CA0C08B   \n",
       "1  pagoudjo@microsoft.com  100320004CA0C08B   \n",
       "2  pagoudjo@microsoft.com  100320004CA0C08B   \n",
       "3  pagoudjo@microsoft.com  100320004CA0C08B   \n",
       "4  pagoudjo@microsoft.com  100320004CA0C08B   \n",
       "\n",
       "                     updatedBy.objectId         updatedBy.email  \\\n",
       "0  ddf6375d-b314-4369-b56d-8d787b321b0e  pagoudjo@microsoft.com   \n",
       "1  ddf6375d-b314-4369-b56d-8d787b321b0e  pagoudjo@microsoft.com   \n",
       "2  ddf6375d-b314-4369-b56d-8d787b321b0e  pagoudjo@microsoft.com   \n",
       "3  ddf6375d-b314-4369-b56d-8d787b321b0e  pagoudjo@microsoft.com   \n",
       "4  ddf6375d-b314-4369-b56d-8d787b321b0e  pagoudjo@microsoft.com   \n",
       "\n",
       "     updatedBy.name               incidentInfo.incidentId  \\\n",
       "0  100320004CA0C08B  9f63476e-3605-4377-a415-7626fdda46f3   \n",
       "1  100320004CA0C08B                                  None   \n",
       "2  100320004CA0C08B  383ff7bb-23b8-4616-af93-bcd04efe89cf   \n",
       "3  100320004CA0C08B                                  None   \n",
       "4  100320004CA0C08B                                  None   \n",
       "\n",
       "                  incidentInfo.title             incidentInfo.relationName  \\\n",
       "0   SecurityAlert - ef11936a7a66 (3)  4c0a9344-c06d-49d9-b831-bc18bf2cc77a   \n",
       "1                               None                                  None   \n",
       "2  SecurityEvent - Investigate issue  abc6d40d-0b0e-4ada-b829-bafbb540eb39   \n",
       "3                               None                                  None   \n",
       "4                               None                                  None   \n",
       "\n",
       "  incidentInfo.severity  notes  \n",
       "0                Medium    NaN  \n",
       "1                  None    NaN  \n",
       "2                Medium  dfdfd  \n",
       "3                  None    NaN  \n",
       "4                  None    NaN  \n",
       "\n",
       "[5 rows x 21 columns]"
      ]
     },
     "execution_count": 12,
     "metadata": {},
     "output_type": "execute_result"
    }
   ],
   "source": [
    "bkmarks = azs.get_bookmarks(ws.value)\n",
    "bkmarks.head().drop(columns=[\"id\", \"etag\", \"name\"])"
   ]
  }
 ],
 "metadata": {
  "hide_input": false,
  "kernelspec": {
   "display_name": "Python 3",
   "language": "python",
   "name": "python3"
  },
  "language_info": {
   "codemirror_mode": {
    "name": "ipython",
    "version": 3
   },
   "file_extension": ".py",
   "mimetype": "text/x-python",
   "name": "python",
   "nbconvert_exporter": "python",
   "pygments_lexer": "ipython3",
   "version": "3.7.9"
  },
  "latex_envs": {
   "LaTeX_envs_menu_present": true,
   "autoclose": false,
   "autocomplete": true,
   "bibliofile": "biblio.bib",
   "cite_by": "apalike",
   "current_citInitial": 1,
   "eqLabelWithNumbers": true,
   "eqNumInitial": 1,
   "hotkeys": {
    "equation": "Ctrl-E",
    "itemize": "Ctrl-I"
   },
   "labels_anchors": false,
   "latex_user_defs": false,
   "report_style_numbering": false,
   "user_envs_cfg": false
  },
  "toc": {
   "base_numbering": 1,
   "nav_menu": {},
   "number_sections": false,
   "sideBar": true,
   "skip_h1_title": false,
   "title_cell": "Table of Contents",
   "title_sidebar": "Contents",
   "toc_cell": true,
   "toc_position": {},
   "toc_section_display": true,
   "toc_window_display": false
  },
  "varInspector": {
   "cols": {
    "lenName": 16,
    "lenType": 16,
    "lenVar": 40
   },
   "kernels_config": {
    "python": {
     "delete_cmd_postfix": "",
     "delete_cmd_prefix": "del ",
     "library": "var_list.py",
     "varRefreshCmd": "print(var_dic_list())"
    },
    "r": {
     "delete_cmd_postfix": ") ",
     "delete_cmd_prefix": "rm(",
     "library": "var_list.r",
     "varRefreshCmd": "cat(var_dic_list()) "
    }
   },
   "types_to_exclude": [
    "module",
    "function",
    "builtin_function_or_method",
    "instance",
    "_Feature"
   ],
   "window_display": false
  },
  "widgets": {
   "application/vnd.jupyter.widget-state+json": {
    "state": {
     "08b90ee4add8484ab03c1acc44b99976": {
      "model_module": "@jupyter-widgets/controls",
      "model_module_version": "1.5.0",
      "model_name": "DescriptionStyleModel",
      "state": {
       "description_width": "initial"
      }
     },
     "14ea48a626c74148a26d8c92cfa3015a": {
      "model_module": "@jupyter-widgets/base",
      "model_module_version": "1.2.0",
      "model_name": "LayoutModel",
      "state": {}
     },
     "1d872276dbf04c82980a4f1866a054ad": {
      "model_module": "@jupyter-widgets/controls",
      "model_module_version": "1.5.0",
      "model_name": "DescriptionStyleModel",
      "state": {
       "description_width": "initial"
      }
     },
     "1de5b682755249fc96131fadc02329b9": {
      "model_module": "@jupyter-widgets/base",
      "model_module_version": "1.2.0",
      "model_name": "LayoutModel",
      "state": {
       "height": "100px",
       "width": "50%"
      }
     },
     "1fb5f1e5254f43bc85153b12adf193cd": {
      "model_module": "@jupyter-widgets/controls",
      "model_module_version": "1.5.0",
      "model_name": "VBoxModel",
      "state": {
       "children": [
        "IPY_MODEL_c8cf7c0423de414b823cc9d75e480867",
        "IPY_MODEL_61b7dbbeb9bf4707b0c39d011a27e052"
       ],
       "layout": "IPY_MODEL_fb599543d2c548d5a1fc6c7b4af170a4"
      }
     },
     "26964b51b66642d2a8d19ae8002a1438": {
      "model_module": "@jupyter-widgets/controls",
      "model_module_version": "1.5.0",
      "model_name": "VBoxModel",
      "state": {
       "children": [
        "IPY_MODEL_cee2e794c3984a949fcd3d9d381b9a6d",
        "IPY_MODEL_e1b7a2d27fa8462ab790aa54e30b7b07"
       ],
       "layout": "IPY_MODEL_14ea48a626c74148a26d8c92cfa3015a"
      }
     },
     "3772a8ac100a43eaaca5bf4b9d2693dc": {
      "model_module": "@jupyter-widgets/controls",
      "model_module_version": "1.5.0",
      "model_name": "VBoxModel",
      "state": {
       "children": [
        "IPY_MODEL_546b41e48bde4076bebc1e585be3efc8",
        "IPY_MODEL_3b4c570903734f1f9fc471242e5f7883"
       ],
       "layout": "IPY_MODEL_aa1bf5d0370b44bb9c0725324eac0a0e"
      }
     },
     "3b4c570903734f1f9fc471242e5f7883": {
      "model_module": "@jupyter-widgets/controls",
      "model_module_version": "1.5.0",
      "model_name": "SelectModel",
      "state": {
       "_options_labels": [
        "ASIHuntOMSWorkspaceV4",
        "austeastwkspc",
        "franceworkspace",
        "koreasentinelworkspace",
        "sentinellayounes",
        "TempLAWorkspace",
        "westeuroworkspace"
       ],
       "description": "Select an item",
       "index": 0,
       "layout": "IPY_MODEL_48e7df0858dc45bc9169bd26deea715c",
       "style": "IPY_MODEL_8225cd55941741639fee6346e5adbef4"
      }
     },
     "3dea7aeedd924674be56cc0dfccab27c": {
      "model_module": "@jupyter-widgets/base",
      "model_module_version": "1.2.0",
      "model_name": "LayoutModel",
      "state": {}
     },
     "48e7df0858dc45bc9169bd26deea715c": {
      "model_module": "@jupyter-widgets/base",
      "model_module_version": "1.2.0",
      "model_name": "LayoutModel",
      "state": {
       "height": "100px",
       "width": "50%"
      }
     },
     "4b06a6363cf646cf87ad13229862374b": {
      "model_module": "@jupyter-widgets/base",
      "model_module_version": "1.2.0",
      "model_name": "LayoutModel",
      "state": {}
     },
     "4c807f3831c54f93aaba883aca3addaf": {
      "model_module": "@jupyter-widgets/controls",
      "model_module_version": "1.5.0",
      "model_name": "DescriptionStyleModel",
      "state": {
       "description_width": "initial"
      }
     },
     "546b41e48bde4076bebc1e585be3efc8": {
      "model_module": "@jupyter-widgets/controls",
      "model_module_version": "1.5.0",
      "model_name": "TextModel",
      "state": {
       "description": "Filter:",
       "layout": "IPY_MODEL_3dea7aeedd924674be56cc0dfccab27c",
       "style": "IPY_MODEL_a2152be570a84450a531f6aecda40558"
      }
     },
     "5472280dc46845dbbb87f2099ed3cd48": {
      "model_module": "@jupyter-widgets/base",
      "model_module_version": "1.2.0",
      "model_name": "LayoutModel",
      "state": {}
     },
     "5e2300a77ec14596b8bc7ca56d77fc03": {
      "model_module": "@jupyter-widgets/controls",
      "model_module_version": "1.5.0",
      "model_name": "DescriptionStyleModel",
      "state": {
       "description_width": "initial"
      }
     },
     "5eeeb4d2a40147998ac4ea28396c2b87": {
      "model_module": "@jupyter-widgets/controls",
      "model_module_version": "1.5.0",
      "model_name": "SelectModel",
      "state": {
       "_options_labels": [
        "MSFT-WindowsVirtualDesktop-01",
        "Production - Centrica Security",
        "ASI NonRedmond Hunting Demo",
        "Visual Studio Enterprise",
        "Microsoft Azure Sponsorship",
        "MSTIC Forensics PreProd",
        "AnE.ExP.Production",
        "Epic-Edge-ES-MergeResolver",
        "Rome ILDC - Amba Wolves - Dev",
        "Rome ILDC - Amba Wolves - E2E - Production",
        "OMS Security - Contoso77 demo",
        "Rome ILDC - Amba Wolves - Telemetry",
        "Cosmos_WDG_Core_BnB_100292",
        "Azure Migrate Demo Subscription",
        "Azure Migrate Program Management Team",
        "Contoso IT – SH360 – Prod",
        "Contoso Hotels - Dev",
        "Contoso IT – Retail - DevTest",
        "Microsoft Azure Sponsorship 2",
        "Contoso Infra3",
        "Contoso Infra1",
        "Contoso Dev_EUS",
        "Contoso Infra2",
        "Contoso IT – SH360 - DevTest",
        "Contoso Hotels",
        "Contoso IT - Retail - Prod",
        "Contoso IT – SH360 – Pre-Prod",
        "Contoso Dev_India",
        "MSRCSUPP Non-Express Prod CC70550",
        "TScience",
        "Security Analytics Experimental",
        "MSTIC Live TI Feeds (Pre-Prod)",
        "Rome ILDC - Detection E2E Tests Stage",
        "Microsoft Services Disaster Response",
        "COSINE-ES-FailureAnalysis",
        "Linux Microservices PROD",
        "Skype-NetEM-PROD",
        "Code generate Test and Infra",
        "DESP-APT-MTB-Prod",
        "Bing MM Measurement",
        "ServicesPortfolio MCS",
        "Edge DevTools Client",
        "ADM Dev + Test",
        "MSTIC Prod",
        "Data4ML PM",
        "VSEng Shared",
        "ddverify",
        "VSEng MadDog-RPS Telemetry",
        "CAT_Eng",
        "RPS-cloud-common-2",
        "GenDox Document Management Service",
        "Core-ES-WorkManagement",
        "AI Infra Build",
        "MSTIC Forensics Prod",
        "PADS-CE Portal",
        "ASI Hunting Demo Environment",
        "Development - Zhipeng",
        "VMAS QA/Prod"
       ],
       "description": "Select an item",
       "index": 0,
       "layout": "IPY_MODEL_1de5b682755249fc96131fadc02329b9",
       "style": "IPY_MODEL_08b90ee4add8484ab03c1acc44b99976"
      }
     },
     "61b7dbbeb9bf4707b0c39d011a27e052": {
      "model_module": "@jupyter-widgets/controls",
      "model_module_version": "1.5.0",
      "model_name": "SelectModel",
      "state": {
       "_options_labels": [
        "ASI NonRedmond Hunting Demo",
        "ASI Hunting Demo Environment"
       ],
       "description": "Select an item",
       "index": 1,
       "layout": "IPY_MODEL_72ff54c5e5dc4b5fbcc847fdd6016864",
       "style": "IPY_MODEL_5e2300a77ec14596b8bc7ca56d77fc03"
      }
     },
     "72ff54c5e5dc4b5fbcc847fdd6016864": {
      "model_module": "@jupyter-widgets/base",
      "model_module_version": "1.2.0",
      "model_name": "LayoutModel",
      "state": {
       "height": "100px",
       "width": "50%"
      }
     },
     "7354ee617b29494e8e5183ea1e27ad18": {
      "model_module": "@jupyter-widgets/controls",
      "model_module_version": "1.5.0",
      "model_name": "VBoxModel",
      "state": {
       "children": [
        "IPY_MODEL_8df46020bd3f446eaf4eee2da49602b0",
        "IPY_MODEL_5eeeb4d2a40147998ac4ea28396c2b87"
       ],
       "layout": "IPY_MODEL_f25c447268c148e0bfc0e2c9e9319bd3"
      }
     },
     "808559d711284898bbab69cc0db3ea06": {
      "model_module": "@jupyter-widgets/controls",
      "model_module_version": "1.5.0",
      "model_name": "DescriptionStyleModel",
      "state": {
       "description_width": "initial"
      }
     },
     "8225cd55941741639fee6346e5adbef4": {
      "model_module": "@jupyter-widgets/controls",
      "model_module_version": "1.5.0",
      "model_name": "DescriptionStyleModel",
      "state": {
       "description_width": "initial"
      }
     },
     "8df46020bd3f446eaf4eee2da49602b0": {
      "model_module": "@jupyter-widgets/controls",
      "model_module_version": "1.5.0",
      "model_name": "TextModel",
      "state": {
       "description": "Filter:",
       "layout": "IPY_MODEL_eb21a5e1a8ce45a99eb9240a9925f51f",
       "style": "IPY_MODEL_808559d711284898bbab69cc0db3ea06"
      }
     },
     "a2152be570a84450a531f6aecda40558": {
      "model_module": "@jupyter-widgets/controls",
      "model_module_version": "1.5.0",
      "model_name": "DescriptionStyleModel",
      "state": {
       "description_width": "initial"
      }
     },
     "aa1bf5d0370b44bb9c0725324eac0a0e": {
      "model_module": "@jupyter-widgets/base",
      "model_module_version": "1.2.0",
      "model_name": "LayoutModel",
      "state": {}
     },
     "c7ff4568c77848bdad5c35a4f3cb3f89": {
      "model_module": "@jupyter-widgets/base",
      "model_module_version": "1.2.0",
      "model_name": "LayoutModel",
      "state": {
       "height": "100px",
       "width": "50%"
      }
     },
     "c8cf7c0423de414b823cc9d75e480867": {
      "model_module": "@jupyter-widgets/controls",
      "model_module_version": "1.5.0",
      "model_name": "TextModel",
      "state": {
       "description": "Filter:",
       "layout": "IPY_MODEL_5472280dc46845dbbb87f2099ed3cd48",
       "style": "IPY_MODEL_4c807f3831c54f93aaba883aca3addaf",
       "value": "ASI"
      }
     },
     "cee2e794c3984a949fcd3d9d381b9a6d": {
      "model_module": "@jupyter-widgets/controls",
      "model_module_version": "1.5.0",
      "model_name": "TextModel",
      "state": {
       "description": "Filter:",
       "layout": "IPY_MODEL_4b06a6363cf646cf87ad13229862374b",
       "style": "IPY_MODEL_d2a6570610904277a377e0fcbf9e0d6e"
      }
     },
     "d2a6570610904277a377e0fcbf9e0d6e": {
      "model_module": "@jupyter-widgets/controls",
      "model_module_version": "1.5.0",
      "model_name": "DescriptionStyleModel",
      "state": {
       "description_width": "initial"
      }
     },
     "e1b7a2d27fa8462ab790aa54e30b7b07": {
      "model_module": "@jupyter-widgets/controls",
      "model_module_version": "1.5.0",
      "model_name": "SelectModel",
      "state": {
       "_options_labels": [
        "ASIHuntOMSWorkspaceV4",
        "austeastwkspc",
        "franceworkspace",
        "koreasentinelworkspace",
        "sentinellayounes",
        "TempLAWorkspace",
        "westeuroworkspace"
       ],
       "description": "Select an item",
       "index": 0,
       "layout": "IPY_MODEL_c7ff4568c77848bdad5c35a4f3cb3f89",
       "style": "IPY_MODEL_1d872276dbf04c82980a4f1866a054ad"
      }
     },
     "eb21a5e1a8ce45a99eb9240a9925f51f": {
      "model_module": "@jupyter-widgets/base",
      "model_module_version": "1.2.0",
      "model_name": "LayoutModel",
      "state": {}
     },
     "f25c447268c148e0bfc0e2c9e9319bd3": {
      "model_module": "@jupyter-widgets/base",
      "model_module_version": "1.2.0",
      "model_name": "LayoutModel",
      "state": {}
     },
     "fb599543d2c548d5a1fc6c7b4af170a4": {
      "model_module": "@jupyter-widgets/base",
      "model_module_version": "1.2.0",
      "model_name": "LayoutModel",
      "state": {}
     }
    },
    "version_major": 2,
    "version_minor": 0
   }
  }
 },
 "nbformat": 4,
 "nbformat_minor": 4
}
