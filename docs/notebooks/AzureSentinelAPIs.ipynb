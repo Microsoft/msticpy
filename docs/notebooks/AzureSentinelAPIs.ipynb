{
 "cells": [
  {
   "cell_type": "markdown",
   "metadata": {},
   "source": [
    "# Azure Sentinel API Calls\n",
    "\n",
    "MSTICpy versions > 0.8.5\n",
    "\n",
    "### Description\n",
    "\n",
    "This Notebook provides an example of using the Azure Sentinel API features of MSTICpy in order retrieve specific data from Azure Sentinel\n",
    "\n",
    "### Installation and imports"
   ]
  },
  {
   "cell_type": "code",
   "execution_count": null,
   "metadata": {},
   "outputs": [],
   "source": [
    "!pip install msticpy --upgrade"
   ]
  },
  {
   "cell_type": "code",
   "execution_count": null,
   "metadata": {},
   "outputs": [],
   "source": [
    "from msticpy.data.azure_sentinel import AzureSentinel\n",
    "import msticpy.nbtools.nbwidgets as widgets"
   ]
  },
  {
   "cell_type": "markdown",
   "metadata": {},
   "source": [
    "### Authentication\n",
    "The first step to be able to use the features is to call the AzureSentinel class and connect to it. Authentication uses the standardized Azure authentication options of using environment variables, Azure CLI credentials, Managed Identities, and interactive logons."
   ]
  },
  {
   "cell_type": "code",
   "execution_count": null,
   "metadata": {},
   "outputs": [],
   "source": [
    "azs = AzureSentinel()\n",
    "azs.connect()"
   ]
  },
  {
   "cell_type": "markdown",
   "metadata": {},
   "source": [
    "Once connected we need to select an Azure Sentinel workspace to get details from. The easies way to do this is with the get_subscriptions() and get_sentinel_workspaces() functions to select the subscription and workspace you with to connect to. If you already know which workspace you wish to connect to you can skip straight to the other functions and enter these details."
   ]
  },
  {
   "cell_type": "code",
   "execution_count": null,
   "metadata": {},
   "outputs": [],
   "source": [
    "subs = azs.get_subscriptions()\n",
    "print(\"Select a subscription:\")\n",
    "sub = widgets.SelectItem(item_list=subs['Display Name'].tolist(), auto_display=True)"
   ]
  },
  {
   "cell_type": "code",
   "execution_count": null,
   "metadata": {},
   "outputs": [],
   "source": [
    "sub_id = subs[subs['Display Name'] == sub.value]['Subscription ID'].iloc[0]\n",
    "workspaces = azs.get_sentinel_workspaces(sub_id)\n",
    "print(\"Select an Azure Sentinel Workspace:\")\n",
    "ws = widgets.SelectItem(item_dict=workspaces, auto_display=True)"
   ]
  },
  {
   "cell_type": "markdown",
   "metadata": {},
   "source": [
    "Now that we have selected our workspace we can call various functions to get details about content in the workspace. These are typically returned as DataFrames. Below we get a list of hunting queries configured in our workspace."
   ]
  },
  {
   "cell_type": "code",
   "execution_count": null,
   "metadata": {},
   "outputs": [],
   "source": [
    "queries = azs.get_hunting_queries(ws.value)\n",
    "queries.head()"
   ]
  },
  {
   "cell_type": "markdown",
   "metadata": {},
   "source": [
    "Hunting queries return the raw queries associated with them, this allows us to pass the query directly to a QueryProvider in order to get the results of the hunting query within the notebook."
   ]
  },
  {
   "cell_type": "code",
   "execution_count": null,
   "metadata": {},
   "outputs": [],
   "source": [
    "from msticpy.data.data_providers import QueryProvider\n",
    "from msticpy.common.wsconfig import WorkspaceConfig\n",
    "qry_prov = QueryProvider('LogAnalytics')\n",
    "wkspace = WorkspaceConfig()\n",
    "qry_prov.connect(wkspace.code_connect_str)\n",
    "qry_prov.exec_query(queries['Query'].iloc[2])"
   ]
  },
  {
   "cell_type": "markdown",
   "metadata": {},
   "source": [
    "We can also get a list of configured alert rules:"
   ]
  },
  {
   "cell_type": "code",
   "execution_count": null,
   "metadata": {},
   "outputs": [],
   "source": [
    "alert_rules = azs.get_alert_rules(ws.value)\n",
    "alert_rules.head()"
   ]
  },
  {
   "cell_type": "markdown",
   "metadata": {},
   "source": [
    "We can also get a list of saved bookmarks. To see the events these bookmarks relate to you can pass the query value to a QueryProvider."
   ]
  },
  {
   "cell_type": "code",
   "execution_count": null,
   "metadata": {},
   "outputs": [],
   "source": [
    "bkmarks = azs.get_bookmarks(ws.value)\n",
    "bkmarks.head()"
   ]
  },
  {
   "cell_type": "code",
   "execution_count": null,
   "metadata": {},
   "outputs": [],
   "source": []
  }
 ],
 "metadata": {
  "kernelspec": {
   "display_name": "Python 3",
   "language": "python",
   "name": "python3"
  },
  "language_info": {
   "codemirror_mode": {
    "name": "ipython",
    "version": 3
   },
   "file_extension": ".py",
   "mimetype": "text/x-python",
   "name": "python",
   "nbconvert_exporter": "python",
   "pygments_lexer": "ipython3",
   "version": "3.6.10"
  },
  "widgets": {
   "application/vnd.jupyter.widget-state+json": {
    "state": {
     "08b90ee4add8484ab03c1acc44b99976": {
      "model_module": "@jupyter-widgets/controls",
      "model_module_version": "1.5.0",
      "model_name": "DescriptionStyleModel",
      "state": {
       "description_width": "initial"
      }
     },
     "14ea48a626c74148a26d8c92cfa3015a": {
      "model_module": "@jupyter-widgets/base",
      "model_module_version": "1.2.0",
      "model_name": "LayoutModel",
      "state": {}
     },
     "1d872276dbf04c82980a4f1866a054ad": {
      "model_module": "@jupyter-widgets/controls",
      "model_module_version": "1.5.0",
      "model_name": "DescriptionStyleModel",
      "state": {
       "description_width": "initial"
      }
     },
     "1de5b682755249fc96131fadc02329b9": {
      "model_module": "@jupyter-widgets/base",
      "model_module_version": "1.2.0",
      "model_name": "LayoutModel",
      "state": {
       "height": "100px",
       "width": "50%"
      }
     },
     "1fb5f1e5254f43bc85153b12adf193cd": {
      "model_module": "@jupyter-widgets/controls",
      "model_module_version": "1.5.0",
      "model_name": "VBoxModel",
      "state": {
       "children": [
        "IPY_MODEL_c8cf7c0423de414b823cc9d75e480867",
        "IPY_MODEL_61b7dbbeb9bf4707b0c39d011a27e052"
       ],
       "layout": "IPY_MODEL_fb599543d2c548d5a1fc6c7b4af170a4"
      }
     },
     "26964b51b66642d2a8d19ae8002a1438": {
      "model_module": "@jupyter-widgets/controls",
      "model_module_version": "1.5.0",
      "model_name": "VBoxModel",
      "state": {
       "children": [
        "IPY_MODEL_cee2e794c3984a949fcd3d9d381b9a6d",
        "IPY_MODEL_e1b7a2d27fa8462ab790aa54e30b7b07"
       ],
       "layout": "IPY_MODEL_14ea48a626c74148a26d8c92cfa3015a"
      }
     },
     "3772a8ac100a43eaaca5bf4b9d2693dc": {
      "model_module": "@jupyter-widgets/controls",
      "model_module_version": "1.5.0",
      "model_name": "VBoxModel",
      "state": {
       "children": [
        "IPY_MODEL_546b41e48bde4076bebc1e585be3efc8",
        "IPY_MODEL_3b4c570903734f1f9fc471242e5f7883"
       ],
       "layout": "IPY_MODEL_aa1bf5d0370b44bb9c0725324eac0a0e"
      }
     },
     "3b4c570903734f1f9fc471242e5f7883": {
      "model_module": "@jupyter-widgets/controls",
      "model_module_version": "1.5.0",
      "model_name": "SelectModel",
      "state": {
       "_options_labels": [
        "ASIHuntOMSWorkspaceV4",
        "austeastwkspc",
        "franceworkspace",
        "koreasentinelworkspace",
        "sentinellayounes",
        "TempLAWorkspace",
        "westeuroworkspace"
       ],
       "description": "Select an item",
       "index": 0,
       "layout": "IPY_MODEL_48e7df0858dc45bc9169bd26deea715c",
       "style": "IPY_MODEL_8225cd55941741639fee6346e5adbef4"
      }
     },
     "3dea7aeedd924674be56cc0dfccab27c": {
      "model_module": "@jupyter-widgets/base",
      "model_module_version": "1.2.0",
      "model_name": "LayoutModel",
      "state": {}
     },
     "48e7df0858dc45bc9169bd26deea715c": {
      "model_module": "@jupyter-widgets/base",
      "model_module_version": "1.2.0",
      "model_name": "LayoutModel",
      "state": {
       "height": "100px",
       "width": "50%"
      }
     },
     "4b06a6363cf646cf87ad13229862374b": {
      "model_module": "@jupyter-widgets/base",
      "model_module_version": "1.2.0",
      "model_name": "LayoutModel",
      "state": {}
     },
     "4c807f3831c54f93aaba883aca3addaf": {
      "model_module": "@jupyter-widgets/controls",
      "model_module_version": "1.5.0",
      "model_name": "DescriptionStyleModel",
      "state": {
       "description_width": "initial"
      }
     },
     "546b41e48bde4076bebc1e585be3efc8": {
      "model_module": "@jupyter-widgets/controls",
      "model_module_version": "1.5.0",
      "model_name": "TextModel",
      "state": {
       "description": "Filter:",
       "layout": "IPY_MODEL_3dea7aeedd924674be56cc0dfccab27c",
       "style": "IPY_MODEL_a2152be570a84450a531f6aecda40558"
      }
     },
     "5472280dc46845dbbb87f2099ed3cd48": {
      "model_module": "@jupyter-widgets/base",
      "model_module_version": "1.2.0",
      "model_name": "LayoutModel",
      "state": {}
     },
     "5e2300a77ec14596b8bc7ca56d77fc03": {
      "model_module": "@jupyter-widgets/controls",
      "model_module_version": "1.5.0",
      "model_name": "DescriptionStyleModel",
      "state": {
       "description_width": "initial"
      }
     },
     "5eeeb4d2a40147998ac4ea28396c2b87": {
      "model_module": "@jupyter-widgets/controls",
      "model_module_version": "1.5.0",
      "model_name": "SelectModel",
      "state": {
       "_options_labels": [
        "MSFT-WindowsVirtualDesktop-01",
        "Production - Centrica Security",
        "ASI NonRedmond Hunting Demo",
        "Visual Studio Enterprise",
        "Microsoft Azure Sponsorship",
        "MSTIC Forensics PreProd",
        "AnE.ExP.Production",
        "Epic-Edge-ES-MergeResolver",
        "Rome ILDC - Amba Wolves - Dev",
        "Rome ILDC - Amba Wolves - E2E - Production",
        "OMS Security - Contoso77 demo",
        "Rome ILDC - Amba Wolves - Telemetry",
        "Cosmos_WDG_Core_BnB_100292",
        "Azure Migrate Demo Subscription",
        "Azure Migrate Program Management Team",
        "Contoso IT – SH360 – Prod",
        "Contoso Hotels - Dev",
        "Contoso IT – Retail - DevTest",
        "Microsoft Azure Sponsorship 2",
        "Contoso Infra3",
        "Contoso Infra1",
        "Contoso Dev_EUS",
        "Contoso Infra2",
        "Contoso IT – SH360 - DevTest",
        "Contoso Hotels",
        "Contoso IT - Retail - Prod",
        "Contoso IT – SH360 – Pre-Prod",
        "Contoso Dev_India",
        "MSRCSUPP Non-Express Prod CC70550",
        "TScience",
        "Security Analytics Experimental",
        "MSTIC Live TI Feeds (Pre-Prod)",
        "Rome ILDC - Detection E2E Tests Stage",
        "Microsoft Services Disaster Response",
        "COSINE-ES-FailureAnalysis",
        "Linux Microservices PROD",
        "Skype-NetEM-PROD",
        "Code generate Test and Infra",
        "DESP-APT-MTB-Prod",
        "Bing MM Measurement",
        "ServicesPortfolio MCS",
        "Edge DevTools Client",
        "ADM Dev + Test",
        "MSTIC Prod",
        "Data4ML PM",
        "VSEng Shared",
        "ddverify",
        "VSEng MadDog-RPS Telemetry",
        "CAT_Eng",
        "RPS-cloud-common-2",
        "GenDox Document Management Service",
        "Core-ES-WorkManagement",
        "AI Infra Build",
        "MSTIC Forensics Prod",
        "PADS-CE Portal",
        "ASI Hunting Demo Environment",
        "Development - Zhipeng",
        "VMAS QA/Prod"
       ],
       "description": "Select an item",
       "index": 0,
       "layout": "IPY_MODEL_1de5b682755249fc96131fadc02329b9",
       "style": "IPY_MODEL_08b90ee4add8484ab03c1acc44b99976"
      }
     },
     "61b7dbbeb9bf4707b0c39d011a27e052": {
      "model_module": "@jupyter-widgets/controls",
      "model_module_version": "1.5.0",
      "model_name": "SelectModel",
      "state": {
       "_options_labels": [
        "ASI NonRedmond Hunting Demo",
        "ASI Hunting Demo Environment"
       ],
       "description": "Select an item",
       "index": 1,
       "layout": "IPY_MODEL_72ff54c5e5dc4b5fbcc847fdd6016864",
       "style": "IPY_MODEL_5e2300a77ec14596b8bc7ca56d77fc03"
      }
     },
     "72ff54c5e5dc4b5fbcc847fdd6016864": {
      "model_module": "@jupyter-widgets/base",
      "model_module_version": "1.2.0",
      "model_name": "LayoutModel",
      "state": {
       "height": "100px",
       "width": "50%"
      }
     },
     "7354ee617b29494e8e5183ea1e27ad18": {
      "model_module": "@jupyter-widgets/controls",
      "model_module_version": "1.5.0",
      "model_name": "VBoxModel",
      "state": {
       "children": [
        "IPY_MODEL_8df46020bd3f446eaf4eee2da49602b0",
        "IPY_MODEL_5eeeb4d2a40147998ac4ea28396c2b87"
       ],
       "layout": "IPY_MODEL_f25c447268c148e0bfc0e2c9e9319bd3"
      }
     },
     "808559d711284898bbab69cc0db3ea06": {
      "model_module": "@jupyter-widgets/controls",
      "model_module_version": "1.5.0",
      "model_name": "DescriptionStyleModel",
      "state": {
       "description_width": "initial"
      }
     },
     "8225cd55941741639fee6346e5adbef4": {
      "model_module": "@jupyter-widgets/controls",
      "model_module_version": "1.5.0",
      "model_name": "DescriptionStyleModel",
      "state": {
       "description_width": "initial"
      }
     },
     "8df46020bd3f446eaf4eee2da49602b0": {
      "model_module": "@jupyter-widgets/controls",
      "model_module_version": "1.5.0",
      "model_name": "TextModel",
      "state": {
       "description": "Filter:",
       "layout": "IPY_MODEL_eb21a5e1a8ce45a99eb9240a9925f51f",
       "style": "IPY_MODEL_808559d711284898bbab69cc0db3ea06"
      }
     },
     "a2152be570a84450a531f6aecda40558": {
      "model_module": "@jupyter-widgets/controls",
      "model_module_version": "1.5.0",
      "model_name": "DescriptionStyleModel",
      "state": {
       "description_width": "initial"
      }
     },
     "aa1bf5d0370b44bb9c0725324eac0a0e": {
      "model_module": "@jupyter-widgets/base",
      "model_module_version": "1.2.0",
      "model_name": "LayoutModel",
      "state": {}
     },
     "c7ff4568c77848bdad5c35a4f3cb3f89": {
      "model_module": "@jupyter-widgets/base",
      "model_module_version": "1.2.0",
      "model_name": "LayoutModel",
      "state": {
       "height": "100px",
       "width": "50%"
      }
     },
     "c8cf7c0423de414b823cc9d75e480867": {
      "model_module": "@jupyter-widgets/controls",
      "model_module_version": "1.5.0",
      "model_name": "TextModel",
      "state": {
       "description": "Filter:",
       "layout": "IPY_MODEL_5472280dc46845dbbb87f2099ed3cd48",
       "style": "IPY_MODEL_4c807f3831c54f93aaba883aca3addaf",
       "value": "ASI"
      }
     },
     "cee2e794c3984a949fcd3d9d381b9a6d": {
      "model_module": "@jupyter-widgets/controls",
      "model_module_version": "1.5.0",
      "model_name": "TextModel",
      "state": {
       "description": "Filter:",
       "layout": "IPY_MODEL_4b06a6363cf646cf87ad13229862374b",
       "style": "IPY_MODEL_d2a6570610904277a377e0fcbf9e0d6e"
      }
     },
     "d2a6570610904277a377e0fcbf9e0d6e": {
      "model_module": "@jupyter-widgets/controls",
      "model_module_version": "1.5.0",
      "model_name": "DescriptionStyleModel",
      "state": {
       "description_width": "initial"
      }
     },
     "e1b7a2d27fa8462ab790aa54e30b7b07": {
      "model_module": "@jupyter-widgets/controls",
      "model_module_version": "1.5.0",
      "model_name": "SelectModel",
      "state": {
       "_options_labels": [
        "ASIHuntOMSWorkspaceV4",
        "austeastwkspc",
        "franceworkspace",
        "koreasentinelworkspace",
        "sentinellayounes",
        "TempLAWorkspace",
        "westeuroworkspace"
       ],
       "description": "Select an item",
       "index": 0,
       "layout": "IPY_MODEL_c7ff4568c77848bdad5c35a4f3cb3f89",
       "style": "IPY_MODEL_1d872276dbf04c82980a4f1866a054ad"
      }
     },
     "eb21a5e1a8ce45a99eb9240a9925f51f": {
      "model_module": "@jupyter-widgets/base",
      "model_module_version": "1.2.0",
      "model_name": "LayoutModel",
      "state": {}
     },
     "f25c447268c148e0bfc0e2c9e9319bd3": {
      "model_module": "@jupyter-widgets/base",
      "model_module_version": "1.2.0",
      "model_name": "LayoutModel",
      "state": {}
     },
     "fb599543d2c548d5a1fc6c7b4af170a4": {
      "model_module": "@jupyter-widgets/base",
      "model_module_version": "1.2.0",
      "model_name": "LayoutModel",
      "state": {}
     }
    },
    "version_major": 2,
    "version_minor": 0
   }
  }
 },
 "nbformat": 4,
 "nbformat_minor": 4
}