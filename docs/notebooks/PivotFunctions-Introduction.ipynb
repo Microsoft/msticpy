{
 "cells": [
  {
   "cell_type": "markdown",
   "metadata": {},
   "source": [
    "# MSTICPy Pivot Functions\n",
    "\n",
    "We recently released a new version of *MSTICPy* with a feature called **Pivot functions**.\n",
    "\n",
    "This feature has three main goals:\n",
    "- Making it easy to discover and invoke *MSTICPy* functionality\n",
    "- Creating a standardized way to call pivotable functions\n",
    "- Letting you assemble multiple functions into re-usable pipelines.\n",
    "\n",
    "Here are a couple of examples showing calling different kinds of\n",
    "enrichment functions from the IpAddress entity:\n",
    "\n",
    "```python\n",
    "\n",
    "    >>> from msticpy.datamodel.entities import IpAddress, Host\n",
    "    >>> IpAddress.util.ip_type(ip_str=\"157.53.1.1\"))\n",
    "    ip          result\n",
    "    157.53.1.1  Public\n",
    "\n",
    "    >>> IpAddress.util.whois(\"157.53.1.1\"))\n",
    "    asn  asn_cidr  asn_country_code  asn_date    asn_description  asn_registry  nets .....\n",
    "    NA   NA        US                2015-04-01  NA               arin          [{'cidr': '157.53.0.0/16'...\n",
    "\n",
    "    >>> IpAddress.util.geoloc_mm(value=\"157.53.1.1\"))\n",
    "    CountryCode  CountryName    State   City   Longitude   Latitude   Asn...\n",
    "    US           United States  None    None   -97.822     37.751     None...\n",
    "```\n",
    "\n",
    "This second example shows a pivot function that does a data query for host\n",
    "logon events from a Host entity.\n",
    "\n",
    "```python\n",
    "    >>> Host.AzureSentinel.list_host_logons(host_name=\"VictimPc\")\n",
    "    Account               EventID   TimeGenerated                      Computer                 SubjectUserName   SubjectDomainName\n",
    "    NT AUTHORITY\\SYSTEM   4624      2020-10-01 22:39:36.987000+00:00   VictimPc.Contoso.Azure   VictimPc$         CONTOSO\n",
    "    NT AUTHORITY\\SYSTEM   4624      2020-10-01 22:39:37.220000+00:00   VictimPc.Contoso.Azure   VictimPc$         CONTOSO\n",
    "    NT AUTHORITY\\SYSTEM   4624      2020-10-01 22:39:42.603000+00:00   VictimPc.Contoso.Azure   VictimPc$         CONTOSO\n",
    "```\n",
    "\n",
    "The pivot functionality exposes operations relevant to a particular\n",
    "entity as methods (or functions) of that entity. These operations include:\n",
    "\n",
    "-  Data queries\n",
    "-  Threat intelligence lookups\n",
    "-  Other data lookups such as geo-location or domain resolution\n",
    "-  and other local functionality\n",
    "\n",
    "You can also add other functions from 3rd party Python packages or\n",
    "ones you write yourself as pivot functions.\n",
    "\n",
    "\n",
    "## Terminology\n",
    "Before we get into things let's clear up a few terms.\n",
    "\n",
    "### Entities\n",
    "These are Python classes that represent real-world objects\n",
    "commonly encountered in CyberSec investigations and hunting. E.g. Host,\n",
    "URL, IP Address, Account, etc.\n",
    "\n",
    "### Pivoting\n",
    "This comes from the common practice in CyberSec investigations\n",
    "of navigating from one suspect entity to another. E.g. you might start\n",
    "with an alert identifying a potentially malicious IP Address, from there you\n",
    "'pivot' to see which hosts or accounts were communicating with that \n",
    "address. From there you might pivot again to look at processes running on\n",
    "the host or Office activity for the account."
   ]
  },
  {
   "cell_type": "markdown",
   "metadata": {},
   "source": [
    "## Background Reading"
   ]
  },
  {
   "cell_type": "markdown",
   "metadata": {},
   "source": [
    "This article is available in Notebook form so that you can try out the examples. [TODO]\n",
    "\n",
    "There is also full documenation of the Pivot functionality on our [ReadtheDocs page](https://msticpy.readthedocs.io/en/latest/data_analysis/PivotFunctions.html)"
   ]
  },
  {
   "cell_type": "markdown",
   "metadata": {},
   "source": [
    "<hr>\n",
    "\n",
    "## Life before pivot functions\n",
    "\n",
    "Before Pivot functions your ability to use the various bits of\n",
    "functionality in *MSTICPy* was always bounded by you knowledge of\n",
    "where a certain function was (or your enthusiasm for reading the docs).\n",
    "\n",
    "For example, suppose you had an IP address that you wanted to do \n",
    "some simple enrichment on."
   ]
  },
  {
   "cell_type": "code",
   "execution_count": 2,
   "metadata": {},
   "outputs": [],
   "source": [
    "ip_addr = \"20.72.193.242\""
   ]
  },
  {
   "cell_type": "markdown",
   "metadata": {},
   "source": [
    "First you'd need to locate and import the functions. There\n",
    "might also be (as in the GeoIPLiteLookup class) some initialization\n",
    "step you'd need to do before using the functionality."
   ]
  },
  {
   "cell_type": "code",
   "execution_count": 3,
   "metadata": {},
   "outputs": [],
   "source": [
    "from msticpy.sectools.ip_utils import get_ip_type\n",
    "from msticpy.sectools.ip_utils import get_whois_info\n",
    "from msticpy.sectools.geoip import GeoLiteLookup\n",
    "geoip = GeoLiteLookup()"
   ]
  },
  {
   "cell_type": "markdown",
   "metadata": {},
   "source": [
    "Next you might have to check the help for each function to\n",
    "work it parameters."
   ]
  },
  {
   "cell_type": "code",
   "execution_count": 4,
   "metadata": {},
   "outputs": [
    {
     "name": "stdout",
     "output_type": "stream",
     "text": [
      "Help on function get_ip_type in module msticpy.sectools.ip_utils:\n",
      "\n",
      "get_ip_type(ip: str = None, ip_str: str = None) -> str\n",
      "    Validate value is an IP address and deteremine IPType category.\n",
      "    \n",
      "    (IPAddress category is e.g. Private/Public/Multicast).\n",
      "    \n",
      "    Parameters\n",
      "    ----------\n",
      "    ip : str\n",
      "        The string of the IP Address\n",
      "    ip_str : str\n",
      "        The string of the IP Address - alias for `ip`\n",
      "    \n",
      "    Returns\n",
      "    -------\n",
      "    str\n",
      "        Returns ip type string using ip address module\n",
      "\n"
     ]
    }
   ],
   "source": [
    "help(get_ip_type)"
   ]
  },
  {
   "cell_type": "markdown",
   "metadata": {},
   "source": [
    "Then finally run the functions"
   ]
  },
  {
   "cell_type": "code",
   "execution_count": 5,
   "metadata": {},
   "outputs": [
    {
     "data": {
      "text/plain": [
       "'Public'"
      ]
     },
     "execution_count": 5,
     "metadata": {},
     "output_type": "execute_result"
    }
   ],
   "source": [
    "get_ip_type(ip_addr)"
   ]
  },
  {
   "cell_type": "code",
   "execution_count": 6,
   "metadata": {},
   "outputs": [
    {
     "data": {
      "text/plain": [
       "('MICROSOFT-CORP-MSN-AS-BLOCK, US',\n",
       " {'nir': None,\n",
       "  'asn_registry': 'arin',\n",
       "  'asn': '8075',\n",
       "  'asn_cidr': '20.64.0.0/10',\n",
       "  'asn_country_code': 'US',\n",
       "  'asn_date': '2017-10-18',\n",
       "  'asn_description': 'MICROSOFT-CORP-MSN-AS-BLOCK, US',\n",
       "  'query': '20.72.193.242',\n",
       "  'nets': [{'cidr': '20.34.0.0/15, 20.128.0.0/16, 20.40.0.0/13, 20.33.0.0/16, 20.64.0.0/10, 20.36.0.0/14, 20.48.0.0/12',\n",
       "    'name': 'MSFT',\n",
       "    'handle': 'NET-20-33-0-0-1',\n",
       "    'range': '20.33.0.0 - 20.128.255.255',\n",
       "    'description': 'Microsoft Corporation',\n",
       "    'country': 'US',\n",
       "    'state': 'WA',\n",
       "    'city': 'Redmond',\n",
       "    'address': 'One Microsoft Way',\n",
       "    'postal_code': '98052',\n",
       "    'emails': ['msndcc@microsoft.com',\n",
       "     'IOC@microsoft.com',\n",
       "     'abuse@microsoft.com'],\n",
       "    'created': '2017-10-18',\n",
       "    'updated': '2017-10-18'}],\n",
       "  'raw': None,\n",
       "  'referral': None,\n",
       "  'raw_referral': None})"
      ]
     },
     "execution_count": 6,
     "metadata": {},
     "output_type": "execute_result"
    }
   ],
   "source": [
    "get_whois_info(ip_addr)"
   ]
  },
  {
   "cell_type": "code",
   "execution_count": 8,
   "metadata": {},
   "outputs": [
    {
     "data": {
      "text/plain": [
       "([{'continent': {'code': 'NA',\n",
       "    'geoname_id': 6255149,\n",
       "    'names': {'de': 'Nordamerika',\n",
       "     'en': 'North America',\n",
       "     'es': 'Norteamérica',\n",
       "     'fr': 'Amérique du Nord',\n",
       "     'ja': '北アメリカ',\n",
       "     'pt-BR': 'América do Norte',\n",
       "     'ru': 'Северная Америка',\n",
       "     'zh-CN': '北美洲'}},\n",
       "   'country': {'geoname_id': 6252001,\n",
       "    'iso_code': 'US',\n",
       "    'names': {'de': 'USA',\n",
       "     'en': 'United States',\n",
       "     'es': 'Estados Unidos',\n",
       "     'fr': 'États-Unis',\n",
       "     'ja': 'アメリカ合衆国',\n",
       "     'pt-BR': 'Estados Unidos',\n",
       "     'ru': 'США',\n",
       "     'zh-CN': '美国'}},\n",
       "   'location': {'accuracy_radius': 1000,\n",
       "    'latitude': 47.6032,\n",
       "    'longitude': -122.3412,\n",
       "    'time_zone': 'America/Los_Angeles'},\n",
       "   'registered_country': {'geoname_id': 6252001,\n",
       "    'iso_code': 'US',\n",
       "    'names': {'de': 'USA',\n",
       "     'en': 'United States',\n",
       "     'es': 'Estados Unidos',\n",
       "     'fr': 'États-Unis',\n",
       "     'ja': 'アメリカ合衆国',\n",
       "     'pt-BR': 'Estados Unidos',\n",
       "     'ru': 'США',\n",
       "     'zh-CN': '美国'}},\n",
       "   'subdivisions': [{'geoname_id': 5815135,\n",
       "     'iso_code': 'WA',\n",
       "     'names': {'en': 'Washington',\n",
       "      'es': 'Washington',\n",
       "      'fr': 'Washington',\n",
       "      'ja': 'ワシントン州',\n",
       "      'ru': 'Вашингтон',\n",
       "      'zh-CN': '华盛顿州'}}],\n",
       "   'traits': {'ip_address': '20.72.193.242', 'prefix_len': 18}}],\n",
       " [IpAddress(Address=20.72.193.242, Location={ 'AdditionalData': {},\n",
       "    'CountryCode': 'US',\n",
       "   ...)])"
      ]
     },
     "execution_count": 8,
     "metadata": {},
     "output_type": "execute_result"
    }
   ],
   "source": [
    "geoip.lookup_ip(ip_addr)"
   ]
  },
  {
   "cell_type": "markdown",
   "metadata": {},
   "source": [
    "At which point you'd discover that the output from each\n",
    "function was somewhat raw and it would take a bit more\n",
    "work if you wanted to combine it in any way (say in a single table).\n",
    "\n",
    "We'll see how pivot functions address these problems in the remainder\n",
    "of the notebook."
   ]
  },
  {
   "cell_type": "markdown",
   "metadata": {},
   "source": [
    "## Getting Started with Pivot functions\n",
    "Typically we use *MSTICPy*'s `init_notebook` function that handles\n",
    "checking versions and importing some commonly-used packages and modules\n",
    "(both *MSTICPy* and 3rd party packages like *pandas*"
   ]
  },
  {
   "cell_type": "code",
   "execution_count": 1,
   "metadata": {},
   "outputs": [
    {
     "name": "stdout",
     "output_type": "stream",
     "text": [
      "Processing imports....\n",
      "Checking configuration....\n",
      "No errors found.\n",
      "No warnings found.\n",
      "Setting notebook options....\n"
     ]
    },
    {
     "data": {
      "text/html": [
       "<h3>Notebook setup complete</h3>"
      ],
      "text/plain": [
       "<IPython.core.display.HTML object>"
      ]
     },
     "metadata": {},
     "output_type": "display_data"
    }
   ],
   "source": [
    "from msticpy.nbtools.nbinit import init_notebook\n",
    "init_notebook(namespace=globals());"
   ]
  },
  {
   "cell_type": "markdown",
   "metadata": {},
   "source": [
    "There are some preliminary steps needed before you can use\n",
    "pivot functions. The main one is loading the `Pivot` class.\n",
    "Pivot functions are added to the entities dynamically. The Pivot\n",
    "class will try to discover relevant functions from queries, \n",
    "Threat Intel providers and various utility functions.\n",
    "\n",
    "In some cases, notably data queries, the data query functions\n",
    "are themselves created dynamically, so these need to be loaded\n",
    "before you create the Pivot class. (You can always create a new instance\n",
    "of this class, which forces re-discovery, so don't worry if mess up\n",
    "the order of things).\n",
    "\n",
    "> Note in most cases we don't need to connect/authenticate to\n",
    "> a data provider prior to loading *Pivot*\n",
    "\n",
    "Let's load our data query provider for AzureSentinel"
   ]
  },
  {
   "cell_type": "code",
   "execution_count": 9,
   "metadata": {},
   "outputs": [
    {
     "name": "stdout",
     "output_type": "stream",
     "text": [
      "Please wait. Loading Kqlmagic extension...\n"
     ]
    },
    {
     "data": {
      "application/javascript": [
       "try {IPython.notebook.kernel.reconnect();} catch(err) {;}"
      ],
      "text/plain": [
       "<IPython.core.display.Javascript object>"
      ]
     },
     "metadata": {},
     "output_type": "display_data"
    },
    {
     "data": {
      "application/javascript": [
       "try {IPython.notebook.kernel.execute(\"NOTEBOOK_URL = '\" + window.location + \"'\");} catch(err) {;}"
      ],
      "text/plain": [
       "<IPython.core.display.Javascript object>"
      ]
     },
     "metadata": {},
     "output_type": "display_data"
    }
   ],
   "source": [
    "az_provider = QueryProvider(\"AzureSentinel\")"
   ]
  },
  {
   "cell_type": "markdown",
   "metadata": {},
   "source": [
    "Now we can load and instantiate the Pivot class.\n",
    "\n",
    "Why do we need to pass `namespace=globals()`?\n",
    "Pivot searches through the current objects defined in the Python/notebook\n",
    "namespace. This is most relevant for QueryProviders. In most other cases\n",
    "(like GeoIP and ThreatIntel providers, it will create new ones if it\n",
    "can't find existing ones)."
   ]
  },
  {
   "cell_type": "code",
   "execution_count": 10,
   "metadata": {},
   "outputs": [
    {
     "name": "stdout",
     "output_type": "stream",
     "text": [
      "Using Open PageRank. See https://www.domcop.com/openpagerank/what-is-openpagerank\n"
     ]
    },
    {
     "data": {
      "text/html": [
       "\n",
       "This library uses services provided by ipstack.\n",
       "<a href=\"https://ipstack.com\">https://ipstack.com</a>"
      ],
      "text/plain": [
       "<IPython.core.display.HTML object>"
      ]
     },
     "metadata": {},
     "output_type": "display_data"
    }
   ],
   "source": [
    "from msticpy.datamodel.pivot import Pivot\n",
    "pivot = Pivot(namespace=globals())"
   ]
  },
  {
   "cell_type": "markdown",
   "metadata": {},
   "source": [
    "## Easy discovery of functionality"
   ]
  },
  {
   "cell_type": "markdown",
   "metadata": {},
   "source": [
    "### Find the entity name you need\n",
    "\n",
    "The simplest way to do this is simply enumerate (`dir`) the\n",
    "contents of the *MSTPCPy* entities sub-package. This should\n",
    "have already been imported by the `init_notebook` function that\n",
    "we ran earlier.\n",
    "\n",
    "The items at the beginning of the list with proper capitalization are\n",
    "the entities."
   ]
  },
  {
   "cell_type": "code",
   "execution_count": 11,
   "metadata": {},
   "outputs": [
    {
     "data": {
      "text/plain": [
       "['Account',\n",
       " 'Alert',\n",
       " 'Algorithm',\n",
       " 'AzureResource',\n",
       " 'CloudApplication',\n",
       " 'Dns',\n",
       " 'ElevationToken',\n",
       " 'Entity',\n",
       " 'File',\n",
       " 'FileHash',\n",
       " 'GeoLocation',\n",
       " 'Host',\n",
       " 'HostLogonSession',\n",
       " 'IpAddress',\n",
       " 'Malware',\n",
       " 'NetworkConnection',\n",
       " 'OSFamily',\n",
       " 'Process',\n",
       " 'RegistryHive',\n",
       " 'RegistryKey',\n",
       " 'RegistryValue',\n",
       " 'SecurityGroup',\n",
       " 'Threatintelligence',\n",
       " 'UnknownEntity',\n",
       " 'Url',\n",
       " '__builtins__',\n",
       " '__cached__',\n",
       " '__doc__',\n",
       " '__file__',\n",
       " '__loader__',\n",
       " '__name__',\n",
       " '__package__',\n",
       " '__path__',\n",
       " '__spec__',\n",
       " 'account',\n",
       " 'alert',\n",
       " 'azure_resource',\n",
       " 'cloud_application',\n",
       " 'difflib',\n",
       " 'dns',\n",
       " 'entity',\n",
       " 'entity_enums',\n",
       " 'entity_graph',\n",
       " 'file',\n",
       " 'file_hash',\n",
       " 'find_entity',\n",
       " 'geo_location',\n",
       " 'host',\n",
       " 'host_logon_session',\n",
       " 'ip_address',\n",
       " 'malware',\n",
       " 'network_connection',\n",
       " 'process',\n",
       " 'registry_key',\n",
       " 'registry_value',\n",
       " 'security_group',\n",
       " 'threat_intelligence',\n",
       " 'unknown_entity',\n",
       " 'url']"
      ]
     },
     "execution_count": 11,
     "metadata": {},
     "output_type": "execute_result"
    }
   ],
   "source": [
    "dir(entities)"
   ]
  },
  {
   "cell_type": "markdown",
   "metadata": {},
   "source": [
    "We're going to make this a little easier in a forthcoming\n",
    "update with this helper function.\n",
    "> <p style=\"color:red\"><b>Warning:</b> post-0.9.0 functionality</p>\n",
    "> This will throw and error in v0.9.0 of MSTICPy"
   ]
  },
  {
   "cell_type": "code",
   "execution_count": 12,
   "metadata": {},
   "outputs": [
    {
     "name": "stdout",
     "output_type": "stream",
     "text": [
      "Match found 'IpAddress'\n"
     ]
    },
    {
     "data": {
      "text/plain": [
       "msticpy.datamodel.entities.ip_address.IpAddress"
      ]
     },
     "execution_count": 12,
     "metadata": {},
     "output_type": "execute_result"
    }
   ],
   "source": [
    "entities.find_entity(\"ip\")"
   ]
  },
  {
   "cell_type": "code",
   "execution_count": 13,
   "metadata": {},
   "outputs": [
    {
     "name": "stdout",
     "output_type": "stream",
     "text": [
      "No exact match found for 'azure'. \n",
      "Closest matches are 'AzureResource', 'Url', 'Malware'\n"
     ]
    }
   ],
   "source": [
    "entities.find_entity(\"azure\")"
   ]
  },
  {
   "cell_type": "markdown",
   "metadata": {},
   "source": [
    "## Listing pivot functions available for an entity\n",
    "\n",
    "Note you can always address an entity using its qualified\n",
    "path, e.g. `entities.IpAddress` but if you are going\n",
    "to use one or two entities a lot it will save a bit of typing\n",
    "if you import them explicitly.\n"
   ]
  },
  {
   "cell_type": "code",
   "execution_count": 83,
   "metadata": {},
   "outputs": [],
   "source": [
    "from msticpy.datamodel.entities import IpAddress, Host"
   ]
  },
  {
   "cell_type": "markdown",
   "metadata": {},
   "source": [
    "Once you have the entity you can use the `get_pivot_list()`\n",
    "function to see which pivot functions are available for it."
   ]
  },
  {
   "cell_type": "code",
   "execution_count": 84,
   "metadata": {},
   "outputs": [
    {
     "data": {
      "text/plain": [
       "['AzureSentinel.SecurityAlert_list_alerts_for_ip',\n",
       " 'AzureSentinel.SigninLogs_list_aad_signins_for_ip',\n",
       " 'AzureSentinel.AzureActivity_list_azure_activity_for_ip',\n",
       " 'AzureSentinel.AzureNetworkAnalytics_CL_list_azure_network_flows_by_ip',\n",
       " 'AzureSentinel.OfficeActivity_list_activity_for_ip',\n",
       " 'AzureSentinel.AzureNetworkAnalytics_CL_get_host_for_ip',\n",
       " 'AzureSentinel.Heartbeat_get_heartbeat_for_ip',\n",
       " 'AzureSentinel.Heartbeat_get_info_by_ipaddress',\n",
       " 'AzureSentinel.Syslog_list_logons_for_source_ip',\n",
       " 'AzureSentinel.ThreatIntelligenceIndicator_list_indicators',\n",
       " 'AzureSentinel.ThreatIntelligenceIndicator_list_indicators_by_ip',\n",
       " 'AzureSentinel.ThreatIntelligenceIndicator_list_indicators_by_hash',\n",
       " 'AzureSentinel.ThreatIntelligenceIndicator_list_indicators_by_filepath',\n",
       " 'AzureSentinel.ThreatIntelligenceIndicator_list_indicators_by_domain',\n",
       " 'AzureSentinel.ThreatIntelligenceIndicator_list_indicators_by_email',\n",
       " 'AzureSentinel.ThreatIntelligenceIndicator_list_indicators_by_url',\n",
       " 'ti.lookup_ip',\n",
       " 'ti.lookup_ipv4',\n",
       " 'ti.lookup_ipv4_OTX',\n",
       " 'ti.lookup_ipv4_Tor',\n",
       " 'ti.lookup_ipv4_VirusTotal',\n",
       " 'ti.lookup_ipv4_XForce',\n",
       " 'ti.lookup_ipv6',\n",
       " 'ti.lookup_ipv6_OTX',\n",
       " 'util.whois',\n",
       " 'util.ip_type',\n",
       " 'util.ip_rev_resolve',\n",
       " 'util.geoloc_mm',\n",
       " 'util.geoloc_ips']"
      ]
     },
     "execution_count": 84,
     "metadata": {},
     "output_type": "execute_result"
    }
   ],
   "source": [
    "IpAddress.get_pivot_list()"
   ]
  },
  {
   "cell_type": "markdown",
   "metadata": {},
   "source": [
    "Some of the function names are a little unweildy but, in \n",
    "many cases, this is necessary to avoid name collisions.\n",
    "You might notice from the list that the functions are\n",
    "grouped into containers \"AzureSentinel\", \"ti\" and \"util\" in \n",
    "the above example.\n",
    "\n",
    "Although this makes the function name even longer we thought\n",
    "that this helped to keep related functionality together - so\n",
    "you don't get a TI lookup, when you thought you were running\n",
    "a query.\n",
    "\n",
    "Fortunately Jupyter notebooks/IPython support tab completion\n",
    "so you should not normally have to remember these names.\n"
   ]
  },
  {
   "attachments": {
    "64c1580e-21f7-4ed3-af12-4f59ced1d67b.png": {
     "image/png": "[encoded data removed]"
    }
   },
   "cell_type": "markdown",
   "metadata": {},
   "source": [
    "![image.png](attachment:64c1580e-21f7-4ed3-af12-4f59ced1d67b.png)"
   ]
  },
  {
   "cell_type": "markdown",
   "metadata": {},
   "source": [
    "The containers (\"AzureSentinel\", \"util\", etc.) are also callable\n",
    "functions - they just return the list of functions they contain."
   ]
  },
  {
   "cell_type": "code",
   "execution_count": 88,
   "metadata": {},
   "outputs": [
    {
     "name": "stdout",
     "output_type": "stream",
     "text": [
      "whois function\n",
      "ip_type function\n",
      "ip_rev_resolve function\n",
      "geoloc_mm function\n",
      "geoloc_ips function\n"
     ]
    }
   ],
   "source": [
    "IpAddress.util()"
   ]
  },
  {
   "cell_type": "markdown",
   "metadata": {},
   "source": [
    "Now we're ready to run any of the functions for this entity"
   ]
  },
  {
   "cell_type": "code",
   "execution_count": 14,
   "metadata": {},
   "outputs": [
    {
     "data": {
      "text/html": [
       "<div>\n",
       "<style scoped>\n",
       "    .dataframe tbody tr th:only-of-type {\n",
       "        vertical-align: middle;\n",
       "    }\n",
       "\n",
       "    .dataframe tbody tr th {\n",
       "        vertical-align: top;\n",
       "    }\n",
       "\n",
       "    .dataframe thead th {\n",
       "        text-align: right;\n",
       "    }\n",
       "</style>\n",
       "<table border=\"1\" class=\"dataframe\">\n",
       "  <thead>\n",
       "    <tr style=\"text-align: right;\">\n",
       "      <th></th>\n",
       "      <th>ip</th>\n",
       "      <th>result</th>\n",
       "    </tr>\n",
       "  </thead>\n",
       "  <tbody>\n",
       "    <tr>\n",
       "      <th>0</th>\n",
       "      <td>20.72.193.242</td>\n",
       "      <td>Public</td>\n",
       "    </tr>\n",
       "  </tbody>\n",
       "</table>\n",
       "</div>"
      ],
      "text/plain": [
       "              ip  result\n",
       "0  20.72.193.242  Public"
      ]
     },
     "execution_count": 14,
     "metadata": {},
     "output_type": "execute_result"
    }
   ],
   "source": [
    "IpAddress.util.ip_type(ip_addr)"
   ]
  },
  {
   "cell_type": "code",
   "execution_count": 15,
   "metadata": {},
   "outputs": [
    {
     "data": {
      "text/html": [
       "<div>\n",
       "<style scoped>\n",
       "    .dataframe tbody tr th:only-of-type {\n",
       "        vertical-align: middle;\n",
       "    }\n",
       "\n",
       "    .dataframe tbody tr th {\n",
       "        vertical-align: top;\n",
       "    }\n",
       "\n",
       "    .dataframe thead th {\n",
       "        text-align: right;\n",
       "    }\n",
       "</style>\n",
       "<table border=\"1\" class=\"dataframe\">\n",
       "  <thead>\n",
       "    <tr style=\"text-align: right;\">\n",
       "      <th></th>\n",
       "      <th>asn</th>\n",
       "      <th>asn_cidr</th>\n",
       "      <th>asn_country_code</th>\n",
       "      <th>asn_date</th>\n",
       "      <th>asn_description</th>\n",
       "      <th>asn_registry</th>\n",
       "      <th>nets</th>\n",
       "      <th>nir</th>\n",
       "      <th>query</th>\n",
       "      <th>raw</th>\n",
       "      <th>raw_referral</th>\n",
       "      <th>referral</th>\n",
       "    </tr>\n",
       "  </thead>\n",
       "  <tbody>\n",
       "    <tr>\n",
       "      <th>0</th>\n",
       "      <td>8075</td>\n",
       "      <td>20.64.0.0/10</td>\n",
       "      <td>US</td>\n",
       "      <td>2017-10-18</td>\n",
       "      <td>MICROSOFT-CORP-MSN-AS-BLOCK, US</td>\n",
       "      <td>arin</td>\n",
       "      <td>[{'cidr': '20.128.0.0/16, 20.48.0.0/12, 20.40.0.0/13, 20.33.0.0/16, 20.36.0.0/14, 20.34.0.0/15, ...</td>\n",
       "      <td>None</td>\n",
       "      <td>20.72.193.242</td>\n",
       "      <td>None</td>\n",
       "      <td>None</td>\n",
       "      <td>None</td>\n",
       "    </tr>\n",
       "  </tbody>\n",
       "</table>\n",
       "</div>"
      ],
      "text/plain": [
       "    asn      asn_cidr asn_country_code    asn_date  \\\n",
       "0  8075  20.64.0.0/10               US  2017-10-18   \n",
       "\n",
       "                   asn_description asn_registry  \\\n",
       "0  MICROSOFT-CORP-MSN-AS-BLOCK, US         arin   \n",
       "\n",
       "                                                                                                  nets  \\\n",
       "0  [{'cidr': '20.128.0.0/16, 20.48.0.0/12, 20.40.0.0/13, 20.33.0.0/16, 20.36.0.0/14, 20.34.0.0/15, ...   \n",
       "\n",
       "    nir          query   raw raw_referral referral  \n",
       "0  None  20.72.193.242  None         None     None  "
      ]
     },
     "execution_count": 15,
     "metadata": {},
     "output_type": "execute_result"
    }
   ],
   "source": [
    "entities.IpAddress.util.whois(ip_addr)"
   ]
  },
  {
   "cell_type": "code",
   "execution_count": 16,
   "metadata": {},
   "outputs": [
    {
     "data": {
      "text/html": [
       "<div>\n",
       "<style scoped>\n",
       "    .dataframe tbody tr th:only-of-type {\n",
       "        vertical-align: middle;\n",
       "    }\n",
       "\n",
       "    .dataframe tbody tr th {\n",
       "        vertical-align: top;\n",
       "    }\n",
       "\n",
       "    .dataframe thead th {\n",
       "        text-align: right;\n",
       "    }\n",
       "</style>\n",
       "<table border=\"1\" class=\"dataframe\">\n",
       "  <thead>\n",
       "    <tr style=\"text-align: right;\">\n",
       "      <th></th>\n",
       "      <th>qname</th>\n",
       "      <th>rdtype</th>\n",
       "      <th>response</th>\n",
       "      <th>ip_address</th>\n",
       "    </tr>\n",
       "  </thead>\n",
       "  <tbody>\n",
       "    <tr>\n",
       "      <th>0</th>\n",
       "      <td>20.72.193.242</td>\n",
       "      <td>PTR</td>\n",
       "      <td>The DNS query name does not exist: 20.72.193.242.</td>\n",
       "      <td>20.72.193.242</td>\n",
       "    </tr>\n",
       "  </tbody>\n",
       "</table>\n",
       "</div>"
      ],
      "text/plain": [
       "           qname rdtype                                           response  \\\n",
       "0  20.72.193.242    PTR  The DNS query name does not exist: 20.72.193.242.   \n",
       "\n",
       "      ip_address  \n",
       "0  20.72.193.242  "
      ]
     },
     "execution_count": 16,
     "metadata": {},
     "output_type": "execute_result"
    }
   ],
   "source": [
    "entities.IpAddress.util.ip_rev_resolve(ip_addr)"
   ]
  },
  {
   "cell_type": "code",
   "execution_count": 17,
   "metadata": {},
   "outputs": [
    {
     "data": {
      "text/html": [
       "<div>\n",
       "<style scoped>\n",
       "    .dataframe tbody tr th:only-of-type {\n",
       "        vertical-align: middle;\n",
       "    }\n",
       "\n",
       "    .dataframe tbody tr th {\n",
       "        vertical-align: top;\n",
       "    }\n",
       "\n",
       "    .dataframe thead th {\n",
       "        text-align: right;\n",
       "    }\n",
       "</style>\n",
       "<table border=\"1\" class=\"dataframe\">\n",
       "  <thead>\n",
       "    <tr style=\"text-align: right;\">\n",
       "      <th></th>\n",
       "      <th>CountryCode</th>\n",
       "      <th>CountryName</th>\n",
       "      <th>State</th>\n",
       "      <th>City</th>\n",
       "      <th>Longitude</th>\n",
       "      <th>Latitude</th>\n",
       "      <th>Asn</th>\n",
       "      <th>edges</th>\n",
       "      <th>Type</th>\n",
       "      <th>AdditionalData</th>\n",
       "      <th>IpAddress</th>\n",
       "    </tr>\n",
       "  </thead>\n",
       "  <tbody>\n",
       "    <tr>\n",
       "      <th>0</th>\n",
       "      <td>US</td>\n",
       "      <td>United States</td>\n",
       "      <td>Washington</td>\n",
       "      <td>None</td>\n",
       "      <td>-122.3412</td>\n",
       "      <td>47.6032</td>\n",
       "      <td>None</td>\n",
       "      <td>{}</td>\n",
       "      <td>geolocation</td>\n",
       "      <td>{}</td>\n",
       "      <td>20.72.193.242</td>\n",
       "    </tr>\n",
       "  </tbody>\n",
       "</table>\n",
       "</div>"
      ],
      "text/plain": [
       "  CountryCode    CountryName       State  City  Longitude  Latitude   Asn  \\\n",
       "0          US  United States  Washington  None  -122.3412   47.6032  None   \n",
       "\n",
       "  edges         Type AdditionalData      IpAddress  \n",
       "0    {}  geolocation             {}  20.72.193.242  "
      ]
     },
     "execution_count": 17,
     "metadata": {},
     "output_type": "execute_result"
    }
   ],
   "source": [
    "entities.IpAddress.util.geoloc_mm(ip_addr)"
   ]
  },
  {
   "cell_type": "code",
   "execution_count": 18,
   "metadata": {},
   "outputs": [
    {
     "data": {
      "text/html": [
       "<div>\n",
       "<style scoped>\n",
       "    .dataframe tbody tr th:only-of-type {\n",
       "        vertical-align: middle;\n",
       "    }\n",
       "\n",
       "    .dataframe tbody tr th {\n",
       "        vertical-align: top;\n",
       "    }\n",
       "\n",
       "    .dataframe thead th {\n",
       "        text-align: right;\n",
       "    }\n",
       "</style>\n",
       "<table border=\"1\" class=\"dataframe\">\n",
       "  <thead>\n",
       "    <tr style=\"text-align: right;\">\n",
       "      <th></th>\n",
       "      <th>Ioc</th>\n",
       "      <th>IocType</th>\n",
       "      <th>SafeIoc</th>\n",
       "      <th>QuerySubtype</th>\n",
       "      <th>Provider</th>\n",
       "      <th>Result</th>\n",
       "      <th>Severity</th>\n",
       "      <th>Details</th>\n",
       "      <th>RawResult</th>\n",
       "      <th>Reference</th>\n",
       "      <th>Status</th>\n",
       "    </tr>\n",
       "  </thead>\n",
       "  <tbody>\n",
       "    <tr>\n",
       "      <th>0</th>\n",
       "      <td>20.72.193.242</td>\n",
       "      <td>ipv4</td>\n",
       "      <td>20.72.193.242</td>\n",
       "      <td>None</td>\n",
       "      <td>Tor</td>\n",
       "      <td>True</td>\n",
       "      <td>information</td>\n",
       "      <td>Not found.</td>\n",
       "      <td>None</td>\n",
       "      <td>https://check.torproject.org/exit-addresses</td>\n",
       "      <td>0</td>\n",
       "    </tr>\n",
       "    <tr>\n",
       "      <th>0</th>\n",
       "      <td>20.72.193.242</td>\n",
       "      <td>ipv4</td>\n",
       "      <td>20.72.193.242</td>\n",
       "      <td>None</td>\n",
       "      <td>VirusTotal</td>\n",
       "      <td>True</td>\n",
       "      <td>unknown</td>\n",
       "      <td>{'verbose_msg': 'Missing IP address', 'response_code': 0}</td>\n",
       "      <td>{'response_code': 0, 'verbose_msg': 'Missing IP address'}</td>\n",
       "      <td>https://www.virustotal.com/vtapi/v2/ip-address/report</td>\n",
       "      <td>0</td>\n",
       "    </tr>\n",
       "    <tr>\n",
       "      <th>0</th>\n",
       "      <td>20.72.193.242</td>\n",
       "      <td>ipv4</td>\n",
       "      <td>20.72.193.242</td>\n",
       "      <td>None</td>\n",
       "      <td>XForce</td>\n",
       "      <td>True</td>\n",
       "      <td>warning</td>\n",
       "      <td>{'score': 1, 'cats': {}, 'categoryDescriptions': {}, 'reason': 'Regional Internet Registry', 're...</td>\n",
       "      <td>{'ip': '20.72.193.242', 'history': [{'created': '2012-03-22T07:26:00.000Z', 'reason': 'Regional ...</td>\n",
       "      <td>https://api.xforce.ibmcloud.com/ipr/20.72.193.242</td>\n",
       "      <td>0</td>\n",
       "    </tr>\n",
       "  </tbody>\n",
       "</table>\n",
       "</div>"
      ],
      "text/plain": [
       "             Ioc IocType        SafeIoc QuerySubtype    Provider  Result  \\\n",
       "0  20.72.193.242    ipv4  20.72.193.242         None         Tor    True   \n",
       "0  20.72.193.242    ipv4  20.72.193.242         None  VirusTotal    True   \n",
       "0  20.72.193.242    ipv4  20.72.193.242         None      XForce    True   \n",
       "\n",
       "      Severity  \\\n",
       "0  information   \n",
       "0      unknown   \n",
       "0      warning   \n",
       "\n",
       "                                                                                               Details  \\\n",
       "0                                                                                           Not found.   \n",
       "0                                            {'verbose_msg': 'Missing IP address', 'response_code': 0}   \n",
       "0  {'score': 1, 'cats': {}, 'categoryDescriptions': {}, 'reason': 'Regional Internet Registry', 're...   \n",
       "\n",
       "                                                                                             RawResult  \\\n",
       "0                                                                                                 None   \n",
       "0                                            {'response_code': 0, 'verbose_msg': 'Missing IP address'}   \n",
       "0  {'ip': '20.72.193.242', 'history': [{'created': '2012-03-22T07:26:00.000Z', 'reason': 'Regional ...   \n",
       "\n",
       "                                               Reference  Status  \n",
       "0            https://check.torproject.org/exit-addresses       0  \n",
       "0  https://www.virustotal.com/vtapi/v2/ip-address/report       0  \n",
       "0      https://api.xforce.ibmcloud.com/ipr/20.72.193.242       0  "
      ]
     },
     "execution_count": 18,
     "metadata": {},
     "output_type": "execute_result"
    }
   ],
   "source": [
    "entities.IpAddress.ti.lookup_ip(ip_addr)"
   ]
  },
  {
   "cell_type": "markdown",
   "metadata": {},
   "source": [
    "Notice that we didn't need to worry about either the parameter\n",
    "name or format (more on this in the next section). Also, \n",
    "whatever the function, the output is always returned\n",
    "as a pandas DataFrame."
   ]
  },
  {
   "cell_type": "markdown",
   "metadata": {},
   "source": [
    "### For Data query functions you *do* need to worry about the parameter name\n",
    "Data query functions are a little more complex than most other functions\n",
    "and specifically often support many parameters. Rather than try\n",
    "to guess which parameter you meant, we require you to be explicit.\n",
    "\n",
    "To use a data query, we need to authenticate to the provider."
   ]
  },
  {
   "cell_type": "code",
   "execution_count": 19,
   "metadata": {},
   "outputs": [
    {
     "data": {
      "application/javascript": [
       "try {IPython.notebook.kernel.execute(\"NOTEBOOK_URL = '\" + window.location + \"'\");} catch(err) {;}"
      ],
      "text/plain": [
       "<IPython.core.display.Javascript object>"
      ]
     },
     "metadata": {},
     "output_type": "display_data"
    },
    {
     "data": {
      "text/html": [
       "<!DOCTYPE html>\n",
       "            <html><body>\n",
       "            <div style=''>\n",
       "            \n",
       "            <button onclick=\"this.style.visibility='visible';\n",
       "            kql_MagicLaunchWindowFunction('kqlmagic/temp_files/6c653ff0-5e48-4830-857d-e831a07ef51d/_8ecf8077-cf51-4820-aadd-14040956f35d_at_loganalytics_schema.html', 'fullscreen=no,directories=no,location=no,menubar=no,resizable=yes,scrollbars=yes,status=no,titlebar=no,toolbar=no,', '_8ecf8077_cf51_4820_aadd_14040956f35d_at_loganalytics_schema', '');\n",
       "            kql_MagicCloseWindow(kql_Magic__8ecf8077_cf51_4820_aadd_14040956f35d_at_loganalytics_schema, -1, -1);\">\n",
       "            popup schema 8ecf8077-cf51-4820-aadd-14040956f35d@loganalytics</button>\n",
       "            </div>\n",
       "\n",
       "            <script>\n",
       "            var kql_Magic__8ecf8077_cf51_4820_aadd_14040956f35d_at_loganalytics_schema = null;\n",
       "\n",
       "\n",
       "            function kql_MagicCloseWindow(window_obj, obj_secs, itself_secs) {\n",
       "                if (obj_secs >= 0) {\n",
       "                    _timeout = setTimeout(function(){\n",
       "                        window_obj.close();\n",
       "                        if (itself_secs >= 0) {\n",
       "                            __timeout = setTimeout(function(){window.close();}, itself_secs * 1000);\n",
       "                        }\n",
       "                    }, obj_secs * 1000);\n",
       "                } else if (itself_secs >= 0) {\n",
       "                    _timeout = setTimeout(function(){window.close();}, itself_secs * 1000);\n",
       "                }\n",
       "            }\n",
       "\n",
       "            function kql_MagicLaunchWindowFunction(file_path, window_params, window_name, host_or_text) {\n",
       "                var url;\n",
       "                if (host_or_text == 'text') {\n",
       "                    url = ''\n",
       "                } else if (file_path.startsWith('http')) {\n",
       "                    url = file_path;\n",
       "                } else {\n",
       "                    var base_url = '';\n",
       "\n",
       "                    // check if azure notebook\n",
       "                    var azure_host = (host_or_text == null || host_or_text.length == 0) ? 'https://notebooks.azure.com' : host_or_text;\n",
       "                    var start = azure_host.search('//');\n",
       "                    var azure_host_suffix = '.' + azure_host.substring(start+2);\n",
       "\n",
       "                    var loc = String(window.location);\n",
       "                    var end = loc.search(azure_host_suffix);\n",
       "                    start = loc.search('//');\n",
       "                    if (start > 0 && end > 0) {\n",
       "                        var parts = loc.substring(start+2, end).split('-');\n",
       "                        if (parts.length == 2) {\n",
       "                            var library = parts[0];\n",
       "                            var user = parts[1];\n",
       "                            base_url = azure_host + '/api/user/' +user+ '/library/' +library+ '/html/';\n",
       "                        }\n",
       "                    }\n",
       "\n",
       "                    // check if local jupyter lab\n",
       "                    if (base_url.length == 0) {\n",
       "                        var configDataScipt  = document.getElementById('jupyter-config-data');\n",
       "                        if (configDataScipt != null) {\n",
       "                            var jupyterConfigData = JSON.parse(configDataScipt.textContent);\n",
       "                            if (jupyterConfigData['appName'] == 'JupyterLab' && jupyterConfigData['serverRoot'] != null &&  jupyterConfigData['treeUrl'] != null) {\n",
       "                                var basePath = 'e:/src/notebooks/experimental' + '/';\n",
       "                                if (basePath.startsWith(jupyterConfigData['serverRoot'])) {\n",
       "                                    base_url = '/files/' + basePath.substring(jupyterConfigData['serverRoot'].length+1);\n",
       "                                }\n",
       "                            }\n",
       "                        }\n",
       "                    }\n",
       "\n",
       "                    // assume local jupyter notebook\n",
       "                    if (base_url.length == 0) {\n",
       "\n",
       "                        var parts = loc.split('/');\n",
       "                        parts.pop();\n",
       "                        base_url = parts.join('/') + '/';\n",
       "                    }\n",
       "                    url = base_url + file_path;\n",
       "                }\n",
       "\n",
       "                window.focus();\n",
       "                var w = screen.width / 2;\n",
       "                var h = screen.height / 2;\n",
       "                params = 'width='+w+',height='+h;\n",
       "                // kql_Magic + window_name should be a global variable \n",
       "                window_obj = window.open(url, window_name, window_params + params);\n",
       "                if (url == '') {\n",
       "                    var el = window_obj.document.createElement('p');\n",
       "                    window_obj.document.body.overflow = 'auto';\n",
       "                    el.style.top = 0;\n",
       "                    el.style.left = 0;\n",
       "                    el.innerHTML = file_path;\n",
       "                    window_obj.document.body.appendChild(el);\n",
       "                }\n",
       "                kql_Magic__8ecf8077_cf51_4820_aadd_14040956f35d_at_loganalytics_schema = window_obj;\n",
       "            }\n",
       "            </script>\n",
       "\n",
       "            </body></html>"
      ],
      "text/plain": [
       "<IPython.core.display.HTML object>"
      ]
     },
     "metadata": {},
     "output_type": "display_data"
    },
    {
     "data": {
      "application/javascript": [
       "try {IPython.notebook.kernel.execute(\"NOTEBOOK_URL = '\" + window.location + \"'\");} catch(err) {;}"
      ],
      "text/plain": [
       "<IPython.core.display.Javascript object>"
      ]
     },
     "metadata": {},
     "output_type": "display_data"
    }
   ],
   "source": [
    "az_provider.connect(WorkspaceConfig(workspace=\"CyberSecuritySoc\").code_connect_str)"
   ]
  },
  {
   "cell_type": "markdown",
   "metadata": {},
   "source": [
    "If you are not sure of the parameters required by the query\n",
    "you can use the built-in help"
   ]
  },
  {
   "cell_type": "code",
   "execution_count": 90,
   "metadata": {},
   "outputs": [
    {
     "data": {
      "text/plain": [
       "\u001b[1;31mSignature:\u001b[0m \u001b[0mHost\u001b[0m\u001b[1;33m.\u001b[0m\u001b[0mAzureSentinel\u001b[0m\u001b[1;33m.\u001b[0m\u001b[0mSecurityAlert_list_related_alerts\u001b[0m\u001b[1;33m(\u001b[0m\u001b[1;33m*\u001b[0m\u001b[0margs\u001b[0m\u001b[1;33m,\u001b[0m \u001b[1;33m**\u001b[0m\u001b[0mkwargs\u001b[0m\u001b[1;33m)\u001b[0m \u001b[1;33m->\u001b[0m \u001b[0mUnion\u001b[0m\u001b[1;33m[\u001b[0m\u001b[0mpandas\u001b[0m\u001b[1;33m.\u001b[0m\u001b[0mcore\u001b[0m\u001b[1;33m.\u001b[0m\u001b[0mframe\u001b[0m\u001b[1;33m.\u001b[0m\u001b[0mDataFrame\u001b[0m\u001b[1;33m,\u001b[0m \u001b[0mAny\u001b[0m\u001b[1;33m]\u001b[0m\u001b[1;33m\u001b[0m\u001b[1;33m\u001b[0m\u001b[0m\n",
       "\u001b[1;31mDocstring:\u001b[0m\n",
       "Retrieves list of alerts with a common host, account or process\n",
       "\n",
       "Parameters\n",
       "----------\n",
       "account_name: str (optional)\n",
       "    The account name to find\n",
       "add_query_items: str (optional)\n",
       "    Additional query clauses\n",
       "end: datetime (optional)\n",
       "    Query end time\n",
       "host_name: str (optional)\n",
       "    The hostname to find\n",
       "path_separator: str (optional)\n",
       "    Path separator\n",
       "    (default value is: \\\\)\n",
       "process_name: str (optional)\n",
       "    The process name to find\n",
       "query_project: str (optional)\n",
       "    Column project statement\n",
       "    (default value is:  | project-rename StartTimeUtc = StartTime, EndTim...)\n",
       "start: datetime (optional)\n",
       "    Query start time\n",
       "    (default value is: -30)\n",
       "subscription_filter: str (optional)\n",
       "    Optional subscription/tenant filter expression\n",
       "    (default value is: true)\n",
       "table: str (optional)\n",
       "    Table name\n",
       "    (default value is: SecurityAlert)\n",
       "\u001b[1;31mFile:\u001b[0m      c:\\users\\ian\\anaconda3\\envs\\condadev\\lib\\functools.py\n",
       "\u001b[1;31mType:\u001b[0m      function\n"
      ]
     },
     "metadata": {},
     "output_type": "display_data"
    }
   ],
   "source": [
    "Host.AzureSentinel.SecurityAlert_list_related_alerts?"
   ]
  },
  {
   "cell_type": "code",
   "execution_count": 92,
   "metadata": {},
   "outputs": [
    {
     "data": {
      "application/javascript": [
       "try {IPython.notebook.kernel.execute(\"NOTEBOOK_URL = '\" + window.location + \"'\");} catch(err) {;}"
      ],
      "text/plain": [
       "<IPython.core.display.Javascript object>"
      ]
     },
     "metadata": {},
     "output_type": "display_data"
    },
    {
     "data": {
      "text/html": [
       "<div>\n",
       "<style scoped>\n",
       "    .dataframe tbody tr th:only-of-type {\n",
       "        vertical-align: middle;\n",
       "    }\n",
       "\n",
       "    .dataframe tbody tr th {\n",
       "        vertical-align: top;\n",
       "    }\n",
       "\n",
       "    .dataframe thead th {\n",
       "        text-align: right;\n",
       "    }\n",
       "</style>\n",
       "<table border=\"1\" class=\"dataframe\">\n",
       "  <thead>\n",
       "    <tr style=\"text-align: right;\">\n",
       "      <th></th>\n",
       "      <th>TenantId</th>\n",
       "      <th>TimeGenerated</th>\n",
       "      <th>AlertDisplayName</th>\n",
       "      <th>AlertName</th>\n",
       "      <th>Severity</th>\n",
       "      <th>Description</th>\n",
       "      <th>ProviderName</th>\n",
       "      <th>VendorName</th>\n",
       "      <th>VendorOriginalId</th>\n",
       "      <th>SystemAlertId</th>\n",
       "      <th>ResourceId</th>\n",
       "      <th>SourceComputerId</th>\n",
       "      <th>AlertType</th>\n",
       "      <th>ConfidenceLevel</th>\n",
       "      <th>ConfidenceScore</th>\n",
       "      <th>IsIncident</th>\n",
       "      <th>StartTimeUtc</th>\n",
       "      <th>EndTimeUtc</th>\n",
       "      <th>ProcessingEndTime</th>\n",
       "      <th>RemediationSteps</th>\n",
       "      <th>ExtendedProperties</th>\n",
       "      <th>Entities</th>\n",
       "      <th>SourceSystem</th>\n",
       "      <th>WorkspaceSubscriptionId</th>\n",
       "      <th>WorkspaceResourceGroup</th>\n",
       "      <th>ExtendedLinks</th>\n",
       "      <th>ProductName</th>\n",
       "      <th>ProductComponentName</th>\n",
       "      <th>AlertLink</th>\n",
       "      <th>Status</th>\n",
       "      <th>CompromisedEntity</th>\n",
       "      <th>Tactics</th>\n",
       "      <th>Type</th>\n",
       "      <th>Computer</th>\n",
       "      <th>src_hostname</th>\n",
       "      <th>src_accountname</th>\n",
       "      <th>src_procname</th>\n",
       "      <th>host_match</th>\n",
       "      <th>acct_match</th>\n",
       "      <th>proc_match</th>\n",
       "    </tr>\n",
       "  </thead>\n",
       "  <tbody>\n",
       "    <tr>\n",
       "      <th>0</th>\n",
       "      <td>8ecf8077-cf51-4820-aadd-14040956f35d</td>\n",
       "      <td>2020-12-10 09:10:08+00:00</td>\n",
       "      <td>Suspected credential theft activity</td>\n",
       "      <td>Suspected credential theft activity</td>\n",
       "      <td>Medium</td>\n",
       "      <td>This program exhibits suspect characteristics potentially associated with credential theft.  Onc...</td>\n",
       "      <td>MDATP</td>\n",
       "      <td>Microsoft</td>\n",
       "      <td>da637426874826633442_-1480645585</td>\n",
       "      <td>a429998b-8a1f-a69c-f2b8-24dedde31c2d</td>\n",
       "      <td></td>\n",
       "      <td></td>\n",
       "      <td>WindowsDefenderAtp</td>\n",
       "      <td></td>\n",
       "      <td>NaN</td>\n",
       "      <td>False</td>\n",
       "      <td>2020-12-04 14:00:00+00:00</td>\n",
       "      <td>2020-12-04 14:00:00+00:00</td>\n",
       "      <td>2020-12-10 09:10:08+00:00</td>\n",
       "      <td>[\\r\\n  \"1. Make sure the machine is completely updated and all your software has the latest patc...</td>\n",
       "      <td>{\\r\\n  \"MicrosoftDefenderAtp.Category\": \"CredentialAccess\",\\r\\n  \"MicrosoftDefenderAtp.Investiga...</td>\n",
       "      <td>[\\r\\n  {\\r\\n    \"$id\": \"4\",\\r\\n    \"DnsDomain\": \"na.contosohotels.com\",\\r\\n    \"HostName\": \"vict...</td>\n",
       "      <td>Detection</td>\n",
       "      <td></td>\n",
       "      <td></td>\n",
       "      <td></td>\n",
       "      <td>Microsoft Defender Advanced Threat Protection</td>\n",
       "      <td></td>\n",
       "      <td>https://securitycenter.microsoft.com/alert/da637426874826633442_-1480645585</td>\n",
       "      <td>New</td>\n",
       "      <td>victim00.na.contosohotels.com</td>\n",
       "      <td>CredentialAccess</td>\n",
       "      <td>SecurityAlert</td>\n",
       "      <td>victim00</td>\n",
       "      <td>victim00</td>\n",
       "      <td></td>\n",
       "      <td></td>\n",
       "      <td>True</td>\n",
       "      <td>False</td>\n",
       "      <td>False</td>\n",
       "    </tr>\n",
       "    <tr>\n",
       "      <th>1</th>\n",
       "      <td>8ecf8077-cf51-4820-aadd-14040956f35d</td>\n",
       "      <td>2020-12-10 09:10:08+00:00</td>\n",
       "      <td>'Mimikatz' hacktool was detected</td>\n",
       "      <td>'Mimikatz' hacktool was detected</td>\n",
       "      <td>Low</td>\n",
       "      <td>Readily available tools, such as hacking programs, can be used by unauthorized individuals to sp...</td>\n",
       "      <td>MDATP</td>\n",
       "      <td>Microsoft</td>\n",
       "      <td>da637426874826014018_-1390662053</td>\n",
       "      <td>edb68e6d-012d-4c6b-7408-20e679fb41c8</td>\n",
       "      <td></td>\n",
       "      <td></td>\n",
       "      <td>WindowsDefenderAv</td>\n",
       "      <td></td>\n",
       "      <td>NaN</td>\n",
       "      <td>False</td>\n",
       "      <td>2020-12-04 14:00:01+00:00</td>\n",
       "      <td>2020-12-04 14:00:01+00:00</td>\n",
       "      <td>2020-12-10 09:10:08+00:00</td>\n",
       "      <td>[\\r\\n  \"1. Make sure the machine is completely updated and all your software has the latest patc...</td>\n",
       "      <td>{\\r\\n  \"MicrosoftDefenderAtp.Category\": \"Malware\",\\r\\n  \"MicrosoftDefenderAtp.InvestigationId\": ...</td>\n",
       "      <td>[\\r\\n  {\\r\\n    \"$id\": \"4\",\\r\\n    \"DnsDomain\": \"na.contosohotels.com\",\\r\\n    \"HostName\": \"vict...</td>\n",
       "      <td>Detection</td>\n",
       "      <td></td>\n",
       "      <td></td>\n",
       "      <td></td>\n",
       "      <td>Microsoft Defender Advanced Threat Protection</td>\n",
       "      <td></td>\n",
       "      <td>https://securitycenter.microsoft.com/alert/da637426874826014018_-1390662053</td>\n",
       "      <td>New</td>\n",
       "      <td>victim00.na.contosohotels.com</td>\n",
       "      <td>Unknown</td>\n",
       "      <td>SecurityAlert</td>\n",
       "      <td>victim00</td>\n",
       "      <td>victim00</td>\n",
       "      <td></td>\n",
       "      <td></td>\n",
       "      <td>True</td>\n",
       "      <td>False</td>\n",
       "      <td>False</td>\n",
       "    </tr>\n",
       "    <tr>\n",
       "      <th>2</th>\n",
       "      <td>8ecf8077-cf51-4820-aadd-14040956f35d</td>\n",
       "      <td>2020-12-10 09:10:08+00:00</td>\n",
       "      <td>Malicious credential theft tool execution detected</td>\n",
       "      <td>Malicious credential theft tool execution detected</td>\n",
       "      <td>High</td>\n",
       "      <td>A known credential theft tool execution command line was detected.\\nEither the process itself or...</td>\n",
       "      <td>MDATP</td>\n",
       "      <td>Microsoft</td>\n",
       "      <td>da637426874824572229_-192666782</td>\n",
       "      <td>39912e77-045b-a082-a91e-8a18958d1b1c</td>\n",
       "      <td></td>\n",
       "      <td></td>\n",
       "      <td>WindowsDefenderAtp</td>\n",
       "      <td></td>\n",
       "      <td>NaN</td>\n",
       "      <td>False</td>\n",
       "      <td>2020-12-04 14:00:00+00:00</td>\n",
       "      <td>2020-12-04 14:00:00+00:00</td>\n",
       "      <td>2020-12-10 09:10:08+00:00</td>\n",
       "      <td>[\\r\\n  \"1. Make sure the machine is completely updated and all your software has the latest patc...</td>\n",
       "      <td>{\\r\\n  \"MicrosoftDefenderAtp.Category\": \"CredentialAccess\",\\r\\n  \"MicrosoftDefenderAtp.Investiga...</td>\n",
       "      <td>[\\r\\n  {\\r\\n    \"$id\": \"4\",\\r\\n    \"DnsDomain\": \"na.contosohotels.com\",\\r\\n    \"HostName\": \"vict...</td>\n",
       "      <td>Detection</td>\n",
       "      <td></td>\n",
       "      <td></td>\n",
       "      <td></td>\n",
       "      <td>Microsoft Defender Advanced Threat Protection</td>\n",
       "      <td></td>\n",
       "      <td>https://securitycenter.microsoft.com/alert/da637426874824572229_-192666782</td>\n",
       "      <td>New</td>\n",
       "      <td>victim00.na.contosohotels.com</td>\n",
       "      <td>CredentialAccess</td>\n",
       "      <td>SecurityAlert</td>\n",
       "      <td>victim00</td>\n",
       "      <td>victim00</td>\n",
       "      <td></td>\n",
       "      <td></td>\n",
       "      <td>True</td>\n",
       "      <td>False</td>\n",
       "      <td>False</td>\n",
       "    </tr>\n",
       "    <tr>\n",
       "      <th>3</th>\n",
       "      <td>8ecf8077-cf51-4820-aadd-14040956f35d</td>\n",
       "      <td>2020-12-10 10:10:17+00:00</td>\n",
       "      <td>Malicious credential theft tool execution detected</td>\n",
       "      <td>Malicious credential theft tool execution detected</td>\n",
       "      <td>High</td>\n",
       "      <td>A known credential theft tool execution command line was detected.\\nEither the process itself or...</td>\n",
       "      <td>MDATP</td>\n",
       "      <td>Microsoft</td>\n",
       "      <td>da637426874824572229_-192666782</td>\n",
       "      <td>39912e77-045b-a082-a91e-8a18958d1b1c</td>\n",
       "      <td></td>\n",
       "      <td></td>\n",
       "      <td>WindowsDefenderAtp</td>\n",
       "      <td></td>\n",
       "      <td>NaN</td>\n",
       "      <td>False</td>\n",
       "      <td>2020-12-04 14:00:00+00:00</td>\n",
       "      <td>2020-12-04 14:00:00+00:00</td>\n",
       "      <td>2020-12-10 10:10:17+00:00</td>\n",
       "      <td>[\\r\\n  \"1. Make sure the machine is completely updated and all your software has the latest patc...</td>\n",
       "      <td>{\\r\\n  \"MicrosoftDefenderAtp.Category\": \"CredentialAccess\",\\r\\n  \"MicrosoftDefenderAtp.Investiga...</td>\n",
       "      <td>[\\r\\n  {\\r\\n    \"$id\": \"4\",\\r\\n    \"DnsDomain\": \"na.contosohotels.com\",\\r\\n    \"HostName\": \"vict...</td>\n",
       "      <td>Detection</td>\n",
       "      <td></td>\n",
       "      <td></td>\n",
       "      <td></td>\n",
       "      <td>Microsoft Defender Advanced Threat Protection</td>\n",
       "      <td></td>\n",
       "      <td>https://securitycenter.microsoft.com/alert/da637426874824572229_-192666782</td>\n",
       "      <td>New</td>\n",
       "      <td>victim00.na.contosohotels.com</td>\n",
       "      <td>CredentialAccess</td>\n",
       "      <td>SecurityAlert</td>\n",
       "      <td>victim00</td>\n",
       "      <td>victim00</td>\n",
       "      <td></td>\n",
       "      <td></td>\n",
       "      <td>True</td>\n",
       "      <td>False</td>\n",
       "      <td>False</td>\n",
       "    </tr>\n",
       "    <tr>\n",
       "      <th>4</th>\n",
       "      <td>8ecf8077-cf51-4820-aadd-14040956f35d</td>\n",
       "      <td>2020-12-10 12:24:46+00:00</td>\n",
       "      <td>Malicious credential theft tool execution detected</td>\n",
       "      <td>Malicious credential theft tool execution detected</td>\n",
       "      <td>High</td>\n",
       "      <td>A known credential theft tool execution command line was detected.\\nEither the process itself or...</td>\n",
       "      <td>MDATP</td>\n",
       "      <td>Microsoft</td>\n",
       "      <td>da637426874824572229_-192666782</td>\n",
       "      <td>39912e77-045b-a082-a91e-8a18958d1b1c</td>\n",
       "      <td></td>\n",
       "      <td></td>\n",
       "      <td>WindowsDefenderAtp</td>\n",
       "      <td></td>\n",
       "      <td>NaN</td>\n",
       "      <td>False</td>\n",
       "      <td>2020-12-04 14:00:00+00:00</td>\n",
       "      <td>2020-12-04 14:00:00+00:00</td>\n",
       "      <td>2020-12-10 12:24:46+00:00</td>\n",
       "      <td>[\\r\\n  \"1. Make sure the machine is completely updated and all your software has the latest patc...</td>\n",
       "      <td>{\\r\\n  \"MicrosoftDefenderAtp.Category\": \"CredentialAccess\",\\r\\n  \"MicrosoftDefenderAtp.Investiga...</td>\n",
       "      <td>[\\r\\n  {\\r\\n    \"$id\": \"4\",\\r\\n    \"DnsDomain\": \"na.contosohotels.com\",\\r\\n    \"HostName\": \"vict...</td>\n",
       "      <td>Detection</td>\n",
       "      <td></td>\n",
       "      <td></td>\n",
       "      <td></td>\n",
       "      <td>Microsoft Defender Advanced Threat Protection</td>\n",
       "      <td></td>\n",
       "      <td>https://securitycenter.microsoft.com/alert/da637426874824572229_-192666782</td>\n",
       "      <td>New</td>\n",
       "      <td>victim00.na.contosohotels.com</td>\n",
       "      <td>CredentialAccess</td>\n",
       "      <td>SecurityAlert</td>\n",
       "      <td>victim00</td>\n",
       "      <td>victim00</td>\n",
       "      <td></td>\n",
       "      <td></td>\n",
       "      <td>True</td>\n",
       "      <td>False</td>\n",
       "      <td>False</td>\n",
       "    </tr>\n",
       "  </tbody>\n",
       "</table>\n",
       "</div>"
      ],
      "text/plain": [
       "                               TenantId             TimeGenerated  \\\n",
       "0  8ecf8077-cf51-4820-aadd-14040956f35d 2020-12-10 09:10:08+00:00   \n",
       "1  8ecf8077-cf51-4820-aadd-14040956f35d 2020-12-10 09:10:08+00:00   \n",
       "2  8ecf8077-cf51-4820-aadd-14040956f35d 2020-12-10 09:10:08+00:00   \n",
       "3  8ecf8077-cf51-4820-aadd-14040956f35d 2020-12-10 10:10:17+00:00   \n",
       "4  8ecf8077-cf51-4820-aadd-14040956f35d 2020-12-10 12:24:46+00:00   \n",
       "\n",
       "                                     AlertDisplayName  \\\n",
       "0                 Suspected credential theft activity   \n",
       "1                    'Mimikatz' hacktool was detected   \n",
       "2  Malicious credential theft tool execution detected   \n",
       "3  Malicious credential theft tool execution detected   \n",
       "4  Malicious credential theft tool execution detected   \n",
       "\n",
       "                                            AlertName Severity  \\\n",
       "0                 Suspected credential theft activity   Medium   \n",
       "1                    'Mimikatz' hacktool was detected      Low   \n",
       "2  Malicious credential theft tool execution detected     High   \n",
       "3  Malicious credential theft tool execution detected     High   \n",
       "4  Malicious credential theft tool execution detected     High   \n",
       "\n",
       "                                                                                           Description  \\\n",
       "0  This program exhibits suspect characteristics potentially associated with credential theft.  Onc...   \n",
       "1  Readily available tools, such as hacking programs, can be used by unauthorized individuals to sp...   \n",
       "2  A known credential theft tool execution command line was detected.\\nEither the process itself or...   \n",
       "3  A known credential theft tool execution command line was detected.\\nEither the process itself or...   \n",
       "4  A known credential theft tool execution command line was detected.\\nEither the process itself or...   \n",
       "\n",
       "  ProviderName VendorName                  VendorOriginalId  \\\n",
       "0        MDATP  Microsoft  da637426874826633442_-1480645585   \n",
       "1        MDATP  Microsoft  da637426874826014018_-1390662053   \n",
       "2        MDATP  Microsoft   da637426874824572229_-192666782   \n",
       "3        MDATP  Microsoft   da637426874824572229_-192666782   \n",
       "4        MDATP  Microsoft   da637426874824572229_-192666782   \n",
       "\n",
       "                          SystemAlertId ResourceId SourceComputerId  \\\n",
       "0  a429998b-8a1f-a69c-f2b8-24dedde31c2d                               \n",
       "1  edb68e6d-012d-4c6b-7408-20e679fb41c8                               \n",
       "2  39912e77-045b-a082-a91e-8a18958d1b1c                               \n",
       "3  39912e77-045b-a082-a91e-8a18958d1b1c                               \n",
       "4  39912e77-045b-a082-a91e-8a18958d1b1c                               \n",
       "\n",
       "            AlertType ConfidenceLevel  ConfidenceScore  IsIncident  \\\n",
       "0  WindowsDefenderAtp                              NaN       False   \n",
       "1   WindowsDefenderAv                              NaN       False   \n",
       "2  WindowsDefenderAtp                              NaN       False   \n",
       "3  WindowsDefenderAtp                              NaN       False   \n",
       "4  WindowsDefenderAtp                              NaN       False   \n",
       "\n",
       "               StartTimeUtc                EndTimeUtc  \\\n",
       "0 2020-12-04 14:00:00+00:00 2020-12-04 14:00:00+00:00   \n",
       "1 2020-12-04 14:00:01+00:00 2020-12-04 14:00:01+00:00   \n",
       "2 2020-12-04 14:00:00+00:00 2020-12-04 14:00:00+00:00   \n",
       "3 2020-12-04 14:00:00+00:00 2020-12-04 14:00:00+00:00   \n",
       "4 2020-12-04 14:00:00+00:00 2020-12-04 14:00:00+00:00   \n",
       "\n",
       "          ProcessingEndTime  \\\n",
       "0 2020-12-10 09:10:08+00:00   \n",
       "1 2020-12-10 09:10:08+00:00   \n",
       "2 2020-12-10 09:10:08+00:00   \n",
       "3 2020-12-10 10:10:17+00:00   \n",
       "4 2020-12-10 12:24:46+00:00   \n",
       "\n",
       "                                                                                      RemediationSteps  \\\n",
       "0  [\\r\\n  \"1. Make sure the machine is completely updated and all your software has the latest patc...   \n",
       "1  [\\r\\n  \"1. Make sure the machine is completely updated and all your software has the latest patc...   \n",
       "2  [\\r\\n  \"1. Make sure the machine is completely updated and all your software has the latest patc...   \n",
       "3  [\\r\\n  \"1. Make sure the machine is completely updated and all your software has the latest patc...   \n",
       "4  [\\r\\n  \"1. Make sure the machine is completely updated and all your software has the latest patc...   \n",
       "\n",
       "                                                                                    ExtendedProperties  \\\n",
       "0  {\\r\\n  \"MicrosoftDefenderAtp.Category\": \"CredentialAccess\",\\r\\n  \"MicrosoftDefenderAtp.Investiga...   \n",
       "1  {\\r\\n  \"MicrosoftDefenderAtp.Category\": \"Malware\",\\r\\n  \"MicrosoftDefenderAtp.InvestigationId\": ...   \n",
       "2  {\\r\\n  \"MicrosoftDefenderAtp.Category\": \"CredentialAccess\",\\r\\n  \"MicrosoftDefenderAtp.Investiga...   \n",
       "3  {\\r\\n  \"MicrosoftDefenderAtp.Category\": \"CredentialAccess\",\\r\\n  \"MicrosoftDefenderAtp.Investiga...   \n",
       "4  {\\r\\n  \"MicrosoftDefenderAtp.Category\": \"CredentialAccess\",\\r\\n  \"MicrosoftDefenderAtp.Investiga...   \n",
       "\n",
       "                                                                                              Entities  \\\n",
       "0  [\\r\\n  {\\r\\n    \"$id\": \"4\",\\r\\n    \"DnsDomain\": \"na.contosohotels.com\",\\r\\n    \"HostName\": \"vict...   \n",
       "1  [\\r\\n  {\\r\\n    \"$id\": \"4\",\\r\\n    \"DnsDomain\": \"na.contosohotels.com\",\\r\\n    \"HostName\": \"vict...   \n",
       "2  [\\r\\n  {\\r\\n    \"$id\": \"4\",\\r\\n    \"DnsDomain\": \"na.contosohotels.com\",\\r\\n    \"HostName\": \"vict...   \n",
       "3  [\\r\\n  {\\r\\n    \"$id\": \"4\",\\r\\n    \"DnsDomain\": \"na.contosohotels.com\",\\r\\n    \"HostName\": \"vict...   \n",
       "4  [\\r\\n  {\\r\\n    \"$id\": \"4\",\\r\\n    \"DnsDomain\": \"na.contosohotels.com\",\\r\\n    \"HostName\": \"vict...   \n",
       "\n",
       "  SourceSystem WorkspaceSubscriptionId WorkspaceResourceGroup ExtendedLinks  \\\n",
       "0    Detection                                                                \n",
       "1    Detection                                                                \n",
       "2    Detection                                                                \n",
       "3    Detection                                                                \n",
       "4    Detection                                                                \n",
       "\n",
       "                                     ProductName ProductComponentName  \\\n",
       "0  Microsoft Defender Advanced Threat Protection                        \n",
       "1  Microsoft Defender Advanced Threat Protection                        \n",
       "2  Microsoft Defender Advanced Threat Protection                        \n",
       "3  Microsoft Defender Advanced Threat Protection                        \n",
       "4  Microsoft Defender Advanced Threat Protection                        \n",
       "\n",
       "                                                                     AlertLink  \\\n",
       "0  https://securitycenter.microsoft.com/alert/da637426874826633442_-1480645585   \n",
       "1  https://securitycenter.microsoft.com/alert/da637426874826014018_-1390662053   \n",
       "2   https://securitycenter.microsoft.com/alert/da637426874824572229_-192666782   \n",
       "3   https://securitycenter.microsoft.com/alert/da637426874824572229_-192666782   \n",
       "4   https://securitycenter.microsoft.com/alert/da637426874824572229_-192666782   \n",
       "\n",
       "  Status              CompromisedEntity           Tactics           Type  \\\n",
       "0    New  victim00.na.contosohotels.com  CredentialAccess  SecurityAlert   \n",
       "1    New  victim00.na.contosohotels.com           Unknown  SecurityAlert   \n",
       "2    New  victim00.na.contosohotels.com  CredentialAccess  SecurityAlert   \n",
       "3    New  victim00.na.contosohotels.com  CredentialAccess  SecurityAlert   \n",
       "4    New  victim00.na.contosohotels.com  CredentialAccess  SecurityAlert   \n",
       "\n",
       "   Computer src_hostname src_accountname src_procname  host_match  acct_match  \\\n",
       "0  victim00     victim00                                     True       False   \n",
       "1  victim00     victim00                                     True       False   \n",
       "2  victim00     victim00                                     True       False   \n",
       "3  victim00     victim00                                     True       False   \n",
       "4  victim00     victim00                                     True       False   \n",
       "\n",
       "   proc_match  \n",
       "0       False  \n",
       "1       False  \n",
       "2       False  \n",
       "3       False  \n",
       "4       False  "
      ]
     },
     "execution_count": 92,
     "metadata": {},
     "output_type": "execute_result"
    }
   ],
   "source": [
    "Host.AzureSentinel.SecurityAlert_list_related_alerts(host_name=\"victim00\").head(5)"
   ]
  },
  {
   "cell_type": "markdown",
   "metadata": {},
   "source": [
    "We also have a preview of a notebook tool that lets you\n",
    "browser around entities and their pivot functions, search\n",
    "for a function by keyword and view the help for that function.\n",
    "This is going to be released shortly.\n",
    "\n",
    "> <p style=\"color:red\"><b>Warning:</b> post-0.9.0 functionality</p>\n",
    "> This will throw and error in v0.9.0 of MSTICPy"
   ]
  },
  {
   "cell_type": "code",
   "execution_count": 26,
   "metadata": {},
   "outputs": [
    {
     "data": {
      "application/vnd.jupyter.widget-view+json": {
       "model_id": "0372aea7f6a14d57b9a45360feb6d2d8",
       "version_major": 2,
       "version_minor": 0
      },
      "text/plain": [
       "VBox(children=(HBox(children=(VBox(children=(HTML(value='<b>Entities</b>'), Select(description='entity', layou…"
      ]
     },
     "metadata": {},
     "output_type": "display_data"
    }
   ],
   "source": [
    "Pivot.browse()"
   ]
  },
  {
   "cell_type": "markdown",
   "metadata": {},
   "source": [
    "## Standardized way of calling Pivot functions\n",
    "\n",
    "Due to various factors (historical, underlying data,\n",
    "developer laziness and forgetfullness, etc.) the functionality\n",
    "in *MSTICPy* can be inconsistent in the way it uses input\n",
    "parameters.\n",
    "\n",
    "Also, many functions will only accept inputs as a single\n",
    "value, or a list or a DataFrame or some unpredictable combination\n",
    "of these.\n",
    "\n",
    "Pivot functions allow you to largely forget about this - you\n",
    "can use the same function whether you have:\n",
    "- a single value\n",
    "- a list (or any iterable) of values\n",
    "- a DataFrame with the input value in one of the columns.\n",
    "\n",
    "Let's take an example. \n",
    "\n",
    "Suppose we have a set of IP addresses pasted\n",
    "from somewhere that we want to use as input."
   ]
  },
  {
   "cell_type": "raw",
   "metadata": {},
   "source": [
    "0, 172.217.15.99, Public\n",
    "1, 40.85.232.64, Public\n",
    "2, 20.38.98.100, Public\n",
    "3, 23.96.64.84, Public\n",
    "4, 65.55.44.108, Public\n",
    "5, 131.107.147.209, Public\n",
    "6, 10.0.3.4, Private\n",
    "7, 10.0.3.5, Private\n",
    "8, 13.82.152.48, Public"
   ]
  },
  {
   "cell_type": "markdown",
   "metadata": {},
   "source": [
    "We need to convert this into a Python data object of some sort.\n",
    "To do this we can use another Pivot utility `%%txt2df`. This is a\n",
    "Jupyter/IPython magic function so you can just paste you data in\n",
    "a cell.\n",
    "Use `%%txt2df --help` in an empty cell to see the full syntax.\n",
    "\n",
    "The example below we specify a comma separator, that the\n",
    "data has a headers row and to save the converted data as\n",
    "a DataFrame named \"ip_df\".\n",
    "\n",
    "> Warning this will overwrite any existing variable of this\n",
    "name"
   ]
  },
  {
   "cell_type": "code",
   "execution_count": 104,
   "metadata": {},
   "outputs": [
    {
     "data": {
      "text/html": [
       "<div>\n",
       "<style scoped>\n",
       "    .dataframe tbody tr th:only-of-type {\n",
       "        vertical-align: middle;\n",
       "    }\n",
       "\n",
       "    .dataframe tbody tr th {\n",
       "        vertical-align: top;\n",
       "    }\n",
       "\n",
       "    .dataframe thead th {\n",
       "        text-align: right;\n",
       "    }\n",
       "</style>\n",
       "<table border=\"1\" class=\"dataframe\">\n",
       "  <thead>\n",
       "    <tr style=\"text-align: right;\">\n",
       "      <th></th>\n",
       "      <th>idx</th>\n",
       "      <th>ip</th>\n",
       "      <th>type</th>\n",
       "    </tr>\n",
       "  </thead>\n",
       "  <tbody>\n",
       "    <tr>\n",
       "      <th>0</th>\n",
       "      <td>0</td>\n",
       "      <td>172.217.15.99</td>\n",
       "      <td>Public</td>\n",
       "    </tr>\n",
       "    <tr>\n",
       "      <th>1</th>\n",
       "      <td>1</td>\n",
       "      <td>40.85.232.64</td>\n",
       "      <td>Public</td>\n",
       "    </tr>\n",
       "    <tr>\n",
       "      <th>2</th>\n",
       "      <td>2</td>\n",
       "      <td>20.38.98.100</td>\n",
       "      <td>Public</td>\n",
       "    </tr>\n",
       "    <tr>\n",
       "      <th>3</th>\n",
       "      <td>3</td>\n",
       "      <td>23.96.64.84</td>\n",
       "      <td>Public</td>\n",
       "    </tr>\n",
       "    <tr>\n",
       "      <th>4</th>\n",
       "      <td>4</td>\n",
       "      <td>65.55.44.108</td>\n",
       "      <td>Public</td>\n",
       "    </tr>\n",
       "    <tr>\n",
       "      <th>5</th>\n",
       "      <td>5</td>\n",
       "      <td>131.107.147.209</td>\n",
       "      <td>Public</td>\n",
       "    </tr>\n",
       "    <tr>\n",
       "      <th>6</th>\n",
       "      <td>6</td>\n",
       "      <td>10.0.3.4</td>\n",
       "      <td>Private</td>\n",
       "    </tr>\n",
       "    <tr>\n",
       "      <th>7</th>\n",
       "      <td>7</td>\n",
       "      <td>10.0.3.5</td>\n",
       "      <td>Private</td>\n",
       "    </tr>\n",
       "    <tr>\n",
       "      <th>8</th>\n",
       "      <td>8</td>\n",
       "      <td>13.82.152.48</td>\n",
       "      <td>Public</td>\n",
       "    </tr>\n",
       "  </tbody>\n",
       "</table>\n",
       "</div>"
      ],
      "text/plain": [
       "   idx               ip     type\n",
       "0    0    172.217.15.99   Public\n",
       "1    1     40.85.232.64   Public\n",
       "2    2     20.38.98.100   Public\n",
       "3    3      23.96.64.84   Public\n",
       "4    4     65.55.44.108   Public\n",
       "5    5  131.107.147.209   Public\n",
       "6    6         10.0.3.4  Private\n",
       "7    7         10.0.3.5  Private\n",
       "8    8     13.82.152.48   Public"
      ]
     },
     "execution_count": 104,
     "metadata": {},
     "output_type": "execute_result"
    }
   ],
   "source": [
    "%%txt2df --sep , --headers --name ip_df\n",
    "idx, ip, type\n",
    "0, 172.217.15.99, Public\n",
    "1, 40.85.232.64, Public\n",
    "2, 20.38.98.100, Public\n",
    "3, 23.96.64.84, Public\n",
    "4, 65.55.44.108, Public\n",
    "5, 131.107.147.209, Public\n",
    "6, 10.0.3.4, Private\n",
    "7, 10.0.3.5, Private\n",
    "8, 13.82.152.48, Public\n"
   ]
  },
  {
   "cell_type": "markdown",
   "metadata": {},
   "source": [
    "For our example we'll also create a standard Python list\n",
    "from the ip column."
   ]
  },
  {
   "cell_type": "code",
   "execution_count": 106,
   "metadata": {},
   "outputs": [
    {
     "name": "stdout",
     "output_type": "stream",
     "text": [
      "['172.217.15.99', '40.85.232.64', '20.38.98.100', '23.96.64.84', '65.55.44.108', '131.107.147.209', '10.0.3.4', '10.0.3.5', '13.82.152.48']\n"
     ]
    }
   ],
   "source": [
    "ip_list = list(ip_df.ip)\n",
    "print(ip_list)"
   ]
  },
  {
   "cell_type": "markdown",
   "metadata": {},
   "source": [
    "### How did this work before?\n",
    "\n",
    "If you recall the earlier example of `get_ip_type`, passing it\n",
    "a list or DataFrame doesn't result in anything useful."
   ]
  },
  {
   "cell_type": "code",
   "execution_count": 30,
   "metadata": {},
   "outputs": [
    {
     "name": "stdout",
     "output_type": "stream",
     "text": [
      "['172.217.15.99', '40.85.232.64', '20.38.98.100', '23.96.64.84', '65.55.44.108', '131.107.147.209', '10.0.3.4', '10.0.3.5', '13.82.152.48'] does not appear to be an IPv4 or IPv6 address\n"
     ]
    },
    {
     "data": {
      "text/plain": [
       "'Unspecified'"
      ]
     },
     "execution_count": 30,
     "metadata": {},
     "output_type": "execute_result"
    }
   ],
   "source": [
    "get_ip_type(ip_list)"
   ]
  },
  {
   "cell_type": "markdown",
   "metadata": {},
   "source": [
    "### Pivot versions are (somewhat) agnostic to input data format"
   ]
  },
  {
   "cell_type": "markdown",
   "metadata": {},
   "source": [
    "However, the pivotized version can accept and correctly process\n",
    "a list"
   ]
  },
  {
   "cell_type": "code",
   "execution_count": 107,
   "metadata": {},
   "outputs": [
    {
     "data": {
      "text/html": [
       "<div>\n",
       "<style scoped>\n",
       "    .dataframe tbody tr th:only-of-type {\n",
       "        vertical-align: middle;\n",
       "    }\n",
       "\n",
       "    .dataframe tbody tr th {\n",
       "        vertical-align: top;\n",
       "    }\n",
       "\n",
       "    .dataframe thead th {\n",
       "        text-align: right;\n",
       "    }\n",
       "</style>\n",
       "<table border=\"1\" class=\"dataframe\">\n",
       "  <thead>\n",
       "    <tr style=\"text-align: right;\">\n",
       "      <th></th>\n",
       "      <th>ip</th>\n",
       "      <th>result</th>\n",
       "    </tr>\n",
       "  </thead>\n",
       "  <tbody>\n",
       "    <tr>\n",
       "      <th>0</th>\n",
       "      <td>172.217.15.99</td>\n",
       "      <td>Public</td>\n",
       "    </tr>\n",
       "    <tr>\n",
       "      <th>1</th>\n",
       "      <td>40.85.232.64</td>\n",
       "      <td>Public</td>\n",
       "    </tr>\n",
       "    <tr>\n",
       "      <th>2</th>\n",
       "      <td>20.38.98.100</td>\n",
       "      <td>Public</td>\n",
       "    </tr>\n",
       "    <tr>\n",
       "      <th>3</th>\n",
       "      <td>23.96.64.84</td>\n",
       "      <td>Public</td>\n",
       "    </tr>\n",
       "    <tr>\n",
       "      <th>4</th>\n",
       "      <td>65.55.44.108</td>\n",
       "      <td>Public</td>\n",
       "    </tr>\n",
       "    <tr>\n",
       "      <th>5</th>\n",
       "      <td>131.107.147.209</td>\n",
       "      <td>Public</td>\n",
       "    </tr>\n",
       "    <tr>\n",
       "      <th>6</th>\n",
       "      <td>10.0.3.4</td>\n",
       "      <td>Private</td>\n",
       "    </tr>\n",
       "    <tr>\n",
       "      <th>7</th>\n",
       "      <td>10.0.3.5</td>\n",
       "      <td>Private</td>\n",
       "    </tr>\n",
       "    <tr>\n",
       "      <th>8</th>\n",
       "      <td>13.82.152.48</td>\n",
       "      <td>Public</td>\n",
       "    </tr>\n",
       "  </tbody>\n",
       "</table>\n",
       "</div>"
      ],
      "text/plain": [
       "                ip   result\n",
       "0    172.217.15.99   Public\n",
       "1     40.85.232.64   Public\n",
       "2     20.38.98.100   Public\n",
       "3      23.96.64.84   Public\n",
       "4     65.55.44.108   Public\n",
       "5  131.107.147.209   Public\n",
       "6         10.0.3.4  Private\n",
       "7         10.0.3.5  Private\n",
       "8     13.82.152.48   Public"
      ]
     },
     "execution_count": 107,
     "metadata": {},
     "output_type": "execute_result"
    }
   ],
   "source": [
    "IpAddress.util.ip_type(ip_list)"
   ]
  },
  {
   "cell_type": "markdown",
   "metadata": {},
   "source": [
    "In the case of a DataFrame, things are a little more\n",
    "complicated - we have to tell the function \n",
    "the name of the column that\n",
    "contains the input data."
   ]
  },
  {
   "cell_type": "code",
   "execution_count": 32,
   "metadata": {},
   "outputs": [
    {
     "ename": "KeyError",
     "evalue": "(\"'ip_column' is not in the input dataframe\", 'Please specify the column when calling the function.You can use one of the parameter names for this:', ['column', 'input_column', 'input_col', 'src_column', 'src_col'])",
     "output_type": "error",
     "traceback": [
      "\u001b[1;31m---------------------------------------------------------------------------\u001b[0m",
      "\u001b[1;31mKeyError\u001b[0m                                  Traceback (most recent call last)",
      "\u001b[1;32m<ipython-input-32-debf57d805c7>\u001b[0m in \u001b[0;36m<module>\u001b[1;34m\u001b[0m\n\u001b[1;32m----> 1\u001b[1;33m \u001b[0mentities\u001b[0m\u001b[1;33m.\u001b[0m\u001b[0mIpAddress\u001b[0m\u001b[1;33m.\u001b[0m\u001b[0mutil\u001b[0m\u001b[1;33m.\u001b[0m\u001b[0mwhois\u001b[0m\u001b[1;33m(\u001b[0m\u001b[0mip_df\u001b[0m\u001b[1;33m)\u001b[0m\u001b[1;33m\u001b[0m\u001b[1;33m\u001b[0m\u001b[0m\n\u001b[0m",
      "\u001b[1;32me:\\src\\microsoft\\msticpy\\msticpy\\datamodel\\pivot_register.py\u001b[0m in \u001b[0;36mpivot_lookup\u001b[1;34m(*args, **kwargs)\u001b[0m\n\u001b[0;32m    172\u001b[0m         \u001b[1;31m# {\"data\": input_df, \"src_column\": input_column}\u001b[0m\u001b[1;33m\u001b[0m\u001b[1;33m\u001b[0m\u001b[1;33m\u001b[0m\u001b[0m\n\u001b[0;32m    173\u001b[0m         input_df, input_column, param_dict = _create_input_df(\n\u001b[1;32m--> 174\u001b[1;33m             \u001b[0minput_value\u001b[0m\u001b[1;33m,\u001b[0m \u001b[0mpivot_reg\u001b[0m\u001b[1;33m,\u001b[0m \u001b[0mparent_kwargs\u001b[0m\u001b[1;33m=\u001b[0m\u001b[0mkwargs\u001b[0m\u001b[1;33m\u001b[0m\u001b[1;33m\u001b[0m\u001b[0m\n\u001b[0m\u001b[0;32m    175\u001b[0m         )\n\u001b[0;32m    176\u001b[0m \u001b[1;33m\u001b[0m\u001b[0m\n",
      "\u001b[1;32me:\\src\\microsoft\\msticpy\\msticpy\\datamodel\\pivot_register.py\u001b[0m in \u001b[0;36m_create_input_df\u001b[1;34m(input_value, pivot_reg, parent_kwargs)\u001b[0m\n\u001b[0;32m    326\u001b[0m                 \u001b[1;34m\"Please specify the column when calling the function.\"\u001b[0m\u001b[1;33m\u001b[0m\u001b[1;33m\u001b[0m\u001b[0m\n\u001b[0;32m    327\u001b[0m                 \u001b[1;34m\"You can use one of the parameter names for this:\"\u001b[0m\u001b[1;33m,\u001b[0m\u001b[1;33m\u001b[0m\u001b[1;33m\u001b[0m\u001b[0m\n\u001b[1;32m--> 328\u001b[1;33m                 \u001b[0m_DF_SRC_COL_PARAM_NAMES\u001b[0m\u001b[1;33m,\u001b[0m\u001b[1;33m\u001b[0m\u001b[1;33m\u001b[0m\u001b[0m\n\u001b[0m\u001b[0;32m    329\u001b[0m             )\n\u001b[0;32m    330\u001b[0m     \u001b[1;31m# we want to get rid of data=xyz parameters from kwargs, since we're adding them\u001b[0m\u001b[1;33m\u001b[0m\u001b[1;33m\u001b[0m\u001b[1;33m\u001b[0m\u001b[0m\n",
      "\u001b[1;31mKeyError\u001b[0m: (\"'ip_column' is not in the input dataframe\", 'Please specify the column when calling the function.You can use one of the parameter names for this:', ['column', 'input_column', 'input_col', 'src_column', 'src_col'])"
     ]
    }
   ],
   "source": [
    "IpAddress.util.whois(ip_df)  # won't work!"
   ]
  },
  {
   "cell_type": "code",
   "execution_count": 108,
   "metadata": {},
   "outputs": [
    {
     "data": {
      "text/html": [
       "<div>\n",
       "<style scoped>\n",
       "    .dataframe tbody tr th:only-of-type {\n",
       "        vertical-align: middle;\n",
       "    }\n",
       "\n",
       "    .dataframe tbody tr th {\n",
       "        vertical-align: top;\n",
       "    }\n",
       "\n",
       "    .dataframe thead th {\n",
       "        text-align: right;\n",
       "    }\n",
       "</style>\n",
       "<table border=\"1\" class=\"dataframe\">\n",
       "  <thead>\n",
       "    <tr style=\"text-align: right;\">\n",
       "      <th></th>\n",
       "      <th>nir</th>\n",
       "      <th>asn_registry</th>\n",
       "      <th>asn</th>\n",
       "      <th>asn_cidr</th>\n",
       "      <th>asn_country_code</th>\n",
       "      <th>asn_date</th>\n",
       "      <th>asn_description</th>\n",
       "      <th>query</th>\n",
       "      <th>nets</th>\n",
       "      <th>raw</th>\n",
       "      <th>referral</th>\n",
       "      <th>raw_referral</th>\n",
       "    </tr>\n",
       "  </thead>\n",
       "  <tbody>\n",
       "    <tr>\n",
       "      <th>0</th>\n",
       "      <td>NaN</td>\n",
       "      <td>arin</td>\n",
       "      <td>15169</td>\n",
       "      <td>172.217.15.0/24</td>\n",
       "      <td>US</td>\n",
       "      <td>2012-04-16</td>\n",
       "      <td>GOOGLE, US</td>\n",
       "      <td>172.217.15.99</td>\n",
       "      <td>[{'cidr': '172.217.0.0/16', 'name': 'GOOGLE', 'handle': 'NET-172-217-0-0-1', 'range': '172.217.0...</td>\n",
       "      <td>NaN</td>\n",
       "      <td>NaN</td>\n",
       "      <td>NaN</td>\n",
       "    </tr>\n",
       "    <tr>\n",
       "      <th>1</th>\n",
       "      <td>NaN</td>\n",
       "      <td>arin</td>\n",
       "      <td>8075</td>\n",
       "      <td>40.80.0.0/12</td>\n",
       "      <td>US</td>\n",
       "      <td>2015-02-23</td>\n",
       "      <td>MICROSOFT-CORP-MSN-AS-BLOCK, US</td>\n",
       "      <td>40.85.232.64</td>\n",
       "      <td>[{'cidr': '40.80.0.0/12, 40.124.0.0/16, 40.125.0.0/17, 40.74.0.0/15, 40.120.0.0/14, 40.76.0.0/14...</td>\n",
       "      <td>NaN</td>\n",
       "      <td>NaN</td>\n",
       "      <td>NaN</td>\n",
       "    </tr>\n",
       "    <tr>\n",
       "      <th>2</th>\n",
       "      <td>NaN</td>\n",
       "      <td>arin</td>\n",
       "      <td>8075</td>\n",
       "      <td>20.36.0.0/14</td>\n",
       "      <td>US</td>\n",
       "      <td>2017-10-18</td>\n",
       "      <td>MICROSOFT-CORP-MSN-AS-BLOCK, US</td>\n",
       "      <td>20.38.98.100</td>\n",
       "      <td>[{'cidr': '20.64.0.0/10, 20.40.0.0/13, 20.34.0.0/15, 20.128.0.0/16, 20.36.0.0/14, 20.48.0.0/12, ...</td>\n",
       "      <td>NaN</td>\n",
       "      <td>NaN</td>\n",
       "      <td>NaN</td>\n",
       "    </tr>\n",
       "    <tr>\n",
       "      <th>3</th>\n",
       "      <td>NaN</td>\n",
       "      <td>arin</td>\n",
       "      <td>8075</td>\n",
       "      <td>23.96.0.0/14</td>\n",
       "      <td>US</td>\n",
       "      <td>2013-06-18</td>\n",
       "      <td>MICROSOFT-CORP-MSN-AS-BLOCK, US</td>\n",
       "      <td>23.96.64.84</td>\n",
       "      <td>[{'cidr': '23.96.0.0/13', 'name': 'MSFT', 'handle': 'NET-23-96-0-0-1', 'range': '23.96.0.0 - 23....</td>\n",
       "      <td>NaN</td>\n",
       "      <td>NaN</td>\n",
       "      <td>NaN</td>\n",
       "    </tr>\n",
       "    <tr>\n",
       "      <th>4</th>\n",
       "      <td>NaN</td>\n",
       "      <td>arin</td>\n",
       "      <td>8075</td>\n",
       "      <td>65.52.0.0/14</td>\n",
       "      <td>US</td>\n",
       "      <td>2001-02-14</td>\n",
       "      <td>MICROSOFT-CORP-MSN-AS-BLOCK, US</td>\n",
       "      <td>65.55.44.108</td>\n",
       "      <td>[{'cidr': '65.52.0.0/14', 'name': 'MICROSOFT-1BLK', 'handle': 'NET-65-52-0-0-1', 'range': '65.52...</td>\n",
       "      <td>NaN</td>\n",
       "      <td>NaN</td>\n",
       "      <td>NaN</td>\n",
       "    </tr>\n",
       "    <tr>\n",
       "      <th>5</th>\n",
       "      <td>NaN</td>\n",
       "      <td>arin</td>\n",
       "      <td>3598</td>\n",
       "      <td>131.107.0.0/16</td>\n",
       "      <td>US</td>\n",
       "      <td>1988-11-11</td>\n",
       "      <td>MICROSOFT-CORP-AS, US</td>\n",
       "      <td>131.107.147.209</td>\n",
       "      <td>[{'cidr': '131.107.0.0/16', 'name': 'MICROSOFT', 'handle': 'NET-131-107-0-0-1', 'range': '131.10...</td>\n",
       "      <td>NaN</td>\n",
       "      <td>NaN</td>\n",
       "      <td>NaN</td>\n",
       "    </tr>\n",
       "    <tr>\n",
       "      <th>6</th>\n",
       "      <td>NaN</td>\n",
       "      <td>NaN</td>\n",
       "      <td>NaN</td>\n",
       "      <td>NaN</td>\n",
       "      <td>NaN</td>\n",
       "      <td>NaN</td>\n",
       "      <td>NaN</td>\n",
       "      <td>NaN</td>\n",
       "      <td>NaN</td>\n",
       "      <td>NaN</td>\n",
       "      <td>NaN</td>\n",
       "      <td>NaN</td>\n",
       "    </tr>\n",
       "    <tr>\n",
       "      <th>7</th>\n",
       "      <td>NaN</td>\n",
       "      <td>NaN</td>\n",
       "      <td>NaN</td>\n",
       "      <td>NaN</td>\n",
       "      <td>NaN</td>\n",
       "      <td>NaN</td>\n",
       "      <td>NaN</td>\n",
       "      <td>NaN</td>\n",
       "      <td>NaN</td>\n",
       "      <td>NaN</td>\n",
       "      <td>NaN</td>\n",
       "      <td>NaN</td>\n",
       "    </tr>\n",
       "    <tr>\n",
       "      <th>8</th>\n",
       "      <td>NaN</td>\n",
       "      <td>arin</td>\n",
       "      <td>8075</td>\n",
       "      <td>13.64.0.0/11</td>\n",
       "      <td>US</td>\n",
       "      <td>2015-03-26</td>\n",
       "      <td>MICROSOFT-CORP-MSN-AS-BLOCK, US</td>\n",
       "      <td>13.82.152.48</td>\n",
       "      <td>[{'cidr': '13.96.0.0/13, 13.104.0.0/14, 13.64.0.0/11', 'name': 'MSFT', 'handle': 'NET-13-64-0-0-...</td>\n",
       "      <td>NaN</td>\n",
       "      <td>NaN</td>\n",
       "      <td>NaN</td>\n",
       "    </tr>\n",
       "  </tbody>\n",
       "</table>\n",
       "</div>"
      ],
      "text/plain": [
       "   nir asn_registry    asn         asn_cidr asn_country_code    asn_date  \\\n",
       "0  NaN         arin  15169  172.217.15.0/24               US  2012-04-16   \n",
       "1  NaN         arin   8075     40.80.0.0/12               US  2015-02-23   \n",
       "2  NaN         arin   8075     20.36.0.0/14               US  2017-10-18   \n",
       "3  NaN         arin   8075     23.96.0.0/14               US  2013-06-18   \n",
       "4  NaN         arin   8075     65.52.0.0/14               US  2001-02-14   \n",
       "5  NaN         arin   3598   131.107.0.0/16               US  1988-11-11   \n",
       "6  NaN          NaN    NaN              NaN              NaN         NaN   \n",
       "7  NaN          NaN    NaN              NaN              NaN         NaN   \n",
       "8  NaN         arin   8075     13.64.0.0/11               US  2015-03-26   \n",
       "\n",
       "                   asn_description            query  \\\n",
       "0                       GOOGLE, US    172.217.15.99   \n",
       "1  MICROSOFT-CORP-MSN-AS-BLOCK, US     40.85.232.64   \n",
       "2  MICROSOFT-CORP-MSN-AS-BLOCK, US     20.38.98.100   \n",
       "3  MICROSOFT-CORP-MSN-AS-BLOCK, US      23.96.64.84   \n",
       "4  MICROSOFT-CORP-MSN-AS-BLOCK, US     65.55.44.108   \n",
       "5            MICROSOFT-CORP-AS, US  131.107.147.209   \n",
       "6                              NaN              NaN   \n",
       "7                              NaN              NaN   \n",
       "8  MICROSOFT-CORP-MSN-AS-BLOCK, US     13.82.152.48   \n",
       "\n",
       "                                                                                                  nets  \\\n",
       "0  [{'cidr': '172.217.0.0/16', 'name': 'GOOGLE', 'handle': 'NET-172-217-0-0-1', 'range': '172.217.0...   \n",
       "1  [{'cidr': '40.80.0.0/12, 40.124.0.0/16, 40.125.0.0/17, 40.74.0.0/15, 40.120.0.0/14, 40.76.0.0/14...   \n",
       "2  [{'cidr': '20.64.0.0/10, 20.40.0.0/13, 20.34.0.0/15, 20.128.0.0/16, 20.36.0.0/14, 20.48.0.0/12, ...   \n",
       "3  [{'cidr': '23.96.0.0/13', 'name': 'MSFT', 'handle': 'NET-23-96-0-0-1', 'range': '23.96.0.0 - 23....   \n",
       "4  [{'cidr': '65.52.0.0/14', 'name': 'MICROSOFT-1BLK', 'handle': 'NET-65-52-0-0-1', 'range': '65.52...   \n",
       "5  [{'cidr': '131.107.0.0/16', 'name': 'MICROSOFT', 'handle': 'NET-131-107-0-0-1', 'range': '131.10...   \n",
       "6                                                                                                  NaN   \n",
       "7                                                                                                  NaN   \n",
       "8  [{'cidr': '13.96.0.0/13, 13.104.0.0/14, 13.64.0.0/11', 'name': 'MSFT', 'handle': 'NET-13-64-0-0-...   \n",
       "\n",
       "   raw  referral  raw_referral  \n",
       "0  NaN       NaN           NaN  \n",
       "1  NaN       NaN           NaN  \n",
       "2  NaN       NaN           NaN  \n",
       "3  NaN       NaN           NaN  \n",
       "4  NaN       NaN           NaN  \n",
       "5  NaN       NaN           NaN  \n",
       "6  NaN       NaN           NaN  \n",
       "7  NaN       NaN           NaN  \n",
       "8  NaN       NaN           NaN  "
      ]
     },
     "execution_count": 108,
     "metadata": {},
     "output_type": "execute_result"
    }
   ],
   "source": [
    "IpAddress.util.whois(ip_df, column=\"ip\")  # correct"
   ]
  },
  {
   "cell_type": "markdown",
   "metadata": {},
   "source": [
    "> Note: for most functions you can ignore the parameter\n",
    "name and just specify it as a positional parameter.\n",
    "You can also use the original parameter name of the underlying\n",
    "function or the placeholder name \"value\".\n",
    "\n",
    "The following are all equivalent:\n",
    "```python\n",
    "IpAddress.util.ip_type(ip_list)\n",
    "IpAddress.util.ip_type(ip_str=ip_list)\n",
    "IpAddress.util.ip_type(value=ip_list)\n",
    "IpAddress.util.ip_type(data=ip_list)\n",
    "```\n",
    "\n",
    "When passing both a DataFrame and column name use:\n",
    "```python\n",
    "IpAddress.util.ip_type(data=ip_df, column=\"col_name\")\n",
    "```\n",
    "You can also pass an entity instance of an entity\n",
    "as a input parameter. The pivot code knows which attribute\n",
    "or attributes of an entity will provider the input value."
   ]
  },
  {
   "cell_type": "code",
   "execution_count": 114,
   "metadata": {},
   "outputs": [
    {
     "data": {
      "text/html": [
       "<div>\n",
       "<style scoped>\n",
       "    .dataframe tbody tr th:only-of-type {\n",
       "        vertical-align: middle;\n",
       "    }\n",
       "\n",
       "    .dataframe tbody tr th {\n",
       "        vertical-align: top;\n",
       "    }\n",
       "\n",
       "    .dataframe thead th {\n",
       "        text-align: right;\n",
       "    }\n",
       "</style>\n",
       "<table border=\"1\" class=\"dataframe\">\n",
       "  <thead>\n",
       "    <tr style=\"text-align: right;\">\n",
       "      <th></th>\n",
       "      <th>ip</th>\n",
       "      <th>result</th>\n",
       "    </tr>\n",
       "  </thead>\n",
       "  <tbody>\n",
       "    <tr>\n",
       "      <th>0</th>\n",
       "      <td>40.85.232.64</td>\n",
       "      <td>Public</td>\n",
       "    </tr>\n",
       "  </tbody>\n",
       "</table>\n",
       "</div>"
      ],
      "text/plain": [
       "             ip  result\n",
       "0  40.85.232.64  Public"
      ]
     },
     "execution_count": 114,
     "metadata": {},
     "output_type": "execute_result"
    }
   ],
   "source": [
    "ip_entity = IpAddress(Address=\"40.85.232.64\")\n",
    "IpAddress.util.ip_type(ip_entity)"
   ]
  },
  {
   "cell_type": "markdown",
   "metadata": {},
   "source": [
    "### Iterable/DataFrame inputs and single-value functions\n",
    "\n",
    "Many of the underlying functions only accept single values\n",
    "as inputs. Examples of these are the data query functions - typically\n",
    "they expect a single host name, IP address, etc.\n",
    "\n",
    "Pivot knows about the type of parameters that the function accepts.\n",
    "It will adjust the input to match the expectations of the underlying\n",
    "function. If a list or DataFrame is passed as input to a single-value\n",
    "function Pivot will split the input and call the function once for\n",
    "each value. It then combines the output into a single DataFrame\n",
    "before returning the results. \n",
    "\n",
    "You can read a bit more about how this is done in the Appendix TODO"
   ]
  },
  {
   "cell_type": "markdown",
   "metadata": {},
   "source": [
    "### Data queries - where does the time range come from?\n",
    "\n",
    "The Pivot class has a buit-in time range. This is used by\n",
    "default for all queries. Don't worry - you can change it easily"
   ]
  },
  {
   "cell_type": "code",
   "execution_count": 45,
   "metadata": {},
   "outputs": [
    {
     "data": {
      "text/plain": [
       "TimeStamp(start=2021-02-15 21:01:40.381864, end=2021-02-16 21:01:40.381864, period=-1 day, 0:00:00)"
      ]
     },
     "execution_count": 45,
     "metadata": {},
     "output_type": "execute_result"
    }
   ],
   "source": [
    "Pivot.current.timespan"
   ]
  },
  {
   "cell_type": "markdown",
   "metadata": {},
   "source": [
    "You can edit the time range interactively"
   ]
  },
  {
   "cell_type": "code",
   "execution_count": 46,
   "metadata": {},
   "outputs": [
    {
     "data": {
      "application/vnd.jupyter.widget-view+json": {
       "model_id": "",
       "version_major": 2,
       "version_minor": 0
      },
      "text/plain": [
       "VBox(children=(HTML(value='<h4>Set time range for pivot functions.</h4>'), HBox(children=(DatePicker(value=dat…"
      ]
     },
     "metadata": {},
     "output_type": "display_data"
    }
   ],
   "source": [
    "Pivot.current.edit_query_time()"
   ]
  },
  {
   "cell_type": "markdown",
   "metadata": {},
   "source": [
    "Or by setting the timespan property directly"
   ]
  },
  {
   "cell_type": "code",
   "execution_count": 47,
   "metadata": {},
   "outputs": [
    {
     "data": {
      "text/plain": [
       "TimeStamp(start=2021-02-01 00:00:00, end=2021-02-15 00:00:00, period=-14 days +00:00:00)"
      ]
     },
     "execution_count": 47,
     "metadata": {},
     "output_type": "execute_result"
    }
   ],
   "source": [
    "from msticpy.common.timespan import TimeSpan\n",
    "# TimeSpan accepts datetimes or datestrings\n",
    "timespan = TimeSpan(start=\"02/01/2021\", end=\"02/15/2021\")\n",
    "Pivot.current.timespan = timespan"
   ]
  },
  {
   "cell_type": "markdown",
   "metadata": {},
   "source": [
    "In an upcoming release there is also a convenience function\n",
    "for setting the time directly with Python datetimes or date strings\n",
    "> <b><p style=\"color:red\">Warning:</p></b> post-0.9.0 functionality</br>\n",
    "> This will throw and error in v0.9.0 of MSTICPy"
   ]
  },
  {
   "cell_type": "code",
   "execution_count": 49,
   "metadata": {},
   "outputs": [
    {
     "data": {
      "application/vnd.jupyter.widget-view+json": {
       "model_id": "",
       "version_major": 2,
       "version_minor": 0
      },
      "text/plain": [
       "VBox(children=(HTML(value='<h4>Set time range for pivot functions.</h4>'), HBox(children=(DatePicker(value=dat…"
      ]
     },
     "metadata": {},
     "output_type": "display_data"
    }
   ],
   "source": [
    "Pivot.current.set_timespan(start=\"2020-02-06 03:00:00\", end=\"2021-02-15 01:42:42\")"
   ]
  },
  {
   "cell_type": "markdown",
   "metadata": {},
   "source": [
    "You can also override the built-in time settings by specifying\n",
    "`start` and `end` as parameters."
   ]
  },
  {
   "cell_type": "code",
   "execution_count": null,
   "metadata": {},
   "outputs": [],
   "source": [
    "Host.AzureSentinel.SecurityAlert_list_related_alerts(host_name=\"victim00\", start=dt1, end=dt2)"
   ]
  },
  {
   "cell_type": "markdown",
   "metadata": {},
   "source": [
    "### Supplying extra parameters\n",
    "\n",
    "The Pivot layer will pass any unused keyword parameters to the\n",
    "underlying function. This *does not* usually apply to positional parameters -\n",
    "if you want parameters to get to the function, you have to name them\n",
    "explicitly.\n",
    "In this example the `add_query_items` parameter is passed to the underlying\n",
    "query function"
   ]
  },
  {
   "cell_type": "code",
   "execution_count": 50,
   "metadata": {},
   "outputs": [
    {
     "data": {
      "application/javascript": [
       "try {IPython.notebook.kernel.execute(\"NOTEBOOK_URL = '\" + window.location + \"'\");} catch(err) {;}"
      ],
      "text/plain": [
       "<IPython.core.display.Javascript object>"
      ]
     },
     "metadata": {},
     "output_type": "display_data"
    },
    {
     "data": {
      "text/html": [
       "<div>\n",
       "<style scoped>\n",
       "    .dataframe tbody tr th:only-of-type {\n",
       "        vertical-align: middle;\n",
       "    }\n",
       "\n",
       "    .dataframe tbody tr th {\n",
       "        vertical-align: top;\n",
       "    }\n",
       "\n",
       "    .dataframe thead th {\n",
       "        text-align: right;\n",
       "    }\n",
       "</style>\n",
       "<table border=\"1\" class=\"dataframe\">\n",
       "  <thead>\n",
       "    <tr style=\"text-align: right;\">\n",
       "      <th></th>\n",
       "      <th>LogonType</th>\n",
       "      <th>count_</th>\n",
       "    </tr>\n",
       "  </thead>\n",
       "  <tbody>\n",
       "    <tr>\n",
       "      <th>0</th>\n",
       "      <td>5</td>\n",
       "      <td>27492</td>\n",
       "    </tr>\n",
       "    <tr>\n",
       "      <th>1</th>\n",
       "      <td>4</td>\n",
       "      <td>12597</td>\n",
       "    </tr>\n",
       "    <tr>\n",
       "      <th>2</th>\n",
       "      <td>3</td>\n",
       "      <td>6936</td>\n",
       "    </tr>\n",
       "    <tr>\n",
       "      <th>3</th>\n",
       "      <td>2</td>\n",
       "      <td>173</td>\n",
       "    </tr>\n",
       "    <tr>\n",
       "      <th>4</th>\n",
       "      <td>10</td>\n",
       "      <td>58</td>\n",
       "    </tr>\n",
       "    <tr>\n",
       "      <th>5</th>\n",
       "      <td>9</td>\n",
       "      <td>8</td>\n",
       "    </tr>\n",
       "    <tr>\n",
       "      <th>6</th>\n",
       "      <td>0</td>\n",
       "      <td>19</td>\n",
       "    </tr>\n",
       "    <tr>\n",
       "      <th>7</th>\n",
       "      <td>11</td>\n",
       "      <td>1</td>\n",
       "    </tr>\n",
       "  </tbody>\n",
       "</table>\n",
       "</div>"
      ],
      "text/plain": [
       "   LogonType  count_\n",
       "0          5   27492\n",
       "1          4   12597\n",
       "2          3    6936\n",
       "3          2     173\n",
       "4         10      58\n",
       "5          9       8\n",
       "6          0      19\n",
       "7         11       1"
      ]
     },
     "execution_count": 50,
     "metadata": {},
     "output_type": "execute_result"
    }
   ],
   "source": [
    "entities.Host.AzureSentinel.SecurityEvent_list_host_logons(\n",
    "    host_name=\"victimPc\",\n",
    "    add_query_items=\"| summarize count() by LogonType\"\n",
    ")"
   ]
  },
  {
   "cell_type": "markdown",
   "metadata": {},
   "source": [
    "## Pivot Pipelines\n",
    "\n",
    "Because all pivot functions accept DataFrames as input\n",
    "and produce DataFrames as output, it means that it is possible\n",
    "to chain pivot functions into a pipeline.\n",
    "\n",
    "### Joining input to output\n",
    "You can join the input to the output. This usually only makes sense\n",
    "when the input is a DataFrame. It\n",
    "lets you keep the previously accumumated results and tag on the\n",
    "additional columns produced by the pivot function you are calling.\n",
    "\n",
    "The `join` parameter supports \"inner\", \"left\", \"right\" and \"outer\"\n",
    "joins (be careful with the latter though!)\n",
    "See [pivot joins documentation](https://msticpy.readthedocs.io/en/latest/data_analysis/PivotFunctions.html#joining-input-to-output-data)\n",
    "\n",
    "Although joining is useful in pipelines you can use it on\n",
    "any function whether in a pipeline or not."
   ]
  },
  {
   "cell_type": "code",
   "execution_count": 34,
   "metadata": {},
   "outputs": [
    {
     "data": {
      "text/html": [
       "<div>\n",
       "<style scoped>\n",
       "    .dataframe tbody tr th:only-of-type {\n",
       "        vertical-align: middle;\n",
       "    }\n",
       "\n",
       "    .dataframe tbody tr th {\n",
       "        vertical-align: top;\n",
       "    }\n",
       "\n",
       "    .dataframe thead th {\n",
       "        text-align: right;\n",
       "    }\n",
       "</style>\n",
       "<table border=\"1\" class=\"dataframe\">\n",
       "  <thead>\n",
       "    <tr style=\"text-align: right;\">\n",
       "      <th></th>\n",
       "      <th>idx</th>\n",
       "      <th>ip</th>\n",
       "      <th>type</th>\n",
       "      <th>nir</th>\n",
       "      <th>asn_registry</th>\n",
       "      <th>asn</th>\n",
       "      <th>asn_cidr</th>\n",
       "      <th>asn_country_code</th>\n",
       "      <th>asn_date</th>\n",
       "      <th>asn_description</th>\n",
       "      <th>query</th>\n",
       "      <th>nets</th>\n",
       "      <th>raw</th>\n",
       "      <th>referral</th>\n",
       "      <th>raw_referral</th>\n",
       "    </tr>\n",
       "  </thead>\n",
       "  <tbody>\n",
       "    <tr>\n",
       "      <th>0</th>\n",
       "      <td>0</td>\n",
       "      <td>172.217.15.99</td>\n",
       "      <td>Public</td>\n",
       "      <td>NaN</td>\n",
       "      <td>arin</td>\n",
       "      <td>15169</td>\n",
       "      <td>172.217.15.0/24</td>\n",
       "      <td>US</td>\n",
       "      <td>2012-04-16</td>\n",
       "      <td>GOOGLE, US</td>\n",
       "      <td>172.217.15.99</td>\n",
       "      <td>[{'cidr': '172.217.0.0/16', 'name': 'GOOGLE', 'handle': 'NET-172-217-0-0-1', 'range': '172.217.0...</td>\n",
       "      <td>NaN</td>\n",
       "      <td>NaN</td>\n",
       "      <td>NaN</td>\n",
       "    </tr>\n",
       "    <tr>\n",
       "      <th>1</th>\n",
       "      <td>1</td>\n",
       "      <td>40.85.232.64</td>\n",
       "      <td>Public</td>\n",
       "      <td>NaN</td>\n",
       "      <td>arin</td>\n",
       "      <td>8075</td>\n",
       "      <td>40.80.0.0/12</td>\n",
       "      <td>US</td>\n",
       "      <td>2015-02-23</td>\n",
       "      <td>MICROSOFT-CORP-MSN-AS-BLOCK, US</td>\n",
       "      <td>40.85.232.64</td>\n",
       "      <td>[{'cidr': '40.80.0.0/12, 40.124.0.0/16, 40.125.0.0/17, 40.74.0.0/15, 40.120.0.0/14, 40.76.0.0/14...</td>\n",
       "      <td>NaN</td>\n",
       "      <td>NaN</td>\n",
       "      <td>NaN</td>\n",
       "    </tr>\n",
       "    <tr>\n",
       "      <th>2</th>\n",
       "      <td>2</td>\n",
       "      <td>20.38.98.100</td>\n",
       "      <td>Public</td>\n",
       "      <td>NaN</td>\n",
       "      <td>arin</td>\n",
       "      <td>8075</td>\n",
       "      <td>20.36.0.0/14</td>\n",
       "      <td>US</td>\n",
       "      <td>2017-10-18</td>\n",
       "      <td>MICROSOFT-CORP-MSN-AS-BLOCK, US</td>\n",
       "      <td>20.38.98.100</td>\n",
       "      <td>[{'cidr': '20.64.0.0/10, 20.40.0.0/13, 20.34.0.0/15, 20.128.0.0/16, 20.36.0.0/14, 20.48.0.0/12, ...</td>\n",
       "      <td>NaN</td>\n",
       "      <td>NaN</td>\n",
       "      <td>NaN</td>\n",
       "    </tr>\n",
       "    <tr>\n",
       "      <th>3</th>\n",
       "      <td>3</td>\n",
       "      <td>23.96.64.84</td>\n",
       "      <td>Public</td>\n",
       "      <td>NaN</td>\n",
       "      <td>arin</td>\n",
       "      <td>8075</td>\n",
       "      <td>23.96.0.0/14</td>\n",
       "      <td>US</td>\n",
       "      <td>2013-06-18</td>\n",
       "      <td>MICROSOFT-CORP-MSN-AS-BLOCK, US</td>\n",
       "      <td>23.96.64.84</td>\n",
       "      <td>[{'cidr': '23.96.0.0/13', 'name': 'MSFT', 'handle': 'NET-23-96-0-0-1', 'range': '23.96.0.0 - 23....</td>\n",
       "      <td>NaN</td>\n",
       "      <td>NaN</td>\n",
       "      <td>NaN</td>\n",
       "    </tr>\n",
       "    <tr>\n",
       "      <th>4</th>\n",
       "      <td>4</td>\n",
       "      <td>65.55.44.108</td>\n",
       "      <td>Public</td>\n",
       "      <td>NaN</td>\n",
       "      <td>arin</td>\n",
       "      <td>8075</td>\n",
       "      <td>65.52.0.0/14</td>\n",
       "      <td>US</td>\n",
       "      <td>2001-02-14</td>\n",
       "      <td>MICROSOFT-CORP-MSN-AS-BLOCK, US</td>\n",
       "      <td>65.55.44.108</td>\n",
       "      <td>[{'cidr': '65.52.0.0/14', 'name': 'MICROSOFT-1BLK', 'handle': 'NET-65-52-0-0-1', 'range': '65.52...</td>\n",
       "      <td>NaN</td>\n",
       "      <td>NaN</td>\n",
       "      <td>NaN</td>\n",
       "    </tr>\n",
       "    <tr>\n",
       "      <th>5</th>\n",
       "      <td>5</td>\n",
       "      <td>131.107.147.209</td>\n",
       "      <td>Public</td>\n",
       "      <td>NaN</td>\n",
       "      <td>arin</td>\n",
       "      <td>3598</td>\n",
       "      <td>131.107.0.0/16</td>\n",
       "      <td>US</td>\n",
       "      <td>1988-11-11</td>\n",
       "      <td>MICROSOFT-CORP-AS, US</td>\n",
       "      <td>131.107.147.209</td>\n",
       "      <td>[{'cidr': '131.107.0.0/16', 'name': 'MICROSOFT', 'handle': 'NET-131-107-0-0-1', 'range': '131.10...</td>\n",
       "      <td>NaN</td>\n",
       "      <td>NaN</td>\n",
       "      <td>NaN</td>\n",
       "    </tr>\n",
       "    <tr>\n",
       "      <th>6</th>\n",
       "      <td>8</td>\n",
       "      <td>13.82.152.48</td>\n",
       "      <td>Public</td>\n",
       "      <td>NaN</td>\n",
       "      <td>arin</td>\n",
       "      <td>8075</td>\n",
       "      <td>13.64.0.0/11</td>\n",
       "      <td>US</td>\n",
       "      <td>2015-03-26</td>\n",
       "      <td>MICROSOFT-CORP-MSN-AS-BLOCK, US</td>\n",
       "      <td>13.82.152.48</td>\n",
       "      <td>[{'cidr': '13.96.0.0/13, 13.104.0.0/14, 13.64.0.0/11', 'name': 'MSFT', 'handle': 'NET-13-64-0-0-...</td>\n",
       "      <td>NaN</td>\n",
       "      <td>NaN</td>\n",
       "      <td>NaN</td>\n",
       "    </tr>\n",
       "  </tbody>\n",
       "</table>\n",
       "</div>"
      ],
      "text/plain": [
       "   idx                ip    type  nir asn_registry    asn         asn_cidr  \\\n",
       "0     0    172.217.15.99  Public  NaN         arin  15169  172.217.15.0/24   \n",
       "1     1     40.85.232.64  Public  NaN         arin   8075     40.80.0.0/12   \n",
       "2     2     20.38.98.100  Public  NaN         arin   8075     20.36.0.0/14   \n",
       "3     3      23.96.64.84  Public  NaN         arin   8075     23.96.0.0/14   \n",
       "4     4     65.55.44.108  Public  NaN         arin   8075     65.52.0.0/14   \n",
       "5     5  131.107.147.209  Public  NaN         arin   3598   131.107.0.0/16   \n",
       "6     8     13.82.152.48  Public  NaN         arin   8075     13.64.0.0/11   \n",
       "\n",
       "  asn_country_code    asn_date                  asn_description  \\\n",
       "0               US  2012-04-16                       GOOGLE, US   \n",
       "1               US  2015-02-23  MICROSOFT-CORP-MSN-AS-BLOCK, US   \n",
       "2               US  2017-10-18  MICROSOFT-CORP-MSN-AS-BLOCK, US   \n",
       "3               US  2013-06-18  MICROSOFT-CORP-MSN-AS-BLOCK, US   \n",
       "4               US  2001-02-14  MICROSOFT-CORP-MSN-AS-BLOCK, US   \n",
       "5               US  1988-11-11            MICROSOFT-CORP-AS, US   \n",
       "6               US  2015-03-26  MICROSOFT-CORP-MSN-AS-BLOCK, US   \n",
       "\n",
       "             query  \\\n",
       "0    172.217.15.99   \n",
       "1     40.85.232.64   \n",
       "2     20.38.98.100   \n",
       "3      23.96.64.84   \n",
       "4     65.55.44.108   \n",
       "5  131.107.147.209   \n",
       "6     13.82.152.48   \n",
       "\n",
       "                                                                                                  nets  \\\n",
       "0  [{'cidr': '172.217.0.0/16', 'name': 'GOOGLE', 'handle': 'NET-172-217-0-0-1', 'range': '172.217.0...   \n",
       "1  [{'cidr': '40.80.0.0/12, 40.124.0.0/16, 40.125.0.0/17, 40.74.0.0/15, 40.120.0.0/14, 40.76.0.0/14...   \n",
       "2  [{'cidr': '20.64.0.0/10, 20.40.0.0/13, 20.34.0.0/15, 20.128.0.0/16, 20.36.0.0/14, 20.48.0.0/12, ...   \n",
       "3  [{'cidr': '23.96.0.0/13', 'name': 'MSFT', 'handle': 'NET-23-96-0-0-1', 'range': '23.96.0.0 - 23....   \n",
       "4  [{'cidr': '65.52.0.0/14', 'name': 'MICROSOFT-1BLK', 'handle': 'NET-65-52-0-0-1', 'range': '65.52...   \n",
       "5  [{'cidr': '131.107.0.0/16', 'name': 'MICROSOFT', 'handle': 'NET-131-107-0-0-1', 'range': '131.10...   \n",
       "6  [{'cidr': '13.96.0.0/13, 13.104.0.0/14, 13.64.0.0/11', 'name': 'MSFT', 'handle': 'NET-13-64-0-0-...   \n",
       "\n",
       "   raw  referral  raw_referral  \n",
       "0  NaN       NaN           NaN  \n",
       "1  NaN       NaN           NaN  \n",
       "2  NaN       NaN           NaN  \n",
       "3  NaN       NaN           NaN  \n",
       "4  NaN       NaN           NaN  \n",
       "5  NaN       NaN           NaN  \n",
       "6  NaN       NaN           NaN  "
      ]
     },
     "execution_count": 34,
     "metadata": {},
     "output_type": "execute_result"
    }
   ],
   "source": [
    "entities.IpAddress.util.whois(ip_df, column=\"ip\", join=\"inner\")"
   ]
  },
  {
   "cell_type": "markdown",
   "metadata": {},
   "source": [
    "<hr>\n",
    "\n",
    "### Pipelines \n",
    "\n",
    "Pivot pipelines are implemented pandas customr accessors.\n",
    "Read more about [Extending pandas here](https://pandas.pydata.org/pandas-docs/stable/development/extending.html)\n",
    "\n",
    "When you load Pivot it adds the `mp_pivot` accessor. This\n",
    "appears as an attribute to DataFrames.\n",
    "\n",
    "```python\n",
    ">>> ips_df.mp_pivot\n",
    "<msticpy.datamodel.pivot_pd_accessor.PivotAccessor at 0x275754e2208>\n",
    "```\n",
    "\n",
    "The main pipelining function `run` is a method of `mp_pivot`.\n",
    "`run` requires two parameters - the pivot function to run and\n",
    "the column to use as input. See [mp_pivot.run documentation](https://msticpy.readthedocs.io/en/latest/data_analysis/PivotFunctions.html#mp-pivot-run)\n",
    "\n",
    "Here is an example of using it to call 4 pivot functions, each\n",
    "using the output of the previous function as input and using\n",
    "the `join` parameter to accumulate the results from each\n",
    "stage.\n",
    "\n",
    "Let's step through it line by line.\n",
    "1. The whole thing is surrounded by a pair of parentheses - this is just\n",
    "   to let us split the whole expression over multiple lines without\n",
    "   Python complaining.\n",
    "2. Next we have `ips_df` - this is just the starting DataFrame, our input data.\n",
    "3. Next we call the `mp_pivot.run()` accessor method on this dataframe.\n",
    "   We pass it the pivot function that we want to run and the input column name.\n",
    "   This column name is the column in ips_df where our input IP addresses are.\n",
    "   We've also specified an `join` type of inner. In this case the join type doesn't\n",
    "   really matter since we know we get exactly one output row for every input row.\n",
    "4. We're using the pandas `query` function to filter out unwanted entries\n",
    "   from the previous stage. In this case we only want Public IP addresses. \n",
    "   This illustrates that you can intersperse standard pandas functions\n",
    "   in the same pipeline. We could have also added a column selector expression\n",
    "   ([[\"col1\", \"col2\"...]]) if we wanted to filter the columns passed to the \n",
    "   next stage\n",
    "5. We are calling a further pivot function - `whois`. Remember the \"column\" parameter\n",
    "   always refers to the input column, i.e. the column from previous stage\n",
    "   that we want to use in this stage.\n",
    "6. We are calling `geoloc_mm` to get geo location details joining with a left\n",
    "   join - this preserves the input data rows and adds null columns in any cases\n",
    "   where the pivot function returned no result.\n",
    "7. Is the same as 6 except is a data query to see if we have any alerts\n",
    "   that contain these IP addresses. Remember, in the case of data queries\n",
    "   we have to name the specific query parameter that we want the input to \n",
    "   go to. In this case, each row value in the \"ip\" column from the previous\n",
    "   stage will be sent to the query.\n",
    "8. Finally we close the parentheses to form a valid Python expression.\n",
    "   The whole expression returns a DataFrame so we can add further pandas\n",
    "   operations here (like `.head(5)` shown here)."
   ]
  },
  {
   "cell_type": "code",
   "execution_count": 128,
   "metadata": {},
   "outputs": [
    {
     "data": {
      "text/html": [
       "<div>\n",
       "<style scoped>\n",
       "    .dataframe tbody tr th:only-of-type {\n",
       "        vertical-align: middle;\n",
       "    }\n",
       "\n",
       "    .dataframe tbody tr th {\n",
       "        vertical-align: top;\n",
       "    }\n",
       "\n",
       "    .dataframe thead th {\n",
       "        text-align: right;\n",
       "    }\n",
       "</style>\n",
       "<table border=\"1\" class=\"dataframe\">\n",
       "  <thead>\n",
       "    <tr style=\"text-align: right;\">\n",
       "      <th></th>\n",
       "      <th>xx</th>\n",
       "    </tr>\n",
       "  </thead>\n",
       "  <tbody>\n",
       "    <tr>\n",
       "      <th>0</th>\n",
       "      <td>192.168.40.32</td>\n",
       "    </tr>\n",
       "    <tr>\n",
       "      <th>1</th>\n",
       "      <td>192.168.1.216</td>\n",
       "    </tr>\n",
       "    <tr>\n",
       "      <th>2</th>\n",
       "      <td>192.168.153.17</td>\n",
       "    </tr>\n",
       "    <tr>\n",
       "      <th>3</th>\n",
       "      <td>3.88.48.125</td>\n",
       "    </tr>\n",
       "    <tr>\n",
       "      <th>4</th>\n",
       "      <td>10.200.104.20</td>\n",
       "    </tr>\n",
       "    <tr>\n",
       "      <th>5</th>\n",
       "      <td>192.168.90.101</td>\n",
       "    </tr>\n",
       "    <tr>\n",
       "      <th>6</th>\n",
       "      <td>192.168.150.50</td>\n",
       "    </tr>\n",
       "    <tr>\n",
       "      <th>7</th>\n",
       "      <td>172.16.100.31</td>\n",
       "    </tr>\n",
       "    <tr>\n",
       "      <th>8</th>\n",
       "      <td>192.168.30.189</td>\n",
       "    </tr>\n",
       "    <tr>\n",
       "      <th>9</th>\n",
       "      <td>10.100.199.10</td>\n",
       "    </tr>\n",
       "    <tr>\n",
       "      <th>10</th>\n",
       "      <td>52.171.57.74</td>\n",
       "    </tr>\n",
       "    <tr>\n",
       "      <th>11</th>\n",
       "      <td>52.171.36.115</td>\n",
       "    </tr>\n",
       "    <tr>\n",
       "      <th>12</th>\n",
       "      <td>20.84.105.0</td>\n",
       "    </tr>\n",
       "    <tr>\n",
       "      <th>13</th>\n",
       "      <td>20.55.97.123</td>\n",
       "    </tr>\n",
       "    <tr>\n",
       "      <th>14</th>\n",
       "      <td>20.84.112.117</td>\n",
       "    </tr>\n",
       "    <tr>\n",
       "      <th>15</th>\n",
       "      <td>192.168.99.137</td>\n",
       "    </tr>\n",
       "    <tr>\n",
       "      <th>16</th>\n",
       "      <td>192.168.55.10</td>\n",
       "    </tr>\n",
       "    <tr>\n",
       "      <th>17</th>\n",
       "      <td>192.168.51.6</td>\n",
       "    </tr>\n",
       "    <tr>\n",
       "      <th>18</th>\n",
       "      <td>104.214.50.229</td>\n",
       "    </tr>\n",
       "    <tr>\n",
       "      <th>19</th>\n",
       "      <td>20.51.104.164</td>\n",
       "    </tr>\n",
       "    <tr>\n",
       "      <th>20</th>\n",
       "      <td>20.81.40.144</td>\n",
       "    </tr>\n",
       "    <tr>\n",
       "      <th>21</th>\n",
       "      <td>20.80.162.44</td>\n",
       "    </tr>\n",
       "    <tr>\n",
       "      <th>22</th>\n",
       "      <td>172.31.0.0</td>\n",
       "    </tr>\n",
       "    <tr>\n",
       "      <th>23</th>\n",
       "      <td>104.215.76.44</td>\n",
       "    </tr>\n",
       "    <tr>\n",
       "      <th>24</th>\n",
       "      <td>172.31.0.1</td>\n",
       "    </tr>\n",
       "    <tr>\n",
       "      <th>25</th>\n",
       "      <td>20.81.42.55</td>\n",
       "    </tr>\n",
       "    <tr>\n",
       "      <th>26</th>\n",
       "      <td>20.55.80.232</td>\n",
       "    </tr>\n",
       "    <tr>\n",
       "      <th>27</th>\n",
       "      <td>172.16.199.104</td>\n",
       "    </tr>\n",
       "    <tr>\n",
       "      <th>28</th>\n",
       "      <td>79.124.62.82</td>\n",
       "    </tr>\n",
       "  </tbody>\n",
       "</table>\n",
       "</div>"
      ],
      "text/plain": [
       "                xx\n",
       "0    192.168.40.32\n",
       "1    192.168.1.216\n",
       "2   192.168.153.17\n",
       "3      3.88.48.125\n",
       "4    10.200.104.20\n",
       "5   192.168.90.101\n",
       "6   192.168.150.50\n",
       "7    172.16.100.31\n",
       "8   192.168.30.189\n",
       "9    10.100.199.10\n",
       "10    52.171.57.74\n",
       "11   52.171.36.115\n",
       "12     20.84.105.0\n",
       "13    20.55.97.123\n",
       "14   20.84.112.117\n",
       "15  192.168.99.137\n",
       "16   192.168.55.10\n",
       "17    192.168.51.6\n",
       "18  104.214.50.229\n",
       "19   20.51.104.164\n",
       "20    20.81.40.144\n",
       "21    20.80.162.44\n",
       "22      172.31.0.0\n",
       "23   104.215.76.44\n",
       "24      172.31.0.1\n",
       "25     20.81.42.55\n",
       "26    20.55.80.232\n",
       "27  172.16.199.104\n",
       "28    79.124.62.82"
      ]
     },
     "execution_count": 128,
     "metadata": {},
     "output_type": "execute_result"
    }
   ],
   "source": [
    "ip_list = [\n",
    "    \"192.168.40.32\",\n",
    "    \"192.168.1.216\",\n",
    "    \"192.168.153.17\",\n",
    "    \"3.88.48.125\",\n",
    "    \"10.200.104.20\",\n",
    "    \"192.168.90.101\",\n",
    "    \"192.168.150.50\",\n",
    "    \"172.16.100.31\",\n",
    "    \"192.168.30.189\",\n",
    "    \"10.100.199.10\",\n",
    "]\n",
    "ips_df = pd.DataFrame(ip_list, columns=[\"xx\"])"
   ]
  },
  {
   "cell_type": "code",
   "execution_count": 56,
   "metadata": {},
   "outputs": [
    {
     "data": {
      "application/javascript": [
       "try {IPython.notebook.kernel.execute(\"NOTEBOOK_URL = '\" + window.location + \"'\");} catch(err) {;}"
      ],
      "text/plain": [
       "<IPython.core.display.Javascript object>"
      ]
     },
     "metadata": {},
     "output_type": "display_data"
    },
    {
     "data": {
      "application/javascript": [
       "try {IPython.notebook.kernel.execute(\"NOTEBOOK_URL = '\" + window.location + \"'\");} catch(err) {;}"
      ],
      "text/plain": [
       "<IPython.core.display.Javascript object>"
      ]
     },
     "metadata": {},
     "output_type": "display_data"
    },
    {
     "data": {
      "application/javascript": [
       "try {IPython.notebook.kernel.execute(\"NOTEBOOK_URL = '\" + window.location + \"'\");} catch(err) {;}"
      ],
      "text/plain": [
       "<IPython.core.display.Javascript object>"
      ]
     },
     "metadata": {},
     "output_type": "display_data"
    },
    {
     "data": {
      "application/javascript": [
       "try {IPython.notebook.kernel.execute(\"NOTEBOOK_URL = '\" + window.location + \"'\");} catch(err) {;}"
      ],
      "text/plain": [
       "<IPython.core.display.Javascript object>"
      ]
     },
     "metadata": {},
     "output_type": "display_data"
    },
    {
     "data": {
      "application/javascript": [
       "try {IPython.notebook.kernel.execute(\"NOTEBOOK_URL = '\" + window.location + \"'\");} catch(err) {;}"
      ],
      "text/plain": [
       "<IPython.core.display.Javascript object>"
      ]
     },
     "metadata": {},
     "output_type": "display_data"
    },
    {
     "data": {
      "application/javascript": [
       "try {IPython.notebook.kernel.execute(\"NOTEBOOK_URL = '\" + window.location + \"'\");} catch(err) {;}"
      ],
      "text/plain": [
       "<IPython.core.display.Javascript object>"
      ]
     },
     "metadata": {},
     "output_type": "display_data"
    },
    {
     "data": {
      "application/javascript": [
       "try {IPython.notebook.kernel.execute(\"NOTEBOOK_URL = '\" + window.location + \"'\");} catch(err) {;}"
      ],
      "text/plain": [
       "<IPython.core.display.Javascript object>"
      ]
     },
     "metadata": {},
     "output_type": "display_data"
    },
    {
     "data": {
      "application/javascript": [
       "try {IPython.notebook.kernel.execute(\"NOTEBOOK_URL = '\" + window.location + \"'\");} catch(err) {;}"
      ],
      "text/plain": [
       "<IPython.core.display.Javascript object>"
      ]
     },
     "metadata": {},
     "output_type": "display_data"
    },
    {
     "data": {
      "application/javascript": [
       "try {IPython.notebook.kernel.execute(\"NOTEBOOK_URL = '\" + window.location + \"'\");} catch(err) {;}"
      ],
      "text/plain": [
       "<IPython.core.display.Javascript object>"
      ]
     },
     "metadata": {},
     "output_type": "display_data"
    },
    {
     "data": {
      "application/javascript": [
       "try {IPython.notebook.kernel.execute(\"NOTEBOOK_URL = '\" + window.location + \"'\");} catch(err) {;}"
      ],
      "text/plain": [
       "<IPython.core.display.Javascript object>"
      ]
     },
     "metadata": {},
     "output_type": "display_data"
    },
    {
     "data": {
      "text/html": [
       "<div>\n",
       "<style scoped>\n",
       "    .dataframe tbody tr th:only-of-type {\n",
       "        vertical-align: middle;\n",
       "    }\n",
       "\n",
       "    .dataframe tbody tr th {\n",
       "        vertical-align: top;\n",
       "    }\n",
       "\n",
       "    .dataframe thead th {\n",
       "        text-align: right;\n",
       "    }\n",
       "</style>\n",
       "<table border=\"1\" class=\"dataframe\">\n",
       "  <thead>\n",
       "    <tr style=\"text-align: right;\">\n",
       "      <th></th>\n",
       "      <th>TenantId</th>\n",
       "      <th>TimeGenerated</th>\n",
       "      <th>AlertDisplayName</th>\n",
       "      <th>AlertName</th>\n",
       "      <th>Severity</th>\n",
       "      <th>Description</th>\n",
       "      <th>ProviderName</th>\n",
       "      <th>VendorName</th>\n",
       "      <th>VendorOriginalId</th>\n",
       "      <th>SystemAlertId</th>\n",
       "      <th>ResourceId</th>\n",
       "      <th>SourceComputerId</th>\n",
       "      <th>AlertType</th>\n",
       "      <th>ConfidenceLevel</th>\n",
       "      <th>ConfidenceScore</th>\n",
       "      <th>IsIncident</th>\n",
       "      <th>StartTimeUtc</th>\n",
       "      <th>EndTimeUtc</th>\n",
       "      <th>ProcessingEndTime</th>\n",
       "      <th>RemediationSteps</th>\n",
       "      <th>ExtendedProperties</th>\n",
       "      <th>Entities</th>\n",
       "      <th>SourceSystem</th>\n",
       "      <th>WorkspaceSubscriptionId</th>\n",
       "      <th>WorkspaceResourceGroup</th>\n",
       "      <th>ExtendedLinks</th>\n",
       "      <th>ProductName</th>\n",
       "      <th>ProductComponentName</th>\n",
       "      <th>AlertLink</th>\n",
       "      <th>Status</th>\n",
       "      <th>CompromisedEntity</th>\n",
       "      <th>Tactics</th>\n",
       "      <th>Type</th>\n",
       "      <th>SystemAlertId1</th>\n",
       "      <th>ExtendedProperties1</th>\n",
       "      <th>Entities1</th>\n",
       "      <th>MatchingIps</th>\n",
       "      <th>src_row_index</th>\n",
       "    </tr>\n",
       "  </thead>\n",
       "  <tbody>\n",
       "    <tr>\n",
       "      <th>0</th>\n",
       "      <td>8ecf8077-cf51-4820-aadd-14040956f35d</td>\n",
       "      <td>2020-12-23 14:08:12+00:00</td>\n",
       "      <td>Microsoft Threat Intelligence Analytics</td>\n",
       "      <td>Microsoft Threat Intelligence Analytics</td>\n",
       "      <td>Medium</td>\n",
       "      <td>Microsoft threat intelligence analytic has detected Blocked communication to a known WatchList d...</td>\n",
       "      <td>Threat Intelligence Alerts</td>\n",
       "      <td>Microsoft</td>\n",
       "      <td>91d806d3-6b6f-4e5c-a78f-e674d602be51</td>\n",
       "      <td>625ff9af-dddc-0cf8-9d4b-e79067fa2e71</td>\n",
       "      <td></td>\n",
       "      <td></td>\n",
       "      <td>ThreatIntelligence</td>\n",
       "      <td>83</td>\n",
       "      <td>NaN</td>\n",
       "      <td>False</td>\n",
       "      <td>2020-12-23 13:48:23+00:00</td>\n",
       "      <td>2020-12-23 13:48:23+00:00</td>\n",
       "      <td>2020-12-23 14:08:15+00:00</td>\n",
       "      <td></td>\n",
       "      <td>{\\r\\n  \"Query\": \"CommonSecurityLog| where RequestURL hasprefix(\\\"www.arboretum.hu\\\") | where Tim...</td>\n",
       "      <td>[\\r\\n  {\\r\\n    \"$id\": \"3\",\\r\\n    \"DnsDomain\": \"www.arboretum.hu\",\\r\\n    \"HostName\": \"www.arbo...</td>\n",
       "      <td>Detection</td>\n",
       "      <td>d1d8779d-38d7-4f06-91db-9cbc8de0176f</td>\n",
       "      <td>soc</td>\n",
       "      <td></td>\n",
       "      <td>Azure Sentinel</td>\n",
       "      <td>Microsoft Threat Intelligence Analytics</td>\n",
       "      <td></td>\n",
       "      <td>New</td>\n",
       "      <td>3.88.48.125</td>\n",
       "      <td>Unknown</td>\n",
       "      <td>SecurityAlert</td>\n",
       "      <td>625ff9af-dddc-0cf8-9d4b-e79067fa2e71</td>\n",
       "      <td>{\\r\\n  \"Query\": \"CommonSecurityLog| where RequestURL hasprefix(\\\"www.arboretum.hu\\\") | where Tim...</td>\n",
       "      <td>[\\r\\n  {\\r\\n    \"$id\": \"3\",\\r\\n    \"DnsDomain\": \"www.arboretum.hu\",\\r\\n    \"HostName\": \"www.arbo...</td>\n",
       "      <td>[3.88.48.125]</td>\n",
       "      <td>0</td>\n",
       "    </tr>\n",
       "    <tr>\n",
       "      <th>1</th>\n",
       "      <td>8ecf8077-cf51-4820-aadd-14040956f35d</td>\n",
       "      <td>2020-12-23 14:08:12+00:00</td>\n",
       "      <td>Microsoft Threat Intelligence Analytics</td>\n",
       "      <td>Microsoft Threat Intelligence Analytics</td>\n",
       "      <td>Medium</td>\n",
       "      <td>Microsoft threat intelligence analytic has detected Blocked communication to a known WatchList d...</td>\n",
       "      <td>Threat Intelligence Alerts</td>\n",
       "      <td>Microsoft</td>\n",
       "      <td>173063c4-10dd-4dd2-9e4f-ec5ed596ec54</td>\n",
       "      <td>c977f904-ab30-d57e-986f-9d6ebf72771b</td>\n",
       "      <td></td>\n",
       "      <td></td>\n",
       "      <td>ThreatIntelligence</td>\n",
       "      <td>83</td>\n",
       "      <td>NaN</td>\n",
       "      <td>False</td>\n",
       "      <td>2020-12-23 13:48:23+00:00</td>\n",
       "      <td>2020-12-23 13:48:23+00:00</td>\n",
       "      <td>2020-12-23 14:08:15+00:00</td>\n",
       "      <td></td>\n",
       "      <td>{\\r\\n  \"Query\": \"CommonSecurityLog| where RequestURL hasprefix(\\\"www.arboretum.hu\\\") | where Tim...</td>\n",
       "      <td>[\\r\\n  {\\r\\n    \"$id\": \"3\",\\r\\n    \"DnsDomain\": \"www.arboretum.hu\",\\r\\n    \"HostName\": \"www.arbo...</td>\n",
       "      <td>Detection</td>\n",
       "      <td>d1d8779d-38d7-4f06-91db-9cbc8de0176f</td>\n",
       "      <td>soc</td>\n",
       "      <td></td>\n",
       "      <td>Azure Sentinel</td>\n",
       "      <td>Microsoft Threat Intelligence Analytics</td>\n",
       "      <td></td>\n",
       "      <td>New</td>\n",
       "      <td>3.88.48.125</td>\n",
       "      <td>Unknown</td>\n",
       "      <td>SecurityAlert</td>\n",
       "      <td>c977f904-ab30-d57e-986f-9d6ebf72771b</td>\n",
       "      <td>{\\r\\n  \"Query\": \"CommonSecurityLog| where RequestURL hasprefix(\\\"www.arboretum.hu\\\") | where Tim...</td>\n",
       "      <td>[\\r\\n  {\\r\\n    \"$id\": \"3\",\\r\\n    \"DnsDomain\": \"www.arboretum.hu\",\\r\\n    \"HostName\": \"www.arbo...</td>\n",
       "      <td>[3.88.48.125]</td>\n",
       "      <td>0</td>\n",
       "    </tr>\n",
       "    <tr>\n",
       "      <th>2</th>\n",
       "      <td>8ecf8077-cf51-4820-aadd-14040956f35d</td>\n",
       "      <td>2020-12-23 14:08:12+00:00</td>\n",
       "      <td>Microsoft Threat Intelligence Analytics</td>\n",
       "      <td>Microsoft Threat Intelligence Analytics</td>\n",
       "      <td>Medium</td>\n",
       "      <td>Microsoft threat intelligence analytic has detected Blocked communication to a known WatchList d...</td>\n",
       "      <td>Threat Intelligence Alerts</td>\n",
       "      <td>Microsoft</td>\n",
       "      <td>58b2cda2-11c6-42b8-b6f1-72751cad8f38</td>\n",
       "      <td>9ee547e4-cba1-47d1-e1f9-87247b693a52</td>\n",
       "      <td></td>\n",
       "      <td></td>\n",
       "      <td>ThreatIntelligence</td>\n",
       "      <td>83</td>\n",
       "      <td>NaN</td>\n",
       "      <td>False</td>\n",
       "      <td>2020-12-23 13:48:23+00:00</td>\n",
       "      <td>2020-12-23 13:48:23+00:00</td>\n",
       "      <td>2020-12-23 14:08:15+00:00</td>\n",
       "      <td></td>\n",
       "      <td>{\\r\\n  \"Query\": \"CommonSecurityLog| where RequestURL hasprefix(\\\"www.arboretum.hu\\\") | where Tim...</td>\n",
       "      <td>[\\r\\n  {\\r\\n    \"$id\": \"3\",\\r\\n    \"DnsDomain\": \"www.arboretum.hu\",\\r\\n    \"HostName\": \"www.arbo...</td>\n",
       "      <td>Detection</td>\n",
       "      <td>d1d8779d-38d7-4f06-91db-9cbc8de0176f</td>\n",
       "      <td>soc</td>\n",
       "      <td></td>\n",
       "      <td>Azure Sentinel</td>\n",
       "      <td>Microsoft Threat Intelligence Analytics</td>\n",
       "      <td></td>\n",
       "      <td>New</td>\n",
       "      <td>3.88.48.125</td>\n",
       "      <td>Unknown</td>\n",
       "      <td>SecurityAlert</td>\n",
       "      <td>9ee547e4-cba1-47d1-e1f9-87247b693a52</td>\n",
       "      <td>{\\r\\n  \"Query\": \"CommonSecurityLog| where RequestURL hasprefix(\\\"www.arboretum.hu\\\") | where Tim...</td>\n",
       "      <td>[\\r\\n  {\\r\\n    \"$id\": \"3\",\\r\\n    \"DnsDomain\": \"www.arboretum.hu\",\\r\\n    \"HostName\": \"www.arbo...</td>\n",
       "      <td>[3.88.48.125]</td>\n",
       "      <td>0</td>\n",
       "    </tr>\n",
       "    <tr>\n",
       "      <th>3</th>\n",
       "      <td>8ecf8077-cf51-4820-aadd-14040956f35d</td>\n",
       "      <td>2020-12-23 14:08:12+00:00</td>\n",
       "      <td>Microsoft Threat Intelligence Analytics</td>\n",
       "      <td>Microsoft Threat Intelligence Analytics</td>\n",
       "      <td>Medium</td>\n",
       "      <td>Microsoft threat intelligence analytic has detected Blocked communication to a known WatchList d...</td>\n",
       "      <td>Threat Intelligence Alerts</td>\n",
       "      <td>Microsoft</td>\n",
       "      <td>e945f91e-5726-4581-8564-4c04e5414a58</td>\n",
       "      <td>83a0e08a-1adb-ef75-1c56-f6c9ce25ca69</td>\n",
       "      <td></td>\n",
       "      <td></td>\n",
       "      <td>ThreatIntelligence</td>\n",
       "      <td>83</td>\n",
       "      <td>NaN</td>\n",
       "      <td>False</td>\n",
       "      <td>2020-12-23 13:48:23+00:00</td>\n",
       "      <td>2020-12-23 13:48:23+00:00</td>\n",
       "      <td>2020-12-23 14:08:16+00:00</td>\n",
       "      <td></td>\n",
       "      <td>{\\r\\n  \"Query\": \"CommonSecurityLog| where RequestURL hasprefix(\\\"www.arboretum.hu\\\") | where Tim...</td>\n",
       "      <td>[\\r\\n  {\\r\\n    \"$id\": \"3\",\\r\\n    \"DnsDomain\": \"www.arboretum.hu\",\\r\\n    \"HostName\": \"www.arbo...</td>\n",
       "      <td>Detection</td>\n",
       "      <td>d1d8779d-38d7-4f06-91db-9cbc8de0176f</td>\n",
       "      <td>soc</td>\n",
       "      <td></td>\n",
       "      <td>Azure Sentinel</td>\n",
       "      <td>Microsoft Threat Intelligence Analytics</td>\n",
       "      <td></td>\n",
       "      <td>New</td>\n",
       "      <td>3.88.48.125</td>\n",
       "      <td>Unknown</td>\n",
       "      <td>SecurityAlert</td>\n",
       "      <td>83a0e08a-1adb-ef75-1c56-f6c9ce25ca69</td>\n",
       "      <td>{\\r\\n  \"Query\": \"CommonSecurityLog| where RequestURL hasprefix(\\\"www.arboretum.hu\\\") | where Tim...</td>\n",
       "      <td>[\\r\\n  {\\r\\n    \"$id\": \"3\",\\r\\n    \"DnsDomain\": \"www.arboretum.hu\",\\r\\n    \"HostName\": \"www.arbo...</td>\n",
       "      <td>[3.88.48.125]</td>\n",
       "      <td>0</td>\n",
       "    </tr>\n",
       "    <tr>\n",
       "      <th>4</th>\n",
       "      <td>8ecf8077-cf51-4820-aadd-14040956f35d</td>\n",
       "      <td>2020-12-23 13:53:46+00:00</td>\n",
       "      <td>Microsoft Threat Intelligence Analytics</td>\n",
       "      <td>Microsoft Threat Intelligence Analytics</td>\n",
       "      <td>Medium</td>\n",
       "      <td>Microsoft threat intelligence analytic has detected Blocked communication to a known WatchList d...</td>\n",
       "      <td>Threat Intelligence Alerts</td>\n",
       "      <td>Microsoft</td>\n",
       "      <td>a95aaf62-9628-418b-8f5f-0f1f26dcdc13</td>\n",
       "      <td>fde729f6-674b-997a-17eb-e4e7d2b3690d</td>\n",
       "      <td></td>\n",
       "      <td></td>\n",
       "      <td>ThreatIntelligence</td>\n",
       "      <td>83</td>\n",
       "      <td>NaN</td>\n",
       "      <td>False</td>\n",
       "      <td>2020-12-23 13:48:23+00:00</td>\n",
       "      <td>2020-12-23 13:48:23+00:00</td>\n",
       "      <td>2020-12-23 13:53:47+00:00</td>\n",
       "      <td></td>\n",
       "      <td>{\\r\\n  \"Query\": \"CommonSecurityLog| where RequestURL hasprefix(\\\"www.arboretum.hu\\\") | where Tim...</td>\n",
       "      <td>[\\r\\n  {\\r\\n    \"$id\": \"3\",\\r\\n    \"DnsDomain\": \"www.arboretum.hu\",\\r\\n    \"HostName\": \"www.arbo...</td>\n",
       "      <td>Detection</td>\n",
       "      <td>d1d8779d-38d7-4f06-91db-9cbc8de0176f</td>\n",
       "      <td>soc</td>\n",
       "      <td></td>\n",
       "      <td>Azure Sentinel</td>\n",
       "      <td>Microsoft Threat Intelligence Analytics</td>\n",
       "      <td></td>\n",
       "      <td>New</td>\n",
       "      <td>3.88.48.125</td>\n",
       "      <td>Unknown</td>\n",
       "      <td>SecurityAlert</td>\n",
       "      <td>fde729f6-674b-997a-17eb-e4e7d2b3690d</td>\n",
       "      <td>{\\r\\n  \"Query\": \"CommonSecurityLog| where RequestURL hasprefix(\\\"www.arboretum.hu\\\") | where Tim...</td>\n",
       "      <td>[\\r\\n  {\\r\\n    \"$id\": \"3\",\\r\\n    \"DnsDomain\": \"www.arboretum.hu\",\\r\\n    \"HostName\": \"www.arbo...</td>\n",
       "      <td>[3.88.48.125]</td>\n",
       "      <td>0</td>\n",
       "    </tr>\n",
       "  </tbody>\n",
       "</table>\n",
       "</div>"
      ],
      "text/plain": [
       "                               TenantId             TimeGenerated  \\\n",
       "0  8ecf8077-cf51-4820-aadd-14040956f35d 2020-12-23 14:08:12+00:00   \n",
       "1  8ecf8077-cf51-4820-aadd-14040956f35d 2020-12-23 14:08:12+00:00   \n",
       "2  8ecf8077-cf51-4820-aadd-14040956f35d 2020-12-23 14:08:12+00:00   \n",
       "3  8ecf8077-cf51-4820-aadd-14040956f35d 2020-12-23 14:08:12+00:00   \n",
       "4  8ecf8077-cf51-4820-aadd-14040956f35d 2020-12-23 13:53:46+00:00   \n",
       "\n",
       "                          AlertDisplayName  \\\n",
       "0  Microsoft Threat Intelligence Analytics   \n",
       "1  Microsoft Threat Intelligence Analytics   \n",
       "2  Microsoft Threat Intelligence Analytics   \n",
       "3  Microsoft Threat Intelligence Analytics   \n",
       "4  Microsoft Threat Intelligence Analytics   \n",
       "\n",
       "                                 AlertName Severity  \\\n",
       "0  Microsoft Threat Intelligence Analytics   Medium   \n",
       "1  Microsoft Threat Intelligence Analytics   Medium   \n",
       "2  Microsoft Threat Intelligence Analytics   Medium   \n",
       "3  Microsoft Threat Intelligence Analytics   Medium   \n",
       "4  Microsoft Threat Intelligence Analytics   Medium   \n",
       "\n",
       "                                                                                           Description  \\\n",
       "0  Microsoft threat intelligence analytic has detected Blocked communication to a known WatchList d...   \n",
       "1  Microsoft threat intelligence analytic has detected Blocked communication to a known WatchList d...   \n",
       "2  Microsoft threat intelligence analytic has detected Blocked communication to a known WatchList d...   \n",
       "3  Microsoft threat intelligence analytic has detected Blocked communication to a known WatchList d...   \n",
       "4  Microsoft threat intelligence analytic has detected Blocked communication to a known WatchList d...   \n",
       "\n",
       "                 ProviderName VendorName  \\\n",
       "0  Threat Intelligence Alerts  Microsoft   \n",
       "1  Threat Intelligence Alerts  Microsoft   \n",
       "2  Threat Intelligence Alerts  Microsoft   \n",
       "3  Threat Intelligence Alerts  Microsoft   \n",
       "4  Threat Intelligence Alerts  Microsoft   \n",
       "\n",
       "                       VendorOriginalId                         SystemAlertId  \\\n",
       "0  91d806d3-6b6f-4e5c-a78f-e674d602be51  625ff9af-dddc-0cf8-9d4b-e79067fa2e71   \n",
       "1  173063c4-10dd-4dd2-9e4f-ec5ed596ec54  c977f904-ab30-d57e-986f-9d6ebf72771b   \n",
       "2  58b2cda2-11c6-42b8-b6f1-72751cad8f38  9ee547e4-cba1-47d1-e1f9-87247b693a52   \n",
       "3  e945f91e-5726-4581-8564-4c04e5414a58  83a0e08a-1adb-ef75-1c56-f6c9ce25ca69   \n",
       "4  a95aaf62-9628-418b-8f5f-0f1f26dcdc13  fde729f6-674b-997a-17eb-e4e7d2b3690d   \n",
       "\n",
       "  ResourceId SourceComputerId           AlertType ConfidenceLevel  \\\n",
       "0                              ThreatIntelligence              83   \n",
       "1                              ThreatIntelligence              83   \n",
       "2                              ThreatIntelligence              83   \n",
       "3                              ThreatIntelligence              83   \n",
       "4                              ThreatIntelligence              83   \n",
       "\n",
       "   ConfidenceScore  IsIncident              StartTimeUtc  \\\n",
       "0              NaN       False 2020-12-23 13:48:23+00:00   \n",
       "1              NaN       False 2020-12-23 13:48:23+00:00   \n",
       "2              NaN       False 2020-12-23 13:48:23+00:00   \n",
       "3              NaN       False 2020-12-23 13:48:23+00:00   \n",
       "4              NaN       False 2020-12-23 13:48:23+00:00   \n",
       "\n",
       "                 EndTimeUtc         ProcessingEndTime RemediationSteps  \\\n",
       "0 2020-12-23 13:48:23+00:00 2020-12-23 14:08:15+00:00                    \n",
       "1 2020-12-23 13:48:23+00:00 2020-12-23 14:08:15+00:00                    \n",
       "2 2020-12-23 13:48:23+00:00 2020-12-23 14:08:15+00:00                    \n",
       "3 2020-12-23 13:48:23+00:00 2020-12-23 14:08:16+00:00                    \n",
       "4 2020-12-23 13:48:23+00:00 2020-12-23 13:53:47+00:00                    \n",
       "\n",
       "                                                                                    ExtendedProperties  \\\n",
       "0  {\\r\\n  \"Query\": \"CommonSecurityLog| where RequestURL hasprefix(\\\"www.arboretum.hu\\\") | where Tim...   \n",
       "1  {\\r\\n  \"Query\": \"CommonSecurityLog| where RequestURL hasprefix(\\\"www.arboretum.hu\\\") | where Tim...   \n",
       "2  {\\r\\n  \"Query\": \"CommonSecurityLog| where RequestURL hasprefix(\\\"www.arboretum.hu\\\") | where Tim...   \n",
       "3  {\\r\\n  \"Query\": \"CommonSecurityLog| where RequestURL hasprefix(\\\"www.arboretum.hu\\\") | where Tim...   \n",
       "4  {\\r\\n  \"Query\": \"CommonSecurityLog| where RequestURL hasprefix(\\\"www.arboretum.hu\\\") | where Tim...   \n",
       "\n",
       "                                                                                              Entities  \\\n",
       "0  [\\r\\n  {\\r\\n    \"$id\": \"3\",\\r\\n    \"DnsDomain\": \"www.arboretum.hu\",\\r\\n    \"HostName\": \"www.arbo...   \n",
       "1  [\\r\\n  {\\r\\n    \"$id\": \"3\",\\r\\n    \"DnsDomain\": \"www.arboretum.hu\",\\r\\n    \"HostName\": \"www.arbo...   \n",
       "2  [\\r\\n  {\\r\\n    \"$id\": \"3\",\\r\\n    \"DnsDomain\": \"www.arboretum.hu\",\\r\\n    \"HostName\": \"www.arbo...   \n",
       "3  [\\r\\n  {\\r\\n    \"$id\": \"3\",\\r\\n    \"DnsDomain\": \"www.arboretum.hu\",\\r\\n    \"HostName\": \"www.arbo...   \n",
       "4  [\\r\\n  {\\r\\n    \"$id\": \"3\",\\r\\n    \"DnsDomain\": \"www.arboretum.hu\",\\r\\n    \"HostName\": \"www.arbo...   \n",
       "\n",
       "  SourceSystem               WorkspaceSubscriptionId WorkspaceResourceGroup  \\\n",
       "0    Detection  d1d8779d-38d7-4f06-91db-9cbc8de0176f                    soc   \n",
       "1    Detection  d1d8779d-38d7-4f06-91db-9cbc8de0176f                    soc   \n",
       "2    Detection  d1d8779d-38d7-4f06-91db-9cbc8de0176f                    soc   \n",
       "3    Detection  d1d8779d-38d7-4f06-91db-9cbc8de0176f                    soc   \n",
       "4    Detection  d1d8779d-38d7-4f06-91db-9cbc8de0176f                    soc   \n",
       "\n",
       "  ExtendedLinks     ProductName                     ProductComponentName  \\\n",
       "0                Azure Sentinel  Microsoft Threat Intelligence Analytics   \n",
       "1                Azure Sentinel  Microsoft Threat Intelligence Analytics   \n",
       "2                Azure Sentinel  Microsoft Threat Intelligence Analytics   \n",
       "3                Azure Sentinel  Microsoft Threat Intelligence Analytics   \n",
       "4                Azure Sentinel  Microsoft Threat Intelligence Analytics   \n",
       "\n",
       "  AlertLink Status CompromisedEntity  Tactics           Type  \\\n",
       "0              New       3.88.48.125  Unknown  SecurityAlert   \n",
       "1              New       3.88.48.125  Unknown  SecurityAlert   \n",
       "2              New       3.88.48.125  Unknown  SecurityAlert   \n",
       "3              New       3.88.48.125  Unknown  SecurityAlert   \n",
       "4              New       3.88.48.125  Unknown  SecurityAlert   \n",
       "\n",
       "                         SystemAlertId1  \\\n",
       "0  625ff9af-dddc-0cf8-9d4b-e79067fa2e71   \n",
       "1  c977f904-ab30-d57e-986f-9d6ebf72771b   \n",
       "2  9ee547e4-cba1-47d1-e1f9-87247b693a52   \n",
       "3  83a0e08a-1adb-ef75-1c56-f6c9ce25ca69   \n",
       "4  fde729f6-674b-997a-17eb-e4e7d2b3690d   \n",
       "\n",
       "                                                                                   ExtendedProperties1  \\\n",
       "0  {\\r\\n  \"Query\": \"CommonSecurityLog| where RequestURL hasprefix(\\\"www.arboretum.hu\\\") | where Tim...   \n",
       "1  {\\r\\n  \"Query\": \"CommonSecurityLog| where RequestURL hasprefix(\\\"www.arboretum.hu\\\") | where Tim...   \n",
       "2  {\\r\\n  \"Query\": \"CommonSecurityLog| where RequestURL hasprefix(\\\"www.arboretum.hu\\\") | where Tim...   \n",
       "3  {\\r\\n  \"Query\": \"CommonSecurityLog| where RequestURL hasprefix(\\\"www.arboretum.hu\\\") | where Tim...   \n",
       "4  {\\r\\n  \"Query\": \"CommonSecurityLog| where RequestURL hasprefix(\\\"www.arboretum.hu\\\") | where Tim...   \n",
       "\n",
       "                                                                                             Entities1  \\\n",
       "0  [\\r\\n  {\\r\\n    \"$id\": \"3\",\\r\\n    \"DnsDomain\": \"www.arboretum.hu\",\\r\\n    \"HostName\": \"www.arbo...   \n",
       "1  [\\r\\n  {\\r\\n    \"$id\": \"3\",\\r\\n    \"DnsDomain\": \"www.arboretum.hu\",\\r\\n    \"HostName\": \"www.arbo...   \n",
       "2  [\\r\\n  {\\r\\n    \"$id\": \"3\",\\r\\n    \"DnsDomain\": \"www.arboretum.hu\",\\r\\n    \"HostName\": \"www.arbo...   \n",
       "3  [\\r\\n  {\\r\\n    \"$id\": \"3\",\\r\\n    \"DnsDomain\": \"www.arboretum.hu\",\\r\\n    \"HostName\": \"www.arbo...   \n",
       "4  [\\r\\n  {\\r\\n    \"$id\": \"3\",\\r\\n    \"DnsDomain\": \"www.arboretum.hu\",\\r\\n    \"HostName\": \"www.arbo...   \n",
       "\n",
       "     MatchingIps  src_row_index  \n",
       "0  [3.88.48.125]              0  \n",
       "1  [3.88.48.125]              0  \n",
       "2  [3.88.48.125]              0  \n",
       "3  [3.88.48.125]              0  \n",
       "4  [3.88.48.125]              0  "
      ]
     },
     "execution_count": 56,
     "metadata": {},
     "output_type": "execute_result"
    }
   ],
   "source": [
    "(\n",
    "    ips_df\n",
    "    .mp_pivot.run(entities.IpAddress.util.ip_type, column=\"IP\", join=\"inner\")\n",
    "    .query(\"result == 'Public'\").head(10)\n",
    "    .mp_pivot.run(entities.IpAddress.util.whois, column=\"ip\", join=\"left\")\n",
    "    .mp_pivot.run(entities.IpAddress.util.geoloc_mm, column=\"ip\", join=\"left\")\n",
    "    .mp_pivot.run(entities.IpAddress.AzureSentinel.SecurityAlert_list_alerts_for_ip, source_ip_list=\"ip\", join=\"left\")\n",
    ").head(5)"
   ]
  },
  {
   "cell_type": "markdown",
   "metadata": {},
   "source": [
    "### Other pipeline functions\n",
    "\n",
    "In addition to `run`, the `mp_pivot` accessor also \n",
    "has the following functions:\n",
    "- `display` - this simply displays the data at the point called in\n",
    "  the pipeline. You can add an optional title, filtering and the number\n",
    "  or rows to display\n",
    "- `tee` - this forks a copy of the dataframe at the point it is\n",
    "  called in the pipeline. It will assign the forked copy to the name\n",
    "  given in the `var_name` parameter. If there is an existing variable of\n",
    "  the same name it will not overwrite it unless you add the `clobber=True`\n",
    "  parameter.\n",
    "  \n",
    "In both cases the pipelined data is passed through unchanged.\n",
    "See [Pivot functions help](https://msticpy.readthedocs.io/en/latest/data_analysis/PivotFunctions.html#mp-pivot-display)\n",
    "for more details.\n",
    "\n",
    "Use of these is shown below"
   ]
  },
  {
   "cell_type": "markdown",
   "metadata": {},
   "source": [
    "```\n",
    "    ...\n",
    "    .mp_pivot.run(entities.IpAddress.util.geoloc_mm, column=\"ip\", join=\"left\")\n",
    "    .mp_pivot.display(title=\"Geo Lookup\", cols=[\"IP\", \"City\"])  # << display an intermediate result\n",
    "    .mp_pivot.tee(var_name=\"geoip_df\", clobber=True)  # << save a copy called 'geoip_df'\n",
    "    .mp_pivot.run(entities.IpAddress.AzureSentinel.SecurityAlert_list_alerts_for_ip, source_ip_list=\"ip\", join=\"left\")\n",
    "```"
   ]
  },
  {
   "cell_type": "markdown",
   "metadata": {},
   "source": [
    "In the next release we've also implemented:\n",
    "- `tee_exec` - this executes a function on a forked copy of the DataFrame\n",
    "  The function must be a pandas function or custom accessor. A\n",
    "  good example of the use of this might be creating a plot or summary\n",
    "  table to display partway through the pipeline."
   ]
  },
  {
   "cell_type": "markdown",
   "metadata": {},
   "source": [
    "## Extending Pivot - adding your own (or someone else's) functions\n",
    "\n",
    "You can add pivot functions of your own. You need to supply:\n",
    "- the function\n",
    "- some metadata that describes where the function can be found\n",
    "  and how the function works\n",
    "\n",
    "\n",
    "Full details of this are [described here](https://msticpy.readthedocs.io/en/latest/data_analysis/PivotFunctions.html#adding-custom-functions-to-the-pivot-interface).\n",
    "\n",
    "The published version of Pivot doesn't let you add functions\n",
    "defined inline (i.e. in the notebook itself) but this will be possible\n",
    "in the next release."
   ]
  },
  {
   "cell_type": "markdown",
   "metadata": {},
   "source": [
    "Assume that we've created this function in a Python module `my_module.py`"
   ]
  },
  {
   "cell_type": "code",
   "execution_count": 154,
   "metadata": {},
   "outputs": [
    {
     "name": "stdout",
     "output_type": "stream",
     "text": [
      "Writing my_module.py\n"
     ]
    }
   ],
   "source": [
    "%%writefile my_module.py\n",
    "\"\"\"U-case and hash\"\"\"\n",
    "from hashlib import md5\n",
    "\n",
    "def my_func(input: str):\n",
    "    md5_hash = \"-\".join(hex(b)[2:] for b in md5(\"hello\".encode(\"utf-8\")).digest())\n",
    "    return {\n",
    "        \"Title\": input.upper(),\n",
    "        \"Hash\": md5_hash\n",
    "    }"
   ]
  },
  {
   "cell_type": "markdown",
   "metadata": {},
   "source": [
    "Create a definition file"
   ]
  },
  {
   "cell_type": "code",
   "execution_count": 173,
   "metadata": {},
   "outputs": [
    {
     "name": "stdout",
     "output_type": "stream",
     "text": [
      "Overwriting my_func.yml\n"
     ]
    }
   ],
   "source": [
    "%%writefile my_func.yml\n",
    "pivot_providers:\n",
    "  my_func_defn:\n",
    "    src_func_name: my_func\n",
    "    src_module: my_module\n",
    "    entity_container_name: cyber\n",
    "    input_type: value\n",
    "    entity_map:\n",
    "      Host: HostName\n",
    "    func_input_value_arg: input\n",
    "    func_new_name: upper_hash_name"
   ]
  },
  {
   "cell_type": "code",
   "execution_count": 161,
   "metadata": {},
   "outputs": [],
   "source": [
    "from msticpy.datamodel.pivot_register_reader import register_pivots\n",
    "register_pivots(\"my_func.yml\")"
   ]
  },
  {
   "cell_type": "code",
   "execution_count": 175,
   "metadata": {},
   "outputs": [
    {
     "data": {
      "text/html": [
       "<div>\n",
       "<style scoped>\n",
       "    .dataframe tbody tr th:only-of-type {\n",
       "        vertical-align: middle;\n",
       "    }\n",
       "\n",
       "    .dataframe tbody tr th {\n",
       "        vertical-align: top;\n",
       "    }\n",
       "\n",
       "    .dataframe thead th {\n",
       "        text-align: right;\n",
       "    }\n",
       "</style>\n",
       "<table border=\"1\" class=\"dataframe\">\n",
       "  <thead>\n",
       "    <tr style=\"text-align: right;\">\n",
       "      <th></th>\n",
       "      <th>Title</th>\n",
       "      <th>Hash</th>\n",
       "      <th>input</th>\n",
       "    </tr>\n",
       "  </thead>\n",
       "  <tbody>\n",
       "    <tr>\n",
       "      <th>0</th>\n",
       "      <td>HOST_NAME</td>\n",
       "      <td>5d-41-40-2a-bc-4b-2a-76-b9-71-9d-91-10-17-c5-92</td>\n",
       "      <td>host_name</td>\n",
       "    </tr>\n",
       "  </tbody>\n",
       "</table>\n",
       "</div>"
      ],
      "text/plain": [
       "       Title                                             Hash      input\n",
       "0  HOST_NAME  5d-41-40-2a-bc-4b-2a-76-b9-71-9d-91-10-17-c5-92  host_name"
      ]
     },
     "execution_count": 175,
     "metadata": {},
     "output_type": "execute_result"
    }
   ],
   "source": [
    "Host.cyber.upper_hash_name(\"host_name\")"
   ]
  },
  {
   "cell_type": "markdown",
   "metadata": {},
   "source": [
    "In the next release, this will be available as a simple\n",
    "function that can be used to add a function defined in the notebook.\n",
    "> <p style=\"color:red\"><b>Warning:</b> post-0.9.0 functionality</p>\n",
    "> This will throw and error in v0.9.0 of MSTICPy"
   ]
  },
  {
   "cell_type": "code",
   "execution_count": 183,
   "metadata": {},
   "outputs": [
    {
     "data": {
      "text/html": [
       "<div>\n",
       "<style scoped>\n",
       "    .dataframe tbody tr th:only-of-type {\n",
       "        vertical-align: middle;\n",
       "    }\n",
       "\n",
       "    .dataframe tbody tr th {\n",
       "        vertical-align: top;\n",
       "    }\n",
       "\n",
       "    .dataframe thead th {\n",
       "        text-align: right;\n",
       "    }\n",
       "</style>\n",
       "<table border=\"1\" class=\"dataframe\">\n",
       "  <thead>\n",
       "    <tr style=\"text-align: right;\">\n",
       "      <th></th>\n",
       "      <th>Title</th>\n",
       "      <th>Hash</th>\n",
       "      <th>input</th>\n",
       "    </tr>\n",
       "  </thead>\n",
       "  <tbody>\n",
       "    <tr>\n",
       "      <th>0</th>\n",
       "      <td>HOST_NAME</td>\n",
       "      <td>5d-41-40-2a-bc-4b-2a-76-b9-71-9d-91-10-17-c5-92</td>\n",
       "      <td>host_name</td>\n",
       "    </tr>\n",
       "  </tbody>\n",
       "</table>\n",
       "</div>"
      ],
      "text/plain": [
       "       Title                                             Hash      input\n",
       "0  HOST_NAME  5d-41-40-2a-bc-4b-2a-76-b9-71-9d-91-10-17-c5-92  host_name"
      ]
     },
     "execution_count": 183,
     "metadata": {},
     "output_type": "execute_result"
    }
   ],
   "source": [
    "from hashlib import md5\n",
    "\n",
    "def my_func2(input: str):\n",
    "    md5_hash = \"-\".join(hex(b)[2:] for b in md5(\"hello\".encode(\"utf-8\")).digest())\n",
    "    return {\n",
    "        \"Title\": input.upper(),\n",
    "        \"Hash\": md5_hash\n",
    "    }\n",
    "\n",
    "\n",
    "Pivot.add_pivot_function(\n",
    "    func=my_func2,\n",
    "    container=\"cyber\",  # which container it will appear in on the entity\n",
    "    input_type=\"value\",\n",
    "    entity_map={\"Host\": \"HostName\"},\n",
    "    func_input_value_arg=\"input\",\n",
    "    func_new_name=\"il_upper_hash_name\",\n",
    ")\n",
    "\n",
    "Host.cyber.il_upper_hash_name(\"host_name\")"
   ]
  },
  {
   "cell_type": "markdown",
   "metadata": {},
   "source": [
    "## Conclusion\n",
    "\n",
    "We've taken a short tour through the *MSTICPy* looking at how\n",
    "they make the functionality in the package easier to discover\n",
    "and use.\n",
    "I'm particularly excited about the pipeline functionality.\n",
    "In the next release we're going to make it possible to define\n",
    "reusable pipelines in configuration files and execute them\n",
    "with a single function call. This should help streamline\n",
    "some common patterns in notebooks for Cyber hunting and investigation.\n",
    "\n",
    "Please send any feedback or suggestions for improvements\n",
    "to msticpy@microsoft.com or create an issue on https://github.com/microsoft/msticpy.\n",
    "\n",
    "Happy hunting!"
   ]
  },
  {
   "cell_type": "markdown",
   "metadata": {},
   "source": [
    "### Get some input data"
   ]
  },
  {
   "cell_type": "code",
   "execution_count": 53,
   "metadata": {},
   "outputs": [
    {
     "data": {
      "application/javascript": [
       "try {IPython.notebook.kernel.execute(\"NOTEBOOK_URL = '\" + window.location + \"'\");} catch(err) {;}"
      ],
      "text/plain": [
       "<IPython.core.display.Javascript object>"
      ]
     },
     "metadata": {},
     "output_type": "display_data"
    }
   ],
   "source": [
    "query = \"\"\"\n",
    "SecurityAlert \n",
    "| where AlertName == \"Time series anomaly detection for total volume of traffic\" \n",
    "| project AlertName, Description, Entities\n",
    "| extend Entities = todynamic(Entities)\n",
    "| mvexpand with_itemindex=Index Entities\n",
    "| extend IP = Entities[\"Address\"]\n",
    "\"\"\"\n",
    "ips = az_provider.exec_query(query)\n",
    "ips_df = ips[[\"IP\"]].drop_duplicates()"
   ]
  },
  {
   "cell_type": "code",
   "execution_count": 54,
   "metadata": {},
   "outputs": [
    {
     "data": {
      "text/html": [
       "<div>\n",
       "<style scoped>\n",
       "    .dataframe tbody tr th:only-of-type {\n",
       "        vertical-align: middle;\n",
       "    }\n",
       "\n",
       "    .dataframe tbody tr th {\n",
       "        vertical-align: top;\n",
       "    }\n",
       "\n",
       "    .dataframe thead th {\n",
       "        text-align: right;\n",
       "    }\n",
       "</style>\n",
       "<table border=\"1\" class=\"dataframe\">\n",
       "  <thead>\n",
       "    <tr style=\"text-align: right;\">\n",
       "      <th></th>\n",
       "      <th>IP</th>\n",
       "      <th>ip</th>\n",
       "      <th>result</th>\n",
       "    </tr>\n",
       "  </thead>\n",
       "  <tbody>\n",
       "    <tr>\n",
       "      <th>0</th>\n",
       "      <td>192.168.40.32</td>\n",
       "      <td>192.168.40.32</td>\n",
       "      <td>Private</td>\n",
       "    </tr>\n",
       "    <tr>\n",
       "      <th>1</th>\n",
       "      <td>192.168.1.216</td>\n",
       "      <td>192.168.1.216</td>\n",
       "      <td>Private</td>\n",
       "    </tr>\n",
       "    <tr>\n",
       "      <th>2</th>\n",
       "      <td>192.168.153.17</td>\n",
       "      <td>192.168.153.17</td>\n",
       "      <td>Private</td>\n",
       "    </tr>\n",
       "    <tr>\n",
       "      <th>3</th>\n",
       "      <td>3.88.48.125</td>\n",
       "      <td>3.88.48.125</td>\n",
       "      <td>Public</td>\n",
       "    </tr>\n",
       "    <tr>\n",
       "      <th>4</th>\n",
       "      <td>10.200.104.20</td>\n",
       "      <td>10.200.104.20</td>\n",
       "      <td>Private</td>\n",
       "    </tr>\n",
       "    <tr>\n",
       "      <th>5</th>\n",
       "      <td>192.168.90.101</td>\n",
       "      <td>192.168.90.101</td>\n",
       "      <td>Private</td>\n",
       "    </tr>\n",
       "    <tr>\n",
       "      <th>6</th>\n",
       "      <td>192.168.150.50</td>\n",
       "      <td>192.168.150.50</td>\n",
       "      <td>Private</td>\n",
       "    </tr>\n",
       "    <tr>\n",
       "      <th>7</th>\n",
       "      <td>172.16.100.31</td>\n",
       "      <td>172.16.100.31</td>\n",
       "      <td>Private</td>\n",
       "    </tr>\n",
       "    <tr>\n",
       "      <th>8</th>\n",
       "      <td>192.168.30.189</td>\n",
       "      <td>192.168.30.189</td>\n",
       "      <td>Private</td>\n",
       "    </tr>\n",
       "    <tr>\n",
       "      <th>9</th>\n",
       "      <td>10.100.199.10</td>\n",
       "      <td>10.100.199.10</td>\n",
       "      <td>Private</td>\n",
       "    </tr>\n",
       "    <tr>\n",
       "      <th>10</th>\n",
       "      <td>52.171.57.74</td>\n",
       "      <td>52.171.57.74</td>\n",
       "      <td>Public</td>\n",
       "    </tr>\n",
       "    <tr>\n",
       "      <th>11</th>\n",
       "      <td>52.171.36.115</td>\n",
       "      <td>52.171.36.115</td>\n",
       "      <td>Public</td>\n",
       "    </tr>\n",
       "    <tr>\n",
       "      <th>12</th>\n",
       "      <td>20.84.105.0</td>\n",
       "      <td>20.84.105.0</td>\n",
       "      <td>Public</td>\n",
       "    </tr>\n",
       "    <tr>\n",
       "      <th>13</th>\n",
       "      <td>20.55.97.123</td>\n",
       "      <td>20.55.97.123</td>\n",
       "      <td>Public</td>\n",
       "    </tr>\n",
       "    <tr>\n",
       "      <th>14</th>\n",
       "      <td>20.84.112.117</td>\n",
       "      <td>20.84.112.117</td>\n",
       "      <td>Public</td>\n",
       "    </tr>\n",
       "    <tr>\n",
       "      <th>15</th>\n",
       "      <td>192.168.99.137</td>\n",
       "      <td>192.168.99.137</td>\n",
       "      <td>Private</td>\n",
       "    </tr>\n",
       "    <tr>\n",
       "      <th>16</th>\n",
       "      <td>192.168.55.10</td>\n",
       "      <td>192.168.55.10</td>\n",
       "      <td>Private</td>\n",
       "    </tr>\n",
       "    <tr>\n",
       "      <th>17</th>\n",
       "      <td>192.168.51.6</td>\n",
       "      <td>192.168.51.6</td>\n",
       "      <td>Private</td>\n",
       "    </tr>\n",
       "    <tr>\n",
       "      <th>18</th>\n",
       "      <td>104.214.50.229</td>\n",
       "      <td>104.214.50.229</td>\n",
       "      <td>Public</td>\n",
       "    </tr>\n",
       "    <tr>\n",
       "      <th>19</th>\n",
       "      <td>20.51.104.164</td>\n",
       "      <td>20.51.104.164</td>\n",
       "      <td>Public</td>\n",
       "    </tr>\n",
       "    <tr>\n",
       "      <th>20</th>\n",
       "      <td>20.81.40.144</td>\n",
       "      <td>20.81.40.144</td>\n",
       "      <td>Public</td>\n",
       "    </tr>\n",
       "    <tr>\n",
       "      <th>21</th>\n",
       "      <td>20.80.162.44</td>\n",
       "      <td>20.80.162.44</td>\n",
       "      <td>Public</td>\n",
       "    </tr>\n",
       "    <tr>\n",
       "      <th>22</th>\n",
       "      <td>172.31.0.0</td>\n",
       "      <td>172.31.0.0</td>\n",
       "      <td>Private</td>\n",
       "    </tr>\n",
       "    <tr>\n",
       "      <th>23</th>\n",
       "      <td>104.215.76.44</td>\n",
       "      <td>104.215.76.44</td>\n",
       "      <td>Public</td>\n",
       "    </tr>\n",
       "    <tr>\n",
       "      <th>24</th>\n",
       "      <td>172.31.0.1</td>\n",
       "      <td>172.31.0.1</td>\n",
       "      <td>Private</td>\n",
       "    </tr>\n",
       "    <tr>\n",
       "      <th>25</th>\n",
       "      <td>20.81.42.55</td>\n",
       "      <td>20.81.42.55</td>\n",
       "      <td>Public</td>\n",
       "    </tr>\n",
       "    <tr>\n",
       "      <th>26</th>\n",
       "      <td>20.55.80.232</td>\n",
       "      <td>20.55.80.232</td>\n",
       "      <td>Public</td>\n",
       "    </tr>\n",
       "    <tr>\n",
       "      <th>27</th>\n",
       "      <td>172.16.199.104</td>\n",
       "      <td>172.16.199.104</td>\n",
       "      <td>Private</td>\n",
       "    </tr>\n",
       "    <tr>\n",
       "      <th>28</th>\n",
       "      <td>79.124.62.82</td>\n",
       "      <td>79.124.62.82</td>\n",
       "      <td>Public</td>\n",
       "    </tr>\n",
       "  </tbody>\n",
       "</table>\n",
       "</div>"
      ],
      "text/plain": [
       "                IP              ip   result\n",
       "0    192.168.40.32   192.168.40.32  Private\n",
       "1    192.168.1.216   192.168.1.216  Private\n",
       "2   192.168.153.17  192.168.153.17  Private\n",
       "3      3.88.48.125     3.88.48.125   Public\n",
       "4    10.200.104.20   10.200.104.20  Private\n",
       "5   192.168.90.101  192.168.90.101  Private\n",
       "6   192.168.150.50  192.168.150.50  Private\n",
       "7    172.16.100.31   172.16.100.31  Private\n",
       "8   192.168.30.189  192.168.30.189  Private\n",
       "9    10.100.199.10   10.100.199.10  Private\n",
       "10    52.171.57.74    52.171.57.74   Public\n",
       "11   52.171.36.115   52.171.36.115   Public\n",
       "12     20.84.105.0     20.84.105.0   Public\n",
       "13    20.55.97.123    20.55.97.123   Public\n",
       "14   20.84.112.117   20.84.112.117   Public\n",
       "15  192.168.99.137  192.168.99.137  Private\n",
       "16   192.168.55.10   192.168.55.10  Private\n",
       "17    192.168.51.6    192.168.51.6  Private\n",
       "18  104.214.50.229  104.214.50.229   Public\n",
       "19   20.51.104.164   20.51.104.164   Public\n",
       "20    20.81.40.144    20.81.40.144   Public\n",
       "21    20.80.162.44    20.80.162.44   Public\n",
       "22      172.31.0.0      172.31.0.0  Private\n",
       "23   104.215.76.44   104.215.76.44   Public\n",
       "24      172.31.0.1      172.31.0.1  Private\n",
       "25     20.81.42.55     20.81.42.55   Public\n",
       "26    20.55.80.232    20.55.80.232   Public\n",
       "27  172.16.199.104  172.16.199.104  Private\n",
       "28    79.124.62.82    79.124.62.82   Public"
      ]
     },
     "execution_count": 54,
     "metadata": {},
     "output_type": "execute_result"
    }
   ],
   "source": [
    "entities.IpAddress.util.ip_type(data=ips_df, column=\"IP\", join=\"inner\")"
   ]
  },
  {
   "cell_type": "markdown",
   "metadata": {},
   "source": [
    "### Pivot functions that we want to execute\n",
    "\n",
    "```Python\n",
    "entities.IpAddress.util.ip_type\n",
    "entities.IpAddress.util.whois\n",
    "entities.IpAddress.util.geoloc_mm\n",
    "entities.IpAddress.AzureSentinel.SecurityAlert_list_related_alerts\n",
    "```"
   ]
  },
  {
   "cell_type": "markdown",
   "metadata": {},
   "source": [
    "### We could do this\n",
    "\n",
    "```Python\n",
    "df = entities.IpAddress.util.ip_type(data=ips, column=\"IP\", join=\"inner\")\n",
    "df2 = entities.IpAddress.util.whois(data=df, column=\"IP\", join=\"inner\")\n",
    "df3 = entities.IpAddress.util.geoloc_mm(data=df2, column=\"IP\", join=\"inner\")\n",
    "df3 = entities.IpAddress.AzureSentinel.SecurityAlert_list_related_alerts(data=df3, column=\"IP\", join=\"inner\")\n",
    "```\n",
    "\n",
    "### .... but there's a better way"
   ]
  },
  {
   "cell_type": "code",
   "execution_count": 55,
   "metadata": {},
   "outputs": [
    {
     "data": {
      "text/plain": [
       "<msticpy.datamodel.pivot_pd_accessor.PivotAccessor at 0x275754e2208>"
      ]
     },
     "execution_count": 55,
     "metadata": {},
     "output_type": "execute_result"
    }
   ],
   "source": [
    "ips_df.mp_pivot"
   ]
  },
  {
   "cell_type": "code",
   "execution_count": 56,
   "metadata": {},
   "outputs": [
    {
     "data": {
      "application/javascript": [
       "try {IPython.notebook.kernel.execute(\"NOTEBOOK_URL = '\" + window.location + \"'\");} catch(err) {;}"
      ],
      "text/plain": [
       "<IPython.core.display.Javascript object>"
      ]
     },
     "metadata": {},
     "output_type": "display_data"
    },
    {
     "data": {
      "application/javascript": [
       "try {IPython.notebook.kernel.execute(\"NOTEBOOK_URL = '\" + window.location + \"'\");} catch(err) {;}"
      ],
      "text/plain": [
       "<IPython.core.display.Javascript object>"
      ]
     },
     "metadata": {},
     "output_type": "display_data"
    },
    {
     "data": {
      "application/javascript": [
       "try {IPython.notebook.kernel.execute(\"NOTEBOOK_URL = '\" + window.location + \"'\");} catch(err) {;}"
      ],
      "text/plain": [
       "<IPython.core.display.Javascript object>"
      ]
     },
     "metadata": {},
     "output_type": "display_data"
    },
    {
     "data": {
      "application/javascript": [
       "try {IPython.notebook.kernel.execute(\"NOTEBOOK_URL = '\" + window.location + \"'\");} catch(err) {;}"
      ],
      "text/plain": [
       "<IPython.core.display.Javascript object>"
      ]
     },
     "metadata": {},
     "output_type": "display_data"
    },
    {
     "data": {
      "application/javascript": [
       "try {IPython.notebook.kernel.execute(\"NOTEBOOK_URL = '\" + window.location + \"'\");} catch(err) {;}"
      ],
      "text/plain": [
       "<IPython.core.display.Javascript object>"
      ]
     },
     "metadata": {},
     "output_type": "display_data"
    },
    {
     "data": {
      "application/javascript": [
       "try {IPython.notebook.kernel.execute(\"NOTEBOOK_URL = '\" + window.location + \"'\");} catch(err) {;}"
      ],
      "text/plain": [
       "<IPython.core.display.Javascript object>"
      ]
     },
     "metadata": {},
     "output_type": "display_data"
    },
    {
     "data": {
      "application/javascript": [
       "try {IPython.notebook.kernel.execute(\"NOTEBOOK_URL = '\" + window.location + \"'\");} catch(err) {;}"
      ],
      "text/plain": [
       "<IPython.core.display.Javascript object>"
      ]
     },
     "metadata": {},
     "output_type": "display_data"
    },
    {
     "data": {
      "application/javascript": [
       "try {IPython.notebook.kernel.execute(\"NOTEBOOK_URL = '\" + window.location + \"'\");} catch(err) {;}"
      ],
      "text/plain": [
       "<IPython.core.display.Javascript object>"
      ]
     },
     "metadata": {},
     "output_type": "display_data"
    },
    {
     "data": {
      "application/javascript": [
       "try {IPython.notebook.kernel.execute(\"NOTEBOOK_URL = '\" + window.location + \"'\");} catch(err) {;}"
      ],
      "text/plain": [
       "<IPython.core.display.Javascript object>"
      ]
     },
     "metadata": {},
     "output_type": "display_data"
    },
    {
     "data": {
      "application/javascript": [
       "try {IPython.notebook.kernel.execute(\"NOTEBOOK_URL = '\" + window.location + \"'\");} catch(err) {;}"
      ],
      "text/plain": [
       "<IPython.core.display.Javascript object>"
      ]
     },
     "metadata": {},
     "output_type": "display_data"
    },
    {
     "data": {
      "text/html": [
       "<div>\n",
       "<style scoped>\n",
       "    .dataframe tbody tr th:only-of-type {\n",
       "        vertical-align: middle;\n",
       "    }\n",
       "\n",
       "    .dataframe tbody tr th {\n",
       "        vertical-align: top;\n",
       "    }\n",
       "\n",
       "    .dataframe thead th {\n",
       "        text-align: right;\n",
       "    }\n",
       "</style>\n",
       "<table border=\"1\" class=\"dataframe\">\n",
       "  <thead>\n",
       "    <tr style=\"text-align: right;\">\n",
       "      <th></th>\n",
       "      <th>TenantId</th>\n",
       "      <th>TimeGenerated</th>\n",
       "      <th>AlertDisplayName</th>\n",
       "      <th>AlertName</th>\n",
       "      <th>Severity</th>\n",
       "      <th>Description</th>\n",
       "      <th>ProviderName</th>\n",
       "      <th>VendorName</th>\n",
       "      <th>VendorOriginalId</th>\n",
       "      <th>SystemAlertId</th>\n",
       "      <th>ResourceId</th>\n",
       "      <th>SourceComputerId</th>\n",
       "      <th>AlertType</th>\n",
       "      <th>ConfidenceLevel</th>\n",
       "      <th>ConfidenceScore</th>\n",
       "      <th>IsIncident</th>\n",
       "      <th>StartTimeUtc</th>\n",
       "      <th>EndTimeUtc</th>\n",
       "      <th>ProcessingEndTime</th>\n",
       "      <th>RemediationSteps</th>\n",
       "      <th>ExtendedProperties</th>\n",
       "      <th>Entities</th>\n",
       "      <th>SourceSystem</th>\n",
       "      <th>WorkspaceSubscriptionId</th>\n",
       "      <th>WorkspaceResourceGroup</th>\n",
       "      <th>ExtendedLinks</th>\n",
       "      <th>ProductName</th>\n",
       "      <th>ProductComponentName</th>\n",
       "      <th>AlertLink</th>\n",
       "      <th>Status</th>\n",
       "      <th>CompromisedEntity</th>\n",
       "      <th>Tactics</th>\n",
       "      <th>Type</th>\n",
       "      <th>SystemAlertId1</th>\n",
       "      <th>ExtendedProperties1</th>\n",
       "      <th>Entities1</th>\n",
       "      <th>MatchingIps</th>\n",
       "      <th>src_row_index</th>\n",
       "    </tr>\n",
       "  </thead>\n",
       "  <tbody>\n",
       "    <tr>\n",
       "      <th>0</th>\n",
       "      <td>8ecf8077-cf51-4820-aadd-14040956f35d</td>\n",
       "      <td>2020-12-23 14:08:12+00:00</td>\n",
       "      <td>Microsoft Threat Intelligence Analytics</td>\n",
       "      <td>Microsoft Threat Intelligence Analytics</td>\n",
       "      <td>Medium</td>\n",
       "      <td>Microsoft threat intelligence analytic has detected Blocked communication to a known WatchList d...</td>\n",
       "      <td>Threat Intelligence Alerts</td>\n",
       "      <td>Microsoft</td>\n",
       "      <td>91d806d3-6b6f-4e5c-a78f-e674d602be51</td>\n",
       "      <td>625ff9af-dddc-0cf8-9d4b-e79067fa2e71</td>\n",
       "      <td></td>\n",
       "      <td></td>\n",
       "      <td>ThreatIntelligence</td>\n",
       "      <td>83</td>\n",
       "      <td>NaN</td>\n",
       "      <td>False</td>\n",
       "      <td>2020-12-23 13:48:23+00:00</td>\n",
       "      <td>2020-12-23 13:48:23+00:00</td>\n",
       "      <td>2020-12-23 14:08:15+00:00</td>\n",
       "      <td></td>\n",
       "      <td>{\\r\\n  \"Query\": \"CommonSecurityLog| where RequestURL hasprefix(\\\"www.arboretum.hu\\\") | where Tim...</td>\n",
       "      <td>[\\r\\n  {\\r\\n    \"$id\": \"3\",\\r\\n    \"DnsDomain\": \"www.arboretum.hu\",\\r\\n    \"HostName\": \"www.arbo...</td>\n",
       "      <td>Detection</td>\n",
       "      <td>d1d8779d-38d7-4f06-91db-9cbc8de0176f</td>\n",
       "      <td>soc</td>\n",
       "      <td></td>\n",
       "      <td>Azure Sentinel</td>\n",
       "      <td>Microsoft Threat Intelligence Analytics</td>\n",
       "      <td></td>\n",
       "      <td>New</td>\n",
       "      <td>3.88.48.125</td>\n",
       "      <td>Unknown</td>\n",
       "      <td>SecurityAlert</td>\n",
       "      <td>625ff9af-dddc-0cf8-9d4b-e79067fa2e71</td>\n",
       "      <td>{\\r\\n  \"Query\": \"CommonSecurityLog| where RequestURL hasprefix(\\\"www.arboretum.hu\\\") | where Tim...</td>\n",
       "      <td>[\\r\\n  {\\r\\n    \"$id\": \"3\",\\r\\n    \"DnsDomain\": \"www.arboretum.hu\",\\r\\n    \"HostName\": \"www.arbo...</td>\n",
       "      <td>[3.88.48.125]</td>\n",
       "      <td>0</td>\n",
       "    </tr>\n",
       "    <tr>\n",
       "      <th>1</th>\n",
       "      <td>8ecf8077-cf51-4820-aadd-14040956f35d</td>\n",
       "      <td>2020-12-23 14:08:12+00:00</td>\n",
       "      <td>Microsoft Threat Intelligence Analytics</td>\n",
       "      <td>Microsoft Threat Intelligence Analytics</td>\n",
       "      <td>Medium</td>\n",
       "      <td>Microsoft threat intelligence analytic has detected Blocked communication to a known WatchList d...</td>\n",
       "      <td>Threat Intelligence Alerts</td>\n",
       "      <td>Microsoft</td>\n",
       "      <td>173063c4-10dd-4dd2-9e4f-ec5ed596ec54</td>\n",
       "      <td>c977f904-ab30-d57e-986f-9d6ebf72771b</td>\n",
       "      <td></td>\n",
       "      <td></td>\n",
       "      <td>ThreatIntelligence</td>\n",
       "      <td>83</td>\n",
       "      <td>NaN</td>\n",
       "      <td>False</td>\n",
       "      <td>2020-12-23 13:48:23+00:00</td>\n",
       "      <td>2020-12-23 13:48:23+00:00</td>\n",
       "      <td>2020-12-23 14:08:15+00:00</td>\n",
       "      <td></td>\n",
       "      <td>{\\r\\n  \"Query\": \"CommonSecurityLog| where RequestURL hasprefix(\\\"www.arboretum.hu\\\") | where Tim...</td>\n",
       "      <td>[\\r\\n  {\\r\\n    \"$id\": \"3\",\\r\\n    \"DnsDomain\": \"www.arboretum.hu\",\\r\\n    \"HostName\": \"www.arbo...</td>\n",
       "      <td>Detection</td>\n",
       "      <td>d1d8779d-38d7-4f06-91db-9cbc8de0176f</td>\n",
       "      <td>soc</td>\n",
       "      <td></td>\n",
       "      <td>Azure Sentinel</td>\n",
       "      <td>Microsoft Threat Intelligence Analytics</td>\n",
       "      <td></td>\n",
       "      <td>New</td>\n",
       "      <td>3.88.48.125</td>\n",
       "      <td>Unknown</td>\n",
       "      <td>SecurityAlert</td>\n",
       "      <td>c977f904-ab30-d57e-986f-9d6ebf72771b</td>\n",
       "      <td>{\\r\\n  \"Query\": \"CommonSecurityLog| where RequestURL hasprefix(\\\"www.arboretum.hu\\\") | where Tim...</td>\n",
       "      <td>[\\r\\n  {\\r\\n    \"$id\": \"3\",\\r\\n    \"DnsDomain\": \"www.arboretum.hu\",\\r\\n    \"HostName\": \"www.arbo...</td>\n",
       "      <td>[3.88.48.125]</td>\n",
       "      <td>0</td>\n",
       "    </tr>\n",
       "    <tr>\n",
       "      <th>2</th>\n",
       "      <td>8ecf8077-cf51-4820-aadd-14040956f35d</td>\n",
       "      <td>2020-12-23 14:08:12+00:00</td>\n",
       "      <td>Microsoft Threat Intelligence Analytics</td>\n",
       "      <td>Microsoft Threat Intelligence Analytics</td>\n",
       "      <td>Medium</td>\n",
       "      <td>Microsoft threat intelligence analytic has detected Blocked communication to a known WatchList d...</td>\n",
       "      <td>Threat Intelligence Alerts</td>\n",
       "      <td>Microsoft</td>\n",
       "      <td>58b2cda2-11c6-42b8-b6f1-72751cad8f38</td>\n",
       "      <td>9ee547e4-cba1-47d1-e1f9-87247b693a52</td>\n",
       "      <td></td>\n",
       "      <td></td>\n",
       "      <td>ThreatIntelligence</td>\n",
       "      <td>83</td>\n",
       "      <td>NaN</td>\n",
       "      <td>False</td>\n",
       "      <td>2020-12-23 13:48:23+00:00</td>\n",
       "      <td>2020-12-23 13:48:23+00:00</td>\n",
       "      <td>2020-12-23 14:08:15+00:00</td>\n",
       "      <td></td>\n",
       "      <td>{\\r\\n  \"Query\": \"CommonSecurityLog| where RequestURL hasprefix(\\\"www.arboretum.hu\\\") | where Tim...</td>\n",
       "      <td>[\\r\\n  {\\r\\n    \"$id\": \"3\",\\r\\n    \"DnsDomain\": \"www.arboretum.hu\",\\r\\n    \"HostName\": \"www.arbo...</td>\n",
       "      <td>Detection</td>\n",
       "      <td>d1d8779d-38d7-4f06-91db-9cbc8de0176f</td>\n",
       "      <td>soc</td>\n",
       "      <td></td>\n",
       "      <td>Azure Sentinel</td>\n",
       "      <td>Microsoft Threat Intelligence Analytics</td>\n",
       "      <td></td>\n",
       "      <td>New</td>\n",
       "      <td>3.88.48.125</td>\n",
       "      <td>Unknown</td>\n",
       "      <td>SecurityAlert</td>\n",
       "      <td>9ee547e4-cba1-47d1-e1f9-87247b693a52</td>\n",
       "      <td>{\\r\\n  \"Query\": \"CommonSecurityLog| where RequestURL hasprefix(\\\"www.arboretum.hu\\\") | where Tim...</td>\n",
       "      <td>[\\r\\n  {\\r\\n    \"$id\": \"3\",\\r\\n    \"DnsDomain\": \"www.arboretum.hu\",\\r\\n    \"HostName\": \"www.arbo...</td>\n",
       "      <td>[3.88.48.125]</td>\n",
       "      <td>0</td>\n",
       "    </tr>\n",
       "    <tr>\n",
       "      <th>3</th>\n",
       "      <td>8ecf8077-cf51-4820-aadd-14040956f35d</td>\n",
       "      <td>2020-12-23 14:08:12+00:00</td>\n",
       "      <td>Microsoft Threat Intelligence Analytics</td>\n",
       "      <td>Microsoft Threat Intelligence Analytics</td>\n",
       "      <td>Medium</td>\n",
       "      <td>Microsoft threat intelligence analytic has detected Blocked communication to a known WatchList d...</td>\n",
       "      <td>Threat Intelligence Alerts</td>\n",
       "      <td>Microsoft</td>\n",
       "      <td>e945f91e-5726-4581-8564-4c04e5414a58</td>\n",
       "      <td>83a0e08a-1adb-ef75-1c56-f6c9ce25ca69</td>\n",
       "      <td></td>\n",
       "      <td></td>\n",
       "      <td>ThreatIntelligence</td>\n",
       "      <td>83</td>\n",
       "      <td>NaN</td>\n",
       "      <td>False</td>\n",
       "      <td>2020-12-23 13:48:23+00:00</td>\n",
       "      <td>2020-12-23 13:48:23+00:00</td>\n",
       "      <td>2020-12-23 14:08:16+00:00</td>\n",
       "      <td></td>\n",
       "      <td>{\\r\\n  \"Query\": \"CommonSecurityLog| where RequestURL hasprefix(\\\"www.arboretum.hu\\\") | where Tim...</td>\n",
       "      <td>[\\r\\n  {\\r\\n    \"$id\": \"3\",\\r\\n    \"DnsDomain\": \"www.arboretum.hu\",\\r\\n    \"HostName\": \"www.arbo...</td>\n",
       "      <td>Detection</td>\n",
       "      <td>d1d8779d-38d7-4f06-91db-9cbc8de0176f</td>\n",
       "      <td>soc</td>\n",
       "      <td></td>\n",
       "      <td>Azure Sentinel</td>\n",
       "      <td>Microsoft Threat Intelligence Analytics</td>\n",
       "      <td></td>\n",
       "      <td>New</td>\n",
       "      <td>3.88.48.125</td>\n",
       "      <td>Unknown</td>\n",
       "      <td>SecurityAlert</td>\n",
       "      <td>83a0e08a-1adb-ef75-1c56-f6c9ce25ca69</td>\n",
       "      <td>{\\r\\n  \"Query\": \"CommonSecurityLog| where RequestURL hasprefix(\\\"www.arboretum.hu\\\") | where Tim...</td>\n",
       "      <td>[\\r\\n  {\\r\\n    \"$id\": \"3\",\\r\\n    \"DnsDomain\": \"www.arboretum.hu\",\\r\\n    \"HostName\": \"www.arbo...</td>\n",
       "      <td>[3.88.48.125]</td>\n",
       "      <td>0</td>\n",
       "    </tr>\n",
       "    <tr>\n",
       "      <th>4</th>\n",
       "      <td>8ecf8077-cf51-4820-aadd-14040956f35d</td>\n",
       "      <td>2020-12-23 13:53:46+00:00</td>\n",
       "      <td>Microsoft Threat Intelligence Analytics</td>\n",
       "      <td>Microsoft Threat Intelligence Analytics</td>\n",
       "      <td>Medium</td>\n",
       "      <td>Microsoft threat intelligence analytic has detected Blocked communication to a known WatchList d...</td>\n",
       "      <td>Threat Intelligence Alerts</td>\n",
       "      <td>Microsoft</td>\n",
       "      <td>a95aaf62-9628-418b-8f5f-0f1f26dcdc13</td>\n",
       "      <td>fde729f6-674b-997a-17eb-e4e7d2b3690d</td>\n",
       "      <td></td>\n",
       "      <td></td>\n",
       "      <td>ThreatIntelligence</td>\n",
       "      <td>83</td>\n",
       "      <td>NaN</td>\n",
       "      <td>False</td>\n",
       "      <td>2020-12-23 13:48:23+00:00</td>\n",
       "      <td>2020-12-23 13:48:23+00:00</td>\n",
       "      <td>2020-12-23 13:53:47+00:00</td>\n",
       "      <td></td>\n",
       "      <td>{\\r\\n  \"Query\": \"CommonSecurityLog| where RequestURL hasprefix(\\\"www.arboretum.hu\\\") | where Tim...</td>\n",
       "      <td>[\\r\\n  {\\r\\n    \"$id\": \"3\",\\r\\n    \"DnsDomain\": \"www.arboretum.hu\",\\r\\n    \"HostName\": \"www.arbo...</td>\n",
       "      <td>Detection</td>\n",
       "      <td>d1d8779d-38d7-4f06-91db-9cbc8de0176f</td>\n",
       "      <td>soc</td>\n",
       "      <td></td>\n",
       "      <td>Azure Sentinel</td>\n",
       "      <td>Microsoft Threat Intelligence Analytics</td>\n",
       "      <td></td>\n",
       "      <td>New</td>\n",
       "      <td>3.88.48.125</td>\n",
       "      <td>Unknown</td>\n",
       "      <td>SecurityAlert</td>\n",
       "      <td>fde729f6-674b-997a-17eb-e4e7d2b3690d</td>\n",
       "      <td>{\\r\\n  \"Query\": \"CommonSecurityLog| where RequestURL hasprefix(\\\"www.arboretum.hu\\\") | where Tim...</td>\n",
       "      <td>[\\r\\n  {\\r\\n    \"$id\": \"3\",\\r\\n    \"DnsDomain\": \"www.arboretum.hu\",\\r\\n    \"HostName\": \"www.arbo...</td>\n",
       "      <td>[3.88.48.125]</td>\n",
       "      <td>0</td>\n",
       "    </tr>\n",
       "  </tbody>\n",
       "</table>\n",
       "</div>"
      ],
      "text/plain": [
       "                               TenantId             TimeGenerated  \\\n",
       "0  8ecf8077-cf51-4820-aadd-14040956f35d 2020-12-23 14:08:12+00:00   \n",
       "1  8ecf8077-cf51-4820-aadd-14040956f35d 2020-12-23 14:08:12+00:00   \n",
       "2  8ecf8077-cf51-4820-aadd-14040956f35d 2020-12-23 14:08:12+00:00   \n",
       "3  8ecf8077-cf51-4820-aadd-14040956f35d 2020-12-23 14:08:12+00:00   \n",
       "4  8ecf8077-cf51-4820-aadd-14040956f35d 2020-12-23 13:53:46+00:00   \n",
       "\n",
       "                          AlertDisplayName  \\\n",
       "0  Microsoft Threat Intelligence Analytics   \n",
       "1  Microsoft Threat Intelligence Analytics   \n",
       "2  Microsoft Threat Intelligence Analytics   \n",
       "3  Microsoft Threat Intelligence Analytics   \n",
       "4  Microsoft Threat Intelligence Analytics   \n",
       "\n",
       "                                 AlertName Severity  \\\n",
       "0  Microsoft Threat Intelligence Analytics   Medium   \n",
       "1  Microsoft Threat Intelligence Analytics   Medium   \n",
       "2  Microsoft Threat Intelligence Analytics   Medium   \n",
       "3  Microsoft Threat Intelligence Analytics   Medium   \n",
       "4  Microsoft Threat Intelligence Analytics   Medium   \n",
       "\n",
       "                                                                                           Description  \\\n",
       "0  Microsoft threat intelligence analytic has detected Blocked communication to a known WatchList d...   \n",
       "1  Microsoft threat intelligence analytic has detected Blocked communication to a known WatchList d...   \n",
       "2  Microsoft threat intelligence analytic has detected Blocked communication to a known WatchList d...   \n",
       "3  Microsoft threat intelligence analytic has detected Blocked communication to a known WatchList d...   \n",
       "4  Microsoft threat intelligence analytic has detected Blocked communication to a known WatchList d...   \n",
       "\n",
       "                 ProviderName VendorName  \\\n",
       "0  Threat Intelligence Alerts  Microsoft   \n",
       "1  Threat Intelligence Alerts  Microsoft   \n",
       "2  Threat Intelligence Alerts  Microsoft   \n",
       "3  Threat Intelligence Alerts  Microsoft   \n",
       "4  Threat Intelligence Alerts  Microsoft   \n",
       "\n",
       "                       VendorOriginalId                         SystemAlertId  \\\n",
       "0  91d806d3-6b6f-4e5c-a78f-e674d602be51  625ff9af-dddc-0cf8-9d4b-e79067fa2e71   \n",
       "1  173063c4-10dd-4dd2-9e4f-ec5ed596ec54  c977f904-ab30-d57e-986f-9d6ebf72771b   \n",
       "2  58b2cda2-11c6-42b8-b6f1-72751cad8f38  9ee547e4-cba1-47d1-e1f9-87247b693a52   \n",
       "3  e945f91e-5726-4581-8564-4c04e5414a58  83a0e08a-1adb-ef75-1c56-f6c9ce25ca69   \n",
       "4  a95aaf62-9628-418b-8f5f-0f1f26dcdc13  fde729f6-674b-997a-17eb-e4e7d2b3690d   \n",
       "\n",
       "  ResourceId SourceComputerId           AlertType ConfidenceLevel  \\\n",
       "0                              ThreatIntelligence              83   \n",
       "1                              ThreatIntelligence              83   \n",
       "2                              ThreatIntelligence              83   \n",
       "3                              ThreatIntelligence              83   \n",
       "4                              ThreatIntelligence              83   \n",
       "\n",
       "   ConfidenceScore  IsIncident              StartTimeUtc  \\\n",
       "0              NaN       False 2020-12-23 13:48:23+00:00   \n",
       "1              NaN       False 2020-12-23 13:48:23+00:00   \n",
       "2              NaN       False 2020-12-23 13:48:23+00:00   \n",
       "3              NaN       False 2020-12-23 13:48:23+00:00   \n",
       "4              NaN       False 2020-12-23 13:48:23+00:00   \n",
       "\n",
       "                 EndTimeUtc         ProcessingEndTime RemediationSteps  \\\n",
       "0 2020-12-23 13:48:23+00:00 2020-12-23 14:08:15+00:00                    \n",
       "1 2020-12-23 13:48:23+00:00 2020-12-23 14:08:15+00:00                    \n",
       "2 2020-12-23 13:48:23+00:00 2020-12-23 14:08:15+00:00                    \n",
       "3 2020-12-23 13:48:23+00:00 2020-12-23 14:08:16+00:00                    \n",
       "4 2020-12-23 13:48:23+00:00 2020-12-23 13:53:47+00:00                    \n",
       "\n",
       "                                                                                    ExtendedProperties  \\\n",
       "0  {\\r\\n  \"Query\": \"CommonSecurityLog| where RequestURL hasprefix(\\\"www.arboretum.hu\\\") | where Tim...   \n",
       "1  {\\r\\n  \"Query\": \"CommonSecurityLog| where RequestURL hasprefix(\\\"www.arboretum.hu\\\") | where Tim...   \n",
       "2  {\\r\\n  \"Query\": \"CommonSecurityLog| where RequestURL hasprefix(\\\"www.arboretum.hu\\\") | where Tim...   \n",
       "3  {\\r\\n  \"Query\": \"CommonSecurityLog| where RequestURL hasprefix(\\\"www.arboretum.hu\\\") | where Tim...   \n",
       "4  {\\r\\n  \"Query\": \"CommonSecurityLog| where RequestURL hasprefix(\\\"www.arboretum.hu\\\") | where Tim...   \n",
       "\n",
       "                                                                                              Entities  \\\n",
       "0  [\\r\\n  {\\r\\n    \"$id\": \"3\",\\r\\n    \"DnsDomain\": \"www.arboretum.hu\",\\r\\n    \"HostName\": \"www.arbo...   \n",
       "1  [\\r\\n  {\\r\\n    \"$id\": \"3\",\\r\\n    \"DnsDomain\": \"www.arboretum.hu\",\\r\\n    \"HostName\": \"www.arbo...   \n",
       "2  [\\r\\n  {\\r\\n    \"$id\": \"3\",\\r\\n    \"DnsDomain\": \"www.arboretum.hu\",\\r\\n    \"HostName\": \"www.arbo...   \n",
       "3  [\\r\\n  {\\r\\n    \"$id\": \"3\",\\r\\n    \"DnsDomain\": \"www.arboretum.hu\",\\r\\n    \"HostName\": \"www.arbo...   \n",
       "4  [\\r\\n  {\\r\\n    \"$id\": \"3\",\\r\\n    \"DnsDomain\": \"www.arboretum.hu\",\\r\\n    \"HostName\": \"www.arbo...   \n",
       "\n",
       "  SourceSystem               WorkspaceSubscriptionId WorkspaceResourceGroup  \\\n",
       "0    Detection  d1d8779d-38d7-4f06-91db-9cbc8de0176f                    soc   \n",
       "1    Detection  d1d8779d-38d7-4f06-91db-9cbc8de0176f                    soc   \n",
       "2    Detection  d1d8779d-38d7-4f06-91db-9cbc8de0176f                    soc   \n",
       "3    Detection  d1d8779d-38d7-4f06-91db-9cbc8de0176f                    soc   \n",
       "4    Detection  d1d8779d-38d7-4f06-91db-9cbc8de0176f                    soc   \n",
       "\n",
       "  ExtendedLinks     ProductName                     ProductComponentName  \\\n",
       "0                Azure Sentinel  Microsoft Threat Intelligence Analytics   \n",
       "1                Azure Sentinel  Microsoft Threat Intelligence Analytics   \n",
       "2                Azure Sentinel  Microsoft Threat Intelligence Analytics   \n",
       "3                Azure Sentinel  Microsoft Threat Intelligence Analytics   \n",
       "4                Azure Sentinel  Microsoft Threat Intelligence Analytics   \n",
       "\n",
       "  AlertLink Status CompromisedEntity  Tactics           Type  \\\n",
       "0              New       3.88.48.125  Unknown  SecurityAlert   \n",
       "1              New       3.88.48.125  Unknown  SecurityAlert   \n",
       "2              New       3.88.48.125  Unknown  SecurityAlert   \n",
       "3              New       3.88.48.125  Unknown  SecurityAlert   \n",
       "4              New       3.88.48.125  Unknown  SecurityAlert   \n",
       "\n",
       "                         SystemAlertId1  \\\n",
       "0  625ff9af-dddc-0cf8-9d4b-e79067fa2e71   \n",
       "1  c977f904-ab30-d57e-986f-9d6ebf72771b   \n",
       "2  9ee547e4-cba1-47d1-e1f9-87247b693a52   \n",
       "3  83a0e08a-1adb-ef75-1c56-f6c9ce25ca69   \n",
       "4  fde729f6-674b-997a-17eb-e4e7d2b3690d   \n",
       "\n",
       "                                                                                   ExtendedProperties1  \\\n",
       "0  {\\r\\n  \"Query\": \"CommonSecurityLog| where RequestURL hasprefix(\\\"www.arboretum.hu\\\") | where Tim...   \n",
       "1  {\\r\\n  \"Query\": \"CommonSecurityLog| where RequestURL hasprefix(\\\"www.arboretum.hu\\\") | where Tim...   \n",
       "2  {\\r\\n  \"Query\": \"CommonSecurityLog| where RequestURL hasprefix(\\\"www.arboretum.hu\\\") | where Tim...   \n",
       "3  {\\r\\n  \"Query\": \"CommonSecurityLog| where RequestURL hasprefix(\\\"www.arboretum.hu\\\") | where Tim...   \n",
       "4  {\\r\\n  \"Query\": \"CommonSecurityLog| where RequestURL hasprefix(\\\"www.arboretum.hu\\\") | where Tim...   \n",
       "\n",
       "                                                                                             Entities1  \\\n",
       "0  [\\r\\n  {\\r\\n    \"$id\": \"3\",\\r\\n    \"DnsDomain\": \"www.arboretum.hu\",\\r\\n    \"HostName\": \"www.arbo...   \n",
       "1  [\\r\\n  {\\r\\n    \"$id\": \"3\",\\r\\n    \"DnsDomain\": \"www.arboretum.hu\",\\r\\n    \"HostName\": \"www.arbo...   \n",
       "2  [\\r\\n  {\\r\\n    \"$id\": \"3\",\\r\\n    \"DnsDomain\": \"www.arboretum.hu\",\\r\\n    \"HostName\": \"www.arbo...   \n",
       "3  [\\r\\n  {\\r\\n    \"$id\": \"3\",\\r\\n    \"DnsDomain\": \"www.arboretum.hu\",\\r\\n    \"HostName\": \"www.arbo...   \n",
       "4  [\\r\\n  {\\r\\n    \"$id\": \"3\",\\r\\n    \"DnsDomain\": \"www.arboretum.hu\",\\r\\n    \"HostName\": \"www.arbo...   \n",
       "\n",
       "     MatchingIps  src_row_index  \n",
       "0  [3.88.48.125]              0  \n",
       "1  [3.88.48.125]              0  \n",
       "2  [3.88.48.125]              0  \n",
       "3  [3.88.48.125]              0  \n",
       "4  [3.88.48.125]              0  "
      ]
     },
     "execution_count": 56,
     "metadata": {},
     "output_type": "execute_result"
    }
   ],
   "source": [
    "(\n",
    "    ips_df\n",
    "    .mp_pivot.run(entities.IpAddress.util.ip_type, column=\"IP\", join=\"inner\")\n",
    "    .query(\"result == 'Public'\").head(10)\n",
    "    .mp_pivot.run(entities.IpAddress.util.whois, column=\"ip\", join=\"left\")\n",
    "    .mp_pivot.run(entities.IpAddress.util.geoloc_mm, column=\"ip\", join=\"left\")\n",
    "    .mp_pivot.run(entities.IpAddress.AzureSentinel.SecurityAlert_list_alerts_for_ip, source_ip_list=\"ip\")\n",
    ").head(5)"
   ]
  },
  {
   "cell_type": "code",
   "execution_count": 57,
   "metadata": {},
   "outputs": [
    {
     "data": {
      "text/html": [
       "<div>\n",
       "<style scoped>\n",
       "    .dataframe tbody tr th:only-of-type {\n",
       "        vertical-align: middle;\n",
       "    }\n",
       "\n",
       "    .dataframe tbody tr th {\n",
       "        vertical-align: top;\n",
       "    }\n",
       "\n",
       "    .dataframe thead th {\n",
       "        text-align: right;\n",
       "    }\n",
       "</style>\n",
       "<table border=\"1\" class=\"dataframe\">\n",
       "  <thead>\n",
       "    <tr style=\"text-align: right;\">\n",
       "      <th></th>\n",
       "      <th>IP</th>\n",
       "    </tr>\n",
       "  </thead>\n",
       "  <tbody>\n",
       "    <tr>\n",
       "      <th>0</th>\n",
       "      <td>192.168.40.32</td>\n",
       "    </tr>\n",
       "    <tr>\n",
       "      <th>1</th>\n",
       "      <td>192.168.1.216</td>\n",
       "    </tr>\n",
       "    <tr>\n",
       "      <th>2</th>\n",
       "      <td>192.168.153.17</td>\n",
       "    </tr>\n",
       "    <tr>\n",
       "      <th>3</th>\n",
       "      <td>3.88.48.125</td>\n",
       "    </tr>\n",
       "    <tr>\n",
       "      <th>4</th>\n",
       "      <td>10.200.104.20</td>\n",
       "    </tr>\n",
       "    <tr>\n",
       "      <th>17</th>\n",
       "      <td>192.168.90.101</td>\n",
       "    </tr>\n",
       "    <tr>\n",
       "      <th>68</th>\n",
       "      <td>192.168.150.50</td>\n",
       "    </tr>\n",
       "    <tr>\n",
       "      <th>69</th>\n",
       "      <td>172.16.100.31</td>\n",
       "    </tr>\n",
       "    <tr>\n",
       "      <th>70</th>\n",
       "      <td>192.168.30.189</td>\n",
       "    </tr>\n",
       "    <tr>\n",
       "      <th>105</th>\n",
       "      <td>10.100.199.10</td>\n",
       "    </tr>\n",
       "    <tr>\n",
       "      <th>272</th>\n",
       "      <td>52.171.57.74</td>\n",
       "    </tr>\n",
       "    <tr>\n",
       "      <th>273</th>\n",
       "      <td>52.171.36.115</td>\n",
       "    </tr>\n",
       "    <tr>\n",
       "      <th>275</th>\n",
       "      <td>20.84.105.0</td>\n",
       "    </tr>\n",
       "    <tr>\n",
       "      <th>276</th>\n",
       "      <td>20.55.97.123</td>\n",
       "    </tr>\n",
       "    <tr>\n",
       "      <th>392</th>\n",
       "      <td>20.84.112.117</td>\n",
       "    </tr>\n",
       "    <tr>\n",
       "      <th>397</th>\n",
       "      <td>192.168.99.137</td>\n",
       "    </tr>\n",
       "    <tr>\n",
       "      <th>410</th>\n",
       "      <td>192.168.55.10</td>\n",
       "    </tr>\n",
       "    <tr>\n",
       "      <th>720</th>\n",
       "      <td>192.168.51.6</td>\n",
       "    </tr>\n",
       "    <tr>\n",
       "      <th>923</th>\n",
       "      <td>104.214.50.229</td>\n",
       "    </tr>\n",
       "    <tr>\n",
       "      <th>924</th>\n",
       "      <td>20.51.104.164</td>\n",
       "    </tr>\n",
       "    <tr>\n",
       "      <th>925</th>\n",
       "      <td>20.81.40.144</td>\n",
       "    </tr>\n",
       "    <tr>\n",
       "      <th>926</th>\n",
       "      <td>20.80.162.44</td>\n",
       "    </tr>\n",
       "    <tr>\n",
       "      <th>927</th>\n",
       "      <td>172.31.0.0</td>\n",
       "    </tr>\n",
       "    <tr>\n",
       "      <th>928</th>\n",
       "      <td>104.215.76.44</td>\n",
       "    </tr>\n",
       "    <tr>\n",
       "      <th>1017</th>\n",
       "      <td>172.31.0.1</td>\n",
       "    </tr>\n",
       "    <tr>\n",
       "      <th>1923</th>\n",
       "      <td>20.81.42.55</td>\n",
       "    </tr>\n",
       "    <tr>\n",
       "      <th>3290</th>\n",
       "      <td>20.55.80.232</td>\n",
       "    </tr>\n",
       "    <tr>\n",
       "      <th>4381</th>\n",
       "      <td>172.16.199.104</td>\n",
       "    </tr>\n",
       "    <tr>\n",
       "      <th>5542</th>\n",
       "      <td>79.124.62.82</td>\n",
       "    </tr>\n",
       "  </tbody>\n",
       "</table>\n",
       "</div>"
      ],
      "text/plain": [
       "                  IP\n",
       "0      192.168.40.32\n",
       "1      192.168.1.216\n",
       "2     192.168.153.17\n",
       "3        3.88.48.125\n",
       "4      10.200.104.20\n",
       "17    192.168.90.101\n",
       "68    192.168.150.50\n",
       "69     172.16.100.31\n",
       "70    192.168.30.189\n",
       "105    10.100.199.10\n",
       "272     52.171.57.74\n",
       "273    52.171.36.115\n",
       "275      20.84.105.0\n",
       "276     20.55.97.123\n",
       "392    20.84.112.117\n",
       "397   192.168.99.137\n",
       "410    192.168.55.10\n",
       "720     192.168.51.6\n",
       "923   104.214.50.229\n",
       "924    20.51.104.164\n",
       "925     20.81.40.144\n",
       "926     20.80.162.44\n",
       "927       172.31.0.0\n",
       "928    104.215.76.44\n",
       "1017      172.31.0.1\n",
       "1923     20.81.42.55\n",
       "3290    20.55.80.232\n",
       "4381  172.16.199.104\n",
       "5542    79.124.62.82"
      ]
     },
     "execution_count": 57,
     "metadata": {},
     "output_type": "execute_result"
    }
   ],
   "source": [
    "ips_df"
   ]
  },
  {
   "cell_type": "code",
   "execution_count": 58,
   "metadata": {},
   "outputs": [
    {
     "data": {
      "text/html": [
       "<div>\n",
       "<style scoped>\n",
       "    .dataframe tbody tr th:only-of-type {\n",
       "        vertical-align: middle;\n",
       "    }\n",
       "\n",
       "    .dataframe tbody tr th {\n",
       "        vertical-align: top;\n",
       "    }\n",
       "\n",
       "    .dataframe thead th {\n",
       "        text-align: right;\n",
       "    }\n",
       "</style>\n",
       "<table border=\"1\" class=\"dataframe\">\n",
       "  <thead>\n",
       "    <tr style=\"text-align: right;\">\n",
       "      <th></th>\n",
       "      <th>nir</th>\n",
       "      <th>asn_registry</th>\n",
       "      <th>asn</th>\n",
       "      <th>asn_cidr</th>\n",
       "      <th>asn_country_code</th>\n",
       "      <th>asn_date</th>\n",
       "      <th>asn_description</th>\n",
       "      <th>query</th>\n",
       "      <th>nets</th>\n",
       "      <th>raw</th>\n",
       "      <th>referral</th>\n",
       "      <th>raw_referral</th>\n",
       "    </tr>\n",
       "  </thead>\n",
       "  <tbody>\n",
       "    <tr>\n",
       "      <th>0</th>\n",
       "      <td>NaN</td>\n",
       "      <td>NaN</td>\n",
       "      <td>NaN</td>\n",
       "      <td>NaN</td>\n",
       "      <td>NaN</td>\n",
       "      <td>NaN</td>\n",
       "      <td>NaN</td>\n",
       "      <td>NaN</td>\n",
       "      <td>NaN</td>\n",
       "      <td>NaN</td>\n",
       "      <td>NaN</td>\n",
       "      <td>NaN</td>\n",
       "    </tr>\n",
       "    <tr>\n",
       "      <th>1</th>\n",
       "      <td>NaN</td>\n",
       "      <td>NaN</td>\n",
       "      <td>NaN</td>\n",
       "      <td>NaN</td>\n",
       "      <td>NaN</td>\n",
       "      <td>NaN</td>\n",
       "      <td>NaN</td>\n",
       "      <td>NaN</td>\n",
       "      <td>NaN</td>\n",
       "      <td>NaN</td>\n",
       "      <td>NaN</td>\n",
       "      <td>NaN</td>\n",
       "    </tr>\n",
       "    <tr>\n",
       "      <th>2</th>\n",
       "      <td>NaN</td>\n",
       "      <td>NaN</td>\n",
       "      <td>NaN</td>\n",
       "      <td>NaN</td>\n",
       "      <td>NaN</td>\n",
       "      <td>NaN</td>\n",
       "      <td>NaN</td>\n",
       "      <td>NaN</td>\n",
       "      <td>NaN</td>\n",
       "      <td>NaN</td>\n",
       "      <td>NaN</td>\n",
       "      <td>NaN</td>\n",
       "    </tr>\n",
       "    <tr>\n",
       "      <th>3</th>\n",
       "      <td>NaN</td>\n",
       "      <td>arin</td>\n",
       "      <td>14618</td>\n",
       "      <td>3.80.0.0/12</td>\n",
       "      <td>US</td>\n",
       "      <td>2017-12-20</td>\n",
       "      <td>AMAZON-AES, US</td>\n",
       "      <td>3.88.48.125</td>\n",
       "      <td>[{'cidr': '3.0.0.0/9', 'name': 'AT-88-Z', 'handle': 'NET-3-0-0-0-1', 'range': '3.0.0.0 - 3.127.2...</td>\n",
       "      <td>NaN</td>\n",
       "      <td>NaN</td>\n",
       "      <td>NaN</td>\n",
       "    </tr>\n",
       "    <tr>\n",
       "      <th>4</th>\n",
       "      <td>NaN</td>\n",
       "      <td>NaN</td>\n",
       "      <td>NaN</td>\n",
       "      <td>NaN</td>\n",
       "      <td>NaN</td>\n",
       "      <td>NaN</td>\n",
       "      <td>NaN</td>\n",
       "      <td>NaN</td>\n",
       "      <td>NaN</td>\n",
       "      <td>NaN</td>\n",
       "      <td>NaN</td>\n",
       "      <td>NaN</td>\n",
       "    </tr>\n",
       "    <tr>\n",
       "      <th>17</th>\n",
       "      <td>NaN</td>\n",
       "      <td>NaN</td>\n",
       "      <td>NaN</td>\n",
       "      <td>NaN</td>\n",
       "      <td>NaN</td>\n",
       "      <td>NaN</td>\n",
       "      <td>NaN</td>\n",
       "      <td>NaN</td>\n",
       "      <td>NaN</td>\n",
       "      <td>NaN</td>\n",
       "      <td>NaN</td>\n",
       "      <td>NaN</td>\n",
       "    </tr>\n",
       "    <tr>\n",
       "      <th>68</th>\n",
       "      <td>NaN</td>\n",
       "      <td>NaN</td>\n",
       "      <td>NaN</td>\n",
       "      <td>NaN</td>\n",
       "      <td>NaN</td>\n",
       "      <td>NaN</td>\n",
       "      <td>NaN</td>\n",
       "      <td>NaN</td>\n",
       "      <td>NaN</td>\n",
       "      <td>NaN</td>\n",
       "      <td>NaN</td>\n",
       "      <td>NaN</td>\n",
       "    </tr>\n",
       "    <tr>\n",
       "      <th>69</th>\n",
       "      <td>NaN</td>\n",
       "      <td>NaN</td>\n",
       "      <td>NaN</td>\n",
       "      <td>NaN</td>\n",
       "      <td>NaN</td>\n",
       "      <td>NaN</td>\n",
       "      <td>NaN</td>\n",
       "      <td>NaN</td>\n",
       "      <td>NaN</td>\n",
       "      <td>NaN</td>\n",
       "      <td>NaN</td>\n",
       "      <td>NaN</td>\n",
       "    </tr>\n",
       "    <tr>\n",
       "      <th>70</th>\n",
       "      <td>NaN</td>\n",
       "      <td>NaN</td>\n",
       "      <td>NaN</td>\n",
       "      <td>NaN</td>\n",
       "      <td>NaN</td>\n",
       "      <td>NaN</td>\n",
       "      <td>NaN</td>\n",
       "      <td>NaN</td>\n",
       "      <td>NaN</td>\n",
       "      <td>NaN</td>\n",
       "      <td>NaN</td>\n",
       "      <td>NaN</td>\n",
       "    </tr>\n",
       "    <tr>\n",
       "      <th>105</th>\n",
       "      <td>NaN</td>\n",
       "      <td>NaN</td>\n",
       "      <td>NaN</td>\n",
       "      <td>NaN</td>\n",
       "      <td>NaN</td>\n",
       "      <td>NaN</td>\n",
       "      <td>NaN</td>\n",
       "      <td>NaN</td>\n",
       "      <td>NaN</td>\n",
       "      <td>NaN</td>\n",
       "      <td>NaN</td>\n",
       "      <td>NaN</td>\n",
       "    </tr>\n",
       "    <tr>\n",
       "      <th>272</th>\n",
       "      <td>NaN</td>\n",
       "      <td>arin</td>\n",
       "      <td>8075</td>\n",
       "      <td>52.160.0.0/11</td>\n",
       "      <td>US</td>\n",
       "      <td>2015-11-24</td>\n",
       "      <td>MICROSOFT-CORP-MSN-AS-BLOCK, US</td>\n",
       "      <td>52.171.57.74</td>\n",
       "      <td>[{'cidr': '52.160.0.0/11, 52.148.0.0/14, 52.152.0.0/13, 52.145.0.0/16, 52.146.0.0/15', 'name': '...</td>\n",
       "      <td>NaN</td>\n",
       "      <td>NaN</td>\n",
       "      <td>NaN</td>\n",
       "    </tr>\n",
       "    <tr>\n",
       "      <th>273</th>\n",
       "      <td>NaN</td>\n",
       "      <td>arin</td>\n",
       "      <td>8075</td>\n",
       "      <td>52.160.0.0/11</td>\n",
       "      <td>US</td>\n",
       "      <td>2015-11-24</td>\n",
       "      <td>MICROSOFT-CORP-MSN-AS-BLOCK, US</td>\n",
       "      <td>52.171.36.115</td>\n",
       "      <td>[{'cidr': '52.145.0.0/16, 52.146.0.0/15, 52.152.0.0/13, 52.160.0.0/11, 52.148.0.0/14', 'name': '...</td>\n",
       "      <td>NaN</td>\n",
       "      <td>NaN</td>\n",
       "      <td>NaN</td>\n",
       "    </tr>\n",
       "    <tr>\n",
       "      <th>275</th>\n",
       "      <td>NaN</td>\n",
       "      <td>arin</td>\n",
       "      <td>8075</td>\n",
       "      <td>20.64.0.0/10</td>\n",
       "      <td>US</td>\n",
       "      <td>2017-10-18</td>\n",
       "      <td>MICROSOFT-CORP-MSN-AS-BLOCK, US</td>\n",
       "      <td>20.84.105.0</td>\n",
       "      <td>[{'cidr': '20.128.0.0/16, 20.64.0.0/10, 20.40.0.0/13, 20.36.0.0/14, 20.48.0.0/12, 20.34.0.0/15, ...</td>\n",
       "      <td>NaN</td>\n",
       "      <td>NaN</td>\n",
       "      <td>NaN</td>\n",
       "    </tr>\n",
       "    <tr>\n",
       "      <th>276</th>\n",
       "      <td>NaN</td>\n",
       "      <td>arin</td>\n",
       "      <td>8075</td>\n",
       "      <td>20.48.0.0/12</td>\n",
       "      <td>US</td>\n",
       "      <td>2017-10-18</td>\n",
       "      <td>MICROSOFT-CORP-MSN-AS-BLOCK, US</td>\n",
       "      <td>20.55.97.123</td>\n",
       "      <td>[{'cidr': '20.128.0.0/16, 20.64.0.0/10, 20.40.0.0/13, 20.36.0.0/14, 20.48.0.0/12, 20.34.0.0/15, ...</td>\n",
       "      <td>NaN</td>\n",
       "      <td>NaN</td>\n",
       "      <td>NaN</td>\n",
       "    </tr>\n",
       "    <tr>\n",
       "      <th>392</th>\n",
       "      <td>NaN</td>\n",
       "      <td>arin</td>\n",
       "      <td>8075</td>\n",
       "      <td>20.64.0.0/10</td>\n",
       "      <td>US</td>\n",
       "      <td>2017-10-18</td>\n",
       "      <td>MICROSOFT-CORP-MSN-AS-BLOCK, US</td>\n",
       "      <td>20.84.112.117</td>\n",
       "      <td>[{'cidr': '20.128.0.0/16, 20.64.0.0/10, 20.40.0.0/13, 20.36.0.0/14, 20.48.0.0/12, 20.34.0.0/15, ...</td>\n",
       "      <td>NaN</td>\n",
       "      <td>NaN</td>\n",
       "      <td>NaN</td>\n",
       "    </tr>\n",
       "    <tr>\n",
       "      <th>397</th>\n",
       "      <td>NaN</td>\n",
       "      <td>NaN</td>\n",
       "      <td>NaN</td>\n",
       "      <td>NaN</td>\n",
       "      <td>NaN</td>\n",
       "      <td>NaN</td>\n",
       "      <td>NaN</td>\n",
       "      <td>NaN</td>\n",
       "      <td>NaN</td>\n",
       "      <td>NaN</td>\n",
       "      <td>NaN</td>\n",
       "      <td>NaN</td>\n",
       "    </tr>\n",
       "    <tr>\n",
       "      <th>410</th>\n",
       "      <td>NaN</td>\n",
       "      <td>NaN</td>\n",
       "      <td>NaN</td>\n",
       "      <td>NaN</td>\n",
       "      <td>NaN</td>\n",
       "      <td>NaN</td>\n",
       "      <td>NaN</td>\n",
       "      <td>NaN</td>\n",
       "      <td>NaN</td>\n",
       "      <td>NaN</td>\n",
       "      <td>NaN</td>\n",
       "      <td>NaN</td>\n",
       "    </tr>\n",
       "    <tr>\n",
       "      <th>720</th>\n",
       "      <td>NaN</td>\n",
       "      <td>NaN</td>\n",
       "      <td>NaN</td>\n",
       "      <td>NaN</td>\n",
       "      <td>NaN</td>\n",
       "      <td>NaN</td>\n",
       "      <td>NaN</td>\n",
       "      <td>NaN</td>\n",
       "      <td>NaN</td>\n",
       "      <td>NaN</td>\n",
       "      <td>NaN</td>\n",
       "      <td>NaN</td>\n",
       "    </tr>\n",
       "    <tr>\n",
       "      <th>923</th>\n",
       "      <td>NaN</td>\n",
       "      <td>arin</td>\n",
       "      <td>8075</td>\n",
       "      <td>104.208.0.0/13</td>\n",
       "      <td>US</td>\n",
       "      <td>2014-10-01</td>\n",
       "      <td>MICROSOFT-CORP-MSN-AS-BLOCK, US</td>\n",
       "      <td>104.214.50.229</td>\n",
       "      <td>[{'cidr': '104.208.0.0/13', 'name': 'MSFT', 'handle': 'NET-104-208-0-0-1', 'range': '104.208.0.0...</td>\n",
       "      <td>NaN</td>\n",
       "      <td>NaN</td>\n",
       "      <td>NaN</td>\n",
       "    </tr>\n",
       "    <tr>\n",
       "      <th>924</th>\n",
       "      <td>NaN</td>\n",
       "      <td>arin</td>\n",
       "      <td>8075</td>\n",
       "      <td>20.48.0.0/12</td>\n",
       "      <td>US</td>\n",
       "      <td>2017-10-18</td>\n",
       "      <td>MICROSOFT-CORP-MSN-AS-BLOCK, US</td>\n",
       "      <td>20.51.104.164</td>\n",
       "      <td>[{'cidr': '20.34.0.0/15, 20.48.0.0/12, 20.64.0.0/10, 20.33.0.0/16, 20.40.0.0/13, 20.36.0.0/14, 2...</td>\n",
       "      <td>NaN</td>\n",
       "      <td>NaN</td>\n",
       "      <td>NaN</td>\n",
       "    </tr>\n",
       "    <tr>\n",
       "      <th>925</th>\n",
       "      <td>NaN</td>\n",
       "      <td>arin</td>\n",
       "      <td>8075</td>\n",
       "      <td>20.64.0.0/10</td>\n",
       "      <td>US</td>\n",
       "      <td>2017-10-18</td>\n",
       "      <td>MICROSOFT-CORP-MSN-AS-BLOCK, US</td>\n",
       "      <td>20.81.40.144</td>\n",
       "      <td>[{'cidr': '20.128.0.0/16, 20.33.0.0/16, 20.48.0.0/12, 20.34.0.0/15, 20.64.0.0/10, 20.36.0.0/14, ...</td>\n",
       "      <td>NaN</td>\n",
       "      <td>NaN</td>\n",
       "      <td>NaN</td>\n",
       "    </tr>\n",
       "    <tr>\n",
       "      <th>926</th>\n",
       "      <td>NaN</td>\n",
       "      <td>arin</td>\n",
       "      <td>8075</td>\n",
       "      <td>20.64.0.0/10</td>\n",
       "      <td>US</td>\n",
       "      <td>2017-10-18</td>\n",
       "      <td>MICROSOFT-CORP-MSN-AS-BLOCK, US</td>\n",
       "      <td>20.80.162.44</td>\n",
       "      <td>[{'cidr': '20.128.0.0/16, 20.33.0.0/16, 20.48.0.0/12, 20.34.0.0/15, 20.64.0.0/10, 20.36.0.0/14, ...</td>\n",
       "      <td>NaN</td>\n",
       "      <td>NaN</td>\n",
       "      <td>NaN</td>\n",
       "    </tr>\n",
       "    <tr>\n",
       "      <th>927</th>\n",
       "      <td>NaN</td>\n",
       "      <td>NaN</td>\n",
       "      <td>NaN</td>\n",
       "      <td>NaN</td>\n",
       "      <td>NaN</td>\n",
       "      <td>NaN</td>\n",
       "      <td>NaN</td>\n",
       "      <td>NaN</td>\n",
       "      <td>NaN</td>\n",
       "      <td>NaN</td>\n",
       "      <td>NaN</td>\n",
       "      <td>NaN</td>\n",
       "    </tr>\n",
       "    <tr>\n",
       "      <th>928</th>\n",
       "      <td>NaN</td>\n",
       "      <td>arin</td>\n",
       "      <td>8075</td>\n",
       "      <td>104.208.0.0/13</td>\n",
       "      <td>US</td>\n",
       "      <td>2014-10-01</td>\n",
       "      <td>MICROSOFT-CORP-MSN-AS-BLOCK, US</td>\n",
       "      <td>104.215.76.44</td>\n",
       "      <td>[{'cidr': '104.208.0.0/13', 'name': 'MSFT', 'handle': 'NET-104-208-0-0-1', 'range': '104.208.0.0...</td>\n",
       "      <td>NaN</td>\n",
       "      <td>NaN</td>\n",
       "      <td>NaN</td>\n",
       "    </tr>\n",
       "    <tr>\n",
       "      <th>1017</th>\n",
       "      <td>NaN</td>\n",
       "      <td>NaN</td>\n",
       "      <td>NaN</td>\n",
       "      <td>NaN</td>\n",
       "      <td>NaN</td>\n",
       "      <td>NaN</td>\n",
       "      <td>NaN</td>\n",
       "      <td>NaN</td>\n",
       "      <td>NaN</td>\n",
       "      <td>NaN</td>\n",
       "      <td>NaN</td>\n",
       "      <td>NaN</td>\n",
       "    </tr>\n",
       "    <tr>\n",
       "      <th>1923</th>\n",
       "      <td>NaN</td>\n",
       "      <td>arin</td>\n",
       "      <td>8075</td>\n",
       "      <td>20.64.0.0/10</td>\n",
       "      <td>US</td>\n",
       "      <td>2017-10-18</td>\n",
       "      <td>MICROSOFT-CORP-MSN-AS-BLOCK, US</td>\n",
       "      <td>20.81.42.55</td>\n",
       "      <td>[{'cidr': '20.34.0.0/15, 20.36.0.0/14, 20.48.0.0/12, 20.64.0.0/10, 20.128.0.0/16, 20.33.0.0/16, ...</td>\n",
       "      <td>NaN</td>\n",
       "      <td>NaN</td>\n",
       "      <td>NaN</td>\n",
       "    </tr>\n",
       "    <tr>\n",
       "      <th>3290</th>\n",
       "      <td>NaN</td>\n",
       "      <td>arin</td>\n",
       "      <td>8075</td>\n",
       "      <td>20.48.0.0/12</td>\n",
       "      <td>US</td>\n",
       "      <td>2017-10-18</td>\n",
       "      <td>MICROSOFT-CORP-MSN-AS-BLOCK, US</td>\n",
       "      <td>20.55.80.232</td>\n",
       "      <td>[{'cidr': '20.34.0.0/15, 20.36.0.0/14, 20.48.0.0/12, 20.64.0.0/10, 20.128.0.0/16, 20.33.0.0/16, ...</td>\n",
       "      <td>NaN</td>\n",
       "      <td>NaN</td>\n",
       "      <td>NaN</td>\n",
       "    </tr>\n",
       "    <tr>\n",
       "      <th>4381</th>\n",
       "      <td>NaN</td>\n",
       "      <td>NaN</td>\n",
       "      <td>NaN</td>\n",
       "      <td>NaN</td>\n",
       "      <td>NaN</td>\n",
       "      <td>NaN</td>\n",
       "      <td>NaN</td>\n",
       "      <td>NaN</td>\n",
       "      <td>NaN</td>\n",
       "      <td>NaN</td>\n",
       "      <td>NaN</td>\n",
       "      <td>NaN</td>\n",
       "    </tr>\n",
       "    <tr>\n",
       "      <th>5542</th>\n",
       "      <td>NaN</td>\n",
       "      <td>ripencc</td>\n",
       "      <td>207812</td>\n",
       "      <td>79.124.62.0/24</td>\n",
       "      <td>BG</td>\n",
       "      <td>2007-07-31</td>\n",
       "      <td>DM_AUTO, BG</td>\n",
       "      <td>79.124.62.82</td>\n",
       "      <td>[{'cidr': '79.124.62.0/24', 'name': 'CLOUDVPS-NET', 'handle': 'NOC299-RIPE', 'range': '79.124.62...</td>\n",
       "      <td>NaN</td>\n",
       "      <td>NaN</td>\n",
       "      <td>NaN</td>\n",
       "    </tr>\n",
       "  </tbody>\n",
       "</table>\n",
       "</div>"
      ],
      "text/plain": [
       "      nir asn_registry     asn        asn_cidr asn_country_code    asn_date  \\\n",
       "0     NaN          NaN     NaN             NaN              NaN         NaN   \n",
       "1     NaN          NaN     NaN             NaN              NaN         NaN   \n",
       "2     NaN          NaN     NaN             NaN              NaN         NaN   \n",
       "3     NaN         arin   14618     3.80.0.0/12               US  2017-12-20   \n",
       "4     NaN          NaN     NaN             NaN              NaN         NaN   \n",
       "17    NaN          NaN     NaN             NaN              NaN         NaN   \n",
       "68    NaN          NaN     NaN             NaN              NaN         NaN   \n",
       "69    NaN          NaN     NaN             NaN              NaN         NaN   \n",
       "70    NaN          NaN     NaN             NaN              NaN         NaN   \n",
       "105   NaN          NaN     NaN             NaN              NaN         NaN   \n",
       "272   NaN         arin    8075   52.160.0.0/11               US  2015-11-24   \n",
       "273   NaN         arin    8075   52.160.0.0/11               US  2015-11-24   \n",
       "275   NaN         arin    8075    20.64.0.0/10               US  2017-10-18   \n",
       "276   NaN         arin    8075    20.48.0.0/12               US  2017-10-18   \n",
       "392   NaN         arin    8075    20.64.0.0/10               US  2017-10-18   \n",
       "397   NaN          NaN     NaN             NaN              NaN         NaN   \n",
       "410   NaN          NaN     NaN             NaN              NaN         NaN   \n",
       "720   NaN          NaN     NaN             NaN              NaN         NaN   \n",
       "923   NaN         arin    8075  104.208.0.0/13               US  2014-10-01   \n",
       "924   NaN         arin    8075    20.48.0.0/12               US  2017-10-18   \n",
       "925   NaN         arin    8075    20.64.0.0/10               US  2017-10-18   \n",
       "926   NaN         arin    8075    20.64.0.0/10               US  2017-10-18   \n",
       "927   NaN          NaN     NaN             NaN              NaN         NaN   \n",
       "928   NaN         arin    8075  104.208.0.0/13               US  2014-10-01   \n",
       "1017  NaN          NaN     NaN             NaN              NaN         NaN   \n",
       "1923  NaN         arin    8075    20.64.0.0/10               US  2017-10-18   \n",
       "3290  NaN         arin    8075    20.48.0.0/12               US  2017-10-18   \n",
       "4381  NaN          NaN     NaN             NaN              NaN         NaN   \n",
       "5542  NaN      ripencc  207812  79.124.62.0/24               BG  2007-07-31   \n",
       "\n",
       "                      asn_description           query  \\\n",
       "0                                 NaN             NaN   \n",
       "1                                 NaN             NaN   \n",
       "2                                 NaN             NaN   \n",
       "3                      AMAZON-AES, US     3.88.48.125   \n",
       "4                                 NaN             NaN   \n",
       "17                                NaN             NaN   \n",
       "68                                NaN             NaN   \n",
       "69                                NaN             NaN   \n",
       "70                                NaN             NaN   \n",
       "105                               NaN             NaN   \n",
       "272   MICROSOFT-CORP-MSN-AS-BLOCK, US    52.171.57.74   \n",
       "273   MICROSOFT-CORP-MSN-AS-BLOCK, US   52.171.36.115   \n",
       "275   MICROSOFT-CORP-MSN-AS-BLOCK, US     20.84.105.0   \n",
       "276   MICROSOFT-CORP-MSN-AS-BLOCK, US    20.55.97.123   \n",
       "392   MICROSOFT-CORP-MSN-AS-BLOCK, US   20.84.112.117   \n",
       "397                               NaN             NaN   \n",
       "410                               NaN             NaN   \n",
       "720                               NaN             NaN   \n",
       "923   MICROSOFT-CORP-MSN-AS-BLOCK, US  104.214.50.229   \n",
       "924   MICROSOFT-CORP-MSN-AS-BLOCK, US   20.51.104.164   \n",
       "925   MICROSOFT-CORP-MSN-AS-BLOCK, US    20.81.40.144   \n",
       "926   MICROSOFT-CORP-MSN-AS-BLOCK, US    20.80.162.44   \n",
       "927                               NaN             NaN   \n",
       "928   MICROSOFT-CORP-MSN-AS-BLOCK, US   104.215.76.44   \n",
       "1017                              NaN             NaN   \n",
       "1923  MICROSOFT-CORP-MSN-AS-BLOCK, US     20.81.42.55   \n",
       "3290  MICROSOFT-CORP-MSN-AS-BLOCK, US    20.55.80.232   \n",
       "4381                              NaN             NaN   \n",
       "5542                      DM_AUTO, BG    79.124.62.82   \n",
       "\n",
       "                                                                                                     nets  \\\n",
       "0                                                                                                     NaN   \n",
       "1                                                                                                     NaN   \n",
       "2                                                                                                     NaN   \n",
       "3     [{'cidr': '3.0.0.0/9', 'name': 'AT-88-Z', 'handle': 'NET-3-0-0-0-1', 'range': '3.0.0.0 - 3.127.2...   \n",
       "4                                                                                                     NaN   \n",
       "17                                                                                                    NaN   \n",
       "68                                                                                                    NaN   \n",
       "69                                                                                                    NaN   \n",
       "70                                                                                                    NaN   \n",
       "105                                                                                                   NaN   \n",
       "272   [{'cidr': '52.160.0.0/11, 52.148.0.0/14, 52.152.0.0/13, 52.145.0.0/16, 52.146.0.0/15', 'name': '...   \n",
       "273   [{'cidr': '52.145.0.0/16, 52.146.0.0/15, 52.152.0.0/13, 52.160.0.0/11, 52.148.0.0/14', 'name': '...   \n",
       "275   [{'cidr': '20.128.0.0/16, 20.64.0.0/10, 20.40.0.0/13, 20.36.0.0/14, 20.48.0.0/12, 20.34.0.0/15, ...   \n",
       "276   [{'cidr': '20.128.0.0/16, 20.64.0.0/10, 20.40.0.0/13, 20.36.0.0/14, 20.48.0.0/12, 20.34.0.0/15, ...   \n",
       "392   [{'cidr': '20.128.0.0/16, 20.64.0.0/10, 20.40.0.0/13, 20.36.0.0/14, 20.48.0.0/12, 20.34.0.0/15, ...   \n",
       "397                                                                                                   NaN   \n",
       "410                                                                                                   NaN   \n",
       "720                                                                                                   NaN   \n",
       "923   [{'cidr': '104.208.0.0/13', 'name': 'MSFT', 'handle': 'NET-104-208-0-0-1', 'range': '104.208.0.0...   \n",
       "924   [{'cidr': '20.34.0.0/15, 20.48.0.0/12, 20.64.0.0/10, 20.33.0.0/16, 20.40.0.0/13, 20.36.0.0/14, 2...   \n",
       "925   [{'cidr': '20.128.0.0/16, 20.33.0.0/16, 20.48.0.0/12, 20.34.0.0/15, 20.64.0.0/10, 20.36.0.0/14, ...   \n",
       "926   [{'cidr': '20.128.0.0/16, 20.33.0.0/16, 20.48.0.0/12, 20.34.0.0/15, 20.64.0.0/10, 20.36.0.0/14, ...   \n",
       "927                                                                                                   NaN   \n",
       "928   [{'cidr': '104.208.0.0/13', 'name': 'MSFT', 'handle': 'NET-104-208-0-0-1', 'range': '104.208.0.0...   \n",
       "1017                                                                                                  NaN   \n",
       "1923  [{'cidr': '20.34.0.0/15, 20.36.0.0/14, 20.48.0.0/12, 20.64.0.0/10, 20.128.0.0/16, 20.33.0.0/16, ...   \n",
       "3290  [{'cidr': '20.34.0.0/15, 20.36.0.0/14, 20.48.0.0/12, 20.64.0.0/10, 20.128.0.0/16, 20.33.0.0/16, ...   \n",
       "4381                                                                                                  NaN   \n",
       "5542  [{'cidr': '79.124.62.0/24', 'name': 'CLOUDVPS-NET', 'handle': 'NOC299-RIPE', 'range': '79.124.62...   \n",
       "\n",
       "      raw  referral  raw_referral  \n",
       "0     NaN       NaN           NaN  \n",
       "1     NaN       NaN           NaN  \n",
       "2     NaN       NaN           NaN  \n",
       "3     NaN       NaN           NaN  \n",
       "4     NaN       NaN           NaN  \n",
       "17    NaN       NaN           NaN  \n",
       "68    NaN       NaN           NaN  \n",
       "69    NaN       NaN           NaN  \n",
       "70    NaN       NaN           NaN  \n",
       "105   NaN       NaN           NaN  \n",
       "272   NaN       NaN           NaN  \n",
       "273   NaN       NaN           NaN  \n",
       "275   NaN       NaN           NaN  \n",
       "276   NaN       NaN           NaN  \n",
       "392   NaN       NaN           NaN  \n",
       "397   NaN       NaN           NaN  \n",
       "410   NaN       NaN           NaN  \n",
       "720   NaN       NaN           NaN  \n",
       "923   NaN       NaN           NaN  \n",
       "924   NaN       NaN           NaN  \n",
       "925   NaN       NaN           NaN  \n",
       "926   NaN       NaN           NaN  \n",
       "927   NaN       NaN           NaN  \n",
       "928   NaN       NaN           NaN  \n",
       "1017  NaN       NaN           NaN  \n",
       "1923  NaN       NaN           NaN  \n",
       "3290  NaN       NaN           NaN  \n",
       "4381  NaN       NaN           NaN  \n",
       "5542  NaN       NaN           NaN  "
      ]
     },
     "execution_count": 58,
     "metadata": {},
     "output_type": "execute_result"
    }
   ],
   "source": [
    "entities.IpAddress.util.whois(data=ips_df, column=\"IP\")"
   ]
  },
  {
   "cell_type": "markdown",
   "metadata": {},
   "source": [
    "## Simple pipeline\n",
    "\n",
    "Note:\n",
    "- inline query to filter to only \"Public\" IPs\n",
    "- `mp_pivot.display` function to display intermediate results"
   ]
  },
  {
   "cell_type": "code",
   "execution_count": 59,
   "metadata": {},
   "outputs": [
    {
     "data": {
      "text/html": [
       "<h3>Geo Lookup</h3>"
      ],
      "text/plain": [
       "<IPython.core.display.HTML object>"
      ]
     },
     "metadata": {},
     "output_type": "display_data"
    },
    {
     "data": {
      "text/html": [
       "<div>\n",
       "<style scoped>\n",
       "    .dataframe tbody tr th:only-of-type {\n",
       "        vertical-align: middle;\n",
       "    }\n",
       "\n",
       "    .dataframe tbody tr th {\n",
       "        vertical-align: top;\n",
       "    }\n",
       "\n",
       "    .dataframe thead th {\n",
       "        text-align: right;\n",
       "    }\n",
       "</style>\n",
       "<table border=\"1\" class=\"dataframe\">\n",
       "  <thead>\n",
       "    <tr style=\"text-align: right;\">\n",
       "      <th></th>\n",
       "      <th>IP</th>\n",
       "      <th>City</th>\n",
       "    </tr>\n",
       "  </thead>\n",
       "  <tbody>\n",
       "    <tr>\n",
       "      <th>0</th>\n",
       "      <td>3.88.48.125</td>\n",
       "      <td>Ashburn</td>\n",
       "    </tr>\n",
       "    <tr>\n",
       "      <th>1</th>\n",
       "      <td>52.171.57.74</td>\n",
       "      <td>San Antonio</td>\n",
       "    </tr>\n",
       "    <tr>\n",
       "      <th>2</th>\n",
       "      <td>52.171.36.115</td>\n",
       "      <td>San Antonio</td>\n",
       "    </tr>\n",
       "    <tr>\n",
       "      <th>3</th>\n",
       "      <td>20.84.105.0</td>\n",
       "      <td>None</td>\n",
       "    </tr>\n",
       "    <tr>\n",
       "      <th>4</th>\n",
       "      <td>20.55.97.123</td>\n",
       "      <td>Washington</td>\n",
       "    </tr>\n",
       "    <tr>\n",
       "      <th>5</th>\n",
       "      <td>20.84.112.117</td>\n",
       "      <td>None</td>\n",
       "    </tr>\n",
       "    <tr>\n",
       "      <th>6</th>\n",
       "      <td>104.214.50.229</td>\n",
       "      <td>San Antonio</td>\n",
       "    </tr>\n",
       "    <tr>\n",
       "      <th>7</th>\n",
       "      <td>20.51.104.164</td>\n",
       "      <td>None</td>\n",
       "    </tr>\n",
       "    <tr>\n",
       "      <th>8</th>\n",
       "      <td>20.81.40.144</td>\n",
       "      <td>Washington</td>\n",
       "    </tr>\n",
       "    <tr>\n",
       "      <th>9</th>\n",
       "      <td>20.80.162.44</td>\n",
       "      <td>None</td>\n",
       "    </tr>\n",
       "  </tbody>\n",
       "</table>\n",
       "</div>"
      ],
      "text/plain": [
       "               IP         City\n",
       "0     3.88.48.125      Ashburn\n",
       "1    52.171.57.74  San Antonio\n",
       "2   52.171.36.115  San Antonio\n",
       "3     20.84.105.0         None\n",
       "4    20.55.97.123   Washington\n",
       "5   20.84.112.117         None\n",
       "6  104.214.50.229  San Antonio\n",
       "7   20.51.104.164         None\n",
       "8    20.81.40.144   Washington\n",
       "9    20.80.162.44         None"
      ]
     },
     "metadata": {},
     "output_type": "display_data"
    },
    {
     "data": {
      "application/javascript": [
       "try {IPython.notebook.kernel.execute(\"NOTEBOOK_URL = '\" + window.location + \"'\");} catch(err) {;}"
      ],
      "text/plain": [
       "<IPython.core.display.Javascript object>"
      ]
     },
     "metadata": {},
     "output_type": "display_data"
    },
    {
     "data": {
      "application/javascript": [
       "try {IPython.notebook.kernel.execute(\"NOTEBOOK_URL = '\" + window.location + \"'\");} catch(err) {;}"
      ],
      "text/plain": [
       "<IPython.core.display.Javascript object>"
      ]
     },
     "metadata": {},
     "output_type": "display_data"
    },
    {
     "data": {
      "application/javascript": [
       "try {IPython.notebook.kernel.execute(\"NOTEBOOK_URL = '\" + window.location + \"'\");} catch(err) {;}"
      ],
      "text/plain": [
       "<IPython.core.display.Javascript object>"
      ]
     },
     "metadata": {},
     "output_type": "display_data"
    },
    {
     "data": {
      "application/javascript": [
       "try {IPython.notebook.kernel.execute(\"NOTEBOOK_URL = '\" + window.location + \"'\");} catch(err) {;}"
      ],
      "text/plain": [
       "<IPython.core.display.Javascript object>"
      ]
     },
     "metadata": {},
     "output_type": "display_data"
    },
    {
     "data": {
      "application/javascript": [
       "try {IPython.notebook.kernel.execute(\"NOTEBOOK_URL = '\" + window.location + \"'\");} catch(err) {;}"
      ],
      "text/plain": [
       "<IPython.core.display.Javascript object>"
      ]
     },
     "metadata": {},
     "output_type": "display_data"
    },
    {
     "data": {
      "application/javascript": [
       "try {IPython.notebook.kernel.execute(\"NOTEBOOK_URL = '\" + window.location + \"'\");} catch(err) {;}"
      ],
      "text/plain": [
       "<IPython.core.display.Javascript object>"
      ]
     },
     "metadata": {},
     "output_type": "display_data"
    },
    {
     "data": {
      "application/javascript": [
       "try {IPython.notebook.kernel.execute(\"NOTEBOOK_URL = '\" + window.location + \"'\");} catch(err) {;}"
      ],
      "text/plain": [
       "<IPython.core.display.Javascript object>"
      ]
     },
     "metadata": {},
     "output_type": "display_data"
    },
    {
     "data": {
      "application/javascript": [
       "try {IPython.notebook.kernel.execute(\"NOTEBOOK_URL = '\" + window.location + \"'\");} catch(err) {;}"
      ],
      "text/plain": [
       "<IPython.core.display.Javascript object>"
      ]
     },
     "metadata": {},
     "output_type": "display_data"
    },
    {
     "data": {
      "application/javascript": [
       "try {IPython.notebook.kernel.execute(\"NOTEBOOK_URL = '\" + window.location + \"'\");} catch(err) {;}"
      ],
      "text/plain": [
       "<IPython.core.display.Javascript object>"
      ]
     },
     "metadata": {},
     "output_type": "display_data"
    },
    {
     "data": {
      "application/javascript": [
       "try {IPython.notebook.kernel.execute(\"NOTEBOOK_URL = '\" + window.location + \"'\");} catch(err) {;}"
      ],
      "text/plain": [
       "<IPython.core.display.Javascript object>"
      ]
     },
     "metadata": {},
     "output_type": "display_data"
    },
    {
     "data": {
      "text/html": [
       "<div>\n",
       "<style scoped>\n",
       "    .dataframe tbody tr th:only-of-type {\n",
       "        vertical-align: middle;\n",
       "    }\n",
       "\n",
       "    .dataframe tbody tr th {\n",
       "        vertical-align: top;\n",
       "    }\n",
       "\n",
       "    .dataframe thead th {\n",
       "        text-align: right;\n",
       "    }\n",
       "</style>\n",
       "<table border=\"1\" class=\"dataframe\">\n",
       "  <thead>\n",
       "    <tr style=\"text-align: right;\">\n",
       "      <th></th>\n",
       "      <th>IP</th>\n",
       "      <th>ip</th>\n",
       "      <th>result</th>\n",
       "      <th>nir</th>\n",
       "      <th>asn_registry</th>\n",
       "      <th>asn</th>\n",
       "      <th>asn_cidr</th>\n",
       "      <th>asn_country_code</th>\n",
       "      <th>asn_date</th>\n",
       "      <th>asn_description</th>\n",
       "      <th>query</th>\n",
       "      <th>nets</th>\n",
       "      <th>raw</th>\n",
       "      <th>referral</th>\n",
       "      <th>raw_referral</th>\n",
       "      <th>CountryCode</th>\n",
       "      <th>CountryName</th>\n",
       "      <th>State</th>\n",
       "      <th>City</th>\n",
       "      <th>Longitude</th>\n",
       "      <th>Latitude</th>\n",
       "      <th>Asn</th>\n",
       "      <th>edges</th>\n",
       "      <th>Type_x</th>\n",
       "      <th>AdditionalData</th>\n",
       "      <th>...</th>\n",
       "      <th>ConfidenceLevel</th>\n",
       "      <th>ConfidenceScore</th>\n",
       "      <th>IsIncident</th>\n",
       "      <th>StartTimeUtc</th>\n",
       "      <th>EndTimeUtc</th>\n",
       "      <th>ProcessingEndTime</th>\n",
       "      <th>RemediationSteps</th>\n",
       "      <th>ExtendedProperties</th>\n",
       "      <th>Entities</th>\n",
       "      <th>SourceSystem</th>\n",
       "      <th>WorkspaceSubscriptionId</th>\n",
       "      <th>WorkspaceResourceGroup</th>\n",
       "      <th>ExtendedLinks</th>\n",
       "      <th>ProductName</th>\n",
       "      <th>ProductComponentName</th>\n",
       "      <th>AlertLink</th>\n",
       "      <th>Status</th>\n",
       "      <th>CompromisedEntity</th>\n",
       "      <th>Tactics</th>\n",
       "      <th>Type_y</th>\n",
       "      <th>SystemAlertId1</th>\n",
       "      <th>ExtendedProperties1</th>\n",
       "      <th>Entities1</th>\n",
       "      <th>MatchingIps</th>\n",
       "      <th>src_row_index</th>\n",
       "    </tr>\n",
       "  </thead>\n",
       "  <tbody>\n",
       "    <tr>\n",
       "      <th>0</th>\n",
       "      <td>3.88.48.125</td>\n",
       "      <td>3.88.48.125</td>\n",
       "      <td>Public</td>\n",
       "      <td>None</td>\n",
       "      <td>arin</td>\n",
       "      <td>14618</td>\n",
       "      <td>3.80.0.0/12</td>\n",
       "      <td>US</td>\n",
       "      <td>2017-12-20</td>\n",
       "      <td>AMAZON-AES, US</td>\n",
       "      <td>3.88.48.125</td>\n",
       "      <td>[{'cidr': '3.0.0.0/9', 'name': 'AT-88-Z', 'handle': 'NET-3-0-0-0-1', 'range': '3.0.0.0 - 3.127.2...</td>\n",
       "      <td>None</td>\n",
       "      <td>None</td>\n",
       "      <td>None</td>\n",
       "      <td>US</td>\n",
       "      <td>United States</td>\n",
       "      <td>Virginia</td>\n",
       "      <td>Ashburn</td>\n",
       "      <td>-77.4728</td>\n",
       "      <td>39.0481</td>\n",
       "      <td>None</td>\n",
       "      <td>{}</td>\n",
       "      <td>geolocation</td>\n",
       "      <td>{}</td>\n",
       "      <td>...</td>\n",
       "      <td>83</td>\n",
       "      <td>NaN</td>\n",
       "      <td>False</td>\n",
       "      <td>2020-11-20 14:57:45+00:00</td>\n",
       "      <td>2020-11-20 14:57:45+00:00</td>\n",
       "      <td>2020-11-20 15:08:56+00:00</td>\n",
       "      <td></td>\n",
       "      <td>{\\r\\n  \"Query\": \"CommonSecurityLog| where RequestURL hasprefix(\\\"bigbonsai-music.de\\\") | where T...</td>\n",
       "      <td>[\\r\\n  {\\r\\n    \"$id\": \"3\",\\r\\n    \"DnsDomain\": \"bigbonsai-music.de\",\\r\\n    \"HostName\": \"bigbon...</td>\n",
       "      <td>Detection</td>\n",
       "      <td>d1d8779d-38d7-4f06-91db-9cbc8de0176f</td>\n",
       "      <td>soc</td>\n",
       "      <td></td>\n",
       "      <td>Azure Sentinel</td>\n",
       "      <td>Microsoft Threat Intelligence Analytics</td>\n",
       "      <td></td>\n",
       "      <td>New</td>\n",
       "      <td>3.88.48.125</td>\n",
       "      <td>Unknown</td>\n",
       "      <td>SecurityAlert</td>\n",
       "      <td>a9954983-cc15-8b65-8e2d-ae268e8c6cb5</td>\n",
       "      <td>{\\r\\n  \"Query\": \"CommonSecurityLog| where RequestURL hasprefix(\\\"bigbonsai-music.de\\\") | where T...</td>\n",
       "      <td>[\\r\\n  {\\r\\n    \"$id\": \"3\",\\r\\n    \"DnsDomain\": \"bigbonsai-music.de\",\\r\\n    \"HostName\": \"bigbon...</td>\n",
       "      <td>[3.88.48.125]</td>\n",
       "      <td>0</td>\n",
       "    </tr>\n",
       "    <tr>\n",
       "      <th>1</th>\n",
       "      <td>3.88.48.125</td>\n",
       "      <td>3.88.48.125</td>\n",
       "      <td>Public</td>\n",
       "      <td>None</td>\n",
       "      <td>arin</td>\n",
       "      <td>14618</td>\n",
       "      <td>3.80.0.0/12</td>\n",
       "      <td>US</td>\n",
       "      <td>2017-12-20</td>\n",
       "      <td>AMAZON-AES, US</td>\n",
       "      <td>3.88.48.125</td>\n",
       "      <td>[{'cidr': '3.0.0.0/9', 'name': 'AT-88-Z', 'handle': 'NET-3-0-0-0-1', 'range': '3.0.0.0 - 3.127.2...</td>\n",
       "      <td>None</td>\n",
       "      <td>None</td>\n",
       "      <td>None</td>\n",
       "      <td>US</td>\n",
       "      <td>United States</td>\n",
       "      <td>Virginia</td>\n",
       "      <td>Ashburn</td>\n",
       "      <td>-77.4728</td>\n",
       "      <td>39.0481</td>\n",
       "      <td>None</td>\n",
       "      <td>{}</td>\n",
       "      <td>geolocation</td>\n",
       "      <td>{}</td>\n",
       "      <td>...</td>\n",
       "      <td>83</td>\n",
       "      <td>NaN</td>\n",
       "      <td>False</td>\n",
       "      <td>2020-11-20 14:57:45+00:00</td>\n",
       "      <td>2020-11-20 14:57:45+00:00</td>\n",
       "      <td>2020-11-20 15:08:57+00:00</td>\n",
       "      <td></td>\n",
       "      <td>{\\r\\n  \"Query\": \"CommonSecurityLog| where RequestURL hasprefix(\\\"bigbonsai-music.de\\\") | where T...</td>\n",
       "      <td>[\\r\\n  {\\r\\n    \"$id\": \"3\",\\r\\n    \"DnsDomain\": \"bigbonsai-music.de\",\\r\\n    \"HostName\": \"bigbon...</td>\n",
       "      <td>Detection</td>\n",
       "      <td>d1d8779d-38d7-4f06-91db-9cbc8de0176f</td>\n",
       "      <td>soc</td>\n",
       "      <td></td>\n",
       "      <td>Azure Sentinel</td>\n",
       "      <td>Microsoft Threat Intelligence Analytics</td>\n",
       "      <td></td>\n",
       "      <td>New</td>\n",
       "      <td>3.88.48.125</td>\n",
       "      <td>Unknown</td>\n",
       "      <td>SecurityAlert</td>\n",
       "      <td>b241e024-ca33-c706-7475-c7dbecbc41c3</td>\n",
       "      <td>{\\r\\n  \"Query\": \"CommonSecurityLog| where RequestURL hasprefix(\\\"bigbonsai-music.de\\\") | where T...</td>\n",
       "      <td>[\\r\\n  {\\r\\n    \"$id\": \"3\",\\r\\n    \"DnsDomain\": \"bigbonsai-music.de\",\\r\\n    \"HostName\": \"bigbon...</td>\n",
       "      <td>[3.88.48.125]</td>\n",
       "      <td>0</td>\n",
       "    </tr>\n",
       "    <tr>\n",
       "      <th>2</th>\n",
       "      <td>3.88.48.125</td>\n",
       "      <td>3.88.48.125</td>\n",
       "      <td>Public</td>\n",
       "      <td>None</td>\n",
       "      <td>arin</td>\n",
       "      <td>14618</td>\n",
       "      <td>3.80.0.0/12</td>\n",
       "      <td>US</td>\n",
       "      <td>2017-12-20</td>\n",
       "      <td>AMAZON-AES, US</td>\n",
       "      <td>3.88.48.125</td>\n",
       "      <td>[{'cidr': '3.0.0.0/9', 'name': 'AT-88-Z', 'handle': 'NET-3-0-0-0-1', 'range': '3.0.0.0 - 3.127.2...</td>\n",
       "      <td>None</td>\n",
       "      <td>None</td>\n",
       "      <td>None</td>\n",
       "      <td>US</td>\n",
       "      <td>United States</td>\n",
       "      <td>Virginia</td>\n",
       "      <td>Ashburn</td>\n",
       "      <td>-77.4728</td>\n",
       "      <td>39.0481</td>\n",
       "      <td>None</td>\n",
       "      <td>{}</td>\n",
       "      <td>geolocation</td>\n",
       "      <td>{}</td>\n",
       "      <td>...</td>\n",
       "      <td>83</td>\n",
       "      <td>NaN</td>\n",
       "      <td>False</td>\n",
       "      <td>2020-11-20 14:57:46+00:00</td>\n",
       "      <td>2020-11-20 14:57:46+00:00</td>\n",
       "      <td>2020-11-20 15:08:57+00:00</td>\n",
       "      <td></td>\n",
       "      <td>{\\r\\n  \"Query\": \"CommonSecurityLog| where RequestURL hasprefix(\\\"bigbonsai-music.de\\\") | where T...</td>\n",
       "      <td>[\\r\\n  {\\r\\n    \"$id\": \"3\",\\r\\n    \"DnsDomain\": \"bigbonsai-music.de\",\\r\\n    \"HostName\": \"bigbon...</td>\n",
       "      <td>Detection</td>\n",
       "      <td>d1d8779d-38d7-4f06-91db-9cbc8de0176f</td>\n",
       "      <td>soc</td>\n",
       "      <td></td>\n",
       "      <td>Azure Sentinel</td>\n",
       "      <td>Microsoft Threat Intelligence Analytics</td>\n",
       "      <td></td>\n",
       "      <td>New</td>\n",
       "      <td>3.88.48.125</td>\n",
       "      <td>Unknown</td>\n",
       "      <td>SecurityAlert</td>\n",
       "      <td>f9bf5915-4560-664c-486d-4e60c8cf6641</td>\n",
       "      <td>{\\r\\n  \"Query\": \"CommonSecurityLog| where RequestURL hasprefix(\\\"bigbonsai-music.de\\\") | where T...</td>\n",
       "      <td>[\\r\\n  {\\r\\n    \"$id\": \"3\",\\r\\n    \"DnsDomain\": \"bigbonsai-music.de\",\\r\\n    \"HostName\": \"bigbon...</td>\n",
       "      <td>[3.88.48.125]</td>\n",
       "      <td>0</td>\n",
       "    </tr>\n",
       "    <tr>\n",
       "      <th>3</th>\n",
       "      <td>3.88.48.125</td>\n",
       "      <td>3.88.48.125</td>\n",
       "      <td>Public</td>\n",
       "      <td>None</td>\n",
       "      <td>arin</td>\n",
       "      <td>14618</td>\n",
       "      <td>3.80.0.0/12</td>\n",
       "      <td>US</td>\n",
       "      <td>2017-12-20</td>\n",
       "      <td>AMAZON-AES, US</td>\n",
       "      <td>3.88.48.125</td>\n",
       "      <td>[{'cidr': '3.0.0.0/9', 'name': 'AT-88-Z', 'handle': 'NET-3-0-0-0-1', 'range': '3.0.0.0 - 3.127.2...</td>\n",
       "      <td>None</td>\n",
       "      <td>None</td>\n",
       "      <td>None</td>\n",
       "      <td>US</td>\n",
       "      <td>United States</td>\n",
       "      <td>Virginia</td>\n",
       "      <td>Ashburn</td>\n",
       "      <td>-77.4728</td>\n",
       "      <td>39.0481</td>\n",
       "      <td>None</td>\n",
       "      <td>{}</td>\n",
       "      <td>geolocation</td>\n",
       "      <td>{}</td>\n",
       "      <td>...</td>\n",
       "      <td>83</td>\n",
       "      <td>NaN</td>\n",
       "      <td>False</td>\n",
       "      <td>2020-11-20 14:57:45+00:00</td>\n",
       "      <td>2020-11-20 14:57:45+00:00</td>\n",
       "      <td>2020-11-20 15:08:57+00:00</td>\n",
       "      <td></td>\n",
       "      <td>{\\r\\n  \"Query\": \"CommonSecurityLog| where RequestURL hasprefix(\\\"bigbonsai-music.de\\\") | where T...</td>\n",
       "      <td>[\\r\\n  {\\r\\n    \"$id\": \"3\",\\r\\n    \"DnsDomain\": \"bigbonsai-music.de\",\\r\\n    \"HostName\": \"bigbon...</td>\n",
       "      <td>Detection</td>\n",
       "      <td>d1d8779d-38d7-4f06-91db-9cbc8de0176f</td>\n",
       "      <td>soc</td>\n",
       "      <td></td>\n",
       "      <td>Azure Sentinel</td>\n",
       "      <td>Microsoft Threat Intelligence Analytics</td>\n",
       "      <td></td>\n",
       "      <td>New</td>\n",
       "      <td>3.88.48.125</td>\n",
       "      <td>Unknown</td>\n",
       "      <td>SecurityAlert</td>\n",
       "      <td>63fb83f4-54a0-ad9a-84cc-4d4403dcf8ec</td>\n",
       "      <td>{\\r\\n  \"Query\": \"CommonSecurityLog| where RequestURL hasprefix(\\\"bigbonsai-music.de\\\") | where T...</td>\n",
       "      <td>[\\r\\n  {\\r\\n    \"$id\": \"3\",\\r\\n    \"DnsDomain\": \"bigbonsai-music.de\",\\r\\n    \"HostName\": \"bigbon...</td>\n",
       "      <td>[3.88.48.125]</td>\n",
       "      <td>0</td>\n",
       "    </tr>\n",
       "    <tr>\n",
       "      <th>4</th>\n",
       "      <td>3.88.48.125</td>\n",
       "      <td>3.88.48.125</td>\n",
       "      <td>Public</td>\n",
       "      <td>None</td>\n",
       "      <td>arin</td>\n",
       "      <td>14618</td>\n",
       "      <td>3.80.0.0/12</td>\n",
       "      <td>US</td>\n",
       "      <td>2017-12-20</td>\n",
       "      <td>AMAZON-AES, US</td>\n",
       "      <td>3.88.48.125</td>\n",
       "      <td>[{'cidr': '3.0.0.0/9', 'name': 'AT-88-Z', 'handle': 'NET-3-0-0-0-1', 'range': '3.0.0.0 - 3.127.2...</td>\n",
       "      <td>None</td>\n",
       "      <td>None</td>\n",
       "      <td>None</td>\n",
       "      <td>US</td>\n",
       "      <td>United States</td>\n",
       "      <td>Virginia</td>\n",
       "      <td>Ashburn</td>\n",
       "      <td>-77.4728</td>\n",
       "      <td>39.0481</td>\n",
       "      <td>None</td>\n",
       "      <td>{}</td>\n",
       "      <td>geolocation</td>\n",
       "      <td>{}</td>\n",
       "      <td>...</td>\n",
       "      <td>83</td>\n",
       "      <td>NaN</td>\n",
       "      <td>False</td>\n",
       "      <td>2020-11-20 14:57:45+00:00</td>\n",
       "      <td>2020-11-20 14:57:45+00:00</td>\n",
       "      <td>2020-11-20 15:08:56+00:00</td>\n",
       "      <td></td>\n",
       "      <td>{\\r\\n  \"Query\": \"CommonSecurityLog| where RequestURL hasprefix(\\\"bigbonsai-music.de\\\") | where T...</td>\n",
       "      <td>[\\r\\n  {\\r\\n    \"$id\": \"3\",\\r\\n    \"DnsDomain\": \"bigbonsai-music.de\",\\r\\n    \"HostName\": \"bigbon...</td>\n",
       "      <td>Detection</td>\n",
       "      <td>d1d8779d-38d7-4f06-91db-9cbc8de0176f</td>\n",
       "      <td>soc</td>\n",
       "      <td></td>\n",
       "      <td>Azure Sentinel</td>\n",
       "      <td>Microsoft Threat Intelligence Analytics</td>\n",
       "      <td></td>\n",
       "      <td>New</td>\n",
       "      <td>3.88.48.125</td>\n",
       "      <td>Unknown</td>\n",
       "      <td>SecurityAlert</td>\n",
       "      <td>dd08cd9d-2d76-83b6-daae-335dfd1466eb</td>\n",
       "      <td>{\\r\\n  \"Query\": \"CommonSecurityLog| where RequestURL hasprefix(\\\"bigbonsai-music.de\\\") | where T...</td>\n",
       "      <td>[\\r\\n  {\\r\\n    \"$id\": \"3\",\\r\\n    \"DnsDomain\": \"bigbonsai-music.de\",\\r\\n    \"HostName\": \"bigbon...</td>\n",
       "      <td>[3.88.48.125]</td>\n",
       "      <td>0</td>\n",
       "    </tr>\n",
       "  </tbody>\n",
       "</table>\n",
       "<p>5 rows × 64 columns</p>\n",
       "</div>"
      ],
      "text/plain": [
       "            IP           ip  result   nir asn_registry    asn     asn_cidr  \\\n",
       "0  3.88.48.125  3.88.48.125  Public  None         arin  14618  3.80.0.0/12   \n",
       "1  3.88.48.125  3.88.48.125  Public  None         arin  14618  3.80.0.0/12   \n",
       "2  3.88.48.125  3.88.48.125  Public  None         arin  14618  3.80.0.0/12   \n",
       "3  3.88.48.125  3.88.48.125  Public  None         arin  14618  3.80.0.0/12   \n",
       "4  3.88.48.125  3.88.48.125  Public  None         arin  14618  3.80.0.0/12   \n",
       "\n",
       "  asn_country_code    asn_date asn_description        query  \\\n",
       "0               US  2017-12-20  AMAZON-AES, US  3.88.48.125   \n",
       "1               US  2017-12-20  AMAZON-AES, US  3.88.48.125   \n",
       "2               US  2017-12-20  AMAZON-AES, US  3.88.48.125   \n",
       "3               US  2017-12-20  AMAZON-AES, US  3.88.48.125   \n",
       "4               US  2017-12-20  AMAZON-AES, US  3.88.48.125   \n",
       "\n",
       "                                                                                                  nets  \\\n",
       "0  [{'cidr': '3.0.0.0/9', 'name': 'AT-88-Z', 'handle': 'NET-3-0-0-0-1', 'range': '3.0.0.0 - 3.127.2...   \n",
       "1  [{'cidr': '3.0.0.0/9', 'name': 'AT-88-Z', 'handle': 'NET-3-0-0-0-1', 'range': '3.0.0.0 - 3.127.2...   \n",
       "2  [{'cidr': '3.0.0.0/9', 'name': 'AT-88-Z', 'handle': 'NET-3-0-0-0-1', 'range': '3.0.0.0 - 3.127.2...   \n",
       "3  [{'cidr': '3.0.0.0/9', 'name': 'AT-88-Z', 'handle': 'NET-3-0-0-0-1', 'range': '3.0.0.0 - 3.127.2...   \n",
       "4  [{'cidr': '3.0.0.0/9', 'name': 'AT-88-Z', 'handle': 'NET-3-0-0-0-1', 'range': '3.0.0.0 - 3.127.2...   \n",
       "\n",
       "    raw referral raw_referral CountryCode    CountryName     State     City  \\\n",
       "0  None     None         None          US  United States  Virginia  Ashburn   \n",
       "1  None     None         None          US  United States  Virginia  Ashburn   \n",
       "2  None     None         None          US  United States  Virginia  Ashburn   \n",
       "3  None     None         None          US  United States  Virginia  Ashburn   \n",
       "4  None     None         None          US  United States  Virginia  Ashburn   \n",
       "\n",
       "   Longitude  Latitude   Asn edges       Type_x AdditionalData  ...  \\\n",
       "0   -77.4728   39.0481  None    {}  geolocation             {}  ...   \n",
       "1   -77.4728   39.0481  None    {}  geolocation             {}  ...   \n",
       "2   -77.4728   39.0481  None    {}  geolocation             {}  ...   \n",
       "3   -77.4728   39.0481  None    {}  geolocation             {}  ...   \n",
       "4   -77.4728   39.0481  None    {}  geolocation             {}  ...   \n",
       "\n",
       "  ConfidenceLevel ConfidenceScore IsIncident              StartTimeUtc  \\\n",
       "0              83             NaN      False 2020-11-20 14:57:45+00:00   \n",
       "1              83             NaN      False 2020-11-20 14:57:45+00:00   \n",
       "2              83             NaN      False 2020-11-20 14:57:46+00:00   \n",
       "3              83             NaN      False 2020-11-20 14:57:45+00:00   \n",
       "4              83             NaN      False 2020-11-20 14:57:45+00:00   \n",
       "\n",
       "                 EndTimeUtc         ProcessingEndTime RemediationSteps  \\\n",
       "0 2020-11-20 14:57:45+00:00 2020-11-20 15:08:56+00:00                    \n",
       "1 2020-11-20 14:57:45+00:00 2020-11-20 15:08:57+00:00                    \n",
       "2 2020-11-20 14:57:46+00:00 2020-11-20 15:08:57+00:00                    \n",
       "3 2020-11-20 14:57:45+00:00 2020-11-20 15:08:57+00:00                    \n",
       "4 2020-11-20 14:57:45+00:00 2020-11-20 15:08:56+00:00                    \n",
       "\n",
       "                                                                                    ExtendedProperties  \\\n",
       "0  {\\r\\n  \"Query\": \"CommonSecurityLog| where RequestURL hasprefix(\\\"bigbonsai-music.de\\\") | where T...   \n",
       "1  {\\r\\n  \"Query\": \"CommonSecurityLog| where RequestURL hasprefix(\\\"bigbonsai-music.de\\\") | where T...   \n",
       "2  {\\r\\n  \"Query\": \"CommonSecurityLog| where RequestURL hasprefix(\\\"bigbonsai-music.de\\\") | where T...   \n",
       "3  {\\r\\n  \"Query\": \"CommonSecurityLog| where RequestURL hasprefix(\\\"bigbonsai-music.de\\\") | where T...   \n",
       "4  {\\r\\n  \"Query\": \"CommonSecurityLog| where RequestURL hasprefix(\\\"bigbonsai-music.de\\\") | where T...   \n",
       "\n",
       "                                                                                              Entities  \\\n",
       "0  [\\r\\n  {\\r\\n    \"$id\": \"3\",\\r\\n    \"DnsDomain\": \"bigbonsai-music.de\",\\r\\n    \"HostName\": \"bigbon...   \n",
       "1  [\\r\\n  {\\r\\n    \"$id\": \"3\",\\r\\n    \"DnsDomain\": \"bigbonsai-music.de\",\\r\\n    \"HostName\": \"bigbon...   \n",
       "2  [\\r\\n  {\\r\\n    \"$id\": \"3\",\\r\\n    \"DnsDomain\": \"bigbonsai-music.de\",\\r\\n    \"HostName\": \"bigbon...   \n",
       "3  [\\r\\n  {\\r\\n    \"$id\": \"3\",\\r\\n    \"DnsDomain\": \"bigbonsai-music.de\",\\r\\n    \"HostName\": \"bigbon...   \n",
       "4  [\\r\\n  {\\r\\n    \"$id\": \"3\",\\r\\n    \"DnsDomain\": \"bigbonsai-music.de\",\\r\\n    \"HostName\": \"bigbon...   \n",
       "\n",
       "  SourceSystem               WorkspaceSubscriptionId WorkspaceResourceGroup  \\\n",
       "0    Detection  d1d8779d-38d7-4f06-91db-9cbc8de0176f                    soc   \n",
       "1    Detection  d1d8779d-38d7-4f06-91db-9cbc8de0176f                    soc   \n",
       "2    Detection  d1d8779d-38d7-4f06-91db-9cbc8de0176f                    soc   \n",
       "3    Detection  d1d8779d-38d7-4f06-91db-9cbc8de0176f                    soc   \n",
       "4    Detection  d1d8779d-38d7-4f06-91db-9cbc8de0176f                    soc   \n",
       "\n",
       "  ExtendedLinks     ProductName                     ProductComponentName  \\\n",
       "0                Azure Sentinel  Microsoft Threat Intelligence Analytics   \n",
       "1                Azure Sentinel  Microsoft Threat Intelligence Analytics   \n",
       "2                Azure Sentinel  Microsoft Threat Intelligence Analytics   \n",
       "3                Azure Sentinel  Microsoft Threat Intelligence Analytics   \n",
       "4                Azure Sentinel  Microsoft Threat Intelligence Analytics   \n",
       "\n",
       "   AlertLink  Status CompromisedEntity  Tactics         Type_y  \\\n",
       "0                New       3.88.48.125  Unknown  SecurityAlert   \n",
       "1                New       3.88.48.125  Unknown  SecurityAlert   \n",
       "2                New       3.88.48.125  Unknown  SecurityAlert   \n",
       "3                New       3.88.48.125  Unknown  SecurityAlert   \n",
       "4                New       3.88.48.125  Unknown  SecurityAlert   \n",
       "\n",
       "                         SystemAlertId1  \\\n",
       "0  a9954983-cc15-8b65-8e2d-ae268e8c6cb5   \n",
       "1  b241e024-ca33-c706-7475-c7dbecbc41c3   \n",
       "2  f9bf5915-4560-664c-486d-4e60c8cf6641   \n",
       "3  63fb83f4-54a0-ad9a-84cc-4d4403dcf8ec   \n",
       "4  dd08cd9d-2d76-83b6-daae-335dfd1466eb   \n",
       "\n",
       "                                                                                   ExtendedProperties1  \\\n",
       "0  {\\r\\n  \"Query\": \"CommonSecurityLog| where RequestURL hasprefix(\\\"bigbonsai-music.de\\\") | where T...   \n",
       "1  {\\r\\n  \"Query\": \"CommonSecurityLog| where RequestURL hasprefix(\\\"bigbonsai-music.de\\\") | where T...   \n",
       "2  {\\r\\n  \"Query\": \"CommonSecurityLog| where RequestURL hasprefix(\\\"bigbonsai-music.de\\\") | where T...   \n",
       "3  {\\r\\n  \"Query\": \"CommonSecurityLog| where RequestURL hasprefix(\\\"bigbonsai-music.de\\\") | where T...   \n",
       "4  {\\r\\n  \"Query\": \"CommonSecurityLog| where RequestURL hasprefix(\\\"bigbonsai-music.de\\\") | where T...   \n",
       "\n",
       "                                                                                             Entities1  \\\n",
       "0  [\\r\\n  {\\r\\n    \"$id\": \"3\",\\r\\n    \"DnsDomain\": \"bigbonsai-music.de\",\\r\\n    \"HostName\": \"bigbon...   \n",
       "1  [\\r\\n  {\\r\\n    \"$id\": \"3\",\\r\\n    \"DnsDomain\": \"bigbonsai-music.de\",\\r\\n    \"HostName\": \"bigbon...   \n",
       "2  [\\r\\n  {\\r\\n    \"$id\": \"3\",\\r\\n    \"DnsDomain\": \"bigbonsai-music.de\",\\r\\n    \"HostName\": \"bigbon...   \n",
       "3  [\\r\\n  {\\r\\n    \"$id\": \"3\",\\r\\n    \"DnsDomain\": \"bigbonsai-music.de\",\\r\\n    \"HostName\": \"bigbon...   \n",
       "4  [\\r\\n  {\\r\\n    \"$id\": \"3\",\\r\\n    \"DnsDomain\": \"bigbonsai-music.de\",\\r\\n    \"HostName\": \"bigbon...   \n",
       "\n",
       "     MatchingIps src_row_index  \n",
       "0  [3.88.48.125]             0  \n",
       "1  [3.88.48.125]             0  \n",
       "2  [3.88.48.125]             0  \n",
       "3  [3.88.48.125]             0  \n",
       "4  [3.88.48.125]             0  \n",
       "\n",
       "[5 rows x 64 columns]"
      ]
     },
     "execution_count": 59,
     "metadata": {},
     "output_type": "execute_result"
    }
   ],
   "source": [
    "(\n",
    "    ips_df\n",
    "    .mp_pivot.run(entities.IpAddress.util.ip_type, column=\"IP\", join=\"inner\")\n",
    "    .query(\"result == 'Public'\").head(10)\n",
    "    .mp_pivot.run(entities.IpAddress.util.whois, column=\"ip\", join=\"left\")\n",
    "    .mp_pivot.run(entities.IpAddress.util.geoloc_mm, column=\"ip\", join=\"left\")\n",
    "    .mp_pivot.display(title=\"Geo Lookup\", cols=[\"IP\", \"City\"])  # << display an intermediate result\n",
    "    .mp_pivot.run(entities.IpAddress.AzureSentinel.SecurityAlert_list_alerts_for_ip, source_ip_list=\"ip\", join=\"left\")\n",
    ").head(5)"
   ]
  },
  {
   "cell_type": "code",
   "execution_count": 60,
   "metadata": {},
   "outputs": [],
   "source": [
    "ip_test_df = (\n",
    "    ips_df\n",
    "    .mp_pivot.run(entities.IpAddress.util.ip_type, column=\"IP\", join=\"inner\")\n",
    "    .query(\"result == 'Public'\").head(10)\n",
    "    .mp_pivot.run(entities.IpAddress.util.whois, column=\"ip\", join=\"left\")\n",
    "    .mp_pivot.run(entities.IpAddress.util.geoloc_mm, column=\"ip\", join=\"left\")\n",
    ").head(5)"
   ]
  },
  {
   "cell_type": "code",
   "execution_count": 61,
   "metadata": {},
   "outputs": [
    {
     "data": {
      "application/javascript": [
       "try {IPython.notebook.kernel.execute(\"NOTEBOOK_URL = '\" + window.location + \"'\");} catch(err) {;}"
      ],
      "text/plain": [
       "<IPython.core.display.Javascript object>"
      ]
     },
     "metadata": {},
     "output_type": "display_data"
    },
    {
     "data": {
      "application/javascript": [
       "try {IPython.notebook.kernel.execute(\"NOTEBOOK_URL = '\" + window.location + \"'\");} catch(err) {;}"
      ],
      "text/plain": [
       "<IPython.core.display.Javascript object>"
      ]
     },
     "metadata": {},
     "output_type": "display_data"
    },
    {
     "data": {
      "application/javascript": [
       "try {IPython.notebook.kernel.execute(\"NOTEBOOK_URL = '\" + window.location + \"'\");} catch(err) {;}"
      ],
      "text/plain": [
       "<IPython.core.display.Javascript object>"
      ]
     },
     "metadata": {},
     "output_type": "display_data"
    },
    {
     "data": {
      "application/javascript": [
       "try {IPython.notebook.kernel.execute(\"NOTEBOOK_URL = '\" + window.location + \"'\");} catch(err) {;}"
      ],
      "text/plain": [
       "<IPython.core.display.Javascript object>"
      ]
     },
     "metadata": {},
     "output_type": "display_data"
    },
    {
     "data": {
      "application/javascript": [
       "try {IPython.notebook.kernel.execute(\"NOTEBOOK_URL = '\" + window.location + \"'\");} catch(err) {;}"
      ],
      "text/plain": [
       "<IPython.core.display.Javascript object>"
      ]
     },
     "metadata": {},
     "output_type": "display_data"
    },
    {
     "data": {
      "text/html": [
       "<div>\n",
       "<style scoped>\n",
       "    .dataframe tbody tr th:only-of-type {\n",
       "        vertical-align: middle;\n",
       "    }\n",
       "\n",
       "    .dataframe tbody tr th {\n",
       "        vertical-align: top;\n",
       "    }\n",
       "\n",
       "    .dataframe thead th {\n",
       "        text-align: right;\n",
       "    }\n",
       "</style>\n",
       "<table border=\"1\" class=\"dataframe\">\n",
       "  <thead>\n",
       "    <tr style=\"text-align: right;\">\n",
       "      <th></th>\n",
       "      <th>IP</th>\n",
       "      <th>ip</th>\n",
       "      <th>result</th>\n",
       "      <th>nir</th>\n",
       "      <th>asn_registry</th>\n",
       "      <th>asn</th>\n",
       "      <th>asn_cidr</th>\n",
       "      <th>asn_country_code</th>\n",
       "      <th>asn_date</th>\n",
       "      <th>asn_description</th>\n",
       "      <th>query</th>\n",
       "      <th>nets</th>\n",
       "      <th>raw</th>\n",
       "      <th>referral</th>\n",
       "      <th>raw_referral</th>\n",
       "      <th>CountryCode</th>\n",
       "      <th>CountryName</th>\n",
       "      <th>State</th>\n",
       "      <th>City</th>\n",
       "      <th>Longitude</th>\n",
       "      <th>Latitude</th>\n",
       "      <th>Asn</th>\n",
       "      <th>edges</th>\n",
       "      <th>Type_x</th>\n",
       "      <th>AdditionalData</th>\n",
       "      <th>...</th>\n",
       "      <th>ConfidenceLevel</th>\n",
       "      <th>ConfidenceScore</th>\n",
       "      <th>IsIncident</th>\n",
       "      <th>StartTimeUtc</th>\n",
       "      <th>EndTimeUtc</th>\n",
       "      <th>ProcessingEndTime</th>\n",
       "      <th>RemediationSteps</th>\n",
       "      <th>ExtendedProperties</th>\n",
       "      <th>Entities</th>\n",
       "      <th>SourceSystem</th>\n",
       "      <th>WorkspaceSubscriptionId</th>\n",
       "      <th>WorkspaceResourceGroup</th>\n",
       "      <th>ExtendedLinks</th>\n",
       "      <th>ProductName</th>\n",
       "      <th>ProductComponentName</th>\n",
       "      <th>AlertLink</th>\n",
       "      <th>Status</th>\n",
       "      <th>CompromisedEntity</th>\n",
       "      <th>Tactics</th>\n",
       "      <th>Type_y</th>\n",
       "      <th>SystemAlertId1</th>\n",
       "      <th>ExtendedProperties1</th>\n",
       "      <th>Entities1</th>\n",
       "      <th>MatchingIps</th>\n",
       "      <th>src_row_index</th>\n",
       "    </tr>\n",
       "  </thead>\n",
       "  <tbody>\n",
       "    <tr>\n",
       "      <th>0</th>\n",
       "      <td>3.88.48.125</td>\n",
       "      <td>3.88.48.125</td>\n",
       "      <td>Public</td>\n",
       "      <td>None</td>\n",
       "      <td>arin</td>\n",
       "      <td>14618</td>\n",
       "      <td>3.80.0.0/12</td>\n",
       "      <td>US</td>\n",
       "      <td>2017-12-20</td>\n",
       "      <td>AMAZON-AES, US</td>\n",
       "      <td>3.88.48.125</td>\n",
       "      <td>[{'cidr': '3.0.0.0/9', 'name': 'AT-88-Z', 'handle': 'NET-3-0-0-0-1', 'range': '3.0.0.0 - 3.127.2...</td>\n",
       "      <td>None</td>\n",
       "      <td>None</td>\n",
       "      <td>None</td>\n",
       "      <td>US</td>\n",
       "      <td>United States</td>\n",
       "      <td>Virginia</td>\n",
       "      <td>Ashburn</td>\n",
       "      <td>-77.4728</td>\n",
       "      <td>39.0481</td>\n",
       "      <td>None</td>\n",
       "      <td>{}</td>\n",
       "      <td>geolocation</td>\n",
       "      <td>{}</td>\n",
       "      <td>...</td>\n",
       "      <td>83</td>\n",
       "      <td>NaN</td>\n",
       "      <td>False</td>\n",
       "      <td>2020-11-20 03:52:17+00:00</td>\n",
       "      <td>2020-11-20 03:52:17+00:00</td>\n",
       "      <td>2020-11-20 04:06:42+00:00</td>\n",
       "      <td></td>\n",
       "      <td>{\\r\\n  \"Query\": \"CommonSecurityLog| where RequestURL hasprefix(\\\"chambresdhotesbruges.fr\\\") | wh...</td>\n",
       "      <td>[\\r\\n  {\\r\\n    \"$id\": \"3\",\\r\\n    \"DnsDomain\": \"chambresdhotesbruges.fr\",\\r\\n    \"HostName\": \"c...</td>\n",
       "      <td>Detection</td>\n",
       "      <td>d1d8779d-38d7-4f06-91db-9cbc8de0176f</td>\n",
       "      <td>soc</td>\n",
       "      <td></td>\n",
       "      <td>Azure Sentinel</td>\n",
       "      <td>Microsoft Threat Intelligence Analytics</td>\n",
       "      <td></td>\n",
       "      <td>New</td>\n",
       "      <td>3.88.48.125</td>\n",
       "      <td>Unknown</td>\n",
       "      <td>SecurityAlert</td>\n",
       "      <td>45614988-e680-cbc0-4673-babf03147290</td>\n",
       "      <td>{\\r\\n  \"Query\": \"CommonSecurityLog| where RequestURL hasprefix(\\\"chambresdhotesbruges.fr\\\") | wh...</td>\n",
       "      <td>[\\r\\n  {\\r\\n    \"$id\": \"3\",\\r\\n    \"DnsDomain\": \"chambresdhotesbruges.fr\",\\r\\n    \"HostName\": \"c...</td>\n",
       "      <td>[3.88.48.125]</td>\n",
       "      <td>0</td>\n",
       "    </tr>\n",
       "    <tr>\n",
       "      <th>1</th>\n",
       "      <td>3.88.48.125</td>\n",
       "      <td>3.88.48.125</td>\n",
       "      <td>Public</td>\n",
       "      <td>None</td>\n",
       "      <td>arin</td>\n",
       "      <td>14618</td>\n",
       "      <td>3.80.0.0/12</td>\n",
       "      <td>US</td>\n",
       "      <td>2017-12-20</td>\n",
       "      <td>AMAZON-AES, US</td>\n",
       "      <td>3.88.48.125</td>\n",
       "      <td>[{'cidr': '3.0.0.0/9', 'name': 'AT-88-Z', 'handle': 'NET-3-0-0-0-1', 'range': '3.0.0.0 - 3.127.2...</td>\n",
       "      <td>None</td>\n",
       "      <td>None</td>\n",
       "      <td>None</td>\n",
       "      <td>US</td>\n",
       "      <td>United States</td>\n",
       "      <td>Virginia</td>\n",
       "      <td>Ashburn</td>\n",
       "      <td>-77.4728</td>\n",
       "      <td>39.0481</td>\n",
       "      <td>None</td>\n",
       "      <td>{}</td>\n",
       "      <td>geolocation</td>\n",
       "      <td>{}</td>\n",
       "      <td>...</td>\n",
       "      <td>83</td>\n",
       "      <td>NaN</td>\n",
       "      <td>False</td>\n",
       "      <td>2020-11-20 03:52:17+00:00</td>\n",
       "      <td>2020-11-20 03:52:17+00:00</td>\n",
       "      <td>2020-11-20 04:06:42+00:00</td>\n",
       "      <td></td>\n",
       "      <td>{\\r\\n  \"Query\": \"CommonSecurityLog| where RequestURL hasprefix(\\\"chambresdhotesbruges.fr\\\") | wh...</td>\n",
       "      <td>[\\r\\n  {\\r\\n    \"$id\": \"3\",\\r\\n    \"DnsDomain\": \"chambresdhotesbruges.fr\",\\r\\n    \"HostName\": \"c...</td>\n",
       "      <td>Detection</td>\n",
       "      <td>d1d8779d-38d7-4f06-91db-9cbc8de0176f</td>\n",
       "      <td>soc</td>\n",
       "      <td></td>\n",
       "      <td>Azure Sentinel</td>\n",
       "      <td>Microsoft Threat Intelligence Analytics</td>\n",
       "      <td></td>\n",
       "      <td>New</td>\n",
       "      <td>3.88.48.125</td>\n",
       "      <td>Unknown</td>\n",
       "      <td>SecurityAlert</td>\n",
       "      <td>2cc59e4f-1cd3-b583-fdc2-96f1837bb0e1</td>\n",
       "      <td>{\\r\\n  \"Query\": \"CommonSecurityLog| where RequestURL hasprefix(\\\"chambresdhotesbruges.fr\\\") | wh...</td>\n",
       "      <td>[\\r\\n  {\\r\\n    \"$id\": \"3\",\\r\\n    \"DnsDomain\": \"chambresdhotesbruges.fr\",\\r\\n    \"HostName\": \"c...</td>\n",
       "      <td>[3.88.48.125]</td>\n",
       "      <td>0</td>\n",
       "    </tr>\n",
       "    <tr>\n",
       "      <th>2</th>\n",
       "      <td>3.88.48.125</td>\n",
       "      <td>3.88.48.125</td>\n",
       "      <td>Public</td>\n",
       "      <td>None</td>\n",
       "      <td>arin</td>\n",
       "      <td>14618</td>\n",
       "      <td>3.80.0.0/12</td>\n",
       "      <td>US</td>\n",
       "      <td>2017-12-20</td>\n",
       "      <td>AMAZON-AES, US</td>\n",
       "      <td>3.88.48.125</td>\n",
       "      <td>[{'cidr': '3.0.0.0/9', 'name': 'AT-88-Z', 'handle': 'NET-3-0-0-0-1', 'range': '3.0.0.0 - 3.127.2...</td>\n",
       "      <td>None</td>\n",
       "      <td>None</td>\n",
       "      <td>None</td>\n",
       "      <td>US</td>\n",
       "      <td>United States</td>\n",
       "      <td>Virginia</td>\n",
       "      <td>Ashburn</td>\n",
       "      <td>-77.4728</td>\n",
       "      <td>39.0481</td>\n",
       "      <td>None</td>\n",
       "      <td>{}</td>\n",
       "      <td>geolocation</td>\n",
       "      <td>{}</td>\n",
       "      <td>...</td>\n",
       "      <td>83</td>\n",
       "      <td>NaN</td>\n",
       "      <td>False</td>\n",
       "      <td>2020-11-20 03:52:20+00:00</td>\n",
       "      <td>2020-11-20 03:52:20+00:00</td>\n",
       "      <td>2020-11-20 04:06:42+00:00</td>\n",
       "      <td></td>\n",
       "      <td>{\\r\\n  \"Query\": \"CommonSecurityLog| where RequestURL hasprefix(\\\"chambresdhotesbruges.fr\\\") | wh...</td>\n",
       "      <td>[\\r\\n  {\\r\\n    \"$id\": \"3\",\\r\\n    \"DnsDomain\": \"chambresdhotesbruges.fr\",\\r\\n    \"HostName\": \"c...</td>\n",
       "      <td>Detection</td>\n",
       "      <td>d1d8779d-38d7-4f06-91db-9cbc8de0176f</td>\n",
       "      <td>soc</td>\n",
       "      <td></td>\n",
       "      <td>Azure Sentinel</td>\n",
       "      <td>Microsoft Threat Intelligence Analytics</td>\n",
       "      <td></td>\n",
       "      <td>New</td>\n",
       "      <td>3.88.48.125</td>\n",
       "      <td>Unknown</td>\n",
       "      <td>SecurityAlert</td>\n",
       "      <td>ebfe31f1-bc4b-69a1-521a-84b35a681cd1</td>\n",
       "      <td>{\\r\\n  \"Query\": \"CommonSecurityLog| where RequestURL hasprefix(\\\"chambresdhotesbruges.fr\\\") | wh...</td>\n",
       "      <td>[\\r\\n  {\\r\\n    \"$id\": \"3\",\\r\\n    \"DnsDomain\": \"chambresdhotesbruges.fr\",\\r\\n    \"HostName\": \"c...</td>\n",
       "      <td>[3.88.48.125]</td>\n",
       "      <td>0</td>\n",
       "    </tr>\n",
       "    <tr>\n",
       "      <th>3</th>\n",
       "      <td>3.88.48.125</td>\n",
       "      <td>3.88.48.125</td>\n",
       "      <td>Public</td>\n",
       "      <td>None</td>\n",
       "      <td>arin</td>\n",
       "      <td>14618</td>\n",
       "      <td>3.80.0.0/12</td>\n",
       "      <td>US</td>\n",
       "      <td>2017-12-20</td>\n",
       "      <td>AMAZON-AES, US</td>\n",
       "      <td>3.88.48.125</td>\n",
       "      <td>[{'cidr': '3.0.0.0/9', 'name': 'AT-88-Z', 'handle': 'NET-3-0-0-0-1', 'range': '3.0.0.0 - 3.127.2...</td>\n",
       "      <td>None</td>\n",
       "      <td>None</td>\n",
       "      <td>None</td>\n",
       "      <td>US</td>\n",
       "      <td>United States</td>\n",
       "      <td>Virginia</td>\n",
       "      <td>Ashburn</td>\n",
       "      <td>-77.4728</td>\n",
       "      <td>39.0481</td>\n",
       "      <td>None</td>\n",
       "      <td>{}</td>\n",
       "      <td>geolocation</td>\n",
       "      <td>{}</td>\n",
       "      <td>...</td>\n",
       "      <td>83</td>\n",
       "      <td>NaN</td>\n",
       "      <td>False</td>\n",
       "      <td>2020-11-20 03:52:17+00:00</td>\n",
       "      <td>2020-11-20 03:52:17+00:00</td>\n",
       "      <td>2020-11-20 04:06:43+00:00</td>\n",
       "      <td></td>\n",
       "      <td>{\\r\\n  \"Query\": \"CommonSecurityLog| where RequestURL hasprefix(\\\"chambresdhotesbruges.fr\\\") | wh...</td>\n",
       "      <td>[\\r\\n  {\\r\\n    \"$id\": \"3\",\\r\\n    \"DnsDomain\": \"chambresdhotesbruges.fr\",\\r\\n    \"HostName\": \"c...</td>\n",
       "      <td>Detection</td>\n",
       "      <td>d1d8779d-38d7-4f06-91db-9cbc8de0176f</td>\n",
       "      <td>soc</td>\n",
       "      <td></td>\n",
       "      <td>Azure Sentinel</td>\n",
       "      <td>Microsoft Threat Intelligence Analytics</td>\n",
       "      <td></td>\n",
       "      <td>New</td>\n",
       "      <td>3.88.48.125</td>\n",
       "      <td>Unknown</td>\n",
       "      <td>SecurityAlert</td>\n",
       "      <td>1eb1fd38-431d-a69a-bc81-955b7e675ddf</td>\n",
       "      <td>{\\r\\n  \"Query\": \"CommonSecurityLog| where RequestURL hasprefix(\\\"chambresdhotesbruges.fr\\\") | wh...</td>\n",
       "      <td>[\\r\\n  {\\r\\n    \"$id\": \"3\",\\r\\n    \"DnsDomain\": \"chambresdhotesbruges.fr\",\\r\\n    \"HostName\": \"c...</td>\n",
       "      <td>[3.88.48.125]</td>\n",
       "      <td>0</td>\n",
       "    </tr>\n",
       "    <tr>\n",
       "      <th>4</th>\n",
       "      <td>3.88.48.125</td>\n",
       "      <td>3.88.48.125</td>\n",
       "      <td>Public</td>\n",
       "      <td>None</td>\n",
       "      <td>arin</td>\n",
       "      <td>14618</td>\n",
       "      <td>3.80.0.0/12</td>\n",
       "      <td>US</td>\n",
       "      <td>2017-12-20</td>\n",
       "      <td>AMAZON-AES, US</td>\n",
       "      <td>3.88.48.125</td>\n",
       "      <td>[{'cidr': '3.0.0.0/9', 'name': 'AT-88-Z', 'handle': 'NET-3-0-0-0-1', 'range': '3.0.0.0 - 3.127.2...</td>\n",
       "      <td>None</td>\n",
       "      <td>None</td>\n",
       "      <td>None</td>\n",
       "      <td>US</td>\n",
       "      <td>United States</td>\n",
       "      <td>Virginia</td>\n",
       "      <td>Ashburn</td>\n",
       "      <td>-77.4728</td>\n",
       "      <td>39.0481</td>\n",
       "      <td>None</td>\n",
       "      <td>{}</td>\n",
       "      <td>geolocation</td>\n",
       "      <td>{}</td>\n",
       "      <td>...</td>\n",
       "      <td>83</td>\n",
       "      <td>NaN</td>\n",
       "      <td>False</td>\n",
       "      <td>2020-11-20 03:52:17+00:00</td>\n",
       "      <td>2020-11-20 03:52:17+00:00</td>\n",
       "      <td>2020-11-20 04:06:45+00:00</td>\n",
       "      <td></td>\n",
       "      <td>{\\r\\n  \"Query\": \"CommonSecurityLog| where RequestURL hasprefix(\\\"chambresdhotesbruges.fr\\\") | wh...</td>\n",
       "      <td>[\\r\\n  {\\r\\n    \"$id\": \"3\",\\r\\n    \"DnsDomain\": \"chambresdhotesbruges.fr\",\\r\\n    \"HostName\": \"c...</td>\n",
       "      <td>Detection</td>\n",
       "      <td>d1d8779d-38d7-4f06-91db-9cbc8de0176f</td>\n",
       "      <td>soc</td>\n",
       "      <td></td>\n",
       "      <td>Azure Sentinel</td>\n",
       "      <td>Microsoft Threat Intelligence Analytics</td>\n",
       "      <td></td>\n",
       "      <td>New</td>\n",
       "      <td>3.88.48.125</td>\n",
       "      <td>Unknown</td>\n",
       "      <td>SecurityAlert</td>\n",
       "      <td>a79e3d8f-ce76-cba5-ea9a-00a89fc4b2a9</td>\n",
       "      <td>{\\r\\n  \"Query\": \"CommonSecurityLog| where RequestURL hasprefix(\\\"chambresdhotesbruges.fr\\\") | wh...</td>\n",
       "      <td>[\\r\\n  {\\r\\n    \"$id\": \"3\",\\r\\n    \"DnsDomain\": \"chambresdhotesbruges.fr\",\\r\\n    \"HostName\": \"c...</td>\n",
       "      <td>[3.88.48.125]</td>\n",
       "      <td>0</td>\n",
       "    </tr>\n",
       "    <tr>\n",
       "      <th>...</th>\n",
       "      <td>...</td>\n",
       "      <td>...</td>\n",
       "      <td>...</td>\n",
       "      <td>...</td>\n",
       "      <td>...</td>\n",
       "      <td>...</td>\n",
       "      <td>...</td>\n",
       "      <td>...</td>\n",
       "      <td>...</td>\n",
       "      <td>...</td>\n",
       "      <td>...</td>\n",
       "      <td>...</td>\n",
       "      <td>...</td>\n",
       "      <td>...</td>\n",
       "      <td>...</td>\n",
       "      <td>...</td>\n",
       "      <td>...</td>\n",
       "      <td>...</td>\n",
       "      <td>...</td>\n",
       "      <td>...</td>\n",
       "      <td>...</td>\n",
       "      <td>...</td>\n",
       "      <td>...</td>\n",
       "      <td>...</td>\n",
       "      <td>...</td>\n",
       "      <td>...</td>\n",
       "      <td>...</td>\n",
       "      <td>...</td>\n",
       "      <td>...</td>\n",
       "      <td>...</td>\n",
       "      <td>...</td>\n",
       "      <td>...</td>\n",
       "      <td>...</td>\n",
       "      <td>...</td>\n",
       "      <td>...</td>\n",
       "      <td>...</td>\n",
       "      <td>...</td>\n",
       "      <td>...</td>\n",
       "      <td>...</td>\n",
       "      <td>...</td>\n",
       "      <td>...</td>\n",
       "      <td>...</td>\n",
       "      <td>...</td>\n",
       "      <td>...</td>\n",
       "      <td>...</td>\n",
       "      <td>...</td>\n",
       "      <td>...</td>\n",
       "      <td>...</td>\n",
       "      <td>...</td>\n",
       "      <td>...</td>\n",
       "      <td>...</td>\n",
       "    </tr>\n",
       "    <tr>\n",
       "      <th>1592</th>\n",
       "      <td>20.55.97.123</td>\n",
       "      <td>20.55.97.123</td>\n",
       "      <td>Public</td>\n",
       "      <td>None</td>\n",
       "      <td>arin</td>\n",
       "      <td>8075</td>\n",
       "      <td>20.48.0.0/12</td>\n",
       "      <td>US</td>\n",
       "      <td>2017-10-18</td>\n",
       "      <td>MICROSOFT-CORP-MSN-AS-BLOCK, US</td>\n",
       "      <td>20.55.97.123</td>\n",
       "      <td>[{'cidr': '20.128.0.0/16, 20.64.0.0/10, 20.40.0.0/13, 20.36.0.0/14, 20.48.0.0/12, 20.34.0.0/15, ...</td>\n",
       "      <td>None</td>\n",
       "      <td>None</td>\n",
       "      <td>None</td>\n",
       "      <td>US</td>\n",
       "      <td>United States</td>\n",
       "      <td>Virginia</td>\n",
       "      <td>Washington</td>\n",
       "      <td>-78.1539</td>\n",
       "      <td>38.7095</td>\n",
       "      <td>None</td>\n",
       "      <td>{}</td>\n",
       "      <td>geolocation</td>\n",
       "      <td>{}</td>\n",
       "      <td>...</td>\n",
       "      <td></td>\n",
       "      <td>NaN</td>\n",
       "      <td>False</td>\n",
       "      <td>2021-01-30 21:04:21.558000+00:00</td>\n",
       "      <td>2021-02-13 21:04:21.558000+00:00</td>\n",
       "      <td>2021-02-13 21:09:29.084000+00:00</td>\n",
       "      <td></td>\n",
       "      <td>{\\r\\n  \"Query\": \"// The query_now parameter represents the time (in UTC) at which the scheduled ...</td>\n",
       "      <td>[\\r\\n  {\\r\\n    \"$id\": \"3\",\\r\\n    \"Address\": \"192.168.1.216\",\\r\\n    \"Type\": \"ip\"\\r\\n  },\\r\\n  ...</td>\n",
       "      <td>Detection</td>\n",
       "      <td>d1d8779d-38d7-4f06-91db-9cbc8de0176f</td>\n",
       "      <td>soc</td>\n",
       "      <td></td>\n",
       "      <td>Azure Sentinel</td>\n",
       "      <td>Scheduled Alerts</td>\n",
       "      <td></td>\n",
       "      <td>New</td>\n",
       "      <td></td>\n",
       "      <td>Exfiltration</td>\n",
       "      <td>SecurityAlert</td>\n",
       "      <td>b03ba910-9e74-49d3-4454-6338d853400b</td>\n",
       "      <td>{\\r\\n  \"Query\": \"// The query_now parameter represents the time (in UTC) at which the scheduled ...</td>\n",
       "      <td>[\\r\\n  {\\r\\n    \"$id\": \"3\",\\r\\n    \"Address\": \"192.168.1.216\",\\r\\n    \"Type\": \"ip\"\\r\\n  },\\r\\n  ...</td>\n",
       "      <td>[20.55.97.123]</td>\n",
       "      <td>4</td>\n",
       "    </tr>\n",
       "    <tr>\n",
       "      <th>1593</th>\n",
       "      <td>20.55.97.123</td>\n",
       "      <td>20.55.97.123</td>\n",
       "      <td>Public</td>\n",
       "      <td>None</td>\n",
       "      <td>arin</td>\n",
       "      <td>8075</td>\n",
       "      <td>20.48.0.0/12</td>\n",
       "      <td>US</td>\n",
       "      <td>2017-10-18</td>\n",
       "      <td>MICROSOFT-CORP-MSN-AS-BLOCK, US</td>\n",
       "      <td>20.55.97.123</td>\n",
       "      <td>[{'cidr': '20.128.0.0/16, 20.64.0.0/10, 20.40.0.0/13, 20.36.0.0/14, 20.48.0.0/12, 20.34.0.0/15, ...</td>\n",
       "      <td>None</td>\n",
       "      <td>None</td>\n",
       "      <td>None</td>\n",
       "      <td>US</td>\n",
       "      <td>United States</td>\n",
       "      <td>Virginia</td>\n",
       "      <td>Washington</td>\n",
       "      <td>-78.1539</td>\n",
       "      <td>38.7095</td>\n",
       "      <td>None</td>\n",
       "      <td>{}</td>\n",
       "      <td>geolocation</td>\n",
       "      <td>{}</td>\n",
       "      <td>...</td>\n",
       "      <td></td>\n",
       "      <td>NaN</td>\n",
       "      <td>False</td>\n",
       "      <td>2021-01-30 22:04:21.558000+00:00</td>\n",
       "      <td>2021-02-13 22:04:21.558000+00:00</td>\n",
       "      <td>2021-02-13 22:09:28.540000+00:00</td>\n",
       "      <td></td>\n",
       "      <td>{\\r\\n  \"Query\": \"// The query_now parameter represents the time (in UTC) at which the scheduled ...</td>\n",
       "      <td>[\\r\\n  {\\r\\n    \"$id\": \"3\",\\r\\n    \"Address\": \"192.168.1.216\",\\r\\n    \"Type\": \"ip\"\\r\\n  },\\r\\n  ...</td>\n",
       "      <td>Detection</td>\n",
       "      <td>d1d8779d-38d7-4f06-91db-9cbc8de0176f</td>\n",
       "      <td>soc</td>\n",
       "      <td></td>\n",
       "      <td>Azure Sentinel</td>\n",
       "      <td>Scheduled Alerts</td>\n",
       "      <td></td>\n",
       "      <td>New</td>\n",
       "      <td></td>\n",
       "      <td>Exfiltration</td>\n",
       "      <td>SecurityAlert</td>\n",
       "      <td>5da44cf1-5f00-b9b0-61eb-d3e5e4051478</td>\n",
       "      <td>{\\r\\n  \"Query\": \"// The query_now parameter represents the time (in UTC) at which the scheduled ...</td>\n",
       "      <td>[\\r\\n  {\\r\\n    \"$id\": \"3\",\\r\\n    \"Address\": \"192.168.1.216\",\\r\\n    \"Type\": \"ip\"\\r\\n  },\\r\\n  ...</td>\n",
       "      <td>[20.55.97.123]</td>\n",
       "      <td>4</td>\n",
       "    </tr>\n",
       "    <tr>\n",
       "      <th>1594</th>\n",
       "      <td>20.55.97.123</td>\n",
       "      <td>20.55.97.123</td>\n",
       "      <td>Public</td>\n",
       "      <td>None</td>\n",
       "      <td>arin</td>\n",
       "      <td>8075</td>\n",
       "      <td>20.48.0.0/12</td>\n",
       "      <td>US</td>\n",
       "      <td>2017-10-18</td>\n",
       "      <td>MICROSOFT-CORP-MSN-AS-BLOCK, US</td>\n",
       "      <td>20.55.97.123</td>\n",
       "      <td>[{'cidr': '20.128.0.0/16, 20.64.0.0/10, 20.40.0.0/13, 20.36.0.0/14, 20.48.0.0/12, 20.34.0.0/15, ...</td>\n",
       "      <td>None</td>\n",
       "      <td>None</td>\n",
       "      <td>None</td>\n",
       "      <td>US</td>\n",
       "      <td>United States</td>\n",
       "      <td>Virginia</td>\n",
       "      <td>Washington</td>\n",
       "      <td>-78.1539</td>\n",
       "      <td>38.7095</td>\n",
       "      <td>None</td>\n",
       "      <td>{}</td>\n",
       "      <td>geolocation</td>\n",
       "      <td>{}</td>\n",
       "      <td>...</td>\n",
       "      <td></td>\n",
       "      <td>NaN</td>\n",
       "      <td>False</td>\n",
       "      <td>2021-01-31 02:04:21.558000+00:00</td>\n",
       "      <td>2021-02-14 02:04:21.558000+00:00</td>\n",
       "      <td>2021-02-14 02:09:28.799000+00:00</td>\n",
       "      <td></td>\n",
       "      <td>{\\r\\n  \"Query\": \"// The query_now parameter represents the time (in UTC) at which the scheduled ...</td>\n",
       "      <td>[\\r\\n  {\\r\\n    \"$id\": \"3\",\\r\\n    \"Address\": \"192.168.1.216\",\\r\\n    \"Type\": \"ip\"\\r\\n  },\\r\\n  ...</td>\n",
       "      <td>Detection</td>\n",
       "      <td>d1d8779d-38d7-4f06-91db-9cbc8de0176f</td>\n",
       "      <td>soc</td>\n",
       "      <td></td>\n",
       "      <td>Azure Sentinel</td>\n",
       "      <td>Scheduled Alerts</td>\n",
       "      <td></td>\n",
       "      <td>New</td>\n",
       "      <td></td>\n",
       "      <td>Exfiltration</td>\n",
       "      <td>SecurityAlert</td>\n",
       "      <td>0f0aa0e7-f56a-7f90-c042-a082e33c7bc6</td>\n",
       "      <td>{\\r\\n  \"Query\": \"// The query_now parameter represents the time (in UTC) at which the scheduled ...</td>\n",
       "      <td>[\\r\\n  {\\r\\n    \"$id\": \"3\",\\r\\n    \"Address\": \"192.168.1.216\",\\r\\n    \"Type\": \"ip\"\\r\\n  },\\r\\n  ...</td>\n",
       "      <td>[20.55.97.123]</td>\n",
       "      <td>4</td>\n",
       "    </tr>\n",
       "    <tr>\n",
       "      <th>1595</th>\n",
       "      <td>20.55.97.123</td>\n",
       "      <td>20.55.97.123</td>\n",
       "      <td>Public</td>\n",
       "      <td>None</td>\n",
       "      <td>arin</td>\n",
       "      <td>8075</td>\n",
       "      <td>20.48.0.0/12</td>\n",
       "      <td>US</td>\n",
       "      <td>2017-10-18</td>\n",
       "      <td>MICROSOFT-CORP-MSN-AS-BLOCK, US</td>\n",
       "      <td>20.55.97.123</td>\n",
       "      <td>[{'cidr': '20.128.0.0/16, 20.64.0.0/10, 20.40.0.0/13, 20.36.0.0/14, 20.48.0.0/12, 20.34.0.0/15, ...</td>\n",
       "      <td>None</td>\n",
       "      <td>None</td>\n",
       "      <td>None</td>\n",
       "      <td>US</td>\n",
       "      <td>United States</td>\n",
       "      <td>Virginia</td>\n",
       "      <td>Washington</td>\n",
       "      <td>-78.1539</td>\n",
       "      <td>38.7095</td>\n",
       "      <td>None</td>\n",
       "      <td>{}</td>\n",
       "      <td>geolocation</td>\n",
       "      <td>{}</td>\n",
       "      <td>...</td>\n",
       "      <td></td>\n",
       "      <td>NaN</td>\n",
       "      <td>False</td>\n",
       "      <td>2021-01-31 04:04:21.558000+00:00</td>\n",
       "      <td>2021-02-14 04:04:21.558000+00:00</td>\n",
       "      <td>2021-02-14 04:09:28.953000+00:00</td>\n",
       "      <td></td>\n",
       "      <td>{\\r\\n  \"Query\": \"// The query_now parameter represents the time (in UTC) at which the scheduled ...</td>\n",
       "      <td>[\\r\\n  {\\r\\n    \"$id\": \"3\",\\r\\n    \"Address\": \"192.168.1.216\",\\r\\n    \"Type\": \"ip\"\\r\\n  },\\r\\n  ...</td>\n",
       "      <td>Detection</td>\n",
       "      <td>d1d8779d-38d7-4f06-91db-9cbc8de0176f</td>\n",
       "      <td>soc</td>\n",
       "      <td></td>\n",
       "      <td>Azure Sentinel</td>\n",
       "      <td>Scheduled Alerts</td>\n",
       "      <td></td>\n",
       "      <td>New</td>\n",
       "      <td></td>\n",
       "      <td>Exfiltration</td>\n",
       "      <td>SecurityAlert</td>\n",
       "      <td>44df015d-0414-88db-e149-18c9c6f37764</td>\n",
       "      <td>{\\r\\n  \"Query\": \"// The query_now parameter represents the time (in UTC) at which the scheduled ...</td>\n",
       "      <td>[\\r\\n  {\\r\\n    \"$id\": \"3\",\\r\\n    \"Address\": \"192.168.1.216\",\\r\\n    \"Type\": \"ip\"\\r\\n  },\\r\\n  ...</td>\n",
       "      <td>[20.55.97.123]</td>\n",
       "      <td>4</td>\n",
       "    </tr>\n",
       "    <tr>\n",
       "      <th>1596</th>\n",
       "      <td>20.55.97.123</td>\n",
       "      <td>20.55.97.123</td>\n",
       "      <td>Public</td>\n",
       "      <td>None</td>\n",
       "      <td>arin</td>\n",
       "      <td>8075</td>\n",
       "      <td>20.48.0.0/12</td>\n",
       "      <td>US</td>\n",
       "      <td>2017-10-18</td>\n",
       "      <td>MICROSOFT-CORP-MSN-AS-BLOCK, US</td>\n",
       "      <td>20.55.97.123</td>\n",
       "      <td>[{'cidr': '20.128.0.0/16, 20.64.0.0/10, 20.40.0.0/13, 20.36.0.0/14, 20.48.0.0/12, 20.34.0.0/15, ...</td>\n",
       "      <td>None</td>\n",
       "      <td>None</td>\n",
       "      <td>None</td>\n",
       "      <td>US</td>\n",
       "      <td>United States</td>\n",
       "      <td>Virginia</td>\n",
       "      <td>Washington</td>\n",
       "      <td>-78.1539</td>\n",
       "      <td>38.7095</td>\n",
       "      <td>None</td>\n",
       "      <td>{}</td>\n",
       "      <td>geolocation</td>\n",
       "      <td>{}</td>\n",
       "      <td>...</td>\n",
       "      <td></td>\n",
       "      <td>NaN</td>\n",
       "      <td>False</td>\n",
       "      <td>2021-02-09 17:25:20+00:00</td>\n",
       "      <td>2021-02-10 01:04:24+00:00</td>\n",
       "      <td>2021-02-10 01:09:28+00:00</td>\n",
       "      <td></td>\n",
       "      <td>{\\r\\n  \"Query\": \"// The query_now parameter represents the time (in UTC) at which the scheduled ...</td>\n",
       "      <td>[\\r\\n  {\\r\\n    \"$id\": \"3\",\\r\\n    \"Url\": \"https://bit.ly/3htG84T\",\\r\\n    \"Type\": \"url\"\\r\\n  },...</td>\n",
       "      <td>Detection</td>\n",
       "      <td>d1d8779d-38d7-4f06-91db-9cbc8de0176f</td>\n",
       "      <td>soc</td>\n",
       "      <td></td>\n",
       "      <td>Azure Sentinel</td>\n",
       "      <td>Scheduled Alerts</td>\n",
       "      <td></td>\n",
       "      <td>New</td>\n",
       "      <td></td>\n",
       "      <td>Unknown</td>\n",
       "      <td>SecurityAlert</td>\n",
       "      <td>9efcecb6-1a26-eb48-81ed-f6268080ac60</td>\n",
       "      <td>{\\r\\n  \"Query\": \"// The query_now parameter represents the time (in UTC) at which the scheduled ...</td>\n",
       "      <td>[\\r\\n  {\\r\\n    \"$id\": \"3\",\\r\\n    \"Url\": \"https://bit.ly/3htG84T\",\\r\\n    \"Type\": \"url\"\\r\\n  },...</td>\n",
       "      <td>[20.55.97.123]</td>\n",
       "      <td>4</td>\n",
       "    </tr>\n",
       "  </tbody>\n",
       "</table>\n",
       "<p>1597 rows × 64 columns</p>\n",
       "</div>"
      ],
      "text/plain": [
       "                IP            ip  result   nir asn_registry    asn  \\\n",
       "0      3.88.48.125   3.88.48.125  Public  None         arin  14618   \n",
       "1      3.88.48.125   3.88.48.125  Public  None         arin  14618   \n",
       "2      3.88.48.125   3.88.48.125  Public  None         arin  14618   \n",
       "3      3.88.48.125   3.88.48.125  Public  None         arin  14618   \n",
       "4      3.88.48.125   3.88.48.125  Public  None         arin  14618   \n",
       "...            ...           ...     ...   ...          ...    ...   \n",
       "1592  20.55.97.123  20.55.97.123  Public  None         arin   8075   \n",
       "1593  20.55.97.123  20.55.97.123  Public  None         arin   8075   \n",
       "1594  20.55.97.123  20.55.97.123  Public  None         arin   8075   \n",
       "1595  20.55.97.123  20.55.97.123  Public  None         arin   8075   \n",
       "1596  20.55.97.123  20.55.97.123  Public  None         arin   8075   \n",
       "\n",
       "          asn_cidr asn_country_code    asn_date  \\\n",
       "0      3.80.0.0/12               US  2017-12-20   \n",
       "1      3.80.0.0/12               US  2017-12-20   \n",
       "2      3.80.0.0/12               US  2017-12-20   \n",
       "3      3.80.0.0/12               US  2017-12-20   \n",
       "4      3.80.0.0/12               US  2017-12-20   \n",
       "...            ...              ...         ...   \n",
       "1592  20.48.0.0/12               US  2017-10-18   \n",
       "1593  20.48.0.0/12               US  2017-10-18   \n",
       "1594  20.48.0.0/12               US  2017-10-18   \n",
       "1595  20.48.0.0/12               US  2017-10-18   \n",
       "1596  20.48.0.0/12               US  2017-10-18   \n",
       "\n",
       "                      asn_description         query  \\\n",
       "0                      AMAZON-AES, US   3.88.48.125   \n",
       "1                      AMAZON-AES, US   3.88.48.125   \n",
       "2                      AMAZON-AES, US   3.88.48.125   \n",
       "3                      AMAZON-AES, US   3.88.48.125   \n",
       "4                      AMAZON-AES, US   3.88.48.125   \n",
       "...                               ...           ...   \n",
       "1592  MICROSOFT-CORP-MSN-AS-BLOCK, US  20.55.97.123   \n",
       "1593  MICROSOFT-CORP-MSN-AS-BLOCK, US  20.55.97.123   \n",
       "1594  MICROSOFT-CORP-MSN-AS-BLOCK, US  20.55.97.123   \n",
       "1595  MICROSOFT-CORP-MSN-AS-BLOCK, US  20.55.97.123   \n",
       "1596  MICROSOFT-CORP-MSN-AS-BLOCK, US  20.55.97.123   \n",
       "\n",
       "                                                                                                     nets  \\\n",
       "0     [{'cidr': '3.0.0.0/9', 'name': 'AT-88-Z', 'handle': 'NET-3-0-0-0-1', 'range': '3.0.0.0 - 3.127.2...   \n",
       "1     [{'cidr': '3.0.0.0/9', 'name': 'AT-88-Z', 'handle': 'NET-3-0-0-0-1', 'range': '3.0.0.0 - 3.127.2...   \n",
       "2     [{'cidr': '3.0.0.0/9', 'name': 'AT-88-Z', 'handle': 'NET-3-0-0-0-1', 'range': '3.0.0.0 - 3.127.2...   \n",
       "3     [{'cidr': '3.0.0.0/9', 'name': 'AT-88-Z', 'handle': 'NET-3-0-0-0-1', 'range': '3.0.0.0 - 3.127.2...   \n",
       "4     [{'cidr': '3.0.0.0/9', 'name': 'AT-88-Z', 'handle': 'NET-3-0-0-0-1', 'range': '3.0.0.0 - 3.127.2...   \n",
       "...                                                                                                   ...   \n",
       "1592  [{'cidr': '20.128.0.0/16, 20.64.0.0/10, 20.40.0.0/13, 20.36.0.0/14, 20.48.0.0/12, 20.34.0.0/15, ...   \n",
       "1593  [{'cidr': '20.128.0.0/16, 20.64.0.0/10, 20.40.0.0/13, 20.36.0.0/14, 20.48.0.0/12, 20.34.0.0/15, ...   \n",
       "1594  [{'cidr': '20.128.0.0/16, 20.64.0.0/10, 20.40.0.0/13, 20.36.0.0/14, 20.48.0.0/12, 20.34.0.0/15, ...   \n",
       "1595  [{'cidr': '20.128.0.0/16, 20.64.0.0/10, 20.40.0.0/13, 20.36.0.0/14, 20.48.0.0/12, 20.34.0.0/15, ...   \n",
       "1596  [{'cidr': '20.128.0.0/16, 20.64.0.0/10, 20.40.0.0/13, 20.36.0.0/14, 20.48.0.0/12, 20.34.0.0/15, ...   \n",
       "\n",
       "       raw referral raw_referral CountryCode    CountryName     State  \\\n",
       "0     None     None         None          US  United States  Virginia   \n",
       "1     None     None         None          US  United States  Virginia   \n",
       "2     None     None         None          US  United States  Virginia   \n",
       "3     None     None         None          US  United States  Virginia   \n",
       "4     None     None         None          US  United States  Virginia   \n",
       "...    ...      ...          ...         ...            ...       ...   \n",
       "1592  None     None         None          US  United States  Virginia   \n",
       "1593  None     None         None          US  United States  Virginia   \n",
       "1594  None     None         None          US  United States  Virginia   \n",
       "1595  None     None         None          US  United States  Virginia   \n",
       "1596  None     None         None          US  United States  Virginia   \n",
       "\n",
       "            City  Longitude  Latitude   Asn edges       Type_x AdditionalData  \\\n",
       "0        Ashburn   -77.4728   39.0481  None    {}  geolocation             {}   \n",
       "1        Ashburn   -77.4728   39.0481  None    {}  geolocation             {}   \n",
       "2        Ashburn   -77.4728   39.0481  None    {}  geolocation             {}   \n",
       "3        Ashburn   -77.4728   39.0481  None    {}  geolocation             {}   \n",
       "4        Ashburn   -77.4728   39.0481  None    {}  geolocation             {}   \n",
       "...          ...        ...       ...   ...   ...          ...            ...   \n",
       "1592  Washington   -78.1539   38.7095  None    {}  geolocation             {}   \n",
       "1593  Washington   -78.1539   38.7095  None    {}  geolocation             {}   \n",
       "1594  Washington   -78.1539   38.7095  None    {}  geolocation             {}   \n",
       "1595  Washington   -78.1539   38.7095  None    {}  geolocation             {}   \n",
       "1596  Washington   -78.1539   38.7095  None    {}  geolocation             {}   \n",
       "\n",
       "      ... ConfidenceLevel ConfidenceScore IsIncident  \\\n",
       "0     ...              83             NaN      False   \n",
       "1     ...              83             NaN      False   \n",
       "2     ...              83             NaN      False   \n",
       "3     ...              83             NaN      False   \n",
       "4     ...              83             NaN      False   \n",
       "...   ...             ...             ...        ...   \n",
       "1592  ...                             NaN      False   \n",
       "1593  ...                             NaN      False   \n",
       "1594  ...                             NaN      False   \n",
       "1595  ...                             NaN      False   \n",
       "1596  ...                             NaN      False   \n",
       "\n",
       "                         StartTimeUtc                       EndTimeUtc  \\\n",
       "0           2020-11-20 03:52:17+00:00        2020-11-20 03:52:17+00:00   \n",
       "1           2020-11-20 03:52:17+00:00        2020-11-20 03:52:17+00:00   \n",
       "2           2020-11-20 03:52:20+00:00        2020-11-20 03:52:20+00:00   \n",
       "3           2020-11-20 03:52:17+00:00        2020-11-20 03:52:17+00:00   \n",
       "4           2020-11-20 03:52:17+00:00        2020-11-20 03:52:17+00:00   \n",
       "...                               ...                              ...   \n",
       "1592 2021-01-30 21:04:21.558000+00:00 2021-02-13 21:04:21.558000+00:00   \n",
       "1593 2021-01-30 22:04:21.558000+00:00 2021-02-13 22:04:21.558000+00:00   \n",
       "1594 2021-01-31 02:04:21.558000+00:00 2021-02-14 02:04:21.558000+00:00   \n",
       "1595 2021-01-31 04:04:21.558000+00:00 2021-02-14 04:04:21.558000+00:00   \n",
       "1596        2021-02-09 17:25:20+00:00        2021-02-10 01:04:24+00:00   \n",
       "\n",
       "                    ProcessingEndTime RemediationSteps  \\\n",
       "0           2020-11-20 04:06:42+00:00                    \n",
       "1           2020-11-20 04:06:42+00:00                    \n",
       "2           2020-11-20 04:06:42+00:00                    \n",
       "3           2020-11-20 04:06:43+00:00                    \n",
       "4           2020-11-20 04:06:45+00:00                    \n",
       "...                               ...              ...   \n",
       "1592 2021-02-13 21:09:29.084000+00:00                    \n",
       "1593 2021-02-13 22:09:28.540000+00:00                    \n",
       "1594 2021-02-14 02:09:28.799000+00:00                    \n",
       "1595 2021-02-14 04:09:28.953000+00:00                    \n",
       "1596        2021-02-10 01:09:28+00:00                    \n",
       "\n",
       "                                                                                       ExtendedProperties  \\\n",
       "0     {\\r\\n  \"Query\": \"CommonSecurityLog| where RequestURL hasprefix(\\\"chambresdhotesbruges.fr\\\") | wh...   \n",
       "1     {\\r\\n  \"Query\": \"CommonSecurityLog| where RequestURL hasprefix(\\\"chambresdhotesbruges.fr\\\") | wh...   \n",
       "2     {\\r\\n  \"Query\": \"CommonSecurityLog| where RequestURL hasprefix(\\\"chambresdhotesbruges.fr\\\") | wh...   \n",
       "3     {\\r\\n  \"Query\": \"CommonSecurityLog| where RequestURL hasprefix(\\\"chambresdhotesbruges.fr\\\") | wh...   \n",
       "4     {\\r\\n  \"Query\": \"CommonSecurityLog| where RequestURL hasprefix(\\\"chambresdhotesbruges.fr\\\") | wh...   \n",
       "...                                                                                                   ...   \n",
       "1592  {\\r\\n  \"Query\": \"// The query_now parameter represents the time (in UTC) at which the scheduled ...   \n",
       "1593  {\\r\\n  \"Query\": \"// The query_now parameter represents the time (in UTC) at which the scheduled ...   \n",
       "1594  {\\r\\n  \"Query\": \"// The query_now parameter represents the time (in UTC) at which the scheduled ...   \n",
       "1595  {\\r\\n  \"Query\": \"// The query_now parameter represents the time (in UTC) at which the scheduled ...   \n",
       "1596  {\\r\\n  \"Query\": \"// The query_now parameter represents the time (in UTC) at which the scheduled ...   \n",
       "\n",
       "                                                                                                 Entities  \\\n",
       "0     [\\r\\n  {\\r\\n    \"$id\": \"3\",\\r\\n    \"DnsDomain\": \"chambresdhotesbruges.fr\",\\r\\n    \"HostName\": \"c...   \n",
       "1     [\\r\\n  {\\r\\n    \"$id\": \"3\",\\r\\n    \"DnsDomain\": \"chambresdhotesbruges.fr\",\\r\\n    \"HostName\": \"c...   \n",
       "2     [\\r\\n  {\\r\\n    \"$id\": \"3\",\\r\\n    \"DnsDomain\": \"chambresdhotesbruges.fr\",\\r\\n    \"HostName\": \"c...   \n",
       "3     [\\r\\n  {\\r\\n    \"$id\": \"3\",\\r\\n    \"DnsDomain\": \"chambresdhotesbruges.fr\",\\r\\n    \"HostName\": \"c...   \n",
       "4     [\\r\\n  {\\r\\n    \"$id\": \"3\",\\r\\n    \"DnsDomain\": \"chambresdhotesbruges.fr\",\\r\\n    \"HostName\": \"c...   \n",
       "...                                                                                                   ...   \n",
       "1592  [\\r\\n  {\\r\\n    \"$id\": \"3\",\\r\\n    \"Address\": \"192.168.1.216\",\\r\\n    \"Type\": \"ip\"\\r\\n  },\\r\\n  ...   \n",
       "1593  [\\r\\n  {\\r\\n    \"$id\": \"3\",\\r\\n    \"Address\": \"192.168.1.216\",\\r\\n    \"Type\": \"ip\"\\r\\n  },\\r\\n  ...   \n",
       "1594  [\\r\\n  {\\r\\n    \"$id\": \"3\",\\r\\n    \"Address\": \"192.168.1.216\",\\r\\n    \"Type\": \"ip\"\\r\\n  },\\r\\n  ...   \n",
       "1595  [\\r\\n  {\\r\\n    \"$id\": \"3\",\\r\\n    \"Address\": \"192.168.1.216\",\\r\\n    \"Type\": \"ip\"\\r\\n  },\\r\\n  ...   \n",
       "1596  [\\r\\n  {\\r\\n    \"$id\": \"3\",\\r\\n    \"Url\": \"https://bit.ly/3htG84T\",\\r\\n    \"Type\": \"url\"\\r\\n  },...   \n",
       "\n",
       "     SourceSystem               WorkspaceSubscriptionId  \\\n",
       "0       Detection  d1d8779d-38d7-4f06-91db-9cbc8de0176f   \n",
       "1       Detection  d1d8779d-38d7-4f06-91db-9cbc8de0176f   \n",
       "2       Detection  d1d8779d-38d7-4f06-91db-9cbc8de0176f   \n",
       "3       Detection  d1d8779d-38d7-4f06-91db-9cbc8de0176f   \n",
       "4       Detection  d1d8779d-38d7-4f06-91db-9cbc8de0176f   \n",
       "...           ...                                   ...   \n",
       "1592    Detection  d1d8779d-38d7-4f06-91db-9cbc8de0176f   \n",
       "1593    Detection  d1d8779d-38d7-4f06-91db-9cbc8de0176f   \n",
       "1594    Detection  d1d8779d-38d7-4f06-91db-9cbc8de0176f   \n",
       "1595    Detection  d1d8779d-38d7-4f06-91db-9cbc8de0176f   \n",
       "1596    Detection  d1d8779d-38d7-4f06-91db-9cbc8de0176f   \n",
       "\n",
       "     WorkspaceResourceGroup ExtendedLinks     ProductName  \\\n",
       "0                       soc                Azure Sentinel   \n",
       "1                       soc                Azure Sentinel   \n",
       "2                       soc                Azure Sentinel   \n",
       "3                       soc                Azure Sentinel   \n",
       "4                       soc                Azure Sentinel   \n",
       "...                     ...           ...             ...   \n",
       "1592                    soc                Azure Sentinel   \n",
       "1593                    soc                Azure Sentinel   \n",
       "1594                    soc                Azure Sentinel   \n",
       "1595                    soc                Azure Sentinel   \n",
       "1596                    soc                Azure Sentinel   \n",
       "\n",
       "                         ProductComponentName  AlertLink  Status  \\\n",
       "0     Microsoft Threat Intelligence Analytics                New   \n",
       "1     Microsoft Threat Intelligence Analytics                New   \n",
       "2     Microsoft Threat Intelligence Analytics                New   \n",
       "3     Microsoft Threat Intelligence Analytics                New   \n",
       "4     Microsoft Threat Intelligence Analytics                New   \n",
       "...                                       ...        ...     ...   \n",
       "1592                         Scheduled Alerts                New   \n",
       "1593                         Scheduled Alerts                New   \n",
       "1594                         Scheduled Alerts                New   \n",
       "1595                         Scheduled Alerts                New   \n",
       "1596                         Scheduled Alerts                New   \n",
       "\n",
       "     CompromisedEntity       Tactics         Type_y  \\\n",
       "0          3.88.48.125       Unknown  SecurityAlert   \n",
       "1          3.88.48.125       Unknown  SecurityAlert   \n",
       "2          3.88.48.125       Unknown  SecurityAlert   \n",
       "3          3.88.48.125       Unknown  SecurityAlert   \n",
       "4          3.88.48.125       Unknown  SecurityAlert   \n",
       "...                ...           ...            ...   \n",
       "1592                    Exfiltration  SecurityAlert   \n",
       "1593                    Exfiltration  SecurityAlert   \n",
       "1594                    Exfiltration  SecurityAlert   \n",
       "1595                    Exfiltration  SecurityAlert   \n",
       "1596                         Unknown  SecurityAlert   \n",
       "\n",
       "                            SystemAlertId1  \\\n",
       "0     45614988-e680-cbc0-4673-babf03147290   \n",
       "1     2cc59e4f-1cd3-b583-fdc2-96f1837bb0e1   \n",
       "2     ebfe31f1-bc4b-69a1-521a-84b35a681cd1   \n",
       "3     1eb1fd38-431d-a69a-bc81-955b7e675ddf   \n",
       "4     a79e3d8f-ce76-cba5-ea9a-00a89fc4b2a9   \n",
       "...                                    ...   \n",
       "1592  b03ba910-9e74-49d3-4454-6338d853400b   \n",
       "1593  5da44cf1-5f00-b9b0-61eb-d3e5e4051478   \n",
       "1594  0f0aa0e7-f56a-7f90-c042-a082e33c7bc6   \n",
       "1595  44df015d-0414-88db-e149-18c9c6f37764   \n",
       "1596  9efcecb6-1a26-eb48-81ed-f6268080ac60   \n",
       "\n",
       "                                                                                      ExtendedProperties1  \\\n",
       "0     {\\r\\n  \"Query\": \"CommonSecurityLog| where RequestURL hasprefix(\\\"chambresdhotesbruges.fr\\\") | wh...   \n",
       "1     {\\r\\n  \"Query\": \"CommonSecurityLog| where RequestURL hasprefix(\\\"chambresdhotesbruges.fr\\\") | wh...   \n",
       "2     {\\r\\n  \"Query\": \"CommonSecurityLog| where RequestURL hasprefix(\\\"chambresdhotesbruges.fr\\\") | wh...   \n",
       "3     {\\r\\n  \"Query\": \"CommonSecurityLog| where RequestURL hasprefix(\\\"chambresdhotesbruges.fr\\\") | wh...   \n",
       "4     {\\r\\n  \"Query\": \"CommonSecurityLog| where RequestURL hasprefix(\\\"chambresdhotesbruges.fr\\\") | wh...   \n",
       "...                                                                                                   ...   \n",
       "1592  {\\r\\n  \"Query\": \"// The query_now parameter represents the time (in UTC) at which the scheduled ...   \n",
       "1593  {\\r\\n  \"Query\": \"// The query_now parameter represents the time (in UTC) at which the scheduled ...   \n",
       "1594  {\\r\\n  \"Query\": \"// The query_now parameter represents the time (in UTC) at which the scheduled ...   \n",
       "1595  {\\r\\n  \"Query\": \"// The query_now parameter represents the time (in UTC) at which the scheduled ...   \n",
       "1596  {\\r\\n  \"Query\": \"// The query_now parameter represents the time (in UTC) at which the scheduled ...   \n",
       "\n",
       "                                                                                                Entities1  \\\n",
       "0     [\\r\\n  {\\r\\n    \"$id\": \"3\",\\r\\n    \"DnsDomain\": \"chambresdhotesbruges.fr\",\\r\\n    \"HostName\": \"c...   \n",
       "1     [\\r\\n  {\\r\\n    \"$id\": \"3\",\\r\\n    \"DnsDomain\": \"chambresdhotesbruges.fr\",\\r\\n    \"HostName\": \"c...   \n",
       "2     [\\r\\n  {\\r\\n    \"$id\": \"3\",\\r\\n    \"DnsDomain\": \"chambresdhotesbruges.fr\",\\r\\n    \"HostName\": \"c...   \n",
       "3     [\\r\\n  {\\r\\n    \"$id\": \"3\",\\r\\n    \"DnsDomain\": \"chambresdhotesbruges.fr\",\\r\\n    \"HostName\": \"c...   \n",
       "4     [\\r\\n  {\\r\\n    \"$id\": \"3\",\\r\\n    \"DnsDomain\": \"chambresdhotesbruges.fr\",\\r\\n    \"HostName\": \"c...   \n",
       "...                                                                                                   ...   \n",
       "1592  [\\r\\n  {\\r\\n    \"$id\": \"3\",\\r\\n    \"Address\": \"192.168.1.216\",\\r\\n    \"Type\": \"ip\"\\r\\n  },\\r\\n  ...   \n",
       "1593  [\\r\\n  {\\r\\n    \"$id\": \"3\",\\r\\n    \"Address\": \"192.168.1.216\",\\r\\n    \"Type\": \"ip\"\\r\\n  },\\r\\n  ...   \n",
       "1594  [\\r\\n  {\\r\\n    \"$id\": \"3\",\\r\\n    \"Address\": \"192.168.1.216\",\\r\\n    \"Type\": \"ip\"\\r\\n  },\\r\\n  ...   \n",
       "1595  [\\r\\n  {\\r\\n    \"$id\": \"3\",\\r\\n    \"Address\": \"192.168.1.216\",\\r\\n    \"Type\": \"ip\"\\r\\n  },\\r\\n  ...   \n",
       "1596  [\\r\\n  {\\r\\n    \"$id\": \"3\",\\r\\n    \"Url\": \"https://bit.ly/3htG84T\",\\r\\n    \"Type\": \"url\"\\r\\n  },...   \n",
       "\n",
       "         MatchingIps src_row_index  \n",
       "0      [3.88.48.125]             0  \n",
       "1      [3.88.48.125]             0  \n",
       "2      [3.88.48.125]             0  \n",
       "3      [3.88.48.125]             0  \n",
       "4      [3.88.48.125]             0  \n",
       "...              ...           ...  \n",
       "1592  [20.55.97.123]             4  \n",
       "1593  [20.55.97.123]             4  \n",
       "1594  [20.55.97.123]             4  \n",
       "1595  [20.55.97.123]             4  \n",
       "1596  [20.55.97.123]             4  \n",
       "\n",
       "[1597 rows x 64 columns]"
      ]
     },
     "execution_count": 61,
     "metadata": {},
     "output_type": "execute_result"
    }
   ],
   "source": [
    "# %%debug\n",
    "ip_test_df.mp_pivot.run(entities.IpAddress.AzureSentinel.SecurityAlert_list_alerts_for_ip, source_ip_list=\"ip\", join=\"left\")"
   ]
  },
  {
   "cell_type": "markdown",
   "metadata": {},
   "source": [
    "## Inline filtering and `tee` function\n",
    "\n",
    "Save intermediate results to a DataFrame"
   ]
  },
  {
   "cell_type": "code",
   "execution_count": null,
   "metadata": {},
   "outputs": [],
   "source": [
    "(\n",
    "    ips_df\n",
    "    .mp_pivot.run(entities.IpAddress.util.ip_type, column=\"IP\", join=\"inner\")\n",
    "    .query(\"result == 'Public'\").head(10)\n",
    "    .mp_pivot.run(entities.IpAddress.util.whois, column=\"ip\", join=\"left\")\n",
    "    .mp_pivot.tee(var_name=\"whois_df\", clobber=True)\n",
    "    .mp_pivot.run(entities.IpAddress.util.geoloc_mm, column=\"ip\", join=\"left\")\n",
    "    .mp_pivot.display(title=\"Geo Lookup\", cols=[\"IP\", \"City\"])  # << display an intermediate result\n",
    "    .mp_pivot.run(entities.IpAddress.AzureSentinel.SecurityAlert_list_alerts_for_ip, source_ip_list=\"ip\")\n",
    ").head(5)"
   ]
  },
  {
   "cell_type": "code",
   "execution_count": null,
   "metadata": {},
   "outputs": [],
   "source": [
    "whois_df"
   ]
  },
  {
   "cell_type": "markdown",
   "metadata": {},
   "source": [
    "## Add a display function"
   ]
  },
  {
   "cell_type": "code",
   "execution_count": null,
   "metadata": {},
   "outputs": [],
   "source": [
    "(\n",
    "    ips_df\n",
    "    .mp_pivot.run(entities.IpAddress.util.ip_type, column=\"IP\", join=\"inner\")\n",
    "    .query(\"result == 'Public'\").head(5)\n",
    "    .mp_pivot.run(entities.IpAddress.util.whois, column=\"ip\", join=\"left\")\n",
    "    .mp_pivot.run(entities.IpAddress.util.geoloc_mm, column=\"ip\", join=\"left\")\n",
    "    .mp_pivot.display(title=\"Geo Lookup\", cols=[\"IP\", \"City\"])  # << display an intermediate result\n",
    "    .mp_pivot.run(entities.IpAddress.AzureSentinel.SecurityAlert_list_alerts_for_ip, source_ip_list=\"ip\")\n",
    "    .mp_pivot.display(title=\"Alerts Sample\", head=5) \n",
    "    .mp_timeline.plot(\n",
    "        title=\"IPs with alerts\",\n",
    "        source_columns=[\"AlertName\", \"MatchingIps\"],\n",
    "    )\n",
    ");"
   ]
  },
  {
   "cell_type": "code",
   "execution_count": null,
   "metadata": {},
   "outputs": [],
   "source": [
    "(\n",
    "    ips_df\n",
    "    .mp_pivot.run(entities.IpAddress.util.ip_type, column=\"IP\", join=\"inner\")\n",
    "    .query(\"result == 'Public'\").head(10)\n",
    "    .mp_pivot.run(entities.IpAddress.util.whois, column=\"ip\", join=\"left\")\n",
    "    .mp_pivot.run(entities.IpAddress.util.geoloc_mm, column=\"ip\", join=\"left\")\n",
    "    .mp_pivot.display(title=\"Geo Lookup\", cols=[\"IP\", \"City\"])  # << display an intermediate result\n",
    "    .mp_pivot.run(entities.IpAddress.AzureSentinel.SecurityAlert_list_alerts_for_ip, source_ip_list=\"ip\")\n",
    "    .mp_pivot.display(title=\"Alerts Sample\", head=5) \n",
    "    .mp_timeline.plot(\n",
    "        title=\"IPs with alerts\",\n",
    "        source_columns=[\"AlertName\", \"MatchingIps\"],\n",
    "    )\n",
    ")"
   ]
  },
  {
   "cell_type": "markdown",
   "metadata": {},
   "source": [
    "<h3 style=\"color: red\">Post-0.9.0 feature</h>"
   ]
  },
  {
   "cell_type": "markdown",
   "metadata": {},
   "source": [
    "## Saving and re-using pipelines as yaml\n",
    "\n",
    "```yaml\n",
    "pipelines:\n",
    "  pipeline1:\n",
    "    description: Pipeline 1 description\n",
    "    steps:\n",
    "      - name: get_logons\n",
    "        step_type: pivot\n",
    "        function: util.whois\n",
    "        entity: IpAddress\n",
    "        comment: Standard pivot function\n",
    "        params:\n",
    "          column: IpAddress\n",
    "          join: inner\n",
    "      - name: disp_logons\n",
    "        step_type: pivot_display\n",
    "        comment: Pivot display\n",
    "        params:\n",
    "          title: \"The title\"\n",
    "          cols:\n",
    "              - Computer\n",
    "              - Account\n",
    "          query: Computer.str.startswith('MSTICAlerts')\n",
    "          head: 10\n",
    "      - name: tee_logons\n",
    "        step_type: pivot_tee\n",
    "        comment: Pivot tee\n",
    "        params:\n",
    "          var_name: var_df\n",
    "          clobber: True\n",
    "      - name: tee_logons_disp\n",
    "        step_type: pivot_tee_exec\n",
    "        comment: Pivot tee_exec with mp_timeline.plot\n",
    "        function: mp_timeline.plot\n",
    "        params:\n",
    "          source_columns:\n",
    "              - Computer\n",
    "              - Account\n",
    "      - name: logons_timeline\n",
    "        step_type: pd_accessor\n",
    "        comment: Standard accessor with mp_timeline.plot\n",
    "        function: mp_timeline.plot\n",
    "        params:\n",
    "          source_columns:\n",
    "              - Computer\n",
    "              - Account\n",
    "  pipeline2:\n",
    "    description: Pipeline 2 description\n",
    "    steps:\n",
    "      - name: get_logons\n",
    "        step_type: pivot\n",
    "        function: util.whois\n",
    "        entity: IpAddress\n",
    "        comment: Standard pivot function\n",
    "        params:\n",
    "          column: IpAddress\n",
    "          join: inner\n",
    "      - name: disp_logons\n",
    "        step_type: pivot_display\n",
    "        comment: Pivot display\n",
    "        params:\n",
    "          title: \"The title\"\n",
    "          cols:\n",
    "              - Computer\n",
    "              - Account\n",
    "          query: Computer.str.startswith('MSTICAlerts')\n",
    "          head: 10\n",
    "      - name: tee_logons\n",
    "        step_type: pivot_tee\n",
    "        comment: Pivot tee\n",
    "        params:\n",
    "          var_name: var_df\n",
    "          clobber: True\n",
    "```"
   ]
  },
  {
   "cell_type": "code",
   "execution_count": 66,
   "metadata": {},
   "outputs": [],
   "source": [
    "from msticpy.datamodel.pivot_pipeline import Pipeline\n",
    "\n",
    "pipelines_yml = \"\"\"\n",
    "pipelines:\n",
    "  pipeline1:\n",
    "    description: Pipeline 1 description\n",
    "    steps:\n",
    "      - name: get_ip_type\n",
    "        step_type: pivot\n",
    "        function: util.ip_type\n",
    "        entity: IpAddress\n",
    "        comment: Get IP Type\n",
    "        params:\n",
    "          column: IP\n",
    "          join: inner\n",
    "      - name: filter_public\n",
    "        step_type: pd_accessor\n",
    "        comment: Filter to only public IPs\n",
    "        function: query\n",
    "        pos_params:\n",
    "          - result == \"Public\"\n",
    "      - name: whois\n",
    "        step_type: pivot\n",
    "        function: util.whois\n",
    "        entity: IpAddress\n",
    "        comment: Get Whois info\n",
    "        params:\n",
    "          column: IP\n",
    "          join: inner\n",
    "      \n",
    "\"\"\""
   ]
  },
  {
   "cell_type": "code",
   "execution_count": 71,
   "metadata": {},
   "outputs": [],
   "source": [
    "with open(\"pipelines.yml\", \"w\") as fh:\n",
    "    fh.write(pipelines_yml)"
   ]
  },
  {
   "cell_type": "code",
   "execution_count": 80,
   "metadata": {},
   "outputs": [],
   "source": [
    "pipelines_yml = \"\"\"\n",
    "pipelines:\n",
    "  pipeline1:\n",
    "    description: Pipeline 1 description\n",
    "    steps:\n",
    "      - name: get_logons\n",
    "        step_type: pivot\n",
    "        function: util.whois\n",
    "        entity: IpAddress\n",
    "        comment: Standard pivot function\n",
    "        params:\n",
    "          column: IpAddress\n",
    "          join: inner\n",
    "      - name: disp_logons\n",
    "        step_type: pivot_display\n",
    "        comment: Pivot display\n",
    "        params:\n",
    "          title: \"The title\"\n",
    "          cols:\n",
    "            - Computer\n",
    "            - Account\n",
    "          query: Computer.str.startswith('MSTICAlerts')\n",
    "          head: 10\n",
    "      - name: tee_logons\n",
    "        step_type: pivot_tee\n",
    "        comment: Pivot tee\n",
    "        params:\n",
    "            var_name: var_df\n",
    "            clobber: True\n",
    "      - name: tee_logons_disp\n",
    "        step_type: pivot_tee_exec\n",
    "        comment: Pivot tee_exec with mp_timeline.plot\n",
    "        function: mp_timeline.plot\n",
    "        params:\n",
    "          source_columns:\n",
    "            - Computer\n",
    "            - Account\n",
    "      - name: logons_timeline\n",
    "        step_type: pd_accessor\n",
    "        comment: Standard accessor with mp_timeline.plot\n",
    "        function: mp_timeline.plot\n",
    "        pos_params:\n",
    "          - one\n",
    "          - 2\n",
    "        params:\n",
    "          source_columns:\n",
    "            - Computer\n",
    "            - Account\n",
    "  pipeline2:\n",
    "    description: another pipeline\n",
    "    steps:\n",
    "      - name: tee_logons\n",
    "        step_type: pivot_tee\n",
    "        comment: Pivot tee\n",
    "        params:\n",
    "            var_name: var_df\n",
    "            clobber: True\n",
    "      - name: tee_logons_disp\n",
    "        step_type: pivot_tee_exec\n",
    "        comment: Pivot tee_exec with mp_timeline.plot\n",
    "        function: mp_timeline.plot\n",
    "        params:\n",
    "          source_columns:\n",
    "            - Computer\n",
    "            - Account\n",
    "      - name: logons_timeline\n",
    "        step_type: pd_accessor\n",
    "        comment: Standard accessor with mp_timeline.plot\n",
    "        function: mp_timeline.plot\n",
    "        pos_params:\n",
    "          - one\n",
    "          - 2\n",
    "        params:\n",
    "          source_columns:\n",
    "            - Computer\n",
    "            - Account\n",
    "\"\"\""
   ]
  },
  {
   "cell_type": "code",
   "execution_count": 81,
   "metadata": {},
   "outputs": [
    {
     "name": "stdout",
     "output_type": "stream",
     "text": [
      "# Pipeline 1 description\n",
      "(\n",
      "    input_df\n",
      "    # Standard pivot function\n",
      "    .mp_pivot.run(IpAddress.util.whois, column='IpAddress', join='inner')\n",
      "    # Pivot display\n",
      "    .mp_pivot.display(title='The title', query='Computer.str.startswith('MSTICAlerts')', cols=['Computer', 'Account'], head=10)\n",
      "    # Pivot tee\n",
      "    .mp_pivot.tee(var_name='var_df', clobber=True)\n",
      "    # Pivot tee_exec with mp_timeline.plot\n",
      "    .mp_pivot.tee_exec('mp_timeline.plot', source_columns=['Computer', 'Account'])\n",
      "    # Standard accessor with mp_timeline.plot\n",
      "    .mp_timeline.plot('one', 2, source_columns=['Computer', 'Account'])\n",
      ")\n"
     ]
    }
   ],
   "source": [
    "pipelines = list(Pipeline.from_yaml(pipelines_yml))\n",
    "print(pipelines[0].print_pipeline())"
   ]
  },
  {
   "cell_type": "code",
   "execution_count": 69,
   "metadata": {},
   "outputs": [
    {
     "name": "stdout",
     "output_type": "stream",
     "text": [
      "Exception reporting mode: Verbose\n"
     ]
    }
   ],
   "source": [
    "%xmode verbose"
   ]
  },
  {
   "cell_type": "code",
   "execution_count": 70,
   "metadata": {},
   "outputs": [
    {
     "data": {
      "application/vnd.jupyter.widget-view+json": {
       "model_id": "599f9df95d4d4e11a550e327e484cc50",
       "version_major": 2,
       "version_minor": 0
      },
      "text/plain": [
       "HBox(children=(HTML(value='Steps'), FloatProgress(value=0.0, max=3.0), HTML(value='')))"
      ]
     },
     "metadata": {},
     "output_type": "display_data"
    },
    {
     "name": "stdout",
     "output_type": "stream",
     "text": [
      "step = get_ip_type \n",
      " PipelineExecStep(accessor='mp_pivot.run', pos_params=[], params={'func': <function get_ip_type at 0x000002757504D5E8>, 'column': 'IP', 'join': 'inner'}, text=\".mp_pivot.run(IpAddress.util.ip_type, column='IP', join='inner')\", comment='Get IP Type')\n",
      "step = filter_public \n",
      " PipelineExecStep(accessor=None, pos_params=['result == \"Public\"'], params={}, text='.query(\\'result == \"Public\"\\')', comment='Filter to only public IPs')\n",
      "\n"
     ]
    },
    {
     "ename": "TypeError",
     "evalue": "argument of type 'NoneType' is not iterable",
     "output_type": "error",
     "traceback": [
      "\u001b[1;31m---------------------------------------------------------------------------\u001b[0m",
      "\u001b[1;31mTypeError\u001b[0m                                 Traceback (most recent call last)",
      "\u001b[1;32m<ipython-input-70-a2a658d2b7d6>\u001b[0m in \u001b[0;36m<module>\u001b[1;34m\u001b[0m\n\u001b[0;32m      1\u001b[0m \u001b[0mpipeline1\u001b[0m \u001b[1;33m=\u001b[0m \u001b[0mpipelines\u001b[0m\u001b[1;33m[\u001b[0m\u001b[1;36m0\u001b[0m\u001b[1;33m]\u001b[0m\u001b[1;33m\u001b[0m\u001b[1;33m\u001b[0m\u001b[0m\n\u001b[1;32m----> 2\u001b[1;33m \u001b[0mresult_df\u001b[0m \u001b[1;33m=\u001b[0m \u001b[0mpipeline1\u001b[0m\u001b[1;33m.\u001b[0m\u001b[0mrun\u001b[0m\u001b[1;33m(\u001b[0m\u001b[0mdata\u001b[0m\u001b[1;33m=\u001b[0m\u001b[0mips_df\u001b[0m\u001b[1;33m,\u001b[0m \u001b[0mverbose\u001b[0m\u001b[1;33m=\u001b[0m\u001b[1;32mTrue\u001b[0m\u001b[1;33m)\u001b[0m\u001b[1;33m\u001b[0m\u001b[1;33m\u001b[0m\u001b[0m\n\u001b[0m        \u001b[1;36mglobal\u001b[0m \u001b[0;36mresult_df\u001b[0m \u001b[1;34m= \u001b[1;36mundefined\u001b[0m\u001b[0m\u001b[1;34m\n        \u001b[0m\u001b[1;36mglobal\u001b[0m \u001b[0;36mpipeline1.run\u001b[0m \u001b[1;34m= <bound method Pipeline.run of Pipeline(name='pipeline1', description='Pipeline 1 description', steps=[PipelineStep(name='get_ip_type', step_type='pivot', function='util.ip_type', entity='IpAddress', comment='Get IP Type', pos_params=[], params={'column': 'IP', 'join': 'inner'})\n  PipelineStep(name='filter_public', step_type='pd_accessor', function='query', entity=None, comment='Filter to only public IPs', pos_params=['result == \"Public\"'], params={})\n  PipelineStep(name='whois', step_type='pivot', function='util.whois', entity='IpAddress', comment='Get Whois info', pos_params=[], params={'column': 'IP', 'join': 'inner'})])>\u001b[0m\u001b[1;34m\n        \u001b[0m\u001b[1;36mglobal\u001b[0m \u001b[0;36mdata\u001b[0m \u001b[1;34m= \u001b[1;36mundefined\u001b[0m\u001b[0m\u001b[1;34m\n        \u001b[0m\u001b[1;36mglobal\u001b[0m \u001b[0;36mips_df\u001b[0m \u001b[1;34m=                   IP\n0      192.168.40.32\n1      192.168.1.216\n2     192.168.153.17\n3        3.88.48.125\n4      10.200.104.20\n17    192.168.90.101\n68    192.168.150.50\n69     172.16.100.31\n70    192.168.30.189\n105    10.100.199.10\n272     52.171.57.74\n273    52.171.36.115\n275      20.84.105.0\n276     20.55.97.123\n392    20.84.112.117\n397   192.168.99.137\n410    192.168.55.10\n720     192.168.51.6\n923   104.214.50.229\n924    20.51.104.164\n925     20.81.40.144\n926     20.80.162.44\n927       172.31.0.0\n928    104.215.76.44\n1017      172.31.0.1\n1923     20.81.42.55\n3290    20.55.80.232\n4381  172.16.199.104\n5542    79.124.62.82\u001b[0m\u001b[1;34m\n        \u001b[0m\u001b[1;36mglobal\u001b[0m \u001b[0;36mverbose\u001b[0m \u001b[1;34m= \u001b[1;36mundefined\u001b[0m\u001b[0m\n\u001b[0;32m      3\u001b[0m \u001b[0mresult_df\u001b[0m\u001b[1;33m.\u001b[0m\u001b[0mhead\u001b[0m\u001b[1;33m(\u001b[0m\u001b[1;36m3\u001b[0m\u001b[1;33m)\u001b[0m\u001b[1;33m\u001b[0m\u001b[1;33m\u001b[0m\u001b[0m\n",
      "\u001b[1;32me:\\src\\microsoft\\msticpy\\msticpy\\datamodel\\pivot_pipeline.py\u001b[0m in \u001b[0;36mrun\u001b[1;34m(self=Pipeline(name='pipeline1', description='Pipeline...s=[], params={'column': 'IP', 'join': 'inner'})]), data=                  IP\n0      192.168.40.32\n1     ....80.232\n4381  172.16.199.104\n5542    79.124.62.82, verbose=True)\u001b[0m\n\u001b[0;32m    294\u001b[0m                 )\n\u001b[0;32m    295\u001b[0m                 \u001b[1;32mbreak\u001b[0m\u001b[1;33m\u001b[0m\u001b[1;33m\u001b[0m\u001b[0m\n\u001b[1;32m--> 296\u001b[1;33m             \u001b[0mfunc\u001b[0m \u001b[1;33m=\u001b[0m \u001b[0m_get_pd_accessor_func\u001b[0m\u001b[1;33m(\u001b[0m\u001b[0mpipeline_result\u001b[0m\u001b[1;33m,\u001b[0m \u001b[0mexec_action\u001b[0m\u001b[1;33m.\u001b[0m\u001b[0maccessor\u001b[0m\u001b[1;33m)\u001b[0m\u001b[1;33m\u001b[0m\u001b[1;33m\u001b[0m\u001b[0m\n\u001b[0m        \u001b[0;36mfunc\u001b[0m \u001b[1;34m= <bound method PivotAccessor.run of <msticpy.datamodel.pivot_pd_accessor.PivotAccessor object at 0x00000275754E2208>>\u001b[0m\u001b[1;34m\n        \u001b[0m\u001b[1;36mglobal\u001b[0m \u001b[0;36m_get_pd_accessor_func\u001b[0m \u001b[1;34m= <function _get_pd_accessor_func at 0x000002757BA68288>\u001b[0m\u001b[1;34m\n        \u001b[0m\u001b[0;36mpipeline_result\u001b[0m \u001b[1;34m=                 IP              ip   result\n0    192.168.40.32   192.168.40.32  Private\n1    192.168.1.216   192.168.1.216  Private\n2   192.168.153.17  192.168.153.17  Private\n3      3.88.48.125     3.88.48.125   Public\n4    10.200.104.20   10.200.104.20  Private\n5   192.168.90.101  192.168.90.101  Private\n6   192.168.150.50  192.168.150.50  Private\n7    172.16.100.31   172.16.100.31  Private\n8   192.168.30.189  192.168.30.189  Private\n9    10.100.199.10   10.100.199.10  Private\n10    52.171.57.74    52.171.57.74   Public\n11   52.171.36.115   52.171.36.115   Public\n12     20.84.105.0     20.84.105.0   Public\n13    20.55.97.123    20.55.97.123   Public\n14   20.84.112.117   20.84.112.117   Public\n15  192.168.99.137  192.168.99.137  Private\n16   192.168.55.10   192.168.55.10  Private\n17    192.168.51.6    192.168.51.6  Private\n18  104.214.50.229  104.214.50.229   Public\n19   20.51.104.164   20.51.104.164   Public\n20    20.81.40.144    20.81.40.144   Public\n21    20.80.162.44    20.80.162.44   Public\n22      172.31.0.0      172.31.0.0  Private\n23   104.215.76.44   104.215.76.44   Public\n24      172.31.0.1      172.31.0.1  Private\n25     20.81.42.55     20.81.42.55   Public\n26    20.55.80.232    20.55.80.232   Public\n27  172.16.199.104  172.16.199.104  Private\n28    79.124.62.82    79.124.62.82   Public\u001b[0m\u001b[1;34m\n        \u001b[0m\u001b[0;36mexec_action.accessor\u001b[0m \u001b[1;34m= None\u001b[0m\n\u001b[0;32m    297\u001b[0m             \u001b[0mpipeline_result\u001b[0m \u001b[1;33m=\u001b[0m \u001b[0mfunc\u001b[0m\u001b[1;33m(\u001b[0m\u001b[1;33m*\u001b[0m\u001b[0mexec_action\u001b[0m\u001b[1;33m.\u001b[0m\u001b[0mpos_params\u001b[0m\u001b[1;33m,\u001b[0m \u001b[1;33m**\u001b[0m\u001b[0mexec_action\u001b[0m\u001b[1;33m.\u001b[0m\u001b[0mparams\u001b[0m\u001b[1;33m)\u001b[0m\u001b[1;33m\u001b[0m\u001b[1;33m\u001b[0m\u001b[0m\n\u001b[0;32m    298\u001b[0m \u001b[1;33m\u001b[0m\u001b[0m\n",
      "\u001b[1;32me:\\src\\microsoft\\msticpy\\msticpy\\datamodel\\pivot_pipeline.py\u001b[0m in \u001b[0;36m_get_pd_accessor_func\u001b[1;34m(data=                IP              ip   result\n0   ...ivate\n28    79.124.62.82    79.124.62.82   Public, df_func=None)\u001b[0m\n\u001b[0;32m    126\u001b[0m         \u001b[0mdf_func\u001b[0m \u001b[1;33m=\u001b[0m \u001b[0mdf_func\u001b[0m\u001b[1;33m.\u001b[0m\u001b[0m__name__\u001b[0m\u001b[1;33m\u001b[0m\u001b[1;33m\u001b[0m\u001b[0m\n\u001b[0;32m    127\u001b[0m     \u001b[0macc_name\u001b[0m \u001b[1;33m=\u001b[0m \u001b[0mfunc_name\u001b[0m \u001b[1;33m=\u001b[0m \u001b[0mfunc\u001b[0m \u001b[1;33m=\u001b[0m \u001b[1;32mNone\u001b[0m\u001b[1;33m\u001b[0m\u001b[1;33m\u001b[0m\u001b[0m\n\u001b[1;32m--> 128\u001b[1;33m     \u001b[1;32mif\u001b[0m \u001b[1;34m\".\"\u001b[0m \u001b[1;32min\u001b[0m \u001b[0mdf_func\u001b[0m\u001b[1;33m:\u001b[0m\u001b[1;33m\u001b[0m\u001b[1;33m\u001b[0m\u001b[0m\n\u001b[0m        \u001b[0;36mdf_func\u001b[0m \u001b[1;34m= None\u001b[0m\n\u001b[0;32m    129\u001b[0m         \u001b[0macc_name\u001b[0m\u001b[1;33m,\u001b[0m \u001b[0mfunc_name\u001b[0m \u001b[1;33m=\u001b[0m \u001b[0mdf_func\u001b[0m\u001b[1;33m.\u001b[0m\u001b[0msplit\u001b[0m\u001b[1;33m(\u001b[0m\u001b[1;34m\".\"\u001b[0m\u001b[1;33m)\u001b[0m\u001b[1;33m\u001b[0m\u001b[1;33m\u001b[0m\u001b[0m\n\u001b[0;32m    130\u001b[0m         \u001b[0maccessor\u001b[0m \u001b[1;33m=\u001b[0m \u001b[0mgetattr\u001b[0m\u001b[1;33m(\u001b[0m\u001b[0mdata\u001b[0m\u001b[1;33m,\u001b[0m \u001b[0macc_name\u001b[0m\u001b[1;33m,\u001b[0m \u001b[1;32mNone\u001b[0m\u001b[1;33m)\u001b[0m\u001b[1;33m\u001b[0m\u001b[1;33m\u001b[0m\u001b[0m\n",
      "\u001b[1;31mTypeError\u001b[0m: argument of type 'NoneType' is not iterable"
     ]
    }
   ],
   "source": [
    "pipeline1 = pipelines[0]\n",
    "result_df = pipeline1.run(data=ips_df, verbose=True)\n",
    "result_df.head(3)"
   ]
  },
  {
   "cell_type": "markdown",
   "metadata": {},
   "source": [
    "## Adding your own pivot functions"
   ]
  },
  {
   "cell_type": "code",
   "execution_count": 63,
   "metadata": {},
   "outputs": [],
   "source": [
    "def my_func(input: str):\n",
    "    return {\n",
    "        \"title\": input.upper(),\n",
    "        \"text\": \"something\"\n",
    "    }\n",
    "\n",
    "Pivot.add_pivot_function(\n",
    "    func=my_func,\n",
    "    container=\"cyber\",\n",
    "    input_type=\"value\",\n",
    "    entity_map={\"Host\": \"HostName\"},\n",
    "    func_input_value_arg=\"input\",\n",
    "    func_new_name=\"upper_name\",\n",
    ")"
   ]
  },
  {
   "cell_type": "code",
   "execution_count": 64,
   "metadata": {},
   "outputs": [
    {
     "data": {
      "text/html": [
       "<div>\n",
       "<style scoped>\n",
       "    .dataframe tbody tr th:only-of-type {\n",
       "        vertical-align: middle;\n",
       "    }\n",
       "\n",
       "    .dataframe tbody tr th {\n",
       "        vertical-align: top;\n",
       "    }\n",
       "\n",
       "    .dataframe thead th {\n",
       "        text-align: right;\n",
       "    }\n",
       "</style>\n",
       "<table border=\"1\" class=\"dataframe\">\n",
       "  <thead>\n",
       "    <tr style=\"text-align: right;\">\n",
       "      <th></th>\n",
       "      <th>title</th>\n",
       "      <th>text</th>\n",
       "      <th>input</th>\n",
       "    </tr>\n",
       "  </thead>\n",
       "  <tbody>\n",
       "    <tr>\n",
       "      <th>0</th>\n",
       "      <td>HOST_NAME</td>\n",
       "      <td>something</td>\n",
       "      <td>host_name</td>\n",
       "    </tr>\n",
       "  </tbody>\n",
       "</table>\n",
       "</div>"
      ],
      "text/plain": [
       "       title       text      input\n",
       "0  HOST_NAME  something  host_name"
      ]
     },
     "execution_count": 64,
     "metadata": {},
     "output_type": "execute_result"
    }
   ],
   "source": [
    "entities.Host.cyber.upper_name(\"host_name\")"
   ]
  },
  {
   "cell_type": "code",
   "execution_count": null,
   "metadata": {},
   "outputs": [],
   "source": [
    "(\n",
    "    ips_df\n",
    "    .mp_pivot.run(entities.IpAddress.util.ip_type, column=\"IP\", join=\"inner\")\n",
    "    .query(\"result == 'Public'\").head(2)\n",
    "    .mp_pivot.run(entities.IpAddress.util.whois, column=\"ip\", join=\"left\")\n",
    "    .mp_pivot.run(entities.IpAddress.util.geoloc_mm, column=\"ip\", join=\"left\")\n",
    "    .mp_pivot.display(title=\"Geo Lookup\", cols=[\"IP\", \"City\"])  # << display an intermediate result\n",
    "    .mp_pivot.run(entities.IpAddress.AzureSentinel.SecurityAlert_list_alerts_for_ip, source_ip_list=\"ip\")\n",
    "    .mp_pivot.display(title=\"Alerts Sample\", head=2) \n",
    "    .mp_pivot.run(entities.Host.cyber.upper_name, column=\"Severity\")\n",
    ").head(3)"
   ]
  },
  {
   "cell_type": "code",
   "execution_count": null,
   "metadata": {},
   "outputs": [],
   "source": [
    "result_df.iloc[0].nets\n",
    "\n",
    "def extract_nets(data, col):\n",
    "    out_series = []\n",
    "    for net in result_df.nets:\n",
    "        for entry in net:\n",
    "            out_series.append(pd.Series(entry))\n",
    "    return pd.DataFrame(out_series) \n",
    "\n",
    "Pivot.add_pivot_function(\n",
    "    func=extract_nets,\n",
    "    container=\"whois\",\n",
    "    input_type=\"dataframe\",\n",
    "    entity_map={\"IpAddress\": \"Address\"},\n",
    "    func_df_param_name=\"data\",\n",
    "    func_df_col_param_name=\"col\",\n",
    "    func_new_name=\"extract_nets\",\n",
    ")"
   ]
  },
  {
   "cell_type": "code",
   "execution_count": null,
   "metadata": {},
   "outputs": [],
   "source": [
    "from msticpy.datamodel.entities import IpAddress\n",
    "(\n",
    "    ips_df\n",
    "    # Get IP Type\n",
    "    .mp_pivot.run(IpAddress.util.ip_type, column='IP', join='inner')\n",
    "    # Filter to only public IPs\n",
    "    .query(expr='result == \"Public\"')\n",
    "    # Get Whois info\n",
    "    .mp_pivot.run(IpAddress.util.whois, column='IP', join='inner')\n",
    "    .mp_pivot.run(IpAddress.whois.extract_nets, column='nets')\n",
    ")"
   ]
  },
  {
   "cell_type": "code",
   "execution_count": 65,
   "metadata": {},
   "outputs": [
    {
     "data": {
      "text/plain": [
       "'my_func'"
      ]
     },
     "execution_count": 65,
     "metadata": {},
     "output_type": "execute_result"
    }
   ],
   "source": [
    "entities.Host.cyber.upper_name.__name__"
   ]
  },
  {
   "cell_type": "code",
   "execution_count": null,
   "metadata": {},
   "outputs": [],
   "source": []
  },
  {
   "cell_type": "markdown",
   "metadata": {},
   "source": [
    "### Appendix - how do pivot wrappers work?\n",
    "\n",
    "In Python you can create functions that return other functions.\n",
    "On the way they can change how the arguments and output are\n",
    "processed.\n",
    "\n",
    "Take this simple function that just applies proper capitalization\n",
    "to an input string."
   ]
  },
  {
   "cell_type": "code",
   "execution_count": 35,
   "metadata": {},
   "outputs": [
    {
     "name": "stdout",
     "output_type": "stream",
     "text": [
      "Hello\n"
     ]
    }
   ],
   "source": [
    "def print_me(arg):\n",
    "    print(arg.capitalize())\n",
    "    \n",
    "print_me(\"hello\")"
   ]
  },
  {
   "cell_type": "markdown",
   "metadata": {},
   "source": [
    "If we try to pass a list to this function we get an \n",
    "expect exception"
   ]
  },
  {
   "cell_type": "code",
   "execution_count": 36,
   "metadata": {},
   "outputs": [
    {
     "ename": "AttributeError",
     "evalue": "'list' object has no attribute 'capitalize'",
     "output_type": "error",
     "traceback": [
      "\u001b[1;31m---------------------------------------------------------------------------\u001b[0m",
      "\u001b[1;31mAttributeError\u001b[0m                            Traceback (most recent call last)",
      "\u001b[1;32m<ipython-input-36-94b3e61eb86f>\u001b[0m in \u001b[0;36m<module>\u001b[1;34m\u001b[0m\n\u001b[1;32m----> 1\u001b[1;33m \u001b[0mprint_me\u001b[0m\u001b[1;33m(\u001b[0m\u001b[1;33m[\u001b[0m\u001b[1;34m\"hello\"\u001b[0m\u001b[1;33m,\u001b[0m \u001b[1;34m\"world\"\u001b[0m\u001b[1;33m]\u001b[0m\u001b[1;33m)\u001b[0m\u001b[1;33m\u001b[0m\u001b[1;33m\u001b[0m\u001b[0m\n\u001b[0m",
      "\u001b[1;32m<ipython-input-35-b8574405109c>\u001b[0m in \u001b[0;36mprint_me\u001b[1;34m(arg)\u001b[0m\n\u001b[0;32m      1\u001b[0m \u001b[1;32mdef\u001b[0m \u001b[0mprint_me\u001b[0m\u001b[1;33m(\u001b[0m\u001b[0marg\u001b[0m\u001b[1;33m)\u001b[0m\u001b[1;33m:\u001b[0m\u001b[1;33m\u001b[0m\u001b[1;33m\u001b[0m\u001b[0m\n\u001b[1;32m----> 2\u001b[1;33m     \u001b[0mprint\u001b[0m\u001b[1;33m(\u001b[0m\u001b[0marg\u001b[0m\u001b[1;33m.\u001b[0m\u001b[0mcapitalize\u001b[0m\u001b[1;33m(\u001b[0m\u001b[1;33m)\u001b[0m\u001b[1;33m)\u001b[0m\u001b[1;33m\u001b[0m\u001b[1;33m\u001b[0m\u001b[0m\n\u001b[0m\u001b[0;32m      3\u001b[0m \u001b[1;33m\u001b[0m\u001b[0m\n\u001b[0;32m      4\u001b[0m \u001b[0mprint_me\u001b[0m\u001b[1;33m(\u001b[0m\u001b[1;34m\"hello\"\u001b[0m\u001b[1;33m)\u001b[0m\u001b[1;33m\u001b[0m\u001b[1;33m\u001b[0m\u001b[0m\n",
      "\u001b[1;31mAttributeError\u001b[0m: 'list' object has no attribute 'capitalize'"
     ]
    }
   ],
   "source": [
    "print_me([\"hello\", \"world\"])"
   ]
  },
  {
   "cell_type": "markdown",
   "metadata": {},
   "source": [
    "We could create a wrapper function that checked the\n",
    "input and iterated over the individual items if arg is a list.\n",
    "The works but we don't want to have to do this for every \n",
    "function that we want to have flexible input!"
   ]
  },
  {
   "cell_type": "code",
   "execution_count": 37,
   "metadata": {},
   "outputs": [
    {
     "name": "stdout",
     "output_type": "stream",
     "text": [
      "Hello\n",
      "How\n",
      "Are\n",
      "You\n",
      "?\n"
     ]
    }
   ],
   "source": [
    "def print_me_list(arg):\n",
    "    if isinstance(arg, list):\n",
    "        for item in arg:\n",
    "            print_me(item)\n",
    "    else:\n",
    "        print_me(arg)\n",
    "        \n",
    "print_me_list(\"hello\")\n",
    "print_me_list([\"how\", \"are\", \"you\", \"?\"])"
   ]
  },
  {
   "cell_type": "markdown",
   "metadata": {},
   "source": [
    "Instead we can create a function wrapper. The outer function\n",
    "`dont_care_func` defines an inner function, `list_or_str` and then\n",
    "returns this function. The inner function `list_or_str` is what\n",
    "implements the same \"is-this-a-string-or-list\" logic that we \n",
    "saw in the previous example. \n",
    "Crucially though, it isn't hard-coded to call `print_me` but\n",
    "calls whatever function passed to it from the outer function\n",
    "`dont_care_func`."
   ]
  },
  {
   "cell_type": "code",
   "execution_count": 38,
   "metadata": {},
   "outputs": [],
   "source": [
    "# Our magic wrapper\n",
    "\n",
    "def dont_care_func(func):\n",
    "    \n",
    "    def list_or_str(arg):\n",
    "        if isinstance(arg, list):\n",
    "            for item in arg:\n",
    "                func(item)\n",
    "        else:\n",
    "            func(arg)\n",
    "    return list_or_str"
   ]
  },
  {
   "cell_type": "markdown",
   "metadata": {},
   "source": [
    "How do we use this?\n",
    "\n",
    "We simply pass the function that we want to wrap to\n",
    "`dont_care_func`. Recall, that this function just returns\n",
    "an instance of the inner function. In this particular instance\n",
    "the value `func` will have been replaced by the actual function\n",
    "`print_me`."
   ]
  },
  {
   "cell_type": "code",
   "execution_count": 38,
   "metadata": {},
   "outputs": [],
   "source": [
    "print_stuff = dont_care_func(print_me)"
   ]
  },
  {
   "cell_type": "markdown",
   "metadata": {},
   "source": [
    "Now we have a wrapped version of `print_me` that can\n",
    "handle different types of input. Magic!"
   ]
  },
  {
   "cell_type": "code",
   "execution_count": 39,
   "metadata": {},
   "outputs": [
    {
     "name": "stdout",
     "output_type": "stream",
     "text": [
      "Hello\n",
      "How\n",
      "Are\n",
      "You\n",
      "?\n"
     ]
    }
   ],
   "source": [
    "print_stuff(\"hello\")\n",
    "print_stuff([\"how\", \"are\", \"you\", \"?\"])"
   ]
  },
  {
   "cell_type": "markdown",
   "metadata": {},
   "source": [
    "We can also define further functions and create wrapped\n",
    "versions of those by passing them to `dont_care_func`."
   ]
  },
  {
   "cell_type": "code",
   "execution_count": 118,
   "metadata": {},
   "outputs": [],
   "source": [
    "def shout_me(arg):\n",
    "    print(arg.upper(), \"\\U0001F92C!\", end=\" \")\n",
    "    \n",
    "shout_stuff = dont_care_func(shout_me)"
   ]
  },
  {
   "cell_type": "code",
   "execution_count": 119,
   "metadata": {},
   "outputs": [
    {
     "name": "stdout",
     "output_type": "stream",
     "text": [
      "HELLO 🤬! HOW 🤬! ARE 🤬! YOU 🤬! ? 🤬! "
     ]
    }
   ],
   "source": [
    "shout_stuff(\"hello\")\n",
    "shout_stuff([\"how\", \"are\", \"you\", \"?\"])"
   ]
  },
  {
   "cell_type": "markdown",
   "metadata": {},
   "source": [
    "The wrapper functionality in Pivot is a bit more complex than\n",
    "this but essentially operates this way."
   ]
  }
 ],
 "metadata": {
  "kernelspec": {
   "display_name": "Python (condadev)",
   "language": "python",
   "name": "condadev"
  },
  "language_info": {
   "codemirror_mode": {
    "name": "ipython",
    "version": 3
   },
   "file_extension": ".py",
   "mimetype": "text/x-python",
   "name": "python",
   "nbconvert_exporter": "python",
   "pygments_lexer": "ipython3",
   "version": "3.7.9"
  },
  "widgets": {
   "application/vnd.jupyter.widget-state+json": {
    "state": {
     "00a7fa318b254abea821e32ec8264451": {
      "model_module": "@jupyter-widgets/controls",
      "model_module_version": "1.5.0",
      "model_name": "HTMLModel",
      "state": {
       "layout": "IPY_MODEL_b472c23942c64a83bc1d4c1a7e40eec3",
       "style": "IPY_MODEL_68a474a3f99c4adea6ead57f900a34af",
       "value": "<h4>Set time range for pivot functions.</h4>"
      }
     },
     "02d19badff7f4791b2ca34db187b2d53": {
      "model_module": "@jupyter-widgets/controls",
      "model_module_version": "1.5.0",
      "model_name": "TextModel",
      "state": {
       "description": "Query end time (UTC) :  ",
       "layout": "IPY_MODEL_77c369b3009249f3bfcb2ea2a2765004",
       "style": "IPY_MODEL_8ced70cecdf4452d84f69f116b95c2bd",
       "value": "2021-02-15 01:42:42"
      }
     },
     "0372aea7f6a14d57b9a45360feb6d2d8": {
      "model_module": "@jupyter-widgets/controls",
      "model_module_version": "1.5.0",
      "model_name": "VBoxModel",
      "state": {
       "children": [
        "IPY_MODEL_3dbb2ee1d412494dbab05d94eb83ae83",
        "IPY_MODEL_9341e5738c054b56bcede765e244c55a",
        "IPY_MODEL_efe781f1b0bf4962b43fd758471fee0d",
        "IPY_MODEL_fb734e578c724a80886e36bcd5458a51"
       ],
       "layout": "IPY_MODEL_2fe6f9dc63b74bb6b9ab1826b23da144"
      }
     },
     "042c095c8d53484ba4f82c76db6e73ec": {
      "model_module": "@jupyter-widgets/controls",
      "model_module_version": "1.5.0",
      "model_name": "HTMLModel",
      "state": {
       "layout": "IPY_MODEL_c1eebed1a94d4276a3c0d5eb4121e3a5",
       "style": "IPY_MODEL_d74b29f27e234cc8941002860dbcae96",
       "value": "<h4>Set time range for pivot functions.</h4>"
      }
     },
     "05166053ac894a8cbe67724ffe20bb8b": {
      "model_module": "@jupyter-widgets/base",
      "model_module_version": "1.2.0",
      "model_name": "LayoutModel",
      "state": {}
     },
     "05b8045c272247c4b1acc5db623eb6cc": {
      "model_module": "@jupyter-widgets/base",
      "model_module_version": "1.2.0",
      "model_name": "LayoutModel",
      "state": {}
     },
     "05fc285a2bc84ef595a20edb33da1225": {
      "model_module": "@jupyter-widgets/controls",
      "model_module_version": "1.5.0",
      "model_name": "DescriptionStyleModel",
      "state": {
       "description_width": ""
      }
     },
     "06c63acd263f4ad985672cf23a28cbf8": {
      "model_module": "@jupyter-widgets/controls",
      "model_module_version": "1.5.0",
      "model_name": "DescriptionStyleModel",
      "state": {
       "description_width": ""
      }
     },
     "0b4e4e3cb3624ae494822b1943c3c061": {
      "model_module": "@jupyter-widgets/controls",
      "model_module_version": "1.5.0",
      "model_name": "DescriptionStyleModel",
      "state": {
       "description_width": ""
      }
     },
     "0f6e28b1d0ae41b78e502128b5f58b31": {
      "model_module": "@jupyter-widgets/controls",
      "model_module_version": "1.5.0",
      "model_name": "HBoxModel",
      "state": {
       "children": [
        "IPY_MODEL_6df0585f59cf4ac487c77c4e112ddabf",
        "IPY_MODEL_e4edbfa0a81c49ffb37d1d7640898cc4"
       ],
       "layout": "IPY_MODEL_1c04b84dd6d04791a5917c8087ddaa9a"
      }
     },
     "18efd213a1af46669d2a41aaa3e4b527": {
      "model_module": "@jupyter-widgets/controls",
      "model_module_version": "1.5.0",
      "model_name": "DescriptionStyleModel",
      "state": {
       "description_width": "initial"
      }
     },
     "1b399debef724e2e91e096af8fd8d529": {
      "model_module": "@jupyter-widgets/controls",
      "model_module_version": "1.5.0",
      "model_name": "SelectModel",
      "state": {
       "_options_labels": [
        "Account",
        "Dns",
        "File",
        "Host",
        "HostLogonSession",
        "IpAddress",
        "Process",
        "Url"
       ],
       "description": "entity",
       "index": 1,
       "layout": "IPY_MODEL_e7cc3f0740574d4a8f7c2d416e33ecf2",
       "style": "IPY_MODEL_85eb368659e0420ca2877ba91a866036"
      }
     },
     "1bbb6ce54c614f76835d92bbef56d3a1": {
      "model_module": "@jupyter-widgets/controls",
      "model_module_version": "1.5.0",
      "model_name": "HTMLModel",
      "state": {
       "layout": "IPY_MODEL_b8cad4e831134181a4247b61be715d91",
       "style": "IPY_MODEL_d6782d1c15ce41ad89131dce148d7b1b",
       "value": "<h4>Set time range for pivot functions.</h4>"
      }
     },
     "1c04b84dd6d04791a5917c8087ddaa9a": {
      "model_module": "@jupyter-widgets/base",
      "model_module_version": "1.2.0",
      "model_name": "LayoutModel",
      "state": {}
     },
     "1c42a43a55774b44adce1f52270ad72b": {
      "model_module": "@jupyter-widgets/controls",
      "model_module_version": "1.5.0",
      "model_name": "DescriptionStyleModel",
      "state": {
       "description_width": ""
      }
     },
     "2298a2856a014f7ba296d39e923dba9c": {
      "model_module": "@jupyter-widgets/controls",
      "model_module_version": "1.5.0",
      "model_name": "VBoxModel",
      "state": {
       "children": [
        "IPY_MODEL_e23a69adf33f4c20b0b9fd523b36679e",
        "IPY_MODEL_1b399debef724e2e91e096af8fd8d529"
       ],
       "layout": "IPY_MODEL_58c4dfe292634957b2c6e8080be99410"
      }
     },
     "23d847a7309e41aeac0360785ccee527": {
      "model_module": "@jupyter-widgets/base",
      "model_module_version": "1.2.0",
      "model_name": "LayoutModel",
      "state": {}
     },
     "2a2c5a7f55ce46cdb168e5c13bc0d209": {
      "model_module": "@jupyter-widgets/controls",
      "model_module_version": "1.5.0",
      "model_name": "HTMLModel",
      "state": {
       "layout": "IPY_MODEL_2db956c46bbc470989813347c7fa7ad5",
       "style": "IPY_MODEL_d9a5329c5b6542688f19573bd9d4f1bc",
       "value": "\n<p><b>Call with string/simple value:</b></p>\n<p><i>Entity.categ.func</i>(<i>arg</i>)</p>\n<p><code>IpAddress.util.whois(\"192.168.1.1\")</code></p>\n\n<p><b>Call with list:</b>\n<p><i>Entity.categ.func</i>(<i>list</i>)</p>\n<p><code>IpAddress.util.ip_type(ip_list1)</code></p>\n\n<p><b>Call with entity:</b></p>\n<p><i>Entity.categ.func</i>(<i>entity</i>)</p>\n<p><code>IpAddress.util.ip_type(ip_entity)</code></p>\n\n<p><b>Call with dataframe:</b></p>\n<p><i>Entity.categ.func</i>(data=<i>df</i>, column=<i>col_name</i>)</p>\n<p><code>IpAddress.util.ip_type(data=ip_df, column=\"ip\")</code></p>\n<hr>\n<p><b>Note:</b> when calling data queries, instead of using generic parameter\nnames like 'column' or value, you must use the parameter name\nexpected by the function. E.g. '..func(host_name=\"myhost\")',\nfunc(data=my_df, account_name=\"ian\")', etc.</p>\n<p>See the function-specific help for more details</p>\n\n"
      }
     },
     "2b1f39c7f77349dd9ef440104d5ef687": {
      "model_module": "@jupyter-widgets/controls",
      "model_module_version": "1.5.0",
      "model_name": "SliderStyleModel",
      "state": {
       "description_width": "initial"
      }
     },
     "2db956c46bbc470989813347c7fa7ad5": {
      "model_module": "@jupyter-widgets/base",
      "model_module_version": "1.2.0",
      "model_name": "LayoutModel",
      "state": {}
     },
     "2e0bdb5966674b7caeb94cd9cacadcf4": {
      "model_module": "@jupyter-widgets/controls",
      "model_module_version": "1.5.0",
      "model_name": "DescriptionStyleModel",
      "state": {
       "description_width": "initial"
      }
     },
     "2fe6f9dc63b74bb6b9ab1826b23da144": {
      "model_module": "@jupyter-widgets/base",
      "model_module_version": "1.2.0",
      "model_name": "LayoutModel",
      "state": {}
     },
     "30d3875992fa4e12b0027f689b7a5752": {
      "model_module": "@jupyter-widgets/base",
      "model_module_version": "1.2.0",
      "model_name": "LayoutModel",
      "state": {}
     },
     "337b43fcc66e4d9787c044566686a52d": {
      "model_module": "@jupyter-widgets/controls",
      "model_module_version": "1.5.0",
      "model_name": "VBoxModel",
      "state": {
       "children": [
        "IPY_MODEL_d7eb15cfb98249e88593ce28087de0f0",
        "IPY_MODEL_68b9445dc5f54d43913d76816dd26241",
        "IPY_MODEL_89e26092e22347d0ba28e139fad5e246"
       ],
       "layout": "IPY_MODEL_8c794a3291c84b0ca9c436370e1127fb"
      }
     },
     "36361b83c6924c6088a18d61eedcabca": {
      "model_module": "@jupyter-widgets/base",
      "model_module_version": "1.2.0",
      "model_name": "LayoutModel",
      "state": {
       "border": "solid gray 1px",
       "margin": "1pt",
       "padding": "5pt",
       "width": "95%"
      }
     },
     "3699567cd51a4adfbbbd947b596f6ed0": {
      "model_module": "@jupyter-widgets/controls",
      "model_module_version": "1.5.0",
      "model_name": "HTMLModel",
      "state": {
       "layout": "IPY_MODEL_729ec87b52fd441fa523aed9023fdd2d",
       "style": "IPY_MODEL_c6bb611ea26b47a8a1abf7b4168b825b"
      }
     },
     "3d75355a639c4ab6873d304efba61f03": {
      "model_module": "@jupyter-widgets/controls",
      "model_module_version": "1.5.0",
      "model_name": "DescriptionStyleModel",
      "state": {
       "description_width": ""
      }
     },
     "3d7c975d284f4762b2f9c79c16e3a341": {
      "model_module": "@jupyter-widgets/controls",
      "model_module_version": "1.5.0",
      "model_name": "ButtonModel",
      "state": {
       "description": "Copy to clipboard",
       "layout": "IPY_MODEL_f8ead243ab0c45bbb8610820c12318ba",
       "style": "IPY_MODEL_4143ae94966f4e699407fc62d8929da5"
      }
     },
     "3dbb2ee1d412494dbab05d94eb83ae83": {
      "model_module": "@jupyter-widgets/controls",
      "model_module_version": "1.5.0",
      "model_name": "HBoxModel",
      "state": {
       "children": [
        "IPY_MODEL_2298a2856a014f7ba296d39e923dba9c",
        "IPY_MODEL_c751842163f541adbd69908cfa46b37a"
       ],
       "layout": "IPY_MODEL_6c35798c9c3349529bc3c1810d56bbb1"
      }
     },
     "3dda1d6a2efb4bc7a2c2cffebb0c3f84": {
      "model_module": "@jupyter-widgets/controls",
      "model_module_version": "1.5.0",
      "model_name": "DescriptionStyleModel",
      "state": {
       "description_width": "initial"
      }
     },
     "3ffdb33704bd4392a8729c3e3a95af53": {
      "model_module": "@jupyter-widgets/base",
      "model_module_version": "1.2.0",
      "model_name": "LayoutModel",
      "state": {
       "height": "300px",
       "width": "95%"
      }
     },
     "40ee1104a3854ac7831cc020c632af97": {
      "model_module": "@jupyter-widgets/base",
      "model_module_version": "1.2.0",
      "model_name": "LayoutModel",
      "state": {}
     },
     "4143ae94966f4e699407fc62d8929da5": {
      "model_module": "@jupyter-widgets/controls",
      "model_module_version": "1.5.0",
      "model_name": "ButtonStyleModel",
      "state": {}
     },
     "41b79bb4593f40d09f5f7960e7df4d0e": {
      "model_module": "@jupyter-widgets/base",
      "model_module_version": "1.2.0",
      "model_name": "LayoutModel",
      "state": {
       "width": "80%"
      }
     },
     "43f68a26fe5d46cea1f4eae809b5145c": {
      "model_module": "@jupyter-widgets/controls",
      "model_module_version": "1.5.0",
      "model_name": "VBoxModel",
      "state": {
       "children": [
        "IPY_MODEL_e1f2be5b3ce7427aac78cb141f07f4c1",
        "IPY_MODEL_af5d4bd181054e19b68ba39126cc039c",
        "IPY_MODEL_337b43fcc66e4d9787c044566686a52d"
       ],
       "layout": "IPY_MODEL_723c785039e84a2abfc37e2cfeb95b74"
      }
     },
     "467bb9dcbcc94493b3ed29008dde9f0a": {
      "model_module": "@jupyter-widgets/controls",
      "model_module_version": "1.5.0",
      "model_name": "DescriptionStyleModel",
      "state": {
       "description_width": "initial"
      }
     },
     "48f241cdfbfd40baae7931581edab94a": {
      "model_module": "@jupyter-widgets/base",
      "model_module_version": "1.2.0",
      "model_name": "LayoutModel",
      "state": {
       "width": "50%"
      }
     },
     "49e792981cf243dfa8207ed7f03787ef": {
      "model_module": "@jupyter-widgets/controls",
      "model_module_version": "1.5.0",
      "model_name": "DescriptionStyleModel",
      "state": {
       "description_width": ""
      }
     },
     "4a39e83d580f4f55a5cc50e70a335cb8": {
      "model_module": "@jupyter-widgets/controls",
      "model_module_version": "1.5.0",
      "model_name": "ProgressStyleModel",
      "state": {
       "description_width": ""
      }
     },
     "4b9a4e2d148d4d3980d5deade605b773": {
      "model_module": "@jupyter-widgets/controls",
      "model_module_version": "1.5.0",
      "model_name": "HTMLModel",
      "state": {
       "description": "Current function:",
       "layout": "IPY_MODEL_d64d96ccebeb45288ab3b04e322db02c",
       "style": "IPY_MODEL_2e0bdb5966674b7caeb94cd9cacadcf4",
       "value": "<code>entities.Dns.ti.lookup_dns()</code>"
      }
     },
     "4f59b8ac620c463f853a7801ff9c113f": {
      "model_module": "@jupyter-widgets/controls",
      "model_module_version": "1.5.0",
      "model_name": "SliderStyleModel",
      "state": {
       "description_width": "initial"
      }
     },
     "55f70b923e964fe2951793070bfc5fa7": {
      "model_module": "@jupyter-widgets/controls",
      "model_module_version": "1.5.0",
      "model_name": "VBoxModel",
      "state": {
       "children": [
        "IPY_MODEL_eacfbf3f27b04b9b9521f35571cba10f",
        "IPY_MODEL_abf044d26b4b4886b4f744482b1f1348",
        "IPY_MODEL_947dc4e49f7d48e08a773ab7d066c140"
       ],
       "layout": "IPY_MODEL_a681c79b55814ecbb30e53b6b9368e13"
      }
     },
     "56a1fea3119040ce947c61f935c102c1": {
      "model_module": "@jupyter-widgets/base",
      "model_module_version": "1.2.0",
      "model_name": "LayoutModel",
      "state": {
       "width": "80%"
      }
     },
     "58302844581b4b85abca2629ac9d6179": {
      "model_module": "@jupyter-widgets/base",
      "model_module_version": "1.2.0",
      "model_name": "LayoutModel",
      "state": {}
     },
     "58c4dfe292634957b2c6e8080be99410": {
      "model_module": "@jupyter-widgets/base",
      "model_module_version": "1.2.0",
      "model_name": "LayoutModel",
      "state": {
       "border": "solid gray 1px",
       "margin": "1pt",
       "padding": "5pt",
       "width": "40%"
      }
     },
     "5919dfa739144a108ee2caf1fdbb0a32": {
      "model_module": "@jupyter-widgets/base",
      "model_module_version": "1.2.0",
      "model_name": "LayoutModel",
      "state": {}
     },
     "599f9df95d4d4e11a550e327e484cc50": {
      "model_module": "@jupyter-widgets/controls",
      "model_module_version": "1.5.0",
      "model_name": "HBoxModel",
      "state": {
       "children": [
        "IPY_MODEL_d0c88494701644a5b24dd04dec4092b1",
        "IPY_MODEL_e3f41b2691524387afcfa656c7e2adeb",
        "IPY_MODEL_da51e81f8f8e4d60aeb4031f59f52abb"
       ],
       "layout": "IPY_MODEL_cb1d0b84d3c24f8e9a7b426f28ab5a84"
      }
     },
     "5b1632f674ce4c9ca3a5a970f6f7dc58": {
      "model_module": "@jupyter-widgets/controls",
      "model_module_version": "1.5.0",
      "model_name": "SliderStyleModel",
      "state": {
       "description_width": "initial"
      }
     },
     "5b7ff07986054209b1f4e967489dc9eb": {
      "model_module": "@jupyter-widgets/base",
      "model_module_version": "1.2.0",
      "model_name": "LayoutModel",
      "state": {}
     },
     "5b93574c02134423ac16a43ec926ec35": {
      "model_module": "@jupyter-widgets/base",
      "model_module_version": "1.2.0",
      "model_name": "LayoutModel",
      "state": {
       "width": "50%"
      }
     },
     "5c9ebcfeff2a4d4086b83de5ea47836e": {
      "model_module": "@jupyter-widgets/base",
      "model_module_version": "1.2.0",
      "model_name": "LayoutModel",
      "state": {}
     },
     "61cd7c95aae541bc90f8385e959c3573": {
      "model_module": "@jupyter-widgets/controls",
      "model_module_version": "1.5.0",
      "model_name": "TextModel",
      "state": {
       "description": "Time (24hr)",
       "layout": "IPY_MODEL_65f04859d5a843728f9b6a7dd582ea98",
       "style": "IPY_MODEL_6e5e6d5ed8e645a9ab3352a3c9c7c530",
       "value": "21:01:40.381864"
      }
     },
     "636e48710efc45d1a15c1432ee680e0e": {
      "model_module": "@jupyter-widgets/controls",
      "model_module_version": "1.5.0",
      "model_name": "HBoxModel",
      "state": {
       "children": [
        "IPY_MODEL_de6ab6758b1244fe9fb716cbdd665e1e",
        "IPY_MODEL_61cd7c95aae541bc90f8385e959c3573"
       ],
       "layout": "IPY_MODEL_5c9ebcfeff2a4d4086b83de5ea47836e"
      }
     },
     "644be5dcbcee41a486e5d707a3ff03ed": {
      "model_module": "@jupyter-widgets/controls",
      "model_module_version": "1.5.0",
      "model_name": "VBoxModel",
      "state": {
       "children": [
        "IPY_MODEL_ce04b8271ecc4d60a6d0891294ce1aff",
        "IPY_MODEL_ba55c282d98841b7bd4ab10f042cdabe",
        "IPY_MODEL_98ac797f16da419fa9c6dac5469ce9f8"
       ],
       "layout": "IPY_MODEL_ff732aeb21fe4446b4fb8e77d0aa1e00"
      }
     },
     "65f04859d5a843728f9b6a7dd582ea98": {
      "model_module": "@jupyter-widgets/base",
      "model_module_version": "1.2.0",
      "model_name": "LayoutModel",
      "state": {}
     },
     "685ddbc3367b46ac8ed8043b4ed6ec9e": {
      "model_module": "@jupyter-widgets/base",
      "model_module_version": "1.2.0",
      "model_name": "LayoutModel",
      "state": {
       "border": "solid gray 1px",
       "margin": "1pt",
       "padding": "5pt",
       "width": "95%"
      }
     },
     "68a474a3f99c4adea6ead57f900a34af": {
      "model_module": "@jupyter-widgets/controls",
      "model_module_version": "1.5.0",
      "model_name": "DescriptionStyleModel",
      "state": {
       "description_width": ""
      }
     },
     "68b9445dc5f54d43913d76816dd26241": {
      "model_module": "@jupyter-widgets/controls",
      "model_module_version": "1.5.0",
      "model_name": "TextModel",
      "state": {
       "description": "Query start time (UTC):",
       "layout": "IPY_MODEL_7d0b2571678844cc9fce30b3dd033357",
       "style": "IPY_MODEL_c93a2abfc2414282bb510eadd07d744f",
       "value": "2021-02-15 21:01:40.381864"
      }
     },
     "6bd68d86dece4f03954872c89feeea26": {
      "model_module": "@jupyter-widgets/base",
      "model_module_version": "1.2.0",
      "model_name": "LayoutModel",
      "state": {}
     },
     "6c35798c9c3349529bc3c1810d56bbb1": {
      "model_module": "@jupyter-widgets/base",
      "model_module_version": "1.2.0",
      "model_name": "LayoutModel",
      "state": {
       "width": "100%"
      }
     },
     "6cb86b438fa246d1868f1149c888d507": {
      "model_module": "@jupyter-widgets/base",
      "model_module_version": "1.2.0",
      "model_name": "LayoutModel",
      "state": {}
     },
     "6d0d32ad2d094746b8c059dba7ef2374": {
      "model_module": "@jupyter-widgets/base",
      "model_module_version": "1.2.0",
      "model_name": "LayoutModel",
      "state": {}
     },
     "6d72412d57b444caa8c7b591f28a6ef2": {
      "model_module": "@jupyter-widgets/controls",
      "model_module_version": "1.5.0",
      "model_name": "TextModel",
      "state": {
       "description": "Query end time (UTC) :  ",
       "layout": "IPY_MODEL_ac3388fa29f443d2be39717342288eb5",
       "style": "IPY_MODEL_a00c8d5daa3a49b5bbd788ca647ad0e1",
       "value": "2021-02-15 01:42:42"
      }
     },
     "6df0585f59cf4ac487c77c4e112ddabf": {
      "model_module": "@jupyter-widgets/controls",
      "model_module_version": "1.5.0",
      "model_name": "DatePickerModel",
      "state": {
       "description": "Origin Date",
       "disabled": false,
       "layout": "IPY_MODEL_23d847a7309e41aeac0360785ccee527",
       "style": "IPY_MODEL_06c63acd263f4ad985672cf23a28cbf8",
       "value": {
        "date": 15,
        "month": 1,
        "year": 2021
       }
      }
     },
     "6dfbed97c5ff4268b27c1d74643a5fe8": {
      "model_module": "@jupyter-widgets/base",
      "model_module_version": "1.2.0",
      "model_name": "LayoutModel",
      "state": {
       "width": "80%"
      }
     },
     "6dfddcd1ae8941e2a256c7f7b6262676": {
      "model_module": "@jupyter-widgets/base",
      "model_module_version": "1.2.0",
      "model_name": "LayoutModel",
      "state": {}
     },
     "6e5e6d5ed8e645a9ab3352a3c9c7c530": {
      "model_module": "@jupyter-widgets/controls",
      "model_module_version": "1.5.0",
      "model_name": "DescriptionStyleModel",
      "state": {
       "description_width": ""
      }
     },
     "723c785039e84a2abfc37e2cfeb95b74": {
      "model_module": "@jupyter-widgets/base",
      "model_module_version": "1.2.0",
      "model_name": "LayoutModel",
      "state": {}
     },
     "729ec87b52fd441fa523aed9023fdd2d": {
      "model_module": "@jupyter-widgets/base",
      "model_module_version": "1.2.0",
      "model_name": "LayoutModel",
      "state": {}
     },
     "72d15d06b5b84b0ea1286799a84e323f": {
      "model_module": "@jupyter-widgets/controls",
      "model_module_version": "1.5.0",
      "model_name": "HTMLModel",
      "state": {
       "layout": "IPY_MODEL_92c3a1742dd2461da4a1e169a1279312",
       "style": "IPY_MODEL_0b4e4e3cb3624ae494822b1943c3c061",
       "value": " 1/3 [69:43:09&lt;139:26:18, 250989.47s/it]"
      }
     },
     "7337cd70989b47dbac0480c9817f6e6f": {
      "model_module": "@jupyter-widgets/controls",
      "model_module_version": "1.5.0",
      "model_name": "ProgressStyleModel",
      "state": {
       "description_width": ""
      }
     },
     "77c369b3009249f3bfcb2ea2a2765004": {
      "model_module": "@jupyter-widgets/base",
      "model_module_version": "1.2.0",
      "model_name": "LayoutModel",
      "state": {
       "width": "50%"
      }
     },
     "7d0b2571678844cc9fce30b3dd033357": {
      "model_module": "@jupyter-widgets/base",
      "model_module_version": "1.2.0",
      "model_name": "LayoutModel",
      "state": {
       "width": "50%"
      }
     },
     "7d90e4d394834df3a38fe76c14d82789": {
      "model_module": "@jupyter-widgets/base",
      "model_module_version": "1.2.0",
      "model_name": "LayoutModel",
      "state": {
       "width": "50%"
      }
     },
     "7df9c54b65014ca79d30e0b77ffe5c93": {
      "model_module": "@jupyter-widgets/controls",
      "model_module_version": "1.5.0",
      "model_name": "TextModel",
      "state": {
       "continuous_update": false,
       "description": "Search:",
       "layout": "IPY_MODEL_d59a055dee52499db6e166d903f2f733",
       "style": "IPY_MODEL_3dda1d6a2efb4bc7a2c2cffebb0c3f84",
       "value": "entities.Dns.util.dns_components()"
      }
     },
     "7e1e4c80e47f4cf58e53e8c0de26061b": {
      "model_module": "@jupyter-widgets/controls",
      "model_module_version": "1.5.0",
      "model_name": "SliderStyleModel",
      "state": {
       "description_width": "initial"
      }
     },
     "7f03fc99ac094ed78ed1e4f0c4d6b9bf": {
      "model_module": "@jupyter-widgets/base",
      "model_module_version": "1.2.0",
      "model_name": "LayoutModel",
      "state": {}
     },
     "7fe8a53fc622498d8ec037c677785c2a": {
      "model_module": "@jupyter-widgets/base",
      "model_module_version": "1.2.0",
      "model_name": "LayoutModel",
      "state": {}
     },
     "805367f4c96e45578a823130a12d473d": {
      "model_module": "@jupyter-widgets/controls",
      "model_module_version": "1.5.0",
      "model_name": "HTMLModel",
      "state": {
       "layout": "IPY_MODEL_7f03fc99ac094ed78ed1e4f0c4d6b9bf",
       "style": "IPY_MODEL_05fc285a2bc84ef595a20edb33da1225",
       "value": "Steps:  33%"
      }
     },
     "85eb368659e0420ca2877ba91a866036": {
      "model_module": "@jupyter-widgets/controls",
      "model_module_version": "1.5.0",
      "model_name": "DescriptionStyleModel",
      "state": {
       "description_width": ""
      }
     },
     "86748b9930ff4e73a018007048b9a627": {
      "model_module": "@jupyter-widgets/controls",
      "model_module_version": "1.5.0",
      "model_name": "DatePickerModel",
      "state": {
       "description": "Origin Date",
       "disabled": false,
       "layout": "IPY_MODEL_b7a1a56b4bed44b1ba79b476a3f67d9d",
       "style": "IPY_MODEL_f5949a45920241c98c2f8b461b5e9554",
       "value": {
        "date": 16,
        "month": 1,
        "year": 2021
       }
      }
     },
     "8714b70d1c0048e1baeef3f84eb9541a": {
      "model_module": "@jupyter-widgets/controls",
      "model_module_version": "1.5.0",
      "model_name": "SliderStyleModel",
      "state": {
       "description_width": "initial"
      }
     },
     "87a9d146ebc640098bc1651640bf73bf": {
      "model_module": "@jupyter-widgets/controls",
      "model_module_version": "1.5.0",
      "model_name": "TextModel",
      "state": {
       "description": "Query start time (UTC):",
       "layout": "IPY_MODEL_48f241cdfbfd40baae7931581edab94a",
       "style": "IPY_MODEL_bafe4904a19c437392e59bb0518f1e4c",
       "value": "2020-02-06 03:00:00"
      }
     },
     "89e26092e22347d0ba28e139fad5e246": {
      "model_module": "@jupyter-widgets/controls",
      "model_module_version": "1.5.0",
      "model_name": "TextModel",
      "state": {
       "description": "Query end time (UTC) :  ",
       "layout": "IPY_MODEL_a032980009a14828b7b2393d2f2ff21b",
       "style": "IPY_MODEL_c52236ad5347456ab8e6b0193130a3df",
       "value": "2021-02-16 21:01:40.381864"
      }
     },
     "8c794a3291c84b0ca9c436370e1127fb": {
      "model_module": "@jupyter-widgets/base",
      "model_module_version": "1.2.0",
      "model_name": "LayoutModel",
      "state": {}
     },
     "8ce3ccd39232440ba011e7382552f681": {
      "model_module": "@jupyter-widgets/controls",
      "model_module_version": "1.5.0",
      "model_name": "DescriptionStyleModel",
      "state": {
       "description_width": "initial"
      }
     },
     "8ced70cecdf4452d84f69f116b95c2bd": {
      "model_module": "@jupyter-widgets/controls",
      "model_module_version": "1.5.0",
      "model_name": "DescriptionStyleModel",
      "state": {
       "description_width": "initial"
      }
     },
     "8dc89cbf7f3043ec86ce03184873c103": {
      "model_module": "@jupyter-widgets/controls",
      "model_module_version": "1.5.0",
      "model_name": "DatePickerModel",
      "state": {
       "description": "Origin Date",
       "disabled": false,
       "layout": "IPY_MODEL_f6466cdd29a84cb098b5805168446d17",
       "style": "IPY_MODEL_9cd3f78b2999403cb7fed5447f664882",
       "value": {
        "date": 15,
        "month": 1,
        "year": 2021
       }
      }
     },
     "8e1308336acd4715bdb1d26f5d30a79f": {
      "model_module": "@jupyter-widgets/controls",
      "model_module_version": "1.5.0",
      "model_name": "HTMLModel",
      "state": {
       "layout": "IPY_MODEL_e191bfcc7b474faaaa6d16dd87bc5518",
       "style": "IPY_MODEL_3d75355a639c4ab6873d304efba61f03",
       "value": "<h4>Set time range for pivot functions.</h4>"
      }
     },
     "8e5c0228e016448e9aa70b8fd0c02b56": {
      "model_module": "@jupyter-widgets/base",
      "model_module_version": "1.2.0",
      "model_name": "LayoutModel",
      "state": {}
     },
     "8f554cf877c14275a993c418f2c2a167": {
      "model_module": "@jupyter-widgets/base",
      "model_module_version": "1.2.0",
      "model_name": "LayoutModel",
      "state": {}
     },
     "92c3a1742dd2461da4a1e169a1279312": {
      "model_module": "@jupyter-widgets/base",
      "model_module_version": "1.2.0",
      "model_name": "LayoutModel",
      "state": {}
     },
     "9341e5738c054b56bcede765e244c55a": {
      "model_module": "@jupyter-widgets/controls",
      "model_module_version": "1.5.0",
      "model_name": "HBoxModel",
      "state": {
       "children": [
        "IPY_MODEL_7df9c54b65014ca79d30e0b77ffe5c93"
       ],
       "layout": "IPY_MODEL_36361b83c6924c6088a18d61eedcabca"
      }
     },
     "947dc4e49f7d48e08a773ab7d066c140": {
      "model_module": "@jupyter-widgets/controls",
      "model_module_version": "1.5.0",
      "model_name": "TextModel",
      "state": {
       "description": "Query end time (UTC) :  ",
       "layout": "IPY_MODEL_b10bad8c75554f6799b281ab996b1a26",
       "style": "IPY_MODEL_8ce3ccd39232440ba011e7382552f681",
       "value": "2021-02-16 21:01:40.381864"
      }
     },
     "94d8d8e6cd2747b39f30d2b985c6ce48": {
      "model_module": "@jupyter-widgets/controls",
      "model_module_version": "1.5.0",
      "model_name": "DescriptionStyleModel",
      "state": {
       "description_width": ""
      }
     },
     "9869c9981dcb46f3a4ce89e8e9d4baf4": {
      "model_module": "@jupyter-widgets/base",
      "model_module_version": "1.2.0",
      "model_name": "LayoutModel",
      "state": {}
     },
     "98ac797f16da419fa9c6dac5469ce9f8": {
      "model_module": "@jupyter-widgets/controls",
      "model_module_version": "1.5.0",
      "model_name": "TextModel",
      "state": {
       "description": "Query end time (UTC) :  ",
       "layout": "IPY_MODEL_5b93574c02134423ac16a43ec926ec35",
       "style": "IPY_MODEL_ab9d4c475ddb4a61812722e0b987f91e",
       "value": "2021-02-15 00:00:00"
      }
     },
     "9cd3f78b2999403cb7fed5447f664882": {
      "model_module": "@jupyter-widgets/controls",
      "model_module_version": "1.5.0",
      "model_name": "DescriptionStyleModel",
      "state": {
       "description_width": ""
      }
     },
     "a00c8d5daa3a49b5bbd788ca647ad0e1": {
      "model_module": "@jupyter-widgets/controls",
      "model_module_version": "1.5.0",
      "model_name": "DescriptionStyleModel",
      "state": {
       "description_width": "initial"
      }
     },
     "a032980009a14828b7b2393d2f2ff21b": {
      "model_module": "@jupyter-widgets/base",
      "model_module_version": "1.2.0",
      "model_name": "LayoutModel",
      "state": {
       "width": "50%"
      }
     },
     "a0f905fb5fe74445a5db1665fb234e63": {
      "model_module": "@jupyter-widgets/controls",
      "model_module_version": "1.5.0",
      "model_name": "VBoxModel",
      "state": {
       "children": [
        "IPY_MODEL_e1ebce689eca4591be038b8f9fe37959",
        "IPY_MODEL_87a9d146ebc640098bc1651640bf73bf",
        "IPY_MODEL_02d19badff7f4791b2ca34db187b2d53"
       ],
       "layout": "IPY_MODEL_c1ab5fd98b6e428589f6f9e14c81dfd1"
      }
     },
     "a13619f0c29742b8a1c6ceae4540c276": {
      "model_module": "@jupyter-widgets/base",
      "model_module_version": "1.2.0",
      "model_name": "LayoutModel",
      "state": {}
     },
     "a288a9503f5048618f9106bdaf34d285": {
      "model_module": "@jupyter-widgets/controls",
      "model_module_version": "1.5.0",
      "model_name": "HBoxModel",
      "state": {
       "children": [
        "IPY_MODEL_805367f4c96e45578a823130a12d473d",
        "IPY_MODEL_d6f05bba5e484807bcf290d965a2899c",
        "IPY_MODEL_72d15d06b5b84b0ea1286799a84e323f"
       ],
       "layout": "IPY_MODEL_a8ae4de2c8dc47ea86d37eb8379cd5b6"
      }
     },
     "a357f7b2315b4f9d8fc2d12412ab49b1": {
      "model_module": "@jupyter-widgets/controls",
      "model_module_version": "1.5.0",
      "model_name": "IntRangeSliderModel",
      "state": {
       "_model_name": "IntRangeSliderModel",
       "_view_name": "IntRangeSliderView",
       "description": "Time Range (day):",
       "layout": "IPY_MODEL_bd754beb031e49b69a80e00e0a7dc43f",
       "max": 4,
       "min": -1496,
       "style": "IPY_MODEL_4f59b8ac620c463f853a7801ff9c113f",
       "value": [
        -374,
        0
       ]
      }
     },
     "a4b118ad6a1d41fab3c93054162a3568": {
      "model_module": "@jupyter-widgets/base",
      "model_module_version": "1.2.0",
      "model_name": "LayoutModel",
      "state": {
       "width": "95%"
      }
     },
     "a681c79b55814ecbb30e53b6b9368e13": {
      "model_module": "@jupyter-widgets/base",
      "model_module_version": "1.2.0",
      "model_name": "LayoutModel",
      "state": {}
     },
     "a76aa17243594877906a3c7b84c7c6fc": {
      "model_module": "@jupyter-widgets/controls",
      "model_module_version": "1.5.0",
      "model_name": "DescriptionStyleModel",
      "state": {
       "description_width": ""
      }
     },
     "a8ae4de2c8dc47ea86d37eb8379cd5b6": {
      "model_module": "@jupyter-widgets/base",
      "model_module_version": "1.2.0",
      "model_name": "LayoutModel",
      "state": {}
     },
     "ab9d4c475ddb4a61812722e0b987f91e": {
      "model_module": "@jupyter-widgets/controls",
      "model_module_version": "1.5.0",
      "model_name": "DescriptionStyleModel",
      "state": {
       "description_width": "initial"
      }
     },
     "abf044d26b4b4886b4f744482b1f1348": {
      "model_module": "@jupyter-widgets/controls",
      "model_module_version": "1.5.0",
      "model_name": "TextModel",
      "state": {
       "description": "Query start time (UTC):",
       "layout": "IPY_MODEL_7d90e4d394834df3a38fe76c14d82789",
       "style": "IPY_MODEL_467bb9dcbcc94493b3ed29008dde9f0a",
       "value": "2021-02-15 21:01:40.381864"
      }
     },
     "ac3388fa29f443d2be39717342288eb5": {
      "model_module": "@jupyter-widgets/base",
      "model_module_version": "1.2.0",
      "model_name": "LayoutModel",
      "state": {
       "width": "50%"
      }
     },
     "ac64ff19f59e4cf59ce999c292fce699": {
      "model_module": "@jupyter-widgets/base",
      "model_module_version": "1.2.0",
      "model_name": "LayoutModel",
      "state": {
       "border": "solid gray 1px",
       "margin": "1pt",
       "padding": "5pt",
       "width": "95%"
      }
     },
     "ae4d3ba12d2c40db9901387bb67fd406": {
      "model_module": "@jupyter-widgets/base",
      "model_module_version": "1.2.0",
      "model_name": "LayoutModel",
      "state": {
       "border": "solid gray 1px",
       "margin": "1pt",
       "padding": "5pt",
       "width": "55%"
      }
     },
     "ae82a1dc1b9f4215b74bded90cfda17a": {
      "model_module": "@jupyter-widgets/controls",
      "model_module_version": "1.5.0",
      "model_name": "DescriptionStyleModel",
      "state": {
       "description_width": ""
      }
     },
     "af5d4bd181054e19b68ba39126cc039c": {
      "model_module": "@jupyter-widgets/controls",
      "model_module_version": "1.5.0",
      "model_name": "HBoxModel",
      "state": {
       "children": [
        "IPY_MODEL_86748b9930ff4e73a018007048b9a627",
        "IPY_MODEL_fd9da223391349d7bcd7d82eb05f4115"
       ],
       "layout": "IPY_MODEL_6bd68d86dece4f03954872c89feeea26"
      }
     },
     "b10bad8c75554f6799b281ab996b1a26": {
      "model_module": "@jupyter-widgets/base",
      "model_module_version": "1.2.0",
      "model_name": "LayoutModel",
      "state": {
       "width": "50%"
      }
     },
     "b116bc0c93c44dd1937eefe211de83ac": {
      "model_module": "@jupyter-widgets/base",
      "model_module_version": "1.2.0",
      "model_name": "LayoutModel",
      "state": {
       "width": "80%"
      }
     },
     "b459c1885b0e4090a91681d74d0c5b48": {
      "model_module": "@jupyter-widgets/controls",
      "model_module_version": "1.5.0",
      "model_name": "TextModel",
      "state": {
       "description": "Query start time (UTC):",
       "layout": "IPY_MODEL_ba0282a0b4984856baa2bdaa987e5268",
       "style": "IPY_MODEL_18efd213a1af46669d2a41aaa3e4b527",
       "value": "2020-02-06 03:00:00"
      }
     },
     "b472c23942c64a83bc1d4c1a7e40eec3": {
      "model_module": "@jupyter-widgets/base",
      "model_module_version": "1.2.0",
      "model_name": "LayoutModel",
      "state": {}
     },
     "b598769ad2ef4a2eaf94870ff16085c6": {
      "model_module": "@jupyter-widgets/controls",
      "model_module_version": "1.5.0",
      "model_name": "DescriptionStyleModel",
      "state": {
       "description_width": ""
      }
     },
     "b7a1a56b4bed44b1ba79b476a3f67d9d": {
      "model_module": "@jupyter-widgets/base",
      "model_module_version": "1.2.0",
      "model_name": "LayoutModel",
      "state": {}
     },
     "b7ca9b08391040779b9530a5183e2ce5": {
      "model_module": "@jupyter-widgets/controls",
      "model_module_version": "1.5.0",
      "model_name": "HBoxModel",
      "state": {
       "children": [
        "IPY_MODEL_8dc89cbf7f3043ec86ce03184873c103",
        "IPY_MODEL_cb80375559c94a558a925d364b1120b9"
       ],
       "layout": "IPY_MODEL_58302844581b4b85abca2629ac9d6179"
      }
     },
     "b7d9ef4ff30d45d9a0da2e71fe20f24c": {
      "model_module": "@jupyter-widgets/controls",
      "model_module_version": "1.5.0",
      "model_name": "DescriptionStyleModel",
      "state": {
       "description_width": ""
      }
     },
     "b87caaceea09485c869f3bc9dcab1667": {
      "model_module": "@jupyter-widgets/controls",
      "model_module_version": "1.5.0",
      "model_name": "DescriptionStyleModel",
      "state": {
       "description_width": ""
      }
     },
     "b889764e6c794a9cb2c4a59358c3f93c": {
      "model_module": "@jupyter-widgets/base",
      "model_module_version": "1.2.0",
      "model_name": "LayoutModel",
      "state": {}
     },
     "b8cad4e831134181a4247b61be715d91": {
      "model_module": "@jupyter-widgets/base",
      "model_module_version": "1.2.0",
      "model_name": "LayoutModel",
      "state": {}
     },
     "ba0282a0b4984856baa2bdaa987e5268": {
      "model_module": "@jupyter-widgets/base",
      "model_module_version": "1.2.0",
      "model_name": "LayoutModel",
      "state": {
       "width": "50%"
      }
     },
     "ba55c282d98841b7bd4ab10f042cdabe": {
      "model_module": "@jupyter-widgets/controls",
      "model_module_version": "1.5.0",
      "model_name": "TextModel",
      "state": {
       "description": "Query start time (UTC):",
       "layout": "IPY_MODEL_fc4ba6b77c8244d49ff0d045a16072c9",
       "style": "IPY_MODEL_bdf00833d7a04572af975150e6a5bb7d",
       "value": "2021-02-01 00:00:00"
      }
     },
     "bafe4904a19c437392e59bb0518f1e4c": {
      "model_module": "@jupyter-widgets/controls",
      "model_module_version": "1.5.0",
      "model_name": "DescriptionStyleModel",
      "state": {
       "description_width": "initial"
      }
     },
     "bd754beb031e49b69a80e00e0a7dc43f": {
      "model_module": "@jupyter-widgets/base",
      "model_module_version": "1.2.0",
      "model_name": "LayoutModel",
      "state": {
       "width": "80%"
      }
     },
     "bdde0b3e50384cef92d05da36f6407de": {
      "model_module": "@jupyter-widgets/controls",
      "model_module_version": "1.5.0",
      "model_name": "VBoxModel",
      "state": {
       "children": [
        "IPY_MODEL_a357f7b2315b4f9d8fc2d12412ab49b1",
        "IPY_MODEL_b459c1885b0e4090a91681d74d0c5b48",
        "IPY_MODEL_6d72412d57b444caa8c7b591f28a6ef2"
       ],
       "layout": "IPY_MODEL_b889764e6c794a9cb2c4a59358c3f93c"
      }
     },
     "bdf00833d7a04572af975150e6a5bb7d": {
      "model_module": "@jupyter-widgets/controls",
      "model_module_version": "1.5.0",
      "model_name": "DescriptionStyleModel",
      "state": {
       "description_width": "initial"
      }
     },
     "be0bd562686c42c3bb6fdc736d6bbceb": {
      "model_module": "@jupyter-widgets/controls",
      "model_module_version": "1.5.0",
      "model_name": "HBoxModel",
      "state": {
       "children": [
        "IPY_MODEL_da2c96f01da945aeb31f42aea850d8cc",
        "IPY_MODEL_d5520d0c4ffe4bf1ae99124cee0646f0"
       ],
       "layout": "IPY_MODEL_c213eb9801b6496a8de46fddf26e2ad0"
      }
     },
     "c1607d231c6444bcae57161c9d825e32": {
      "model_module": "@jupyter-widgets/controls",
      "model_module_version": "1.5.0",
      "model_name": "HTMLModel",
      "state": {
       "layout": "IPY_MODEL_40ee1104a3854ac7831cc020c632af97",
       "style": "IPY_MODEL_c84a122edca94abea626b928e885400d",
       "value": "<b>Selected entity pivot Functions</b>"
      }
     },
     "c1ab5fd98b6e428589f6f9e14c81dfd1": {
      "model_module": "@jupyter-widgets/base",
      "model_module_version": "1.2.0",
      "model_name": "LayoutModel",
      "state": {}
     },
     "c1eebed1a94d4276a3c0d5eb4121e3a5": {
      "model_module": "@jupyter-widgets/base",
      "model_module_version": "1.2.0",
      "model_name": "LayoutModel",
      "state": {}
     },
     "c213eb9801b6496a8de46fddf26e2ad0": {
      "model_module": "@jupyter-widgets/base",
      "model_module_version": "1.2.0",
      "model_name": "LayoutModel",
      "state": {}
     },
     "c440bc4cc07c40848ec4e7060d55b37b": {
      "model_module": "@jupyter-widgets/base",
      "model_module_version": "1.2.0",
      "model_name": "LayoutModel",
      "state": {}
     },
     "c52236ad5347456ab8e6b0193130a3df": {
      "model_module": "@jupyter-widgets/controls",
      "model_module_version": "1.5.0",
      "model_name": "DescriptionStyleModel",
      "state": {
       "description_width": "initial"
      }
     },
     "c6bb611ea26b47a8a1abf7b4168b825b": {
      "model_module": "@jupyter-widgets/controls",
      "model_module_version": "1.5.0",
      "model_name": "DescriptionStyleModel",
      "state": {
       "description_width": ""
      }
     },
     "c6d1131ef5894935a541de26c96e9a25": {
      "model_module": "@jupyter-widgets/controls",
      "model_module_version": "1.5.0",
      "model_name": "SelectModel",
      "state": {
       "_options_labels": [
        "AzureSentinel.ThreatIntelligenceIndicator_list_indicators",
        "AzureSentinel.ThreatIntelligenceIndicator_list_indicators_by_domain",
        "AzureSentinel.ThreatIntelligenceIndicator_list_indicators_by_email",
        "AzureSentinel.ThreatIntelligenceIndicator_list_indicators_by_filepath",
        "AzureSentinel.ThreatIntelligenceIndicator_list_indicators_by_hash",
        "AzureSentinel.ThreatIntelligenceIndicator_list_indicators_by_ip",
        "AzureSentinel.ThreatIntelligenceIndicator_list_indicators_by_url",
        "ti.lookup_dns",
        "ti.lookup_dns_OPR",
        "ti.lookup_dns_OTX",
        "ti.lookup_dns_VirusTotal",
        "ti.lookup_dns_XForce",
        "util.dns_components",
        "util.dns_in_abuse_list",
        "util.dns_is_resolvable",
        "util.dns_resolve",
        "util.dns_validate_tld"
       ],
       "description": "pivot function",
       "index": 7,
       "layout": "IPY_MODEL_3ffdb33704bd4392a8729c3e3a95af53",
       "style": "IPY_MODEL_b87caaceea09485c869f3bc9dcab1667"
      }
     },
     "c704ae9d3ded49b8a22b49f7cb4e0dbf": {
      "model_module": "@jupyter-widgets/controls",
      "model_module_version": "1.5.0",
      "model_name": "DescriptionStyleModel",
      "state": {
       "description_width": ""
      }
     },
     "c751842163f541adbd69908cfa46b37a": {
      "model_module": "@jupyter-widgets/controls",
      "model_module_version": "1.5.0",
      "model_name": "VBoxModel",
      "state": {
       "children": [
        "IPY_MODEL_c1607d231c6444bcae57161c9d825e32",
        "IPY_MODEL_c6d1131ef5894935a541de26c96e9a25"
       ],
       "layout": "IPY_MODEL_ae4d3ba12d2c40db9901387bb67fd406"
      }
     },
     "c84a122edca94abea626b928e885400d": {
      "model_module": "@jupyter-widgets/controls",
      "model_module_version": "1.5.0",
      "model_name": "DescriptionStyleModel",
      "state": {
       "description_width": ""
      }
     },
     "c93a2abfc2414282bb510eadd07d744f": {
      "model_module": "@jupyter-widgets/controls",
      "model_module_version": "1.5.0",
      "model_name": "DescriptionStyleModel",
      "state": {
       "description_width": "initial"
      }
     },
     "cb1d0b84d3c24f8e9a7b426f28ab5a84": {
      "model_module": "@jupyter-widgets/base",
      "model_module_version": "1.2.0",
      "model_name": "LayoutModel",
      "state": {}
     },
     "cb4122a84205455fb77552dbeaedaccf": {
      "model_module": "@jupyter-widgets/controls",
      "model_module_version": "1.5.0",
      "model_name": "VBoxModel",
      "state": {
       "children": [
        "IPY_MODEL_8e1308336acd4715bdb1d26f5d30a79f",
        "IPY_MODEL_636e48710efc45d1a15c1432ee680e0e",
        "IPY_MODEL_55f70b923e964fe2951793070bfc5fa7"
       ],
       "layout": "IPY_MODEL_5b7ff07986054209b1f4e967489dc9eb"
      }
     },
     "cb71c79a1b284d2bb56e78167c2fd388": {
      "model_module": "@jupyter-widgets/base",
      "model_module_version": "1.2.0",
      "model_name": "LayoutModel",
      "state": {}
     },
     "cb80375559c94a558a925d364b1120b9": {
      "model_module": "@jupyter-widgets/controls",
      "model_module_version": "1.5.0",
      "model_name": "TextModel",
      "state": {
       "description": "Time (24hr)",
       "layout": "IPY_MODEL_05166053ac894a8cbe67724ffe20bb8b",
       "style": "IPY_MODEL_94d8d8e6cd2747b39f30d2b985c6ce48",
       "value": "01:42:42"
      }
     },
     "ce04b8271ecc4d60a6d0891294ce1aff": {
      "model_module": "@jupyter-widgets/controls",
      "model_module_version": "1.5.0",
      "model_name": "IntRangeSliderModel",
      "state": {
       "_model_name": "IntRangeSliderModel",
       "_view_name": "IntRangeSliderView",
       "description": "Time Range (day):",
       "layout": "IPY_MODEL_41b79bb4593f40d09f5f7960e7df4d0e",
       "max": 4,
       "min": -56,
       "style": "IPY_MODEL_7e1e4c80e47f4cf58e53e8c0de26061b",
       "value": [
        -14,
        0
       ]
      }
     },
     "d0c88494701644a5b24dd04dec4092b1": {
      "model_module": "@jupyter-widgets/controls",
      "model_module_version": "1.5.0",
      "model_name": "HTMLModel",
      "state": {
       "layout": "IPY_MODEL_c440bc4cc07c40848ec4e7060d55b37b",
       "style": "IPY_MODEL_1c42a43a55774b44adce1f52270ad72b",
       "value": "Steps:  33%"
      }
     },
     "d1422cda0fd24a90927df7f9c0735f44": {
      "model_module": "@jupyter-widgets/controls",
      "model_module_version": "1.5.0",
      "model_name": "VBoxModel",
      "state": {
       "children": [
        "IPY_MODEL_1bbb6ce54c614f76835d92bbef56d3a1",
        "IPY_MODEL_b7ca9b08391040779b9530a5183e2ce5",
        "IPY_MODEL_bdde0b3e50384cef92d05da36f6407de"
       ],
       "layout": "IPY_MODEL_6cb86b438fa246d1868f1149c888d507"
      }
     },
     "d3bf798757034278bbf187cad2662705": {
      "model_module": "@jupyter-widgets/base",
      "model_module_version": "1.2.0",
      "model_name": "LayoutModel",
      "state": {}
     },
     "d4095d9a84384263b6f2c0b4272952cf": {
      "model_module": "@jupyter-widgets/controls",
      "model_module_version": "1.5.0",
      "model_name": "VBoxModel",
      "state": {
       "children": [
        "IPY_MODEL_00a7fa318b254abea821e32ec8264451",
        "IPY_MODEL_0f6e28b1d0ae41b78e502128b5f58b31",
        "IPY_MODEL_a0f905fb5fe74445a5db1665fb234e63"
       ],
       "layout": "IPY_MODEL_05b8045c272247c4b1acc5db623eb6cc"
      }
     },
     "d5520d0c4ffe4bf1ae99124cee0646f0": {
      "model_module": "@jupyter-widgets/controls",
      "model_module_version": "1.5.0",
      "model_name": "TextModel",
      "state": {
       "description": "Time (24hr)",
       "layout": "IPY_MODEL_8f554cf877c14275a993c418f2c2a167",
       "style": "IPY_MODEL_c704ae9d3ded49b8a22b49f7cb4e0dbf",
       "value": "00:00:00"
      }
     },
     "d59a055dee52499db6e166d903f2f733": {
      "model_module": "@jupyter-widgets/base",
      "model_module_version": "1.2.0",
      "model_name": "LayoutModel",
      "state": {
       "width": "95%"
      }
     },
     "d64d96ccebeb45288ab3b04e322db02c": {
      "model_module": "@jupyter-widgets/base",
      "model_module_version": "1.2.0",
      "model_name": "LayoutModel",
      "state": {}
     },
     "d6782d1c15ce41ad89131dce148d7b1b": {
      "model_module": "@jupyter-widgets/controls",
      "model_module_version": "1.5.0",
      "model_name": "DescriptionStyleModel",
      "state": {
       "description_width": ""
      }
     },
     "d6f05bba5e484807bcf290d965a2899c": {
      "model_module": "@jupyter-widgets/controls",
      "model_module_version": "1.5.0",
      "model_name": "FloatProgressModel",
      "state": {
       "bar_style": "danger",
       "layout": "IPY_MODEL_9869c9981dcb46f3a4ce89e8e9d4baf4",
       "max": 3,
       "style": "IPY_MODEL_7337cd70989b47dbac0480c9817f6e6f",
       "value": 1
      }
     },
     "d74b29f27e234cc8941002860dbcae96": {
      "model_module": "@jupyter-widgets/controls",
      "model_module_version": "1.5.0",
      "model_name": "DescriptionStyleModel",
      "state": {
       "description_width": ""
      }
     },
     "d7eb15cfb98249e88593ce28087de0f0": {
      "model_module": "@jupyter-widgets/controls",
      "model_module_version": "1.5.0",
      "model_name": "IntRangeSliderModel",
      "state": {
       "_model_name": "IntRangeSliderModel",
       "_view_name": "IntRangeSliderView",
       "description": "Time Range (hour):",
       "layout": "IPY_MODEL_6dfbed97c5ff4268b27c1d74643a5fe8",
       "max": 4,
       "min": -96,
       "style": "IPY_MODEL_8714b70d1c0048e1baeef3f84eb9541a",
       "value": [
        -24,
        0
       ]
      }
     },
     "d9a5329c5b6542688f19573bd9d4f1bc": {
      "model_module": "@jupyter-widgets/controls",
      "model_module_version": "1.5.0",
      "model_name": "DescriptionStyleModel",
      "state": {
       "description_width": ""
      }
     },
     "da2c96f01da945aeb31f42aea850d8cc": {
      "model_module": "@jupyter-widgets/controls",
      "model_module_version": "1.5.0",
      "model_name": "DatePickerModel",
      "state": {
       "description": "Origin Date",
       "disabled": false,
       "layout": "IPY_MODEL_6d0d32ad2d094746b8c059dba7ef2374",
       "style": "IPY_MODEL_49e792981cf243dfa8207ed7f03787ef",
       "value": {
        "date": 15,
        "month": 1,
        "year": 2021
       }
      }
     },
     "da327f7be9aa4bf68bb776d6b419da51": {
      "model_module": "@jupyter-widgets/controls",
      "model_module_version": "1.5.0",
      "model_name": "DescriptionStyleModel",
      "state": {
       "description_width": ""
      }
     },
     "da51e81f8f8e4d60aeb4031f59f52abb": {
      "model_module": "@jupyter-widgets/controls",
      "model_module_version": "1.5.0",
      "model_name": "HTMLModel",
      "state": {
       "layout": "IPY_MODEL_d3bf798757034278bbf187cad2662705",
       "style": "IPY_MODEL_e53df9e7e5d947d38739f132d13fbcb3",
       "value": " 1/3 [69:41:45&lt;139:23:30, 250905.17s/it]"
      }
     },
     "dac7a33bdd344d339c98afceb2d482b0": {
      "model_module": "@jupyter-widgets/controls",
      "model_module_version": "1.5.0",
      "model_name": "VBoxModel",
      "state": {
       "children": [
        "IPY_MODEL_042c095c8d53484ba4f82c76db6e73ec",
        "IPY_MODEL_be0bd562686c42c3bb6fdc736d6bbceb",
        "IPY_MODEL_644be5dcbcee41a486e5d707a3ff03ed"
       ],
       "layout": "IPY_MODEL_6dfddcd1ae8941e2a256c7f7b6262676"
      }
     },
     "de6ab6758b1244fe9fb716cbdd665e1e": {
      "model_module": "@jupyter-widgets/controls",
      "model_module_version": "1.5.0",
      "model_name": "DatePickerModel",
      "state": {
       "description": "Origin Date",
       "disabled": false,
       "layout": "IPY_MODEL_e35f427540b34ecba5022dd416bc97d5",
       "style": "IPY_MODEL_a76aa17243594877906a3c7b84c7c6fc",
       "value": {
        "date": 16,
        "month": 1,
        "year": 2021
       }
      }
     },
     "e191bfcc7b474faaaa6d16dd87bc5518": {
      "model_module": "@jupyter-widgets/base",
      "model_module_version": "1.2.0",
      "model_name": "LayoutModel",
      "state": {}
     },
     "e1ebce689eca4591be038b8f9fe37959": {
      "model_module": "@jupyter-widgets/controls",
      "model_module_version": "1.5.0",
      "model_name": "IntRangeSliderModel",
      "state": {
       "_model_name": "IntRangeSliderModel",
       "_view_name": "IntRangeSliderView",
       "description": "Time Range (day):",
       "layout": "IPY_MODEL_56a1fea3119040ce947c61f935c102c1",
       "max": 4,
       "min": -1496,
       "style": "IPY_MODEL_2b1f39c7f77349dd9ef440104d5ef687",
       "value": [
        -374,
        0
       ]
      }
     },
     "e1f2be5b3ce7427aac78cb141f07f4c1": {
      "model_module": "@jupyter-widgets/controls",
      "model_module_version": "1.5.0",
      "model_name": "HTMLModel",
      "state": {
       "layout": "IPY_MODEL_cb71c79a1b284d2bb56e78167c2fd388",
       "style": "IPY_MODEL_b7d9ef4ff30d45d9a0da2e71fe20f24c",
       "value": "<h4>Set time range for pivot functions.</h4>"
      }
     },
     "e23a69adf33f4c20b0b9fd523b36679e": {
      "model_module": "@jupyter-widgets/controls",
      "model_module_version": "1.5.0",
      "model_name": "HTMLModel",
      "state": {
       "layout": "IPY_MODEL_8e5c0228e016448e9aa70b8fd0c02b56",
       "style": "IPY_MODEL_b598769ad2ef4a2eaf94870ff16085c6",
       "value": "<b>Entities</b>"
      }
     },
     "e35f427540b34ecba5022dd416bc97d5": {
      "model_module": "@jupyter-widgets/base",
      "model_module_version": "1.2.0",
      "model_name": "LayoutModel",
      "state": {}
     },
     "e3f41b2691524387afcfa656c7e2adeb": {
      "model_module": "@jupyter-widgets/controls",
      "model_module_version": "1.5.0",
      "model_name": "FloatProgressModel",
      "state": {
       "bar_style": "danger",
       "layout": "IPY_MODEL_30d3875992fa4e12b0027f689b7a5752",
       "max": 3,
       "style": "IPY_MODEL_4a39e83d580f4f55a5cc50e70a335cb8",
       "value": 1
      }
     },
     "e4edbfa0a81c49ffb37d1d7640898cc4": {
      "model_module": "@jupyter-widgets/controls",
      "model_module_version": "1.5.0",
      "model_name": "TextModel",
      "state": {
       "description": "Time (24hr)",
       "layout": "IPY_MODEL_7fe8a53fc622498d8ec037c677785c2a",
       "style": "IPY_MODEL_da327f7be9aa4bf68bb776d6b419da51",
       "value": "01:42:42"
      }
     },
     "e53df9e7e5d947d38739f132d13fbcb3": {
      "model_module": "@jupyter-widgets/controls",
      "model_module_version": "1.5.0",
      "model_name": "DescriptionStyleModel",
      "state": {
       "description_width": ""
      }
     },
     "e7cc3f0740574d4a8f7c2d416e33ecf2": {
      "model_module": "@jupyter-widgets/base",
      "model_module_version": "1.2.0",
      "model_name": "LayoutModel",
      "state": {
       "height": "300px",
       "width": "70%"
      }
     },
     "eacfbf3f27b04b9b9521f35571cba10f": {
      "model_module": "@jupyter-widgets/controls",
      "model_module_version": "1.5.0",
      "model_name": "IntRangeSliderModel",
      "state": {
       "_model_name": "IntRangeSliderModel",
       "_view_name": "IntRangeSliderView",
       "description": "Time Range (day):",
       "layout": "IPY_MODEL_b116bc0c93c44dd1937eefe211de83ac",
       "max": 4,
       "min": -4,
       "style": "IPY_MODEL_5b1632f674ce4c9ca3a5a970f6f7dc58",
       "value": [
        -1,
        0
       ]
      }
     },
     "efe781f1b0bf4962b43fd758471fee0d": {
      "model_module": "@jupyter-widgets/controls",
      "model_module_version": "1.5.0",
      "model_name": "HBoxModel",
      "state": {
       "children": [
        "IPY_MODEL_4b9a4e2d148d4d3980d5deade605b773",
        "IPY_MODEL_3d7c975d284f4762b2f9c79c16e3a341"
       ],
       "layout": "IPY_MODEL_685ddbc3367b46ac8ed8043b4ed6ec9e"
      }
     },
     "f5949a45920241c98c2f8b461b5e9554": {
      "model_module": "@jupyter-widgets/controls",
      "model_module_version": "1.5.0",
      "model_name": "DescriptionStyleModel",
      "state": {
       "description_width": ""
      }
     },
     "f6466cdd29a84cb098b5805168446d17": {
      "model_module": "@jupyter-widgets/base",
      "model_module_version": "1.2.0",
      "model_name": "LayoutModel",
      "state": {}
     },
     "f8ead243ab0c45bbb8610820c12318ba": {
      "model_module": "@jupyter-widgets/base",
      "model_module_version": "1.2.0",
      "model_name": "LayoutModel",
      "state": {}
     },
     "f97ec070dac841b38907a22865060f3e": {
      "model_module": "@jupyter-widgets/controls",
      "model_module_version": "1.5.0",
      "model_name": "DescriptionStyleModel",
      "state": {
       "description_width": ""
      }
     },
     "f9d74d6c32a34c64803d8edbab1e020c": {
      "model_module": "@jupyter-widgets/controls",
      "model_module_version": "1.5.0",
      "model_name": "HTMLModel",
      "state": {
       "layout": "IPY_MODEL_a13619f0c29742b8a1c6ceae4540c276",
       "style": "IPY_MODEL_ae82a1dc1b9f4215b74bded90cfda17a",
       "value": "<i>Note: use generic help and parameters listed there for most common use of pivot functions</i><br><br><b>Dns.ti.lookup_dns</b><br><br>&nbsp;&nbsp;&nbsp;&nbsp;&nbsp;&nbsp;&nbsp;&nbsp;Lookup&nbsp;a&nbsp;collection&nbsp;of&nbsp;IoCs.<br><br>&nbsp;&nbsp;&nbsp;&nbsp;&nbsp;&nbsp;&nbsp;&nbsp;Parameters<br>&nbsp;&nbsp;&nbsp;&nbsp;&nbsp;&nbsp;&nbsp;&nbsp;----------<br>&nbsp;&nbsp;&nbsp;&nbsp;&nbsp;&nbsp;&nbsp;&nbsp;data&nbsp;:&nbsp;Union[pd.DataFrame,&nbsp;Mapping[str,&nbsp;str],&nbsp;Iterable[str]]<br>&nbsp;&nbsp;&nbsp;&nbsp;&nbsp;&nbsp;&nbsp;&nbsp;&nbsp;&nbsp;&nbsp;&nbsp;Data&nbsp;input&nbsp;in&nbsp;one&nbsp;of&nbsp;three&nbsp;formats:<br>&nbsp;&nbsp;&nbsp;&nbsp;&nbsp;&nbsp;&nbsp;&nbsp;&nbsp;&nbsp;&nbsp;&nbsp;1.&nbsp;Pandas&nbsp;dataframe&nbsp;(you&nbsp;must&nbsp;supply&nbsp;the&nbsp;column&nbsp;name&nbsp;in<br>&nbsp;&nbsp;&nbsp;&nbsp;&nbsp;&nbsp;&nbsp;&nbsp;&nbsp;&nbsp;&nbsp;&nbsp;`obs_col`&nbsp;parameter)<br>&nbsp;&nbsp;&nbsp;&nbsp;&nbsp;&nbsp;&nbsp;&nbsp;&nbsp;&nbsp;&nbsp;&nbsp;2.&nbsp;Mapping&nbsp;(e.g.&nbsp;a&nbsp;dict)&nbsp;of&nbsp;[observable,&nbsp;IoCType]<br>&nbsp;&nbsp;&nbsp;&nbsp;&nbsp;&nbsp;&nbsp;&nbsp;&nbsp;&nbsp;&nbsp;&nbsp;3.&nbsp;Iterable&nbsp;of&nbsp;observables&nbsp;-&nbsp;IoCTypes&nbsp;will&nbsp;be&nbsp;inferred<br>&nbsp;&nbsp;&nbsp;&nbsp;&nbsp;&nbsp;&nbsp;&nbsp;obs_col&nbsp;:&nbsp;str,&nbsp;optional<br>&nbsp;&nbsp;&nbsp;&nbsp;&nbsp;&nbsp;&nbsp;&nbsp;&nbsp;&nbsp;&nbsp;&nbsp;DataFrame&nbsp;column&nbsp;to&nbsp;use&nbsp;for&nbsp;observables,&nbsp;by&nbsp;default&nbsp;None<br>&nbsp;&nbsp;&nbsp;&nbsp;&nbsp;&nbsp;&nbsp;&nbsp;ioc_type_col&nbsp;:&nbsp;str,&nbsp;optional<br>&nbsp;&nbsp;&nbsp;&nbsp;&nbsp;&nbsp;&nbsp;&nbsp;&nbsp;&nbsp;&nbsp;&nbsp;DataFrame&nbsp;column&nbsp;to&nbsp;use&nbsp;for&nbsp;IoCTypes,&nbsp;by&nbsp;default&nbsp;None<br>&nbsp;&nbsp;&nbsp;&nbsp;&nbsp;&nbsp;&nbsp;&nbsp;ioc_query_type:&nbsp;str,&nbsp;optional<br>&nbsp;&nbsp;&nbsp;&nbsp;&nbsp;&nbsp;&nbsp;&nbsp;&nbsp;&nbsp;&nbsp;&nbsp;The&nbsp;ioc&nbsp;query&nbsp;type&nbsp;(e.g.&nbsp;rep,&nbsp;info,&nbsp;malware)<br>&nbsp;&nbsp;&nbsp;&nbsp;&nbsp;&nbsp;&nbsp;&nbsp;providers:&nbsp;List[str]<br>&nbsp;&nbsp;&nbsp;&nbsp;&nbsp;&nbsp;&nbsp;&nbsp;&nbsp;&nbsp;&nbsp;&nbsp;Explicit&nbsp;list&nbsp;of&nbsp;providers&nbsp;to&nbsp;use<br>&nbsp;&nbsp;&nbsp;&nbsp;&nbsp;&nbsp;&nbsp;&nbsp;prov_scope&nbsp;:&nbsp;str,&nbsp;optional<br>&nbsp;&nbsp;&nbsp;&nbsp;&nbsp;&nbsp;&nbsp;&nbsp;&nbsp;&nbsp;&nbsp;&nbsp;Use&nbsp;\"primary\",&nbsp;\"secondary\"&nbsp;or&nbsp;\"all\"&nbsp;providers,&nbsp;by&nbsp;default&nbsp;\"primary\"<br>&nbsp;&nbsp;&nbsp;&nbsp;&nbsp;&nbsp;&nbsp;&nbsp;kwargs&nbsp;:<br>&nbsp;&nbsp;&nbsp;&nbsp;&nbsp;&nbsp;&nbsp;&nbsp;&nbsp;&nbsp;&nbsp;&nbsp;Additional&nbsp;arguments&nbsp;passed&nbsp;to&nbsp;the&nbsp;underlying&nbsp;provider(s)<br><br>&nbsp;&nbsp;&nbsp;&nbsp;&nbsp;&nbsp;&nbsp;&nbsp;Returns<br>&nbsp;&nbsp;&nbsp;&nbsp;&nbsp;&nbsp;&nbsp;&nbsp;-------<br>&nbsp;&nbsp;&nbsp;&nbsp;&nbsp;&nbsp;&nbsp;&nbsp;pd.DataFrame<br>&nbsp;&nbsp;&nbsp;&nbsp;&nbsp;&nbsp;&nbsp;&nbsp;&nbsp;&nbsp;&nbsp;&nbsp;DataFrame&nbsp;of&nbsp;results<br><br>&nbsp;&nbsp;&nbsp;&nbsp;&nbsp;&nbsp;&nbsp;&nbsp;"
      }
     },
     "fb734e578c724a80886e36bcd5458a51": {
      "model_module": "@jupyter-widgets/controls",
      "model_module_version": "1.5.0",
      "model_name": "AccordionModel",
      "state": {
       "_titles": {
        "0": "Generic Pivot function help",
        "1": "Function-specific help",
        "2": "Search results (0)"
       },
       "children": [
        "IPY_MODEL_2a2c5a7f55ce46cdb168e5c13bc0d209",
        "IPY_MODEL_f9d74d6c32a34c64803d8edbab1e020c",
        "IPY_MODEL_3699567cd51a4adfbbbd947b596f6ed0"
       ],
       "layout": "IPY_MODEL_ac64ff19f59e4cf59ce999c292fce699",
       "selected_index": 1
      }
     },
     "fc4ba6b77c8244d49ff0d045a16072c9": {
      "model_module": "@jupyter-widgets/base",
      "model_module_version": "1.2.0",
      "model_name": "LayoutModel",
      "state": {
       "width": "50%"
      }
     },
     "fd9da223391349d7bcd7d82eb05f4115": {
      "model_module": "@jupyter-widgets/controls",
      "model_module_version": "1.5.0",
      "model_name": "TextModel",
      "state": {
       "description": "Time (24hr)",
       "layout": "IPY_MODEL_5919dfa739144a108ee2caf1fdbb0a32",
       "style": "IPY_MODEL_f97ec070dac841b38907a22865060f3e",
       "value": "21:01:40.381864"
      }
     },
     "ff732aeb21fe4446b4fb8e77d0aa1e00": {
      "model_module": "@jupyter-widgets/base",
      "model_module_version": "1.2.0",
      "model_name": "LayoutModel",
      "state": {}
     }
    },
    "version_major": 2,
    "version_minor": 0
   }
  }
 },
 "nbformat": 4,
 "nbformat_minor": 4
}
