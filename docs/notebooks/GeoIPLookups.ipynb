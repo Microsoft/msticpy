{
 "cells": [
  {
   "cell_type": "markdown",
   "metadata": {},
   "source": [
    "# Title: msticpy - GeoIP Lookup\n",
    "\n",
    "## Introduction\n",
    "This module contains two classes that allow you to look up the Geolocation of IP Addresses.\n",
    "\n",
    "### MaxMind GeoIPLite\n",
    "This product includes GeoLite2 data created by MaxMind, available from\n",
    "<a href=\"https://www.maxmind.com\">https://www.maxmind.com</a>.\n",
    "\n",
    "This uses a local database which gives very fast lookups but you need to download updates regularly. Maxmind offers a free tier of this database, updated monthly. For greater accuracy and more detailed information they have varying levels of paid service. Please check out their site for more details.\n",
    "\n",
    "To install Maxmind GeoIP library and database\n",
    "```\n",
    "!pip install maxminddb_geolite2```\n",
    "or\n",
    "```\n",
    "!pip install maxminddb_geolite2 --user```\n",
    "\n",
    "To uppdate the package and database:\n",
    "```\n",
    "!pip install maxminddb_geolite2 --upgrade [--user]```\n",
    "\n",
    "### IPStack\n",
    "This library uses services provided by ipstack.\n",
    "<a href=\"https://ipstack.com\">https://ipstack.com</a>\n",
    "\n",
    "IPStack is an online service and also offers a free tier of their service. Again, the paid tiers offer greater accuracy, more detailed information and higher throughput. Please check out their site for more details.\n",
    "\n"
   ]
  },
  {
   "cell_type": "markdown",
   "metadata": {},
   "source": [
    "<a id='contents'></a>\n",
    "## Table of Contents\n",
    "- [Maxmind GeoIP Lookup](#geoip_lookups)\n",
    "- [IPStack GeoIP Lookup](#ipstack_lookups)\n",
    "- [Dataframe input](#dataframe_input)\n",
    "- [Creating your own GeoIP Class](#custom_lookup)\n",
    "- [Calculating Geographical Distances](#calc_distance)"
   ]
  },
  {
   "cell_type": "code",
   "execution_count": 3,
   "metadata": {
    "scrolled": true
   },
   "outputs": [
    {
     "data": {
      "text/html": [
       "\n",
       "This product includes GeoLite2 data created by MaxMind, available from\n",
       "<a href=\"https://www.maxmind.com\">https://www.maxmind.com</a>.\n"
      ],
      "text/plain": [
       "<IPython.core.display.HTML object>"
      ]
     },
     "metadata": {},
     "output_type": "display_data"
    },
    {
     "data": {
      "text/html": [
       "\n",
       "This library uses services provided by ipstack.\n",
       "<a href=\"https://ipstack.com\">https://ipstack.com</a>"
      ],
      "text/plain": [
       "<IPython.core.display.HTML object>"
      ]
     },
     "metadata": {},
     "output_type": "display_data"
    }
   ],
   "source": [
    "# Imports\n",
    "import sys\n",
    "MIN_REQ_PYTHON = (3,6)\n",
    "if sys.version_info < MIN_REQ_PYTHON:\n",
    "    print('Check the Kernel->Change Kernel menu and ensure that Python 3.6')\n",
    "    print('or later is selected as the active kernel.')\n",
    "    sys.exit(\"Python %s.%s or later is required.\\n\" % MIN_REQ_PYTHON)\n",
    "\n",
    "\n",
    "from IPython.display import display\n",
    "import pandas as pd\n",
    "\n",
    "import msticpy.sectools as sectools\n",
    "import msticpy.nbtools as mas\n",
    "from msticpy.nbtools.entityschema import IpAddress, GeoLocation\n",
    "from msticpy.sectools.geoip import GeoLiteLookup, IPStackLookup"
   ]
  },
  {
   "cell_type": "markdown",
   "metadata": {},
   "source": [
    "<a id='geoip_lookups'></a>[Contents](#contents)\n",
    "## Maxmind GeoIP Lite Loopup Class\n",
    "Signature:\n",
    "```\n",
    "iplocation.lookup_ip(ip_address: str = None, \n",
    "                     ip_addr_list: collections.abc.Iterable = None,\n",
    "                     ip_entity: msticpy.nbtools.entityschema.IpAddress = None)\n",
    "Docstring:\n",
    "Lookup IP location from IPStack web service.\n",
    "\n",
    "Keyword Arguments:\n",
    "    ip_address {str} -- a single address to look up (default: {None})\n",
    "    ip_addr_list {Iterable} -- a collection of addresses to lookup (default: {None})\n",
    "    ip_entity {IpAddress} -- an IpAddress entity\n",
    "\n",
    "Returns:\n",
    "    tuple(list{dict}, list{entity}) -- returns raw geolocation results and\n",
    "        same results as IP/Geolocation entities\n",
    "```"
   ]
  },
  {
   "cell_type": "code",
   "execution_count": 12,
   "metadata": {},
   "outputs": [
    {
     "name": "stdout",
     "output_type": "stream",
     "text": [
      "Raw result\n"
     ]
    },
    {
     "data": {
      "text/plain": [
       "[{'continent': {'code': 'EU',\n",
       "   'geoname_id': 6255148,\n",
       "   'names': {'de': 'Europa',\n",
       "    'en': 'Europe',\n",
       "    'es': 'Europa',\n",
       "    'fr': 'Europe',\n",
       "    'ja': 'ヨーロッパ',\n",
       "    'pt-BR': 'Europa',\n",
       "    'ru': 'Европа',\n",
       "    'zh-CN': '欧洲'}},\n",
       "  'country': {'geoname_id': 2017370,\n",
       "   'iso_code': 'RU',\n",
       "   'names': {'de': 'Russland',\n",
       "    'en': 'Russia',\n",
       "    'es': 'Rusia',\n",
       "    'fr': 'Russie',\n",
       "    'ja': 'ロシア',\n",
       "    'pt-BR': 'Rússia',\n",
       "    'ru': 'Россия',\n",
       "    'zh-CN': '俄罗斯'}},\n",
       "  'location': {'accuracy_radius': 1000,\n",
       "   'latitude': 55.7386,\n",
       "   'longitude': 37.6068},\n",
       "  'registered_country': {'geoname_id': 2017370,\n",
       "   'iso_code': 'RU',\n",
       "   'names': {'de': 'Russland',\n",
       "    'en': 'Russia',\n",
       "    'es': 'Rusia',\n",
       "    'fr': 'Russie',\n",
       "    'ja': 'ロシア',\n",
       "    'pt-BR': 'Rússia',\n",
       "    'ru': 'Россия',\n",
       "    'zh-CN': '俄罗斯'}}}]"
      ]
     },
     "metadata": {},
     "output_type": "display_data"
    },
    {
     "name": "stdout",
     "output_type": "stream",
     "text": [
      "IP Address Entity\n"
     ]
    },
    {
     "data": {
      "text/plain": [
       "{\"Address\": \"90.156.201.97\", \"Location\": {\"CountryCode\": \"RU\", \"CountryName\": \"Russia\", \"Longitude\": 37.6068, \"Latitude\": 55.7386, \"Type\": \"geolocation\"}, \"Type\": \"ipaddress\"}"
      ]
     },
     "metadata": {},
     "output_type": "display_data"
    }
   ],
   "source": [
    "iplocation = GeoLiteLookup()\n",
    "loc_result, ip_entity = iplocation.lookup_ip(ip_address='90.156.201.97')\n",
    "print('Raw result')\n",
    "display(loc_result)\n",
    "\n",
    "print('IP Address Entity')\n",
    "display(ip_entity[0])"
   ]
  },
  {
   "cell_type": "code",
   "execution_count": 7,
   "metadata": {},
   "outputs": [
    {
     "name": "stdout",
     "output_type": "stream",
     "text": [
      "['2a04:4e42:400::223', '2a04:4e42:200::223', '2a04:4e42:600::223', '2a04:4e42::223', '151.101.64.223', '151.101.0.223', '151.101.192.223', '151.101.128.223']\n"
     ]
    },
    {
     "data": {
      "text/plain": [
       "[{\"Address\": \"2a04:4e42:400::223\", \"Location\": {\"Longitude\": 8, \"Latitude\": 47, \"Type\": \"geolocation\"}, \"Type\": \"ipaddress\"},\n",
       " {\"Address\": \"2a04:4e42:200::223\", \"Location\": {\"Longitude\": 8, \"Latitude\": 47, \"Type\": \"geolocation\"}, \"Type\": \"ipaddress\"},\n",
       " {\"Address\": \"2a04:4e42:600::223\", \"Location\": {\"Longitude\": 8, \"Latitude\": 47, \"Type\": \"geolocation\"}, \"Type\": \"ipaddress\"},\n",
       " {\"Address\": \"2a04:4e42::223\", \"Location\": {\"Longitude\": 8, \"Latitude\": 47, \"Type\": \"geolocation\"}, \"Type\": \"ipaddress\"},\n",
       " {\"Address\": \"151.101.64.223\", \"Location\": {\"CountryCode\": \"US\", \"CountryName\": \"United States\", \"Longitude\": -97.822, \"Latitude\": 37.751, \"Type\": \"geolocation\"}, \"Type\": \"ipaddress\"},\n",
       " {\"Address\": \"151.101.0.223\", \"Location\": {\"CountryCode\": \"US\", \"CountryName\": \"United States\", \"Longitude\": -97.822, \"Latitude\": 37.751, \"Type\": \"geolocation\"}, \"Type\": \"ipaddress\"},\n",
       " {\"Address\": \"151.101.192.223\", \"Location\": {\"CountryCode\": \"US\", \"CountryName\": \"United States\", \"Longitude\": -97.822, \"Latitude\": 37.751, \"Type\": \"geolocation\"}, \"Type\": \"ipaddress\"},\n",
       " {\"Address\": \"151.101.128.223\", \"Location\": {\"CountryCode\": \"US\", \"CountryName\": \"United States\", \"Longitude\": -97.822, \"Latitude\": 37.751, \"Type\": \"geolocation\"}, \"Type\": \"ipaddress\"}]"
      ]
     },
     "metadata": {},
     "output_type": "display_data"
    }
   ],
   "source": [
    "import socket\n",
    "socket_info = socket.getaddrinfo(\"pypi.org\",0,0,0,0)\n",
    "\n",
    "ips = [res[4][0] for res in socket_info]\n",
    "print(ips)\n",
    "\n",
    "_, ip_entities = iplocation.lookup_ip(ip_addr_list=ips)\n",
    "display(ip_entities)"
   ]
  },
  {
   "cell_type": "markdown",
   "metadata": {},
   "source": [
    "<a id='ipstack_lookups'></a>[Contents](#contents)\n",
    "## IPStack Geo-lookup Class\n",
    "\n",
    "#### Class Initialization\n",
    "\n",
    "Note - requires IPStack API Key, Optional parameter bulk_lookup allows multiple IPs in a single request. This is only available with the paid Professional tier and above.\n",
    "```\n",
    "Init signature: IPStackLookup(api_key: str, bulk_lookup: bool = False)\n",
    "Docstring:     \n",
    "GeoIP Lookup using IPStack web service.\n",
    "\n",
    "Raises:\n",
    "    ConnectionError -- Invalid status returned from http request\n",
    "    PermissionError -- Service refused request (e.g. requesting batch of addresses\n",
    "            on free tier API key)\n",
    "Init docstring:\n",
    "Create a new instance of IPStackLookup.\n",
    "\n",
    "Arguments:\n",
    "    api_key {str} -- API Key from IPStack - see https://ipstack.com\n",
    "    bulk_lookup {bool} -- For Professional and above tiers allowing you to\n",
    "        submit multiple IPs in a single request.\n",
    "        \n",
    "```\n",
    "\n",
    "#### lookup_ip method\n",
    "```\n",
    "Signature:\n",
    "iplocation.lookup_ip(\n",
    "    ['ip_address: str = None', 'ip_addr_list: collections.abc.Iterable = None', 'ip_entity: msticpy.nbtools.entityschema.IpAddress = None'],\n",
    ") -> tuple\n",
    "Docstring:\n",
    "Lookup IP location from IPStack web service.\n",
    "\n",
    "Keyword Arguments:\n",
    "    ip_address {str} -- a single address to look up (default: {None})\n",
    "    ip_addr_list {Iterable} -- a collection of addresses to lookup (default: {None})\n",
    "    ip_entity {IpAddress} -- an IpAddress entity\n",
    "\n",
    "Raises:\n",
    "    ConnectionError -- Invalid status returned from http request\n",
    "    PermissionError -- Service refused request (e.g. requesting batch of addresses\n",
    "        on free tier API key)\n",
    "\n",
    "Returns:\n",
    "    tuple(list{dict}, list{entity}) -- returns raw geolocation results and\n",
    "        same results as IP/Geolocation entities\n",
    "```"
   ]
  },
  {
   "cell_type": "markdown",
   "metadata": {},
   "source": [
    "<a id='IPStack'></a>[Contents](#contents)\n",
    "### You will need a IPStack API key\n",
    "You will get more detailed results and a higher throughput allowance if you have a paid tier. See IPStack website for more details"
   ]
  },
  {
   "cell_type": "code",
   "execution_count": 4,
   "metadata": {},
   "outputs": [
    {
     "data": {
      "application/vnd.jupyter.widget-view+json": {
       "model_id": "932a96aeb9c44077846a2244daf30e3e",
       "version_major": 2,
       "version_minor": 0
      },
      "text/plain": [
       "HTML(value='To obtain an API key sign up here https://www.ipstack.com/')"
      ]
     },
     "metadata": {},
     "output_type": "display_data"
    },
    {
     "data": {
      "application/vnd.jupyter.widget-view+json": {
       "model_id": "84102a4e678141ef9d985549c4dd10cb",
       "version_major": 2,
       "version_minor": 0
      },
      "text/plain": [
       "HBox(children=(Text(value='', description='IPStack API key:', layout=Layout(width='50%'), style=DescriptionSty…"
      ]
     },
     "metadata": {},
     "output_type": "display_data"
    }
   ],
   "source": [
    "# Enter your IPStack Key here\n",
    "ips_key = mas.GetEnvironmentKey(env_var='IPSTACK_API_KEY',\n",
    "                           help_str='To obtain an API key sign up here https://www.ipstack.com/',\n",
    "                           prompt='IPStack API key:')\n",
    "ips_key.display()"
   ]
  },
  {
   "cell_type": "code",
   "execution_count": 11,
   "metadata": {
    "scrolled": true
   },
   "outputs": [
    {
     "name": "stdout",
     "output_type": "stream",
     "text": [
      "Raw result\n"
     ]
    },
    {
     "data": {
      "text/plain": [
       "[({'ip': '90.156.201.97',\n",
       "   'type': 'ipv4',\n",
       "   'continent_code': 'EU',\n",
       "   'continent_name': 'Europe',\n",
       "   'country_code': 'RU',\n",
       "   'country_name': 'Russia',\n",
       "   'region_code': None,\n",
       "   'region_name': None,\n",
       "   'city': None,\n",
       "   'zip': None,\n",
       "   'latitude': 55.7386,\n",
       "   'longitude': 37.6068,\n",
       "   'location': {'geoname_id': None,\n",
       "    'capital': 'Moscow',\n",
       "    'languages': [{'code': 'ru', 'name': 'Russian', 'native': 'Русский'}],\n",
       "    'country_flag': 'http://assets.ipstack.com/flags/ru.svg',\n",
       "    'country_flag_emoji': '🇷🇺',\n",
       "    'country_flag_emoji_unicode': 'U+1F1F7 U+1F1FA',\n",
       "    'calling_code': '7',\n",
       "    'is_eu': False}},\n",
       "  200)]"
      ]
     },
     "metadata": {},
     "output_type": "display_data"
    },
    {
     "name": "stdout",
     "output_type": "stream",
     "text": [
      "IP Address Entity\n"
     ]
    },
    {
     "data": {
      "text/plain": [
       "{\"Address\": \"90.156.201.97\", \"Location\": {\"CountryCode\": \"RU\", \"CountryName\": \"Russia\", \"Longitude\": 37.6068, \"Latitude\": 55.7386, \"Type\": \"geolocation\"}, \"Type\": \"ipaddress\"}"
      ]
     },
     "metadata": {},
     "output_type": "display_data"
    }
   ],
   "source": [
    "iplocation = IPStackLookup(api_key=ips_key.value)\n",
    "loc_result, ip_entity = iplocation.lookup_ip(ip_address='90.156.201.97')\n",
    "print('Raw result')\n",
    "display(loc_result)\n",
    "\n",
    "print('IP Address Entity')\n",
    "display(ip_entity[0])"
   ]
  },
  {
   "cell_type": "code",
   "execution_count": 13,
   "metadata": {
    "scrolled": true
   },
   "outputs": [
    {
     "name": "stdout",
     "output_type": "stream",
     "text": [
      "Raw results\n"
     ]
    },
    {
     "data": {
      "text/plain": [
       "[({'ip': '2a04:4e42:400::223',\n",
       "   'type': 'ipv6',\n",
       "   'continent_code': 'EU',\n",
       "   'continent_name': 'Europe',\n",
       "   'country_code': None,\n",
       "   'country_name': None,\n",
       "   'region_code': None,\n",
       "   'region_name': None,\n",
       "   'city': None,\n",
       "   'zip': None,\n",
       "   'latitude': 47,\n",
       "   'longitude': 8,\n",
       "   'location': {'geoname_id': None,\n",
       "    'capital': None,\n",
       "    'languages': None,\n",
       "    'country_flag': None,\n",
       "    'country_flag_emoji': None,\n",
       "    'country_flag_emoji_unicode': None,\n",
       "    'calling_code': None,\n",
       "    'is_eu': False}},\n",
       "  200),\n",
       " ({'ip': '2a04:4e42:200::223',\n",
       "   'type': 'ipv6',\n",
       "   'continent_code': 'EU',\n",
       "   'continent_name': 'Europe',\n",
       "   'country_code': None,\n",
       "   'country_name': None,\n",
       "   'region_code': None,\n",
       "   'region_name': None,\n",
       "   'city': None,\n",
       "   'zip': None,\n",
       "   'latitude': 47,\n",
       "   'longitude': 8,\n",
       "   'location': {'geoname_id': None,\n",
       "    'capital': None,\n",
       "    'languages': None,\n",
       "    'country_flag': None,\n",
       "    'country_flag_emoji': None,\n",
       "    'country_flag_emoji_unicode': None,\n",
       "    'calling_code': None,\n",
       "    'is_eu': False}},\n",
       "  200),\n",
       " ({'ip': '2a04:4e42:600::223',\n",
       "   'type': 'ipv6',\n",
       "   'continent_code': 'EU',\n",
       "   'continent_name': 'Europe',\n",
       "   'country_code': None,\n",
       "   'country_name': None,\n",
       "   'region_code': None,\n",
       "   'region_name': None,\n",
       "   'city': None,\n",
       "   'zip': None,\n",
       "   'latitude': 47,\n",
       "   'longitude': 8,\n",
       "   'location': {'geoname_id': None,\n",
       "    'capital': None,\n",
       "    'languages': None,\n",
       "    'country_flag': None,\n",
       "    'country_flag_emoji': None,\n",
       "    'country_flag_emoji_unicode': None,\n",
       "    'calling_code': None,\n",
       "    'is_eu': False}},\n",
       "  200),\n",
       " ({'ip': '2a04:4e42::223',\n",
       "   'type': 'ipv6',\n",
       "   'continent_code': 'EU',\n",
       "   'continent_name': 'Europe',\n",
       "   'country_code': None,\n",
       "   'country_name': None,\n",
       "   'region_code': None,\n",
       "   'region_name': None,\n",
       "   'city': None,\n",
       "   'zip': None,\n",
       "   'latitude': 47,\n",
       "   'longitude': 8,\n",
       "   'location': {'geoname_id': None,\n",
       "    'capital': None,\n",
       "    'languages': None,\n",
       "    'country_flag': None,\n",
       "    'country_flag_emoji': None,\n",
       "    'country_flag_emoji_unicode': None,\n",
       "    'calling_code': None,\n",
       "    'is_eu': False}},\n",
       "  200),\n",
       " ({'ip': '151.101.64.223',\n",
       "   'type': 'ipv4',\n",
       "   'continent_code': 'NA',\n",
       "   'continent_name': 'North America',\n",
       "   'country_code': 'US',\n",
       "   'country_name': 'United States',\n",
       "   'region_code': None,\n",
       "   'region_name': None,\n",
       "   'city': None,\n",
       "   'zip': None,\n",
       "   'latitude': 37.751,\n",
       "   'longitude': -97.822,\n",
       "   'location': {'geoname_id': None,\n",
       "    'capital': 'Washington D.C.',\n",
       "    'languages': [{'code': 'en', 'name': 'English', 'native': 'English'}],\n",
       "    'country_flag': 'http://assets.ipstack.com/flags/us.svg',\n",
       "    'country_flag_emoji': '🇺🇸',\n",
       "    'country_flag_emoji_unicode': 'U+1F1FA U+1F1F8',\n",
       "    'calling_code': '1',\n",
       "    'is_eu': False}},\n",
       "  200),\n",
       " ({'ip': '151.101.0.223',\n",
       "   'type': 'ipv4',\n",
       "   'continent_code': 'NA',\n",
       "   'continent_name': 'North America',\n",
       "   'country_code': 'US',\n",
       "   'country_name': 'United States',\n",
       "   'region_code': None,\n",
       "   'region_name': None,\n",
       "   'city': None,\n",
       "   'zip': None,\n",
       "   'latitude': 37.751,\n",
       "   'longitude': -97.822,\n",
       "   'location': {'geoname_id': None,\n",
       "    'capital': 'Washington D.C.',\n",
       "    'languages': [{'code': 'en', 'name': 'English', 'native': 'English'}],\n",
       "    'country_flag': 'http://assets.ipstack.com/flags/us.svg',\n",
       "    'country_flag_emoji': '🇺🇸',\n",
       "    'country_flag_emoji_unicode': 'U+1F1FA U+1F1F8',\n",
       "    'calling_code': '1',\n",
       "    'is_eu': False}},\n",
       "  200),\n",
       " ({'ip': '151.101.192.223',\n",
       "   'type': 'ipv4',\n",
       "   'continent_code': 'NA',\n",
       "   'continent_name': 'North America',\n",
       "   'country_code': 'US',\n",
       "   'country_name': 'United States',\n",
       "   'region_code': None,\n",
       "   'region_name': None,\n",
       "   'city': None,\n",
       "   'zip': None,\n",
       "   'latitude': 37.751,\n",
       "   'longitude': -97.822,\n",
       "   'location': {'geoname_id': None,\n",
       "    'capital': 'Washington D.C.',\n",
       "    'languages': [{'code': 'en', 'name': 'English', 'native': 'English'}],\n",
       "    'country_flag': 'http://assets.ipstack.com/flags/us.svg',\n",
       "    'country_flag_emoji': '🇺🇸',\n",
       "    'country_flag_emoji_unicode': 'U+1F1FA U+1F1F8',\n",
       "    'calling_code': '1',\n",
       "    'is_eu': False}},\n",
       "  200),\n",
       " ({'ip': '151.101.128.223',\n",
       "   'type': 'ipv4',\n",
       "   'continent_code': 'NA',\n",
       "   'continent_name': 'North America',\n",
       "   'country_code': 'US',\n",
       "   'country_name': 'United States',\n",
       "   'region_code': None,\n",
       "   'region_name': None,\n",
       "   'city': None,\n",
       "   'zip': None,\n",
       "   'latitude': 37.751,\n",
       "   'longitude': -97.822,\n",
       "   'location': {'geoname_id': None,\n",
       "    'capital': 'Washington D.C.',\n",
       "    'languages': [{'code': 'en', 'name': 'English', 'native': 'English'}],\n",
       "    'country_flag': 'http://assets.ipstack.com/flags/us.svg',\n",
       "    'country_flag_emoji': '🇺🇸',\n",
       "    'country_flag_emoji_unicode': 'U+1F1FA U+1F1F8',\n",
       "    'calling_code': '1',\n",
       "    'is_eu': False}},\n",
       "  200)]"
      ]
     },
     "metadata": {},
     "output_type": "display_data"
    },
    {
     "name": "stdout",
     "output_type": "stream",
     "text": [
      "IP Address Entities\n"
     ]
    },
    {
     "data": {
      "text/plain": [
       "[{\"Address\": \"2a04:4e42:400::223\", \"Location\": {\"Longitude\": 8, \"Latitude\": 47, \"Type\": \"geolocation\"}, \"Type\": \"ipaddress\"},\n",
       " {\"Address\": \"2a04:4e42:200::223\", \"Location\": {\"Longitude\": 8, \"Latitude\": 47, \"Type\": \"geolocation\"}, \"Type\": \"ipaddress\"},\n",
       " {\"Address\": \"2a04:4e42:600::223\", \"Location\": {\"Longitude\": 8, \"Latitude\": 47, \"Type\": \"geolocation\"}, \"Type\": \"ipaddress\"},\n",
       " {\"Address\": \"2a04:4e42::223\", \"Location\": {\"Longitude\": 8, \"Latitude\": 47, \"Type\": \"geolocation\"}, \"Type\": \"ipaddress\"},\n",
       " {\"Address\": \"151.101.64.223\", \"Location\": {\"CountryCode\": \"US\", \"CountryName\": \"United States\", \"Longitude\": -97.822, \"Latitude\": 37.751, \"Type\": \"geolocation\"}, \"Type\": \"ipaddress\"},\n",
       " {\"Address\": \"151.101.0.223\", \"Location\": {\"CountryCode\": \"US\", \"CountryName\": \"United States\", \"Longitude\": -97.822, \"Latitude\": 37.751, \"Type\": \"geolocation\"}, \"Type\": \"ipaddress\"},\n",
       " {\"Address\": \"151.101.192.223\", \"Location\": {\"CountryCode\": \"US\", \"CountryName\": \"United States\", \"Longitude\": -97.822, \"Latitude\": 37.751, \"Type\": \"geolocation\"}, \"Type\": \"ipaddress\"},\n",
       " {\"Address\": \"151.101.128.223\", \"Location\": {\"CountryCode\": \"US\", \"CountryName\": \"United States\", \"Longitude\": -97.822, \"Latitude\": 37.751, \"Type\": \"geolocation\"}, \"Type\": \"ipaddress\"}]"
      ]
     },
     "metadata": {},
     "output_type": "display_data"
    }
   ],
   "source": [
    "loc_result, ip_entities = iplocation.lookup_ip(ip_addr_list=ips)\n",
    "print('Raw results')\n",
    "display(loc_result)\n",
    "\n",
    "print('IP Address Entities')\n",
    "display(ip_entities)"
   ]
  },
  {
   "cell_type": "markdown",
   "metadata": {},
   "source": [
    "<a id='dataframe_input'></a>[Contents](#contents)\n",
    "## Taking input from a pandas DataFrame\n",
    "\n",
    "The base class for both implementations has a method that sources the ip addresses from a dataframe column and returns a new dataframe with the location information merged with the input frame\n",
    "```\n",
    "Signature: iplocation.df_lookup_ip(data: pandas.core.frame.DataFrame, column: str)\n",
    "Docstring:\n",
    "Lookup Geolocation data from a pandas Dataframe.\n",
    "\n",
    "Keyword Arguments:\n",
    "    data {pd.DataFrame} -- pandas dataframe containing IpAddress column\n",
    "    column {str} -- the name of the dataframe column to use as a source\n",
    "```"
   ]
  },
  {
   "cell_type": "markdown",
   "metadata": {},
   "source": [
    "<a id='custom_lookup'></a>[Contents](#contents)\n",
    "## Creating a Custom GeopIP Lookup Class\n",
    "\n",
    "You can derive a class that implements the same operations to use with a different GeoIP service.\n",
    "\n",
    "The class signature is as follows:\n",
    "```\n",
    "class GeoIpLookup(ABC):\n",
    "    \"\"\"Abstract base class for GeoIP Lookup classes.\"\"\"\n",
    "\n",
    "    @abstractmethod\n",
    "    def lookup_ip(self, ip_address: str = None, ip_addr_list: Iterable = None,\n",
    "                  ip_entity: IpAddress = None):\n",
    "        \"\"\"\n",
    "        Lookup IP location.\n",
    "\n",
    "        Keyword Arguments:\n",
    "            ip_address {str} -- a single address to look up (default: {None})\n",
    "            ip_addr_list {Iterable} -- a collection of addresses to lookup (default: {None})\n",
    "            ip_entity {IpAddress} -- an IpAddress entity\n",
    "\n",
    "        Returns:\n",
    "            tuple(list{dict}, list{entity}) -- returns raw geolocation results and\n",
    "                same results as IP/Geolocation entities\n",
    "\n",
    "        \"\"\"\n",
    "```\n",
    "You should override the lookup_ip method implementing your own method of geoip lookup."
   ]
  },
  {
   "cell_type": "markdown",
   "metadata": {},
   "source": [
    "<a id='calc_distance'></a>[Contents](#contents)\n",
    "## Calculating Geographical Distances\n",
    "\n",
    "Use the geo_distance function from msticpy.sectools.geoip to calculated distances between two locations.\n",
    "I am indebted to Martin Thoma who posted this solution (which I've modified slightly) on Stackoverflow.\n",
    "\n",
    "\n",
    "```\n",
    "Signature: geo_distance(origin: Tuple[float, float], destination: Tuple[float, float]) -> float\n",
    "Docstring:\n",
    "Calculate the Haversine distance.\n",
    "\n",
    "Author: Martin Thoma - stackoverflow\n",
    "\n",
    "Parameters\n",
    "----------\n",
    "origin : tuple of float\n",
    "    (lat, long)\n",
    "destination : tuple of float\n",
    "    (lat, long)\n",
    "\n",
    "Returns\n",
    "-------\n",
    "distance_in_km : float\n",
    "```\n",
    "\n",
    "\n",
    "Or where you have source and destination IpAddress entities, you can use the wrapper entity_distance.\n",
    "```\n",
    "Signature:\n",
    "entity_distance(\n",
    "    ['ip_src: msticpy.nbtools.entityschema.IpAddress', 'ip_dest: msticpy.nbtools.entityschema.IpAddress'],\n",
    ") -> float\n",
    "Docstring:\n",
    "Return distance between two IP Entities.\n",
    "\n",
    "Arguments:\n",
    "    ip_src {IpAddress} -- Source IpAddress Entity\n",
    "    ip_dest {IpAddress} -- Destination IpAddress Entity\n",
    "\n",
    "Raises:\n",
    "    AttributeError -- if either entity has no location information\n",
    "\n",
    "Returns:\n",
    "    float -- Distance in kilometers.\n",
    "```"
   ]
  },
  {
   "cell_type": "code",
   "execution_count": 24,
   "metadata": {},
   "outputs": [
    {
     "name": "stdout",
     "output_type": "stream",
     "text": [
      "{ 'Address': '90.156.201.97',\n",
      "  'Location': { 'CountryCode': 'RU',\n",
      "                'CountryName': 'Russia',\n",
      "                'Latitude': 55.7386,\n",
      "                'Longitude': 37.6068,\n",
      "                'Type': 'geolocation'},\n",
      "  'Type': 'ipaddress'}\n",
      "{ 'Address': '151.101.64.223',\n",
      "  'Location': { 'CountryCode': 'US',\n",
      "                'CountryName': 'United States',\n",
      "                'Latitude': 37.751,\n",
      "                'Longitude': -97.822,\n",
      "                'Type': 'geolocation'},\n",
      "  'Type': 'ipaddress'}\n",
      "\n",
      "Distance between IP Locations = 8796.8km\n"
     ]
    }
   ],
   "source": [
    "from msticpy.sectools.geoip import geo_distance\n",
    "_, ip_entity1 = iplocation.lookup_ip(ip_address='90.156.201.97')\n",
    "_, ip_entity2 = iplocation.lookup_ip(ip_address='151.101.64.223')\n",
    "\n",
    "print(ip_entity1[0])\n",
    "print(ip_entity2[0])\n",
    "dist = geo_distance(origin=(ip_entity1[0].Location.Latitude, ip_entity1[0].Location.Longitude),\n",
    "                    destination=(ip_entity2[0].Location.Latitude, ip_entity2[0].Location.Longitude))\n",
    "print(f'\\nDistance between IP Locations = {round(dist, 1)}km')"
   ]
  },
  {
   "cell_type": "code",
   "execution_count": 31,
   "metadata": {},
   "outputs": [
    {
     "name": "stdout",
     "output_type": "stream",
     "text": [
      "\n",
      "Distance between IP Locations = 8796.8km\n"
     ]
    }
   ],
   "source": [
    "dist2 = entity_distance(ip_entity1[0],ip_entity2[0])\n",
    "print(f'\\nDistance between IP Entity Locations = {round(dist2, 1)}km')"
   ]
  }
 ],
 "metadata": {
  "celltoolbar": "Tags",
  "hide_input": false,
  "kernelspec": {
   "display_name": "Python 3",
   "language": "python",
   "name": "python3"
  },
  "language_info": {
   "codemirror_mode": {
    "name": "ipython",
    "version": 3
   },
   "file_extension": ".py",
   "mimetype": "text/x-python",
   "name": "python",
   "nbconvert_exporter": "python",
   "pygments_lexer": "ipython3",
   "version": "3.7.1"
  },
  "toc": {
   "base_numbering": 1,
   "nav_menu": {
    "height": "318.996px",
    "width": "320.994px"
   },
   "number_sections": false,
   "sideBar": true,
   "skip_h1_title": false,
   "title_cell": "Table of Contents",
   "title_sidebar": "Contents",
   "toc_cell": false,
   "toc_position": {
    "height": "calc(100% - 180px)",
    "left": "10px",
    "top": "150px",
    "width": "165px"
   },
   "toc_section_display": true,
   "toc_window_display": true
  },
  "varInspector": {
   "cols": {
    "lenName": 16,
    "lenType": 16,
    "lenVar": 40
   },
   "kernels_config": {
    "python": {
     "delete_cmd_postfix": "",
     "delete_cmd_prefix": "del ",
     "library": "var_list.py",
     "varRefreshCmd": "print(var_dic_list())"
    },
    "r": {
     "delete_cmd_postfix": ") ",
     "delete_cmd_prefix": "rm(",
     "library": "var_list.r",
     "varRefreshCmd": "cat(var_dic_list()) "
    }
   },
   "position": {
    "height": "406.193px",
    "left": "1468.4px",
    "right": "20px",
    "top": "120px",
    "width": "456.572px"
   },
   "types_to_exclude": [
    "module",
    "function",
    "builtin_function_or_method",
    "instance",
    "_Feature"
   ],
   "window_display": false
  }
 },
 "nbformat": 4,
 "nbformat_minor": 2
}
