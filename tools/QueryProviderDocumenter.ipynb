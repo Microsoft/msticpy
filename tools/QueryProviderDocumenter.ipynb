{
 "cells": [
  {
   "cell_type": "markdown",
   "metadata": {},
   "source": [
    "# TODO\n",
    "See CSV Tables\n",
    "https://docutils.sourceforge.io/docs/ref/rst/directives.html#csv-table\n"
   ]
  },
  {
   "cell_type": "code",
   "execution_count": 6,
   "metadata": {
    "ExecuteTime": {
     "end_time": "2019-12-17T21:38:38.357808Z",
     "start_time": "2019-12-17T21:38:37.357112Z"
    },
    "tags": [
     "outputPrepend"
    ]
   },
   "outputs": [
    {
     "output_type": "stream",
     "name": "stdout",
     "text": [
      "     observables (list)                                                                                               ThreatIntelligenceIndicator\nThreatIntelligence  list_indicators_by_url            Retrieves list of indicators by URL                                                                          observables (list)                                                                                               ThreatIntelligenceIndicator\nWindowsSecurity     get_host_logon                    Retrieves the logon event for the session id on the host                                                     start (datetime), end (datetime), host_name (str), logon_session_id (str)                                        SecurityEvent\nWindowsSecurity     get_parent_process                Retrieves the parent process of a supplied process                                                           start (datetime), end (datetime), host_name (str), process_name (str), process_id (str), logon_session_id (str)  SecurityEvent\nWindowsSecurity     get_process_tree                  Retrieves the process tree of a supplied process                                                             start (datetime), end (datetime), host_name (str), process_name (str), process_id (str), logon_session_id (str)  SecurityEvent\nWindowsSecurity     list_all_logons_by_host           account all failed or successful logons to a host                                                            start (datetime), end (datetime), host_name (str)                                                                SecurityEvent\nWindowsSecurity     list_events                       Retrieves list of all events                                                                                 start (datetime), end (datetime)                                                                                 SecurityEvent\nWindowsSecurity     list_events_by_id                 Retrieves list of events on a host                                                                           start (datetime), end (datetime), event_list (list)                                                              SecurityEvent\nWindowsSecurity     list_host_events                  Retrieves list of all events on a host                                                                       start (datetime), end (datetime), host_name (str)                                                                SecurityEvent\nWindowsSecurity     list_host_events_by_id            Retrieves list of events on a host                                                                           start (datetime), end (datetime), host_name (str)                                                                SecurityEvent\nWindowsSecurity     list_host_logon_failures          Retrieves the logon failure events on the host                                                               start (datetime), end (datetime), host_name (str)                                                                SecurityEvent\nWindowsSecurity     list_host_logons                  Retrieves the logon events on the host                                                                       start (datetime), end (datetime), host_name (str)                                                                SecurityEvent\nWindowsSecurity     list_host_processes               Retrieves list of processes on a host                                                                        start (datetime), end (datetime), host_name (str)                                                                SecurityEvent\nWindowsSecurity     list_hosts_matching_commandline   Retrieves processes on hosts with matching commandline                                                       start (datetime), end (datetime), process_name (str), commandline (str)                                          SecurityEvent\nWindowsSecurity     list_logon_attempts_by_account    Retrieves the logon events for an account                                                                    start (datetime), end (datetime), account_name (str)                                                             SecurityEvent\nWindowsSecurity     list_logon_failures_by_account    Retrieves the logon failure events  for an account                                                           start (datetime), end (datetime), account_name (str)                                                             SecurityEvent\nWindowsSecurity     list_logons_by_account            Retrieves the logon events for an account                                                                    start (datetime), end (datetime), account_name (str)                                                             SecurityEvent\nWindowsSecurity     list_matching_processes           Retrieves list of processes matching process name                                                            start (datetime), end (datetime), process_name (str)                                                             SecurityEvent\nWindowsSecurity     list_other_events                 Retrieves list of events other than logon and process on a host                                              start (datetime), end (datetime), host_name (str)                                                                SecurityEvent\nWindowsSecurity     list_processes_in_session         Retrieves all processes on the host for a logon session                                                      start (datetime), end (datetime), host_name (str), process_name (str), process_id (str), logon_session_id (str)  SecurityEvent\n==================  ================================  ===========================================================================================================  ===============================================================================================================  ===========================\n\n\nQueries for LocalData\n---------------------\n\n===============  ================================  ======================================  ============  =======\nQueryGroup       Query                             Description                             ReqdParams    Table\n===============  ================================  ======================================  ============  =======\nAzure            list_all_signins_geo              List all Azure AD logon events                        -\nNetwork          list_azure_network_flows_by_host  List Azure Network flows by host name                 -\nNetwork          list_azure_network_flows_by_ip    List Azure Network flows by IP address                -\nSecurityAlert    list_alerts                       Retrieves list of alerts                              -\nWindowsSecurity  get_process_tree                  Get process tree for a process                        -\nWindowsSecurity  list_host_events                  List events failures on host                          -\nWindowsSecurity  list_host_logon_failures          List logon failures on host                           -\nWindowsSecurity  list_host_logons                  List logons on host                                   -\nWindowsSecurity  list_host_processes               List processes on host                                -\n===============  ================================  ======================================  ============  =======\n\n\nQueries for MDATP\n-----------------\n\n============  ==========================  ==================================================================================================================================  ===============================  ==========================\nQueryGroup    Query                       Description                                                                                                                         ReqdParams                       Table\n============  ==========================  ==================================================================================================================================  ===============================  ==========================\nMDATP         file_path                   Lists all file events from files in a certain path                                                                                  path (str)                       ProcessCreationEvents\nMDATP         host_alerts                 Lists alerts by for a specified hostname                                                                                            host_name (str)                  AlertEvents\nMDATP         host_connections            Lists alerts by for a specified hostname                                                                                            hostname (str)                   NetworkCommunicationEvents\nMDATP         ip_alerts                   Lists alerts associated with a specified remote IP                                                                                  ip_address (str)                 AlertEvents\nMDATP         ip_connections              Lists alerts associated with a specified remote IP                                                                                  ip_address (str)                 NetworkCommunicationEvents\nMDATP         list_alerts                 Retrieves list of alerts                                                                                                                                             AlertEvents\nMDATP         list_connections            Retrieves list of network connections for a host                                                                                                                     NetworkCommunicationEvents\nMDATP         list_filehash               Lists all file events by hash                                                                                                       file_hash (str)                  ProcessCreationEvents\nMDATP         list_files                  Lists all file events by filename                                                                                                   file_name (str)                  ProcessCreationEvents\nMDATP         list_host_processes         Lists all process creations for a host                                                                                              host_name (str)                  ProcessCreationEvents\nMDATP         process_cmd_line            Lists all processes with a command line containing a string                                                                         cmd_line (str)                   ProcessCreationEvents\nMDATP         process_creations           Lists all processes created by name or hash                                                                                         process_identifier (str)         ProcessCreationEvents\nMDATP         process_paths               Lists all processes created from a path                                                                                             file_path (str)                  ProcessCreationEvents\nMDATP         protocol_connections        Lists alerts associated with a specified protocol                                                                                   protocol (str)                   NetworkCommunicationEvents\nMDATP         sha1_alerts                 Lists alerts associated with a specified SHA1 hash                                                                                  file_hash (str)                  AlertEvents\nMDATP         url_alerts                  Lists alerts associated with a specified URL                                                                                        url (str)                        AlertEvents\nMDATP         url_connections             Lists alerts associated with a specified URL                                                                                        url (str)                        NetworkCommunicationEvents\nMDATP         user_files                  Lists all files created by a user                                                                                                   account_name (str)               -\nMDATP         user_logons                 Lists all user logons by user                                                                                                       account_name (str)               -\nMDATP         user_network                Lists all network connections associated with a user                                                                                account_name (str)               -\nMDATP         user_processes              Lists all processes created by a user                                                                                               account_name (str)               -\nMDATPHunting  accessibility_persistence   This query looks for persistence or privilege escalation done using Windows Accessibility features.                                                                  -\nMDATPHunting  av_sites                    Pivot from downloads detected by Windows Defender Antivirus to other files downloaded from the same sites                                                            -\nMDATPHunting  b64_pe                      Finding base64 encoded PE files header seen in the command line parameters                                                                                           -\nMDATPHunting  brute_force                 Look for public IP addresses that failed to logon to a computer multiple times, using multiple accounts, and eventually succeeded.                                   -\nMDATPHunting  cve_2018_1000006l           Looks for CVE-2018-1000006 exploitation                                                                                                                              -\nMDATPHunting  cve_2018_1111               Looks for CVE-2018-1111 exploitation                                                                                                                                 -\nMDATPHunting  cve_2018_4878               This query checks for specific processes and domain TLD used in the CVE-2018-4878                                                                                    -\nMDATPHunting  doc_with_link               Looks for a Word document attachment, from which a link was clicked, and after which there was a browser download.                                                   -\nMDATPHunting  dropbox_link                Looks for user content downloads from dropbox that originate from a link/redirect from a 3rd party site.                                                             -\nMDATPHunting  email_link                  Look for links opened from mail apps â€“ if a detection occurred right afterwards                                                                                    -\nMDATPHunting  email_smartscreen           Look for links opened from outlook.exe, followed by a browser download and then a SmartScreen app warning                                                            -\nMDATPHunting  malware_recycle             Finding attackers hiding malware in the recycle bin.                                                                                                                 -\nMDATPHunting  network_scans               Looking for high volume queries against a given RemoteIP, per ComputerName, RemotePort and Process                                                                   -\nMDATPHunting  powershell_downloads        Finds PowerShell execution events that could involve a download.                                                                                                     -\nMDATPHunting  service_account_powershell  Service Accounts Performing Remote PowerShell                                                                                                                        -\nMDATPHunting  smartscreen_ignored         Query for SmartScreen URL blocks, where the user has decided to run the malware nontheless.                                                                          -\nMDATPHunting  smb_discovery               Query for processes that accessed more than 10 IP addresses over port 445 (SMB) - possibly scanning for network shares.                                              -\nMDATPHunting  tor                         Looks for Tor client, or for a common Tor plugin called Meek.                                                                                                        -\nMDATPHunting  uncommon_powershell         Find which uncommon Powershell Cmdlets were executed on that machine in a certain time period.                                      hostname (str), timestamp (str)  -\nMDATPHunting  user_enumeration            The query finds attempts to list users or groups using Net commands                                                                                                  -\n============  ==========================  ==================================================================================================================================  ===============================  ==========================\n\n\nQueries for SecurityGraph\n-------------------------\n\n==================  ====================  ====================================================  ==================================================  =======\nQueryGroup          Query                 Description                                           ReqdParams                                          Table\n==================  ====================  ====================================================  ==================================================  =======\nSecurityGraphAlert  get_alert             Retrieves a single alert by AlertId                   alert_id (str)                                      -\nSecurityGraphAlert  list_alerts           Retrieves list of alerts                              start (datetime), end (datetime)                    -\nSecurityGraphAlert  list_alerts_for_file  Retrieves list of alerts for file name, path or hash  start (datetime), end (datetime)                    -\nSecurityGraphAlert  list_alerts_for_host  Retrieves list of alerts for a hostname or FQDN       start (datetime), end (datetime), host_name (str)   -\nSecurityGraphAlert  list_alerts_for_ip    Retrieves list of alerts for a IP Address             start (datetime), end (datetime), ip_address (str)  -\nSecurityGraphAlert  list_alerts_for_user  Retrieves list of alerts for a user account           start (datetime), end (datetime)                    -\nSecurityGraphAlert  list_related_alerts   Retrieves list of alerts with a common entity         start (datetime), end (datetime)                    -\n==================  ====================  ====================================================  ==================================================  =======\n\n\nQueries for Splunk\n------------------\n\n=============  ========================  =============================================  ============  =======\nQueryGroup     Query                     Description                                    ReqdParams    Table\n=============  ========================  =============================================  ============  =======\nAlerts         list_all_alerts           Retrieves all configured alerts                              -\nSplunkGeneral  get_events_parameterized  Generic parameterized query from index/source                -\nSplunkGeneral  list_all_datatypes        Summary of all events by index and sourcetype                -\nSplunkGeneral  list_all_savedsearches    Retrieves all saved searches                                 -\naudittrail     list_all_audittrail       Retrieves all audit trail logs                               -\n=============  ========================  =============================================  ============  =======\n\n\n"
     ]
    },
    {
     "output_type": "error",
     "ename": "FileNotFoundError",
     "evalue": "[Errno 2] No such file or directory: '../docs/source/data_aquisition/DataQueries.rst'",
     "traceback": [
      "\u001b[1;31m---------------------------------------------------------------------------\u001b[0m",
      "\u001b[1;31mFileNotFoundError\u001b[0m                         Traceback (most recent call last)",
      "\u001b[1;32m<ipython-input-6-3f5c722e741d>\u001b[0m in \u001b[0;36m<module>\u001b[1;34m\u001b[0m\n\u001b[0;32m     48\u001b[0m \u001b[1;33m\u001b[0m\u001b[0m\n\u001b[0;32m     49\u001b[0m \u001b[0mfile_name\u001b[0m \u001b[1;33m=\u001b[0m \u001b[1;34m\"../docs/source/data_aquisition/DataQueries.rst\"\u001b[0m\u001b[1;33m\u001b[0m\u001b[1;33m\u001b[0m\u001b[0m\n\u001b[1;32m---> 50\u001b[1;33m \u001b[1;32mwith\u001b[0m \u001b[0mopen\u001b[0m\u001b[1;33m(\u001b[0m\u001b[0mfile_name\u001b[0m\u001b[1;33m,\u001b[0m \u001b[1;34m\"w\"\u001b[0m\u001b[1;33m)\u001b[0m \u001b[1;32mas\u001b[0m \u001b[0mrst_file\u001b[0m\u001b[1;33m:\u001b[0m\u001b[1;33m\u001b[0m\u001b[1;33m\u001b[0m\u001b[0m\n\u001b[0m\u001b[0;32m     51\u001b[0m     \u001b[0mrst_file\u001b[0m\u001b[1;33m.\u001b[0m\u001b[0mwrite\u001b[0m\u001b[1;33m(\u001b[0m\u001b[1;34m\"Data Queries Reference\\n\"\u001b[0m\u001b[1;33m)\u001b[0m\u001b[1;33m\u001b[0m\u001b[1;33m\u001b[0m\u001b[0m\n\u001b[0;32m     52\u001b[0m     \u001b[0mrst_file\u001b[0m\u001b[1;33m.\u001b[0m\u001b[0mwrite\u001b[0m\u001b[1;33m(\u001b[0m\u001b[1;34m\"=\"\u001b[0m \u001b[1;33m*\u001b[0m \u001b[0mlen\u001b[0m\u001b[1;33m(\u001b[0m\u001b[1;34m\"Data Queries Reference\"\u001b[0m\u001b[1;33m)\u001b[0m \u001b[1;33m+\u001b[0m \u001b[1;34m\"\\n\\n\"\u001b[0m\u001b[1;33m)\u001b[0m\u001b[1;33m\u001b[0m\u001b[1;33m\u001b[0m\u001b[0m\n",
      "\u001b[1;31mFileNotFoundError\u001b[0m: [Errno 2] No such file or directory: '../docs/source/data_aquisition/DataQueries.rst'"
     ]
    }
   ],
   "source": [
    "from msticpy.data import QueryProvider\n",
    "import pandas as pd\n",
    "from msticpy.data import data_providers\n",
    "from msticpy.data.data_providers import DataEnvironment\n",
    "\n",
    "\n",
    "prov_list = [\"AzureSentinel\", \"SecurityGraph\", \"MDATP\", \"LocalData\", \"Splunk\"]\n",
    "env_q_stores = {prov: QueryProvider(prov) for prov in prov_list}\n",
    "    \n",
    "\n",
    "query_series = []\n",
    "for env, env_queries in env_q_stores.items():\n",
    "    query_names = env_queries.list_queries()\n",
    "    for query_name in query_names:\n",
    "        q_group, q_name = query_name.split(\".\")\n",
    "        query_path = [env, q_group, q_name]\n",
    "        q_obj = getattr(getattr(env_queries, q_group), q_name)\n",
    "        qry = env_queries.query_store.get_query(q_group + \".\" +  q_name)\n",
    "        if \"table\" in qry.default_params:\n",
    "           q_table = qry.default_params[\"table\"].get(\"default\", \"na\").split()[0]\n",
    "        elif \"table\" in qry.required_params:\n",
    "            q_table = qry.required_params[\"table\"].get(\"default\", \"na\").split()[0]\n",
    "        else:\n",
    "            q_table = \"-\"\n",
    "        q_dict = {\n",
    "            \"Environment\": env,\n",
    "            \"QueryGroup\": q_group,\n",
    "            \"Query\": q_name,\n",
    "            \"Description\": qry.description,\n",
    "            \"ReqdParams\": \", \".join([f\"{param} ({p_data.get('type')})\" for param, p_data in qry.required_params.items()]),\n",
    "            #\"OtherParams\": \", \".join([f\"{param}\" for param in qry.default_params]),\n",
    "            \"Table\": q_table\n",
    "        }\n",
    "        query_series.append(pd.Series(q_dict))\n",
    "\n",
    "query_df = pd.DataFrame(query_series)\n",
    "    \n",
    "# env_queries.\n",
    "\n",
    "from tabulate import tabulate\n",
    "\n",
    "for name, grp in query_df.groupby(\"Environment\"):\n",
    "    print(f\"Queries for {name}\")\n",
    "    print(\"-\" * len(f\"Queries for {name}\"))\n",
    "    print()\n",
    "    print(tabulate(grp.drop(columns=\"Environment\"), headers=\"keys\", showindex=\"never\", tablefmt=\"rst\"))\n",
    "    print(\"\\n\")\n",
    "\n",
    "file_name = \"../docs/source/data_aquisition/DataQueries.rst\"\n",
    "with open(file_name, \"w\") as rst_file:\n",
    "    rst_file.write(\"Data Queries Reference\\n\")\n",
    "    rst_file.write(\"=\" * len(\"Data Queries Reference\") + \"\\n\\n\")\n",
    "    \n",
    "    for name, grp in query_df.groupby(\"Environment\"):\n",
    "        rst_file.write(f\"Queries for {name}\\n\")\n",
    "        rst_file.write(\"-\" * len(f\"Queries for {name}\") + \"\\n\")\n",
    "        rst_file.write(\"\\n\")\n",
    "        tbl_txt = tabulate(grp.drop(columns=\"Environment\"), headers=\"keys\", showindex=\"never\", tablefmt=\"rst\")\n",
    "        rst_file.write(tbl_txt)\n",
    "        rst_file.write(\"\\n\\n\")"
   ]
  },
  {
   "cell_type": "code",
   "execution_count": 3,
   "metadata": {
    "ExecuteTime": {
     "end_time": "2019-12-17T21:18:02.142425Z",
     "start_time": "2019-12-17T21:18:02.137405Z"
    }
   },
   "outputs": [
    {
     "data": {
      "text/plain": [
       "{'LogAnalytics': <msticpy.data.data_providers.QueryProvider at 0x27824f28548>,\n",
       " 'SecurityGraph': <msticpy.data.data_providers.QueryProvider at 0x27824f90048>,\n",
       " 'MDATP': <msticpy.data.data_providers.QueryProvider at 0x2782501f848>}"
      ]
     },
     "execution_count": 3,
     "metadata": {},
     "output_type": "execute_result"
    }
   ],
   "source": [
    "env_q_stores"
   ]
  }
 ],
 "metadata": {
  "hide_input": false,
  "kernelspec": {
   "display_name": "Python (condadev)",
   "language": "python",
   "name": "condadev"
  },
  "language_info": {
   "codemirror_mode": {
    "name": "ipython",
    "version": 3
   },
   "file_extension": ".py",
   "mimetype": "text/x-python",
   "name": "python",
   "nbconvert_exporter": "python",
   "pygments_lexer": "ipython3",
   "version": "3.7.9-final"
  },
  "toc": {
   "base_numbering": 1,
   "nav_menu": {},
   "number_sections": false,
   "sideBar": true,
   "skip_h1_title": false,
   "title_cell": "Table of Contents",
   "title_sidebar": "Contents",
   "toc_cell": false,
   "toc_position": {},
   "toc_section_display": true,
   "toc_window_display": false
  },
  "varInspector": {
   "cols": {
    "lenName": 16,
    "lenType": 16,
    "lenVar": 40
   },
   "kernels_config": {
    "python": {
     "delete_cmd_postfix": "",
     "delete_cmd_prefix": "del ",
     "library": "var_list.py",
     "varRefreshCmd": "print(var_dic_list())"
    },
    "r": {
     "delete_cmd_postfix": ") ",
     "delete_cmd_prefix": "rm(",
     "library": "var_list.r",
     "varRefreshCmd": "cat(var_dic_list()) "
    }
   },
   "types_to_exclude": [
    "module",
    "function",
    "builtin_function_or_method",
    "instance",
    "_Feature"
   ],
   "window_display": false
  },
  "widgets": {
   "application/vnd.jupyter.widget-state+json": {
    "state": {},
    "version_major": 2,
    "version_minor": 0
   }
  }
 },
 "nbformat": 4,
 "nbformat_minor": 4
}